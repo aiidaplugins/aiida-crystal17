{
 "cells": [
  {
   "cell_type": "markdown",
   "metadata": {},
   "source": [
    "# Main Calculation"
   ]
  },
  {
   "cell_type": "markdown",
   "metadata": {},
   "source": [
    "The `crystal17.main` plugin is the core calculation plugin.\n",
    "It is designed with a more programmatic\n",
    "input interface , to create the input ``.d12`` and ``.gui`` files,\n",
    "from a set of AiiDA {py:class}`~aiida.orm.nodes.data.Data` nodes."
   ]
  },
  {
   "cell_type": "markdown",
   "metadata": {},
   "source": [
    ":::{seealso}\n",
    "See {ref}`main_calculation_immigrant` for a method\n",
    "to immigrate existing output/input files as a\n",
    "``crystal17.main`` calculation.\n",
    ":::"
   ]
  },
  {
   "cell_type": "markdown",
   "metadata": {},
   "source": [
    "## Initial Setup"
   ]
  },
  {
   "cell_type": "markdown",
   "metadata": {},
   "source": [
    "To run a computation, first ensure AiiDA is running:"
   ]
  },
  {
   "cell_type": "code",
   "execution_count": 1,
   "metadata": {},
   "outputs": [
    {
     "name": "stdout",
     "output_type": "stream",
     "text": [
      "\u001b[32m ✓ \u001b[0mprofile:     On profile test_profile\u001b[0m\r\n",
      "\u001b[32m ✓ \u001b[0mrepository:  /var/folders/dm/b2qnkb_n3r72slmpxlfmcjvm00lbnd/T/tmpvsllm_zf/test_repo\u001b[0m\r\n",
      "\u001b[32m ✓ \u001b[0mpostgres:    Connected as aiida@localhost:61847\u001b[0m\r\n",
      "\u001b[32m ✓ \u001b[0mrabbitmq:    Connected to amqp://127.0.0.1?heartbeat=600\u001b[0m\r\n",
      "\u001b[32m ✓ \u001b[0mdaemon:      Daemon is running as PID 38435 since 2019-08-12 11:39:10\u001b[0m\r\n"
     ]
    }
   ],
   "source": [
    "!verdi status"
   ]
  },
  {
   "cell_type": "markdown",
   "metadata": {},
   "source": [
    ":::{seealso}\n",
    "AiiDA documentation: {ref}`aiida:intro:get_started`\n",
    ":::"
   ]
  },
  {
   "cell_type": "markdown",
   "metadata": {},
   "source": [
    "If `aiida-crystal17` is installed,\n",
    "the `crystal17.main` computation should be available:"
   ]
  },
  {
   "cell_type": "code",
   "execution_count": 2,
   "metadata": {},
   "outputs": [
    {
     "name": "stdout",
     "output_type": "stream",
     "text": [
      "-\b/\b|\b\\\b-\b/\b\u001b[31m\u001b[1mInputs\u001b[0m\r\n",
      "\u001b[1m      basissets:  required  BasisSetData        Use a node for the basis set of one of the elements in the structure. You h ...\u001b[0m\r\n",
      "\u001b[1m           code:  required  Code                The Code to use for this job.\u001b[0m\r\n",
      "\u001b[1m     parameters:  required  CryInputParamsData  the input parameters to create the .d12 file content.\u001b[0m\r\n",
      "\u001b[1m      structure:  required  StructureData       structure used to construct the input fort.34 (gui) file\u001b[0m\r\n",
      "          kinds:  optional  KindData            additional structure kind specific data (e.g. initial spin)\u001b[0m\r\n",
      "       metadata:  optional                      \u001b[0m\r\n",
      "       symmetry:  optional  SymmetryData        the symmetry of the structure, used to construct the input .gui file (fort. ...\u001b[0m\r\n",
      "      wf_folder:  optional  RemoteData          An optional working directory, of a previously completed calculation, conta ...\u001b[0m\r\n",
      "\u001b[31m\u001b[1mOutputs\u001b[0m\r\n",
      "\u001b[1m  remote_folder:  required  RemoteData          Input files necessary to run the process will be stored in this folder node ...\u001b[0m\r\n",
      "\u001b[1m        results:  required  Dict                the data extracted from the main output file\u001b[0m\r\n",
      "\u001b[1m      retrieved:  required  FolderData          Files that are retrieved by the daemon will be stored in this node. By defa ...\u001b[0m\r\n",
      "   optimisation:  optional  TrajectoryData      atomic configurations, for each optimisation step\u001b[0m\r\n",
      "      structure:  optional  StructureData       the structure output from the calculation\u001b[0m\r\n",
      "       symmetry:  optional  SymmetryData        the symmetry data from the calculation\u001b[0m\r\n",
      "\u001b[31m\u001b[1mExit codes\u001b[0m\r\n",
      "              1:  The process has failed with an unspecified error.\u001b[0m\r\n",
      "              2:  The process failed with legacy failure mode.\u001b[0m\r\n",
      "             10:  The process returned an invalid output.\u001b[0m\r\n",
      "             11:  The process did not register a required output.\u001b[0m\r\n",
      "            200:  The retrieved folder data node could not be accessed.\u001b[0m\r\n",
      "            210:  The main (stdout) output file was not found\u001b[0m\r\n",
      "            211:  The temporary retrieved folder was not found\u001b[0m\r\n",
      "            300:  An error was flagged trying to parse the crystal exec stdout file\u001b[0m\r\n",
      "            301:  An error occurred parsing the 'opta'/'optc' geometry files\u001b[0m\r\n",
      "            302:  The crystal exec stdout file denoted that the run was a testgeom\u001b[0m\r\n",
      "            350:  The input file could not be read by crystal\u001b[0m\r\n",
      "            351:  Crystal could not find the required wavefunction file\u001b[0m\r\n",
      "            400:  The calculation stopped prematurely because it ran out of walltime.\u001b[0m\r\n",
      "            401:  The calculation stopped prematurely because it ran out of memory.\u001b[0m\r\n",
      "            402:  The calculation stopped prematurely because it ran out of virtual memory.\u001b[0m\r\n",
      "            411:  Scf convergence did not finalise (usually due to reaching step limit)\u001b[0m\r\n",
      "            412:  Geometry convergence did not finalise (usually due to reaching step limit)\u001b[0m\r\n",
      "            413:  An error encountered usually during geometry optimisation\u001b[0m\r\n",
      "            414:  An error was encountered during an scf computation\u001b[0m\r\n",
      "            415:  An unknown error was encountered, causing the mpi to abort\u001b[0m\r\n",
      "            499:  The main crystal output file flagged an unhandled error\u001b[0m\r\n",
      "            510:  Inconsistency in the input and output symmetry\u001b[0m\r\n",
      "            520:  Primitive symmops were not found in the output file\u001b[0m\r\n"
     ]
    }
   ],
   "source": [
    "!verdi plugin list aiida.calculations crystal17.main"
   ]
  },
  {
   "cell_type": "markdown",
   "metadata": {},
   "source": [
    "To use the python interface,\n",
    "first ensure a profile is loaded in the python kernel,\n",
    "and import the required modules:"
   ]
  },
  {
   "cell_type": "code",
   "execution_count": 1,
   "metadata": {
    "init_cell": true
   },
   "outputs": [
    {
     "data": {
      "text/plain": [
       "'test_crystal17'"
      ]
     },
     "execution_count": 1,
     "metadata": {},
     "output_type": "execute_result"
    }
   ],
   "source": [
    "from aiida import load_profile\n",
    "profile = load_profile()\n",
    "profile.name"
   ]
  },
  {
   "cell_type": "code",
   "execution_count": 2,
   "metadata": {
    "init_cell": true
   },
   "outputs": [],
   "source": [
    "import os\n",
    "from six import StringIO\n",
    "from aiida.orm import Code\n",
    "from aiida.plugins import (\n",
    "    DataFactory, WorkflowFactory, CalculationFactory)\n",
    "from aiida.engine import run_get_node\n",
    "from aiida_crystal17.common import display_json\n",
    "from aiida_crystal17.tests import read_resource_text, resource_context\n",
    "from aiida.tools.visualization import Graph\n",
    "from jsonextended import edict"
   ]
  },
  {
   "cell_type": "markdown",
   "metadata": {},
   "source": [
    "## Input Node Creation"
   ]
  },
  {
   "cell_type": "markdown",
   "metadata": {},
   "source": [
    ":::{seealso}\n",
    "[CRYSTAL17 Manual](http://www.crystal.unito.it/Manuals/crystal17.pdf)\n",
    ":::"
   ]
  },
  {
   "cell_type": "markdown",
   "metadata": {},
   "source": [
    "### Code"
   ]
  },
  {
   "cell_type": "markdown",
   "metadata": {},
   "source": [
    ":::{seealso}\n",
    "AiiDA documentation: {ref}`aiida:how-to:run-codes`\n",
    ":::"
   ]
  },
  {
   "cell_type": "markdown",
   "metadata": {},
   "source": [
    "An {py:class}`~aiida.orm.nodes.data.code.Code` node should be set up in advance,\n",
    "to use the `crystal17.basic` calculation plugin,\n",
    "and call the ``runcry17`` executable\n",
    "(or ``mock_runcry17`` used here for test purposes)."
   ]
  },
  {
   "cell_type": "code",
   "execution_count": 5,
   "metadata": {},
   "outputs": [
    {
     "data": {
      "text/plain": [
       "[['PK', 1],\n",
       " ['UUID', 'a2241a9c-deac-4960-9812-088666800dee'],\n",
       " ['Label', 'crystal17.main-mock_crystal17@localhost'],\n",
       " ['Description', ''],\n",
       " ['Default plugin', 'crystal17.main'],\n",
       " ['Type', 'remote'],\n",
       " ['Remote machine', 'localhost'],\n",
       " ['Remote absolute path',\n",
       "  '//anaconda/envs/aiida_crystal17/bin/mock_crystal17'],\n",
       " ['Prepend text', 'No prepend text'],\n",
       " ['Append text', 'No append text']]"
      ]
     },
     "execution_count": 5,
     "metadata": {},
     "output_type": "execute_result"
    }
   ],
   "source": [
    "from aiida_crystal17.tests.utils import get_or_create_local_computer, get_or_create_code\n",
    "computer = get_or_create_local_computer('work_directory', 'localhost')\n",
    "code = get_or_create_code('crystal17.main', computer, 'mock_crystal17')\n",
    "code.get_full_text_info()"
   ]
  },
  {
   "cell_type": "markdown",
   "metadata": {},
   "source": [
    "### Input Parameters (Geometry Independent)"
   ]
  },
  {
   "cell_type": "markdown",
   "metadata": {},
   "source": [
    "The {py:class}`~aiida_crystal17.data.input_params.CryInputParamsData`\n",
    "supplies (geometry independent) data required to create the `input.d12` file."
   ]
  },
  {
   "cell_type": "code",
   "execution_count": 6,
   "metadata": {},
   "outputs": [
    {
     "data": {
      "text/plain": [
       "<CryInputParamsData: uuid: 626c1897-3632-4eec-b375-b3a3875317c8 (unstored)>"
      ]
     },
     "execution_count": 6,
     "metadata": {},
     "output_type": "execute_result"
    }
   ],
   "source": [
    "param_dict = {\"scf\":{\"k_points\": (8, 8)}}\n",
    "params = DataFactory('crystal17.parameters')(data=param_dict)\n",
    "params"
   ]
  },
  {
   "cell_type": "markdown",
   "metadata": {},
   "source": [
    "The input data is validated against the {ref}`cry_main_input_schema`,\n",
    "which can also be obtained from the `data_schema` attribute.\n",
    "\n",
    ":::{note}\n",
    "The only mandated key is ``scf.k_points`` (known as ``SHRINK`` in CRYSTAL17)\n",
    ":::"
   ]
  },
  {
   "cell_type": "code",
   "execution_count": 7,
   "metadata": {},
   "outputs": [
    {
     "name": "stdout",
     "output_type": "stream",
     "text": [
      "\u001b[34m$schema\u001b[0m:     http://json-schema.org/draft-04/schema#\n",
      "\u001b[34madditionalProperties\u001b[0m: False\n",
      "\u001b[34mdescription\u001b[0m: Allowed Inputs For CRYSTAL17 .d12 file\n",
      "\u001b[34mproperties\u001b[0m:\n",
      "  \u001b[34mbasis_set\u001b[0m:\n",
      "    \u001b[34madditionalProperties\u001b[0m: False\n",
      "    \u001b[34mdescription\u001b[0m: Basis sets input and control\n",
      "    \u001b[34mproperties\u001b[0m:  {...}\n",
      "    \u001b[34mtitle\u001b[0m:       Block 2\n",
      "    \u001b[34mtype\u001b[0m:        object\n",
      "  \u001b[34mgeometry\u001b[0m:\n",
      "    \u001b[34madditionalProperties\u001b[0m: False\n",
      "    \u001b[34mdescription\u001b[0m: Geometry input, manipulation and optimisation control\n",
      "    \u001b[34mproperties\u001b[0m:  {...}\n",
      "    \u001b[34mtitle\u001b[0m:       Block 1\n",
      "    \u001b[34mtype\u001b[0m:        object\n",
      "  \u001b[34mscf\u001b[0m:\n",
      "    \u001b[34madditionalProperties\u001b[0m: False\n",
      "    \u001b[34mdependencies\u001b[0m: {...}\n",
      "    \u001b[34mdescription\u001b[0m: Single particle Hamiltonian and SCF control\n",
      "    \u001b[34mproperties\u001b[0m:  {...}\n",
      "    \u001b[34mrequired\u001b[0m:    [k_points]\n",
      "    \u001b[34mtitle\u001b[0m:       Block 3\n",
      "    \u001b[34mtype\u001b[0m:        object\n",
      "  \u001b[34mtitle\u001b[0m:\n",
      "    \u001b[34mdescription\u001b[0m: the title of the run\n",
      "    \u001b[34mtype\u001b[0m: string\n",
      "\u001b[34mrequired\u001b[0m:    [scf]\n",
      "\u001b[34mtitle\u001b[0m:       CRYSTAL17 Input\n",
      "\u001b[34mtype\u001b[0m:        object\n"
     ]
    }
   ],
   "source": [
    "param_cls = DataFactory('crystal17.parameters')\n",
    "edict.pprint(params.data_schema, keycolor=\"blue\")"
   ]
  },
  {
   "cell_type": "code",
   "execution_count": 8,
   "metadata": {
    "tags": [
     "raises-exception"
    ]
   },
   "outputs": [
    {
     "ename": "ValidationError",
     "evalue": "- 'k_points' is a required property [key path: 'scf']",
     "output_type": "error",
     "traceback": [
      "\u001b[0;31m---------------------------------------------------------------------------\u001b[0m",
      "\u001b[0;31mValidationError\u001b[0m                           Traceback (most recent call last)",
      "\u001b[0;32m<ipython-input-8-4a25c6adca90>\u001b[0m in \u001b[0;36m<module>\u001b[0;34m()\u001b[0m\n\u001b[0;32m----> 1\u001b[0;31m \u001b[0mparams\u001b[0m \u001b[0;34m=\u001b[0m \u001b[0mDataFactory\u001b[0m\u001b[0;34m(\u001b[0m\u001b[0;34m'crystal17.parameters'\u001b[0m\u001b[0;34m)\u001b[0m\u001b[0;34m(\u001b[0m\u001b[0mdata\u001b[0m\u001b[0;34m=\u001b[0m\u001b[0;34m{\u001b[0m\u001b[0;34m\"scf\"\u001b[0m\u001b[0;34m:\u001b[0m \u001b[0;34m{\u001b[0m\u001b[0;34m}\u001b[0m\u001b[0;34m}\u001b[0m\u001b[0;34m)\u001b[0m\u001b[0;34m\u001b[0m\u001b[0;34m\u001b[0m\u001b[0m\n\u001b[0m",
      "\u001b[0;32m/Users/cjs14/GitHub/aiida-crystal17/aiida_crystal17/data/input_params.py\u001b[0m in \u001b[0;36m__init__\u001b[0;34m(self, data, unflatten, **kwargs)\u001b[0m\n\u001b[1;32m     61\u001b[0m             \u001b[0;32mif\u001b[0m \u001b[0munflatten\u001b[0m\u001b[0;34m:\u001b[0m\u001b[0;34m\u001b[0m\u001b[0;34m\u001b[0m\u001b[0m\n\u001b[1;32m     62\u001b[0m                 \u001b[0mdata\u001b[0m \u001b[0;34m=\u001b[0m \u001b[0munflatten_dict\u001b[0m\u001b[0;34m(\u001b[0m\u001b[0mdata\u001b[0m\u001b[0;34m)\u001b[0m\u001b[0;34m\u001b[0m\u001b[0;34m\u001b[0m\u001b[0m\n\u001b[0;32m---> 63\u001b[0;31m             \u001b[0mself\u001b[0m\u001b[0;34m.\u001b[0m\u001b[0mset_data\u001b[0m\u001b[0;34m(\u001b[0m\u001b[0mdata\u001b[0m\u001b[0;34m)\u001b[0m\u001b[0;34m\u001b[0m\u001b[0;34m\u001b[0m\u001b[0m\n\u001b[0m\u001b[1;32m     64\u001b[0m \u001b[0;34m\u001b[0m\u001b[0m\n\u001b[1;32m     65\u001b[0m     \u001b[0;32mdef\u001b[0m \u001b[0m_validate\u001b[0m\u001b[0;34m(\u001b[0m\u001b[0mself\u001b[0m\u001b[0;34m)\u001b[0m\u001b[0;34m:\u001b[0m\u001b[0;34m\u001b[0m\u001b[0;34m\u001b[0m\u001b[0m\n",
      "\u001b[0;32m/Users/cjs14/GitHub/aiida-crystal17/aiida_crystal17/data/input_params.py\u001b[0m in \u001b[0;36mset_data\u001b[0;34m(self, data)\u001b[0m\n\u001b[1;32m     79\u001b[0m \u001b[0;34m\u001b[0m\u001b[0m\n\u001b[1;32m     80\u001b[0m         \u001b[0;31m# first validate the inputs\u001b[0m\u001b[0;34m\u001b[0m\u001b[0;34m\u001b[0m\u001b[0;34m\u001b[0m\u001b[0m\n\u001b[0;32m---> 81\u001b[0;31m         \u001b[0mself\u001b[0m\u001b[0;34m.\u001b[0m\u001b[0mvalidate_parameters\u001b[0m\u001b[0;34m(\u001b[0m\u001b[0mdata\u001b[0m\u001b[0;34m)\u001b[0m\u001b[0;34m\u001b[0m\u001b[0;34m\u001b[0m\u001b[0m\n\u001b[0m\u001b[1;32m     82\u001b[0m \u001b[0;34m\u001b[0m\u001b[0m\n\u001b[1;32m     83\u001b[0m         \u001b[0;31m# store all but the symmetry operations as attributes\u001b[0m\u001b[0;34m\u001b[0m\u001b[0;34m\u001b[0m\u001b[0;34m\u001b[0m\u001b[0m\n",
      "\u001b[0;32m/Users/cjs14/GitHub/aiida-crystal17/aiida_crystal17/data/input_params.py\u001b[0m in \u001b[0;36mvalidate_parameters\u001b[0;34m(cls, dct)\u001b[0m\n\u001b[1;32m     44\u001b[0m \u001b[0;34m\u001b[0m\u001b[0m\n\u001b[1;32m     45\u001b[0m         \"\"\"\n\u001b[0;32m---> 46\u001b[0;31m         \u001b[0mvalidate_against_schema\u001b[0m\u001b[0;34m(\u001b[0m\u001b[0mdct\u001b[0m\u001b[0;34m,\u001b[0m \u001b[0mcls\u001b[0m\u001b[0;34m.\u001b[0m\u001b[0mdata_schema\u001b[0m\u001b[0;34m)\u001b[0m\u001b[0;34m\u001b[0m\u001b[0;34m\u001b[0m\u001b[0m\n\u001b[0m\u001b[1;32m     47\u001b[0m \u001b[0;34m\u001b[0m\u001b[0m\n\u001b[1;32m     48\u001b[0m     \u001b[0;32mdef\u001b[0m \u001b[0m__init__\u001b[0m\u001b[0;34m(\u001b[0m\u001b[0mself\u001b[0m\u001b[0;34m,\u001b[0m \u001b[0mdata\u001b[0m\u001b[0;34m=\u001b[0m\u001b[0;32mNone\u001b[0m\u001b[0;34m,\u001b[0m \u001b[0munflatten\u001b[0m\u001b[0;34m=\u001b[0m\u001b[0;32mFalse\u001b[0m\u001b[0;34m,\u001b[0m \u001b[0;34m**\u001b[0m\u001b[0mkwargs\u001b[0m\u001b[0;34m)\u001b[0m\u001b[0;34m:\u001b[0m\u001b[0;34m\u001b[0m\u001b[0;34m\u001b[0m\u001b[0m\n",
      "\u001b[0;32m/Users/cjs14/GitHub/aiida-crystal17/aiida_crystal17/validation/utils.py\u001b[0m in \u001b[0;36mvalidate_against_schema\u001b[0;34m(data, schema)\u001b[0m\n\u001b[1;32m    109\u001b[0m     \u001b[0;32mif\u001b[0m \u001b[0merrors\u001b[0m\u001b[0;34m:\u001b[0m\u001b[0;34m\u001b[0m\u001b[0;34m\u001b[0m\u001b[0m\n\u001b[1;32m    110\u001b[0m         raise jsonschema.ValidationError('\\n'.join([\n\u001b[0;32m--> 111\u001b[0;31m             \u001b[0;34m\"- {} [key path: '{}']\"\u001b[0m\u001b[0;34m.\u001b[0m\u001b[0mformat\u001b[0m\u001b[0;34m(\u001b[0m\u001b[0merror\u001b[0m\u001b[0;34m.\u001b[0m\u001b[0mmessage\u001b[0m\u001b[0;34m,\u001b[0m \u001b[0;34m'/'\u001b[0m\u001b[0;34m.\u001b[0m\u001b[0mjoin\u001b[0m\u001b[0;34m(\u001b[0m\u001b[0;34m[\u001b[0m\u001b[0mstr\u001b[0m\u001b[0;34m(\u001b[0m\u001b[0mp\u001b[0m\u001b[0;34m)\u001b[0m \u001b[0;32mfor\u001b[0m \u001b[0mp\u001b[0m \u001b[0;32min\u001b[0m \u001b[0merror\u001b[0m\u001b[0;34m.\u001b[0m\u001b[0mpath\u001b[0m\u001b[0;34m]\u001b[0m\u001b[0;34m)\u001b[0m\u001b[0;34m)\u001b[0m \u001b[0;32mfor\u001b[0m \u001b[0merror\u001b[0m \u001b[0;32min\u001b[0m \u001b[0merrors\u001b[0m\u001b[0;34m\u001b[0m\u001b[0;34m\u001b[0m\u001b[0m\n\u001b[0m\u001b[1;32m    112\u001b[0m         ]))\n\u001b[1;32m    113\u001b[0m \u001b[0;34m\u001b[0m\u001b[0m\n",
      "\u001b[0;31mValidationError\u001b[0m: - 'k_points' is a required property [key path: 'scf']"
     ]
    }
   ],
   "source": [
    "params = DataFactory('crystal17.parameters')(data={\"scf\": {}})"
   ]
  },
  {
   "cell_type": "markdown",
   "metadata": {},
   "source": [
    "It is also possible to reverse engineer the input data,\n",
    "from an existing input file, using\n",
    "{py:class}`~aiida_crystal17.parsers.raw.inputd12_read.extract_data`,\n",
    "which is also exposed on the command line as `verdi data crystal17.parse stdin`."
   ]
  },
  {
   "cell_type": "code",
   "execution_count": 9,
   "metadata": {},
   "outputs": [
    {
     "data": {
      "text/plain": [
       "{'title': 'MgO bulk',\n",
       " 'geometry': {'optimise': {'type': 'FULLOPTG'}},\n",
       " 'scf': {'dft': {'xc': 'B3LYP', 'SPIN': True},\n",
       "  'k_points': (8, 8),\n",
       "  'fock_mixing': 'ANDERSON',\n",
       "  'numerical': {'SMEAR': 0.1},\n",
       "  'post_scf': ['PPAN']}}"
      ]
     },
     "execution_count": 9,
     "metadata": {},
     "output_type": "execute_result"
    }
   ],
   "source": [
    "from aiida_crystal17.parsers.raw.inputd12_read import extract_data\n",
    "param_dict, basis_sets, atom_props = extract_data(\"\"\"\\\n",
    "MgO bulk\n",
    "EXTERNAL\n",
    "OPTGEOM\n",
    "FULLOPTG\n",
    "END\n",
    "END\n",
    "12 3\n",
    "1 0 3  2.  0.\n",
    "1 1 3  8.  0.\n",
    "1 1 3  2.  0.\n",
    "8 2\n",
    "1 0 3  2.  0.\n",
    "1 1 3  6.  0.\n",
    "99   0\n",
    "END\n",
    "DFT\n",
    "B3LYP\n",
    "SPIN\n",
    "END\n",
    "SHRINK\n",
    "8 8\n",
    "ANDERSON\n",
    "SMEAR\n",
    "0.1\n",
    "ATOMSPIN\n",
    "2\n",
    "1 1 2 -1\n",
    "PPAN\n",
    "END\n",
    "\"\"\")\n",
    "param_dict"
   ]
  },
  {
   "cell_type": "code",
   "execution_count": 10,
   "metadata": {},
   "outputs": [
    {
     "name": "stdout",
     "output_type": "stream",
     "text": [
      "MgO bulk\n",
      "EXTERNAL\n",
      "OPTGEOM\n",
      "FULLOPTG\n",
      "ENDOPT\n",
      "END\n",
      "12 3\n",
      "1 0 3  2.  0.\n",
      "1 1 3  8.  0.\n",
      "1 1 3  2.  0.\n",
      "8 2\n",
      "1 0 3  2.  0.\n",
      "1 1 3  6.  0.\n",
      "99 0\n",
      "END\n",
      "DFT\n",
      "B3LYP\n",
      "SPIN\n",
      "END\n",
      "SHRINK\n",
      "8 8\n",
      "ATOMSPIN\n",
      "2\n",
      "1 1\n",
      "2 -1\n",
      "SMEAR\n",
      "0.1\n",
      "ANDERSON\n",
      "PPAN\n",
      "END\n",
      "\n"
     ]
    }
   ],
   "source": [
    "from aiida_crystal17.parsers.raw.inputd12_write import write_input\n",
    "print(write_input(param_dict, basis_sets, atom_props))"
   ]
  },
  {
   "cell_type": "markdown",
   "metadata": {},
   "source": [
    "### Atomic Structure"
   ]
  },
  {
   "cell_type": "markdown",
   "metadata": {},
   "source": [
    "The ``structure`` refers to a standard\n",
    "{py:class}`~aiida.StructureData` node, and is used to create the `main.gui`.\n",
    "\n",
    "Structures consist of:\n",
    "\n",
    "- A cell with a basis vectors and whether it is periodic, for each dimension\n",
    "- ``Site`` with a cartesian coordinate and reference to a kind\n",
    "- ``Kind`` which details the species and composition at one or more sites\n",
    "\n",
    "The simplest way to create a structure is *via* {py:mod}`ase`:"
   ]
  },
  {
   "cell_type": "code",
   "execution_count": 11,
   "metadata": {},
   "outputs": [
    {
     "data": {
      "text/plain": [
       "<StructureData: uuid: e66d91f2-577a-4ec5-a453-d3ae698300d5 (unstored)>"
      ]
     },
     "execution_count": 11,
     "metadata": {},
     "output_type": "execute_result"
    }
   ],
   "source": [
    "from ase.spacegroup import crystal\n",
    "atoms = crystal(\n",
    "    symbols=[12, 8],\n",
    "    basis=[[0, 0, 0], [0.5, 0.5, 0.5]],\n",
    "    spacegroup=225,\n",
    "    cellpar=[4.21, 4.21, 4.21, 90, 90, 90])\n",
    "struct_cls = DataFactory('structure')\n",
    "structure = struct_cls(ase=atoms)\n",
    "structure"
   ]
  },
  {
   "cell_type": "markdown",
   "metadata": {},
   "source": [
    "These structures can be visualised using standard ASE methods."
   ]
  },
  {
   "cell_type": "code",
   "execution_count": 12,
   "metadata": {
    "ipub": {
     "figure": {
      "caption": "Structure visualisation, using ASE and Matplotlib."
     }
    }
   },
   "outputs": [
    {
     "data": {
      "image/png": "[encoded data removed]",
      "text/plain": [
       "<Figure size 432x288 with 1 Axes>"
      ]
     },
     "metadata": {
      "needs_background": "light"
     },
     "output_type": "display_data"
    }
   ],
   "source": [
    "%matplotlib inline\n",
    "import matplotlib.pyplot as plt\n",
    "from ase.visualize.plot import plot_atoms\n",
    "atoms = structure.get_ase()\n",
    "fig, ax = plt.subplots()\n",
    "plot_atoms(atoms.repeat((2,2,2)),\n",
    "           ax, radii=0.8, show_unit_cell=True,\n",
    "           rotation=('45x,0y,0z'));"
   ]
  },
  {
   "cell_type": "markdown",
   "metadata": {},
   "source": [
    "As default, one kind is created per atomic species\n",
    "(named as the atomic symbol):"
   ]
  },
  {
   "cell_type": "code",
   "execution_count": 13,
   "metadata": {},
   "outputs": [
    {
     "data": {
      "text/plain": [
       "['Mg', 'Mg', 'Mg', 'Mg', 'O1', 'O1', 'O1', 'O1']"
      ]
     },
     "execution_count": 13,
     "metadata": {},
     "output_type": "execute_result"
    }
   ],
   "source": [
    "structure.get_site_kindnames()"
   ]
  },
  {
   "cell_type": "markdown",
   "metadata": {},
   "source": [
    "However, we may want to specify more than one kind per species\n",
    "(for example to setup anti-ferromagnetic spin).\n",
    "We can achieve this by tagging the atoms:"
   ]
  },
  {
   "cell_type": "code",
   "execution_count": 14,
   "metadata": {},
   "outputs": [
    {
     "data": {
      "text/plain": [
       "['Mg1', 'Mg1', 'Mg2', 'Mg2', 'O', 'O', 'O', 'O']"
      ]
     },
     "execution_count": 14,
     "metadata": {},
     "output_type": "execute_result"
    }
   ],
   "source": [
    "atoms_afm = atoms.copy()\n",
    "atoms_afm.set_tags([1, 1, 2, 2, 0, 0, 0, 0])\n",
    "structure_afm = struct_cls(ase=atoms_afm)\n",
    "structure_afm.get_site_kindnames()"
   ]
  },
  {
   "cell_type": "markdown",
   "metadata": {},
   "source": [
    ":::{note}\n",
    "Since we **always** use the ``EXTERNAL`` keyword for geometry,\n",
    "any manipulation to the geometry is undertaken before calling CRYSTAL\n",
    "(i.e. we delegate the responsibility for geometry away from CRYSTAL).\n",
    ":::"
   ]
  },
  {
   "cell_type": "markdown",
   "metadata": {},
   "source": [
    "### Kind Specific Parameters"
   ]
  },
  {
   "cell_type": "markdown",
   "metadata": {},
   "source": [
    "Also, we may want to add atom specific inputs to the ``.d12``,\n",
    "such as initial spin and frozen atoms (for optimisation)."
   ]
  },
  {
   "cell_type": "code",
   "execution_count": 15,
   "metadata": {},
   "outputs": [
    {
     "data": {
      "text/markdown": [
       "```json\n",
       "{\n",
       "  \"Mg1\": {\n",
       "    \"spin_alpha\": true,\n",
       "    \"spin_beta\": false,\n",
       "    \"fixed\": false,\n",
       "    \"ghosts\": false\n",
       "  },\n",
       "  \"Mg2\": {\n",
       "    \"spin_alpha\": false,\n",
       "    \"spin_beta\": true,\n",
       "    \"fixed\": false,\n",
       "    \"ghosts\": false\n",
       "  },\n",
       "  \"O\": {\n",
       "    \"spin_alpha\": false,\n",
       "    \"spin_beta\": false,\n",
       "    \"fixed\": true,\n",
       "    \"ghosts\": false\n",
       "  }\n",
       "}\n",
       "```"
      ]
     },
     "metadata": {},
     "output_type": "display_data"
    }
   ],
   "source": [
    "kind_cls = DataFactory(\"crystal17.kinds\")\n",
    "kind_data = kind_cls(data={\n",
    "    \"kind_names\": [\"Mg1\", \"Mg2\", \"O\"],\n",
    "    \"spin_alpha\": [True, False, False],\n",
    "    \"spin_beta\": [False, True, False],\n",
    "    \"fixed\": [False, False, True],\n",
    "    \"ghosts\": [False, False, False]\n",
    "})\n",
    "display_json(kind_data.kind_dict)"
   ]
  },
  {
   "cell_type": "code",
   "execution_count": 16,
   "metadata": {},
   "outputs": [
    {
     "data": {
      "text/plain": [
       "{'spin_alpha': [1, 2],\n",
       " 'spin_beta': [3, 4],\n",
       " 'unfixed': [1, 2, 3, 4],\n",
       " 'ghosts': []}"
      ]
     },
     "execution_count": 16,
     "metadata": {},
     "output_type": "execute_result"
    }
   ],
   "source": [
    "from aiida_crystal17.parsers.raw.inputd12_write import create_atom_properties\n",
    "atom_props2 = create_atom_properties(structure_afm, kind_data)\n",
    "atom_props2"
   ]
  },
  {
   "cell_type": "code",
   "execution_count": 17,
   "metadata": {},
   "outputs": [
    {
     "name": "stdout",
     "output_type": "stream",
     "text": [
      "MgO bulk\n",
      "EXTERNAL\n",
      "OPTGEOM\n",
      "FULLOPTG\n",
      "FRAGMENT\n",
      "4\n",
      "1 2 3 4\n",
      "ENDOPT\n",
      "END\n",
      "12 3\n",
      "1 0 3  2.  0.\n",
      "1 1 3  8.  0.\n",
      "1 1 3  2.  0.\n",
      "8 2\n",
      "1 0 3  2.  0.\n",
      "1 1 3  6.  0.\n",
      "99 0\n",
      "END\n",
      "DFT\n",
      "B3LYP\n",
      "SPIN\n",
      "END\n",
      "SHRINK\n",
      "8 8\n",
      "ATOMSPIN\n",
      "4\n",
      "1 1\n",
      "2 1\n",
      "3 -1\n",
      "4 -1\n",
      "SMEAR\n",
      "0.1\n",
      "ANDERSON\n",
      "PPAN\n",
      "END\n",
      "\n"
     ]
    }
   ],
   "source": [
    "print(write_input(param_dict, basis_sets, atom_props2))"
   ]
  },
  {
   "cell_type": "markdown",
   "metadata": {},
   "source": [
    "### Basis Sets"
   ]
  },
  {
   "cell_type": "markdown",
   "metadata": {},
   "source": [
    "Basis sets are stored as separate\n",
    "{py:class}`~aiida_crystal17.data.basis_set.BasisSetData` nodes,\n",
    "in a similar fashion to {py:class}`~aiida.orm.nodes.data.upf.UpfData`.\n",
    "They are created individually from a text file,\n",
    "which contains the content of the basis set\n",
    "and (optionally) a YAML style header section, fenced by ``---``:"
   ]
  },
  {
   "cell_type": "code",
   "execution_count": 18,
   "metadata": {},
   "outputs": [
    {
     "name": "stdout",
     "output_type": "stream",
     "text": [
      "---\n",
      "author: John Smith\n",
      "year: 1999\n",
      "class: sto3g\n",
      "---\n",
      "12 3\n",
      "1 0 3  2.  0.\n",
      "1 1 3  8.  0.\n",
      "1 1 3  2.  0.\n"
     ]
    }
   ],
   "source": [
    "mg_basis_content = read_resource_text('basis_sets', 'sto3g', 'sto3g_Mg.basis')\n",
    "print(mg_basis_content)"
   ]
  },
  {
   "cell_type": "markdown",
   "metadata": {},
   "source": [
    "The attributes of the basis set are stored in the database,\n",
    "and the md5 hash-sum is used to test equivalence of two basis sets."
   ]
  },
  {
   "cell_type": "code",
   "execution_count": 19,
   "metadata": {},
   "outputs": [
    {
     "data": {
      "text/markdown": [
       "```json\n",
       "{\n",
       "  \"md5\": \"0731ecc3339d2b8736e61add113d0c6f\",\n",
       "  \"year\": 1999,\n",
       "  \"class\": \"sto3g\",\n",
       "  \"author\": \"John Smith\",\n",
       "  \"element\": \"Mg\",\n",
       "  \"filename\": \"stringio.txt\",\n",
       "  \"basis_type\": \"all-electron\",\n",
       "  \"num_shells\": 3,\n",
       "  \"atomic_number\": 12,\n",
       "  \"orbital_types\": [\n",
       "    \"S\",\n",
       "    \"SP\",\n",
       "    \"SP\"\n",
       "  ]\n",
       "}\n",
       "```"
      ]
     },
     "metadata": {},
     "output_type": "display_data"
    },
    {
     "data": {
      "text/plain": [
       "'12 3\\n1 0 3  2.  0.\\n1 1 3  8.  0.\\n1 1 3  2.  0.'"
      ]
     },
     "execution_count": 19,
     "metadata": {},
     "output_type": "execute_result"
    }
   ],
   "source": [
    "basis_cls = DataFactory('crystal17.basisset')\n",
    "mg_basis, created = basis_cls.get_or_create(StringIO(mg_basis_content))\n",
    "display_json(mg_basis.attributes)\n",
    "mg_basis.content"
   ]
  },
  {
   "cell_type": "markdown",
   "metadata": {},
   "source": [
    "A simpler way to create and refer to basis sets, is *via* a **family group**.\n",
    "All basis sets in a folder can be read and saved to a named family by:"
   ]
  },
  {
   "cell_type": "code",
   "execution_count": 20,
   "metadata": {},
   "outputs": [
    {
     "data": {
      "text/plain": [
       "{'Mg': <BasisSetData: uuid: 5f28ddd8-b55d-4724-82fb-fb884010cd39 (pk: 2)>,\n",
       " 'Ni': <BasisSetData: uuid: dbf86b0d-0f68-4733-930f-ea48d8f2946d (pk: 3)>,\n",
       " 'O': <BasisSetData: uuid: 93a07f42-b17c-42ab-a7b8-620b6ccd9a39 (pk: 4)>}"
      ]
     },
     "execution_count": 20,
     "metadata": {},
     "output_type": "execute_result"
    }
   ],
   "source": [
    "with resource_context('basis_sets', 'sto3g') as path:\n",
    "   nfiles, nuploaded = basis_cls.upload_basisset_family(\n",
    "                           path,\n",
    "                           \"sto3g\", \"group of sto3g basis sets\",\n",
    "                           extension=\".basis\", stop_if_existing=False)\n",
    "basis_cls.get_basis_group_map(\"sto3g\")"
   ]
  },
  {
   "cell_type": "markdown",
   "metadata": {},
   "source": [
    "or at the command line:"
   ]
  },
  {
   "cell_type": "code",
   "execution_count": 21,
   "metadata": {},
   "outputs": [
    {
     "name": "stdout",
     "output_type": "stream",
     "text": [
      "Usage: verdi data crystal17.basis uploadfamily [OPTIONS]\r\n",
      "\r\n",
      "  Upload a family of CRYSTAL Basis Set files.\r\n",
      "\r\n",
      "Options:\r\n",
      "  --path PATH                    Path to a folder containing the Basis Set\r\n",
      "                                 files\r\n",
      "  --ext TEXT                     the file extension to filter by\r\n",
      "  --name TEXT                    Name of the BasisSet family  [required]\r\n",
      "  -D, --description DESCRIPTION  A description for the family\r\n",
      "  --stop-if-existing             Abort when encountering a previously uploaded\r\n",
      "                                 Basis Set file\r\n",
      "  --dry-run                      do not commit to database or modify\r\n",
      "                                 configuration files\r\n",
      "  -h, --help                     Show this message and exit.\r\n"
     ]
    }
   ],
   "source": [
    "!verdi data crystal17.basis uploadfamily --help"
   ]
  },
  {
   "cell_type": "code",
   "execution_count": 22,
   "metadata": {},
   "outputs": [
    {
     "name": "stdout",
     "output_type": "stream",
     "text": [
      "-\b/\b|\b\\\b-\b/\bFamily      Num Basis Sets\r\n",
      "--------  ----------------\r\n",
      "sto3g                    3\r\n",
      "\r\n"
     ]
    }
   ],
   "source": [
    "!verdi data crystal17.basis listfamilies"
   ]
  },
  {
   "cell_type": "markdown",
   "metadata": {},
   "source": [
    "Basis families can be searched by the elements they contain:"
   ]
  },
  {
   "cell_type": "code",
   "execution_count": 23,
   "metadata": {},
   "outputs": [
    {
     "data": {
      "text/plain": [
       "[<Group: \"sto3g\" [type crystal17.basisset], of user test@aiida.mail>]"
      ]
     },
     "execution_count": 23,
     "metadata": {},
     "output_type": "execute_result"
    }
   ],
   "source": [
    "basis_cls.get_basis_groups([\"Ni\", \"O\"])"
   ]
  },
  {
   "cell_type": "markdown",
   "metadata": {},
   "source": [
    "Basis sets can also be extracted for a particular structure."
   ]
  },
  {
   "cell_type": "code",
   "execution_count": 24,
   "metadata": {},
   "outputs": [
    {
     "data": {
      "text/plain": [
       "{'Mg': <BasisSetData: uuid: 5f28ddd8-b55d-4724-82fb-fb884010cd39 (pk: 2)>,\n",
       " 'O': <BasisSetData: uuid: 93a07f42-b17c-42ab-a7b8-620b6ccd9a39 (pk: 4)>}"
      ]
     },
     "execution_count": 24,
     "metadata": {},
     "output_type": "execute_result"
    }
   ],
   "source": [
    "basis_cls.get_basissets_from_structure(structure, \"sto3g\")"
   ]
  },
  {
   "cell_type": "markdown",
   "metadata": {},
   "source": [
    ":::{important}\n",
    "Unlike `aiida-quantumespresso.pw`,\n",
    "``crystal17.main`` uses one basis sets per atomic number only **NOT** per kind.\n",
    "This is because, using multiple basis sets per atomic number is rarely used in CRYSTAL17,\n",
    "and is limited anyway to only two types per atomic number.\n",
    ":::"
   ]
  },
  {
   "cell_type": "markdown",
   "metadata": {},
   "source": [
    "### Symmetry"
   ]
  },
  {
   "cell_type": "markdown",
   "metadata": {},
   "source": [
    "In the ``main.gui`` file,\n",
    "as well as using the dimensionality (i.e. periodic boundary conditions),\n",
    "basis vectors and atomic positions, provided by the ``structure``,\n",
    "we also need to specify the atomic symmetry of the structure.\n",
    "\n",
    "{py:class}`~aiida_crystal17.data.symmetry.SymmetryData` is used to store this data, as a validated dictionary.\n",
    "\n",
    ":::{note}\n",
    "The ``operations`` are given as a flattened version of the rotation matrix,\n",
    "followed by the translation vector.\n",
    ":::"
   ]
  },
  {
   "cell_type": "code",
   "execution_count": 25,
   "metadata": {},
   "outputs": [
    {
     "name": "stdout",
     "output_type": "stream",
     "text": [
      "\u001b[34m$schema\u001b[0m:     http://json-schema.org/draft-07/schema\n",
      "\u001b[34madditionalProperties\u001b[0m: True\n",
      "\u001b[34mproperties\u001b[0m:\n",
      "  \u001b[34mbasis\u001b[0m:\n",
      "    \u001b[34mdescription\u001b[0m: whether the symmetry operations are fractional or cartesian\n",
      "    \u001b[34menum\u001b[0m: [fractional, cartesian]\n",
      "    \u001b[34mtype\u001b[0m: string\n",
      "  \u001b[34mcomputation\u001b[0m:\n",
      "    \u001b[34mdescription\u001b[0m: details of the computation\n",
      "    \u001b[34mtype\u001b[0m: object\n",
      "  \u001b[34mequivalent_sites\u001b[0m:\n",
      "    \u001b[34mdescription\u001b[0m: mapping table to equivalent atomic sites\n",
      "    \u001b[34mitems\u001b[0m: {...}\n",
      "    \u001b[34mtype\u001b[0m: array\n",
      "  \u001b[34mhall_number\u001b[0m:\n",
      "    \u001b[34mdescription\u001b[0m: Hall number defining the symmetry group\n",
      "    \u001b[34mmaximum\u001b[0m: 530\n",
      "    \u001b[34mminimum\u001b[0m: 1\n",
      "    \u001b[34mtype\u001b[0m: [null, integer]\n",
      "  \u001b[34moperations\u001b[0m:\n",
      "    \u001b[34mdescription\u001b[0m: symmetry operations, should at least include the unity\n",
      "                 operation\n",
      "    \u001b[34mitems\u001b[0m: {...}\n",
      "    \u001b[34mminItems\u001b[0m: 1\n",
      "    \u001b[34mtype\u001b[0m: array\n",
      "    \u001b[34muniqueItems\u001b[0m: True\n",
      "\u001b[34mrequired\u001b[0m:    [hall_number, operations, basis]\n",
      "\u001b[34mtitle\u001b[0m:       structure symmetry settings\n",
      "\u001b[34mtype\u001b[0m:        object\n"
     ]
    }
   ],
   "source": [
    "symmetry_cls = DataFactory(\"crystal17.symmetry\")\n",
    "edict.pprint(symmetry_cls.data_schema, keycolor=\"blue\")"
   ]
  },
  {
   "cell_type": "markdown",
   "metadata": {},
   "source": [
    "The simplest symmetry would be the unitary operator."
   ]
  },
  {
   "cell_type": "code",
   "execution_count": 26,
   "metadata": {},
   "outputs": [
    {
     "data": {
      "text/plain": [
       "{'hall_number': 1, 'basis': 'fractional', 'num_symops': 1}"
      ]
     },
     "execution_count": 26,
     "metadata": {},
     "output_type": "execute_result"
    }
   ],
   "source": [
    "symmetry = symmetry_cls(data={\n",
    "    \"hall_number\": 1,\n",
    "    \"basis\": \"fractional\",\n",
    "    \"operations\": [\n",
    "        [1,0,0,0,1,0,0,0,1,0,0,0]\n",
    "    ]\n",
    "})\n",
    "symmetry.attributes"
   ]
  },
  {
   "cell_type": "markdown",
   "metadata": {},
   "source": [
    "The full symmetry operations of a periodic structure,\n",
    "can be computed using the `crystal17.sym3d` workflow.\n",
    "This uses the `spglib <https://atztogo.github.io/spglib/>`_ library\n",
    "to compute symmetries, but with the added constraint that sites\n",
    "with the same ``Kind`` must be symmetrically equivalent."
   ]
  },
  {
   "cell_type": "code",
   "execution_count": 27,
   "metadata": {},
   "outputs": [
    {
     "name": "stdout",
     "output_type": "stream",
     "text": [
      "-\b/\b|\b\\\b-\b/\b\u001b[31m\u001b[1mInputs\u001b[0m\r\n",
      "\u001b[1m   settings:  required  Dict           \u001b[0m\r\n",
      "        cif:  optional  CifData        \u001b[0m\r\n",
      "   metadata:  optional                 \u001b[0m\r\n",
      "  structure:  optional  StructureData  \u001b[0m\r\n",
      "\u001b[31m\u001b[1mOutputs\u001b[0m\r\n",
      "\u001b[1m   symmetry:  required  SymmetryData   \u001b[0m\r\n",
      "  structure:  optional  StructureData  \u001b[0m\r\n",
      "\u001b[31m\u001b[1mExit codes\u001b[0m\r\n",
      "          1:  The process has failed with an unspecified error.\u001b[0m\r\n",
      "          2:  The process failed with legacy failure mode.\u001b[0m\r\n",
      "         10:  The process returned an invalid output.\u001b[0m\r\n",
      "         11:  The process did not register a required output.\u001b[0m\r\n",
      "        300:  One of either a structure or cif input must be supplied\u001b[0m\r\n",
      "        301:  The supplied structure must be 3d (i.e. have all dimensions pbc=true)\"\u001b[0m\r\n",
      "        302:  Idealize can only be used when standardize=true\u001b[0m\r\n",
      "        303:  The kind names supplied are not compatible with the structure\u001b[0m\r\n",
      "        304:  Error creating new structure\u001b[0m\r\n",
      "        305:  Error computing symmetry operations\u001b[0m\r\n"
     ]
    }
   ],
   "source": [
    "!verdi plugin list aiida.workflows crystal17.sym3d"
   ]
  },
  {
   "cell_type": "code",
   "execution_count": 28,
   "metadata": {},
   "outputs": [],
   "source": [
    "sym3d_cls = WorkflowFactory(\"crystal17.sym3d\")\n",
    "builder = sym3d_cls.get_builder()\n",
    "builder.settings = {\"symprec\": 0.01}\n",
    "builder.structure = structure\n",
    "sym_result = run_get_node(builder)"
   ]
  },
  {
   "cell_type": "code",
   "execution_count": 29,
   "metadata": {
    "ipub": {
     "figure": {
      "caption": "`crystal17.sym3d`workflow provenance graph."
     }
    }
   },
   "outputs": [
    {
     "data": {
      "image/svg+xml": [
       "<?xml version=\"1.0\" encoding=\"UTF-8\" standalone=\"no\"?>\n",
       "<!DOCTYPE svg PUBLIC \"-//W3C//DTD SVG 1.1//EN\"\n",
       " \"http://www.w3.org/Graphics/SVG/1.1/DTD/svg11.dtd\">\n",
       "<!-- Generated by graphviz version 2.40.1 (20161225.0304)\n",
       " -->\n",
       "<!-- Title: %3 Pages: 1 -->\n",
       "<svg width=\"576pt\" height=\"107pt\"\n",
       " viewBox=\"0.00 0.00 576.00 107.25\" xmlns=\"http://www.w3.org/2000/svg\" xmlns:xlink=\"http://www.w3.org/1999/xlink\">\n",
       "<g id=\"graph0\" class=\"graph\" transform=\"scale(.5818 .5818) rotate(0) translate(4 180.3553)\">\n",
       "<title>%3</title>\n",
       "<polygon fill=\"#ffffff\" stroke=\"transparent\" points=\"-4,4 -4,-180.3553 986.0731,-180.3553 986.0731,4 -4,4\"/>\n",
       "<!-- N9 -->\n",
       "<g id=\"node1\" class=\"node\">\n",
       "<title>N9</title>\n",
       "<ellipse fill=\"#8cd499\" stroke=\"#000000\" stroke-width=\"0\" cx=\"896.808\" cy=\"-35.3553\" rx=\"85.0308\" ry=\"35.2113\"/>\n",
       "<text text-anchor=\"middle\" x=\"896.808\" y=\"-45.1553\" font-family=\"Times,serif\" font-size=\"14.00\" fill=\"#000000\">SymmetryData (9)</text>\n",
       "<text text-anchor=\"middle\" x=\"896.808\" y=\"-31.1553\" font-family=\"Times,serif\" font-size=\"14.00\" fill=\"#000000\">hall_number: 523</text>\n",
       "<text text-anchor=\"middle\" x=\"896.808\" y=\"-17.1553\" font-family=\"Times,serif\" font-size=\"14.00\" fill=\"#000000\">symmops: 192</text>\n",
       "</g>\n",
       "<!-- N7 -->\n",
       "<g id=\"node2\" class=\"node\">\n",
       "<title>N7</title>\n",
       "<polygon fill=\"#e38851\" stroke=\"#000000\" stroke-width=\"0\" points=\"458.8067,-59.3553 287.537,-59.3553 287.537,-9.3553 458.8067,-9.3553 458.8067,-59.3553\"/>\n",
       "<text text-anchor=\"middle\" x=\"373.1718\" y=\"-44.1553\" font-family=\"Times,serif\" font-size=\"14.00\" fill=\"#000000\">Symmetrise3DStructure (7)</text>\n",
       "<text text-anchor=\"middle\" x=\"373.1718\" y=\"-30.1553\" font-family=\"Times,serif\" font-size=\"14.00\" fill=\"#000000\">State: finished</text>\n",
       "<text text-anchor=\"middle\" x=\"373.1718\" y=\"-16.1553\" font-family=\"Times,serif\" font-size=\"14.00\" fill=\"#000000\">Exit Code: 0</text>\n",
       "</g>\n",
       "<!-- N7&#45;&gt;N9 -->\n",
       "<g id=\"edge1\" class=\"edge\">\n",
       "<title>N7&#45;&gt;N9</title>\n",
       "<path fill=\"none\" stroke=\"#000000\" stroke-dasharray=\"5,2\" d=\"M458.9886,-32.1399C529.7357,-30.6101 632.7077,-29.0644 722.6533,-30.3553 748.2855,-30.7232 776.0333,-31.3955 801.6867,-32.1303\"/>\n",
       "<polygon fill=\"#000000\" stroke=\"#000000\" points=\"801.6839,-35.6317 811.782,-32.4257 801.8887,-28.6346 801.6839,-35.6317\"/>\n",
       "<text text-anchor=\"middle\" x=\"649.1411\" y=\"-47.1553\" font-family=\"Times,serif\" font-size=\"14.00\" fill=\"#000000\">RETURN</text>\n",
       "<text text-anchor=\"middle\" x=\"649.1411\" y=\"-33.1553\" font-family=\"Times,serif\" font-size=\"14.00\" fill=\"#000000\">symmetry</text>\n",
       "</g>\n",
       "<!-- N8 -->\n",
       "<g id=\"node3\" class=\"node\">\n",
       "<title>N8</title>\n",
       "<polygon fill=\"#de707f\" fill-opacity=\"0.466667\" stroke=\"#000000\" stroke-width=\"0\" points=\"722.6655,-117.3553 575.6167,-117.3553 575.6167,-67.3553 722.6655,-67.3553 722.6655,-117.3553\"/>\n",
       "<text text-anchor=\"middle\" x=\"649.1411\" y=\"-102.1553\" font-family=\"Times,serif\" font-size=\"14.00\" fill=\"#000000\">compute_symmetry (8)</text>\n",
       "<text text-anchor=\"middle\" x=\"649.1411\" y=\"-88.1553\" font-family=\"Times,serif\" font-size=\"14.00\" fill=\"#000000\">State: finished</text>\n",
       "<text text-anchor=\"middle\" x=\"649.1411\" y=\"-74.1553\" font-family=\"Times,serif\" font-size=\"14.00\" fill=\"#000000\">Exit Code: 0</text>\n",
       "</g>\n",
       "<!-- N7&#45;&gt;N8 -->\n",
       "<g id=\"edge7\" class=\"edge\">\n",
       "<title>N7&#45;&gt;N8</title>\n",
       "<path fill=\"none\" stroke=\"#000000\" stroke-dasharray=\"1,5\" d=\"M459.0619,-37.8346C490.4443,-40.5055 525.9909,-45.184 557.6289,-53.3553 567.7662,-55.9736 578.2344,-59.5389 588.3082,-63.456\"/>\n",
       "<polygon fill=\"#000000\" stroke=\"#000000\" points=\"587.239,-66.7988 597.822,-67.2998 589.8613,-60.3086 587.239,-66.7988\"/>\n",
       "<text text-anchor=\"middle\" x=\"517.184\" y=\"-70.1553\" font-family=\"Times,serif\" font-size=\"14.00\" fill=\"#000000\">CALL_CALC</text>\n",
       "<text text-anchor=\"middle\" x=\"517.184\" y=\"-56.1553\" font-family=\"Times,serif\" font-size=\"14.00\" fill=\"#000000\">CALL</text>\n",
       "</g>\n",
       "<!-- N8&#45;&gt;N9 -->\n",
       "<g id=\"edge2\" class=\"edge\">\n",
       "<title>N8&#45;&gt;N9</title>\n",
       "<path fill=\"none\" stroke=\"#000000\" d=\"M722.7788,-75.4078C750.8398,-68.9496 783.0402,-61.5387 812.0522,-54.8617\"/>\n",
       "<polygon fill=\"#000000\" stroke=\"#000000\" points=\"813.2089,-58.1871 822.1691,-52.5333 811.6389,-51.3654 813.2089,-58.1871\"/>\n",
       "<text text-anchor=\"middle\" x=\"767.0981\" y=\"-87.1553\" font-family=\"Times,serif\" font-size=\"14.00\" fill=\"#000000\">CREATE</text>\n",
       "<text text-anchor=\"middle\" x=\"767.0981\" y=\"-73.1553\" font-family=\"Times,serif\" font-size=\"14.00\" fill=\"#000000\">result</text>\n",
       "</g>\n",
       "<!-- N6 -->\n",
       "<g id=\"node4\" class=\"node\">\n",
       "<title>N6</title>\n",
       "<ellipse fill=\"#8cd499\" stroke=\"#000000\" stroke-width=\"0\" cx=\"80.3056\" cy=\"-77.3553\" rx=\"80.1118\" ry=\"25.4118\"/>\n",
       "<text text-anchor=\"middle\" x=\"80.3056\" y=\"-80.1553\" font-family=\"Times,serif\" font-size=\"14.00\" fill=\"#000000\">StructureData (6)</text>\n",
       "<text text-anchor=\"middle\" x=\"80.3056\" y=\"-66.1553\" font-family=\"Times,serif\" font-size=\"14.00\" fill=\"#000000\">Mg4O4</text>\n",
       "</g>\n",
       "<!-- N6&#45;&gt;N7 -->\n",
       "<g id=\"edge3\" class=\"edge\">\n",
       "<title>N6&#45;&gt;N7</title>\n",
       "<path fill=\"none\" stroke=\"#000000\" stroke-dasharray=\"5,2\" d=\"M141.9063,-60.8983C154.0106,-58.0671 166.6607,-55.3871 178.6113,-53.3553 210.6138,-47.9146 245.8624,-43.8871 277.4639,-40.9764\"/>\n",
       "<polygon fill=\"#000000\" stroke=\"#000000\" points=\"277.9392,-44.4479 287.5873,-40.0702 277.315,-37.4758 277.9392,-44.4479\"/>\n",
       "<text text-anchor=\"middle\" x=\"224.1079\" y=\"-70.1553\" font-family=\"Times,serif\" font-size=\"14.00\" fill=\"#000000\">INPUT_WORK</text>\n",
       "<text text-anchor=\"middle\" x=\"224.1079\" y=\"-56.1553\" font-family=\"Times,serif\" font-size=\"14.00\" fill=\"#000000\">structure</text>\n",
       "</g>\n",
       "<!-- N6&#45;&gt;N8 -->\n",
       "<g id=\"edge6\" class=\"edge\">\n",
       "<title>N6&#45;&gt;N8</title>\n",
       "<path fill=\"none\" stroke=\"#000000\" d=\"M159.9754,-80.7138C166.2804,-80.944 172.5506,-81.1612 178.6113,-81.3553 313.9476,-85.6903 471.2324,-89.0223 565.3429,-90.8333\"/>\n",
       "<polygon fill=\"#000000\" stroke=\"#000000\" points=\"565.3094,-94.3332 575.3745,-91.0252 565.4433,-87.3345 565.3094,-94.3332\"/>\n",
       "<text text-anchor=\"middle\" x=\"373.1718\" y=\"-105.1553\" font-family=\"Times,serif\" font-size=\"14.00\" fill=\"#000000\">INPUT_CALC</text>\n",
       "<text text-anchor=\"middle\" x=\"373.1718\" y=\"-91.1553\" font-family=\"Times,serif\" font-size=\"14.00\" fill=\"#000000\">structure</text>\n",
       "</g>\n",
       "<!-- N5 -->\n",
       "<g id=\"node5\" class=\"node\">\n",
       "<title>N5</title>\n",
       "<ellipse fill=\"#8cd499\" stroke=\"#000000\" stroke-width=\"0\" cx=\"80.3056\" cy=\"-145.3553\" rx=\"37.7104\" ry=\"18\"/>\n",
       "<text text-anchor=\"middle\" x=\"80.3056\" y=\"-141.1553\" font-family=\"Times,serif\" font-size=\"14.00\" fill=\"#000000\">Dict (5)</text>\n",
       "</g>\n",
       "<!-- N5&#45;&gt;N7 -->\n",
       "<g id=\"edge4\" class=\"edge\">\n",
       "<title>N5&#45;&gt;N7</title>\n",
       "<path fill=\"none\" stroke=\"#000000\" stroke-dasharray=\"5,2\" d=\"M114.5638,-137.5896C153.3447,-128.1024 217.854,-110.1925 269.6045,-85.3553 278.2726,-81.1951 279.203,-78.0308 287.6045,-73.3553 293.3552,-70.155 299.4166,-66.9955 305.5483,-63.9433\"/>\n",
       "<polygon fill=\"#000000\" stroke=\"#000000\" points=\"307.097,-67.0821 314.5541,-59.5561 304.0313,-60.7891 307.097,-67.0821\"/>\n",
       "<text text-anchor=\"middle\" x=\"224.1079\" y=\"-135.1553\" font-family=\"Times,serif\" font-size=\"14.00\" fill=\"#000000\">INPUT_WORK</text>\n",
       "<text text-anchor=\"middle\" x=\"224.1079\" y=\"-121.1553\" font-family=\"Times,serif\" font-size=\"14.00\" fill=\"#000000\">settings</text>\n",
       "</g>\n",
       "<!-- N5&#45;&gt;N8 -->\n",
       "<g id=\"edge5\" class=\"edge\">\n",
       "<title>N5&#45;&gt;N8</title>\n",
       "<path fill=\"none\" stroke=\"#000000\" d=\"M118.101,-147.7275C136.3721,-148.7593 158.6236,-149.8474 178.6113,-150.3553 219.0396,-151.3828 229.2792,-153.4188 269.6045,-150.3553 372.0154,-142.5754 488.6397,-123.1494 565.268,-108.9149\"/>\n",
       "<polygon fill=\"#000000\" stroke=\"#000000\" points=\"566.1566,-112.3095 575.3426,-107.0305 564.8695,-105.4288 566.1566,-112.3095\"/>\n",
       "<text text-anchor=\"middle\" x=\"373.1718\" y=\"-165.1553\" font-family=\"Times,serif\" font-size=\"14.00\" fill=\"#000000\">INPUT_CALC</text>\n",
       "<text text-anchor=\"middle\" x=\"373.1718\" y=\"-151.1553\" font-family=\"Times,serif\" font-size=\"14.00\" fill=\"#000000\">settings</text>\n",
       "</g>\n",
       "</g>\n",
       "</svg>\n"
      ],
      "text/plain": [
       "<graphviz.dot.Digraph at 0x11f415908>"
      ]
     },
     "execution_count": 29,
     "metadata": {},
     "output_type": "execute_result"
    }
   ],
   "source": [
    "graph = Graph(graph_attr={'size': \"8,8!\", \"rankdir\": \"LR\"})\n",
    "graph.recurse_ancestors(sym_result.result[\"symmetry\"],\n",
    "                        annotate_links=\"both\")\n",
    "graph.graphviz"
   ]
  },
  {
   "cell_type": "markdown",
   "metadata": {},
   "source": [
    "This workflow can also optionally compute the primitive\n",
    "and/or standardised form of the structure,\n",
    "before computing the symmetry of the new structure."
   ]
  },
  {
   "cell_type": "code",
   "execution_count": 30,
   "metadata": {
    "ipub": {
     "figure": {
      "caption": "`crystal17.sym3d`workflow provenance graph, including primitive cell calculation."
     }
    }
   },
   "outputs": [
    {
     "data": {
      "image/svg+xml": [
       "<?xml version=\"1.0\" encoding=\"UTF-8\" standalone=\"no\"?>\n",
       "<!DOCTYPE svg PUBLIC \"-//W3C//DTD SVG 1.1//EN\"\n",
       " \"http://www.w3.org/Graphics/SVG/1.1/DTD/svg11.dtd\">\n",
       "<!-- Generated by graphviz version 2.40.1 (20161225.0304)\n",
       " -->\n",
       "<!-- Title: %3 Pages: 1 -->\n",
       "<svg width=\"648pt\" height=\"141pt\"\n",
       " viewBox=\"0.00 0.00 648.00 140.74\" xmlns=\"http://www.w3.org/2000/svg\" xmlns:xlink=\"http://www.w3.org/1999/xlink\">\n",
       "<g id=\"graph0\" class=\"graph\" transform=\"scale(.3983 .3983) rotate(0) translate(4 349.3553)\">\n",
       "<title>%3</title>\n",
       "<polygon fill=\"#ffffff\" stroke=\"transparent\" points=\"-4,4 -4,-349.3553 1622.9746,-349.3553 1622.9746,4 -4,4\"/>\n",
       "<!-- N13 -->\n",
       "<g id=\"node1\" class=\"node\">\n",
       "<title>N13</title>\n",
       "<ellipse fill=\"#8cd499\" stroke=\"#000000\" stroke-width=\"0\" cx=\"988.8169\" cy=\"-128.3553\" rx=\"85.0115\" ry=\"25.4118\"/>\n",
       "<text text-anchor=\"middle\" x=\"988.8169\" y=\"-131.1553\" font-family=\"Times,serif\" font-size=\"14.00\" fill=\"#000000\">StructureData (13)</text>\n",
       "<text text-anchor=\"middle\" x=\"988.8169\" y=\"-117.1553\" font-family=\"Times,serif\" font-size=\"14.00\" fill=\"#000000\">MgO</text>\n",
       "</g>\n",
       "<!-- N14 -->\n",
       "<g id=\"node7\" class=\"node\">\n",
       "<title>N14</title>\n",
       "<polygon fill=\"#de707f\" fill-opacity=\"0.466667\" stroke=\"#000000\" stroke-width=\"0\" points=\"1349.6675,-126.3553 1195.6187,-126.3553 1195.6187,-76.3553 1349.6675,-76.3553 1349.6675,-126.3553\"/>\n",
       "<text text-anchor=\"middle\" x=\"1272.6431\" y=\"-111.1553\" font-family=\"Times,serif\" font-size=\"14.00\" fill=\"#000000\">compute_symmetry (14)</text>\n",
       "<text text-anchor=\"middle\" x=\"1272.6431\" y=\"-97.1553\" font-family=\"Times,serif\" font-size=\"14.00\" fill=\"#000000\">State: finished</text>\n",
       "<text text-anchor=\"middle\" x=\"1272.6431\" y=\"-83.1553\" font-family=\"Times,serif\" font-size=\"14.00\" fill=\"#000000\">Exit Code: 0</text>\n",
       "</g>\n",
       "<!-- N13&#45;&gt;N14 -->\n",
       "<g id=\"edge11\" class=\"edge\">\n",
       "<title>N13&#45;&gt;N14</title>\n",
       "<path fill=\"none\" stroke=\"#000000\" d=\"M1070.1501,-120.6182C1106.0856,-117.1997 1148.4012,-113.1743 1185.0324,-109.6896\"/>\n",
       "<polygon fill=\"#000000\" stroke=\"#000000\" points=\"1185.58,-113.1534 1195.2035,-108.7221 1184.917,-106.1849 1185.58,-113.1534\"/>\n",
       "<text text-anchor=\"middle\" x=\"1134.8516\" y=\"-134.1553\" font-family=\"Times,serif\" font-size=\"14.00\" fill=\"#000000\">INPUT_CALC</text>\n",
       "<text text-anchor=\"middle\" x=\"1134.8516\" y=\"-120.1553\" font-family=\"Times,serif\" font-size=\"14.00\" fill=\"#000000\">structure</text>\n",
       "</g>\n",
       "<!-- N11 -->\n",
       "<g id=\"node2\" class=\"node\">\n",
       "<title>N11</title>\n",
       "<polygon fill=\"#e38851\" stroke=\"#000000\" stroke-width=\"0\" points=\"465.038,-151.3553 287.793,-151.3553 287.793,-101.3553 465.038,-101.3553 465.038,-151.3553\"/>\n",
       "<text text-anchor=\"middle\" x=\"376.4155\" y=\"-136.1553\" font-family=\"Times,serif\" font-size=\"14.00\" fill=\"#000000\">Symmetrise3DStructure (11)</text>\n",
       "<text text-anchor=\"middle\" x=\"376.4155\" y=\"-122.1553\" font-family=\"Times,serif\" font-size=\"14.00\" fill=\"#000000\">State: finished</text>\n",
       "<text text-anchor=\"middle\" x=\"376.4155\" y=\"-108.1553\" font-family=\"Times,serif\" font-size=\"14.00\" fill=\"#000000\">Exit Code: 0</text>\n",
       "</g>\n",
       "<!-- N11&#45;&gt;N13 -->\n",
       "<g id=\"edge1\" class=\"edge\">\n",
       "<title>N11&#45;&gt;N13</title>\n",
       "<path fill=\"none\" stroke=\"#000000\" stroke-dasharray=\"5,2\" d=\"M465.1367,-126.6451C579.1594,-127.0175 776.3381,-127.6614 893.4762,-128.044\"/>\n",
       "<polygon fill=\"#000000\" stroke=\"#000000\" points=\"893.4989,-131.544 903.5104,-128.0767 893.5219,-124.544 893.4989,-131.544\"/>\n",
       "<text text-anchor=\"middle\" x=\"684.394\" y=\"-144.1553\" font-family=\"Times,serif\" font-size=\"14.00\" fill=\"#000000\">RETURN</text>\n",
       "<text text-anchor=\"middle\" x=\"684.394\" y=\"-130.1553\" font-family=\"Times,serif\" font-size=\"14.00\" fill=\"#000000\">structure</text>\n",
       "</g>\n",
       "<!-- N12 -->\n",
       "<g id=\"node3\" class=\"node\">\n",
       "<title>N12</title>\n",
       "<polygon fill=\"#de707f\" fill-opacity=\"0.466667\" stroke=\"#000000\" stroke-width=\"0\" points=\"786.4502,-218.3553 582.3379,-218.3553 582.3379,-168.3553 786.4502,-168.3553 786.4502,-218.3553\"/>\n",
       "<text text-anchor=\"middle\" x=\"684.394\" y=\"-203.1553\" font-family=\"Times,serif\" font-size=\"14.00\" fill=\"#000000\">standard_primitive_structure (12)</text>\n",
       "<text text-anchor=\"middle\" x=\"684.394\" y=\"-189.1553\" font-family=\"Times,serif\" font-size=\"14.00\" fill=\"#000000\">State: finished</text>\n",
       "<text text-anchor=\"middle\" x=\"684.394\" y=\"-175.1553\" font-family=\"Times,serif\" font-size=\"14.00\" fill=\"#000000\">Exit Code: 0</text>\n",
       "</g>\n",
       "<!-- N11&#45;&gt;N12 -->\n",
       "<g id=\"edge7\" class=\"edge\">\n",
       "<title>N11&#45;&gt;N12</title>\n",
       "<path fill=\"none\" stroke=\"#000000\" stroke-dasharray=\"1,5\" d=\"M465.3492,-135.8466C496.7823,-140.0693 532.2358,-145.8248 564.1162,-153.3553 577.95,-156.6231 592.4602,-160.7884 606.4248,-165.1903\"/>\n",
       "<polygon fill=\"#000000\" stroke=\"#000000\" points=\"605.399,-168.5369 615.9904,-168.2674 607.5427,-161.8732 605.399,-168.5369\"/>\n",
       "<text text-anchor=\"middle\" x=\"523.6714\" y=\"-170.1553\" font-family=\"Times,serif\" font-size=\"14.00\" fill=\"#000000\">CALL_CALC</text>\n",
       "<text text-anchor=\"middle\" x=\"523.6714\" y=\"-156.1553\" font-family=\"Times,serif\" font-size=\"14.00\" fill=\"#000000\">CALL</text>\n",
       "</g>\n",
       "<!-- N15 -->\n",
       "<g id=\"node6\" class=\"node\">\n",
       "<title>N15</title>\n",
       "<ellipse fill=\"#8cd499\" stroke=\"#000000\" stroke-width=\"0\" cx=\"1528.7597\" cy=\"-35.3553\" rx=\"90.4301\" ry=\"35.2113\"/>\n",
       "<text text-anchor=\"middle\" x=\"1528.7597\" y=\"-45.1553\" font-family=\"Times,serif\" font-size=\"14.00\" fill=\"#000000\">SymmetryData (15)</text>\n",
       "<text text-anchor=\"middle\" x=\"1528.7597\" y=\"-31.1553\" font-family=\"Times,serif\" font-size=\"14.00\" fill=\"#000000\">hall_number: 523</text>\n",
       "<text text-anchor=\"middle\" x=\"1528.7597\" y=\"-17.1553\" font-family=\"Times,serif\" font-size=\"14.00\" fill=\"#000000\">symmops: 48</text>\n",
       "</g>\n",
       "<!-- N11&#45;&gt;N15 -->\n",
       "<g id=\"edge8\" class=\"edge\">\n",
       "<title>N11&#45;&gt;N15</title>\n",
       "<path fill=\"none\" stroke=\"#000000\" stroke-dasharray=\"5,2\" d=\"M419.1546,-101.2686C477.1769,-69.6426 585.0548,-19.3553 684.394,-19.3553 684.394,-19.3553 684.394,-19.3553 1272.6431,-19.3553 1324.9461,-19.3553 1383.1406,-22.7202 1430.8234,-26.3638\"/>\n",
       "<polygon fill=\"#000000\" stroke=\"#000000\" points=\"1430.591,-29.8562 1440.8329,-27.1444 1431.1353,-22.8774 1430.591,-29.8562\"/>\n",
       "<text text-anchor=\"middle\" x=\"988.8169\" y=\"-36.1553\" font-family=\"Times,serif\" font-size=\"14.00\" fill=\"#000000\">RETURN</text>\n",
       "<text text-anchor=\"middle\" x=\"988.8169\" y=\"-22.1553\" font-family=\"Times,serif\" font-size=\"14.00\" fill=\"#000000\">symmetry</text>\n",
       "</g>\n",
       "<!-- N11&#45;&gt;N14 -->\n",
       "<g id=\"edge12\" class=\"edge\">\n",
       "<title>N11&#45;&gt;N14</title>\n",
       "<path fill=\"none\" stroke=\"#000000\" stroke-dasharray=\"1,5\" d=\"M465.3171,-118.3014C551.87,-110.8431 687.1775,-100.1972 804.6718,-95.3553 848.5878,-93.5456 859.6089,-94.5776 903.5615,-94.3553 979.3431,-93.9722 998.3015,-93.0202 1074.0723,-94.3553 1110.4863,-94.997 1150.6391,-96.3 1185.2532,-97.6097\"/>\n",
       "<polygon fill=\"#000000\" stroke=\"#000000\" points=\"1185.2059,-101.1104 1195.3329,-97.9971 1185.4748,-94.1155 1185.2059,-101.1104\"/>\n",
       "<text text-anchor=\"middle\" x=\"845.1167\" y=\"-112.1553\" font-family=\"Times,serif\" font-size=\"14.00\" fill=\"#000000\">CALL_CALC</text>\n",
       "<text text-anchor=\"middle\" x=\"845.1167\" y=\"-98.1553\" font-family=\"Times,serif\" font-size=\"14.00\" fill=\"#000000\">CALL</text>\n",
       "</g>\n",
       "<!-- N12&#45;&gt;N13 -->\n",
       "<g id=\"edge2\" class=\"edge\">\n",
       "<title>N12&#45;&gt;N13</title>\n",
       "<path fill=\"none\" stroke=\"#000000\" d=\"M786.6093,-171.5305C826.5667,-162.9988 871.6952,-153.363 909.1653,-145.3624\"/>\n",
       "<polygon fill=\"#000000\" stroke=\"#000000\" points=\"909.9692,-148.7698 919.0179,-143.2587 908.5075,-141.9241 909.9692,-148.7698\"/>\n",
       "<text text-anchor=\"middle\" x=\"845.1167\" y=\"-183.1553\" font-family=\"Times,serif\" font-size=\"14.00\" fill=\"#000000\">CREATE</text>\n",
       "<text text-anchor=\"middle\" x=\"845.1167\" y=\"-169.1553\" font-family=\"Times,serif\" font-size=\"14.00\" fill=\"#000000\">result</text>\n",
       "</g>\n",
       "<!-- N6 -->\n",
       "<g id=\"node4\" class=\"node\">\n",
       "<title>N6</title>\n",
       "<ellipse fill=\"#8cd499\" stroke=\"#000000\" stroke-width=\"0\" cx=\"80.3056\" cy=\"-164.3553\" rx=\"80.1118\" ry=\"25.4118\"/>\n",
       "<text text-anchor=\"middle\" x=\"80.3056\" y=\"-167.1553\" font-family=\"Times,serif\" font-size=\"14.00\" fill=\"#000000\">StructureData (6)</text>\n",
       "<text text-anchor=\"middle\" x=\"80.3056\" y=\"-153.1553\" font-family=\"Times,serif\" font-size=\"14.00\" fill=\"#000000\">Mg4O4</text>\n",
       "</g>\n",
       "<!-- N6&#45;&gt;N11 -->\n",
       "<g id=\"edge3\" class=\"edge\">\n",
       "<title>N6&#45;&gt;N11</title>\n",
       "<path fill=\"none\" stroke=\"#000000\" stroke-dasharray=\"5,2\" d=\"M145.1385,-149.311C156.2611,-147.0733 167.7369,-144.9777 178.6113,-143.3553 210.6029,-138.5826 245.7205,-135.0246 277.3731,-132.4321\"/>\n",
       "<polygon fill=\"#000000\" stroke=\"#000000\" points=\"277.8293,-135.9069 287.5198,-131.6239 277.2735,-128.929 277.8293,-135.9069\"/>\n",
       "<text text-anchor=\"middle\" x=\"224.1079\" y=\"-160.1553\" font-family=\"Times,serif\" font-size=\"14.00\" fill=\"#000000\">INPUT_WORK</text>\n",
       "<text text-anchor=\"middle\" x=\"224.1079\" y=\"-146.1553\" font-family=\"Times,serif\" font-size=\"14.00\" fill=\"#000000\">structure</text>\n",
       "</g>\n",
       "<!-- N6&#45;&gt;N12 -->\n",
       "<g id=\"edge6\" class=\"edge\">\n",
       "<title>N6&#45;&gt;N12</title>\n",
       "<path fill=\"none\" stroke=\"#000000\" d=\"M158.6348,-170.1287C165.3899,-170.5672 172.1201,-170.9831 178.6113,-171.3553 313.8473,-179.1099 469.5647,-185.5011 572.089,-189.36\"/>\n",
       "<polygon fill=\"#000000\" stroke=\"#000000\" points=\"572.0274,-192.86 582.1515,-189.737 572.2896,-185.865 572.0274,-192.86\"/>\n",
       "<text text-anchor=\"middle\" x=\"376.4155\" y=\"-201.1553\" font-family=\"Times,serif\" font-size=\"14.00\" fill=\"#000000\">INPUT_CALC</text>\n",
       "<text text-anchor=\"middle\" x=\"376.4155\" y=\"-187.1553\" font-family=\"Times,serif\" font-size=\"14.00\" fill=\"#000000\">structure</text>\n",
       "</g>\n",
       "<!-- N10 -->\n",
       "<g id=\"node5\" class=\"node\">\n",
       "<title>N10</title>\n",
       "<ellipse fill=\"#8cd499\" stroke=\"#000000\" stroke-width=\"0\" cx=\"80.3056\" cy=\"-261.3553\" rx=\"42.0545\" ry=\"18\"/>\n",
       "<text text-anchor=\"middle\" x=\"80.3056\" y=\"-257.1553\" font-family=\"Times,serif\" font-size=\"14.00\" fill=\"#000000\">Dict (10)</text>\n",
       "</g>\n",
       "<!-- N10&#45;&gt;N11 -->\n",
       "<g id=\"edge4\" class=\"edge\">\n",
       "<title>N10&#45;&gt;N11</title>\n",
       "<path fill=\"none\" stroke=\"#000000\" stroke-dasharray=\"5,2\" d=\"M109.5068,-248.1292C146.7033,-231.2724 212.9609,-201.2148 269.6045,-175.3553 283.5347,-168.9958 298.4784,-162.1531 312.6436,-155.6574\"/>\n",
       "<polygon fill=\"#000000\" stroke=\"#000000\" points=\"314.1913,-158.7982 321.8213,-151.4475 311.2726,-152.4357 314.1913,-158.7982\"/>\n",
       "<text text-anchor=\"middle\" x=\"224.1079\" y=\"-232.1553\" font-family=\"Times,serif\" font-size=\"14.00\" fill=\"#000000\">INPUT_WORK</text>\n",
       "<text text-anchor=\"middle\" x=\"224.1079\" y=\"-218.1553\" font-family=\"Times,serif\" font-size=\"14.00\" fill=\"#000000\">settings</text>\n",
       "</g>\n",
       "<!-- N10&#45;&gt;N12 -->\n",
       "<g id=\"edge5\" class=\"edge\">\n",
       "<title>N10&#45;&gt;N12</title>\n",
       "<path fill=\"none\" stroke=\"#000000\" d=\"M122.4682,-258.9112C160.8693,-256.525 219.117,-252.5047 269.6045,-247.3553 372.3504,-236.8761 488.9521,-221.3743 572.3046,-209.6646\"/>\n",
       "<polygon fill=\"#000000\" stroke=\"#000000\" points=\"572.8878,-213.1171 582.3016,-208.256 571.911,-206.1856 572.8878,-213.1171\"/>\n",
       "<text text-anchor=\"middle\" x=\"376.4155\" y=\"-262.1553\" font-family=\"Times,serif\" font-size=\"14.00\" fill=\"#000000\">INPUT_CALC</text>\n",
       "<text text-anchor=\"middle\" x=\"376.4155\" y=\"-248.1553\" font-family=\"Times,serif\" font-size=\"14.00\" fill=\"#000000\">settings</text>\n",
       "</g>\n",
       "<!-- N10&#45;&gt;N14 -->\n",
       "<g id=\"edge10\" class=\"edge\">\n",
       "<title>N10&#45;&gt;N14</title>\n",
       "<path fill=\"none\" stroke=\"#000000\" d=\"M114.5539,-272.1527C169.2943,-288.4257 280.1481,-317.3553 376.4155,-317.3553 376.4155,-317.3553 376.4155,-317.3553 988.8169,-317.3553 1107.7407,-317.3553 1207.9712,-195.7861 1250.6235,-135.0534\"/>\n",
       "<polygon fill=\"#000000\" stroke=\"#000000\" points=\"1253.6896,-136.773 1256.4941,-126.556 1247.9304,-132.7941 1253.6896,-136.773\"/>\n",
       "<text text-anchor=\"middle\" x=\"684.394\" y=\"-334.1553\" font-family=\"Times,serif\" font-size=\"14.00\" fill=\"#000000\">INPUT_CALC</text>\n",
       "<text text-anchor=\"middle\" x=\"684.394\" y=\"-320.1553\" font-family=\"Times,serif\" font-size=\"14.00\" fill=\"#000000\">settings</text>\n",
       "</g>\n",
       "<!-- N14&#45;&gt;N15 -->\n",
       "<g id=\"edge9\" class=\"edge\">\n",
       "<title>N14&#45;&gt;N15</title>\n",
       "<path fill=\"none\" stroke=\"#000000\" d=\"M1349.8338,-81.4637C1379.211,-73.8933 1412.8528,-65.224 1442.9785,-57.4607\"/>\n",
       "<polygon fill=\"#000000\" stroke=\"#000000\" points=\"1444.2388,-60.7504 1453.0491,-54.8656 1442.492,-53.9718 1444.2388,-60.7504\"/>\n",
       "<text text-anchor=\"middle\" x=\"1394.1001\" y=\"-92.1553\" font-family=\"Times,serif\" font-size=\"14.00\" fill=\"#000000\">CREATE</text>\n",
       "<text text-anchor=\"middle\" x=\"1394.1001\" y=\"-78.1553\" font-family=\"Times,serif\" font-size=\"14.00\" fill=\"#000000\">result</text>\n",
       "</g>\n",
       "</g>\n",
       "</svg>\n"
      ],
      "text/plain": [
       "<graphviz.dot.Digraph at 0x11f557470>"
      ]
     },
     "execution_count": 30,
     "metadata": {},
     "output_type": "execute_result"
    }
   ],
   "source": [
    "builder.settings = {\n",
    "    \"symprec\": 0.01,\n",
    "    \"compute_primitive\": True,\n",
    "    \"standardize_cell\": True}\n",
    "sym_result2 = run_get_node(builder)\n",
    "graph = Graph(graph_attr={'size': \"9,9!\", \"rankdir\": \"LR\"})\n",
    "graph.recurse_ancestors(sym_result2.result[\"structure\"],\n",
    "                        annotate_links=\"both\")\n",
    "graph.recurse_ancestors(sym_result2.result[\"symmetry\"],\n",
    "                        annotate_links=\"both\")\n",
    "graph.graphviz"
   ]
  },
  {
   "cell_type": "markdown",
   "metadata": {},
   "source": [
    "The other option is to ``idealize`` the structure, which\n",
    "removes distortions of the unit cell's atomic positions,\n",
    "compared to the ideal symmetry."
   ]
  },
  {
   "cell_type": "markdown",
   "metadata": {},
   "source": [
    "## Setting Up and Running the Calculation"
   ]
  },
  {
   "cell_type": "markdown",
   "metadata": {},
   "source": [
    ":::{seealso}\n",
    "AiiDA documentation: {ref}`aiida:topics:processes`\n",
    ":::"
   ]
  },
  {
   "cell_type": "markdown",
   "metadata": {},
   "source": [
    "{py:class}`~aiida_crystal17.calculations.cry_main.CryMainCalculation`\n",
    "provides a helper function to create, populate and validate the input builder."
   ]
  },
  {
   "cell_type": "code",
   "execution_count": 31,
   "metadata": {},
   "outputs": [
    {
     "data": {
      "text/markdown": [
       "```json\n",
       "{\n",
       "  \"metadata\": {\n",
       "    \"options\": {\n",
       "      \"resources\": {\n",
       "        \"num_machines\": 1,\n",
       "        \"num_mpiprocs_per_machine\": 1\n",
       "      }\n",
       "    }\n",
       "  },\n",
       "  \"basissets\": {\n",
       "    \"Ni\": [\n",
       "      \"uuid: dbf86b0d-0f68-4733-930f-ea48d8f2946d (pk: 3)\"\n",
       "    ],\n",
       "    \"O\": [\n",
       "      \"uuid: 93a07f42-b17c-42ab-a7b8-620b6ccd9a39 (pk: 4)\"\n",
       "    ]\n",
       "  },\n",
       "  \"parameters\": [\n",
       "    \"uuid: c594fdb9-9fc2-4e06-a52d-7b187b1a4cfa (unstored)\"\n",
       "  ],\n",
       "  \"structure\": [\n",
       "    \"uuid: 000fd6e6-4253-44aa-baae-6b45bb7d5fc7 (pk: 20)\"\n",
       "  ],\n",
       "  \"symmetry\": [\n",
       "    \"uuid: 93db2f1e-0949-4e62-a14b-0d68e2d114ad (pk: 22)\"\n",
       "  ],\n",
       "  \"kinds\": [\n",
       "    \"uuid: 7481e639-81c2-4227-b35b-1849d8c2748f (unstored)\"\n",
       "  ],\n",
       "  \"code\": [\n",
       "    \"Remote code 'crystal17.main-mock_crystal17@localhost' on localhost,\",\n",
       "    \"pk: 1, uuid: a2241a9c-deac-4960-9812-088666800dee\"\n",
       "  ]\n",
       "}\n",
       "```"
      ]
     },
     "metadata": {},
     "output_type": "display_data"
    }
   ],
   "source": [
    "from aiida_crystal17.tests import get_test_structure_and_symm\n",
    "from aiida_crystal17.data.kinds import KindData\n",
    "\n",
    "calc_cls = CalculationFactory('crystal17.main')\n",
    "structure, symmetry  = get_test_structure_and_symm(\"NiO_afm\")\n",
    "kind_data = KindData(data={\n",
    "    \"kind_names\": [\"Ni1\", \"Ni2\", \"O\"],\n",
    "    \"spin_alpha\": [True, False, False],\n",
    "    \"spin_beta\": [False, True, False]})\n",
    "\n",
    "calc_builder = calc_cls.create_builder(\n",
    "    parameters={\n",
    "        \"title\": \"NiO Bulk with AFM spin\",\n",
    "        \"scf.single\": \"UHF\",\n",
    "        \"scf.k_points\": (8, 8),\n",
    "        \"scf.spinlock.SPINLOCK\": (0, 15),\n",
    "        \"scf.numerical.FMIXING\": 30,\n",
    "        \"scf.post_scf\": [\"PPAN\"]\n",
    "    },\n",
    "    unflatten=True,\n",
    "    structure=structure,\n",
    "    symmetry=symmetry,\n",
    "    kinds=kind_data,\n",
    "    bases=\"sto3g\",\n",
    "    code=code,\n",
    "    metadata={\"options\": {\"resources\": {\n",
    "        \"num_machines\": 1, \"num_mpiprocs_per_machine\": 1}}}\n",
    ")\n",
    "display_json(calc_builder)"
   ]
  },
  {
   "cell_type": "markdown",
   "metadata": {},
   "source": [
    "In order to run the computation,\n",
    "the builder can be parsed to one of the AiiDA ``run`` (blocking execution) or ``submit`` (non-blocking execution) functions:"
   ]
  },
  {
   "cell_type": "code",
   "execution_count": 32,
   "metadata": {
    "tags": [
     "nbreg_compare_output"
    ]
   },
   "outputs": [],
   "source": [
    "result, calcnode = run_get_node(calc_builder)"
   ]
  },
  {
   "cell_type": "markdown",
   "metadata": {},
   "source": [
    "The process can be monitored on the command line:"
   ]
  },
  {
   "cell_type": "code",
   "execution_count": 33,
   "metadata": {},
   "outputs": [
    {
     "name": "stdout",
     "output_type": "stream",
     "text": [
      "-\b/\b|\b\\\b-\b/\b|\b\u001b[22m  PK  Created    Process label          Process State    Process status\r\n",
      "----  ---------  ---------------------  ---------------  ----------------\r\n",
      "  25  15s ago    CryMainCalculation     ⏹ Finished [0]\r\n",
      "  21  15s ago    compute_symmetry       ⏹ Finished [0]\r\n",
      "  19  16s ago    primitive_structure    ⏹ Finished [0]\r\n",
      "  18  16s ago    Symmetrise3DStructure  ⏹ Finished [0]\u001b[0m\r\n",
      "\u001b[22m\r\n",
      "Total results: 4\r\n",
      "\u001b[0m\r\n",
      "\u001b[34m\u001b[1mInfo: \u001b[0m\u001b[22mlast time an entry changed state: 2s ago (at 10:39:42 on 2019-08-12)\u001b[0m\r\n"
     ]
    }
   ],
   "source": [
    "!verdi process list -a -D desc -l 4"
   ]
  },
  {
   "cell_type": "markdown",
   "metadata": {},
   "source": [
    "Once the calculation is complete, a ``CalcJobNode`` will be created,\n",
    "to store the settings and outcome of the computation.\n",
    "Crucially, if the computation has completed successfully,\n",
    "the `exit_status` will be **0**.\n",
    "\n",
    "This can be assessed on the command line or with the python API."
   ]
  },
  {
   "cell_type": "code",
   "execution_count": 34,
   "metadata": {},
   "outputs": [
    {
     "name": "stdout",
     "output_type": "stream",
     "text": [
      "-\b/\b|\b\\\b-\b/\b|\b\u001b[22mProperty       Value\r\n",
      "-------------  ------------------------------------\r\n",
      "type           CalcJobNode\r\n",
      "pk             25\r\n",
      "uuid           42166254-7530-4e9e-a7f8-bef09e6a6e6f\r\n",
      "label\r\n",
      "description\r\n",
      "ctime          2019-08-12 10:39:28.969540+00:00\r\n",
      "mtime          2019-08-12 10:39:42.274641+00:00\r\n",
      "process state  Finished\r\n",
      "exit status    0\r\n",
      "computer       [1] localhost\r\n",
      "\r\n",
      "Inputs      PK    Type\r\n",
      "----------  ----  ------------------\r\n",
      "basissets\r\n",
      "    O       4     BasisSetData\r\n",
      "    Ni      3     BasisSetData\r\n",
      "code        1     Code\r\n",
      "kinds       24    KindData\r\n",
      "parameters  23    CryInputParamsData\r\n",
      "structure   20    StructureData\r\n",
      "symmetry    22    SymmetryData\r\n",
      "\r\n",
      "Outputs          PK  Type\r\n",
      "-------------  ----  ----------\r\n",
      "remote_folder    26  RemoteData\r\n",
      "results          28  Dict\r\n",
      "retrieved        27  FolderData\u001b[0m\r\n"
     ]
    }
   ],
   "source": [
    "!verdi process show {calcnode.pk}"
   ]
  },
  {
   "cell_type": "code",
   "execution_count": 35,
   "metadata": {
    "tags": [
     "nbreg_compare_output"
    ]
   },
   "outputs": [
    {
     "name": "stdout",
     "output_type": "stream",
     "text": [
      "True\n",
      "ProcessState.FINISHED\n",
      "0\n"
     ]
    }
   ],
   "source": [
    "print(calcnode.is_finished_ok)\n",
    "print(calcnode.process_state)\n",
    "print(calcnode.exit_status)"
   ]
  },
  {
   "cell_type": "markdown",
   "metadata": {},
   "source": [
    "If the calculation fails, there are three things that should be checked:\n",
    "\n",
    "1. The calculation's exit_message\n",
    "2. The calculation's log messages and scheduler output\n",
    "3. The `results` output node (if available)"
   ]
  },
  {
   "cell_type": "code",
   "execution_count": 36,
   "metadata": {},
   "outputs": [
    {
     "name": "stdout",
     "output_type": "stream",
     "text": [
      "Exit Message: None\n",
      "*** 25: None\n",
      "*** (empty scheduler output file)\n",
      "*** (empty scheduler errors file)\n",
      "*** 0 LOG MESSAGES\n"
     ]
    }
   ],
   "source": [
    "print(\"Exit Message:\", calcnode.exit_message)\n",
    "from aiida.cmdline.utils.common import get_calcjob_report\n",
    "print(get_calcjob_report(calcnode))"
   ]
  },
  {
   "cell_type": "code",
   "execution_count": 37,
   "metadata": {},
   "outputs": [
    {
     "name": "stdout",
     "output_type": "stream",
     "text": [
      "-\b/\b|\b\\\b-\b/\b|\b\u001b[22m*** 25: None\r\n",
      "*** (empty scheduler output file)\r\n",
      "*** (empty scheduler errors file)\r\n",
      "*** 0 LOG MESSAGES\u001b[0m\r\n"
     ]
    }
   ],
   "source": [
    "!verdi process report {calcnode.pk}"
   ]
  },
  {
   "cell_type": "markdown",
   "metadata": {},
   "source": [
    "##  Analysis of Outputs"
   ]
  },
  {
   "cell_type": "markdown",
   "metadata": {},
   "source": [
    "The {py:class}`~aiida.tools.visualization.graph.Graph` can be used to visualise the calculations provenance graph:"
   ]
  },
  {
   "cell_type": "code",
   "execution_count": 38,
   "metadata": {
    "ipub": {
     "figure": {
      "caption": "`crystal17.main` calculation provenance graph (SCF only)."
     }
    }
   },
   "outputs": [
    {
     "data": {
      "image/svg+xml": [
       "<?xml version=\"1.0\" encoding=\"UTF-8\" standalone=\"no\"?>\n",
       "<!DOCTYPE svg PUBLIC \"-//W3C//DTD SVG 1.1//EN\"\n",
       " \"http://www.w3.org/Graphics/SVG/1.1/DTD/svg11.dtd\">\n",
       "<!-- Generated by graphviz version 2.40.1 (20161225.0304)\n",
       " -->\n",
       "<!-- Title: %3 Pages: 1 -->\n",
       "<svg width=\"432pt\" height=\"233pt\"\n",
       " viewBox=\"0.00 0.00 432.00 232.67\" xmlns=\"http://www.w3.org/2000/svg\" xmlns:xlink=\"http://www.w3.org/1999/xlink\">\n",
       "<g id=\"graph0\" class=\"graph\" transform=\"scale(.5393 .5393) rotate(0) translate(4 427.4558)\">\n",
       "<title>%3</title>\n",
       "<polygon fill=\"#ffffff\" stroke=\"transparent\" points=\"-4,4 -4,-427.4558 797.0902,-427.4558 797.0902,4 -4,4\"/>\n",
       "<!-- N25 -->\n",
       "<g id=\"node1\" class=\"node\">\n",
       "<title>N25</title>\n",
       "<polygon fill=\"#de707f\" stroke=\"#000000\" stroke-width=\"0\" points=\"518.2315,-212 360.4034,-212 360.4034,-162 518.2315,-162 518.2315,-212\"/>\n",
       "<text text-anchor=\"middle\" x=\"439.3175\" y=\"-196.8\" font-family=\"Times,serif\" font-size=\"14.00\" fill=\"#000000\">CryMainCalculation (25)</text>\n",
       "<text text-anchor=\"middle\" x=\"439.3175\" y=\"-182.8\" font-family=\"Times,serif\" font-size=\"14.00\" fill=\"#000000\">State: finished</text>\n",
       "<text text-anchor=\"middle\" x=\"439.3175\" y=\"-168.8\" font-family=\"Times,serif\" font-size=\"14.00\" fill=\"#000000\">Exit Code: 0</text>\n",
       "</g>\n",
       "<!-- N28 -->\n",
       "<g id=\"node9\" class=\"node\">\n",
       "<title>N28</title>\n",
       "<ellipse fill=\"#8cd499\" stroke=\"#000000\" stroke-width=\"0\" cx=\"713.3308\" cy=\"-241\" rx=\"42.0545\" ry=\"18\"/>\n",
       "<text text-anchor=\"middle\" x=\"713.3308\" y=\"-236.8\" font-family=\"Times,serif\" font-size=\"14.00\" fill=\"#000000\">Dict (28)</text>\n",
       "</g>\n",
       "<!-- N25&#45;&gt;N28 -->\n",
       "<g id=\"edge8\" class=\"edge\">\n",
       "<title>N25&#45;&gt;N28</title>\n",
       "<path fill=\"none\" stroke=\"#000000\" d=\"M509.826,-212.0373C518.6596,-214.6498 527.6275,-217.0554 536.2745,-219 577.8077,-228.3401 625.7758,-233.9923 661.2993,-237.2244\"/>\n",
       "<polygon fill=\"#000000\" stroke=\"#000000\" points=\"661.1701,-240.7264 671.4373,-238.1121 661.7807,-233.7531 661.1701,-240.7264\"/>\n",
       "<text text-anchor=\"middle\" x=\"575.9229\" y=\"-248.8\" font-family=\"Times,serif\" font-size=\"14.00\" fill=\"#000000\">CREATE</text>\n",
       "<text text-anchor=\"middle\" x=\"575.9229\" y=\"-234.8\" font-family=\"Times,serif\" font-size=\"14.00\" fill=\"#000000\">results</text>\n",
       "</g>\n",
       "<!-- N27 -->\n",
       "<g id=\"node10\" class=\"node\">\n",
       "<title>N27</title>\n",
       "<ellipse fill=\"#8cd499\" stroke=\"#000000\" stroke-width=\"0\" cx=\"713.3308\" cy=\"-187\" rx=\"66.6678\" ry=\"18\"/>\n",
       "<text text-anchor=\"middle\" x=\"713.3308\" y=\"-182.8\" font-family=\"Times,serif\" font-size=\"14.00\" fill=\"#000000\">FolderData (27)</text>\n",
       "</g>\n",
       "<!-- N25&#45;&gt;N27 -->\n",
       "<g id=\"edge9\" class=\"edge\">\n",
       "<title>N25&#45;&gt;N27</title>\n",
       "<path fill=\"none\" stroke=\"#000000\" d=\"M518.5735,-187C555.5594,-187 599.4184,-187 636.1424,-187\"/>\n",
       "<polygon fill=\"#000000\" stroke=\"#000000\" points=\"636.2996,-190.5001 646.2996,-187 636.2996,-183.5001 636.2996,-190.5001\"/>\n",
       "<text text-anchor=\"middle\" x=\"575.9229\" y=\"-203.8\" font-family=\"Times,serif\" font-size=\"14.00\" fill=\"#000000\">CREATE</text>\n",
       "<text text-anchor=\"middle\" x=\"575.9229\" y=\"-189.8\" font-family=\"Times,serif\" font-size=\"14.00\" fill=\"#000000\">retrieved</text>\n",
       "</g>\n",
       "<!-- N26 -->\n",
       "<g id=\"node11\" class=\"node\">\n",
       "<title>N26</title>\n",
       "<ellipse fill=\"#8cd499\" stroke=\"#000000\" stroke-width=\"0\" cx=\"713.3308\" cy=\"-126\" rx=\"79.5196\" ry=\"25.4118\"/>\n",
       "<text text-anchor=\"middle\" x=\"713.3308\" y=\"-128.8\" font-family=\"Times,serif\" font-size=\"14.00\" fill=\"#000000\">RemoteData (26)</text>\n",
       "<text text-anchor=\"middle\" x=\"713.3308\" y=\"-114.8\" font-family=\"Times,serif\" font-size=\"14.00\" fill=\"#000000\">@localhost</text>\n",
       "</g>\n",
       "<!-- N25&#45;&gt;N26 -->\n",
       "<g id=\"edge10\" class=\"edge\">\n",
       "<title>N25&#45;&gt;N26</title>\n",
       "<path fill=\"none\" stroke=\"#000000\" d=\"M510.9614,-161.9679C519.4378,-159.4191 528.0111,-157.0272 536.2745,-155 566.1768,-147.6644 599.3842,-141.6701 628.8863,-137.075\"/>\n",
       "<polygon fill=\"#000000\" stroke=\"#000000\" points=\"629.7979,-140.4765 639.1555,-135.508 628.742,-133.5565 629.7979,-140.4765\"/>\n",
       "<text text-anchor=\"middle\" x=\"575.9229\" y=\"-171.8\" font-family=\"Times,serif\" font-size=\"14.00\" fill=\"#000000\">CREATE</text>\n",
       "<text text-anchor=\"middle\" x=\"575.9229\" y=\"-157.8\" font-family=\"Times,serif\" font-size=\"14.00\" fill=\"#000000\">remote_folder</text>\n",
       "</g>\n",
       "<!-- N1 -->\n",
       "<g id=\"node2\" class=\"node\">\n",
       "<title>N1</title>\n",
       "<ellipse fill=\"#4ca4b9\" fill-opacity=\"0.666667\" stroke=\"#000000\" stroke-width=\"0\" cx=\"119.4009\" cy=\"-398\" rx=\"119.3019\" ry=\"25.4118\"/>\n",
       "<text text-anchor=\"middle\" x=\"119.4009\" y=\"-400.8\" font-family=\"Times,serif\" font-size=\"14.00\" fill=\"#000000\">Code (1)</text>\n",
       "<text text-anchor=\"middle\" x=\"119.4009\" y=\"-386.8\" font-family=\"Times,serif\" font-size=\"14.00\" fill=\"#000000\">mock_crystal17@localhost</text>\n",
       "</g>\n",
       "<!-- N1&#45;&gt;N25 -->\n",
       "<g id=\"edge1\" class=\"edge\">\n",
       "<title>N1&#45;&gt;N25</title>\n",
       "<path fill=\"none\" stroke=\"#000000\" d=\"M224.8614,-385.9946C264.5661,-377.4732 308.3056,-362.9049 342.3604,-338 382.9307,-308.3302 410.873,-256.0859 425.991,-221.5036\"/>\n",
       "<polygon fill=\"#000000\" stroke=\"#000000\" points=\"429.2326,-222.8243 429.9148,-212.2514 422.7882,-220.0912 429.2326,-222.8243\"/>\n",
       "<text text-anchor=\"middle\" x=\"299.5811\" y=\"-393.8\" font-family=\"Times,serif\" font-size=\"14.00\" fill=\"#000000\">INPUT_CALC</text>\n",
       "<text text-anchor=\"middle\" x=\"299.5811\" y=\"-379.8\" font-family=\"Times,serif\" font-size=\"14.00\" fill=\"#000000\">code</text>\n",
       "</g>\n",
       "<!-- N24 -->\n",
       "<g id=\"node3\" class=\"node\">\n",
       "<title>N24</title>\n",
       "<ellipse fill=\"#8cd499\" stroke=\"#000000\" stroke-width=\"0\" cx=\"119.4009\" cy=\"-337\" rx=\"61.3636\" ry=\"18\"/>\n",
       "<text text-anchor=\"middle\" x=\"119.4009\" y=\"-332.8\" font-family=\"Times,serif\" font-size=\"14.00\" fill=\"#000000\">KindData (24)</text>\n",
       "</g>\n",
       "<!-- N24&#45;&gt;N25 -->\n",
       "<g id=\"edge2\" class=\"edge\">\n",
       "<title>N24&#45;&gt;N25</title>\n",
       "<path fill=\"none\" stroke=\"#000000\" d=\"M174.2565,-328.6266C221.3736,-319.6589 289.8116,-302.2885 342.3604,-271 366.3046,-256.7432 390.005,-236.3557 407.9798,-219.2365\"/>\n",
       "<polygon fill=\"#000000\" stroke=\"#000000\" points=\"410.5707,-221.5995 415.3167,-212.1271 405.6995,-216.5724 410.5707,-221.5995\"/>\n",
       "<text text-anchor=\"middle\" x=\"299.5811\" y=\"-322.8\" font-family=\"Times,serif\" font-size=\"14.00\" fill=\"#000000\">INPUT_CALC</text>\n",
       "<text text-anchor=\"middle\" x=\"299.5811\" y=\"-308.8\" font-family=\"Times,serif\" font-size=\"14.00\" fill=\"#000000\">kinds</text>\n",
       "</g>\n",
       "<!-- N22 -->\n",
       "<g id=\"node4\" class=\"node\">\n",
       "<title>N22</title>\n",
       "<ellipse fill=\"#8cd499\" stroke=\"#000000\" stroke-width=\"0\" cx=\"119.4009\" cy=\"-266\" rx=\"90.4301\" ry=\"35.2113\"/>\n",
       "<text text-anchor=\"middle\" x=\"119.4009\" y=\"-275.8\" font-family=\"Times,serif\" font-size=\"14.00\" fill=\"#000000\">SymmetryData (22)</text>\n",
       "<text text-anchor=\"middle\" x=\"119.4009\" y=\"-261.8\" font-family=\"Times,serif\" font-size=\"14.00\" fill=\"#000000\">hall_number: 400</text>\n",
       "<text text-anchor=\"middle\" x=\"119.4009\" y=\"-247.8\" font-family=\"Times,serif\" font-size=\"14.00\" fill=\"#000000\">symmops: 16</text>\n",
       "</g>\n",
       "<!-- N22&#45;&gt;N25 -->\n",
       "<g id=\"edge3\" class=\"edge\">\n",
       "<title>N22&#45;&gt;N25</title>\n",
       "<path fill=\"none\" stroke=\"#000000\" d=\"M201.1964,-251.0182C243.5896,-242.6842 296.0479,-231.4826 342.3604,-219 346.9842,-217.7538 351.7118,-216.4142 356.4699,-215.0149\"/>\n",
       "<polygon fill=\"#000000\" stroke=\"#000000\" points=\"357.689,-218.3031 366.2558,-212.0694 355.6714,-211.6002 357.689,-218.3031\"/>\n",
       "<text text-anchor=\"middle\" x=\"299.5811\" y=\"-255.8\" font-family=\"Times,serif\" font-size=\"14.00\" fill=\"#000000\">INPUT_CALC</text>\n",
       "<text text-anchor=\"middle\" x=\"299.5811\" y=\"-241.8\" font-family=\"Times,serif\" font-size=\"14.00\" fill=\"#000000\">symmetry</text>\n",
       "</g>\n",
       "<!-- N20 -->\n",
       "<g id=\"node5\" class=\"node\">\n",
       "<title>N20</title>\n",
       "<ellipse fill=\"#8cd499\" stroke=\"#000000\" stroke-width=\"0\" cx=\"119.4009\" cy=\"-187\" rx=\"85.0115\" ry=\"25.4118\"/>\n",
       "<text text-anchor=\"middle\" x=\"119.4009\" y=\"-189.8\" font-family=\"Times,serif\" font-size=\"14.00\" fill=\"#000000\">StructureData (20)</text>\n",
       "<text text-anchor=\"middle\" x=\"119.4009\" y=\"-175.8\" font-family=\"Times,serif\" font-size=\"14.00\" fill=\"#000000\">Ni2O2</text>\n",
       "</g>\n",
       "<!-- N20&#45;&gt;N25 -->\n",
       "<g id=\"edge4\" class=\"edge\">\n",
       "<title>N20&#45;&gt;N25</title>\n",
       "<path fill=\"none\" stroke=\"#000000\" d=\"M204.7124,-187C249.6264,-187 304.6618,-187 350.1373,-187\"/>\n",
       "<polygon fill=\"#000000\" stroke=\"#000000\" points=\"350.2827,-190.5001 360.2827,-187 350.2826,-183.5001 350.2827,-190.5001\"/>\n",
       "<text text-anchor=\"middle\" x=\"299.5811\" y=\"-203.8\" font-family=\"Times,serif\" font-size=\"14.00\" fill=\"#000000\">INPUT_CALC</text>\n",
       "<text text-anchor=\"middle\" x=\"299.5811\" y=\"-189.8\" font-family=\"Times,serif\" font-size=\"14.00\" fill=\"#000000\">structure</text>\n",
       "</g>\n",
       "<!-- N23 -->\n",
       "<g id=\"node6\" class=\"node\">\n",
       "<title>N23</title>\n",
       "<ellipse fill=\"#8cd499\" stroke=\"#000000\" stroke-width=\"0\" cx=\"119.4009\" cy=\"-126\" rx=\"101.9224\" ry=\"18\"/>\n",
       "<text text-anchor=\"middle\" x=\"119.4009\" y=\"-121.8\" font-family=\"Times,serif\" font-size=\"14.00\" fill=\"#000000\">CryInputParamsData (23)</text>\n",
       "</g>\n",
       "<!-- N23&#45;&gt;N25 -->\n",
       "<g id=\"edge5\" class=\"edge\">\n",
       "<title>N23&#45;&gt;N25</title>\n",
       "<path fill=\"none\" stroke=\"#000000\" d=\"M210.9421,-133.9535C251.5165,-138.4908 299.6397,-145.2643 342.3604,-155 347.7073,-156.2185 353.1779,-157.6098 358.6641,-159.1144\"/>\n",
       "<polygon fill=\"#000000\" stroke=\"#000000\" points=\"357.9563,-162.5522 368.533,-161.9322 359.8782,-155.8212 357.9563,-162.5522\"/>\n",
       "<text text-anchor=\"middle\" x=\"299.5811\" y=\"-171.8\" font-family=\"Times,serif\" font-size=\"14.00\" fill=\"#000000\">INPUT_CALC</text>\n",
       "<text text-anchor=\"middle\" x=\"299.5811\" y=\"-157.8\" font-family=\"Times,serif\" font-size=\"14.00\" fill=\"#000000\">parameters</text>\n",
       "</g>\n",
       "<!-- N4 -->\n",
       "<g id=\"node7\" class=\"node\">\n",
       "<title>N4</title>\n",
       "<ellipse fill=\"#8cd499\" stroke=\"#000000\" stroke-width=\"0\" cx=\"119.4009\" cy=\"-72\" rx=\"69.5752\" ry=\"18\"/>\n",
       "<text text-anchor=\"middle\" x=\"119.4009\" y=\"-67.8\" font-family=\"Times,serif\" font-size=\"14.00\" fill=\"#000000\">BasisSetData (4)</text>\n",
       "</g>\n",
       "<!-- N4&#45;&gt;N25 -->\n",
       "<g id=\"edge6\" class=\"edge\">\n",
       "<title>N4&#45;&gt;N25</title>\n",
       "<path fill=\"none\" stroke=\"#000000\" d=\"M189.1632,-73.5021C234.5369,-76.7187 294.0326,-85.2564 342.3604,-107 367.4363,-118.2821 391.3158,-137.8383 409.1021,-154.7907\"/>\n",
       "<polygon fill=\"#000000\" stroke=\"#000000\" points=\"406.7402,-157.3764 416.3374,-161.8648 411.634,-152.3712 406.7402,-157.3764\"/>\n",
       "<text text-anchor=\"middle\" x=\"299.5811\" y=\"-123.8\" font-family=\"Times,serif\" font-size=\"14.00\" fill=\"#000000\">INPUT_CALC</text>\n",
       "<text text-anchor=\"middle\" x=\"299.5811\" y=\"-109.8\" font-family=\"Times,serif\" font-size=\"14.00\" fill=\"#000000\">basissets__O</text>\n",
       "</g>\n",
       "<!-- N3 -->\n",
       "<g id=\"node8\" class=\"node\">\n",
       "<title>N3</title>\n",
       "<ellipse fill=\"#8cd499\" stroke=\"#000000\" stroke-width=\"0\" cx=\"119.4009\" cy=\"-18\" rx=\"69.5752\" ry=\"18\"/>\n",
       "<text text-anchor=\"middle\" x=\"119.4009\" y=\"-13.8\" font-family=\"Times,serif\" font-size=\"14.00\" fill=\"#000000\">BasisSetData (3)</text>\n",
       "</g>\n",
       "<!-- N3&#45;&gt;N25 -->\n",
       "<g id=\"edge7\" class=\"edge\">\n",
       "<title>N3&#45;&gt;N25</title>\n",
       "<path fill=\"none\" stroke=\"#000000\" d=\"M187.7375,-14.1788C234.4604,-14.6754 296.0682,-21.6988 342.3604,-50 381.5626,-73.9666 409.2573,-120.3878 424.747,-152.5078\"/>\n",
       "<polygon fill=\"#000000\" stroke=\"#000000\" points=\"421.7637,-154.3919 429.1616,-161.9762 428.108,-151.4339 421.7637,-154.3919\"/>\n",
       "<text text-anchor=\"middle\" x=\"299.5811\" y=\"-66.8\" font-family=\"Times,serif\" font-size=\"14.00\" fill=\"#000000\">INPUT_CALC</text>\n",
       "<text text-anchor=\"middle\" x=\"299.5811\" y=\"-52.8\" font-family=\"Times,serif\" font-size=\"14.00\" fill=\"#000000\">basissets__Ni</text>\n",
       "</g>\n",
       "</g>\n",
       "</svg>\n"
      ],
      "text/plain": [
       "<graphviz.dot.Digraph at 0x11f586048>"
      ]
     },
     "execution_count": 38,
     "metadata": {},
     "output_type": "execute_result"
    }
   ],
   "source": [
    "graph = Graph(graph_attr={'size': \"6,8!\", \"rankdir\": \"LR\"})\n",
    "graph.add_node(calcnode)\n",
    "graph.add_incoming(calcnode, annotate_links=\"both\")\n",
    "graph.add_outgoing(calcnode, annotate_links=\"both\")\n",
    "graph.graphviz"
   ]
  },
  {
   "cell_type": "markdown",
   "metadata": {},
   "source": [
    "The `retrieved` `FolderData` output node contains the CRYSTAL17 main input and output file."
   ]
  },
  {
   "cell_type": "code",
   "execution_count": 39,
   "metadata": {
    "tags": [
     "nbreg_compare_output"
    ]
   },
   "outputs": [
    {
     "data": {
      "text/plain": [
       "['_scheduler-stderr.txt', '_scheduler-stdout.txt', 'fort.34', 'main.out']"
      ]
     },
     "execution_count": 39,
     "metadata": {},
     "output_type": "execute_result"
    }
   ],
   "source": [
    "calcnode.outputs.retrieved.list_object_names()"
   ]
  },
  {
   "cell_type": "markdown",
   "metadata": {},
   "source": [
    "The `results` `Dict` output node contains key values extracted from the CRYSTAL17 standard output file."
   ]
  },
  {
   "cell_type": "code",
   "execution_count": 40,
   "metadata": {},
   "outputs": [
    {
     "data": {
      "text/markdown": [
       "```json\n",
       "{\n",
       "  \"units\": {\n",
       "    \"angle\": \"degrees\",\n",
       "    \"energy\": \"eV\",\n",
       "    \"length\": \"angstrom\",\n",
       "    \"conversion\": \"CODATA2014\"\n",
       "  },\n",
       "  \"energy\": -85124.893667339,\n",
       "  \"errors\": [],\n",
       "  \"header\": {\n",
       "    \"crystal_version\": 17,\n",
       "    \"crystal_subversion\": \"1.0.1\"\n",
       "  },\n",
       "  \"volume\": 36.099581472,\n",
       "  \"warnings\": [],\n",
       "  \"calculation\": {\n",
       "    \"n_ao\": 46,\n",
       "    \"spin\": true,\n",
       "    \"type\": \"unrestricted open shell\",\n",
       "    \"n_atoms\": 4,\n",
       "    \"n_shells\": 14,\n",
       "    \"n_symops\": 16,\n",
       "    \"n_core_el\": 40,\n",
       "    \"n_electrons\": 72,\n",
       "    \"n_kpoints_ibz\": 75,\n",
       "    \"n_kpoints_gilat\": 75\n",
       "  },\n",
       "  \"energy_units\": \"eV\",\n",
       "  \"parser_class\": \"CryMainParser\",\n",
       "  \"parser_errors\": [],\n",
       "  \"mulliken_spins\": [\n",
       "    3.057,\n",
       "    -3.057,\n",
       "    -0.072,\n",
       "    0.072\n",
       "  ],\n",
       "  \"parser_version\": \"0.11.0\",\n",
       "  \"scf_iterations\": 13,\n",
       "  \"number_of_atoms\": 4,\n",
       "  \"parser_warnings\": [],\n",
       "  \"mulliken_charges\": [\n",
       "    0.398,\n",
       "    0.397,\n",
       "    -0.398,\n",
       "    -0.397\n",
       "  ],\n",
       "  \"parser_exceptions\": [],\n",
       "  \"mulliken_electrons\": [\n",
       "    27.602,\n",
       "    27.603,\n",
       "    8.398,\n",
       "    8.397\n",
       "  ],\n",
       "  \"mulliken_spin_total\": 0.0,\n",
       "  \"number_of_assymetric\": 4,\n",
       "  \"execution_time_seconds\": 187\n",
       "}\n",
       "```"
      ]
     },
     "metadata": {},
     "output_type": "display_data"
    }
   ],
   "source": [
    "display_json(calcnode.outputs.results.get_dict())"
   ]
  },
  {
   "cell_type": "markdown",
   "metadata": {},
   "source": [
    "To understand the format of the parsed data,\n",
    "the raw parser is exposed on the command line as `verdi data crystal17.parse stdout`,\n",
    "which can be used to parse existing output files."
   ]
  }
 ],
 "metadata": {
  "celltoolbar": "Tags",
  "hide_input": false,
  "ipub": {
   "sphinx": {
    "toggle_input_all": true,
    "toggle_output_all": true
   }
  },
  "jupytext": {
   "formats": "ipynb,md:myst"
  },
  "kernelspec": {
   "display_name": "Python 3",
   "language": "python",
   "name": "python3"
  },
  "language_info": {
   "codemirror_mode": {
    "name": "ipython",
    "version": 3
   },
   "file_extension": ".py",
   "mimetype": "text/x-python",
   "name": "python",
   "nbconvert_exporter": "python",
   "pygments_lexer": "ipython3",
   "version": "3.6.7"
  },
  "toc": {
   "base_numbering": 1,
   "nav_menu": {},
   "number_sections": true,
   "sideBar": true,
   "skip_h1_title": false,
   "title_cell": "Table of Contents",
   "title_sidebar": "Contents",
   "toc_cell": false,
   "toc_position": {
    "height": "calc(100% - 180px)",
    "left": "10px",
    "top": "150px",
    "width": "256px"
   },
   "toc_section_display": true,
   "toc_window_display": true
  }
 },
 "nbformat": 4,
 "nbformat_minor": 2
}
