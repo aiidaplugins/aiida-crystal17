{
 "cells": [
  {
   "cell_type": "markdown",
   "metadata": {},
   "source": [
    "(props_doss)=\n",
    "\n",
    "# Properties: Density of States (DOSS)"
   ]
  },
  {
   "cell_type": "markdown",
   "metadata": {},
   "source": [
    "The {py:class}`~.aiida_crystal17.calculations.prop_doss.CryDossCalculation` can be used to run the `properties`\n",
    "executable for DOSS calculations, from an existing `fort.9`."
   ]
  },
  {
   "cell_type": "markdown",
   "metadata": {},
   "source": [
    ":::{seealso}\n",
    "{ref}`props_workflow` to run multiple properties calculations\n",
    "(and optional initial SCF).\n",
    ":::"
   ]
  },
  {
   "cell_type": "code",
   "execution_count": 2,
   "metadata": {},
   "outputs": [
    {
     "name": "stdout",
     "output_type": "stream",
     "text": [
      "\u001b[31m\u001b[1mInputs\u001b[0m\n",
      "\u001b[1m           code:  required  Code                                    The Code to use for this job.\u001b[0m\n",
      "\u001b[1m     parameters:  required  Dict                                    the input parameters to create the properties input file.\u001b[0m\n",
      "\u001b[1m      wf_folder:  required  FolderData, RemoteData, SinglefileData  the folder containing the wavefunction fort.9 file\u001b[0m\n",
      "       metadata:  optional                                          \u001b[0m\n",
      "\u001b[31m\u001b[1mOutputs\u001b[0m\n",
      "\u001b[1m  remote_folder:  required  RemoteData                              Input files necessary to run the process will be stored in this folder node ...\u001b[0m\n",
      "\u001b[1m        results:  required  Dict                                    Summary Data extracted from the output file(s)\u001b[0m\n",
      "\u001b[1m      retrieved:  required  FolderData                              Files that are retrieved by the daemon will be stored in this node. By defa ...\u001b[0m\n",
      "         arrays:  optional  ArrayData                               energies and DoS arrays\u001b[0m\n",
      "\u001b[31m\u001b[1mExit codes\u001b[0m\n",
      "              1:  The process has failed with an unspecified error.\u001b[0m\n",
      "              2:  The process failed with legacy failure mode.\u001b[0m\n",
      "             10:  The process returned an invalid output.\u001b[0m\n",
      "             11:  The process did not register a required output.\u001b[0m\n",
      "            200:  The retrieved folder data node could not be accessed.\u001b[0m\n",
      "            210:  The main (stdout) output file was not found\u001b[0m\n",
      "            211:  The temporary retrieved folder was not found\u001b[0m\n",
      "            300:  An error was flagged trying to parse the crystal exec stdout file\u001b[0m\n",
      "            350:  The input file could not be read by crystal\u001b[0m\n",
      "            351:  Crystal could not find the required wavefunction file\u001b[0m\n",
      "            352:  Parser could not find the output isovalue (fort.25) file\u001b[0m\n",
      "            353:  Error parsing output isovalue (fort.25) file\u001b[0m\n",
      "            400:  The calculation stopped prematurely because it ran out of walltime.\u001b[0m\n",
      "            401:  The calculation stopped prematurely because it ran out of memory.\u001b[0m\n",
      "            402:  The calculation stopped prematurely because it ran out of virtual memory.\u001b[0m\n",
      "            413:  An error encountered usually during geometry optimisation\u001b[0m\n",
      "            414:  An error was encountered during an scf computation\u001b[0m\n",
      "            415:  An unknown error was encountered, causing the mpi to abort\u001b[0m\n",
      "            499:  The main crystal output file flagged an unhandled error\u001b[0m\n"
     ]
    }
   ],
   "source": [
    "!verdi plugin list aiida.calculations crystal17.doss"
   ]
  },
  {
   "cell_type": "code",
   "execution_count": 2,
   "metadata": {
    "init_cell": true
   },
   "outputs": [
    {
     "data": {
      "text/plain": [
       "'test_crystal17'"
      ]
     },
     "execution_count": 2,
     "metadata": {},
     "output_type": "execute_result"
    }
   ],
   "source": [
    "from aiida import engine, load_profile, orm, plugins\n",
    "from aiida.tools.visualization import Graph\n",
    "from aiida_crystal17.common import recursive_round\n",
    "from aiida_crystal17.tests.utils import (\n",
    "    get_or_create_local_computer, get_or_create_code,\n",
    "    get_default_metadata)\n",
    "from aiida_crystal17.tests import open_resource_binary\n",
    "import matplotlib.pyplot as plt\n",
    "%matplotlib inline\n",
    "profile = load_profile()\n",
    "profile.name"
   ]
  },
  {
   "cell_type": "markdown",
   "metadata": {},
   "source": [
    "## Running a calculation"
   ]
  },
  {
   "cell_type": "markdown",
   "metadata": {},
   "source": [
    "The {ref}`doss_input_schema` gives the allowed format of the input dictionary, for example:"
   ]
  },
  {
   "cell_type": "code",
   "execution_count": 16,
   "metadata": {},
   "outputs": [],
   "source": [
    "computer = get_or_create_local_computer('work_directory', 'localhost')\n",
    "code = get_or_create_code('crystal17.doss', computer, 'mock_properties17')\n",
    "\n",
    "builder = code.get_builder()\n",
    "builder.metadata = get_default_metadata()\n",
    "builder.parameters = orm.Dict(dict={\n",
    "    \"k_points\": [18, 36],\n",
    "    \"npoints\": 100,\n",
    "    \"band_minimum\": -10,\n",
    "    \"band_maximum\": 10,\n",
    "    \"band_units\": \"eV\"\n",
    "})\n",
    "with open_resource_binary('doss', 'mgo_sto3g_scf', 'fort.9') as handle:\n",
    "    builder.wf_folder = orm.SinglefileData(handle)"
   ]
  },
  {
   "cell_type": "code",
   "execution_count": 19,
   "metadata": {},
   "outputs": [],
   "source": [
    "result, calcnode = engine.run_get_node(builder)"
   ]
  },
  {
   "cell_type": "code",
   "execution_count": 20,
   "metadata": {},
   "outputs": [
    {
     "name": "stdout",
     "output_type": "stream",
     "text": [
      "\u001b[22mProperty       Value\n",
      "-------------  ------------------------------------\n",
      "type           CalcJobNode\n",
      "pk             884\n",
      "uuid           ff55e9d9-9a03-4375-b5d9-2353794f1c92\n",
      "label\n",
      "description\n",
      "ctime          2019-09-24 14:04:37.274585+00:00\n",
      "mtime          2019-09-24 14:04:51.167679+00:00\n",
      "process state  Finished\n",
      "exit status    0\n",
      "computer       [1] localhost\n",
      "\n",
      "Inputs        PK  Type\n",
      "----------  ----  --------------\n",
      "code         881  Code\n",
      "parameters   882  Dict\n",
      "wf_folder    883  SinglefileData\n",
      "\n",
      "Outputs          PK  Type\n",
      "-------------  ----  ----------\n",
      "arrays          888  ArrayData\n",
      "remote_folder   885  RemoteData\n",
      "results         887  Dict\n",
      "retrieved       886  FolderData\u001b[0m\n"
     ]
    }
   ],
   "source": [
    "!verdi process show {calcnode.pk}"
   ]
  },
  {
   "cell_type": "code",
   "execution_count": 21,
   "metadata": {
    "ipub": {
     "figure": {
      "caption": "`crystal17.doss` calculation provenance graph."
     }
    }
   },
   "outputs": [
    {
     "data": {
      "image/svg+xml": [
       "<?xml version=\"1.0\" encoding=\"UTF-8\" standalone=\"no\"?>\n",
       "<!DOCTYPE svg PUBLIC \"-//W3C//DTD SVG 1.1//EN\"\n",
       " \"http://www.w3.org/Graphics/SVG/1.1/DTD/svg11.dtd\">\n",
       "<!-- Generated by graphviz version 2.40.1 (20161225.0304)\n",
       " -->\n",
       "<!-- Title: %3 Pages: 1 -->\n",
       "<svg width=\"432pt\" height=\"113pt\"\n",
       " viewBox=\"0.00 0.00 432.00 113.00\" xmlns=\"http://www.w3.org/2000/svg\" xmlns:xlink=\"http://www.w3.org/1999/xlink\">\n",
       "<g id=\"graph0\" class=\"graph\" transform=\"scale(.5126 .5126) rotate(0) translate(4 216.4558)\">\n",
       "<title>%3</title>\n",
       "<polygon fill=\"#ffffff\" stroke=\"transparent\" points=\"-4,4 -4,-216.4558 838.837,-216.4558 838.837,4 -4,4\"/>\n",
       "<!-- N884 -->\n",
       "<g id=\"node1\" class=\"node\">\n",
       "<title>N884</title>\n",
       "<polygon fill=\"#de707f\" stroke=\"#000000\" stroke-width=\"0\" points=\"550.3068,-138.4558 386.5677,-138.4558 386.5677,-88.4558 550.3068,-88.4558 550.3068,-138.4558\"/>\n",
       "<text text-anchor=\"middle\" x=\"468.4372\" y=\"-123.2558\" font-family=\"Times,serif\" font-size=\"14.00\" fill=\"#000000\">CryDossCalculation (884)</text>\n",
       "<text text-anchor=\"middle\" x=\"468.4372\" y=\"-109.2558\" font-family=\"Times,serif\" font-size=\"14.00\" fill=\"#000000\">State: finished</text>\n",
       "<text text-anchor=\"middle\" x=\"468.4372\" y=\"-95.2558\" font-family=\"Times,serif\" font-size=\"14.00\" fill=\"#000000\">Exit Code: 0</text>\n",
       "</g>\n",
       "<!-- N888 -->\n",
       "<g id=\"node5\" class=\"node\">\n",
       "<title>N888</title>\n",
       "<ellipse fill=\"#8cd499\" stroke=\"#000000\" stroke-width=\"0\" cx=\"750.1278\" cy=\"-194.4558\" rx=\"68.5802\" ry=\"18\"/>\n",
       "<text text-anchor=\"middle\" x=\"750.1278\" y=\"-190.2558\" font-family=\"Times,serif\" font-size=\"14.00\" fill=\"#000000\">ArrayData (888)</text>\n",
       "</g>\n",
       "<!-- N884&#45;&gt;N888 -->\n",
       "<g id=\"edge4\" class=\"edge\">\n",
       "<title>N884&#45;&gt;N888</title>\n",
       "<path fill=\"none\" stroke=\"#000000\" d=\"M514.0216,-138.5949C530.6462,-146.8998 549.8531,-155.522 568.1218,-161.4558 602.9977,-172.7839 642.9724,-180.5718 676.5585,-185.724\"/>\n",
       "<polygon fill=\"#000000\" stroke=\"#000000\" points=\"676.3583,-189.2326 686.764,-187.2393 677.3865,-182.3085 676.3583,-189.2326\"/>\n",
       "<text text-anchor=\"middle\" x=\"607.7702\" y=\"-197.2558\" font-family=\"Times,serif\" font-size=\"14.00\" fill=\"#000000\">CREATE</text>\n",
       "<text text-anchor=\"middle\" x=\"607.7702\" y=\"-183.2558\" font-family=\"Times,serif\" font-size=\"14.00\" fill=\"#000000\">arrays</text>\n",
       "</g>\n",
       "<!-- N887 -->\n",
       "<g id=\"node6\" class=\"node\">\n",
       "<title>N887</title>\n",
       "<ellipse fill=\"#8cd499\" stroke=\"#000000\" stroke-width=\"0\" cx=\"750.1278\" cy=\"-140.4558\" rx=\"46.8976\" ry=\"18\"/>\n",
       "<text text-anchor=\"middle\" x=\"750.1278\" y=\"-136.2558\" font-family=\"Times,serif\" font-size=\"14.00\" fill=\"#000000\">Dict (887)</text>\n",
       "</g>\n",
       "<!-- N884&#45;&gt;N887 -->\n",
       "<g id=\"edge5\" class=\"edge\">\n",
       "<title>N884&#45;&gt;N887</title>\n",
       "<path fill=\"none\" stroke=\"#000000\" d=\"M550.2922,-121.3016C596.5651,-125.7369 653.2064,-131.1659 694.3554,-135.1101\"/>\n",
       "<polygon fill=\"#000000\" stroke=\"#000000\" points=\"694.1791,-138.6091 704.4675,-136.0793 694.8471,-131.6411 694.1791,-138.6091\"/>\n",
       "<text text-anchor=\"middle\" x=\"607.7702\" y=\"-146.2558\" font-family=\"Times,serif\" font-size=\"14.00\" fill=\"#000000\">CREATE</text>\n",
       "<text text-anchor=\"middle\" x=\"607.7702\" y=\"-132.2558\" font-family=\"Times,serif\" font-size=\"14.00\" fill=\"#000000\">results</text>\n",
       "</g>\n",
       "<!-- N886 -->\n",
       "<g id=\"node7\" class=\"node\">\n",
       "<title>N886</title>\n",
       "<ellipse fill=\"#8cd499\" stroke=\"#000000\" stroke-width=\"0\" cx=\"750.1278\" cy=\"-86.4558\" rx=\"71.0117\" ry=\"18\"/>\n",
       "<text text-anchor=\"middle\" x=\"750.1278\" y=\"-82.2558\" font-family=\"Times,serif\" font-size=\"14.00\" fill=\"#000000\">FolderData (886)</text>\n",
       "</g>\n",
       "<!-- N884&#45;&gt;N886 -->\n",
       "<g id=\"edge6\" class=\"edge\">\n",
       "<title>N884&#45;&gt;N886</title>\n",
       "<path fill=\"none\" stroke=\"#000000\" d=\"M550.3654,-94.083C556.3523,-93.0649 562.317,-92.1696 568.1218,-91.4558 600.9615,-87.4181 637.374,-85.8463 668.9476,-85.399\"/>\n",
       "<polygon fill=\"#000000\" stroke=\"#000000\" points=\"669.056,-88.8981 679.0181,-85.2916 668.9813,-81.8985 669.056,-88.8981\"/>\n",
       "<text text-anchor=\"middle\" x=\"607.7702\" y=\"-108.2558\" font-family=\"Times,serif\" font-size=\"14.00\" fill=\"#000000\">CREATE</text>\n",
       "<text text-anchor=\"middle\" x=\"607.7702\" y=\"-94.2558\" font-family=\"Times,serif\" font-size=\"14.00\" fill=\"#000000\">retrieved</text>\n",
       "</g>\n",
       "<!-- N885 -->\n",
       "<g id=\"node8\" class=\"node\">\n",
       "<title>N885</title>\n",
       "<ellipse fill=\"#8cd499\" stroke=\"#000000\" stroke-width=\"0\" cx=\"750.1278\" cy=\"-25.4558\" rx=\"84.9189\" ry=\"25.4118\"/>\n",
       "<text text-anchor=\"middle\" x=\"750.1278\" y=\"-28.2558\" font-family=\"Times,serif\" font-size=\"14.00\" fill=\"#000000\">RemoteData (885)</text>\n",
       "<text text-anchor=\"middle\" x=\"750.1278\" y=\"-14.2558\" font-family=\"Times,serif\" font-size=\"14.00\" fill=\"#000000\">@localhost</text>\n",
       "</g>\n",
       "<!-- N884&#45;&gt;N885 -->\n",
       "<g id=\"edge7\" class=\"edge\">\n",
       "<title>N884&#45;&gt;N885</title>\n",
       "<path fill=\"none\" stroke=\"#000000\" d=\"M502.7345,-88.2409C521.2235,-75.8616 544.9492,-61.8418 568.1218,-53.4558 596.2233,-43.2861 628.07,-36.81 657.1799,-32.686\"/>\n",
       "<polygon fill=\"#000000\" stroke=\"#000000\" points=\"657.905,-36.1202 667.3516,-31.3232 656.9754,-29.1822 657.905,-36.1202\"/>\n",
       "<text text-anchor=\"middle\" x=\"607.7702\" y=\"-70.2558\" font-family=\"Times,serif\" font-size=\"14.00\" fill=\"#000000\">CREATE</text>\n",
       "<text text-anchor=\"middle\" x=\"607.7702\" y=\"-56.2558\" font-family=\"Times,serif\" font-size=\"14.00\" fill=\"#000000\">remote_folder</text>\n",
       "</g>\n",
       "<!-- N883 -->\n",
       "<g id=\"node2\" class=\"node\">\n",
       "<title>N883</title>\n",
       "<ellipse fill=\"#8cd499\" stroke=\"#000000\" stroke-width=\"0\" cx=\"132.597\" cy=\"-174.4558\" rx=\"91.7361\" ry=\"25.4118\"/>\n",
       "<text text-anchor=\"middle\" x=\"132.597\" y=\"-177.2558\" font-family=\"Times,serif\" font-size=\"14.00\" fill=\"#000000\">SinglefileData (883)</text>\n",
       "<text text-anchor=\"middle\" x=\"132.597\" y=\"-163.2558\" font-family=\"Times,serif\" font-size=\"14.00\" fill=\"#000000\">fort.9</text>\n",
       "</g>\n",
       "<!-- N883&#45;&gt;N884 -->\n",
       "<g id=\"edge1\" class=\"edge\">\n",
       "<title>N883&#45;&gt;N884</title>\n",
       "<path fill=\"none\" stroke=\"#000000\" d=\"M221.2994,-167.5537C265.8822,-163.0778 320.5419,-156.0549 368.7526,-145.4558 374.4389,-144.2057 380.2628,-142.7675 386.1009,-141.2077\"/>\n",
       "<polygon fill=\"#000000\" stroke=\"#000000\" points=\"387.2198,-144.5295 395.9177,-138.4799 385.3456,-137.7851 387.2198,-144.5295\"/>\n",
       "<text text-anchor=\"middle\" x=\"325.9733\" y=\"-176.2558\" font-family=\"Times,serif\" font-size=\"14.00\" fill=\"#000000\">INPUT_CALC</text>\n",
       "<text text-anchor=\"middle\" x=\"325.9733\" y=\"-162.2558\" font-family=\"Times,serif\" font-size=\"14.00\" fill=\"#000000\">wf_folder</text>\n",
       "</g>\n",
       "<!-- N882 -->\n",
       "<g id=\"node3\" class=\"node\">\n",
       "<title>N882</title>\n",
       "<ellipse fill=\"#8cd499\" stroke=\"#000000\" stroke-width=\"0\" cx=\"132.597\" cy=\"-113.4558\" rx=\"46.8976\" ry=\"18\"/>\n",
       "<text text-anchor=\"middle\" x=\"132.597\" y=\"-109.2558\" font-family=\"Times,serif\" font-size=\"14.00\" fill=\"#000000\">Dict (882)</text>\n",
       "</g>\n",
       "<!-- N882&#45;&gt;N884 -->\n",
       "<g id=\"edge2\" class=\"edge\">\n",
       "<title>N882&#45;&gt;N884</title>\n",
       "<path fill=\"none\" stroke=\"#000000\" d=\"M179.6478,-113.4558C230.4549,-113.4558 312.6669,-113.4558 376.4056,-113.4558\"/>\n",
       "<polygon fill=\"#000000\" stroke=\"#000000\" points=\"376.469,-116.9559 386.469,-113.4558 376.469,-109.9559 376.469,-116.9559\"/>\n",
       "<text text-anchor=\"middle\" x=\"325.9733\" y=\"-130.2558\" font-family=\"Times,serif\" font-size=\"14.00\" fill=\"#000000\">INPUT_CALC</text>\n",
       "<text text-anchor=\"middle\" x=\"325.9733\" y=\"-116.2558\" font-family=\"Times,serif\" font-size=\"14.00\" fill=\"#000000\">parameters</text>\n",
       "</g>\n",
       "<!-- N881 -->\n",
       "<g id=\"node4\" class=\"node\">\n",
       "<title>N881</title>\n",
       "<ellipse fill=\"#4ca4b9\" fill-opacity=\"0.666667\" stroke=\"#000000\" stroke-width=\"0\" cx=\"132.597\" cy=\"-52.4558\" rx=\"132.6941\" ry=\"25.4118\"/>\n",
       "<text text-anchor=\"middle\" x=\"132.597\" y=\"-55.2558\" font-family=\"Times,serif\" font-size=\"14.00\" fill=\"#000000\">Code (881)</text>\n",
       "<text text-anchor=\"middle\" x=\"132.597\" y=\"-41.2558\" font-family=\"Times,serif\" font-size=\"14.00\" fill=\"#000000\">mock_properties17@localhost</text>\n",
       "</g>\n",
       "<!-- N881&#45;&gt;N884 -->\n",
       "<g id=\"edge3\" class=\"edge\">\n",
       "<title>N881&#45;&gt;N884</title>\n",
       "<path fill=\"none\" stroke=\"#000000\" d=\"M253.7814,-62.9011C290.9203,-67.2884 331.7372,-73.3181 368.7526,-81.4558 374.4389,-82.706 380.2628,-84.1442 386.1009,-85.704\"/>\n",
       "<polygon fill=\"#000000\" stroke=\"#000000\" points=\"385.3456,-89.1266 395.9177,-88.4318 387.2198,-82.3822 385.3456,-89.1266\"/>\n",
       "<text text-anchor=\"middle\" x=\"325.9733\" y=\"-98.2558\" font-family=\"Times,serif\" font-size=\"14.00\" fill=\"#000000\">INPUT_CALC</text>\n",
       "<text text-anchor=\"middle\" x=\"325.9733\" y=\"-84.2558\" font-family=\"Times,serif\" font-size=\"14.00\" fill=\"#000000\">code</text>\n",
       "</g>\n",
       "</g>\n",
       "</svg>\n"
      ],
      "text/plain": [
       "<graphviz.dot.Digraph at 0x10e025128>"
      ]
     },
     "execution_count": 21,
     "metadata": {},
     "output_type": "execute_result"
    }
   ],
   "source": [
    "graph = Graph(graph_attr={'size': \"6,8!\", \"rankdir\": \"LR\"})\n",
    "graph.add_node(calcnode)\n",
    "graph.add_incoming(calcnode, annotate_links=\"both\")\n",
    "graph.add_outgoing(calcnode, annotate_links=\"both\")\n",
    "graph.graphviz"
   ]
  },
  {
   "cell_type": "markdown",
   "metadata": {},
   "source": [
    "## Analysing the outputs"
   ]
  },
  {
   "cell_type": "markdown",
   "metadata": {},
   "source": [
    "The outputs are:\n",
    "\n",
    "- **results** a dict of computation input and output parameters, parsed from the stdout file.\n",
    "- **arrays** a set of energy and DoS arrays for each point"
   ]
  },
  {
   "cell_type": "code",
   "execution_count": 29,
   "metadata": {},
   "outputs": [
    {
     "data": {
      "text/plain": [
       "{'newk': {'k_points': [18, 18, 18],\n",
       "  'gilat_net': 36,\n",
       "  'n_kpoints_ibz': 195,\n",
       "  'n_kpoints_gilat': 1240},\n",
       " 'npts': 102,\n",
       " 'spin': False,\n",
       " 'units': {'energy': 'eV', 'conversion': 'CODATA2014'},\n",
       " 'errors': [],\n",
       " 'header': {'crystal_version': 17, 'crystal_subversion': '1.0.1'},\n",
       " 'warnings': [],\n",
       " 'wf_input': {'n_ao': 14,\n",
       "  'n_atoms': 2,\n",
       "  'k_points': [8, 8, 8],\n",
       "  'n_shells': 5,\n",
       "  'n_symops': 48,\n",
       "  'gilat_net': 8,\n",
       "  'n_core_el': 12,\n",
       "  'n_electrons': 20,\n",
       "  'energy_fermi': -4.0,\n",
       "  'energy_total': -7380.2,\n",
       "  'n_kpoints_ibz': 29,\n",
       "  'energy_kinetic': 7269.0},\n",
       " 'energy_max': 10.4,\n",
       " 'energy_min': -10.2,\n",
       " 'system_type': 'closed shell, insulating system',\n",
       " 'fermi_energy': -4.0,\n",
       " 'parser_class': 'CryDossParser',\n",
       " 'parser_errors': [],\n",
       " 'parser_version': '0.10.0b5',\n",
       " 'norbitals_total': 14,\n",
       " 'parser_exceptions': [],\n",
       " 'execution_time_seconds': 0}"
      ]
     },
     "execution_count": 29,
     "metadata": {},
     "output_type": "execute_result"
    }
   ],
   "source": [
    "recursive_round(calcnode.outputs.results.get_dict(), 1)"
   ]
  },
  {
   "cell_type": "code",
   "execution_count": 33,
   "metadata": {
    "ipub": {
     "figure": {
      "caption": "`crystal17.doss` MgO DoS plot."
     }
    }
   },
   "outputs": [
    {
     "data": {
      "image/png": "[encoded data removed]",
      "text/plain": [
       "<Figure size 432x288 with 1 Axes>"
      ]
     },
     "metadata": {
      "needs_background": "light"
     },
     "output_type": "display_data"
    }
   ],
   "source": [
    "plt.plot(\n",
    "    calcnode.outputs.arrays.get_array(\"energies\"),\n",
    "    calcnode.outputs.arrays.get_array(\"total\"))\n",
    "plt.gca().set_xbound(-10, 0)"
   ]
  },
  {
   "cell_type": "markdown",
   "metadata": {},
   "source": [
    "(doss_projections)=\n",
    "\n",
    "## Computing Projections\n",
    "\n",
    "Projections can be added per atom or per orbital set.\n",
    "\n",
    ":::{note}\n",
    "A maximum of 15 projections are allowed per calculation.\n",
    ":::{note}"
   ]
  },
  {
   "cell_type": "code",
   "execution_count": 6,
   "metadata": {},
   "outputs": [
    {
     "data": {
      "text/plain": [
       "<Dict: uuid: c2ec5f24-bd4b-46fe-ba21-23b121ad3f6d (unstored)>"
      ]
     },
     "execution_count": 6,
     "metadata": {},
     "output_type": "execute_result"
    }
   ],
   "source": [
    "orm.Dict(dict={\n",
    "    \"shrink_is\": 18,\n",
    "    \"shrink_isp\": 36,\n",
    "    \"npoints\": 100,\n",
    "    \"band_minimum\": -10,\n",
    "    \"band_maximum\": 10,\n",
    "    \"band_units\": \"eV\",\n",
    "    \"atomic_projections\": [0, 1],\n",
    "    \"orbital_projections\": [[1, 2, 3]]\n",
    "})"
   ]
  },
  {
   "cell_type": "markdown",
   "metadata": {},
   "source": [
    "In order to create orbital sets,\n",
    "it is possible to compute the nature of each orbital,\n",
    "using the atomic structure and basis sets used to create the ``fort.9``:"
   ]
  },
  {
   "cell_type": "code",
   "execution_count": 3,
   "metadata": {},
   "outputs": [
    {
     "name": "stdout",
     "output_type": "stream",
     "text": [
      "StructureData Summary\n",
      "Lattice\n",
      "    abc : 2.944 2.944 4.164\n",
      " angles :  90.0  90.0  90.0\n",
      " volume :  36.1\n",
      "    pbc : True True True\n",
      "      A : 2.944   0.0   0.0\n",
      "      B :   0.0 2.944   0.0\n",
      "      C :   0.0   0.0 4.164\n",
      "Kind  Symbols Position\n",
      "----  ------- --------\n",
      "Ni1   Ni      0.0     0.0     0.0    \n",
      "Ni2   Ni      1.472   1.472   2.082  \n",
      "O     O       0.0     0.0     2.082  \n",
      "O     O       1.472   1.472   0.0    \n"
     ]
    }
   ],
   "source": [
    "from aiida_crystal17.tests import get_test_structure_and_symm\n",
    "from aiida_crystal17.symmetry import print_structure\n",
    "structure, _ = get_test_structure_and_symm('NiO_afm')\n",
    "print_structure(structure)"
   ]
  },
  {
   "cell_type": "code",
   "execution_count": 4,
   "metadata": {},
   "outputs": [
    {
     "data": {
      "text/plain": [
       "{'Ni': {'type': 'all-electron',\n",
       "  'bs': [{'type': 'S', 'functions': ['STO-nG(nd) type 3-21G core shell']},\n",
       "   {'type': 'SP', 'functions': ['STO-nG(nd) type 3-21G core shell']},\n",
       "   {'type': 'SP', 'functions': ['STO-nG(nd) type 3-21G core shell']},\n",
       "   {'type': 'SP', 'functions': ['STO-nG(nd) type 3-21G core shell']},\n",
       "   {'type': 'D', 'functions': ['STO-nG(nd) type 3-21G core shell']}]},\n",
       " 'O': {'type': 'all-electron',\n",
       "  'bs': [{'type': 'S', 'functions': ['STO-nG(nd) type 3-21G core shell']},\n",
       "   {'type': 'SP', 'functions': ['STO-nG(nd) type 3-21G core shell']}]}}"
      ]
     },
     "execution_count": 4,
     "metadata": {},
     "output_type": "execute_result"
    }
   ],
   "source": [
    "basis_cls = plugins.DataFactory('crystal17.basisset')\n",
    "basis_sets = basis_cls.get_basissets_from_structure(structure, 'sto3g')\n",
    "basis_data = {k: v.get_data() for k, v in basis_sets.items()}\n",
    "basis_data"
   ]
  },
  {
   "cell_type": "code",
   "execution_count": 5,
   "metadata": {},
   "outputs": [
    {
     "name": "stdout",
     "output_type": "stream",
     "text": [
      "number of electrons:  72\n",
      "number of core electrons:  40\n"
     ]
    },
    {
     "data": {
      "text/plain": [
       "{1: {'atom': 0, 'element': 'Ni', 'type': 'S', 'index': 1},\n",
       " 2: {'atom': 0, 'element': 'Ni', 'type': 'SP', 'index': 1},\n",
       " 3: {'atom': 0, 'element': 'Ni', 'type': 'SP', 'index': 1},\n",
       " 4: {'atom': 0, 'element': 'Ni', 'type': 'SP', 'index': 1},\n",
       " 5: {'atom': 0, 'element': 'Ni', 'type': 'SP', 'index': 1},\n",
       " 6: {'atom': 0, 'element': 'Ni', 'type': 'SP', 'index': 2},\n",
       " 7: {'atom': 0, 'element': 'Ni', 'type': 'SP', 'index': 2},\n",
       " 8: {'atom': 0, 'element': 'Ni', 'type': 'SP', 'index': 2},\n",
       " 9: {'atom': 0, 'element': 'Ni', 'type': 'SP', 'index': 2},\n",
       " 10: {'atom': 0, 'element': 'Ni', 'type': 'SP', 'index': 3},\n",
       " 11: {'atom': 0, 'element': 'Ni', 'type': 'SP', 'index': 3},\n",
       " 12: {'atom': 0, 'element': 'Ni', 'type': 'SP', 'index': 3},\n",
       " 13: {'atom': 0, 'element': 'Ni', 'type': 'SP', 'index': 3},\n",
       " 14: {'atom': 0, 'element': 'Ni', 'type': 'D', 'index': 1},\n",
       " 15: {'atom': 0, 'element': 'Ni', 'type': 'D', 'index': 1},\n",
       " 16: {'atom': 0, 'element': 'Ni', 'type': 'D', 'index': 1},\n",
       " 17: {'atom': 0, 'element': 'Ni', 'type': 'D', 'index': 1},\n",
       " 18: {'atom': 0, 'element': 'Ni', 'type': 'D', 'index': 1},\n",
       " 19: {'atom': 1, 'element': 'Ni', 'type': 'S', 'index': 1},\n",
       " 20: {'atom': 1, 'element': 'Ni', 'type': 'SP', 'index': 1},\n",
       " 21: {'atom': 1, 'element': 'Ni', 'type': 'SP', 'index': 1},\n",
       " 22: {'atom': 1, 'element': 'Ni', 'type': 'SP', 'index': 1},\n",
       " 23: {'atom': 1, 'element': 'Ni', 'type': 'SP', 'index': 1},\n",
       " 24: {'atom': 1, 'element': 'Ni', 'type': 'SP', 'index': 2},\n",
       " 25: {'atom': 1, 'element': 'Ni', 'type': 'SP', 'index': 2},\n",
       " 26: {'atom': 1, 'element': 'Ni', 'type': 'SP', 'index': 2},\n",
       " 27: {'atom': 1, 'element': 'Ni', 'type': 'SP', 'index': 2},\n",
       " 28: {'atom': 1, 'element': 'Ni', 'type': 'SP', 'index': 3},\n",
       " 29: {'atom': 1, 'element': 'Ni', 'type': 'SP', 'index': 3},\n",
       " 30: {'atom': 1, 'element': 'Ni', 'type': 'SP', 'index': 3},\n",
       " 31: {'atom': 1, 'element': 'Ni', 'type': 'SP', 'index': 3},\n",
       " 32: {'atom': 1, 'element': 'Ni', 'type': 'D', 'index': 1},\n",
       " 33: {'atom': 1, 'element': 'Ni', 'type': 'D', 'index': 1},\n",
       " 34: {'atom': 1, 'element': 'Ni', 'type': 'D', 'index': 1},\n",
       " 35: {'atom': 1, 'element': 'Ni', 'type': 'D', 'index': 1},\n",
       " 36: {'atom': 1, 'element': 'Ni', 'type': 'D', 'index': 1},\n",
       " 37: {'atom': 2, 'element': 'O', 'type': 'S', 'index': 1},\n",
       " 38: {'atom': 2, 'element': 'O', 'type': 'SP', 'index': 1},\n",
       " 39: {'atom': 2, 'element': 'O', 'type': 'SP', 'index': 1},\n",
       " 40: {'atom': 2, 'element': 'O', 'type': 'SP', 'index': 1},\n",
       " 41: {'atom': 2, 'element': 'O', 'type': 'SP', 'index': 1},\n",
       " 42: {'atom': 3, 'element': 'O', 'type': 'S', 'index': 1},\n",
       " 43: {'atom': 3, 'element': 'O', 'type': 'SP', 'index': 1},\n",
       " 44: {'atom': 3, 'element': 'O', 'type': 'SP', 'index': 1},\n",
       " 45: {'atom': 3, 'element': 'O', 'type': 'SP', 'index': 1},\n",
       " 46: {'atom': 3, 'element': 'O', 'type': 'SP', 'index': 1}}"
      ]
     },
     "execution_count": 5,
     "metadata": {},
     "output_type": "execute_result"
    }
   ],
   "source": [
    "from aiida_crystal17.parsers.raw.parse_bases import compute_orbitals\n",
    "cresult = compute_orbitals(structure.get_ase().numbers, basis_data)\n",
    "print(\"number of electrons: \", cresult.electrons)\n",
    "print(\"number of core electrons: \", cresult.core_electrons)\n",
    "cresult.ao_indices"
   ]
  },
  {
   "cell_type": "markdown",
   "metadata": {},
   "source": [
    "To observe DoS at the fermi level,\n",
    "these results can also be used to choose a sensible range of bands:"
   ]
  },
  {
   "cell_type": "code",
   "execution_count": 6,
   "metadata": {},
   "outputs": [
    {
     "data": {
      "text/plain": [
       "(21, 46)"
      ]
     },
     "execution_count": 6,
     "metadata": {},
     "output_type": "execute_result"
    }
   ],
   "source": [
    "filled_bands = int(cresult.electrons / 2)\n",
    "first_band = int(cresult.core_electrons / 2) + 1\n",
    "last_band = min([first_band + 2 * (filled_bands - first_band), cresult.number_ao])\n",
    "first_band, last_band"
   ]
  },
  {
   "cell_type": "code",
   "execution_count": 7,
   "metadata": {},
   "outputs": [],
   "source": [
    "O_sp_orbitals = [k for k, v in cresult.ao_indices.items()\n",
    "                 if v[\"element\"] == \"O\" and v[\"type\"] == \"SP\"]\n",
    "Ni_d_orbitals = [k for k, v in cresult.ao_indices.items()\n",
    "                 if v[\"element\"] == \"Ni\" and v[\"type\"] == \"D\"]"
   ]
  },
  {
   "cell_type": "code",
   "execution_count": 8,
   "metadata": {},
   "outputs": [],
   "source": [
    "computer = get_or_create_local_computer('work_directory', 'localhost')\n",
    "code = get_or_create_code('crystal17.doss', computer, 'mock_properties17')\n",
    "\n",
    "builder = code.get_builder()\n",
    "builder.metadata = get_default_metadata()\n",
    "builder.parameters = orm.Dict(dict={\n",
    "    \"k_points\": [18, 36],\n",
    "    \"npoints\": 1000,\n",
    "    \"band_minimum\": first_band,\n",
    "    \"band_maximum\": last_band,\n",
    "    \"band_units\": \"bands\",\n",
    "    \"orbital_projections\": [O_sp_orbitals, Ni_d_orbitals]\n",
    "})\n",
    "with open_resource_binary('doss', 'nio_sto3g_afm', 'fort.9') as handle:\n",
    "    builder.wf_folder = orm.SinglefileData(handle)"
   ]
  },
  {
   "cell_type": "code",
   "execution_count": 9,
   "metadata": {},
   "outputs": [],
   "source": [
    "result2, calcnode2 = engine.run_get_node(builder)"
   ]
  },
  {
   "cell_type": "code",
   "execution_count": 11,
   "metadata": {},
   "outputs": [
    {
     "data": {
      "text/plain": [
       "{'array|energies': [1002],\n",
       " 'array|total_beta': [1002],\n",
       " 'array|total_alpha': [1002],\n",
       " 'array|projections_beta': [2, 1002],\n",
       " 'array|projections_alpha': [2, 1002]}"
      ]
     },
     "execution_count": 11,
     "metadata": {},
     "output_type": "execute_result"
    }
   ],
   "source": [
    "calcnode2.outputs.arrays.attributes"
   ]
  },
  {
   "cell_type": "code",
   "execution_count": 13,
   "metadata": {},
   "outputs": [
    {
     "data": {
      "text/plain": [
       "6.89"
      ]
     },
     "execution_count": 13,
     "metadata": {},
     "output_type": "execute_result"
    }
   ],
   "source": [
    "round(calcnode2.res.fermi_energy, 2)"
   ]
  },
  {
   "cell_type": "code",
   "execution_count": 26,
   "metadata": {
    "ipub": {
     "figure": {
      "caption": "`crystal17.doss` NiO DoS plot, with orbital projections."
     }
    }
   },
   "outputs": [
    {
     "data": {
      "image/png": "[encoded data removed]",
      "text/plain": [
       "<Figure size 720x576 with 1 Axes>"
      ]
     },
     "metadata": {
      "needs_background": "light"
     },
     "output_type": "display_data"
    }
   ],
   "source": [
    "plt.plot(\n",
    "    calcnode2.outputs.arrays.get_array(\"energies\"),\n",
    "    calcnode2.outputs.arrays.get_array(\"total_alpha\"),\n",
    "    label=\"Total $\\\\alpha$\",\n",
    "    color=\"black\", linestyle=\"dashed\"\n",
    ")\n",
    "plt.plot(\n",
    "    calcnode2.outputs.arrays.get_array(\"energies\"),\n",
    "    calcnode2.outputs.arrays.get_array(\"total_beta\"),\n",
    "    label=\"Total $\\\\beta$\",\n",
    "    color=\"black\", linestyle=\"dashed\"\n",
    ")\n",
    "plt.plot(\n",
    "    calcnode2.outputs.arrays.get_array(\"energies\"),\n",
    "    calcnode2.outputs.arrays.get_array(\"projections_alpha\")[0],\n",
    "    label=\"O(sp) $\\\\alpha$\"\n",
    ")\n",
    "plt.plot(\n",
    "    calcnode2.outputs.arrays.get_array(\"energies\"),\n",
    "    calcnode2.outputs.arrays.get_array(\"projections_alpha\")[1],\n",
    "    label=\"Mg(d) $\\\\alpha$\"\n",
    ")\n",
    "plt.plot(\n",
    "    calcnode2.outputs.arrays.get_array(\"energies\"),\n",
    "    calcnode2.outputs.arrays.get_array(\"projections_beta\")[0],\n",
    "    label=\"O(sp) $\\\\beta$\"\n",
    ")\n",
    "plt.plot(\n",
    "    calcnode2.outputs.arrays.get_array(\"energies\"),\n",
    "    calcnode2.outputs.arrays.get_array(\"projections_beta\")[1],\n",
    "    label=\"Mg(d) $\\\\beta$\"\n",
    ")\n",
    "plt.legend();\n",
    "plt.gcf().set_size_inches(10, 8)"
   ]
  }
 ],
 "metadata": {
  "celltoolbar": "Edit Metadata",
  "hide_input": false,
  "jupytext": {
   "formats": "ipynb,md:myst"
  },
  "kernelspec": {
   "display_name": "Python 3",
   "language": "python",
   "name": "python3"
  },
  "language_info": {
   "codemirror_mode": {
    "name": "ipython",
    "version": 3
   },
   "file_extension": ".py",
   "mimetype": "text/x-python",
   "name": "python",
   "nbconvert_exporter": "python",
   "pygments_lexer": "ipython3",
   "version": "3.6.7"
  },
  "toc": {
   "base_numbering": 1,
   "nav_menu": {},
   "number_sections": true,
   "sideBar": true,
   "skip_h1_title": false,
   "title_cell": "Table of Contents",
   "title_sidebar": "Contents",
   "toc_cell": false,
   "toc_position": {},
   "toc_section_display": true,
   "toc_window_display": false
  }
 },
 "nbformat": 4,
 "nbformat_minor": 2
}
