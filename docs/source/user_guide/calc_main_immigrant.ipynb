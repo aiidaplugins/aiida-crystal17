{
 "cells": [
  {
   "cell_type": "markdown",
   "metadata": {},
   "source": [
    ".. _main_calculation_immigrant:"
   ]
  },
  {
   "cell_type": "markdown",
   "metadata": {},
   "source": [
    "# Main Calculation Immigration"
   ]
  },
  {
   "cell_type": "markdown",
   "metadata": {},
   "source": [
    "In order to immigrate existing CRYSTAL17 calculations,\n",
    "the :py:mod:`aiida_crystal17.immigration` module has been\n",
    "created to take a ``.d12`` and ``.out`` file set\n",
    "and replicate a ``crystal17.main`` calculation:"
   ]
  },
  {
   "cell_type": "markdown",
   "metadata": {},
   "source": [
    ".. note::\n",
    "\n",
    "    This approach may be subject to change, \n",
    "    if a general approach is developed for immigrant calculations\n",
    "    (see [this ongoing issue](https://github.com/aiidateam/aiida_core/issues/1892)).\n"
   ]
  },
  {
   "cell_type": "code",
   "execution_count": 1,
   "metadata": {
    "init_cell": true
   },
   "outputs": [],
   "source": [
    "from aiida import load_profile\n",
    "profile = load_profile()\n",
    "import os\n",
    "from aiida_crystal17.tests import TEST_FILES\n",
    "from aiida_crystal17.tests.utils import (\n",
    "    get_or_create_local_computer, get_or_create_code, \n",
    "    get_default_metadata)\n",
    "from aiida_crystal17.immigration.create_inputs import populate_builder\n",
    "from aiida_crystal17.immigration.create_calcjob import immigrate_existing\n",
    "from aiida_crystal17.common import display_json\n",
    "from aiida_crystal17.graph import Graph\n",
    "from aiida.orm import Code, RemoteData\n",
    "from aiida.common.folders import Folder"
   ]
  },
  {
   "cell_type": "markdown",
   "metadata": {},
   "source": [
    ":py:func:`aiida_crystal17.immigration.create_inputs.populate_builder`\n",
    "will create an input builder for the `crystal17.main` calculation,\n",
    "from a `FolderData` node, populated with the files, and a `Code` node."
   ]
  },
  {
   "cell_type": "code",
   "execution_count": 4,
   "metadata": {},
   "outputs": [],
   "source": [
    "computer = get_or_create_local_computer('work_directory', 'localhost')\n",
    "code = get_or_create_code('crystal17.main', computer, 'mock_runcry17')"
   ]
  },
  {
   "cell_type": "code",
   "execution_count": 6,
   "metadata": {},
   "outputs": [
    {
     "data": {
      "text/markdown": [
       "```json\n",
       "{\n",
       "  \"metadata\": {\n",
       "    \"options\": {\n",
       "      \"resources\": {\n",
       "        \"num_machines\": 1,\n",
       "        \"num_mpiprocs_per_machine\": 1\n",
       "      },\n",
       "      \"max_wallclock_seconds\": 1800,\n",
       "      \"withmpi\": false,\n",
       "      \"input_file_name\": \"test.d12\",\n",
       "      \"output_main_file_name\": \"test.out\"\n",
       "    }\n",
       "  },\n",
       "  \"basissets\": {\n",
       "    \"Ni\": [\n",
       "      \"uuid: 05ac25f1-88e3-4186-a38e-74b469bd1c75 (unstored)\"\n",
       "    ],\n",
       "    \"O\": [\n",
       "      \"uuid: 6938d72d-d31b-4b3c-8c3e-045f4cc5cc03 (unstored)\"\n",
       "    ]\n",
       "  },\n",
       "  \"parameters\": [\n",
       "    \"uuid: 407aaa5f-8feb-467a-ae66-cc7247a4f138 (unstored)\"\n",
       "  ],\n",
       "  \"structure\": [\n",
       "    \"uuid: 384c37bc-35bd-433e-ab32-76092be161c7 (unstored)\"\n",
       "  ],\n",
       "  \"symmetry\": [\n",
       "    \"uuid: 4390124f-b81d-4373-9324-39efb28b1464 (unstored)\"\n",
       "  ],\n",
       "  \"kinds\": [\n",
       "    \"uuid: fbb70f8f-40a3-4b27-abe7-66fb775d3cb9 (unstored)\"\n",
       "  ],\n",
       "  \"code\": [\n",
       "    \"Remote code 'crystal17.main-mock_runcry17@localhost' on localhost, pk:\",\n",
       "    \"8143, uuid: 9a015f42-277e-4637-8e66-cc236368339f\"\n",
       "  ]\n",
       "}\n",
       "```"
      ]
     },
     "metadata": {},
     "output_type": "display_data"
    }
   ],
   "source": [
    "metadata = get_default_metadata()\n",
    "metadata['options'].update({\n",
    "    \"input_file_name\": 'test.d12',\n",
    "    \"output_main_file_name\": \"test.out\"\n",
    "})\n",
    "remote = RemoteData(\n",
    "    remote_path=os.path.join(\n",
    "        TEST_FILES, \"crystal\", \"nio_sto3g_afm_opt\"), \n",
    "    computer=computer)\n",
    "\n",
    "builder = populate_builder(\n",
    "    remote, code=code, \n",
    "    metadata=metadata)\n",
    "\n",
    "display_json(builder)"
   ]
  },
  {
   "cell_type": "markdown",
   "metadata": {},
   "source": [
    ":py:func:`aiida_crystal17.immigration.create_calcjob.immigrate_existing`\n",
    "creates a `CalcJobNode` and uses the above function,\n",
    "and the `crystal17.main` parser, to create and attach incoming and outgoing nodes,\n",
    "replicating a full calculation."
   ]
  },
  {
   "cell_type": "code",
   "execution_count": 7,
   "metadata": {},
   "outputs": [
    {
     "data": {
      "text/plain": [
       "<CalcJobNode: uuid: ec565fe3-4533-42e9-8e0f-77058e8b84a8 (pk: 8150) (aiida.calculations:crystal17.main)>"
      ]
     },
     "execution_count": 7,
     "metadata": {},
     "output_type": "execute_result"
    }
   ],
   "source": [
    "calc_node = immigrate_existing(\n",
    "    builder, remote)\n",
    "calc_node"
   ]
  },
  {
   "cell_type": "code",
   "execution_count": 8,
   "metadata": {
    "ipub": {
     "figure": {
      "caption": "`crystal17.main` immigrated calculation provenance graph."
     }
    }
   },
   "outputs": [
    {
     "data": {
      "image/svg+xml": [
       "<?xml version=\"1.0\" encoding=\"UTF-8\" standalone=\"no\"?>\n",
       "<!DOCTYPE svg PUBLIC \"-//W3C//DTD SVG 1.1//EN\"\n",
       " \"http://www.w3.org/Graphics/SVG/1.1/DTD/svg11.dtd\">\n",
       "<!-- Generated by graphviz version 2.40.1 (20161225.0304)\n",
       " -->\n",
       "<!-- Title: %3 Pages: 1 -->\n",
       "<svg width=\"432pt\" height=\"182pt\"\n",
       " viewBox=\"0.00 0.00 432.00 182.05\" xmlns=\"http://www.w3.org/2000/svg\" xmlns:xlink=\"http://www.w3.org/1999/xlink\">\n",
       "<g id=\"graph0\" class=\"graph\" transform=\"scale(.4506 .4506) rotate(0) translate(4 400)\">\n",
       "<title>%3</title>\n",
       "<polygon fill=\"#ffffff\" stroke=\"transparent\" points=\"-4,4 -4,-400 954.7062,-400 954.7062,4 -4,4\"/>\n",
       "<!-- N8150 -->\n",
       "<g id=\"node1\" class=\"node\">\n",
       "<title>N8150</title>\n",
       "<ellipse fill=\"#90ee90\" stroke=\"#000000\" cx=\"579.2784\" cy=\"-180\" rx=\"121.6232\" ry=\"35.2113\"/>\n",
       "<text text-anchor=\"middle\" x=\"579.2784\" y=\"-189.8\" font-family=\"Times,serif\" font-size=\"14.00\" fill=\"#000000\">CryMainCalculation (8150)</text>\n",
       "<text text-anchor=\"middle\" x=\"579.2784\" y=\"-175.8\" font-family=\"Times,serif\" font-size=\"14.00\" fill=\"#000000\">State: finished</text>\n",
       "<text text-anchor=\"middle\" x=\"579.2784\" y=\"-161.8\" font-family=\"Times,serif\" font-size=\"14.00\" fill=\"#000000\">Exit Code: 0</text>\n",
       "</g>\n",
       "<!-- N8154 -->\n",
       "<g id=\"node9\" class=\"node\">\n",
       "<title>N8154</title>\n",
       "<polygon fill=\"none\" stroke=\"#000000\" points=\"950.4916,-279 816.3515,-279 816.3515,-243 950.4916,-243 950.4916,-279\"/>\n",
       "<text text-anchor=\"middle\" x=\"883.4215\" y=\"-263.8\" font-family=\"Times,serif\" font-size=\"14.00\" fill=\"#000000\">StructureData (8154)</text>\n",
       "<text text-anchor=\"middle\" x=\"883.4215\" y=\"-249.8\" font-family=\"Times,serif\" font-size=\"14.00\" fill=\"#000000\">Ni2O2</text>\n",
       "</g>\n",
       "<!-- N8150&#45;&gt;N8154 -->\n",
       "<g id=\"edge8\" class=\"edge\">\n",
       "<title>N8150&#45;&gt;N8154</title>\n",
       "<path fill=\"none\" stroke=\"#006400\" d=\"M650.5999,-208.7097C672.2693,-216.711 696.3111,-224.8781 718.84,-231 746.9224,-238.6309 778.2339,-244.8841 805.9451,-249.669\"/>\n",
       "<polygon fill=\"#006400\" stroke=\"#006400\" points=\"805.5354,-253.1494 815.9789,-251.3653 806.7023,-246.2473 805.5354,-253.1494\"/>\n",
       "<text text-anchor=\"middle\" x=\"758.4884\" y=\"-263.8\" font-family=\"Times,serif\" font-size=\"14.00\" fill=\"#000000\">CREATE</text>\n",
       "<text text-anchor=\"middle\" x=\"758.4884\" y=\"-249.8\" font-family=\"Times,serif\" font-size=\"14.00\" fill=\"#000000\">structure</text>\n",
       "</g>\n",
       "<!-- N8153 -->\n",
       "<g id=\"node10\" class=\"node\">\n",
       "<title>N8153</title>\n",
       "<polygon fill=\"none\" stroke=\"#000000\" points=\"923.8493,-225 842.9938,-225 842.9938,-189 923.8493,-189 923.8493,-225\"/>\n",
       "<text text-anchor=\"middle\" x=\"883.4215\" y=\"-202.8\" font-family=\"Times,serif\" font-size=\"14.00\" fill=\"#000000\">Dict (8153)</text>\n",
       "</g>\n",
       "<!-- N8150&#45;&gt;N8153 -->\n",
       "<g id=\"edge9\" class=\"edge\">\n",
       "<title>N8150&#45;&gt;N8153</title>\n",
       "<path fill=\"none\" stroke=\"#006400\" d=\"M695.5637,-190.3231C742.9289,-194.5279 795.2047,-199.1686 832.559,-202.4847\"/>\n",
       "<polygon fill=\"#006400\" stroke=\"#006400\" points=\"832.4124,-205.9854 842.6827,-203.3835 833.0314,-199.0128 832.4124,-205.9854\"/>\n",
       "<text text-anchor=\"middle\" x=\"758.4884\" y=\"-215.8\" font-family=\"Times,serif\" font-size=\"14.00\" fill=\"#000000\">CREATE</text>\n",
       "<text text-anchor=\"middle\" x=\"758.4884\" y=\"-201.8\" font-family=\"Times,serif\" font-size=\"14.00\" fill=\"#000000\">results</text>\n",
       "</g>\n",
       "<!-- N8152 -->\n",
       "<g id=\"node11\" class=\"node\">\n",
       "<title>N8152</title>\n",
       "<polygon fill=\"none\" stroke=\"#000000\" points=\"943.2254,-171 823.6177,-171 823.6177,-135 943.2254,-135 943.2254,-171\"/>\n",
       "<text text-anchor=\"middle\" x=\"883.4215\" y=\"-148.8\" font-family=\"Times,serif\" font-size=\"14.00\" fill=\"#000000\">FolderData (8152)</text>\n",
       "</g>\n",
       "<!-- N8150&#45;&gt;N8152 -->\n",
       "<g id=\"edge10\" class=\"edge\">\n",
       "<title>N8150&#45;&gt;N8152</title>\n",
       "<path fill=\"none\" stroke=\"#006400\" d=\"M686.9641,-163.4739C697.7162,-162.1526 708.4817,-160.9601 718.84,-160 749.7903,-157.1313 784.1256,-155.4368 813.393,-154.4364\"/>\n",
       "<polygon fill=\"#006400\" stroke=\"#006400\" points=\"813.6377,-157.9304 823.52,-154.1107 813.4126,-150.9341 813.6377,-157.9304\"/>\n",
       "<text text-anchor=\"middle\" x=\"758.4884\" y=\"-176.8\" font-family=\"Times,serif\" font-size=\"14.00\" fill=\"#000000\">CREATE</text>\n",
       "<text text-anchor=\"middle\" x=\"758.4884\" y=\"-162.8\" font-family=\"Times,serif\" font-size=\"14.00\" fill=\"#000000\">retrieved</text>\n",
       "</g>\n",
       "<!-- N8151 -->\n",
       "<g id=\"node12\" class=\"node\">\n",
       "<title>N8151</title>\n",
       "<polygon fill=\"none\" stroke=\"#000000\" points=\"946.7186,-117 820.1245,-117 820.1245,-81 946.7186,-81 946.7186,-117\"/>\n",
       "<text text-anchor=\"middle\" x=\"883.4215\" y=\"-101.8\" font-family=\"Times,serif\" font-size=\"14.00\" fill=\"#000000\">RemoteData (8151)</text>\n",
       "<text text-anchor=\"middle\" x=\"883.4215\" y=\"-87.8\" font-family=\"Times,serif\" font-size=\"14.00\" fill=\"#000000\">@localhost</text>\n",
       "</g>\n",
       "<!-- N8150&#45;&gt;N8151 -->\n",
       "<g id=\"edge11\" class=\"edge\">\n",
       "<title>N8150&#45;&gt;N8151</title>\n",
       "<path fill=\"none\" stroke=\"#006400\" d=\"M643.4619,-149.9698C666.7711,-140.091 693.59,-129.887 718.84,-123 748.1206,-115.0137 781.1013,-109.5396 809.8078,-105.8611\"/>\n",
       "<polygon fill=\"#006400\" stroke=\"#006400\" points=\"810.2734,-109.3303 819.7704,-104.6337 809.4174,-102.3828 810.2734,-109.3303\"/>\n",
       "<text text-anchor=\"middle\" x=\"758.4884\" y=\"-139.8\" font-family=\"Times,serif\" font-size=\"14.00\" fill=\"#000000\">CREATE</text>\n",
       "<text text-anchor=\"middle\" x=\"758.4884\" y=\"-125.8\" font-family=\"Times,serif\" font-size=\"14.00\" fill=\"#000000\">remote_folder</text>\n",
       "</g>\n",
       "<!-- N8143 -->\n",
       "<g id=\"node2\" class=\"node\">\n",
       "<title>N8143</title>\n",
       "<polygon fill=\"none\" stroke=\"#ffa500\" points=\"168.0791,-396 -.0791,-360 168.0791,-324 336.2373,-360 168.0791,-396\"/>\n",
       "<text text-anchor=\"middle\" x=\"168.0791\" y=\"-362.8\" font-family=\"Times,serif\" font-size=\"14.00\" fill=\"#000000\">Code (8143)</text>\n",
       "<text text-anchor=\"middle\" x=\"168.0791\" y=\"-348.8\" font-family=\"Times,serif\" font-size=\"14.00\" fill=\"#000000\">mock_runcry17@localhost</text>\n",
       "</g>\n",
       "<!-- N8143&#45;&gt;N8150 -->\n",
       "<g id=\"edge1\" class=\"edge\">\n",
       "<title>N8143&#45;&gt;N8150</title>\n",
       "<path fill=\"none\" stroke=\"#000000\" d=\"M286.4971,-349.2484C335.8187,-341.3611 392.4789,-327.6909 439.7168,-304 479.7051,-283.9449 517.1425,-249.4702 543.1555,-221.9544\"/>\n",
       "<polygon fill=\"#000000\" stroke=\"#000000\" points=\"545.9369,-224.103 550.1822,-214.3958 540.81,-219.3369 545.9369,-224.103\"/>\n",
       "<text text-anchor=\"middle\" x=\"396.9375\" y=\"-351.8\" font-family=\"Times,serif\" font-size=\"14.00\" fill=\"#000000\">INPUT_CALC</text>\n",
       "<text text-anchor=\"middle\" x=\"396.9375\" y=\"-337.8\" font-family=\"Times,serif\" font-size=\"14.00\" fill=\"#000000\">code</text>\n",
       "</g>\n",
       "<!-- N8149 -->\n",
       "<g id=\"node3\" class=\"node\">\n",
       "<title>N8149</title>\n",
       "<polygon fill=\"none\" stroke=\"#000000\" points=\"223.8313,-306 112.3269,-306 112.3269,-270 223.8313,-270 223.8313,-306\"/>\n",
       "<text text-anchor=\"middle\" x=\"168.0791\" y=\"-283.8\" font-family=\"Times,serif\" font-size=\"14.00\" fill=\"#000000\">KindData (8149)</text>\n",
       "</g>\n",
       "<!-- N8149&#45;&gt;N8150 -->\n",
       "<g id=\"edge2\" class=\"edge\">\n",
       "<title>N8149&#45;&gt;N8150</title>\n",
       "<path fill=\"none\" stroke=\"#000000\" d=\"M223.9606,-286.8843C279.7752,-284.4164 367.4329,-276.8385 439.7168,-254 467.5487,-245.2064 496.3608,-230.9343 520.5276,-217.2589\"/>\n",
       "<polygon fill=\"#000000\" stroke=\"#000000\" points=\"522.2912,-220.2822 529.2105,-212.2588 518.798,-214.216 522.2912,-220.2822\"/>\n",
       "<text text-anchor=\"middle\" x=\"396.9375\" y=\"-288.8\" font-family=\"Times,serif\" font-size=\"14.00\" fill=\"#000000\">INPUT_CALC</text>\n",
       "<text text-anchor=\"middle\" x=\"396.9375\" y=\"-274.8\" font-family=\"Times,serif\" font-size=\"14.00\" fill=\"#000000\">kinds</text>\n",
       "</g>\n",
       "<!-- N8148 -->\n",
       "<g id=\"node4\" class=\"node\">\n",
       "<title>N8148</title>\n",
       "<polygon fill=\"none\" stroke=\"#000000\" points=\"238.6627,-252 97.4955,-252 97.4955,-216 238.6627,-216 238.6627,-252\"/>\n",
       "<text text-anchor=\"middle\" x=\"168.0791\" y=\"-236.8\" font-family=\"Times,serif\" font-size=\"14.00\" fill=\"#000000\">SymmetryData (8148)</text>\n",
       "<text text-anchor=\"middle\" x=\"168.0791\" y=\"-222.8\" font-family=\"Times,serif\" font-size=\"14.00\" fill=\"#000000\">symmops: 16</text>\n",
       "</g>\n",
       "<!-- N8148&#45;&gt;N8150 -->\n",
       "<g id=\"edge3\" class=\"edge\">\n",
       "<title>N8148&#45;&gt;N8150</title>\n",
       "<path fill=\"none\" stroke=\"#000000\" d=\"M238.7581,-231.0796C293.7737,-228.1311 371.9144,-222.4627 439.7168,-212 451.8326,-210.1304 464.4596,-207.7936 476.9513,-205.2389\"/>\n",
       "<polygon fill=\"#000000\" stroke=\"#000000\" points=\"477.8585,-208.6249 486.928,-203.1482 476.4227,-201.7737 477.8585,-208.6249\"/>\n",
       "<text text-anchor=\"middle\" x=\"396.9375\" y=\"-238.8\" font-family=\"Times,serif\" font-size=\"14.00\" fill=\"#000000\">INPUT_CALC</text>\n",
       "<text text-anchor=\"middle\" x=\"396.9375\" y=\"-224.8\" font-family=\"Times,serif\" font-size=\"14.00\" fill=\"#000000\">symmetry</text>\n",
       "</g>\n",
       "<!-- N8147 -->\n",
       "<g id=\"node5\" class=\"node\">\n",
       "<title>N8147</title>\n",
       "<polygon fill=\"none\" stroke=\"#000000\" points=\"235.1491,-198 101.0091,-198 101.0091,-162 235.1491,-162 235.1491,-198\"/>\n",
       "<text text-anchor=\"middle\" x=\"168.0791\" y=\"-182.8\" font-family=\"Times,serif\" font-size=\"14.00\" fill=\"#000000\">StructureData (8147)</text>\n",
       "<text text-anchor=\"middle\" x=\"168.0791\" y=\"-168.8\" font-family=\"Times,serif\" font-size=\"14.00\" fill=\"#000000\">Ni2O2</text>\n",
       "</g>\n",
       "<!-- N8147&#45;&gt;N8150 -->\n",
       "<g id=\"edge4\" class=\"edge\">\n",
       "<title>N8147&#45;&gt;N8150</title>\n",
       "<path fill=\"none\" stroke=\"#000000\" d=\"M235.5199,-180C292.7425,-180 376.5401,-180 447.0728,-180\"/>\n",
       "<polygon fill=\"#000000\" stroke=\"#000000\" points=\"447.3783,-183.5001 457.3782,-180 447.3782,-176.5001 447.3783,-183.5001\"/>\n",
       "<text text-anchor=\"middle\" x=\"396.9375\" y=\"-196.8\" font-family=\"Times,serif\" font-size=\"14.00\" fill=\"#000000\">INPUT_CALC</text>\n",
       "<text text-anchor=\"middle\" x=\"396.9375\" y=\"-182.8\" font-family=\"Times,serif\" font-size=\"14.00\" fill=\"#000000\">structure</text>\n",
       "</g>\n",
       "<!-- N8146 -->\n",
       "<g id=\"node6\" class=\"node\">\n",
       "<title>N8146</title>\n",
       "<polygon fill=\"none\" stroke=\"#000000\" points=\"255.5967,-144 80.5615,-144 80.5615,-108 255.5967,-108 255.5967,-144\"/>\n",
       "<text text-anchor=\"middle\" x=\"168.0791\" y=\"-121.8\" font-family=\"Times,serif\" font-size=\"14.00\" fill=\"#000000\">CryInputParamsData (8146)</text>\n",
       "</g>\n",
       "<!-- N8146&#45;&gt;N8150 -->\n",
       "<g id=\"edge5\" class=\"edge\">\n",
       "<title>N8146&#45;&gt;N8150</title>\n",
       "<path fill=\"none\" stroke=\"#000000\" d=\"M255.6165,-129.8705C309.0325,-133.0294 378.5777,-138.5656 439.7168,-148 451.8326,-149.8696 464.4596,-152.2064 476.9513,-154.7611\"/>\n",
       "<polygon fill=\"#000000\" stroke=\"#000000\" points=\"476.4227,-158.2263 486.928,-156.8518 477.8585,-151.3751 476.4227,-158.2263\"/>\n",
       "<text text-anchor=\"middle\" x=\"396.9375\" y=\"-164.8\" font-family=\"Times,serif\" font-size=\"14.00\" fill=\"#000000\">INPUT_CALC</text>\n",
       "<text text-anchor=\"middle\" x=\"396.9375\" y=\"-150.8\" font-family=\"Times,serif\" font-size=\"14.00\" fill=\"#000000\">parameters</text>\n",
       "</g>\n",
       "<!-- N8145 -->\n",
       "<g id=\"node7\" class=\"node\">\n",
       "<title>N8145</title>\n",
       "<polygon fill=\"none\" stroke=\"#000000\" points=\"234.0595,-90 102.0987,-90 102.0987,-54 234.0595,-54 234.0595,-90\"/>\n",
       "<text text-anchor=\"middle\" x=\"168.0791\" y=\"-67.8\" font-family=\"Times,serif\" font-size=\"14.00\" fill=\"#000000\">BasisSetData (8145)</text>\n",
       "</g>\n",
       "<!-- N8145&#45;&gt;N8150 -->\n",
       "<g id=\"edge6\" class=\"edge\">\n",
       "<title>N8145&#45;&gt;N8150</title>\n",
       "<path fill=\"none\" stroke=\"#000000\" d=\"M234.0097,-73.1986C289.9332,-75.8114 371.6764,-83.4293 439.7168,-105 467.8566,-113.9211 496.9302,-128.5433 521.2092,-142.5187\"/>\n",
       "<polygon fill=\"#000000\" stroke=\"#000000\" points=\"519.5291,-145.5908 529.9265,-147.6265 523.0679,-139.5512 519.5291,-145.5908\"/>\n",
       "<text text-anchor=\"middle\" x=\"396.9375\" y=\"-121.8\" font-family=\"Times,serif\" font-size=\"14.00\" fill=\"#000000\">INPUT_CALC</text>\n",
       "<text text-anchor=\"middle\" x=\"396.9375\" y=\"-107.8\" font-family=\"Times,serif\" font-size=\"14.00\" fill=\"#000000\">basissets__O</text>\n",
       "</g>\n",
       "<!-- N8144 -->\n",
       "<g id=\"node8\" class=\"node\">\n",
       "<title>N8144</title>\n",
       "<polygon fill=\"none\" stroke=\"#000000\" points=\"234.0595,-36 102.0987,-36 102.0987,0 234.0595,0 234.0595,-36\"/>\n",
       "<text text-anchor=\"middle\" x=\"168.0791\" y=\"-13.8\" font-family=\"Times,serif\" font-size=\"14.00\" fill=\"#000000\">BasisSetData (8144)</text>\n",
       "</g>\n",
       "<!-- N8144&#45;&gt;N8150 -->\n",
       "<g id=\"edge7\" class=\"edge\">\n",
       "<title>N8144&#45;&gt;N8150</title>\n",
       "<path fill=\"none\" stroke=\"#000000\" d=\"M233.9316,-15.9759C290.9011,-16.6764 374.1912,-23.7049 439.7168,-54 481.1544,-73.1583 518.9682,-108.9876 544.751,-137.5559\"/>\n",
       "<polygon fill=\"#000000\" stroke=\"#000000\" points=\"542.4476,-140.2341 551.697,-145.4011 547.6886,-135.5938 542.4476,-140.2341\"/>\n",
       "<text text-anchor=\"middle\" x=\"396.9375\" y=\"-70.8\" font-family=\"Times,serif\" font-size=\"14.00\" fill=\"#000000\">INPUT_CALC</text>\n",
       "<text text-anchor=\"middle\" x=\"396.9375\" y=\"-56.8\" font-family=\"Times,serif\" font-size=\"14.00\" fill=\"#000000\">basissets__Ni</text>\n",
       "</g>\n",
       "</g>\n",
       "</svg>\n"
      ],
      "text/plain": [
       "<graphviz.dot.Digraph at 0x11dbe9080>"
      ]
     },
     "execution_count": 8,
     "metadata": {},
     "output_type": "execute_result"
    }
   ],
   "source": [
    "graph = Graph(graph_attr={'size': \"6,8!\", \"rankdir\": \"LR\"})\n",
    "graph.add_node(calc_node)\n",
    "graph.add_incoming(calc_node, annotate_links=\"both\")\n",
    "graph.add_outgoing(calc_node, annotate_links=\"both\")\n",
    "graph.graphviz"
   ]
  },
  {
   "cell_type": "code",
   "execution_count": 9,
   "metadata": {},
   "outputs": [
    {
     "data": {
      "text/plain": [
       "{'sealed': True,\n",
       " 'exit_status': 0,\n",
       " 'process_state': 'finished',\n",
       " 'remote_workdir': '/Users/cjs14/GitHub/aiida-crystal17/aiida_crystal17/tests/raw_files/crystal/nio_sto3g_afm_opt',\n",
       " 'retrieve_temporary_list': [],\n",
       " 'retrieve_list': ['test.out',\n",
       "  'main.gui',\n",
       "  '_scheduler-stdout.txt',\n",
       "  '_scheduler-stderr.txt'],\n",
       " 'external_file_name': 'main.gui',\n",
       " 'parser_name': 'crystal17.main',\n",
       " 'append_text': '',\n",
       " 'prepend_text': '',\n",
       " 'environment_variables': {},\n",
       " 'import_sys_environment': True,\n",
       " 'mpirun_extra_params': [],\n",
       " 'custom_scheduler_commands': '',\n",
       " 'scheduler_stderr': '_scheduler-stderr.txt',\n",
       " 'scheduler_stdout': '_scheduler-stdout.txt',\n",
       " 'output_main_file_name': 'test.out',\n",
       " 'input_file_name': 'test.d12',\n",
       " 'withmpi': False,\n",
       " 'max_wallclock_seconds': 1800,\n",
       " 'resources': {'num_mpiprocs_per_machine': 1, 'num_machines': 1},\n",
       " 'process_label': 'CryMainCalculation'}"
      ]
     },
     "execution_count": 9,
     "metadata": {},
     "output_type": "execute_result"
    }
   ],
   "source": [
    "calc_node.attributes"
   ]
  },
  {
   "cell_type": "code",
   "execution_count": 10,
   "metadata": {},
   "outputs": [
    {
     "data": {
      "text/plain": [
       "{'immigration_func': 'aiida_crystal17.immigration.create_calcjob',\n",
       " 'immigrated': True,\n",
       " '_aiida_hash': '433913d1f2b53576b7e75a9ed91291d1d6d2e65588c7fb437a917fb271703ed4'}"
      ]
     },
     "execution_count": 10,
     "metadata": {},
     "output_type": "execute_result"
    }
   ],
   "source": [
    "calc_node.extras"
   ]
  },
  {
   "cell_type": "code",
   "execution_count": null,
   "metadata": {},
   "outputs": [],
   "source": []
  }
 ],
 "metadata": {
  "hide_input": false,
  "kernelspec": {
   "display_name": "Python 3",
   "language": "python",
   "name": "python3"
  },
  "language_info": {
   "codemirror_mode": {
    "name": "ipython",
    "version": 3
   },
   "file_extension": ".py",
   "mimetype": "text/x-python",
   "name": "python",
   "nbconvert_exporter": "python",
   "pygments_lexer": "ipython3",
   "version": "3.6.5"
  },
  "toc": {
   "base_numbering": 1,
   "nav_menu": {},
   "number_sections": true,
   "sideBar": true,
   "skip_h1_title": false,
   "title_cell": "Table of Contents",
   "title_sidebar": "Contents",
   "toc_cell": false,
   "toc_position": {},
   "toc_section_display": true,
   "toc_window_display": false
  }
 },
 "nbformat": 4,
 "nbformat_minor": 2
}
