{
 "cells": [
  {
   "cell_type": "markdown",
   "metadata": {},
   "source": [
    ".. _main_calculation_immigrant:"
   ]
  },
  {
   "cell_type": "markdown",
   "metadata": {},
   "source": [
    "# Main Calculation Immigration"
   ]
  },
  {
   "cell_type": "markdown",
   "metadata": {},
   "source": [
    "In order to immigrate existing CRYSTAL17 calculations,\n",
    "the :py:mod:`aiida_crystal17.immigration` module has been\n",
    "created to take a ``.d12`` and ``.out`` file set\n",
    "and replicate a ``crystal17.main`` calculation:"
   ]
  },
  {
   "cell_type": "markdown",
   "metadata": {},
   "source": [
    ".. note::\n",
    "\n",
    "    This approach may be subject to change, \n",
    "    if a general approach is developed for immigrant calculations\n",
    "    (see [this ongoing issue](https://github.com/aiidateam/aiida_core/issues/1892)).\n"
   ]
  },
  {
   "cell_type": "code",
   "execution_count": 1,
   "metadata": {
    "init_cell": true
   },
   "outputs": [],
   "source": [
    "from aiida import load_profile\n",
    "profile = load_profile()\n",
    "import os\n",
    "from aiida_crystal17.tests import resource_context\n",
    "from aiida_crystal17.tests.utils import (\n",
    "    get_or_create_local_computer, get_or_create_code, \n",
    "    get_default_metadata)\n",
    "from aiida_crystal17.immigration.create_inputs import populate_builder\n",
    "from aiida_crystal17.immigration.create_calcjob import immigrate_existing\n",
    "from aiida_crystal17.common import display_json\n",
    "\n",
    "from aiida.orm import Code, RemoteData\n",
    "from aiida.common.folders import Folder\n",
    "from aiida.tools.visualization import Graph"
   ]
  },
  {
   "cell_type": "markdown",
   "metadata": {},
   "source": [
    ":py:func:`aiida_crystal17.immigration.create_inputs.populate_builder`\n",
    "will create an input builder for the `crystal17.main` calculation,\n",
    "from a `FolderData` node, populated with the files, and a `Code` node."
   ]
  },
  {
   "cell_type": "code",
   "execution_count": 4,
   "metadata": {},
   "outputs": [],
   "source": [
    "computer = get_or_create_local_computer('work_directory', 'localhost')\n",
    "code = get_or_create_code('crystal17.main', computer, 'mock_crystal17')"
   ]
  },
  {
   "cell_type": "code",
   "execution_count": 5,
   "metadata": {},
   "outputs": [
    {
     "data": {
      "text/markdown": [
       "```json\n",
       "{\n",
       "  \"metadata\": {\n",
       "    \"options\": {\n",
       "      \"resources\": {\n",
       "        \"num_machines\": 1,\n",
       "        \"num_mpiprocs_per_machine\": 1\n",
       "      },\n",
       "      \"max_wallclock_seconds\": 1800,\n",
       "      \"withmpi\": false,\n",
       "      \"input_file_name\": \"INPUT\",\n",
       "      \"output_main_file_name\": \"main.out\"\n",
       "    },\n",
       "    \"dry_run\": false\n",
       "  },\n",
       "  \"basissets\": {\n",
       "    \"Ni\": [\n",
       "      \"uuid: 7f91a637-a366-47f1-9ce3-7e017c82b5a2 (pk: 43)\"\n",
       "    ],\n",
       "    \"O\": [\n",
       "      \"uuid: c3af1c12-115e-44b2-8106-2f79ba8110a7 (pk: 44)\"\n",
       "    ]\n",
       "  },\n",
       "  \"parameters\": [\n",
       "    \"uuid: c0a28998-8b31-482a-9f5e-6c05fd9c77a5 (unstored)\"\n",
       "  ],\n",
       "  \"structure\": [\n",
       "    \"uuid: ad3f2a77-2106-4e22-b4a8-244d3c419552 (unstored)\"\n",
       "  ],\n",
       "  \"symmetry\": [\n",
       "    \"uuid: 6e582e13-5029-4e7d-9d47-5e770047520e (unstored)\"\n",
       "  ],\n",
       "  \"kinds\": [\n",
       "    \"uuid: 6cd8a67f-2b27-41ee-b5eb-b66aed2975bd (unstored)\"\n",
       "  ],\n",
       "  \"code\": [\n",
       "    \"Remote code 'crystal17.main-mock_crystal17@localhost' on localhost,\",\n",
       "    \"pk: 23, uuid: 8451bd5e-397a-4014-9982-340b571a48c8\"\n",
       "  ]\n",
       "}\n",
       "```"
      ]
     },
     "metadata": {},
     "output_type": "display_data"
    }
   ],
   "source": [
    "metadata = get_default_metadata()\n",
    "metadata['options'].update({\n",
    "    \"input_file_name\": 'INPUT',\n",
    "    \"output_main_file_name\": \"main.out\"\n",
    "})\n",
    "\n",
    "with resource_context(\"crystal\", \"nio_sto3g_afm_opt\") as path:\n",
    "    builder = populate_builder(\n",
    "        remote_data=RemoteData(\n",
    "            remote_path=str(path), \n",
    "            computer=computer), \n",
    "        code=code, \n",
    "        metadata=metadata)\n",
    "\n",
    "display_json(builder)"
   ]
  },
  {
   "cell_type": "markdown",
   "metadata": {},
   "source": [
    ":py:func:`aiida_crystal17.immigration.create_calcjob.immigrate_existing`\n",
    "creates a `CalcJobNode` and uses the above function,\n",
    "and the `crystal17.main` parser, to create and attach incoming and outgoing nodes,\n",
    "replicating a full calculation."
   ]
  },
  {
   "cell_type": "code",
   "execution_count": 6,
   "metadata": {},
   "outputs": [
    {
     "data": {
      "text/plain": [
       "<CalcJobNode: uuid: 181391b7-9779-44e1-bc4f-474d626b8092 (pk: 280) (aiida.calculations:crystal17.main)>"
      ]
     },
     "execution_count": 6,
     "metadata": {},
     "output_type": "execute_result"
    }
   ],
   "source": [
    "with resource_context(\"crystal\", \"nio_sto3g_afm_opt\") as path:\n",
    "    calc_node = immigrate_existing(\n",
    "        builder, \n",
    "        remote_data=RemoteData(\n",
    "            remote_path=str(path), \n",
    "            computer=computer))\n",
    "calc_node"
   ]
  },
  {
   "cell_type": "code",
   "execution_count": 7,
   "metadata": {
    "ipub": {
     "figure": {
      "caption": "`crystal17.main` immigrated calculation provenance graph."
     }
    }
   },
   "outputs": [
    {
     "data": {
      "image/svg+xml": [
       "<?xml version=\"1.0\" encoding=\"UTF-8\" standalone=\"no\"?>\n",
       "<!DOCTYPE svg PUBLIC \"-//W3C//DTD SVG 1.1//EN\"\n",
       " \"http://www.w3.org/Graphics/SVG/1.1/DTD/svg11.dtd\">\n",
       "<!-- Generated by graphviz version 2.40.1 (20161225.0304)\n",
       " -->\n",
       "<!-- Title: %3 Pages: 1 -->\n",
       "<svg width=\"432pt\" height=\"217pt\"\n",
       " viewBox=\"0.00 0.00 432.00 216.50\" xmlns=\"http://www.w3.org/2000/svg\" xmlns:xlink=\"http://www.w3.org/1999/xlink\">\n",
       "<g id=\"graph0\" class=\"graph\" transform=\"scale(.5211 .5211) rotate(0) translate(4 411.4558)\">\n",
       "<title>%3</title>\n",
       "<polygon fill=\"#ffffff\" stroke=\"transparent\" points=\"-4,4 -4,-411.4558 824.9817,-411.4558 824.9817,4 -4,4\"/>\n",
       "<!-- N280 -->\n",
       "<g id=\"node1\" class=\"node\">\n",
       "<title>N280</title>\n",
       "<polygon fill=\"#de707f\" stroke=\"#000000\" stroke-width=\"0\" points=\"525.2315,-241.4558 360.4034,-241.4558 360.4034,-191.4558 525.2315,-191.4558 525.2315,-241.4558\"/>\n",
       "<text text-anchor=\"middle\" x=\"442.8175\" y=\"-226.2558\" font-family=\"Times,serif\" font-size=\"14.00\" fill=\"#000000\">CryMainCalculation (280)</text>\n",
       "<text text-anchor=\"middle\" x=\"442.8175\" y=\"-212.2558\" font-family=\"Times,serif\" font-size=\"14.00\" fill=\"#000000\">State: finished</text>\n",
       "<text text-anchor=\"middle\" x=\"442.8175\" y=\"-198.2558\" font-family=\"Times,serif\" font-size=\"14.00\" fill=\"#000000\">Exit Code: 0</text>\n",
       "</g>\n",
       "<!-- N281 -->\n",
       "<g id=\"node9\" class=\"node\">\n",
       "<title>N281</title>\n",
       "<ellipse fill=\"#8cd499\" stroke=\"#000000\" stroke-width=\"0\" cx=\"730.7765\" cy=\"-304.4558\" rx=\"84.9189\" ry=\"25.4118\"/>\n",
       "<text text-anchor=\"middle\" x=\"730.7765\" y=\"-307.2558\" font-family=\"Times,serif\" font-size=\"14.00\" fill=\"#000000\">RemoteData (281)</text>\n",
       "<text text-anchor=\"middle\" x=\"730.7765\" y=\"-293.2558\" font-family=\"Times,serif\" font-size=\"14.00\" fill=\"#000000\">@localhost</text>\n",
       "</g>\n",
       "<!-- N280&#45;&gt;N281 -->\n",
       "<g id=\"edge8\" class=\"edge\">\n",
       "<title>N280&#45;&gt;N281</title>\n",
       "<path fill=\"none\" stroke=\"#000000\" d=\"M489.3829,-241.5175C506.0307,-249.7169 525.1586,-258.2919 543.2745,-264.4558 575.9719,-275.5811 612.9684,-284.2593 645.4068,-290.6464\"/>\n",
       "<polygon fill=\"#000000\" stroke=\"#000000\" points=\"644.8362,-294.1007 655.3177,-292.5552 646.1601,-287.2271 644.8362,-294.1007\"/>\n",
       "<text text-anchor=\"middle\" x=\"582.9229\" y=\"-301.2558\" font-family=\"Times,serif\" font-size=\"14.00\" fill=\"#000000\">CREATE</text>\n",
       "<text text-anchor=\"middle\" x=\"582.9229\" y=\"-287.2558\" font-family=\"Times,serif\" font-size=\"14.00\" fill=\"#000000\">remote_folder</text>\n",
       "</g>\n",
       "<!-- N282 -->\n",
       "<g id=\"node10\" class=\"node\">\n",
       "<title>N282</title>\n",
       "<ellipse fill=\"#8cd499\" stroke=\"#000000\" stroke-width=\"0\" cx=\"730.7765\" cy=\"-243.4558\" rx=\"71.0117\" ry=\"18\"/>\n",
       "<text text-anchor=\"middle\" x=\"730.7765\" y=\"-239.2558\" font-family=\"Times,serif\" font-size=\"14.00\" fill=\"#000000\">FolderData (282)</text>\n",
       "</g>\n",
       "<!-- N280&#45;&gt;N282 -->\n",
       "<g id=\"edge9\" class=\"edge\">\n",
       "<title>N280&#45;&gt;N282</title>\n",
       "<path fill=\"none\" stroke=\"#000000\" d=\"M525.335,-224.193C565.6967,-227.9774 613.9915,-232.5057 653.6124,-236.2207\"/>\n",
       "<polygon fill=\"#000000\" stroke=\"#000000\" points=\"653.468,-239.7224 663.7511,-237.1713 654.1216,-232.753 653.468,-239.7224\"/>\n",
       "<text text-anchor=\"middle\" x=\"582.9229\" y=\"-249.2558\" font-family=\"Times,serif\" font-size=\"14.00\" fill=\"#000000\">CREATE</text>\n",
       "<text text-anchor=\"middle\" x=\"582.9229\" y=\"-235.2558\" font-family=\"Times,serif\" font-size=\"14.00\" fill=\"#000000\">retrieved</text>\n",
       "</g>\n",
       "<!-- N283 -->\n",
       "<g id=\"node11\" class=\"node\">\n",
       "<title>N283</title>\n",
       "<ellipse fill=\"#8cd499\" stroke=\"#000000\" stroke-width=\"0\" cx=\"730.7765\" cy=\"-189.4558\" rx=\"46.8976\" ry=\"18\"/>\n",
       "<text text-anchor=\"middle\" x=\"730.7765\" y=\"-185.2558\" font-family=\"Times,serif\" font-size=\"14.00\" fill=\"#000000\">Dict (283)</text>\n",
       "</g>\n",
       "<!-- N280&#45;&gt;N283 -->\n",
       "<g id=\"edge10\" class=\"edge\">\n",
       "<title>N280&#45;&gt;N283</title>\n",
       "<path fill=\"none\" stroke=\"#000000\" d=\"M525.3583,-196.1556C531.3968,-195.1021 537.415,-194.1814 543.2745,-193.4558 586.8403,-188.0611 636.5246,-187.2393 673.799,-187.6699\"/>\n",
       "<polygon fill=\"#000000\" stroke=\"#000000\" points=\"673.9166,-191.172 683.9678,-187.8219 674.0212,-184.1728 673.9166,-191.172\"/>\n",
       "<text text-anchor=\"middle\" x=\"582.9229\" y=\"-210.2558\" font-family=\"Times,serif\" font-size=\"14.00\" fill=\"#000000\">CREATE</text>\n",
       "<text text-anchor=\"middle\" x=\"582.9229\" y=\"-196.2558\" font-family=\"Times,serif\" font-size=\"14.00\" fill=\"#000000\">results</text>\n",
       "</g>\n",
       "<!-- N284 -->\n",
       "<g id=\"node12\" class=\"node\">\n",
       "<title>N284</title>\n",
       "<ellipse fill=\"#8cd499\" stroke=\"#000000\" stroke-width=\"0\" cx=\"730.7765\" cy=\"-128.4558\" rx=\"90.4108\" ry=\"25.4118\"/>\n",
       "<text text-anchor=\"middle\" x=\"730.7765\" y=\"-131.2558\" font-family=\"Times,serif\" font-size=\"14.00\" fill=\"#000000\">StructureData (284)</text>\n",
       "<text text-anchor=\"middle\" x=\"730.7765\" y=\"-117.2558\" font-family=\"Times,serif\" font-size=\"14.00\" fill=\"#000000\">Ni2O2</text>\n",
       "</g>\n",
       "<!-- N280&#45;&gt;N284 -->\n",
       "<g id=\"edge11\" class=\"edge\">\n",
       "<title>N280&#45;&gt;N284</title>\n",
       "<path fill=\"none\" stroke=\"#000000\" d=\"M476.4042,-191.3395C495.1456,-178.5761 519.4589,-163.9974 543.2745,-155.4558 571.2437,-145.4245 602.825,-139.1108 631.9852,-135.14\"/>\n",
       "<polygon fill=\"#000000\" stroke=\"#000000\" points=\"632.7154,-138.5751 642.1887,-133.831 631.8246,-131.6321 632.7154,-138.5751\"/>\n",
       "<text text-anchor=\"middle\" x=\"582.9229\" y=\"-172.2558\" font-family=\"Times,serif\" font-size=\"14.00\" fill=\"#000000\">CREATE</text>\n",
       "<text text-anchor=\"middle\" x=\"582.9229\" y=\"-158.2558\" font-family=\"Times,serif\" font-size=\"14.00\" fill=\"#000000\">structure</text>\n",
       "</g>\n",
       "<!-- N43 -->\n",
       "<g id=\"node2\" class=\"node\">\n",
       "<title>N43</title>\n",
       "<ellipse fill=\"#8cd499\" stroke=\"#000000\" stroke-width=\"0\" cx=\"119.4009\" cy=\"-385.4558\" rx=\"74.4186\" ry=\"18\"/>\n",
       "<text text-anchor=\"middle\" x=\"119.4009\" y=\"-381.2558\" font-family=\"Times,serif\" font-size=\"14.00\" fill=\"#000000\">BasisSetData (43)</text>\n",
       "</g>\n",
       "<!-- N43&#45;&gt;N280 -->\n",
       "<g id=\"edge1\" class=\"edge\">\n",
       "<title>N43&#45;&gt;N280</title>\n",
       "<path fill=\"none\" stroke=\"#000000\" d=\"M193.1683,-387.5962C239.0512,-385.7495 297.6223,-377.3709 342.3604,-350.4558 381.3083,-327.0243 410.1492,-282.2412 426.7032,-250.9211\"/>\n",
       "<polygon fill=\"#000000\" stroke=\"#000000\" points=\"429.9973,-252.1675 431.4438,-241.6719 423.7678,-248.9747 429.9973,-252.1675\"/>\n",
       "<text text-anchor=\"middle\" x=\"299.5811\" y=\"-396.2558\" font-family=\"Times,serif\" font-size=\"14.00\" fill=\"#000000\">INPUT_CALC</text>\n",
       "<text text-anchor=\"middle\" x=\"299.5811\" y=\"-382.2558\" font-family=\"Times,serif\" font-size=\"14.00\" fill=\"#000000\">basissets__Ni</text>\n",
       "</g>\n",
       "<!-- N44 -->\n",
       "<g id=\"node3\" class=\"node\">\n",
       "<title>N44</title>\n",
       "<ellipse fill=\"#8cd499\" stroke=\"#000000\" stroke-width=\"0\" cx=\"119.4009\" cy=\"-331.4558\" rx=\"74.4186\" ry=\"18\"/>\n",
       "<text text-anchor=\"middle\" x=\"119.4009\" y=\"-327.2558\" font-family=\"Times,serif\" font-size=\"14.00\" fill=\"#000000\">BasisSetData (44)</text>\n",
       "</g>\n",
       "<!-- N44&#45;&gt;N280 -->\n",
       "<g id=\"edge2\" class=\"edge\">\n",
       "<title>N44&#45;&gt;N280</title>\n",
       "<path fill=\"none\" stroke=\"#000000\" d=\"M192.7671,-328.3861C237.5502,-324.3308 295.0874,-315.1334 342.3604,-294.4558 367.496,-283.4613 391.8967,-264.7651 410.3547,-248.4331\"/>\n",
       "<polygon fill=\"#000000\" stroke=\"#000000\" points=\"412.8266,-250.9164 417.8863,-241.6078 408.126,-245.7294 412.8266,-250.9164\"/>\n",
       "<text text-anchor=\"middle\" x=\"299.5811\" y=\"-335.2558\" font-family=\"Times,serif\" font-size=\"14.00\" fill=\"#000000\">INPUT_CALC</text>\n",
       "<text text-anchor=\"middle\" x=\"299.5811\" y=\"-321.2558\" font-family=\"Times,serif\" font-size=\"14.00\" fill=\"#000000\">basissets__O</text>\n",
       "</g>\n",
       "<!-- N276 -->\n",
       "<g id=\"node4\" class=\"node\">\n",
       "<title>N276</title>\n",
       "<ellipse fill=\"#8cd499\" stroke=\"#000000\" stroke-width=\"0\" cx=\"119.4009\" cy=\"-277.4558\" rx=\"106.2656\" ry=\"18\"/>\n",
       "<text text-anchor=\"middle\" x=\"119.4009\" y=\"-273.2558\" font-family=\"Times,serif\" font-size=\"14.00\" fill=\"#000000\">CryInputParamsData (276)</text>\n",
       "</g>\n",
       "<!-- N276&#45;&gt;N280 -->\n",
       "<g id=\"edge3\" class=\"edge\">\n",
       "<title>N276&#45;&gt;N280</title>\n",
       "<path fill=\"none\" stroke=\"#000000\" d=\"M213.3431,-269.0141C253.3876,-264.4437 300.447,-257.7784 342.3604,-248.4558 348.0263,-247.1956 353.8299,-245.7566 359.6502,-244.2024\"/>\n",
       "<polygon fill=\"#000000\" stroke=\"#000000\" points=\"360.7378,-247.533 369.4397,-241.4893 358.8682,-240.7873 360.7378,-247.533\"/>\n",
       "<text text-anchor=\"middle\" x=\"299.5811\" y=\"-279.2558\" font-family=\"Times,serif\" font-size=\"14.00\" fill=\"#000000\">INPUT_CALC</text>\n",
       "<text text-anchor=\"middle\" x=\"299.5811\" y=\"-265.2558\" font-family=\"Times,serif\" font-size=\"14.00\" fill=\"#000000\">parameters</text>\n",
       "</g>\n",
       "<!-- N277 -->\n",
       "<g id=\"node5\" class=\"node\">\n",
       "<title>N277</title>\n",
       "<ellipse fill=\"#8cd499\" stroke=\"#000000\" stroke-width=\"0\" cx=\"119.4009\" cy=\"-216.4558\" rx=\"90.4108\" ry=\"25.4118\"/>\n",
       "<text text-anchor=\"middle\" x=\"119.4009\" y=\"-219.2558\" font-family=\"Times,serif\" font-size=\"14.00\" fill=\"#000000\">StructureData (277)</text>\n",
       "<text text-anchor=\"middle\" x=\"119.4009\" y=\"-205.2558\" font-family=\"Times,serif\" font-size=\"14.00\" fill=\"#000000\">Ni2O2</text>\n",
       "</g>\n",
       "<!-- N277&#45;&gt;N280 -->\n",
       "<g id=\"edge4\" class=\"edge\">\n",
       "<title>N277&#45;&gt;N280</title>\n",
       "<path fill=\"none\" stroke=\"#000000\" d=\"M209.9205,-216.4558C253.6956,-216.4558 306.1665,-216.4558 350.2126,-216.4558\"/>\n",
       "<polygon fill=\"#000000\" stroke=\"#000000\" points=\"350.3441,-219.9559 360.344,-216.4558 350.344,-212.9559 350.3441,-219.9559\"/>\n",
       "<text text-anchor=\"middle\" x=\"299.5811\" y=\"-233.2558\" font-family=\"Times,serif\" font-size=\"14.00\" fill=\"#000000\">INPUT_CALC</text>\n",
       "<text text-anchor=\"middle\" x=\"299.5811\" y=\"-219.2558\" font-family=\"Times,serif\" font-size=\"14.00\" fill=\"#000000\">structure</text>\n",
       "</g>\n",
       "<!-- N278 -->\n",
       "<g id=\"node6\" class=\"node\">\n",
       "<title>N278</title>\n",
       "<ellipse fill=\"#8cd499\" stroke=\"#000000\" stroke-width=\"0\" cx=\"119.4009\" cy=\"-147.4558\" rx=\"95.3294\" ry=\"25.4118\"/>\n",
       "<text text-anchor=\"middle\" x=\"119.4009\" y=\"-150.2558\" font-family=\"Times,serif\" font-size=\"14.00\" fill=\"#000000\">SymmetryData (278)</text>\n",
       "<text text-anchor=\"middle\" x=\"119.4009\" y=\"-136.2558\" font-family=\"Times,serif\" font-size=\"14.00\" fill=\"#000000\">symmops: 16</text>\n",
       "</g>\n",
       "<!-- N278&#45;&gt;N280 -->\n",
       "<g id=\"edge5\" class=\"edge\">\n",
       "<title>N278&#45;&gt;N280</title>\n",
       "<path fill=\"none\" stroke=\"#000000\" d=\"M204.9435,-158.7052C246.6762,-164.9399 297.4433,-173.6343 342.3604,-184.4558 347.6433,-185.7286 353.0518,-187.1365 358.4858,-188.6311\"/>\n",
       "<polygon fill=\"#000000\" stroke=\"#000000\" points=\"357.6976,-192.0455 368.273,-191.4045 359.6061,-185.3106 357.6976,-192.0455\"/>\n",
       "<text text-anchor=\"middle\" x=\"299.5811\" y=\"-201.2558\" font-family=\"Times,serif\" font-size=\"14.00\" fill=\"#000000\">INPUT_CALC</text>\n",
       "<text text-anchor=\"middle\" x=\"299.5811\" y=\"-187.2558\" font-family=\"Times,serif\" font-size=\"14.00\" fill=\"#000000\">symmetry</text>\n",
       "</g>\n",
       "<!-- N279 -->\n",
       "<g id=\"node7\" class=\"node\">\n",
       "<title>N279</title>\n",
       "<ellipse fill=\"#8cd499\" stroke=\"#000000\" stroke-width=\"0\" cx=\"119.4009\" cy=\"-86.4558\" rx=\"65.7073\" ry=\"18\"/>\n",
       "<text text-anchor=\"middle\" x=\"119.4009\" y=\"-82.2558\" font-family=\"Times,serif\" font-size=\"14.00\" fill=\"#000000\">KindData (279)</text>\n",
       "</g>\n",
       "<!-- N279&#45;&gt;N280 -->\n",
       "<g id=\"edge6\" class=\"edge\">\n",
       "<title>N279&#45;&gt;N280</title>\n",
       "<path fill=\"none\" stroke=\"#000000\" d=\"M182.5206,-92.0357C228.6337,-97.9822 291.6916,-110.0852 342.3604,-134.4558 367.9236,-146.7512 392.6586,-166.8077 411.188,-184.0069\"/>\n",
       "<polygon fill=\"#000000\" stroke=\"#000000\" points=\"409.072,-186.8242 418.7336,-191.1722 413.8922,-181.7482 409.072,-186.8242\"/>\n",
       "<text text-anchor=\"middle\" x=\"299.5811\" y=\"-151.2558\" font-family=\"Times,serif\" font-size=\"14.00\" fill=\"#000000\">INPUT_CALC</text>\n",
       "<text text-anchor=\"middle\" x=\"299.5811\" y=\"-137.2558\" font-family=\"Times,serif\" font-size=\"14.00\" fill=\"#000000\">kinds</text>\n",
       "</g>\n",
       "<!-- N23 -->\n",
       "<g id=\"node8\" class=\"node\">\n",
       "<title>N23</title>\n",
       "<ellipse fill=\"#4ca4b9\" fill-opacity=\"0.666667\" stroke=\"#000000\" stroke-width=\"0\" cx=\"119.4009\" cy=\"-25.4558\" rx=\"119.3019\" ry=\"25.4118\"/>\n",
       "<text text-anchor=\"middle\" x=\"119.4009\" y=\"-28.2558\" font-family=\"Times,serif\" font-size=\"14.00\" fill=\"#000000\">Code (23)</text>\n",
       "<text text-anchor=\"middle\" x=\"119.4009\" y=\"-14.2558\" font-family=\"Times,serif\" font-size=\"14.00\" fill=\"#000000\">mock_crystal17@localhost</text>\n",
       "</g>\n",
       "<!-- N23&#45;&gt;N280 -->\n",
       "<g id=\"edge7\" class=\"edge\">\n",
       "<title>N23&#45;&gt;N280</title>\n",
       "<path fill=\"none\" stroke=\"#000000\" d=\"M232.9637,-33.3478C270.1703,-40.087 310.1795,-52.1309 342.3604,-73.4558 382.6435,-100.1498 411.6875,-148.9829 427.8841,-182.0729\"/>\n",
       "<polygon fill=\"#000000\" stroke=\"#000000\" points=\"424.8509,-183.8448 432.3034,-191.3755 431.1737,-180.841 424.8509,-183.8448\"/>\n",
       "<text text-anchor=\"middle\" x=\"299.5811\" y=\"-90.2558\" font-family=\"Times,serif\" font-size=\"14.00\" fill=\"#000000\">INPUT_CALC</text>\n",
       "<text text-anchor=\"middle\" x=\"299.5811\" y=\"-76.2558\" font-family=\"Times,serif\" font-size=\"14.00\" fill=\"#000000\">code</text>\n",
       "</g>\n",
       "</g>\n",
       "</svg>\n"
      ],
      "text/plain": [
       "<graphviz.dot.Digraph at 0x110c99048>"
      ]
     },
     "execution_count": 7,
     "metadata": {},
     "output_type": "execute_result"
    }
   ],
   "source": [
    "graph = Graph(graph_attr={'size': \"6,8!\", \"rankdir\": \"LR\"})\n",
    "graph.add_node(calc_node)\n",
    "graph.add_incoming(calc_node, annotate_links=\"both\")\n",
    "graph.add_outgoing(calc_node, annotate_links=\"both\")\n",
    "graph.graphviz"
   ]
  },
  {
   "cell_type": "code",
   "execution_count": 8,
   "metadata": {},
   "outputs": [
    {
     "data": {
      "text/plain": [
       "{'sealed': True,\n",
       " 'version': {'core': '1.0.0b5', 'plugin': '0.9.2b5'},\n",
       " 'withmpi': False,\n",
       " 'resources': {'num_machines': 1, 'num_mpiprocs_per_machine': 1},\n",
       " 'append_text': '',\n",
       " 'exit_status': 0,\n",
       " 'parser_name': 'crystal17.main',\n",
       " 'prepend_text': '',\n",
       " 'process_label': 'CryMainCalculation',\n",
       " 'process_state': 'finished',\n",
       " 'retrieve_list': ['main.out',\n",
       "  'fort.34',\n",
       "  'HESSOPT.DAT',\n",
       "  '_scheduler-stdout.txt',\n",
       "  '_scheduler-stderr.txt'],\n",
       " 'remote_workdir': '/Users/cjs14/GitHub/aiida-crystal17/aiida_crystal17/tests/raw_files/crystal/nio_sto3g_afm_opt',\n",
       " 'input_file_name': 'INPUT',\n",
       " 'scheduler_stderr': '_scheduler-stderr.txt',\n",
       " 'scheduler_stdout': '_scheduler-stdout.txt',\n",
       " 'mpirun_extra_params': [],\n",
       " 'environment_variables': {},\n",
       " 'max_wallclock_seconds': 1800,\n",
       " 'output_main_file_name': 'main.out',\n",
       " 'import_sys_environment': True,\n",
       " 'retrieve_temporary_list': ['opt[ac][0-9][0-9][0-9]'],\n",
       " 'custom_scheduler_commands': ''}"
      ]
     },
     "execution_count": 8,
     "metadata": {},
     "output_type": "execute_result"
    }
   ],
   "source": [
    "calc_node.attributes"
   ]
  },
  {
   "cell_type": "code",
   "execution_count": 9,
   "metadata": {},
   "outputs": [
    {
     "data": {
      "text/plain": [
       "{'immigrated': True,\n",
       " '_aiida_hash': 'b33d76fd13fac051fa61ab2bd7c00b5db583ba975de721e749ab443795e25185',\n",
       " 'immigration_func': 'aiida_crystal17.immigration.create_calcjob'}"
      ]
     },
     "execution_count": 9,
     "metadata": {},
     "output_type": "execute_result"
    }
   ],
   "source": [
    "calc_node.extras"
   ]
  },
  {
   "cell_type": "code",
   "execution_count": 10,
   "metadata": {},
   "outputs": [
    {
     "data": {
      "text/markdown": [
       "```json\n",
       "{\n",
       "  \"units\": {\n",
       "    \"angle\": \"degrees\",\n",
       "    \"energy\": \"eV\",\n",
       "    \"length\": \"angstrom\",\n",
       "    \"conversion\": \"CODATA2014\"\n",
       "  },\n",
       "  \"energy\": -85125.876675219,\n",
       "  \"errors\": [],\n",
       "  \"header\": {\n",
       "    \"crystal_version\": 17,\n",
       "    \"crystal_subversion\": \"1.0.1\"\n",
       "  },\n",
       "  \"volume\": 42.49241208568,\n",
       "  \"warnings\": [\n",
       "    \"WARNING **** INT_SCREEN **** CELL PARAMETERS OPTIMIZATION ONLY\"\n",
       "  ],\n",
       "  \"calculation\": {\n",
       "    \"n_ao\": 46,\n",
       "    \"spin\": true,\n",
       "    \"type\": \"unrestricted open shell\",\n",
       "    \"n_atoms\": 4,\n",
       "    \"n_shells\": 14,\n",
       "    \"n_symops\": 16,\n",
       "    \"n_core_el\": 40,\n",
       "    \"n_electrons\": 72,\n",
       "    \"n_kpoints_ibz\": 75,\n",
       "    \"n_kpoints_gilat\": 75\n",
       "  },\n",
       "  \"energy_units\": \"eV\",\n",
       "  \"parser_class\": \"CryMainParser\",\n",
       "  \"parser_errors\": [],\n",
       "  \"mulliken_spins\": [\n",
       "    3.234,\n",
       "    -3.234,\n",
       "    -0.172,\n",
       "    0.172\n",
       "  ],\n",
       "  \"opt_iterations\": 19,\n",
       "  \"parser_version\": \"0.9.2b5\",\n",
       "  \"scf_iterations\": 16,\n",
       "  \"number_of_atoms\": 4,\n",
       "  \"parser_warnings\": [],\n",
       "  \"mulliken_charges\": [\n",
       "    0.363,\n",
       "    0.363,\n",
       "    -0.363,\n",
       "    -0.363\n",
       "  ],\n",
       "  \"parser_exceptions\": [],\n",
       "  \"mulliken_electrons\": [\n",
       "    27.637,\n",
       "    27.637,\n",
       "    8.363,\n",
       "    8.363\n",
       "  ],\n",
       "  \"mulliken_spin_total\": 0.0,\n",
       "  \"number_of_assymetric\": 4,\n",
       "  \"execution_time_seconds\": 3018\n",
       "}\n",
       "```"
      ]
     },
     "metadata": {},
     "output_type": "display_data"
    }
   ],
   "source": [
    "display_json(calc_node.outputs.results.attributes)"
   ]
  }
 ],
 "metadata": {
  "celltoolbar": "Tags",
  "hide_input": false,
  "kernelspec": {
   "display_name": "Python 3",
   "language": "python",
   "name": "python3"
  },
  "language_info": {
   "codemirror_mode": {
    "name": "ipython",
    "version": 3
   },
   "file_extension": ".py",
   "mimetype": "text/x-python",
   "name": "python",
   "nbconvert_exporter": "python",
   "pygments_lexer": "ipython3",
   "version": "3.6.7"
  },
  "toc": {
   "base_numbering": 1,
   "nav_menu": {},
   "number_sections": true,
   "sideBar": true,
   "skip_h1_title": false,
   "title_cell": "Table of Contents",
   "title_sidebar": "Contents",
   "toc_cell": false,
   "toc_position": {},
   "toc_section_display": true,
   "toc_window_display": false
  }
 },
 "nbformat": 4,
 "nbformat_minor": 2
}
