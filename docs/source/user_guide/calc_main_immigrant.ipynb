{
 "cells": [
  {
   "cell_type": "markdown",
   "metadata": {},
   "source": [
    ".. _main_calculation_immigrant:"
   ]
  },
  {
   "cell_type": "markdown",
   "metadata": {},
   "source": [
    "# Main Calculation Immigration"
   ]
  },
  {
   "cell_type": "markdown",
   "metadata": {},
   "source": [
    "In order to immigrate existing CRYSTAL17 calculations,\n",
    "the :py:mod:`aiida_crystal17.immigration` module has been\n",
    "created to take a ``.d12`` and ``.out`` file set\n",
    "and replicate a ``crystal17.main`` calculation:"
   ]
  },
  {
   "cell_type": "markdown",
   "metadata": {},
   "source": [
    ".. note::\n",
    "\n",
    "    This approach may be subject to change, \n",
    "    if a general approach is developed for immigrant calculations\n",
    "    (see [this ongoing issue](https://github.com/aiidateam/aiida_core/issues/1892)).\n"
   ]
  },
  {
   "cell_type": "code",
   "execution_count": 1,
   "metadata": {
    "init_cell": true
   },
   "outputs": [],
   "source": [
    "from aiida import load_profile\n",
    "profile = load_profile()\n",
    "import os\n",
    "from aiida_crystal17.tests import TEST_FILES\n",
    "from aiida_crystal17.tests.utils import (\n",
    "    get_or_create_local_computer, get_or_create_code, \n",
    "    get_default_metadata)\n",
    "from aiida_crystal17.immigration.create_inputs import populate_builder\n",
    "from aiida_crystal17.immigration.create_calcjob import immigrate_existing\n",
    "from aiida_crystal17.common import display_json\n",
    "from aiida_crystal17.graph import Graph\n",
    "from aiida.orm import Code, RemoteData\n",
    "from aiida.common.folders import Folder"
   ]
  },
  {
   "cell_type": "markdown",
   "metadata": {},
   "source": [
    ":py:func:`aiida_crystal17.immigration.create_inputs.populate_builder`\n",
    "will create an input builder for the `crystal17.main` calculation,\n",
    "from a `FolderData` node, populated with the files, and a `Code` node."
   ]
  },
  {
   "cell_type": "code",
   "execution_count": 2,
   "metadata": {},
   "outputs": [],
   "source": [
    "computer = get_or_create_local_computer('work_directory', 'localhost')\n",
    "code = get_or_create_code('crystal17.main', computer, 'mock_crystal17')"
   ]
  },
  {
   "cell_type": "code",
   "execution_count": 4,
   "metadata": {},
   "outputs": [
    {
     "data": {
      "text/markdown": [
       "```json\n",
       "{\n",
       "  \"metadata\": {\n",
       "    \"options\": {\n",
       "      \"resources\": {\n",
       "        \"num_machines\": 1,\n",
       "        \"num_mpiprocs_per_machine\": 1\n",
       "      },\n",
       "      \"max_wallclock_seconds\": 1800,\n",
       "      \"withmpi\": false,\n",
       "      \"input_file_name\": \"INPUT\",\n",
       "      \"output_main_file_name\": \"main.out\"\n",
       "    },\n",
       "    \"dry_run\": false\n",
       "  },\n",
       "  \"basissets\": {\n",
       "    \"Ni\": [\n",
       "      \"uuid: 7f91a637-a366-47f1-9ce3-7e017c82b5a2 (unstored)\"\n",
       "    ],\n",
       "    \"O\": [\n",
       "      \"uuid: c3af1c12-115e-44b2-8106-2f79ba8110a7 (unstored)\"\n",
       "    ]\n",
       "  },\n",
       "  \"parameters\": [\n",
       "    \"uuid: 1202e201-9d63-4cc0-a56e-a8994cc025a3 (unstored)\"\n",
       "  ],\n",
       "  \"structure\": [\n",
       "    \"uuid: 2aaebcff-f346-4e25-8e7b-486976aaedd9 (unstored)\"\n",
       "  ],\n",
       "  \"symmetry\": [\n",
       "    \"uuid: 401e4040-b5b9-49b9-8be4-a12a13219323 (unstored)\"\n",
       "  ],\n",
       "  \"kinds\": [\n",
       "    \"uuid: 273af613-1941-4027-86ff-40afc3e46231 (unstored)\"\n",
       "  ],\n",
       "  \"code\": [\n",
       "    \"Remote code 'crystal17.main-mock_crystal17@localhost' on localhost,\",\n",
       "    \"pk: 23, uuid: 8451bd5e-397a-4014-9982-340b571a48c8\"\n",
       "  ]\n",
       "}\n",
       "```"
      ]
     },
     "metadata": {},
     "output_type": "display_data"
    }
   ],
   "source": [
    "metadata = get_default_metadata()\n",
    "metadata['options'].update({\n",
    "    \"input_file_name\": 'INPUT',\n",
    "    \"output_main_file_name\": \"main.out\"\n",
    "})\n",
    "remote = RemoteData(\n",
    "    remote_path=os.path.join(\n",
    "        TEST_FILES, \"crystal\", \"nio_sto3g_afm_opt\"), \n",
    "    computer=computer)\n",
    "\n",
    "builder = populate_builder(\n",
    "    remote, code=code, \n",
    "    metadata=metadata)\n",
    "\n",
    "display_json(builder)"
   ]
  },
  {
   "cell_type": "markdown",
   "metadata": {},
   "source": [
    ":py:func:`aiida_crystal17.immigration.create_calcjob.immigrate_existing`\n",
    "creates a `CalcJobNode` and uses the above function,\n",
    "and the `crystal17.main` parser, to create and attach incoming and outgoing nodes,\n",
    "replicating a full calculation."
   ]
  },
  {
   "cell_type": "code",
   "execution_count": 5,
   "metadata": {},
   "outputs": [
    {
     "data": {
      "text/plain": [
       "<CalcJobNode: uuid: 0301919d-10b9-4289-b2cd-ec6c60553998 (pk: 49) (aiida.calculations:crystal17.main)>"
      ]
     },
     "execution_count": 5,
     "metadata": {},
     "output_type": "execute_result"
    }
   ],
   "source": [
    "calc_node = immigrate_existing(\n",
    "    builder, remote)\n",
    "calc_node"
   ]
  },
  {
   "cell_type": "code",
   "execution_count": 6,
   "metadata": {
    "ipub": {
     "figure": {
      "caption": "`crystal17.main` immigrated calculation provenance graph."
     }
    }
   },
   "outputs": [
    {
     "data": {
      "image/svg+xml": [
       "<?xml version=\"1.0\" encoding=\"UTF-8\" standalone=\"no\"?>\n",
       "<!DOCTYPE svg PUBLIC \"-//W3C//DTD SVG 1.1//EN\"\n",
       " \"http://www.w3.org/Graphics/SVG/1.1/DTD/svg11.dtd\">\n",
       "<!-- Generated by graphviz version 2.40.1 (20161225.0304)\n",
       " -->\n",
       "<!-- Title: %3 Pages: 1 -->\n",
       "<svg width=\"432pt\" height=\"188pt\"\n",
       " viewBox=\"0.00 0.00 432.00 188.38\" xmlns=\"http://www.w3.org/2000/svg\" xmlns:xlink=\"http://www.w3.org/1999/xlink\">\n",
       "<g id=\"graph0\" class=\"graph\" transform=\"scale(.4663 .4663) rotate(0) translate(4 400)\">\n",
       "<title>%3</title>\n",
       "<polygon fill=\"#ffffff\" stroke=\"transparent\" points=\"-4,4 -4,-400 922.4658,-400 922.4658,4 -4,4\"/>\n",
       "<!-- N49 -->\n",
       "<g id=\"node1\" class=\"node\">\n",
       "<title>N49</title>\n",
       "<ellipse fill=\"#90ee90\" stroke=\"#000000\" cx=\"570.9375\" cy=\"-180\" rx=\"111.8244\" ry=\"35.2113\"/>\n",
       "<text text-anchor=\"middle\" x=\"570.9375\" y=\"-189.8\" font-family=\"Times,serif\" font-size=\"14.00\" fill=\"#000000\">CryMainCalculation (49)</text>\n",
       "<text text-anchor=\"middle\" x=\"570.9375\" y=\"-175.8\" font-family=\"Times,serif\" font-size=\"14.00\" fill=\"#000000\">State: finished</text>\n",
       "<text text-anchor=\"middle\" x=\"570.9375\" y=\"-161.8\" font-family=\"Times,serif\" font-size=\"14.00\" fill=\"#000000\">Exit Code: 0</text>\n",
       "</g>\n",
       "<!-- N53 -->\n",
       "<g id=\"node9\" class=\"node\">\n",
       "<title>N53</title>\n",
       "<polygon fill=\"none\" stroke=\"#000000\" points=\"918.2512,-279 798.111,-279 798.111,-243 918.2512,-243 918.2512,-279\"/>\n",
       "<text text-anchor=\"middle\" x=\"858.1811\" y=\"-263.8\" font-family=\"Times,serif\" font-size=\"14.00\" fill=\"#000000\">StructureData (53)</text>\n",
       "<text text-anchor=\"middle\" x=\"858.1811\" y=\"-249.8\" font-family=\"Times,serif\" font-size=\"14.00\" fill=\"#000000\">Ni2O2</text>\n",
       "</g>\n",
       "<!-- N49&#45;&gt;N53 -->\n",
       "<g id=\"edge8\" class=\"edge\">\n",
       "<title>N49&#45;&gt;N53</title>\n",
       "<path fill=\"none\" stroke=\"#006400\" d=\"M636.742,-208.6295C656.9567,-216.6749 679.4532,-224.8864 700.5996,-231 728.8351,-239.1631 760.5723,-245.6944 788.1251,-250.5518\"/>\n",
       "<polygon fill=\"#006400\" stroke=\"#006400\" points=\"787.6235,-254.0169 798.0725,-252.2656 788.812,-247.1185 787.6235,-254.0169\"/>\n",
       "<text text-anchor=\"middle\" x=\"740.248\" y=\"-264.8\" font-family=\"Times,serif\" font-size=\"14.00\" fill=\"#000000\">CREATE</text>\n",
       "<text text-anchor=\"middle\" x=\"740.248\" y=\"-250.8\" font-family=\"Times,serif\" font-size=\"14.00\" fill=\"#000000\">structure</text>\n",
       "</g>\n",
       "<!-- N52 -->\n",
       "<g id=\"node10\" class=\"node\">\n",
       "<title>N52</title>\n",
       "<polygon fill=\"none\" stroke=\"#000000\" points=\"891.6089,-225 824.7534,-225 824.7534,-189 891.6089,-189 891.6089,-225\"/>\n",
       "<text text-anchor=\"middle\" x=\"858.1811\" y=\"-202.8\" font-family=\"Times,serif\" font-size=\"14.00\" fill=\"#000000\">Dict (52)</text>\n",
       "</g>\n",
       "<!-- N49&#45;&gt;N52 -->\n",
       "<g id=\"edge9\" class=\"edge\">\n",
       "<title>N49&#45;&gt;N52</title>\n",
       "<path fill=\"none\" stroke=\"#006400\" d=\"M678.3049,-190.0922C725.4409,-194.5228 778.1514,-199.4775 814.2623,-202.8718\"/>\n",
       "<polygon fill=\"#006400\" stroke=\"#006400\" points=\"814.1658,-206.378 824.4495,-203.8293 814.821,-199.4088 814.1658,-206.378\"/>\n",
       "<text text-anchor=\"middle\" x=\"740.248\" y=\"-215.8\" font-family=\"Times,serif\" font-size=\"14.00\" fill=\"#000000\">CREATE</text>\n",
       "<text text-anchor=\"middle\" x=\"740.248\" y=\"-201.8\" font-family=\"Times,serif\" font-size=\"14.00\" fill=\"#000000\">results</text>\n",
       "</g>\n",
       "<!-- N51 -->\n",
       "<g id=\"node11\" class=\"node\">\n",
       "<title>N51</title>\n",
       "<polygon fill=\"none\" stroke=\"#000000\" points=\"910.985,-171 805.3772,-171 805.3772,-135 910.985,-135 910.985,-171\"/>\n",
       "<text text-anchor=\"middle\" x=\"858.1811\" y=\"-148.8\" font-family=\"Times,serif\" font-size=\"14.00\" fill=\"#000000\">FolderData (51)</text>\n",
       "</g>\n",
       "<!-- N49&#45;&gt;N51 -->\n",
       "<g id=\"edge10\" class=\"edge\">\n",
       "<title>N49&#45;&gt;N51</title>\n",
       "<path fill=\"none\" stroke=\"#006400\" d=\"M669.9069,-163.6015C680.2513,-162.2267 690.6265,-160.9877 700.5996,-160 731.545,-156.9352 766.0426,-155.212 794.8523,-154.2433\"/>\n",
       "<polygon fill=\"#006400\" stroke=\"#006400\" points=\"795.3065,-157.7309 805.192,-153.9194 795.0873,-150.7343 795.3065,-157.7309\"/>\n",
       "<text text-anchor=\"middle\" x=\"740.248\" y=\"-176.8\" font-family=\"Times,serif\" font-size=\"14.00\" fill=\"#000000\">CREATE</text>\n",
       "<text text-anchor=\"middle\" x=\"740.248\" y=\"-162.8\" font-family=\"Times,serif\" font-size=\"14.00\" fill=\"#000000\">retrieved</text>\n",
       "</g>\n",
       "<!-- N50 -->\n",
       "<g id=\"node12\" class=\"node\">\n",
       "<title>N50</title>\n",
       "<polygon fill=\"none\" stroke=\"#000000\" points=\"914.4782,-117 801.8841,-117 801.8841,-81 914.4782,-81 914.4782,-117\"/>\n",
       "<text text-anchor=\"middle\" x=\"858.1811\" y=\"-101.8\" font-family=\"Times,serif\" font-size=\"14.00\" fill=\"#000000\">RemoteData (50)</text>\n",
       "<text text-anchor=\"middle\" x=\"858.1811\" y=\"-87.8\" font-family=\"Times,serif\" font-size=\"14.00\" fill=\"#000000\">@localhost</text>\n",
       "</g>\n",
       "<!-- N49&#45;&gt;N50 -->\n",
       "<g id=\"edge11\" class=\"edge\">\n",
       "<title>N49&#45;&gt;N50</title>\n",
       "<path fill=\"none\" stroke=\"#006400\" d=\"M629.3499,-149.7542C651.2044,-139.5475 676.5635,-128.984 700.5996,-122 729.8022,-113.5148 763.001,-108.0751 791.371,-104.6303\"/>\n",
       "<polygon fill=\"#006400\" stroke=\"#006400\" points=\"792.0563,-108.0745 801.5883,-103.4495 791.2526,-101.1208 792.0563,-108.0745\"/>\n",
       "<text text-anchor=\"middle\" x=\"740.248\" y=\"-138.8\" font-family=\"Times,serif\" font-size=\"14.00\" fill=\"#000000\">CREATE</text>\n",
       "<text text-anchor=\"middle\" x=\"740.248\" y=\"-124.8\" font-family=\"Times,serif\" font-size=\"14.00\" fill=\"#000000\">remote_folder</text>\n",
       "</g>\n",
       "<!-- N23 -->\n",
       "<g id=\"node2\" class=\"node\">\n",
       "<title>N23</title>\n",
       "<polygon fill=\"none\" stroke=\"#ffa500\" points=\"168.8584,-396 .1415,-360 168.8584,-324 337.5753,-360 168.8584,-396\"/>\n",
       "<text text-anchor=\"middle\" x=\"168.8584\" y=\"-362.8\" font-family=\"Times,serif\" font-size=\"14.00\" fill=\"#000000\">Code (23)</text>\n",
       "<text text-anchor=\"middle\" x=\"168.8584\" y=\"-348.8\" font-family=\"Times,serif\" font-size=\"14.00\" fill=\"#000000\">mock_crystal17@localhost</text>\n",
       "</g>\n",
       "<!-- N23&#45;&gt;N49 -->\n",
       "<g id=\"edge1\" class=\"edge\">\n",
       "<title>N23&#45;&gt;N49</title>\n",
       "<path fill=\"none\" stroke=\"#000000\" d=\"M291.8251,-350.168C340.4675,-342.5277 395.5586,-328.9844 441.2754,-305 479.4551,-284.9698 514.1231,-250.2523 537.9856,-222.4806\"/>\n",
       "<polygon fill=\"#000000\" stroke=\"#000000\" points=\"540.9604,-224.382 544.7294,-214.4802 535.6082,-219.8705 540.9604,-224.382\"/>\n",
       "<text text-anchor=\"middle\" x=\"398.4961\" y=\"-352.8\" font-family=\"Times,serif\" font-size=\"14.00\" fill=\"#000000\">INPUT_CALC</text>\n",
       "<text text-anchor=\"middle\" x=\"398.4961\" y=\"-338.8\" font-family=\"Times,serif\" font-size=\"14.00\" fill=\"#000000\">code</text>\n",
       "</g>\n",
       "<!-- N48 -->\n",
       "<g id=\"node3\" class=\"node\">\n",
       "<title>N48</title>\n",
       "<polygon fill=\"none\" stroke=\"#000000\" points=\"217.6107,-306 120.1061,-306 120.1061,-270 217.6107,-270 217.6107,-306\"/>\n",
       "<text text-anchor=\"middle\" x=\"168.8584\" y=\"-283.8\" font-family=\"Times,serif\" font-size=\"14.00\" fill=\"#000000\">KindData (48)</text>\n",
       "</g>\n",
       "<!-- N48&#45;&gt;N49 -->\n",
       "<g id=\"edge2\" class=\"edge\">\n",
       "<title>N48&#45;&gt;N49</title>\n",
       "<path fill=\"none\" stroke=\"#000000\" d=\"M217.8581,-287.6303C273.3944,-285.9098 365.9821,-279.0674 441.2754,-254 467.2187,-245.3627 493.7993,-231.2774 516.0862,-217.701\"/>\n",
       "<polygon fill=\"#000000\" stroke=\"#000000\" points=\"518.0757,-220.5855 524.7229,-212.3353 514.3817,-214.6395 518.0757,-220.5855\"/>\n",
       "<text text-anchor=\"middle\" x=\"398.4961\" y=\"-289.8\" font-family=\"Times,serif\" font-size=\"14.00\" fill=\"#000000\">INPUT_CALC</text>\n",
       "<text text-anchor=\"middle\" x=\"398.4961\" y=\"-275.8\" font-family=\"Times,serif\" font-size=\"14.00\" fill=\"#000000\">kinds</text>\n",
       "</g>\n",
       "<!-- N47 -->\n",
       "<g id=\"node4\" class=\"node\">\n",
       "<title>N47</title>\n",
       "<polygon fill=\"none\" stroke=\"#000000\" points=\"232.4421,-252 105.2747,-252 105.2747,-216 232.4421,-216 232.4421,-252\"/>\n",
       "<text text-anchor=\"middle\" x=\"168.8584\" y=\"-236.8\" font-family=\"Times,serif\" font-size=\"14.00\" fill=\"#000000\">SymmetryData (47)</text>\n",
       "<text text-anchor=\"middle\" x=\"168.8584\" y=\"-222.8\" font-family=\"Times,serif\" font-size=\"14.00\" fill=\"#000000\">symmops: 16</text>\n",
       "</g>\n",
       "<!-- N47&#45;&gt;N49 -->\n",
       "<g id=\"edge3\" class=\"edge\">\n",
       "<title>N47&#45;&gt;N49</title>\n",
       "<path fill=\"none\" stroke=\"#000000\" d=\"M232.5097,-231.7654C287.943,-229.1285 370.3236,-223.5428 441.2754,-212 452.6287,-210.153 464.4509,-207.8201 476.1341,-205.2591\"/>\n",
       "<polygon fill=\"#000000\" stroke=\"#000000\" points=\"476.9149,-208.671 485.9019,-203.0598 475.3773,-201.8419 476.9149,-208.671\"/>\n",
       "<text text-anchor=\"middle\" x=\"398.4961\" y=\"-238.8\" font-family=\"Times,serif\" font-size=\"14.00\" fill=\"#000000\">INPUT_CALC</text>\n",
       "<text text-anchor=\"middle\" x=\"398.4961\" y=\"-224.8\" font-family=\"Times,serif\" font-size=\"14.00\" fill=\"#000000\">symmetry</text>\n",
       "</g>\n",
       "<!-- N46 -->\n",
       "<g id=\"node5\" class=\"node\">\n",
       "<title>N46</title>\n",
       "<polygon fill=\"none\" stroke=\"#000000\" points=\"228.9285,-198 108.7883,-198 108.7883,-162 228.9285,-162 228.9285,-198\"/>\n",
       "<text text-anchor=\"middle\" x=\"168.8584\" y=\"-182.8\" font-family=\"Times,serif\" font-size=\"14.00\" fill=\"#000000\">StructureData (46)</text>\n",
       "<text text-anchor=\"middle\" x=\"168.8584\" y=\"-168.8\" font-family=\"Times,serif\" font-size=\"14.00\" fill=\"#000000\">Ni2O2</text>\n",
       "</g>\n",
       "<!-- N46&#45;&gt;N49 -->\n",
       "<g id=\"edge4\" class=\"edge\">\n",
       "<title>N46&#45;&gt;N49</title>\n",
       "<path fill=\"none\" stroke=\"#000000\" d=\"M229.0537,-180C286.9069,-180 376.032,-180 448.7795,-180\"/>\n",
       "<polygon fill=\"#000000\" stroke=\"#000000\" points=\"448.9309,-183.5001 458.9308,-180 448.9308,-176.5001 448.9309,-183.5001\"/>\n",
       "<text text-anchor=\"middle\" x=\"398.4961\" y=\"-196.8\" font-family=\"Times,serif\" font-size=\"14.00\" fill=\"#000000\">INPUT_CALC</text>\n",
       "<text text-anchor=\"middle\" x=\"398.4961\" y=\"-182.8\" font-family=\"Times,serif\" font-size=\"14.00\" fill=\"#000000\">structure</text>\n",
       "</g>\n",
       "<!-- N45 -->\n",
       "<g id=\"node6\" class=\"node\">\n",
       "<title>N45</title>\n",
       "<polygon fill=\"none\" stroke=\"#000000\" points=\"249.376,-144 88.3408,-144 88.3408,-108 249.376,-108 249.376,-144\"/>\n",
       "<text text-anchor=\"middle\" x=\"168.8584\" y=\"-121.8\" font-family=\"Times,serif\" font-size=\"14.00\" fill=\"#000000\">CryInputParamsData (45)</text>\n",
       "</g>\n",
       "<!-- N45&#45;&gt;N49 -->\n",
       "<g id=\"edge5\" class=\"edge\">\n",
       "<title>N45&#45;&gt;N49</title>\n",
       "<path fill=\"none\" stroke=\"#000000\" d=\"M249.4315,-129.0914C303.8758,-132.0156 377.2314,-137.581 441.2754,-148 452.6287,-149.847 464.4509,-152.1799 476.1341,-154.7409\"/>\n",
       "<polygon fill=\"#000000\" stroke=\"#000000\" points=\"475.3773,-158.1581 485.9019,-156.9402 476.9149,-151.329 475.3773,-158.1581\"/>\n",
       "<text text-anchor=\"middle\" x=\"398.4961\" y=\"-164.8\" font-family=\"Times,serif\" font-size=\"14.00\" fill=\"#000000\">INPUT_CALC</text>\n",
       "<text text-anchor=\"middle\" x=\"398.4961\" y=\"-150.8\" font-family=\"Times,serif\" font-size=\"14.00\" fill=\"#000000\">parameters</text>\n",
       "</g>\n",
       "<!-- N44 -->\n",
       "<g id=\"node7\" class=\"node\">\n",
       "<title>N44</title>\n",
       "<polygon fill=\"none\" stroke=\"#000000\" points=\"227.8389,-90 109.8779,-90 109.8779,-54 227.8389,-54 227.8389,-90\"/>\n",
       "<text text-anchor=\"middle\" x=\"168.8584\" y=\"-67.8\" font-family=\"Times,serif\" font-size=\"14.00\" fill=\"#000000\">BasisSetData (44)</text>\n",
       "</g>\n",
       "<!-- N44&#45;&gt;N49 -->\n",
       "<g id=\"edge6\" class=\"edge\">\n",
       "<title>N44&#45;&gt;N49</title>\n",
       "<path fill=\"none\" stroke=\"#000000\" d=\"M227.7418,-72.3536C283.948,-74.2547 370.3355,-81.296 441.2754,-105 467.5136,-113.7673 494.3351,-128.1989 516.7244,-142.0734\"/>\n",
       "<polygon fill=\"#000000\" stroke=\"#000000\" points=\"515.0717,-145.1692 525.3945,-147.5546 518.8123,-139.2525 515.0717,-145.1692\"/>\n",
       "<text text-anchor=\"middle\" x=\"398.4961\" y=\"-121.8\" font-family=\"Times,serif\" font-size=\"14.00\" fill=\"#000000\">INPUT_CALC</text>\n",
       "<text text-anchor=\"middle\" x=\"398.4961\" y=\"-107.8\" font-family=\"Times,serif\" font-size=\"14.00\" fill=\"#000000\">basissets__O</text>\n",
       "</g>\n",
       "<!-- N43 -->\n",
       "<g id=\"node8\" class=\"node\">\n",
       "<title>N43</title>\n",
       "<polygon fill=\"none\" stroke=\"#000000\" points=\"227.8389,-36 109.8779,-36 109.8779,0 227.8389,0 227.8389,-36\"/>\n",
       "<text text-anchor=\"middle\" x=\"168.8584\" y=\"-13.8\" font-family=\"Times,serif\" font-size=\"14.00\" fill=\"#000000\">BasisSetData (43)</text>\n",
       "</g>\n",
       "<!-- N43&#45;&gt;N49 -->\n",
       "<g id=\"edge7\" class=\"edge\">\n",
       "<title>N43&#45;&gt;N49</title>\n",
       "<path fill=\"none\" stroke=\"#000000\" d=\"M227.71,-15.0165C285.0455,-14.4699 373.2675,-20.0307 441.2754,-53 481.0582,-72.2862 516.1821,-108.5814 539.8036,-137.4476\"/>\n",
       "<polygon fill=\"#000000\" stroke=\"#000000\" points=\"537.1701,-139.7582 546.1554,-145.3721 542.6321,-135.3802 537.1701,-139.7582\"/>\n",
       "<text text-anchor=\"middle\" x=\"398.4961\" y=\"-69.8\" font-family=\"Times,serif\" font-size=\"14.00\" fill=\"#000000\">INPUT_CALC</text>\n",
       "<text text-anchor=\"middle\" x=\"398.4961\" y=\"-55.8\" font-family=\"Times,serif\" font-size=\"14.00\" fill=\"#000000\">basissets__Ni</text>\n",
       "</g>\n",
       "</g>\n",
       "</svg>\n"
      ],
      "text/plain": [
       "<graphviz.dot.Digraph at 0x1224e8a58>"
      ]
     },
     "execution_count": 6,
     "metadata": {},
     "output_type": "execute_result"
    }
   ],
   "source": [
    "graph = Graph(graph_attr={'size': \"6,8!\", \"rankdir\": \"LR\"})\n",
    "graph.add_node(calc_node)\n",
    "graph.add_incoming(calc_node, annotate_links=\"both\")\n",
    "graph.add_outgoing(calc_node, annotate_links=\"both\")\n",
    "graph.graphviz"
   ]
  },
  {
   "cell_type": "code",
   "execution_count": 7,
   "metadata": {},
   "outputs": [
    {
     "data": {
      "text/plain": [
       "{'sealed': True,\n",
       " 'withmpi': False,\n",
       " 'resources': {'num_machines': 1, 'num_mpiprocs_per_machine': 1},\n",
       " 'append_text': '',\n",
       " 'exit_status': 0,\n",
       " 'parser_name': 'crystal17.main',\n",
       " 'prepend_text': '',\n",
       " 'process_label': 'CryMainCalculation',\n",
       " 'process_state': 'finished',\n",
       " 'retrieve_list': ['main.out',\n",
       "  'fort.34',\n",
       "  '_scheduler-stdout.txt',\n",
       "  '_scheduler-stderr.txt'],\n",
       " 'remote_workdir': '/Users/cjs14/GitHub/aiida-crystal17/aiida_crystal17/tests/raw_files/crystal/nio_sto3g_afm_opt',\n",
       " 'input_file_name': 'INPUT',\n",
       " 'scheduler_stderr': '_scheduler-stderr.txt',\n",
       " 'scheduler_stdout': '_scheduler-stdout.txt',\n",
       " 'mpirun_extra_params': [],\n",
       " 'environment_variables': {},\n",
       " 'max_wallclock_seconds': 1800,\n",
       " 'output_main_file_name': 'main.out',\n",
       " 'import_sys_environment': True,\n",
       " 'retrieve_temporary_list': ['opt[ac][0-9][0-9][0-9]'],\n",
       " 'custom_scheduler_commands': ''}"
      ]
     },
     "execution_count": 7,
     "metadata": {},
     "output_type": "execute_result"
    }
   ],
   "source": [
    "calc_node.attributes"
   ]
  },
  {
   "cell_type": "code",
   "execution_count": 8,
   "metadata": {},
   "outputs": [
    {
     "data": {
      "text/plain": [
       "{'immigrated': True,\n",
       " '_aiida_hash': '6e5e856b4b76272266e2c42873abe25f5b68848913fb0cb3f13dc41029b44ff0',\n",
       " 'immigration_func': 'aiida_crystal17.immigration.create_calcjob'}"
      ]
     },
     "execution_count": 8,
     "metadata": {},
     "output_type": "execute_result"
    }
   ],
   "source": [
    "calc_node.extras"
   ]
  }
 ],
 "metadata": {
  "hide_input": false,
  "kernelspec": {
   "display_name": "Python 3",
   "language": "python",
   "name": "python3"
  },
  "language_info": {
   "codemirror_mode": {
    "name": "ipython",
    "version": 3
   },
   "file_extension": ".py",
   "mimetype": "text/x-python",
   "name": "python",
   "nbconvert_exporter": "python",
   "pygments_lexer": "ipython3",
   "version": "3.6.5"
  },
  "toc": {
   "base_numbering": 1,
   "nav_menu": {},
   "number_sections": true,
   "sideBar": true,
   "skip_h1_title": false,
   "title_cell": "Table of Contents",
   "title_sidebar": "Contents",
   "toc_cell": false,
   "toc_position": {},
   "toc_section_display": true,
   "toc_window_display": false
  }
 },
 "nbformat": 4,
 "nbformat_minor": 2
}
