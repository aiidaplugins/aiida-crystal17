{
 "cells": [
  {
   "cell_type": "markdown",
   "metadata": {},
   "source": [
    ".. _main_calculation_immigrant:"
   ]
  },
  {
   "cell_type": "markdown",
   "metadata": {},
   "source": [
    "# Main Calculation Immigration"
   ]
  },
  {
   "cell_type": "markdown",
   "metadata": {},
   "source": [
    "In order to immigrate existing CRYSTAL17 calculations,\n",
    "the :py:mod:`aiida_crystal17.immigration` module has been\n",
    "created to take a ``.d12`` and ``.out`` file set\n",
    "and replicate a ``crystal17.main`` calculation:"
   ]
  },
  {
   "cell_type": "markdown",
   "metadata": {},
   "source": [
    ".. note::\n",
    "\n",
    "    This approach may be subject to change, \n",
    "    if a general approach is developed for immigrant calculations\n",
    "    (see [this ongoing issue](https://github.com/aiidateam/aiida_core/issues/1892)).\n"
   ]
  },
  {
   "cell_type": "code",
   "execution_count": 1,
   "metadata": {
    "init_cell": true
   },
   "outputs": [],
   "source": [
    "from aiida import load_profile\n",
    "profile = load_profile()\n",
    "import os\n",
    "from aiida_crystal17.tests import TEST_DIR\n",
    "from aiida_crystal17.tests.utils import (\n",
    "    get_or_create_local_computer, get_or_create_code, \n",
    "    get_default_metadata)\n",
    "from aiida_crystal17.immigration.create_inputs import populate_builder\n",
    "from aiida_crystal17.immigration.create_calcjob import create_crymain\n",
    "from aiida_crystal17.common import display_json\n",
    "from aiida_crystal17.graph import Graph\n",
    "from aiida.orm import Code\n",
    "from aiida.common.folders import Folder"
   ]
  },
  {
   "cell_type": "markdown",
   "metadata": {},
   "source": [
    ":py:func:`aiida_crystal17.immigration.create_inputs.populate_builder`\n",
    "will create an input builder for the `crystal17.main` calculation,\n",
    "from a `FolderData` node, populated with the files, and a `Code` node."
   ]
  },
  {
   "cell_type": "code",
   "execution_count": 2,
   "metadata": {},
   "outputs": [],
   "source": [
    "computer = get_or_create_local_computer('work_directory', 'localhost')\n",
    "code = get_or_create_code('crystal17.main', computer, 'mock_runcry17')"
   ]
  },
  {
   "cell_type": "code",
   "execution_count": 3,
   "metadata": {},
   "outputs": [
    {
     "data": {
      "text/markdown": [
       "```json\n",
       "{\n",
       "  \"metadata\": {\n",
       "    \"options\": {\n",
       "      \"resources\": {\n",
       "        \"num_machines\": 1,\n",
       "        \"num_mpiprocs_per_machine\": 1\n",
       "      },\n",
       "      \"max_wallclock_seconds\": 1800,\n",
       "      \"withmpi\": false\n",
       "    }\n",
       "  },\n",
       "  \"basissets\": {\n",
       "    \"Ni\": [\n",
       "      \"uuid: a98a32f5-bbbd-478d-818b-44a89b6e48c1 (pk: 914)\"\n",
       "    ],\n",
       "    \"O\": [\n",
       "      \"uuid: 5c31e0c9-07ca-4f80-871b-3dbbbb1986a4 (pk: 915)\"\n",
       "    ]\n",
       "  },\n",
       "  \"parameters\": [\n",
       "    \"uuid: fc0e480d-d0e7-4bbd-9f55-cf0883d2ed60 (unstored)\"\n",
       "  ],\n",
       "  \"structure\": [\n",
       "    \"uuid: cfafaaa0-3ab6-42a1-8977-e5cf64c7182b (unstored)\"\n",
       "  ],\n",
       "  \"symmetry\": [\n",
       "    \"uuid: 854d24ba-a582-465a-be8f-48b724760686 (unstored)\"\n",
       "  ],\n",
       "  \"kinds\": [\n",
       "    \"uuid: 7e4c5d65-da34-422d-961f-09f7083e862b (unstored)\"\n",
       "  ],\n",
       "  \"code\": [\n",
       "    \"Remote code 'crystal17.main-mock_runcry17@localhost' on localhost, pk:\",\n",
       "    \"913, uuid: 02c1e8ff-5d7b-4e10-8fc9-e9b0aa8077d7\"\n",
       "  ]\n",
       "}\n",
       "```"
      ]
     },
     "metadata": {},
     "output_type": "display_data"
    }
   ],
   "source": [
    "builder = populate_builder(\n",
    "    TEST_DIR, \n",
    "    input_name=os.path.join(\"input_files\", 'nio_sto3g_afm_opt.crystal.d12'), \n",
    "    output_name=os.path.join(\"output_files\", 'nio_sto3g_afm_opt.crystal.out'),\n",
    "    code=code, metadata=get_default_metadata())\n",
    "\n",
    "display_json(builder)"
   ]
  },
  {
   "cell_type": "markdown",
   "metadata": {},
   "source": [
    ":py:func:`aiida_crystal17.immigration.create_calcjob.create_crymain`\n",
    "creates a `CalcJobNode` and uses the above function,\n",
    "and the `crystal17.main` parser, to create and attach incoming and outgoing nodes,\n",
    "replicating a full calculation."
   ]
  },
  {
   "cell_type": "code",
   "execution_count": 4,
   "metadata": {},
   "outputs": [
    {
     "data": {
      "text/plain": [
       "<CalcJobNode: uuid: 43528483-7f74-4d34-aff9-35269d56588e (pk: 945) (aiida.calculations:crystal17.main)>"
      ]
     },
     "execution_count": 4,
     "metadata": {},
     "output_type": "execute_result"
    }
   ],
   "source": [
    "calc_node = create_crymain(\n",
    "    builder, TEST_DIR, \n",
    "    os.path.join(\"output_files\", 'nio_sto3g_afm_opt.crystal.out'))\n",
    "calc_node"
   ]
  },
  {
   "cell_type": "code",
   "execution_count": 5,
   "metadata": {
    "ipub": {
     "figure": {
      "caption": "`crystal17.main` immigrated calculation provenance graph."
     }
    }
   },
   "outputs": [
    {
     "data": {
      "image/svg+xml": [
       "<?xml version=\"1.0\" encoding=\"UTF-8\" standalone=\"no\"?>\n",
       "<!DOCTYPE svg PUBLIC \"-//W3C//DTD SVG 1.1//EN\"\n",
       " \"http://www.w3.org/Graphics/SVG/1.1/DTD/svg11.dtd\">\n",
       "<!-- Generated by graphviz version 2.40.1 (20161225.0304)\n",
       " -->\n",
       "<!-- Title: %3 Pages: 1 -->\n",
       "<svg width=\"432pt\" height=\"191pt\"\n",
       " viewBox=\"0.00 0.00 432.00 190.66\" xmlns=\"http://www.w3.org/2000/svg\" xmlns:xlink=\"http://www.w3.org/1999/xlink\">\n",
       "<g id=\"graph0\" class=\"graph\" transform=\"scale(.4719 .4719) rotate(0) translate(4 400)\">\n",
       "<title>%3</title>\n",
       "<polygon fill=\"#ffffff\" stroke=\"transparent\" points=\"-4,4 -4,-400 911.3995,-400 911.3995,4 -4,4\"/>\n",
       "<!-- N945 -->\n",
       "<g id=\"node1\" class=\"node\">\n",
       "<title>N945</title>\n",
       "<ellipse fill=\"#90ee90\" stroke=\"#000000\" cx=\"574.3286\" cy=\"-180\" rx=\"116.7238\" ry=\"35.2113\"/>\n",
       "<text text-anchor=\"middle\" x=\"574.3286\" y=\"-189.8\" font-family=\"Times,serif\" font-size=\"14.00\" fill=\"#000000\">CryMainCalculation (945)</text>\n",
       "<text text-anchor=\"middle\" x=\"574.3286\" y=\"-175.8\" font-family=\"Times,serif\" font-size=\"14.00\" fill=\"#000000\">State: finished</text>\n",
       "<text text-anchor=\"middle\" x=\"574.3286\" y=\"-161.8\" font-family=\"Times,serif\" font-size=\"14.00\" fill=\"#000000\">Exit Code: 0</text>\n",
       "</g>\n",
       "<!-- N948 -->\n",
       "<g id=\"node9\" class=\"node\">\n",
       "<title>N948</title>\n",
       "<polygon fill=\"none\" stroke=\"#000000\" points=\"907.1849,-252 780.0448,-252 780.0448,-216 907.1849,-216 907.1849,-252\"/>\n",
       "<text text-anchor=\"middle\" x=\"843.6148\" y=\"-236.8\" font-family=\"Times,serif\" font-size=\"14.00\" fill=\"#000000\">StructureData (948)</text>\n",
       "<text text-anchor=\"middle\" x=\"843.6148\" y=\"-222.8\" font-family=\"Times,serif\" font-size=\"14.00\" fill=\"#000000\">Ni2O2</text>\n",
       "</g>\n",
       "<!-- N945&#45;&gt;N948 -->\n",
       "<g id=\"edge8\" class=\"edge\">\n",
       "<title>N945&#45;&gt;N948</title>\n",
       "<path fill=\"none\" stroke=\"#006400\" d=\"M664.6448,-202.4065C679.4092,-205.7995 694.5728,-209.1225 708.9405,-212 728.614,-215.9401 750.01,-219.681 769.8356,-222.9233\"/>\n",
       "<polygon fill=\"#006400\" stroke=\"#006400\" points=\"769.3036,-226.3826 779.7339,-224.5225 770.4202,-219.4723 769.3036,-226.3826\"/>\n",
       "<text text-anchor=\"middle\" x=\"735.3853\" y=\"-237.8\" font-family=\"Times,serif\" font-size=\"14.00\" fill=\"#000000\">CREATE</text>\n",
       "<text text-anchor=\"middle\" x=\"735.3853\" y=\"-223.8\" font-family=\"Times,serif\" font-size=\"14.00\" fill=\"#000000\">structure</text>\n",
       "</g>\n",
       "<!-- N947 -->\n",
       "<g id=\"node10\" class=\"node\">\n",
       "<title>N947</title>\n",
       "<polygon fill=\"none\" stroke=\"#000000\" points=\"880.5426,-198 806.687,-198 806.687,-162 880.5426,-162 880.5426,-198\"/>\n",
       "<text text-anchor=\"middle\" x=\"843.6148\" y=\"-175.8\" font-family=\"Times,serif\" font-size=\"14.00\" fill=\"#000000\">Dict (947)</text>\n",
       "</g>\n",
       "<!-- N945&#45;&gt;N947 -->\n",
       "<g id=\"edge9\" class=\"edge\">\n",
       "<title>N945&#45;&gt;N947</title>\n",
       "<path fill=\"none\" stroke=\"#006400\" d=\"M691.2666,-180C728.306,-180 767.1645,-180 796.3662,-180\"/>\n",
       "<polygon fill=\"#006400\" stroke=\"#006400\" points=\"796.6665,-183.5001 806.6665,-180 796.6665,-176.5001 796.6665,-183.5001\"/>\n",
       "<text text-anchor=\"middle\" x=\"735.3853\" y=\"-196.8\" font-family=\"Times,serif\" font-size=\"14.00\" fill=\"#000000\">CREATE</text>\n",
       "<text text-anchor=\"middle\" x=\"735.3853\" y=\"-182.8\" font-family=\"Times,serif\" font-size=\"14.00\" fill=\"#000000\">results</text>\n",
       "</g>\n",
       "<!-- N946 -->\n",
       "<g id=\"node11\" class=\"node\">\n",
       "<title>N946</title>\n",
       "<polygon fill=\"none\" stroke=\"#000000\" points=\"899.9187,-144 787.3109,-144 787.3109,-108 899.9187,-108 899.9187,-144\"/>\n",
       "<text text-anchor=\"middle\" x=\"843.6148\" y=\"-121.8\" font-family=\"Times,serif\" font-size=\"14.00\" fill=\"#000000\">FolderData (946)</text>\n",
       "</g>\n",
       "<!-- N945&#45;&gt;N946 -->\n",
       "<g id=\"edge10\" class=\"edge\">\n",
       "<title>N945&#45;&gt;N946</title>\n",
       "<path fill=\"none\" stroke=\"#006400\" d=\"M664.6448,-157.5935C679.4092,-154.2005 694.5728,-150.8775 708.9405,-148 730.9995,-143.5822 755.2242,-139.4147 776.9726,-135.9198\"/>\n",
       "<polygon fill=\"#006400\" stroke=\"#006400\" points=\"777.7734,-139.3365 787.1007,-134.3115 776.6756,-132.4232 777.7734,-139.3365\"/>\n",
       "<text text-anchor=\"middle\" x=\"735.3853\" y=\"-164.8\" font-family=\"Times,serif\" font-size=\"14.00\" fill=\"#000000\">CREATE</text>\n",
       "<text text-anchor=\"middle\" x=\"735.3853\" y=\"-150.8\" font-family=\"Times,serif\" font-size=\"14.00\" fill=\"#000000\">retrieved</text>\n",
       "</g>\n",
       "<!-- N913 -->\n",
       "<g id=\"node2\" class=\"node\">\n",
       "<title>N913</title>\n",
       "<polygon fill=\"none\" stroke=\"#ffa500\" points=\"168.0791,-396 -.0791,-360 168.0791,-324 336.2373,-360 168.0791,-396\"/>\n",
       "<text text-anchor=\"middle\" x=\"168.0791\" y=\"-362.8\" font-family=\"Times,serif\" font-size=\"14.00\" fill=\"#000000\">Code (913)</text>\n",
       "<text text-anchor=\"middle\" x=\"168.0791\" y=\"-348.8\" font-family=\"Times,serif\" font-size=\"14.00\" fill=\"#000000\">mock_runcry17@localhost</text>\n",
       "</g>\n",
       "<!-- N913&#45;&gt;N945 -->\n",
       "<g id=\"edge1\" class=\"edge\">\n",
       "<title>N913&#45;&gt;N945</title>\n",
       "<path fill=\"none\" stroke=\"#000000\" d=\"M289.1129,-349.8943C337.9126,-342.2191 393.4824,-328.7235 439.7168,-305 479.0104,-284.8379 515.1826,-249.9118 540.1125,-222.0944\"/>\n",
       "<polygon fill=\"#000000\" stroke=\"#000000\" points=\"542.8573,-224.2733 546.8391,-214.4551 537.6037,-219.6473 542.8573,-224.2733\"/>\n",
       "<text text-anchor=\"middle\" x=\"396.9375\" y=\"-352.8\" font-family=\"Times,serif\" font-size=\"14.00\" fill=\"#000000\">INPUT_CALC</text>\n",
       "<text text-anchor=\"middle\" x=\"396.9375\" y=\"-338.8\" font-family=\"Times,serif\" font-size=\"14.00\" fill=\"#000000\">code</text>\n",
       "</g>\n",
       "<!-- N944 -->\n",
       "<g id=\"node3\" class=\"node\">\n",
       "<title>N944</title>\n",
       "<polygon fill=\"none\" stroke=\"#000000\" points=\"220.3314,-306 115.8268,-306 115.8268,-270 220.3314,-270 220.3314,-306\"/>\n",
       "<text text-anchor=\"middle\" x=\"168.0791\" y=\"-283.8\" font-family=\"Times,serif\" font-size=\"14.00\" fill=\"#000000\">KindData (944)</text>\n",
       "</g>\n",
       "<!-- N944&#45;&gt;N945 -->\n",
       "<g id=\"edge2\" class=\"edge\">\n",
       "<title>N944&#45;&gt;N945</title>\n",
       "<path fill=\"none\" stroke=\"#000000\" d=\"M220.4033,-287.26C276.0503,-285.1463 366.025,-277.8965 439.7168,-254 466.5976,-245.2832 494.2883,-231.1042 517.5129,-217.4783\"/>\n",
       "<polygon fill=\"#000000\" stroke=\"#000000\" points=\"519.3962,-220.4302 526.1844,-212.2956 515.805,-214.4216 519.3962,-220.4302\"/>\n",
       "<text text-anchor=\"middle\" x=\"396.9375\" y=\"-289.8\" font-family=\"Times,serif\" font-size=\"14.00\" fill=\"#000000\">INPUT_CALC</text>\n",
       "<text text-anchor=\"middle\" x=\"396.9375\" y=\"-275.8\" font-family=\"Times,serif\" font-size=\"14.00\" fill=\"#000000\">kinds</text>\n",
       "</g>\n",
       "<!-- N943 -->\n",
       "<g id=\"node4\" class=\"node\">\n",
       "<title>N943</title>\n",
       "<polygon fill=\"none\" stroke=\"#000000\" points=\"235.1628,-252 100.9954,-252 100.9954,-216 235.1628,-216 235.1628,-252\"/>\n",
       "<text text-anchor=\"middle\" x=\"168.0791\" y=\"-236.8\" font-family=\"Times,serif\" font-size=\"14.00\" fill=\"#000000\">SymmetryData (943)</text>\n",
       "<text text-anchor=\"middle\" x=\"168.0791\" y=\"-222.8\" font-family=\"Times,serif\" font-size=\"14.00\" fill=\"#000000\">symmops: 16</text>\n",
       "</g>\n",
       "<!-- N943&#45;&gt;N945 -->\n",
       "<g id=\"edge3\" class=\"edge\">\n",
       "<title>N943&#45;&gt;N945</title>\n",
       "<path fill=\"none\" stroke=\"#000000\" d=\"M235.3964,-231.4068C290.5723,-228.5969 370.5548,-222.9557 439.7168,-212 451.3942,-210.1502 463.5572,-207.8289 475.5875,-205.2856\"/>\n",
       "<polygon fill=\"#000000\" stroke=\"#000000\" points=\"476.6177,-208.6436 485.6481,-203.1026 475.1333,-201.8028 476.6177,-208.6436\"/>\n",
       "<text text-anchor=\"middle\" x=\"396.9375\" y=\"-238.8\" font-family=\"Times,serif\" font-size=\"14.00\" fill=\"#000000\">INPUT_CALC</text>\n",
       "<text text-anchor=\"middle\" x=\"396.9375\" y=\"-224.8\" font-family=\"Times,serif\" font-size=\"14.00\" fill=\"#000000\">symmetry</text>\n",
       "</g>\n",
       "<!-- N942 -->\n",
       "<g id=\"node5\" class=\"node\">\n",
       "<title>N942</title>\n",
       "<polygon fill=\"none\" stroke=\"#000000\" points=\"231.6492,-198 104.509,-198 104.509,-162 231.6492,-162 231.6492,-198\"/>\n",
       "<text text-anchor=\"middle\" x=\"168.0791\" y=\"-182.8\" font-family=\"Times,serif\" font-size=\"14.00\" fill=\"#000000\">StructureData (942)</text>\n",
       "<text text-anchor=\"middle\" x=\"168.0791\" y=\"-168.8\" font-family=\"Times,serif\" font-size=\"14.00\" fill=\"#000000\">Ni2O2</text>\n",
       "</g>\n",
       "<!-- N942&#45;&gt;N945 -->\n",
       "<g id=\"edge4\" class=\"edge\">\n",
       "<title>N942&#45;&gt;N945</title>\n",
       "<path fill=\"none\" stroke=\"#000000\" d=\"M232.0025,-180C289.5055,-180 375.686,-180 447.1889,-180\"/>\n",
       "<polygon fill=\"#000000\" stroke=\"#000000\" points=\"447.6269,-183.5001 457.6269,-180 447.6268,-176.5001 447.6269,-183.5001\"/>\n",
       "<text text-anchor=\"middle\" x=\"396.9375\" y=\"-196.8\" font-family=\"Times,serif\" font-size=\"14.00\" fill=\"#000000\">INPUT_CALC</text>\n",
       "<text text-anchor=\"middle\" x=\"396.9375\" y=\"-182.8\" font-family=\"Times,serif\" font-size=\"14.00\" fill=\"#000000\">structure</text>\n",
       "</g>\n",
       "<!-- N941 -->\n",
       "<g id=\"node6\" class=\"node\">\n",
       "<title>N941</title>\n",
       "<polygon fill=\"none\" stroke=\"#000000\" points=\"252.0967,-144 84.0615,-144 84.0615,-108 252.0967,-108 252.0967,-144\"/>\n",
       "<text text-anchor=\"middle\" x=\"168.0791\" y=\"-121.8\" font-family=\"Times,serif\" font-size=\"14.00\" fill=\"#000000\">CryInputParamsData (941)</text>\n",
       "</g>\n",
       "<!-- N941&#45;&gt;N945 -->\n",
       "<g id=\"edge5\" class=\"edge\">\n",
       "<title>N941&#45;&gt;N945</title>\n",
       "<path fill=\"none\" stroke=\"#000000\" d=\"M252.2945,-129.503C306.1407,-132.5595 377.3308,-138.1177 439.7168,-148 451.3942,-149.8498 463.5572,-152.1711 475.5875,-154.7144\"/>\n",
       "<polygon fill=\"#000000\" stroke=\"#000000\" points=\"475.1333,-158.1972 485.6481,-156.8974 476.6177,-151.3564 475.1333,-158.1972\"/>\n",
       "<text text-anchor=\"middle\" x=\"396.9375\" y=\"-164.8\" font-family=\"Times,serif\" font-size=\"14.00\" fill=\"#000000\">INPUT_CALC</text>\n",
       "<text text-anchor=\"middle\" x=\"396.9375\" y=\"-150.8\" font-family=\"Times,serif\" font-size=\"14.00\" fill=\"#000000\">parameters</text>\n",
       "</g>\n",
       "<!-- N915 -->\n",
       "<g id=\"node7\" class=\"node\">\n",
       "<title>N915</title>\n",
       "<polygon fill=\"none\" stroke=\"#000000\" points=\"230.5595,-90 105.5987,-90 105.5987,-54 230.5595,-54 230.5595,-90\"/>\n",
       "<text text-anchor=\"middle\" x=\"168.0791\" y=\"-67.8\" font-family=\"Times,serif\" font-size=\"14.00\" fill=\"#000000\">BasisSetData (915)</text>\n",
       "</g>\n",
       "<!-- N915&#45;&gt;N945 -->\n",
       "<g id=\"edge6\" class=\"edge\">\n",
       "<title>N915&#45;&gt;N945</title>\n",
       "<path fill=\"none\" stroke=\"#000000\" d=\"M230.4989,-72.7821C286.5262,-75.0657 370.3742,-82.4349 439.7168,-105 466.8989,-113.8455 494.8407,-128.3726 518.1728,-142.2976\"/>\n",
       "<polygon fill=\"#000000\" stroke=\"#000000\" points=\"516.5155,-145.3861 526.8781,-147.5919 520.1528,-139.4053 516.5155,-145.3861\"/>\n",
       "<text text-anchor=\"middle\" x=\"396.9375\" y=\"-121.8\" font-family=\"Times,serif\" font-size=\"14.00\" fill=\"#000000\">INPUT_CALC</text>\n",
       "<text text-anchor=\"middle\" x=\"396.9375\" y=\"-107.8\" font-family=\"Times,serif\" font-size=\"14.00\" fill=\"#000000\">basissets__O</text>\n",
       "</g>\n",
       "<!-- N914 -->\n",
       "<g id=\"node8\" class=\"node\">\n",
       "<title>N914</title>\n",
       "<polygon fill=\"none\" stroke=\"#000000\" points=\"230.5595,-36 105.5987,-36 105.5987,0 230.5595,0 230.5595,-36\"/>\n",
       "<text text-anchor=\"middle\" x=\"168.0791\" y=\"-13.8\" font-family=\"Times,serif\" font-size=\"14.00\" fill=\"#000000\">BasisSetData (914)</text>\n",
       "</g>\n",
       "<!-- N914&#45;&gt;N945 -->\n",
       "<g id=\"edge7\" class=\"edge\">\n",
       "<title>N914&#45;&gt;N945</title>\n",
       "<path fill=\"none\" stroke=\"#000000\" d=\"M230.4563,-15.3167C287.576,-15.2817 373.1055,-21.4594 439.7168,-53 480.4605,-72.2923 516.9789,-108.5869 541.6645,-137.4514\"/>\n",
       "<polygon fill=\"#000000\" stroke=\"#000000\" points=\"539.2006,-139.9602 548.307,-145.3753 544.565,-135.4632 539.2006,-139.9602\"/>\n",
       "<text text-anchor=\"middle\" x=\"396.9375\" y=\"-69.8\" font-family=\"Times,serif\" font-size=\"14.00\" fill=\"#000000\">INPUT_CALC</text>\n",
       "<text text-anchor=\"middle\" x=\"396.9375\" y=\"-55.8\" font-family=\"Times,serif\" font-size=\"14.00\" fill=\"#000000\">basissets__Ni</text>\n",
       "</g>\n",
       "</g>\n",
       "</svg>\n"
      ],
      "text/plain": [
       "<graphviz.dot.Digraph at 0x116ffab38>"
      ]
     },
     "execution_count": 5,
     "metadata": {},
     "output_type": "execute_result"
    }
   ],
   "source": [
    "graph = Graph(graph_attr={'size': \"6,8!\", \"rankdir\": \"LR\"})\n",
    "graph.add_node(calc_node)\n",
    "graph.add_incoming(calc_node, annotate_links=\"both\")\n",
    "graph.add_outgoing(calc_node, annotate_links=\"both\")\n",
    "graph.graphviz"
   ]
  },
  {
   "cell_type": "code",
   "execution_count": 6,
   "metadata": {},
   "outputs": [
    {
     "data": {
      "text/plain": [
       "{'sealed': True,\n",
       " 'exit_status': 0,\n",
       " 'process_state': 'finished',\n",
       " 'retrieve_list': ['main.d12', 'main.out'],\n",
       " 'output_main_file_name': 'main.out',\n",
       " 'external_file_name': 'main.gui',\n",
       " 'input_file_name': 'main.d12',\n",
       " 'parser_name': 'crystal17.main',\n",
       " 'append_text': '',\n",
       " 'prepend_text': '',\n",
       " 'environment_variables': {},\n",
       " 'import_sys_environment': True,\n",
       " 'mpirun_extra_params': [],\n",
       " 'custom_scheduler_commands': '',\n",
       " 'scheduler_stderr': '_scheduler-stderr.txt',\n",
       " 'scheduler_stdout': '_scheduler-stdout.txt',\n",
       " 'withmpi': False,\n",
       " 'max_wallclock_seconds': 1800,\n",
       " 'resources': {'num_mpiprocs_per_machine': 1, 'num_machines': 1},\n",
       " 'process_label': 'CryMainCalculation'}"
      ]
     },
     "execution_count": 6,
     "metadata": {},
     "output_type": "execute_result"
    }
   ],
   "source": [
    "calc_node.attributes"
   ]
  },
  {
   "cell_type": "code",
   "execution_count": 7,
   "metadata": {},
   "outputs": [
    {
     "data": {
      "text/plain": [
       "{'immigration_mod': 'aiida_crystal17.immigration.create_calcjob',\n",
       " 'immigrated': True,\n",
       " '_aiida_hash': 'a9acba882771f44c66420794489621124f3e1446bd8ca6bdbb8ae8730da6b854'}"
      ]
     },
     "execution_count": 7,
     "metadata": {},
     "output_type": "execute_result"
    }
   ],
   "source": [
    "calc_node.extras"
   ]
  }
 ],
 "metadata": {
  "hide_input": false,
  "kernelspec": {
   "display_name": "Python 3",
   "language": "python",
   "name": "python3"
  },
  "language_info": {
   "codemirror_mode": {
    "name": "ipython",
    "version": 3
   },
   "file_extension": ".py",
   "mimetype": "text/x-python",
   "name": "python",
   "nbconvert_exporter": "python",
   "pygments_lexer": "ipython3",
   "version": "3.6.5"
  },
  "toc": {
   "base_numbering": 1,
   "nav_menu": {},
   "number_sections": true,
   "sideBar": true,
   "skip_h1_title": false,
   "title_cell": "Table of Contents",
   "title_sidebar": "Contents",
   "toc_cell": false,
   "toc_position": {},
   "toc_section_display": true,
   "toc_window_display": false
  }
 },
 "nbformat": 4,
 "nbformat_minor": 2
}
