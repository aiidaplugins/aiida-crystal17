{
 "cells": [
  {
   "cell_type": "markdown",
   "metadata": {},
   "source": [
    ".. _main_calculation_immigrant:"
   ]
  },
  {
   "cell_type": "markdown",
   "metadata": {},
   "source": [
    "# Main Calculation Immigration"
   ]
  },
  {
   "cell_type": "markdown",
   "metadata": {},
   "source": [
    "In order to immigrate existing CRYSTAL17 calculations,\n",
    "the :py:mod:`aiida_crystal17.immigration` module has been\n",
    "created to take a ``.d12`` and ``.out`` file set\n",
    "and replicate a ``crystal17.main`` calculation:"
   ]
  },
  {
   "cell_type": "markdown",
   "metadata": {},
   "source": [
    ".. note::\n",
    "\n",
    "    This approach may be subject to change, \n",
    "    if a general approach is developed for immigrant calculations\n",
    "    (see [this ongoing issue](https://github.com/aiidateam/aiida_core/issues/1892)).\n"
   ]
  },
  {
   "cell_type": "code",
   "execution_count": 1,
   "metadata": {},
   "outputs": [],
   "source": [
    "from aiida import load_profile\n",
    "profile = load_profile()\n",
    "import os\n",
    "from aiida_crystal17.tests import TEST_DIR\n",
    "from aiida_crystal17.immigration.create_inputs import populate_builder\n",
    "from aiida_crystal17.immigration.cry_main import migrate_as_main\n",
    "from aiida_crystal17.common import display_json\n",
    "from aiida_crystal17.graph import Graph\n",
    "from aiida.orm import Code, FolderData"
   ]
  },
  {
   "cell_type": "markdown",
   "metadata": {},
   "source": [
    ":py:func:`aiida_crystal17.immigration.create_inputs.populate_builder`\n",
    "will create an input builder for the `crystal17.main` calculation,\n",
    "from a `FolderData` node, populated with the files, and a `Code` node."
   ]
  },
  {
   "cell_type": "code",
   "execution_count": 25,
   "metadata": {},
   "outputs": [
    {
     "data": {
      "text/markdown": [
       "```json\n",
       "{\n",
       "  \"metadata\": {\n",
       "    \"options\": {}\n",
       "  },\n",
       "  \"basissets\": {\n",
       "    \"Ni\": [\n",
       "      \"uuid: cc07c606-1367-47db-a54a-245a2fa785d9 (pk: 438)\"\n",
       "    ],\n",
       "    \"O\": [\n",
       "      \"uuid: 8ff5a170-ee9f-452a-a9ef-1afdf33272a8 (pk: 439)\"\n",
       "    ]\n",
       "  },\n",
       "  \"parameters\": [\n",
       "    \"uuid: f1c8ac66-18d7-419e-ba72-18ca28a49aff (unstored)\"\n",
       "  ],\n",
       "  \"structure\": [\n",
       "    \"uuid: 5db55528-f00e-4788-b391-d020c9cc4be0 (unstored)\"\n",
       "  ],\n",
       "  \"symmetry\": [\n",
       "    \"uuid: acb10d45-3e66-4582-a0b0-ff444221ccf5 (unstored)\"\n",
       "  ],\n",
       "  \"kinds\": [\n",
       "    \"uuid: a7ab07ff-1ab0-4647-a084-ff62e49a3bda (unstored)\"\n",
       "  ],\n",
       "  \"code\": [\n",
       "    \"Remote code 'crystal17.basic-mock_runcry17@localhost' on localhost,\",\n",
       "    \"pk: 7, uuid: 6a3db008-b5ab-4308-baf9-d18a39ca4ad5\"\n",
       "  ]\n",
       "}\n",
       "```"
      ]
     },
     "metadata": {},
     "output_type": "display_data"
    }
   ],
   "source": [
    "inpath = os.path.join(TEST_DIR, \"input_files\", 'nio_sto3g_afm_opt.crystal.d12')\n",
    "outpath = os.path.join(TEST_DIR, \"output_files\",\n",
    "                       'nio_sto3g_afm_opt.crystal.out')\n",
    "\n",
    "folder = FolderData()\n",
    "folder.put_object_from_file(inpath, \"main.d12\")\n",
    "folder.put_object_from_file(outpath, \"main.out\")\n",
    "\n",
    "code = Code.objects.get(label=\"crystal17.basic-mock_runcry17@localhost\")\n",
    "\n",
    "builder = populate_builder(\n",
    "    folder, \n",
    "    input_name=\"main.d12\", output_name=\"main.out\",\n",
    "    code=code)\n",
    "\n",
    "display_json(builder)"
   ]
  },
  {
   "cell_type": "markdown",
   "metadata": {},
   "source": [
    ":py:func:`aiida_crystal17.immigration.cry_main.migrate_as_main`\n",
    "creates a `CalcJobNode` and uses the above function,\n",
    "and the `crystal17.main` parser, to create and attach incoming and outgoing nodes,\n",
    "replicating a full calculation."
   ]
  },
  {
   "cell_type": "code",
   "execution_count": 26,
   "metadata": {},
   "outputs": [
    {
     "data": {
      "text/plain": [
       "<CalcJobNode: uuid: ba006c98-a69d-41d6-8266-4028b968ce0b (pk: 460) (crystal17.main)>"
      ]
     },
     "execution_count": 26,
     "metadata": {},
     "output_type": "execute_result"
    }
   ],
   "source": [
    "folder = FolderData()\n",
    "folder.put_object_from_file(inpath, \"main.d12\")\n",
    "folder.put_object_from_file(outpath, \"main.out\")\n",
    "calc_node = migrate_as_main(\n",
    "    folder, code,\n",
    "    input_name='main.d12', output_name='main.out', \n",
    "    resources=(('num_mpiprocs_per_machine', 1), ('num_machines', 1)), \n",
    "    withmpi=True, store_all=True\n",
    ")\n",
    "calc_node"
   ]
  },
  {
   "cell_type": "code",
   "execution_count": 27,
   "metadata": {
    "ipub": {
     "figure": {
      "caption": "`crystal17.main` immigrated calculation provenance graph."
     }
    }
   },
   "outputs": [
    {
     "data": {
      "image/svg+xml": [
       "<?xml version=\"1.0\" encoding=\"UTF-8\" standalone=\"no\"?>\n",
       "<!DOCTYPE svg PUBLIC \"-//W3C//DTD SVG 1.1//EN\"\n",
       " \"http://www.w3.org/Graphics/SVG/1.1/DTD/svg11.dtd\">\n",
       "<!-- Generated by graphviz version 2.40.1 (20161225.0304)\n",
       " -->\n",
       "<!-- Title: %3 Pages: 1 -->\n",
       "<svg width=\"432pt\" height=\"191pt\"\n",
       " viewBox=\"0.00 0.00 432.00 190.66\" xmlns=\"http://www.w3.org/2000/svg\" xmlns:xlink=\"http://www.w3.org/1999/xlink\">\n",
       "<g id=\"graph0\" class=\"graph\" transform=\"scale(.4719 .4719) rotate(0) translate(4 400)\">\n",
       "<title>%3</title>\n",
       "<polygon fill=\"#ffffff\" stroke=\"transparent\" points=\"-4,4 -4,-400 911.3995,-400 911.3995,4 -4,4\"/>\n",
       "<!-- N460 -->\n",
       "<g id=\"node1\" class=\"node\">\n",
       "<title>N460</title>\n",
       "<ellipse fill=\"#90ee90\" stroke=\"#000000\" cx=\"574.3286\" cy=\"-216\" rx=\"116.7238\" ry=\"35.2113\"/>\n",
       "<text text-anchor=\"middle\" x=\"574.3286\" y=\"-225.8\" font-family=\"Times,serif\" font-size=\"14.00\" fill=\"#000000\">CryMainCalculation (460)</text>\n",
       "<text text-anchor=\"middle\" x=\"574.3286\" y=\"-211.8\" font-family=\"Times,serif\" font-size=\"14.00\" fill=\"#000000\">State: finished</text>\n",
       "<text text-anchor=\"middle\" x=\"574.3286\" y=\"-197.8\" font-family=\"Times,serif\" font-size=\"14.00\" fill=\"#000000\">Exit Code: 0</text>\n",
       "</g>\n",
       "<!-- N463 -->\n",
       "<g id=\"node9\" class=\"node\">\n",
       "<title>N463</title>\n",
       "<polygon fill=\"none\" stroke=\"#000000\" points=\"899.9187,-288 787.3109,-288 787.3109,-252 899.9187,-252 899.9187,-288\"/>\n",
       "<text text-anchor=\"middle\" x=\"843.6148\" y=\"-265.8\" font-family=\"Times,serif\" font-size=\"14.00\" fill=\"#000000\">FolderData (463)</text>\n",
       "</g>\n",
       "<!-- N460&#45;&gt;N463 -->\n",
       "<g id=\"edge8\" class=\"edge\">\n",
       "<title>N460&#45;&gt;N463</title>\n",
       "<path fill=\"none\" stroke=\"#006400\" d=\"M664.6448,-238.4065C679.4092,-241.7995 694.5728,-245.1225 708.9405,-248 730.9995,-252.4178 755.2242,-256.5853 776.9726,-260.0802\"/>\n",
       "<polygon fill=\"#006400\" stroke=\"#006400\" points=\"776.6756,-263.5768 787.1007,-261.6885 777.7734,-256.6635 776.6756,-263.5768\"/>\n",
       "<text text-anchor=\"middle\" x=\"735.3853\" y=\"-273.8\" font-family=\"Times,serif\" font-size=\"14.00\" fill=\"#000000\">CREATE</text>\n",
       "<text text-anchor=\"middle\" x=\"735.3853\" y=\"-259.8\" font-family=\"Times,serif\" font-size=\"14.00\" fill=\"#000000\">retrieved</text>\n",
       "</g>\n",
       "<!-- N462 -->\n",
       "<g id=\"node10\" class=\"node\">\n",
       "<title>N462</title>\n",
       "<polygon fill=\"none\" stroke=\"#000000\" points=\"907.1849,-234 780.0448,-234 780.0448,-198 907.1849,-198 907.1849,-234\"/>\n",
       "<text text-anchor=\"middle\" x=\"843.6148\" y=\"-218.8\" font-family=\"Times,serif\" font-size=\"14.00\" fill=\"#000000\">StructureData (462)</text>\n",
       "<text text-anchor=\"middle\" x=\"843.6148\" y=\"-204.8\" font-family=\"Times,serif\" font-size=\"14.00\" fill=\"#000000\">Ni2O2</text>\n",
       "</g>\n",
       "<!-- N460&#45;&gt;N462 -->\n",
       "<g id=\"edge9\" class=\"edge\">\n",
       "<title>N460&#45;&gt;N462</title>\n",
       "<path fill=\"none\" stroke=\"#006400\" d=\"M691.2666,-216C717.8447,-216 745.3594,-216 769.5707,-216\"/>\n",
       "<polygon fill=\"#006400\" stroke=\"#006400\" points=\"769.7325,-219.5001 779.7324,-216 769.7324,-212.5001 769.7325,-219.5001\"/>\n",
       "<text text-anchor=\"middle\" x=\"735.3853\" y=\"-232.8\" font-family=\"Times,serif\" font-size=\"14.00\" fill=\"#000000\">CREATE</text>\n",
       "<text text-anchor=\"middle\" x=\"735.3853\" y=\"-218.8\" font-family=\"Times,serif\" font-size=\"14.00\" fill=\"#000000\">structure</text>\n",
       "</g>\n",
       "<!-- N461 -->\n",
       "<g id=\"node11\" class=\"node\">\n",
       "<title>N461</title>\n",
       "<polygon fill=\"none\" stroke=\"#000000\" points=\"880.5426,-180 806.687,-180 806.687,-144 880.5426,-144 880.5426,-180\"/>\n",
       "<text text-anchor=\"middle\" x=\"843.6148\" y=\"-157.8\" font-family=\"Times,serif\" font-size=\"14.00\" fill=\"#000000\">Dict (461)</text>\n",
       "</g>\n",
       "<!-- N460&#45;&gt;N461 -->\n",
       "<g id=\"edge10\" class=\"edge\">\n",
       "<title>N460&#45;&gt;N461</title>\n",
       "<path fill=\"none\" stroke=\"#006400\" d=\"M664.6448,-193.5935C679.4092,-190.2005 694.5728,-186.8775 708.9405,-184 737.9584,-178.1885 770.7239,-172.8102 796.6702,-168.8262\"/>\n",
       "<polygon fill=\"#006400\" stroke=\"#006400\" points=\"797.2565,-172.2774 806.6176,-167.3155 796.2055,-165.3567 797.2565,-172.2774\"/>\n",
       "<text text-anchor=\"middle\" x=\"735.3853\" y=\"-200.8\" font-family=\"Times,serif\" font-size=\"14.00\" fill=\"#000000\">CREATE</text>\n",
       "<text text-anchor=\"middle\" x=\"735.3853\" y=\"-186.8\" font-family=\"Times,serif\" font-size=\"14.00\" fill=\"#000000\">results</text>\n",
       "</g>\n",
       "<!-- N439 -->\n",
       "<g id=\"node2\" class=\"node\">\n",
       "<title>N439</title>\n",
       "<polygon fill=\"none\" stroke=\"#000000\" points=\"230.5595,-396 105.5987,-396 105.5987,-360 230.5595,-360 230.5595,-396\"/>\n",
       "<text text-anchor=\"middle\" x=\"168.0791\" y=\"-373.8\" font-family=\"Times,serif\" font-size=\"14.00\" fill=\"#000000\">BasisSetData (439)</text>\n",
       "</g>\n",
       "<!-- N439&#45;&gt;N460 -->\n",
       "<g id=\"edge1\" class=\"edge\">\n",
       "<title>N439&#45;&gt;N460</title>\n",
       "<path fill=\"none\" stroke=\"#000000\" d=\"M230.4214,-379.9985C287.5171,-379.4573 373.0309,-372.5481 439.7168,-341 479.9027,-321.9887 516.2365,-286.6197 540.9986,-258.3435\"/>\n",
       "<polygon fill=\"#000000\" stroke=\"#000000\" points=\"543.8095,-260.4425 547.6694,-250.5758 538.499,-255.8819 543.8095,-260.4425\"/>\n",
       "<text text-anchor=\"middle\" x=\"396.9375\" y=\"-384.8\" font-family=\"Times,serif\" font-size=\"14.00\" fill=\"#000000\">INPUT_CALC</text>\n",
       "<text text-anchor=\"middle\" x=\"396.9375\" y=\"-370.8\" font-family=\"Times,serif\" font-size=\"14.00\" fill=\"#000000\">basissets__O</text>\n",
       "</g>\n",
       "<!-- N438 -->\n",
       "<g id=\"node3\" class=\"node\">\n",
       "<title>N438</title>\n",
       "<polygon fill=\"none\" stroke=\"#000000\" points=\"230.5595,-342 105.5987,-342 105.5987,-306 230.5595,-306 230.5595,-342\"/>\n",
       "<text text-anchor=\"middle\" x=\"168.0791\" y=\"-319.8\" font-family=\"Times,serif\" font-size=\"14.00\" fill=\"#000000\">BasisSetData (438)</text>\n",
       "</g>\n",
       "<!-- N438&#45;&gt;N460 -->\n",
       "<g id=\"edge2\" class=\"edge\">\n",
       "<title>N438&#45;&gt;N460</title>\n",
       "<path fill=\"none\" stroke=\"#000000\" d=\"M230.4728,-322.8358C286.4828,-320.2446 370.3199,-312.5038 439.7168,-290 466.5976,-281.2832 494.2883,-267.1042 517.5129,-253.4783\"/>\n",
       "<polygon fill=\"#000000\" stroke=\"#000000\" points=\"519.3962,-256.4302 526.1844,-248.2956 515.805,-250.4216 519.3962,-256.4302\"/>\n",
       "<text text-anchor=\"middle\" x=\"396.9375\" y=\"-325.8\" font-family=\"Times,serif\" font-size=\"14.00\" fill=\"#000000\">INPUT_CALC</text>\n",
       "<text text-anchor=\"middle\" x=\"396.9375\" y=\"-311.8\" font-family=\"Times,serif\" font-size=\"14.00\" fill=\"#000000\">basissets__Ni</text>\n",
       "</g>\n",
       "<!-- N459 -->\n",
       "<g id=\"node4\" class=\"node\">\n",
       "<title>N459</title>\n",
       "<polygon fill=\"none\" stroke=\"#000000\" points=\"220.3314,-288 115.8268,-288 115.8268,-252 220.3314,-252 220.3314,-288\"/>\n",
       "<text text-anchor=\"middle\" x=\"168.0791\" y=\"-265.8\" font-family=\"Times,serif\" font-size=\"14.00\" fill=\"#000000\">KindData (459)</text>\n",
       "</g>\n",
       "<!-- N459&#45;&gt;N460 -->\n",
       "<g id=\"edge3\" class=\"edge\">\n",
       "<title>N459&#45;&gt;N460</title>\n",
       "<path fill=\"none\" stroke=\"#000000\" d=\"M220.4345,-268.1303C275.3437,-265.6166 364.0125,-259.9921 439.7168,-248 451.3942,-246.1502 463.5572,-243.8289 475.5875,-241.2856\"/>\n",
       "<polygon fill=\"#000000\" stroke=\"#000000\" points=\"476.6177,-244.6436 485.6481,-239.1026 475.1333,-237.8028 476.6177,-244.6436\"/>\n",
       "<text text-anchor=\"middle\" x=\"396.9375\" y=\"-274.8\" font-family=\"Times,serif\" font-size=\"14.00\" fill=\"#000000\">INPUT_CALC</text>\n",
       "<text text-anchor=\"middle\" x=\"396.9375\" y=\"-260.8\" font-family=\"Times,serif\" font-size=\"14.00\" fill=\"#000000\">kinds</text>\n",
       "</g>\n",
       "<!-- N458 -->\n",
       "<g id=\"node5\" class=\"node\">\n",
       "<title>N458</title>\n",
       "<polygon fill=\"none\" stroke=\"#000000\" points=\"235.1628,-234 100.9954,-234 100.9954,-198 235.1628,-198 235.1628,-234\"/>\n",
       "<text text-anchor=\"middle\" x=\"168.0791\" y=\"-218.8\" font-family=\"Times,serif\" font-size=\"14.00\" fill=\"#000000\">SymmetryData (458)</text>\n",
       "<text text-anchor=\"middle\" x=\"168.0791\" y=\"-204.8\" font-family=\"Times,serif\" font-size=\"14.00\" fill=\"#000000\">symmops: 16</text>\n",
       "</g>\n",
       "<!-- N458&#45;&gt;N460 -->\n",
       "<g id=\"edge4\" class=\"edge\">\n",
       "<title>N458&#45;&gt;N460</title>\n",
       "<path fill=\"none\" stroke=\"#000000\" d=\"M235.163,-216C292.6219,-216 376.9596,-216 447.1581,-216\"/>\n",
       "<polygon fill=\"#000000\" stroke=\"#000000\" points=\"447.4078,-219.5001 457.4078,-216 447.4077,-212.5001 447.4078,-219.5001\"/>\n",
       "<text text-anchor=\"middle\" x=\"396.9375\" y=\"-232.8\" font-family=\"Times,serif\" font-size=\"14.00\" fill=\"#000000\">INPUT_CALC</text>\n",
       "<text text-anchor=\"middle\" x=\"396.9375\" y=\"-218.8\" font-family=\"Times,serif\" font-size=\"14.00\" fill=\"#000000\">symmetry</text>\n",
       "</g>\n",
       "<!-- N457 -->\n",
       "<g id=\"node6\" class=\"node\">\n",
       "<title>N457</title>\n",
       "<polygon fill=\"none\" stroke=\"#000000\" points=\"252.0967,-180 84.0615,-180 84.0615,-144 252.0967,-144 252.0967,-180\"/>\n",
       "<text text-anchor=\"middle\" x=\"168.0791\" y=\"-157.8\" font-family=\"Times,serif\" font-size=\"14.00\" fill=\"#000000\">CryInputParamsData (457)</text>\n",
       "</g>\n",
       "<!-- N457&#45;&gt;N460 -->\n",
       "<g id=\"edge5\" class=\"edge\">\n",
       "<title>N457&#45;&gt;N460</title>\n",
       "<path fill=\"none\" stroke=\"#000000\" d=\"M252.2945,-165.503C306.1407,-168.5595 377.3308,-174.1177 439.7168,-184 451.3942,-185.8498 463.5572,-188.1711 475.5875,-190.7144\"/>\n",
       "<polygon fill=\"#000000\" stroke=\"#000000\" points=\"475.1333,-194.1972 485.6481,-192.8974 476.6177,-187.3564 475.1333,-194.1972\"/>\n",
       "<text text-anchor=\"middle\" x=\"396.9375\" y=\"-200.8\" font-family=\"Times,serif\" font-size=\"14.00\" fill=\"#000000\">INPUT_CALC</text>\n",
       "<text text-anchor=\"middle\" x=\"396.9375\" y=\"-186.8\" font-family=\"Times,serif\" font-size=\"14.00\" fill=\"#000000\">parameters</text>\n",
       "</g>\n",
       "<!-- N456 -->\n",
       "<g id=\"node7\" class=\"node\">\n",
       "<title>N456</title>\n",
       "<polygon fill=\"none\" stroke=\"#000000\" points=\"231.6492,-126 104.509,-126 104.509,-90 231.6492,-90 231.6492,-126\"/>\n",
       "<text text-anchor=\"middle\" x=\"168.0791\" y=\"-110.8\" font-family=\"Times,serif\" font-size=\"14.00\" fill=\"#000000\">StructureData (456)</text>\n",
       "<text text-anchor=\"middle\" x=\"168.0791\" y=\"-96.8\" font-family=\"Times,serif\" font-size=\"14.00\" fill=\"#000000\">Ni2O2</text>\n",
       "</g>\n",
       "<!-- N456&#45;&gt;N460 -->\n",
       "<g id=\"edge6\" class=\"edge\">\n",
       "<title>N456&#45;&gt;N460</title>\n",
       "<path fill=\"none\" stroke=\"#000000\" d=\"M231.8731,-108.8389C287.8909,-111.1867 370.9388,-118.6186 439.7168,-141 466.8989,-149.8455 494.8407,-164.3726 518.1728,-178.2976\"/>\n",
       "<polygon fill=\"#000000\" stroke=\"#000000\" points=\"516.5155,-181.3861 526.8781,-183.5919 520.1528,-175.4053 516.5155,-181.3861\"/>\n",
       "<text text-anchor=\"middle\" x=\"396.9375\" y=\"-157.8\" font-family=\"Times,serif\" font-size=\"14.00\" fill=\"#000000\">INPUT_CALC</text>\n",
       "<text text-anchor=\"middle\" x=\"396.9375\" y=\"-143.8\" font-family=\"Times,serif\" font-size=\"14.00\" fill=\"#000000\">structure</text>\n",
       "</g>\n",
       "<!-- N7 -->\n",
       "<g id=\"node8\" class=\"node\">\n",
       "<title>N7</title>\n",
       "<polygon fill=\"none\" stroke=\"#ffa500\" points=\"168.0791,-72 -.0791,-36 168.0791,0 336.2373,-36 168.0791,-72\"/>\n",
       "<text text-anchor=\"middle\" x=\"168.0791\" y=\"-38.8\" font-family=\"Times,serif\" font-size=\"14.00\" fill=\"#000000\">Code (7)</text>\n",
       "<text text-anchor=\"middle\" x=\"168.0791\" y=\"-24.8\" font-family=\"Times,serif\" font-size=\"14.00\" fill=\"#000000\">mock_runcry17@localhost</text>\n",
       "</g>\n",
       "<!-- N7&#45;&gt;N460 -->\n",
       "<g id=\"edge7\" class=\"edge\">\n",
       "<title>N7&#45;&gt;N460</title>\n",
       "<path fill=\"none\" stroke=\"#000000\" d=\"M292.5884,-45.4014C340.5664,-52.767 394.6259,-65.8394 439.7168,-89 479.5555,-109.4628 515.9203,-145.2956 540.7825,-173.6931\"/>\n",
       "<polygon fill=\"#000000\" stroke=\"#000000\" points=\"538.3098,-176.1857 547.4832,-181.4865 543.6176,-171.622 538.3098,-176.1857\"/>\n",
       "<text text-anchor=\"middle\" x=\"396.9375\" y=\"-105.8\" font-family=\"Times,serif\" font-size=\"14.00\" fill=\"#000000\">INPUT_CALC</text>\n",
       "<text text-anchor=\"middle\" x=\"396.9375\" y=\"-91.8\" font-family=\"Times,serif\" font-size=\"14.00\" fill=\"#000000\">code</text>\n",
       "</g>\n",
       "</g>\n",
       "</svg>\n"
      ],
      "text/plain": [
       "<graphviz.dot.Digraph at 0x11816b6d8>"
      ]
     },
     "execution_count": 27,
     "metadata": {},
     "output_type": "execute_result"
    }
   ],
   "source": [
    "graph = Graph(graph_attr={'size': \"6,8!\", \"rankdir\": \"LR\"})\n",
    "graph.add_node(calc_node)\n",
    "graph.add_incoming(calc_node, annotate_links=\"both\")\n",
    "graph.add_outgoing(calc_node, annotate_links=\"both\")\n",
    "graph.graphviz"
   ]
  },
  {
   "cell_type": "code",
   "execution_count": 28,
   "metadata": {},
   "outputs": [
    {
     "data": {
      "text/plain": [
       "{'exit_status': 0,\n",
       " 'input_file_name': 'main.d12',\n",
       " 'output_main_file_name': 'main.out',\n",
       " 'withmpi': True,\n",
       " 'resources': {'num_machines': 1, 'num_mpiprocs_per_machine': 1},\n",
       " 'immigrated': True,\n",
       " 'process_label': 'CryMainCalculation',\n",
       " 'process_state': 'finished'}"
      ]
     },
     "execution_count": 28,
     "metadata": {},
     "output_type": "execute_result"
    }
   ],
   "source": [
    "calc_node.attributes"
   ]
  }
 ],
 "metadata": {
  "celltoolbar": "Edit Metadata",
  "hide_input": false,
  "kernelspec": {
   "display_name": "Python 3",
   "language": "python",
   "name": "python3"
  },
  "language_info": {
   "codemirror_mode": {
    "name": "ipython",
    "version": 3
   },
   "file_extension": ".py",
   "mimetype": "text/x-python",
   "name": "python",
   "nbconvert_exporter": "python",
   "pygments_lexer": "ipython3",
   "version": "3.6.5"
  },
  "toc": {
   "base_numbering": 1,
   "nav_menu": {},
   "number_sections": true,
   "sideBar": true,
   "skip_h1_title": false,
   "title_cell": "Table of Contents",
   "title_sidebar": "Contents",
   "toc_cell": false,
   "toc_position": {},
   "toc_section_display": true,
   "toc_window_display": false
  }
 },
 "nbformat": 4,
 "nbformat_minor": 2
}
