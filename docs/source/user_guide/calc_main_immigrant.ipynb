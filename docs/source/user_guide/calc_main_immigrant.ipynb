{
 "cells": [
  {
   "cell_type": "markdown",
   "metadata": {},
   "source": [
    ".. _main_calculation_immigrant:"
   ]
  },
  {
   "cell_type": "markdown",
   "metadata": {},
   "source": [
    "# Main Calculation Immigration"
   ]
  },
  {
   "cell_type": "markdown",
   "metadata": {},
   "source": [
    "In order to immigrate existing CRYSTAL17 calculations,\n",
    "the :py:mod:`aiida_crystal17.immigration` module has been\n",
    "created to take a ``.d12`` and ``.out`` file set\n",
    "and replicate a ``crystal17.main`` calculation:"
   ]
  },
  {
   "cell_type": "markdown",
   "metadata": {},
   "source": [
    ".. note::\n",
    "\n",
    "    This approach may be subject to change, \n",
    "    if a general approach is developed for immigrant calculations\n",
    "    (see [this ongoing issue](https://github.com/aiidateam/aiida_core/issues/1892)).\n"
   ]
  },
  {
   "cell_type": "code",
   "execution_count": 1,
   "metadata": {
    "init_cell": true
   },
   "outputs": [],
   "source": [
    "from aiida import load_profile\n",
    "profile = load_profile()\n",
    "import os\n",
    "from aiida_crystal17.tests import resource_context\n",
    "from aiida_crystal17.tests.utils import (\n",
    "    get_or_create_local_computer, get_or_create_code, \n",
    "    get_default_metadata)\n",
    "from aiida_crystal17.immigration.create_inputs import populate_builder\n",
    "from aiida_crystal17.immigration.create_calcjob import immigrate_existing\n",
    "from aiida_crystal17.common import display_json\n",
    "\n",
    "from aiida.orm import Code, RemoteData\n",
    "from aiida.common.folders import Folder\n",
    "from aiida.tools.visualization import Graph"
   ]
  },
  {
   "cell_type": "markdown",
   "metadata": {},
   "source": [
    ":py:func:`aiida_crystal17.immigration.create_inputs.populate_builder`\n",
    "will create an input builder for the `crystal17.main` calculation,\n",
    "from a `FolderData` node, populated with the files, and a `Code` node."
   ]
  },
  {
   "cell_type": "code",
   "execution_count": 2,
   "metadata": {},
   "outputs": [],
   "source": [
    "computer = get_or_create_local_computer('work_directory', 'localhost')\n",
    "code = get_or_create_code('crystal17.main', computer, 'mock_crystal17')"
   ]
  },
  {
   "cell_type": "code",
   "execution_count": 3,
   "metadata": {},
   "outputs": [
    {
     "data": {
      "text/markdown": [
       "```json\n",
       "{\n",
       "  \"metadata\": {\n",
       "    \"options\": {\n",
       "      \"resources\": {\n",
       "        \"num_machines\": 1,\n",
       "        \"num_mpiprocs_per_machine\": 1\n",
       "      },\n",
       "      \"max_wallclock_seconds\": 1800,\n",
       "      \"withmpi\": false,\n",
       "      \"input_file_name\": \"INPUT\",\n",
       "      \"output_main_file_name\": \"main.out\"\n",
       "    },\n",
       "    \"dry_run\": false\n",
       "  },\n",
       "  \"basissets\": {\n",
       "    \"Ni\": [\n",
       "      \"uuid: 8037949d-6cbd-4941-b380-c7be30dd1d79 (unstored)\"\n",
       "    ],\n",
       "    \"O\": [\n",
       "      \"uuid: c02b6eb8-56e9-4e94-8e0f-f02f41d33302 (unstored)\"\n",
       "    ]\n",
       "  },\n",
       "  \"parameters\": [\n",
       "    \"uuid: 54d33eec-3ff4-4444-9088-48edf9ee5c83 (unstored)\"\n",
       "  ],\n",
       "  \"structure\": [\n",
       "    \"uuid: 25918928-377a-4718-bb29-db44b7e73b06 (unstored)\"\n",
       "  ],\n",
       "  \"symmetry\": [\n",
       "    \"uuid: 9e8d3c76-845b-4aa7-8221-32491953b9e9 (unstored)\"\n",
       "  ],\n",
       "  \"kinds\": [\n",
       "    \"uuid: de13ccd4-22f3-4700-b9e3-b5692815a8cc (unstored)\"\n",
       "  ],\n",
       "  \"code\": [\n",
       "    \"Remote code 'crystal17.main-mock_crystal17@localhost' on localhost,\",\n",
       "    \"pk: 1, uuid: 413a3836-4cf1-4269-9a63-52b2bde99cb4\"\n",
       "  ]\n",
       "}\n",
       "```"
      ]
     },
     "metadata": {},
     "output_type": "display_data"
    }
   ],
   "source": [
    "metadata = get_default_metadata()\n",
    "metadata['options'].update({\n",
    "    \"input_file_name\": 'INPUT',\n",
    "    \"output_main_file_name\": \"main.out\"\n",
    "})\n",
    "\n",
    "with resource_context(\"crystal\", \"nio_sto3g_afm_opt\") as path:\n",
    "    builder = populate_builder(\n",
    "        remote_data=RemoteData(\n",
    "            remote_path=str(path), \n",
    "            computer=computer), \n",
    "        code=code, \n",
    "        metadata=metadata)\n",
    "\n",
    "display_json(builder)"
   ]
  },
  {
   "cell_type": "markdown",
   "metadata": {},
   "source": [
    ":py:func:`aiida_crystal17.immigration.create_calcjob.immigrate_existing`\n",
    "creates a `CalcJobNode` and uses the above function,\n",
    "and the `crystal17.main` parser, to create and attach incoming and outgoing nodes,\n",
    "replicating a full calculation."
   ]
  },
  {
   "cell_type": "code",
   "execution_count": 4,
   "metadata": {},
   "outputs": [
    {
     "data": {
      "text/plain": [
       "<CalcJobNode: uuid: 3a399d3e-c6fa-4ab5-b894-4580dfab94f5 (pk: 8) (aiida.calculations:crystal17.main)>"
      ]
     },
     "execution_count": 4,
     "metadata": {},
     "output_type": "execute_result"
    }
   ],
   "source": [
    "with resource_context(\"crystal\", \"nio_sto3g_afm_opt\") as path:\n",
    "    calc_node = immigrate_existing(\n",
    "        builder, \n",
    "        remote_data=RemoteData(\n",
    "            remote_path=str(path), \n",
    "            computer=computer))\n",
    "calc_node"
   ]
  },
  {
   "cell_type": "code",
   "execution_count": 5,
   "metadata": {
    "ipub": {
     "figure": {
      "caption": "`crystal17.main` immigrated calculation provenance graph."
     }
    }
   },
   "outputs": [
    {
     "data": {
      "image/svg+xml": [
       "<?xml version=\"1.0\" encoding=\"UTF-8\" standalone=\"no\"?>\n",
       "<!DOCTYPE svg PUBLIC \"-//W3C//DTD SVG 1.1//EN\"\n",
       " \"http://www.w3.org/Graphics/SVG/1.1/DTD/svg11.dtd\">\n",
       "<!-- Generated by graphviz version 2.40.1 (20161225.0304)\n",
       " -->\n",
       "<!-- Title: %3 Pages: 1 -->\n",
       "<svg width=\"432pt\" height=\"221pt\"\n",
       " viewBox=\"0.00 0.00 432.00 220.78\" xmlns=\"http://www.w3.org/2000/svg\" xmlns:xlink=\"http://www.w3.org/1999/xlink\">\n",
       "<g id=\"graph0\" class=\"graph\" transform=\"scale(.5366 .5366) rotate(0) translate(4 407.4558)\">\n",
       "<title>%3</title>\n",
       "<polygon fill=\"#ffffff\" stroke=\"transparent\" points=\"-4,4 -4,-407.4558 801.0822,-407.4558 801.0822,4 -4,4\"/>\n",
       "<!-- N8 -->\n",
       "<g id=\"node1\" class=\"node\">\n",
       "<title>N8</title>\n",
       "<polygon fill=\"#de707f\" stroke=\"#000000\" stroke-width=\"0\" points=\"511.2315,-212 360.4034,-212 360.4034,-162 511.2315,-162 511.2315,-212\"/>\n",
       "<text text-anchor=\"middle\" x=\"435.8175\" y=\"-196.8\" font-family=\"Times,serif\" font-size=\"14.00\" fill=\"#000000\">CryMainCalculation (8)</text>\n",
       "<text text-anchor=\"middle\" x=\"435.8175\" y=\"-182.8\" font-family=\"Times,serif\" font-size=\"14.00\" fill=\"#000000\">State: finished</text>\n",
       "<text text-anchor=\"middle\" x=\"435.8175\" y=\"-168.8\" font-family=\"Times,serif\" font-size=\"14.00\" fill=\"#000000\">Exit Code: 0</text>\n",
       "</g>\n",
       "<!-- N12 -->\n",
       "<g id=\"node9\" class=\"node\">\n",
       "<title>N12</title>\n",
       "<ellipse fill=\"#8cd499\" stroke=\"#000000\" stroke-width=\"0\" cx=\"711.8268\" cy=\"-275\" rx=\"85.0115\" ry=\"25.4118\"/>\n",
       "<text text-anchor=\"middle\" x=\"711.8268\" y=\"-277.8\" font-family=\"Times,serif\" font-size=\"14.00\" fill=\"#000000\">StructureData (12)</text>\n",
       "<text text-anchor=\"middle\" x=\"711.8268\" y=\"-263.8\" font-family=\"Times,serif\" font-size=\"14.00\" fill=\"#000000\">Ni2O2</text>\n",
       "</g>\n",
       "<!-- N8&#45;&gt;N12 -->\n",
       "<g id=\"edge8\" class=\"edge\">\n",
       "<title>N8&#45;&gt;N12</title>\n",
       "<path fill=\"none\" stroke=\"#000000\" d=\"M478.9806,-212.1241C494.4548,-220.329 512.2814,-228.8914 529.2745,-235 560.2689,-246.1417 595.3873,-254.7368 626.4854,-261.0531\"/>\n",
       "<polygon fill=\"#000000\" stroke=\"#000000\" points=\"625.941,-264.5132 636.4307,-263.0241 627.3019,-257.6468 625.941,-264.5132\"/>\n",
       "<text text-anchor=\"middle\" x=\"568.9229\" y=\"-273.8\" font-family=\"Times,serif\" font-size=\"14.00\" fill=\"#000000\">CREATE</text>\n",
       "<text text-anchor=\"middle\" x=\"568.9229\" y=\"-259.8\" font-family=\"Times,serif\" font-size=\"14.00\" fill=\"#000000\">structure</text>\n",
       "</g>\n",
       "<!-- N11 -->\n",
       "<g id=\"node10\" class=\"node\">\n",
       "<title>N11</title>\n",
       "<ellipse fill=\"#8cd499\" stroke=\"#000000\" stroke-width=\"0\" cx=\"711.8268\" cy=\"-214\" rx=\"41.9056\" ry=\"18\"/>\n",
       "<text text-anchor=\"middle\" x=\"711.8268\" y=\"-209.8\" font-family=\"Times,serif\" font-size=\"14.00\" fill=\"#000000\">Dict (11)</text>\n",
       "</g>\n",
       "<!-- N8&#45;&gt;N11 -->\n",
       "<g id=\"edge9\" class=\"edge\">\n",
       "<title>N8&#45;&gt;N11</title>\n",
       "<path fill=\"none\" stroke=\"#000000\" d=\"M511.2382,-194.3779C558.7184,-199.0225 618.7376,-204.8938 660.698,-208.9984\"/>\n",
       "<polygon fill=\"#000000\" stroke=\"#000000\" points=\"660.3985,-212.4858 670.6917,-209.9761 661.08,-205.519 660.3985,-212.4858\"/>\n",
       "<text text-anchor=\"middle\" x=\"568.9229\" y=\"-219.8\" font-family=\"Times,serif\" font-size=\"14.00\" fill=\"#000000\">CREATE</text>\n",
       "<text text-anchor=\"middle\" x=\"568.9229\" y=\"-205.8\" font-family=\"Times,serif\" font-size=\"14.00\" fill=\"#000000\">results</text>\n",
       "</g>\n",
       "<!-- N10 -->\n",
       "<g id=\"node11\" class=\"node\">\n",
       "<title>N10</title>\n",
       "<ellipse fill=\"#8cd499\" stroke=\"#000000\" stroke-width=\"0\" cx=\"711.8268\" cy=\"-160\" rx=\"66.6678\" ry=\"18\"/>\n",
       "<text text-anchor=\"middle\" x=\"711.8268\" y=\"-155.8\" font-family=\"Times,serif\" font-size=\"14.00\" fill=\"#000000\">FolderData (10)</text>\n",
       "</g>\n",
       "<!-- N8&#45;&gt;N10 -->\n",
       "<g id=\"edge10\" class=\"edge\">\n",
       "<title>N8&#45;&gt;N10</title>\n",
       "<path fill=\"none\" stroke=\"#000000\" d=\"M511.2934,-166.9367C517.3472,-165.7832 523.394,-164.7784 529.2745,-164 563.7289,-159.4392 602.1538,-158.0512 634.8292,-157.9549\"/>\n",
       "<polygon fill=\"#000000\" stroke=\"#000000\" points=\"635.2198,-161.4552 645.2237,-157.9666 635.2277,-154.4552 635.2198,-161.4552\"/>\n",
       "<text text-anchor=\"middle\" x=\"568.9229\" y=\"-180.8\" font-family=\"Times,serif\" font-size=\"14.00\" fill=\"#000000\">CREATE</text>\n",
       "<text text-anchor=\"middle\" x=\"568.9229\" y=\"-166.8\" font-family=\"Times,serif\" font-size=\"14.00\" fill=\"#000000\">retrieved</text>\n",
       "</g>\n",
       "<!-- N9 -->\n",
       "<g id=\"node12\" class=\"node\">\n",
       "<title>N9</title>\n",
       "<ellipse fill=\"#8cd499\" stroke=\"#000000\" stroke-width=\"0\" cx=\"711.8268\" cy=\"-99\" rx=\"74.6199\" ry=\"25.4118\"/>\n",
       "<text text-anchor=\"middle\" x=\"711.8268\" y=\"-101.8\" font-family=\"Times,serif\" font-size=\"14.00\" fill=\"#000000\">RemoteData (9)</text>\n",
       "<text text-anchor=\"middle\" x=\"711.8268\" y=\"-87.8\" font-family=\"Times,serif\" font-size=\"14.00\" fill=\"#000000\">@localhost</text>\n",
       "</g>\n",
       "<!-- N8&#45;&gt;N9 -->\n",
       "<g id=\"edge11\" class=\"edge\">\n",
       "<title>N8&#45;&gt;N9</title>\n",
       "<path fill=\"none\" stroke=\"#000000\" d=\"M466.8184,-161.8673C484.1819,-149.0991 506.8107,-134.5211 529.2745,-126 560.2237,-114.2602 595.9261,-107.5986 627.504,-103.8285\"/>\n",
       "<polygon fill=\"#000000\" stroke=\"#000000\" points=\"628.0496,-107.2894 637.6003,-102.7032 627.2742,-100.3325 628.0496,-107.2894\"/>\n",
       "<text text-anchor=\"middle\" x=\"568.9229\" y=\"-142.8\" font-family=\"Times,serif\" font-size=\"14.00\" fill=\"#000000\">CREATE</text>\n",
       "<text text-anchor=\"middle\" x=\"568.9229\" y=\"-128.8\" font-family=\"Times,serif\" font-size=\"14.00\" fill=\"#000000\">remote_folder</text>\n",
       "</g>\n",
       "<!-- N1 -->\n",
       "<g id=\"node2\" class=\"node\">\n",
       "<title>N1</title>\n",
       "<ellipse fill=\"#4ca4b9\" fill-opacity=\"0.666667\" stroke=\"#000000\" stroke-width=\"0\" cx=\"119.4009\" cy=\"-378\" rx=\"119.3019\" ry=\"25.4118\"/>\n",
       "<text text-anchor=\"middle\" x=\"119.4009\" y=\"-380.8\" font-family=\"Times,serif\" font-size=\"14.00\" fill=\"#000000\">Code (1)</text>\n",
       "<text text-anchor=\"middle\" x=\"119.4009\" y=\"-366.8\" font-family=\"Times,serif\" font-size=\"14.00\" fill=\"#000000\">mock_crystal17@localhost</text>\n",
       "</g>\n",
       "<!-- N1&#45;&gt;N8 -->\n",
       "<g id=\"edge1\" class=\"edge\">\n",
       "<title>N1&#45;&gt;N8</title>\n",
       "<path fill=\"none\" stroke=\"#000000\" d=\"M233.073,-370.1454C270.3915,-363.2877 310.442,-350.955 342.3604,-329 380.9796,-302.4359 407.6514,-254.1773 422.3357,-221.3672\"/>\n",
       "<polygon fill=\"#000000\" stroke=\"#000000\" points=\"425.5702,-222.7055 426.3338,-212.1382 419.147,-219.9229 425.5702,-222.7055\"/>\n",
       "<text text-anchor=\"middle\" x=\"299.5811\" y=\"-380.8\" font-family=\"Times,serif\" font-size=\"14.00\" fill=\"#000000\">INPUT_CALC</text>\n",
       "<text text-anchor=\"middle\" x=\"299.5811\" y=\"-366.8\" font-family=\"Times,serif\" font-size=\"14.00\" fill=\"#000000\">code</text>\n",
       "</g>\n",
       "<!-- N7 -->\n",
       "<g id=\"node3\" class=\"node\">\n",
       "<title>N7</title>\n",
       "<ellipse fill=\"#8cd499\" stroke=\"#000000\" stroke-width=\"0\" cx=\"119.4009\" cy=\"-317\" rx=\"57.02\" ry=\"18\"/>\n",
       "<text text-anchor=\"middle\" x=\"119.4009\" y=\"-312.8\" font-family=\"Times,serif\" font-size=\"14.00\" fill=\"#000000\">KindData (7)</text>\n",
       "</g>\n",
       "<!-- N7&#45;&gt;N8 -->\n",
       "<g id=\"edge2\" class=\"edge\">\n",
       "<title>N7&#45;&gt;N8</title>\n",
       "<path fill=\"none\" stroke=\"#000000\" d=\"M174.6293,-312.527C221.3655,-306.9901 289.0534,-294.7586 342.3604,-268 366.1566,-256.055 388.8283,-236.6759 405.8813,-219.8678\"/>\n",
       "<polygon fill=\"#000000\" stroke=\"#000000\" points=\"408.7613,-221.9332 413.3049,-212.3621 403.7843,-217.0107 408.7613,-221.9332\"/>\n",
       "<text text-anchor=\"middle\" x=\"299.5811\" y=\"-313.8\" font-family=\"Times,serif\" font-size=\"14.00\" fill=\"#000000\">INPUT_CALC</text>\n",
       "<text text-anchor=\"middle\" x=\"299.5811\" y=\"-299.8\" font-family=\"Times,serif\" font-size=\"14.00\" fill=\"#000000\">kinds</text>\n",
       "</g>\n",
       "<!-- N6 -->\n",
       "<g id=\"node4\" class=\"node\">\n",
       "<title>N6</title>\n",
       "<ellipse fill=\"#8cd499\" stroke=\"#000000\" stroke-width=\"0\" cx=\"119.4009\" cy=\"-256\" rx=\"85.0308\" ry=\"25.4118\"/>\n",
       "<text text-anchor=\"middle\" x=\"119.4009\" y=\"-258.8\" font-family=\"Times,serif\" font-size=\"14.00\" fill=\"#000000\">SymmetryData (6)</text>\n",
       "<text text-anchor=\"middle\" x=\"119.4009\" y=\"-244.8\" font-family=\"Times,serif\" font-size=\"14.00\" fill=\"#000000\">symmops: 16</text>\n",
       "</g>\n",
       "<!-- N6&#45;&gt;N8 -->\n",
       "<g id=\"edge3\" class=\"edge\">\n",
       "<title>N6&#45;&gt;N8</title>\n",
       "<path fill=\"none\" stroke=\"#000000\" d=\"M198.2172,-246.1651C241.1827,-239.9933 295.0894,-230.9279 342.3604,-219 347.2243,-217.7727 352.1968,-216.4081 357.1896,-214.9536\"/>\n",
       "<polygon fill=\"#000000\" stroke=\"#000000\" points=\"358.2289,-218.2959 366.7928,-212.0581 356.2082,-211.5939 358.2289,-218.2959\"/>\n",
       "<text text-anchor=\"middle\" x=\"299.5811\" y=\"-252.8\" font-family=\"Times,serif\" font-size=\"14.00\" fill=\"#000000\">INPUT_CALC</text>\n",
       "<text text-anchor=\"middle\" x=\"299.5811\" y=\"-238.8\" font-family=\"Times,serif\" font-size=\"14.00\" fill=\"#000000\">symmetry</text>\n",
       "</g>\n",
       "<!-- N5 -->\n",
       "<g id=\"node5\" class=\"node\">\n",
       "<title>N5</title>\n",
       "<ellipse fill=\"#8cd499\" stroke=\"#000000\" stroke-width=\"0\" cx=\"119.4009\" cy=\"-187\" rx=\"80.1118\" ry=\"25.4118\"/>\n",
       "<text text-anchor=\"middle\" x=\"119.4009\" y=\"-189.8\" font-family=\"Times,serif\" font-size=\"14.00\" fill=\"#000000\">StructureData (5)</text>\n",
       "<text text-anchor=\"middle\" x=\"119.4009\" y=\"-175.8\" font-family=\"Times,serif\" font-size=\"14.00\" fill=\"#000000\">Ni2O2</text>\n",
       "</g>\n",
       "<!-- N5&#45;&gt;N8 -->\n",
       "<g id=\"edge4\" class=\"edge\">\n",
       "<title>N5&#45;&gt;N8</title>\n",
       "<path fill=\"none\" stroke=\"#000000\" d=\"M200.0649,-187C245.9514,-187 303.4003,-187 350.0988,-187\"/>\n",
       "<polygon fill=\"#000000\" stroke=\"#000000\" points=\"350.196,-190.5001 360.1959,-187 350.1959,-183.5001 350.196,-190.5001\"/>\n",
       "<text text-anchor=\"middle\" x=\"299.5811\" y=\"-203.8\" font-family=\"Times,serif\" font-size=\"14.00\" fill=\"#000000\">INPUT_CALC</text>\n",
       "<text text-anchor=\"middle\" x=\"299.5811\" y=\"-189.8\" font-family=\"Times,serif\" font-size=\"14.00\" fill=\"#000000\">structure</text>\n",
       "</g>\n",
       "<!-- N4 -->\n",
       "<g id=\"node6\" class=\"node\">\n",
       "<title>N4</title>\n",
       "<ellipse fill=\"#8cd499\" stroke=\"#000000\" stroke-width=\"0\" cx=\"119.4009\" cy=\"-126\" rx=\"97.0789\" ry=\"18\"/>\n",
       "<text text-anchor=\"middle\" x=\"119.4009\" y=\"-121.8\" font-family=\"Times,serif\" font-size=\"14.00\" fill=\"#000000\">CryInputParamsData (4)</text>\n",
       "</g>\n",
       "<!-- N4&#45;&gt;N8 -->\n",
       "<g id=\"edge5\" class=\"edge\">\n",
       "<title>N4&#45;&gt;N8</title>\n",
       "<path fill=\"none\" stroke=\"#000000\" d=\"M208.2935,-133.4324C249.432,-137.9231 298.7442,-144.8052 342.3604,-155 347.5791,-156.2198 352.9163,-157.6187 358.2654,-159.1346\"/>\n",
       "<polygon fill=\"#000000\" stroke=\"#000000\" points=\"357.3014,-162.4994 367.8834,-161.9766 359.2851,-155.7863 357.3014,-162.4994\"/>\n",
       "<text text-anchor=\"middle\" x=\"299.5811\" y=\"-171.8\" font-family=\"Times,serif\" font-size=\"14.00\" fill=\"#000000\">INPUT_CALC</text>\n",
       "<text text-anchor=\"middle\" x=\"299.5811\" y=\"-157.8\" font-family=\"Times,serif\" font-size=\"14.00\" fill=\"#000000\">parameters</text>\n",
       "</g>\n",
       "<!-- N3 -->\n",
       "<g id=\"node7\" class=\"node\">\n",
       "<title>N3</title>\n",
       "<ellipse fill=\"#8cd499\" stroke=\"#000000\" stroke-width=\"0\" cx=\"119.4009\" cy=\"-72\" rx=\"69.5752\" ry=\"18\"/>\n",
       "<text text-anchor=\"middle\" x=\"119.4009\" y=\"-67.8\" font-family=\"Times,serif\" font-size=\"14.00\" fill=\"#000000\">BasisSetData (3)</text>\n",
       "</g>\n",
       "<!-- N3&#45;&gt;N8 -->\n",
       "<g id=\"edge6\" class=\"edge\">\n",
       "<title>N3&#45;&gt;N8</title>\n",
       "<path fill=\"none\" stroke=\"#000000\" d=\"M189.0441,-73.1935C234.5045,-76.2753 294.1424,-84.7787 342.3604,-107 366.5826,-118.1628 389.4113,-137.4707 406.4425,-154.3213\"/>\n",
       "<polygon fill=\"#000000\" stroke=\"#000000\" points=\"404.3383,-157.1735 413.8439,-161.8525 409.3309,-152.2669 404.3383,-157.1735\"/>\n",
       "<text text-anchor=\"middle\" x=\"299.5811\" y=\"-123.8\" font-family=\"Times,serif\" font-size=\"14.00\" fill=\"#000000\">INPUT_CALC</text>\n",
       "<text text-anchor=\"middle\" x=\"299.5811\" y=\"-109.8\" font-family=\"Times,serif\" font-size=\"14.00\" fill=\"#000000\">basissets__O</text>\n",
       "</g>\n",
       "<!-- N2 -->\n",
       "<g id=\"node8\" class=\"node\">\n",
       "<title>N2</title>\n",
       "<ellipse fill=\"#8cd499\" stroke=\"#000000\" stroke-width=\"0\" cx=\"119.4009\" cy=\"-18\" rx=\"69.5752\" ry=\"18\"/>\n",
       "<text text-anchor=\"middle\" x=\"119.4009\" y=\"-13.8\" font-family=\"Times,serif\" font-size=\"14.00\" fill=\"#000000\">BasisSetData (2)</text>\n",
       "</g>\n",
       "<!-- N2&#45;&gt;N8 -->\n",
       "<g id=\"edge7\" class=\"edge\">\n",
       "<title>N2&#45;&gt;N8</title>\n",
       "<path fill=\"none\" stroke=\"#000000\" d=\"M187.3867,-13.9246C234.2409,-14.261 296.1477,-21.1976 342.3604,-50 380.8907,-74.0142 407.4132,-120.4244 422.1018,-152.5288\"/>\n",
       "<polygon fill=\"#000000\" stroke=\"#000000\" points=\"419.0394,-154.2583 426.2806,-161.9923 425.4429,-151.4307 419.0394,-154.2583\"/>\n",
       "<text text-anchor=\"middle\" x=\"299.5811\" y=\"-66.8\" font-family=\"Times,serif\" font-size=\"14.00\" fill=\"#000000\">INPUT_CALC</text>\n",
       "<text text-anchor=\"middle\" x=\"299.5811\" y=\"-52.8\" font-family=\"Times,serif\" font-size=\"14.00\" fill=\"#000000\">basissets__Ni</text>\n",
       "</g>\n",
       "</g>\n",
       "</svg>\n"
      ],
      "text/plain": [
       "<graphviz.dot.Digraph at 0x110750048>"
      ]
     },
     "execution_count": 5,
     "metadata": {},
     "output_type": "execute_result"
    }
   ],
   "source": [
    "graph = Graph(graph_attr={'size': \"6,8!\", \"rankdir\": \"LR\"})\n",
    "graph.add_node(calc_node)\n",
    "graph.add_incoming(calc_node, annotate_links=\"both\")\n",
    "graph.add_outgoing(calc_node, annotate_links=\"both\")\n",
    "graph.graphviz"
   ]
  },
  {
   "cell_type": "code",
   "execution_count": 6,
   "metadata": {},
   "outputs": [
    {
     "data": {
      "text/plain": [
       "{'sealed': True,\n",
       " 'version': {'core': '1.0.0b5', 'plugin': '0.10.0b5'},\n",
       " 'withmpi': False,\n",
       " 'resources': {'num_machines': 1, 'num_mpiprocs_per_machine': 1},\n",
       " 'append_text': '',\n",
       " 'exit_status': 0,\n",
       " 'parser_name': 'crystal17.main',\n",
       " 'prepend_text': '',\n",
       " 'process_label': 'CryMainCalculation',\n",
       " 'process_state': 'finished',\n",
       " 'retrieve_list': ['main.out',\n",
       "  'fort.34',\n",
       "  'HESSOPT.DAT',\n",
       "  '_scheduler-stdout.txt',\n",
       "  '_scheduler-stderr.txt'],\n",
       " 'remote_workdir': '/var/folders/dm/b2qnkb_n3r72slmpxlfmcjvm00lbnd/T/tmp1kqvyzb3',\n",
       " 'input_file_name': 'INPUT',\n",
       " 'scheduler_stderr': '_scheduler-stderr.txt',\n",
       " 'scheduler_stdout': '_scheduler-stdout.txt',\n",
       " 'mpirun_extra_params': [],\n",
       " 'environment_variables': {},\n",
       " 'max_wallclock_seconds': 1800,\n",
       " 'output_main_file_name': 'main.out',\n",
       " 'import_sys_environment': True,\n",
       " 'retrieve_temporary_list': ['opt[ac][0-9][0-9][0-9]'],\n",
       " 'custom_scheduler_commands': ''}"
      ]
     },
     "execution_count": 6,
     "metadata": {},
     "output_type": "execute_result"
    }
   ],
   "source": [
    "calc_node.attributes"
   ]
  },
  {
   "cell_type": "code",
   "execution_count": 7,
   "metadata": {},
   "outputs": [
    {
     "data": {
      "text/plain": [
       "{'immigrated': True,\n",
       " '_aiida_hash': 'e9ec40cc0cfee4e578e567c4087ecc9ca8d706e46f9adeb5380ee363de1fda99',\n",
       " 'immigration_func': 'aiida_crystal17.immigration.create_calcjob'}"
      ]
     },
     "execution_count": 7,
     "metadata": {},
     "output_type": "execute_result"
    }
   ],
   "source": [
    "calc_node.extras"
   ]
  },
  {
   "cell_type": "code",
   "execution_count": 8,
   "metadata": {},
   "outputs": [
    {
     "data": {
      "text/markdown": [
       "```json\n",
       "{\n",
       "  \"units\": {\n",
       "    \"angle\": \"degrees\",\n",
       "    \"energy\": \"eV\",\n",
       "    \"length\": \"angstrom\",\n",
       "    \"conversion\": \"CODATA2014\"\n",
       "  },\n",
       "  \"energy\": -85125.876675219,\n",
       "  \"errors\": [],\n",
       "  \"header\": {\n",
       "    \"crystal_version\": 17,\n",
       "    \"crystal_subversion\": \"1.0.1\"\n",
       "  },\n",
       "  \"volume\": 42.49241208568,\n",
       "  \"warnings\": [\n",
       "    \"WARNING **** INT_SCREEN **** CELL PARAMETERS OPTIMIZATION ONLY\"\n",
       "  ],\n",
       "  \"calculation\": {\n",
       "    \"n_ao\": 46,\n",
       "    \"spin\": true,\n",
       "    \"type\": \"unrestricted open shell\",\n",
       "    \"n_atoms\": 4,\n",
       "    \"n_shells\": 14,\n",
       "    \"n_symops\": 16,\n",
       "    \"n_core_el\": 40,\n",
       "    \"n_electrons\": 72,\n",
       "    \"n_kpoints_ibz\": 75,\n",
       "    \"n_kpoints_gilat\": 75\n",
       "  },\n",
       "  \"energy_units\": \"eV\",\n",
       "  \"parser_class\": \"CryMainParser\",\n",
       "  \"parser_errors\": [],\n",
       "  \"mulliken_spins\": [\n",
       "    3.234,\n",
       "    -3.234,\n",
       "    -0.172,\n",
       "    0.172\n",
       "  ],\n",
       "  \"opt_iterations\": 19,\n",
       "  \"parser_version\": \"0.10.0b5\",\n",
       "  \"scf_iterations\": 16,\n",
       "  \"number_of_atoms\": 4,\n",
       "  \"parser_warnings\": [],\n",
       "  \"mulliken_charges\": [\n",
       "    0.363,\n",
       "    0.363,\n",
       "    -0.363,\n",
       "    -0.363\n",
       "  ],\n",
       "  \"parser_exceptions\": [],\n",
       "  \"mulliken_electrons\": [\n",
       "    27.637,\n",
       "    27.637,\n",
       "    8.363,\n",
       "    8.363\n",
       "  ],\n",
       "  \"mulliken_spin_total\": 0.0,\n",
       "  \"number_of_assymetric\": 4,\n",
       "  \"execution_time_seconds\": 3018\n",
       "}\n",
       "```"
      ]
     },
     "metadata": {},
     "output_type": "display_data"
    }
   ],
   "source": [
    "display_json(calc_node.outputs.results.attributes)"
   ]
  }
 ],
 "metadata": {
  "celltoolbar": "Tags",
  "hide_input": false,
  "kernelspec": {
   "display_name": "Python 3",
   "language": "python",
   "name": "python3"
  },
  "language_info": {
   "codemirror_mode": {
    "name": "ipython",
    "version": 3
   },
   "file_extension": ".py",
   "mimetype": "text/x-python",
   "name": "python",
   "nbconvert_exporter": "python",
   "pygments_lexer": "ipython3",
   "version": "3.6.7"
  },
  "toc": {
   "base_numbering": 1,
   "nav_menu": {},
   "number_sections": true,
   "sideBar": true,
   "skip_h1_title": false,
   "title_cell": "Table of Contents",
   "title_sidebar": "Contents",
   "toc_cell": false,
   "toc_position": {},
   "toc_section_display": true,
   "toc_window_display": false
  }
 },
 "nbformat": 4,
 "nbformat_minor": 2
}
