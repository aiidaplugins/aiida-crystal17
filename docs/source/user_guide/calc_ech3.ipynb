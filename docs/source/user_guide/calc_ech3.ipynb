{
 "cells": [
  {
   "cell_type": "markdown",
   "metadata": {},
   "source": [
    ".. _props_ech3:\n",
    "\n",
    "# Properties: Charge Density (ECH3)"
   ]
  },
  {
   "cell_type": "markdown",
   "metadata": {},
   "source": [
    "The :py:class:`~.aiida_crystal17.calculations.prop_ech3.CryEch3Calculation` can be used to run the `properties`\n",
    "executable for ECH3 calculations, from an existing `fort.9`."
   ]
  },
  {
   "cell_type": "markdown",
   "metadata": {},
   "source": [
    ".. seealso::\n",
    "\n",
    "    :ref:`props_workflow` to run multiple properties calculations\n",
    "    (and optional initial SCF)."
   ]
  },
  {
   "cell_type": "code",
   "execution_count": 1,
   "metadata": {},
   "outputs": [
    {
     "name": "stdout",
     "output_type": "stream",
     "text": [
      "\u001b[31m\u001b[1mInputs\u001b[0m\n",
      "\u001b[1m           code:  required  Code                                    The Code to use for this job.\u001b[0m\n",
      "\u001b[1m     parameters:  required  Dict                                    the input parameters to create the properties input file.\u001b[0m\n",
      "\u001b[1m      wf_folder:  required  FolderData, RemoteData, SinglefileData  the folder containing the wavefunction fort.9 file\u001b[0m\n",
      "       metadata:  optional                                          \u001b[0m\n",
      "\u001b[31m\u001b[1mOutputs\u001b[0m\n",
      "\u001b[1m         charge:  required  GaussianCube                            The charge density cube\u001b[0m\n",
      "\u001b[1m  remote_folder:  required  RemoteData                              Input files necessary to run the process will be stored in this folder node ...\u001b[0m\n",
      "\u001b[1m        results:  required  Dict                                    Summary Data extracted from the output file(s)\u001b[0m\n",
      "\u001b[1m      retrieved:  required  FolderData                              Files that are retrieved by the daemon will be stored in this node. By defa ...\u001b[0m\n",
      "           spin:  optional  GaussianCube                            The spin density cube\u001b[0m\n",
      "\u001b[31m\u001b[1mExit codes\u001b[0m\n",
      "              1:  The process has failed with an unspecified error.\u001b[0m\n",
      "              2:  The process failed with legacy failure mode.\u001b[0m\n",
      "             10:  The process returned an invalid output.\u001b[0m\n",
      "             11:  The process did not register a required output.\u001b[0m\n",
      "            200:  The retrieved folder data node could not be accessed.\u001b[0m\n",
      "            210:  The main (stdout) output file was not found\u001b[0m\n",
      "            211:  The temporary retrieved folder was not found\u001b[0m\n",
      "            300:  An error was flagged trying to parse the crystal exec stdout file\u001b[0m\n",
      "            350:  The input file could not be read by crystal\u001b[0m\n",
      "            351:  Crystal could not find the required wavefunction file\u001b[0m\n",
      "            352:  Parser could not find the output density file\u001b[0m\n",
      "            353:  Error parsing output density file\u001b[0m\n",
      "            400:  The calculation stopped prematurely because it ran out of walltime.\u001b[0m\n",
      "            401:  The calculation stopped prematurely because it ran out of memory.\u001b[0m\n",
      "            402:  The calculation stopped prematurely because it ran out of virtual memory.\u001b[0m\n",
      "            413:  An error encountered usually during geometry optimisation\u001b[0m\n",
      "            414:  An error was encountered during an scf computation\u001b[0m\n",
      "            415:  An unknown error was encountered, causing the mpi to abort\u001b[0m\n",
      "            499:  The main crystal output file flagged an unhandled error\u001b[0m\n"
     ]
    }
   ],
   "source": [
    "!verdi plugin list aiida.calculations crystal17.ech3"
   ]
  },
  {
   "cell_type": "code",
   "execution_count": 2,
   "metadata": {},
   "outputs": [
    {
     "data": {
      "text/plain": [
       "'test_crystal17'"
      ]
     },
     "execution_count": 2,
     "metadata": {},
     "output_type": "execute_result"
    }
   ],
   "source": [
    "from aiida import engine, load_profile, orm, plugins\n",
    "from aiida.tools.visualization import Graph\n",
    "from aiida_crystal17.common import recursive_round\n",
    "from aiida_crystal17.tests.utils import (\n",
    "    get_or_create_local_computer, get_or_create_code,\n",
    "    get_default_metadata)\n",
    "from aiida_crystal17.tests import open_resource_binary\n",
    "profile = load_profile()\n",
    "profile.name"
   ]
  },
  {
   "cell_type": "markdown",
   "metadata": {},
   "source": [
    "## Running a calculation"
   ]
  },
  {
   "cell_type": "markdown",
   "metadata": {},
   "source": [
    "The :ref:`ech3_input_schema` gives the allowed format of the input dictionary, for example:"
   ]
  },
  {
   "cell_type": "code",
   "execution_count": 4,
   "metadata": {},
   "outputs": [],
   "source": [
    "computer = get_or_create_local_computer('work_directory', 'localhost')\n",
    "code = get_or_create_code('crystal17.ech3', computer, 'mock_properties17')\n",
    "\n",
    "builder = code.get_builder()\n",
    "builder.metadata = get_default_metadata()\n",
    "builder.parameters = orm.Dict(dict={\n",
    "    'npoints': 20\n",
    "})\n",
    "with open_resource_binary('ech3', 'mgo_sto3g_scf', 'fort.9') as handle:\n",
    "    builder.wf_folder = orm.SinglefileData(handle)"
   ]
  },
  {
   "cell_type": "code",
   "execution_count": 5,
   "metadata": {},
   "outputs": [],
   "source": [
    "result, calcnode = engine.run_get_node(builder)"
   ]
  },
  {
   "cell_type": "code",
   "execution_count": 6,
   "metadata": {},
   "outputs": [
    {
     "name": "stdout",
     "output_type": "stream",
     "text": [
      "\u001b[22mProperty       Value\n",
      "-------------  ------------------------------------\n",
      "type           CalcJobNode\n",
      "pk             974\n",
      "uuid           4dd70b8f-e7b6-4684-84e2-69f5db4ddbb8\n",
      "label\n",
      "description\n",
      "ctime          2019-09-24 15:45:47.628170+00:00\n",
      "mtime          2019-09-24 15:46:01.609931+00:00\n",
      "process state  Finished\n",
      "exit status    0\n",
      "computer       [1] localhost\n",
      "\n",
      "Inputs        PK  Type\n",
      "----------  ----  --------------\n",
      "code         971  Code\n",
      "parameters   972  Dict\n",
      "wf_folder    973  SinglefileData\n",
      "\n",
      "Outputs          PK  Type\n",
      "-------------  ----  ------------\n",
      "charge          978  GaussianCube\n",
      "remote_folder   975  RemoteData\n",
      "results         977  Dict\n",
      "retrieved       976  FolderData\u001b[0m\n"
     ]
    }
   ],
   "source": [
    "!verdi process show {calcnode.pk}"
   ]
  },
  {
   "cell_type": "code",
   "execution_count": 7,
   "metadata": {
    "ipub": {
     "figure": {
      "caption": "`crystal17.ech3` calculation provenance graph."
     }
    }
   },
   "outputs": [
    {
     "data": {
      "image/svg+xml": [
       "<?xml version=\"1.0\" encoding=\"UTF-8\" standalone=\"no\"?>\n",
       "<!DOCTYPE svg PUBLIC \"-//W3C//DTD SVG 1.1//EN\"\n",
       " \"http://www.w3.org/Graphics/SVG/1.1/DTD/svg11.dtd\">\n",
       "<!-- Generated by graphviz version 2.40.1 (20161225.0304)\n",
       " -->\n",
       "<!-- Title: %3 Pages: 1 -->\n",
       "<svg width=\"432pt\" height=\"113pt\"\n",
       " viewBox=\"0.00 0.00 432.00 112.89\" xmlns=\"http://www.w3.org/2000/svg\" xmlns:xlink=\"http://www.w3.org/1999/xlink\">\n",
       "<g id=\"graph0\" class=\"graph\" transform=\"scale(.5121 .5121) rotate(0) translate(4 216.4558)\">\n",
       "<title>%3</title>\n",
       "<polygon fill=\"#ffffff\" stroke=\"transparent\" points=\"-4,4 -4,-216.4558 839.5958,-216.4558 839.5958,4 -4,4\"/>\n",
       "<!-- N974 -->\n",
       "<g id=\"node1\" class=\"node\">\n",
       "<title>N974</title>\n",
       "<polygon fill=\"#de707f\" stroke=\"#000000\" stroke-width=\"0\" points=\"550.9446,-138.4558 386.6886,-138.4558 386.6886,-88.4558 550.9446,-88.4558 550.9446,-138.4558\"/>\n",
       "<text text-anchor=\"middle\" x=\"468.8166\" y=\"-123.2558\" font-family=\"Times,serif\" font-size=\"14.00\" fill=\"#000000\">CryEch3Calculation (974)</text>\n",
       "<text text-anchor=\"middle\" x=\"468.8166\" y=\"-109.2558\" font-family=\"Times,serif\" font-size=\"14.00\" fill=\"#000000\">State: finished</text>\n",
       "<text text-anchor=\"middle\" x=\"468.8166\" y=\"-95.2558\" font-family=\"Times,serif\" font-size=\"14.00\" fill=\"#000000\">Exit Code: 0</text>\n",
       "</g>\n",
       "<!-- N978 -->\n",
       "<g id=\"node5\" class=\"node\">\n",
       "<title>N978</title>\n",
       "<ellipse fill=\"#8cd499\" stroke=\"#000000\" stroke-width=\"0\" cx=\"750.8866\" cy=\"-194.4558\" rx=\"82.6204\" ry=\"18\"/>\n",
       "<text text-anchor=\"middle\" x=\"750.8866\" y=\"-190.2558\" font-family=\"Times,serif\" font-size=\"14.00\" fill=\"#000000\">GaussianCube (978)</text>\n",
       "</g>\n",
       "<!-- N974&#45;&gt;N978 -->\n",
       "<g id=\"edge4\" class=\"edge\">\n",
       "<title>N974&#45;&gt;N978</title>\n",
       "<path fill=\"none\" stroke=\"#000000\" d=\"M514.5841,-138.5896C531.2729,-146.894 550.551,-155.5173 568.8806,-161.4558 600.5822,-171.7268 636.4885,-179.0933 667.9818,-184.2224\"/>\n",
       "<polygon fill=\"#000000\" stroke=\"#000000\" points=\"667.6176,-187.7081 678.041,-185.8099 668.7089,-180.7937 667.6176,-187.7081\"/>\n",
       "<text text-anchor=\"middle\" x=\"608.529\" y=\"-197.2558\" font-family=\"Times,serif\" font-size=\"14.00\" fill=\"#000000\">CREATE</text>\n",
       "<text text-anchor=\"middle\" x=\"608.529\" y=\"-183.2558\" font-family=\"Times,serif\" font-size=\"14.00\" fill=\"#000000\">charge</text>\n",
       "</g>\n",
       "<!-- N977 -->\n",
       "<g id=\"node6\" class=\"node\">\n",
       "<title>N977</title>\n",
       "<ellipse fill=\"#8cd499\" stroke=\"#000000\" stroke-width=\"0\" cx=\"750.8866\" cy=\"-140.4558\" rx=\"46.8976\" ry=\"18\"/>\n",
       "<text text-anchor=\"middle\" x=\"750.8866\" y=\"-136.2558\" font-family=\"Times,serif\" font-size=\"14.00\" fill=\"#000000\">Dict (977)</text>\n",
       "</g>\n",
       "<!-- N974&#45;&gt;N977 -->\n",
       "<g id=\"edge5\" class=\"edge\">\n",
       "<title>N974&#45;&gt;N977</title>\n",
       "<path fill=\"none\" stroke=\"#000000\" d=\"M551.1612,-121.3379C597.4825,-125.7719 654.0842,-131.1898 695.1886,-135.1244\"/>\n",
       "<polygon fill=\"#000000\" stroke=\"#000000\" points=\"695.0012,-138.6224 705.2893,-136.0912 695.6683,-131.6542 695.0012,-138.6224\"/>\n",
       "<text text-anchor=\"middle\" x=\"608.529\" y=\"-146.2558\" font-family=\"Times,serif\" font-size=\"14.00\" fill=\"#000000\">CREATE</text>\n",
       "<text text-anchor=\"middle\" x=\"608.529\" y=\"-132.2558\" font-family=\"Times,serif\" font-size=\"14.00\" fill=\"#000000\">results</text>\n",
       "</g>\n",
       "<!-- N976 -->\n",
       "<g id=\"node7\" class=\"node\">\n",
       "<title>N976</title>\n",
       "<ellipse fill=\"#8cd499\" stroke=\"#000000\" stroke-width=\"0\" cx=\"750.8866\" cy=\"-86.4558\" rx=\"71.0117\" ry=\"18\"/>\n",
       "<text text-anchor=\"middle\" x=\"750.8866\" y=\"-82.2558\" font-family=\"Times,serif\" font-size=\"14.00\" fill=\"#000000\">FolderData (976)</text>\n",
       "</g>\n",
       "<!-- N974&#45;&gt;N976 -->\n",
       "<g id=\"edge6\" class=\"edge\">\n",
       "<title>N974&#45;&gt;N976</title>\n",
       "<path fill=\"none\" stroke=\"#000000\" d=\"M551.0582,-94.0836C557.0675,-93.0653 563.0544,-92.1698 568.8806,-91.4558 601.5803,-87.4485 637.8209,-85.8754 669.2995,-85.4186\"/>\n",
       "<polygon fill=\"#000000\" stroke=\"#000000\" points=\"669.3813,-88.918 679.3421,-85.3078 669.304,-81.9184 669.3813,-88.918\"/>\n",
       "<text text-anchor=\"middle\" x=\"608.529\" y=\"-108.2558\" font-family=\"Times,serif\" font-size=\"14.00\" fill=\"#000000\">CREATE</text>\n",
       "<text text-anchor=\"middle\" x=\"608.529\" y=\"-94.2558\" font-family=\"Times,serif\" font-size=\"14.00\" fill=\"#000000\">retrieved</text>\n",
       "</g>\n",
       "<!-- N975 -->\n",
       "<g id=\"node8\" class=\"node\">\n",
       "<title>N975</title>\n",
       "<ellipse fill=\"#8cd499\" stroke=\"#000000\" stroke-width=\"0\" cx=\"750.8866\" cy=\"-25.4558\" rx=\"84.9189\" ry=\"25.4118\"/>\n",
       "<text text-anchor=\"middle\" x=\"750.8866\" y=\"-28.2558\" font-family=\"Times,serif\" font-size=\"14.00\" fill=\"#000000\">RemoteData (975)</text>\n",
       "<text text-anchor=\"middle\" x=\"750.8866\" y=\"-14.2558\" font-family=\"Times,serif\" font-size=\"14.00\" fill=\"#000000\">@localhost</text>\n",
       "</g>\n",
       "<!-- N974&#45;&gt;N975 -->\n",
       "<g id=\"edge7\" class=\"edge\">\n",
       "<title>N974&#45;&gt;N975</title>\n",
       "<path fill=\"none\" stroke=\"#000000\" d=\"M503.2579,-88.2442C521.8209,-75.8657 545.6362,-61.8458 568.8806,-53.4558 596.9906,-43.3097 628.8396,-36.8399 657.949,-32.7145\"/>\n",
       "<polygon fill=\"#000000\" stroke=\"#000000\" points=\"658.6742,-36.1487 668.1204,-31.3509 657.744,-29.2107 658.6742,-36.1487\"/>\n",
       "<text text-anchor=\"middle\" x=\"608.529\" y=\"-70.2558\" font-family=\"Times,serif\" font-size=\"14.00\" fill=\"#000000\">CREATE</text>\n",
       "<text text-anchor=\"middle\" x=\"608.529\" y=\"-56.2558\" font-family=\"Times,serif\" font-size=\"14.00\" fill=\"#000000\">remote_folder</text>\n",
       "</g>\n",
       "<!-- N973 -->\n",
       "<g id=\"node2\" class=\"node\">\n",
       "<title>N973</title>\n",
       "<ellipse fill=\"#8cd499\" stroke=\"#000000\" stroke-width=\"0\" cx=\"132.597\" cy=\"-174.4558\" rx=\"91.7361\" ry=\"25.4118\"/>\n",
       "<text text-anchor=\"middle\" x=\"132.597\" y=\"-177.2558\" font-family=\"Times,serif\" font-size=\"14.00\" fill=\"#000000\">SinglefileData (973)</text>\n",
       "<text text-anchor=\"middle\" x=\"132.597\" y=\"-163.2558\" font-family=\"Times,serif\" font-size=\"14.00\" fill=\"#000000\">fort.9</text>\n",
       "</g>\n",
       "<!-- N973&#45;&gt;N974 -->\n",
       "<g id=\"edge1\" class=\"edge\">\n",
       "<title>N973&#45;&gt;N974</title>\n",
       "<path fill=\"none\" stroke=\"#000000\" d=\"M221.2944,-167.531C265.876,-163.0494 320.536,-156.0283 368.7526,-145.4558 374.4592,-144.2046 380.3043,-142.7654 386.1639,-141.2051\"/>\n",
       "<polygon fill=\"#000000\" stroke=\"#000000\" points=\"387.3139,-144.5184 396.017,-138.4763 385.4456,-137.7723 387.3139,-144.5184\"/>\n",
       "<text text-anchor=\"middle\" x=\"325.9733\" y=\"-176.2558\" font-family=\"Times,serif\" font-size=\"14.00\" fill=\"#000000\">INPUT_CALC</text>\n",
       "<text text-anchor=\"middle\" x=\"325.9733\" y=\"-162.2558\" font-family=\"Times,serif\" font-size=\"14.00\" fill=\"#000000\">wf_folder</text>\n",
       "</g>\n",
       "<!-- N972 -->\n",
       "<g id=\"node3\" class=\"node\">\n",
       "<title>N972</title>\n",
       "<ellipse fill=\"#8cd499\" stroke=\"#000000\" stroke-width=\"0\" cx=\"132.597\" cy=\"-113.4558\" rx=\"46.8976\" ry=\"18\"/>\n",
       "<text text-anchor=\"middle\" x=\"132.597\" y=\"-109.2558\" font-family=\"Times,serif\" font-size=\"14.00\" fill=\"#000000\">Dict (972)</text>\n",
       "</g>\n",
       "<!-- N972&#45;&gt;N974 -->\n",
       "<g id=\"edge2\" class=\"edge\">\n",
       "<title>N972&#45;&gt;N974</title>\n",
       "<path fill=\"none\" stroke=\"#000000\" d=\"M179.3469,-113.4558C230.1298,-113.4558 312.5498,-113.4558 376.4807,-113.4558\"/>\n",
       "<polygon fill=\"#000000\" stroke=\"#000000\" points=\"376.5748,-116.9559 386.5748,-113.4558 376.5747,-109.9559 376.5748,-116.9559\"/>\n",
       "<text text-anchor=\"middle\" x=\"325.9733\" y=\"-130.2558\" font-family=\"Times,serif\" font-size=\"14.00\" fill=\"#000000\">INPUT_CALC</text>\n",
       "<text text-anchor=\"middle\" x=\"325.9733\" y=\"-116.2558\" font-family=\"Times,serif\" font-size=\"14.00\" fill=\"#000000\">parameters</text>\n",
       "</g>\n",
       "<!-- N971 -->\n",
       "<g id=\"node4\" class=\"node\">\n",
       "<title>N971</title>\n",
       "<ellipse fill=\"#4ca4b9\" fill-opacity=\"0.666667\" stroke=\"#000000\" stroke-width=\"0\" cx=\"132.597\" cy=\"-52.4558\" rx=\"132.6941\" ry=\"25.4118\"/>\n",
       "<text text-anchor=\"middle\" x=\"132.597\" y=\"-55.2558\" font-family=\"Times,serif\" font-size=\"14.00\" fill=\"#000000\">Code (971)</text>\n",
       "<text text-anchor=\"middle\" x=\"132.597\" y=\"-41.2558\" font-family=\"Times,serif\" font-size=\"14.00\" fill=\"#000000\">mock_properties17@localhost</text>\n",
       "</g>\n",
       "<!-- N971&#45;&gt;N974 -->\n",
       "<g id=\"edge3\" class=\"edge\">\n",
       "<title>N971&#45;&gt;N974</title>\n",
       "<path fill=\"none\" stroke=\"#000000\" d=\"M253.7758,-62.9263C290.9146,-67.3146 331.7328,-73.3385 368.7526,-81.4558 374.4592,-82.7071 380.3043,-84.1462 386.1639,-85.7066\"/>\n",
       "<polygon fill=\"#000000\" stroke=\"#000000\" points=\"385.4456,-89.1394 396.017,-88.4354 387.3139,-82.3933 385.4456,-89.1394\"/>\n",
       "<text text-anchor=\"middle\" x=\"325.9733\" y=\"-98.2558\" font-family=\"Times,serif\" font-size=\"14.00\" fill=\"#000000\">INPUT_CALC</text>\n",
       "<text text-anchor=\"middle\" x=\"325.9733\" y=\"-84.2558\" font-family=\"Times,serif\" font-size=\"14.00\" fill=\"#000000\">code</text>\n",
       "</g>\n",
       "</g>\n",
       "</svg>\n"
      ],
      "text/plain": [
       "<graphviz.dot.Digraph at 0x113de0160>"
      ]
     },
     "execution_count": 7,
     "metadata": {},
     "output_type": "execute_result"
    }
   ],
   "source": [
    "graph = Graph(graph_attr={'size': \"6,8!\", \"rankdir\": \"LR\"})\n",
    "graph.add_node(calcnode)\n",
    "graph.add_incoming(calcnode, annotate_links=\"both\")\n",
    "graph.add_outgoing(calcnode, annotate_links=\"both\")\n",
    "graph.graphviz"
   ]
  },
  {
   "cell_type": "markdown",
   "metadata": {},
   "source": [
    "## Analysing the outputs"
   ]
  },
  {
   "cell_type": "markdown",
   "metadata": {},
   "source": [
    "The outputs are:\n",
    "\n",
    "- **results** a dict of computation input and output parameters, parsed from the stdout file.\n",
    "- **charge** a data node containing the gaussian cube file for the charge density.\n",
    "- **spin** a data node containing the gaussian cube file for the spin density (if the original computation included spin)."
   ]
  },
  {
   "cell_type": "code",
   "execution_count": 8,
   "metadata": {},
   "outputs": [
    {
     "data": {
      "text/plain": [
       "{'units': {'energy': 'eV', 'conversion': 'CODATA2014'},\n",
       " 'errors': [],\n",
       " 'header': {'crystal_version': 17, 'crystal_subversion': '1.0.1'},\n",
       " 'warnings': [],\n",
       " 'wf_input': {'n_ao': 14,\n",
       "  'n_atoms': 2,\n",
       "  'k_points': [8, 8, 8],\n",
       "  'n_shells': 5,\n",
       "  'n_symops': 48,\n",
       "  'gilat_net': 8,\n",
       "  'n_core_el': 12,\n",
       "  'n_electrons': 20,\n",
       "  'energy_fermi': -4.0,\n",
       "  'energy_total': -7380.2,\n",
       "  'n_kpoints_ibz': 29,\n",
       "  'energy_kinetic': 7269.0},\n",
       " 'parser_class': 'CryEch3Parser',\n",
       " 'parser_errors': [],\n",
       " 'parser_version': '0.10.0b5',\n",
       " 'parser_exceptions': [],\n",
       " 'execution_time_seconds': 0}"
      ]
     },
     "execution_count": 8,
     "metadata": {},
     "output_type": "execute_result"
    }
   ],
   "source": [
    "recursive_round(calcnode.outputs.results.get_dict(), 1)"
   ]
  },
  {
   "cell_type": "markdown",
   "metadata": {},
   "source": [
    "The :py:class:`~aiida_crystal17.data.gcube.GaussianCube` data node stores a [gaussian cube](http://h5cube-spec.readthedocs.io/en/latest/cubeformat.html) in a compressed zip file."
   ]
  },
  {
   "cell_type": "code",
   "execution_count": 12,
   "metadata": {},
   "outputs": [
    {
     "data": {
      "text/plain": [
       "{'cell': [[0.0, 2.2157919831613, 2.2157919831613],\n",
       "  [2.2157919831613, 0.0, 2.2157919831613],\n",
       "  [2.2157919831613, 2.2157919831613, 0.0]],\n",
       " 'units': {'length': 'angstrom', 'conversion': 'CODATA2014'},\n",
       " 'header': ['Charge density - 3D GRID - GAUSSIAN CUBE FORMAT MgO Bulk',\n",
       "  '5.62556267     5.62556267     5.62556267    60.000000  60.000000  60.000000'],\n",
       " 'elements': ['Mg', 'O'],\n",
       " 'voxel_grid': [20, 20, 20],\n",
       " 'zip_filename': 'gcube.zip',\n",
       " 'cube_filename': 'gaussian.cube',\n",
       " 'compression_method': 8}"
      ]
     },
     "execution_count": 12,
     "metadata": {},
     "output_type": "execute_result"
    }
   ],
   "source": [
    "calcnode.outputs.charge.attributes"
   ]
  },
  {
   "cell_type": "markdown",
   "metadata": {},
   "source": [
    "The full file can be accessed *via*:"
   ]
  },
  {
   "cell_type": "code",
   "execution_count": 13,
   "metadata": {},
   "outputs": [
    {
     "name": "stdout",
     "output_type": "stream",
     "text": [
      " Charge density - 3D GRID - GAUSSIAN CUBE FORMAT MgO Bulk                      \n",
      "\n"
     ]
    }
   ],
   "source": [
    "with calcnode.outputs.charge.open_cube_file() as handle:\n",
    "    print(handle.readline())"
   ]
  },
  {
   "cell_type": "markdown",
   "metadata": {},
   "source": [
    "There is also methods available to parse the file to a dict or structure:"
   ]
  },
  {
   "cell_type": "code",
   "execution_count": 16,
   "metadata": {},
   "outputs": [
    {
     "data": {
      "text/plain": [
       "[12, 8]"
      ]
     },
     "execution_count": 16,
     "metadata": {},
     "output_type": "execute_result"
    }
   ],
   "source": [
    "data = calcnode.outputs.charge.get_cube_data()\n",
    "data.atoms_atomic_number"
   ]
  },
  {
   "cell_type": "code",
   "execution_count": 17,
   "metadata": {},
   "outputs": [
    {
     "data": {
      "text/plain": [
       "Atoms(symbols='MgO', pbc=True, cell=[[0.0, 2.2157919831613384, 2.2157919831613384], [2.2157919831613384, 0.0, 2.2157919831613384], [2.2157919831613384, 2.2157919831613384, 0.0]])"
      ]
     },
     "execution_count": 17,
     "metadata": {},
     "output_type": "execute_result"
    }
   ],
   "source": [
    "calcnode.outputs.charge.get_ase()"
   ]
  },
  {
   "cell_type": "markdown",
   "metadata": {},
   "source": [
    "Some experimental methods also exist, for basic analysis of the density."
   ]
  },
  {
   "cell_type": "code",
   "execution_count": 18,
   "metadata": {},
   "outputs": [
    {
     "data": {
      "text/plain": [
       "18.60283258916424"
      ]
     },
     "execution_count": 18,
     "metadata": {},
     "output_type": "execute_result"
    }
   ],
   "source": [
    "calcnode.outputs.charge.compute_integration_cell()"
   ]
  },
  {
   "cell_type": "code",
   "execution_count": 24,
   "metadata": {},
   "outputs": [
    {
     "data": {
      "text/plain": [
       "[17.16956646407823, 1.1837163766941237]"
      ]
     },
     "execution_count": 24,
     "metadata": {},
     "output_type": "execute_result"
    }
   ],
   "source": [
    "calcnode.outputs.charge.compute_integration_atom([0, 1], radius=1.0)"
   ]
  },
  {
   "cell_type": "markdown",
   "metadata": {},
   "source": [
    "## Visualising the density in VESTA"
   ]
  },
  {
   "cell_type": "markdown",
   "metadata": {},
   "source": [
    "The :py:mod:`~aiida_crystal17.parsers.raw.gcube_to_vesta` module\n",
    "contains functions, to convert cube data to input files that can be opened in [VESTA](http://jp-minerals.org/vesta).\n",
    "The :ref:`vesta_input_schema` gives the allowed format of the input settings dictionary, for example:"
   ]
  },
  {
   "cell_type": "code",
   "execution_count": 38,
   "metadata": {},
   "outputs": [
    {
     "name": "stdout",
     "output_type": "stream",
     "text": [
      "['mgo.cube', 'mgo.vesta']\n",
      "#VESTA_FORMAT_VERSION 3.3.0\n",
      "\n",
      "CRYSTAL\n",
      "\n",
      "TITLE\n",
      "GAUSSIAN_CUBE_DATA\n",
      "\n",
      "IMPORT_DENSITY 1\n",
      "+1.000000 mgo.cube\n",
      "\n"
     ]
    }
   ],
   "source": [
    "from aiida.common.folders import SandboxFolder\n",
    "from aiida_crystal17.parsers.raw.gcube_to_vesta import (\n",
    "    create_vesta_input, write_vesta_files)\n",
    "\n",
    "settings = {\n",
    "    \"2d_display\": {\n",
    "        \"h\": 1.0,\n",
    "        \"k\": -1.0,\n",
    "        \"l\": 0.0,\n",
    "        \"dist_from_o\": 0.0\n",
    "    }\n",
    "}\n",
    "\n",
    "with SandboxFolder() as folder:\n",
    "        write_vesta_files(\n",
    "            calcnode.outputs.charge, \n",
    "            folder.abspath, 'mgo', settings)\n",
    "        print(folder.get_content_list())\n",
    "        with folder.open('mgo.vesta') as handle:\n",
    "            print(handle.read()[:100])"
   ]
  },
  {
   "cell_type": "markdown",
   "metadata": {},
   "source": [
    "![VESTA 3D Density Visualisation](vesta_screenshots/main.png)"
   ]
  },
  {
   "cell_type": "markdown",
   "metadata": {},
   "source": [
    "![VESTA 2D Density Visualisation](vesta_screenshots/2d_display.png)"
   ]
  }
 ],
 "metadata": {
  "celltoolbar": "Edit Metadata",
  "hide_input": false,
  "kernelspec": {
   "display_name": "Python 3",
   "language": "python",
   "name": "python3"
  },
  "language_info": {
   "codemirror_mode": {
    "name": "ipython",
    "version": 3
   },
   "file_extension": ".py",
   "mimetype": "text/x-python",
   "name": "python",
   "nbconvert_exporter": "python",
   "pygments_lexer": "ipython3",
   "version": "3.6.7"
  },
  "toc": {
   "base_numbering": 1,
   "nav_menu": {},
   "number_sections": true,
   "sideBar": true,
   "skip_h1_title": false,
   "title_cell": "Table of Contents",
   "title_sidebar": "Contents",
   "toc_cell": false,
   "toc_position": {},
   "toc_section_display": true,
   "toc_window_display": false
  }
 },
 "nbformat": 4,
 "nbformat_minor": 2
}
