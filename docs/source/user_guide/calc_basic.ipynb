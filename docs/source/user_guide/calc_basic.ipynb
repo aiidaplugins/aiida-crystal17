{
 "cells": [
  {
   "cell_type": "markdown",
   "metadata": {},
   "source": [
    "# Basic Calculation"
   ]
  },
  {
   "cell_type": "markdown",
   "metadata": {},
   "source": [
    "The `crystal17.basic` plugin is the simplest calculation plugin.\n",
    "It accepts as input:\n",
    "\n",
    "- a pre-written `main.d12` file and,\n",
    "- (optionally) a `main.gui` file with geometry,\n",
    "  to accompany a `main.d12` file containing the `EXTERNAL` keyword."
   ]
  },
  {
   "cell_type": "markdown",
   "metadata": {},
   "source": [
    "## Initial Setup"
   ]
  },
  {
   "cell_type": "markdown",
   "metadata": {},
   "source": [
    "To run a computation, first ensure AiiDA is running:"
   ]
  },
  {
   "cell_type": "code",
   "execution_count": 1,
   "metadata": {},
   "outputs": [
    {
     "name": "stdout",
     "output_type": "stream",
     "text": [
      "\u001b[32m ✓ \u001b[0mprofile:     On profile test_profile\u001b[0m\n",
      "\u001b[32m ✓ \u001b[0mrepository:  /var/folders/dm/b2qnkb_n3r72slmpxlfmcjvm00lbnd/T/tmpwmy23te7/test_repo\u001b[0m\n",
      "\u001b[32m ✓ \u001b[0mpostgres:    Connected as aiida@localhost:55774\u001b[0m\n",
      "\u001b[32m ✓ \u001b[0mrabbitmq:    Connected to amqp://127.0.0.1?heartbeat=600\u001b[0m\n",
      "\u001b[32m ✓ \u001b[0mdaemon:      Daemon is running as PID 60765 since 2019-08-06 20:43:17\u001b[0m\n"
     ]
    }
   ],
   "source": [
    "!verdi status"
   ]
  },
  {
   "cell_type": "markdown",
   "metadata": {},
   "source": [
    ".. seealso::\n",
    "\n",
    "    AiiDA documentation: :ref:`aiida:quick_installation`"
   ]
  },
  {
   "cell_type": "markdown",
   "metadata": {},
   "source": [
    "If `aiida-crystal17` is installed,\n",
    "the `crystal17.basic` computation should be available:"
   ]
  },
  {
   "cell_type": "code",
   "execution_count": 2,
   "metadata": {
    "tags": [
     "nbreg_compare_output"
    ]
   },
   "outputs": [
    {
     "name": "stdout",
     "output_type": "stream",
     "text": [
      "\u001b[31m\u001b[1mInputs\u001b[0m\n",
      "\u001b[1m            code:  required  Code            The Code to use for this job.\u001b[0m\n",
      "\u001b[1m      input_file:  required  SinglefileData  the input .d12 file content.\u001b[0m\n",
      "  input_external:  optional  SinglefileData  optional input fort.34 (gui) file content (for use with EXTERNAL keyword).\u001b[0m\n",
      "        metadata:  optional                  \u001b[0m\n",
      "\u001b[31m\u001b[1mOutputs\u001b[0m\n",
      "\u001b[1m   remote_folder:  required  RemoteData      Input files necessary to run the process will be stored in this folder node ...\u001b[0m\n",
      "\u001b[1m         results:  required  Dict            the data extracted from the main output file\u001b[0m\n",
      "\u001b[1m       retrieved:  required  FolderData      Files that are retrieved by the daemon will be stored in this node. By defa ...\u001b[0m\n",
      "       structure:  optional  StructureData   the structure output from the calculation\u001b[0m\n",
      "        symmetry:  optional  SymmetryData    the symmetry data from the calculation\u001b[0m\n",
      "\u001b[31m\u001b[1mExit codes\u001b[0m\n",
      "               1:  The process has failed with an unspecified error.\u001b[0m\n",
      "               2:  The process failed with legacy failure mode.\u001b[0m\n",
      "              10:  The process returned an invalid output.\u001b[0m\n",
      "              11:  The process did not register a required output.\u001b[0m\n",
      "             200:  The retrieved folder data node could not be accessed.\u001b[0m\n",
      "             210:  The main (stdout) output file was not found\u001b[0m\n",
      "             211:  The temporary retrieved folder was not found\u001b[0m\n",
      "             300:  An error was flagged trying to parse the crystal exec stdout file\u001b[0m\n",
      "             301:  An error occurred parsing the 'opta'/'optc' geometry files\u001b[0m\n",
      "             302:  The crystal exec stdout file denoted that the run was a testgeom\u001b[0m\n",
      "             350:  The input file could not be read by crystal\u001b[0m\n",
      "             351:  Crystal could not find the required wavefunction file\u001b[0m\n",
      "             400:  The calculation stopped prematurely because it ran out of walltime.\u001b[0m\n",
      "             401:  The calculation stopped prematurely because it ran out of memory.\u001b[0m\n",
      "             402:  The calculation stopped prematurely because it ran out of virtual memory.\u001b[0m\n",
      "             411:  Scf convergence did not finalise (usually due to reaching step limit)\u001b[0m\n",
      "             412:  Geometry convergence did not finalise (usually due to reaching step limit)\u001b[0m\n",
      "             413:  An error encountered usually during geometry optimisation\u001b[0m\n",
      "             414:  An error was encountered during an scf computation\u001b[0m\n",
      "             415:  An unknown error was encountered, causing the mpi to abort\u001b[0m\n",
      "             499:  The main crystal output file flagged an unhandled error\u001b[0m\n",
      "             510:  Inconsistency in the input and output symmetry\u001b[0m\n",
      "             520:  Primitive symmops were not found in the output file\u001b[0m\n"
     ]
    }
   ],
   "source": [
    "!verdi plugin list aiida.calculations crystal17.basic"
   ]
  },
  {
   "cell_type": "markdown",
   "metadata": {},
   "source": [
    "To use the python interface, first ensure a profile is loaded in the python kernel, and import the required modules:"
   ]
  },
  {
   "cell_type": "code",
   "execution_count": 1,
   "metadata": {
    "init_cell": true
   },
   "outputs": [
    {
     "data": {
      "text/plain": [
       "'test_crystal17'"
      ]
     },
     "execution_count": 1,
     "metadata": {},
     "output_type": "execute_result"
    }
   ],
   "source": [
    "from aiida import load_profile\n",
    "profile = load_profile()\n",
    "profile.name"
   ]
  },
  {
   "cell_type": "code",
   "execution_count": 2,
   "metadata": {
    "init_cell": true
   },
   "outputs": [],
   "source": [
    "import os\n",
    "from aiida_crystal17.common import display_json\n",
    "from aiida_crystal17.tests import open_resource_binary\n",
    "from aiida.orm import Code\n",
    "from aiida.engine import run_get_node\n",
    "from aiida.plugins import DataFactory"
   ]
  },
  {
   "cell_type": "markdown",
   "metadata": {},
   "source": [
    "## Input Creation"
   ]
  },
  {
   "cell_type": "markdown",
   "metadata": {},
   "source": [
    ".. seealso::\n",
    "\n",
    "    AiiDA documentation: :ref:`aiida:setup_code`\n",
    "    \n",
    "    [CRYSTAL17 Manual](http://www.crystal.unito.it/Manuals/crystal17.pdf)"
   ]
  },
  {
   "cell_type": "markdown",
   "metadata": {},
   "source": [
    "An :py:class:`~aiida.orm.nodes.data.code.Code` node should be set up in advance,\n",
    "to use the `crystal17.basic` calculation plugin,\n",
    "and call the ``runcry17`` executable\n",
    "(or ``mock_runcry17`` used here for test purposes)."
   ]
  },
  {
   "cell_type": "code",
   "execution_count": 5,
   "metadata": {},
   "outputs": [
    {
     "data": {
      "text/plain": [
       "[['PK', 1],\n",
       " ['UUID', '257d835a-5cae-44da-8d93-5a39a81510d0'],\n",
       " ['Label', 'crystal17.basic-mock_crystal17@localhost'],\n",
       " ['Description', ''],\n",
       " ['Default plugin', 'crystal17.basic'],\n",
       " ['Type', 'remote'],\n",
       " ['Remote machine', 'localhost'],\n",
       " ['Remote absolute path',\n",
       "  '//anaconda/envs/aiida_crystal17/bin/mock_crystal17'],\n",
       " ['Prepend text', 'No prepend text'],\n",
       " ['Append text', 'No append text']]"
      ]
     },
     "execution_count": 5,
     "metadata": {},
     "output_type": "execute_result"
    }
   ],
   "source": [
    "from aiida_crystal17.tests.utils import get_or_create_local_computer, get_or_create_code\n",
    "computer = get_or_create_local_computer('work_directory', 'localhost')\n",
    "code = get_or_create_code('crystal17.basic', computer, 'mock_crystal17')\n",
    "code.get_full_text_info()"
   ]
  },
  {
   "cell_type": "markdown",
   "metadata": {},
   "source": [
    "An :py:class:`~aiida.orm.nodes.data.singlefile.SinglefileData` node is then set containing the main input file."
   ]
  },
  {
   "cell_type": "code",
   "execution_count": 6,
   "metadata": {},
   "outputs": [
    {
     "name": "stdout",
     "output_type": "stream",
     "text": [
      "MgO bulk\n",
      "CRYSTAL\n",
      "0 0 0\n",
      " 225\n",
      "4.21\n",
      "2\n",
      " 12 0.    0.    0.\n",
      "  8 0.5   0.5   0.5\n",
      "END\n",
      "12 3\n",
      "1 0 3  2.  0.\n",
      "1 1 3  8.  0.\n",
      "1 1 3  2.  0.\n",
      "8 2\n",
      "1 0 3  2.  0.\n",
      "1 1 3  6.  0.\n",
      "99   0\n",
      "END\n",
      "SHRINK\n",
      "8 8\n",
      "END\n"
     ]
    }
   ],
   "source": [
    "SinglefileData = DataFactory('singlefile')\n",
    "with open_resource_binary('crystal', 'mgo_sto3g_scf', 'INPUT') as handle:\n",
    "   infile = SinglefileData(file=handle)\n",
    "\n",
    "with infile.open() as handle:\n",
    "    print(handle.read())"
   ]
  },
  {
   "cell_type": "markdown",
   "metadata": {},
   "source": [
    "## Setting Up and Running the Calculation"
   ]
  },
  {
   "cell_type": "markdown",
   "metadata": {},
   "source": [
    ".. seealso::\n",
    "\n",
    "    AiiDA documentation: :ref:`aiida:working_processes`"
   ]
  },
  {
   "cell_type": "markdown",
   "metadata": {},
   "source": [
    "A builder can be obtained from the `Code` node,\n",
    "which will define all the required input nodes and settings:"
   ]
  },
  {
   "cell_type": "code",
   "execution_count": 7,
   "metadata": {},
   "outputs": [
    {
     "data": {
      "text/markdown": [
       "```json\n",
       "{\n",
       "  \"metadata\": {\n",
       "    \"options\": {\n",
       "      \"withmpi\": false,\n",
       "      \"resources\": {\n",
       "        \"num_machines\": 1,\n",
       "        \"num_mpiprocs_per_machine\": 1\n",
       "      }\n",
       "    }\n",
       "  },\n",
       "  \"code\": [\n",
       "    \"Remote code 'crystal17.basic-mock_crystal17@localhost' on localhost,\",\n",
       "    \"pk: 1, uuid: 257d835a-5cae-44da-8d93-5a39a81510d0\"\n",
       "  ],\n",
       "  \"input_file\": [\n",
       "    \"uuid: 8f9df231-3177-486b-9d2b-10909747fcb6 (unstored)\"\n",
       "  ]\n",
       "}\n",
       "```"
      ]
     },
     "metadata": {},
     "output_type": "display_data"
    }
   ],
   "source": [
    "builder = code.get_builder()\n",
    "builder.metadata.options.withmpi = False\n",
    "builder.metadata.options.resources = {\n",
    "    \"num_machines\": 1, \n",
    "    \"num_mpiprocs_per_machine\": 1}\n",
    "builder.input_file = infile\n",
    "display_json(builder)"
   ]
  },
  {
   "cell_type": "markdown",
   "metadata": {},
   "source": [
    "In order to run the computation,\n",
    "the builder can be parsed to one of the AiiDA ``run`` (blocking execution) or ``submit`` (non-blocking execution) functions:"
   ]
  },
  {
   "cell_type": "code",
   "execution_count": 8,
   "metadata": {},
   "outputs": [],
   "source": [
    "result, calcnode = run_get_node(builder)"
   ]
  },
  {
   "cell_type": "markdown",
   "metadata": {},
   "source": [
    "The process can be monitored on the command line:"
   ]
  },
  {
   "cell_type": "code",
   "execution_count": 9,
   "metadata": {},
   "outputs": [
    {
     "name": "stdout",
     "output_type": "stream",
     "text": [
      "\u001b[22m  PK  Created    Process label        Process State    Process status\n",
      "----  ---------  -------------------  ---------------  ----------------\n",
      "   3  16s ago    CryBasicCalculation  ⏹ Finished [0]\u001b[0m\n",
      "\u001b[22m\n",
      "Total results: 1\n",
      "\u001b[0m\n",
      "\u001b[34m\u001b[1mInfo: \u001b[0m\u001b[22mlast time an entry changed state: 3s ago (at 19:43:40 on 2019-08-06)\u001b[0m\n"
     ]
    }
   ],
   "source": [
    "!verdi process list -a -l 1 -D desc"
   ]
  },
  {
   "cell_type": "markdown",
   "metadata": {},
   "source": [
    "Once the calculation is complete, a ``CalcJobNode`` will be created,\n",
    "to store the settings and outcome of the computation.\n",
    "Crucially, if the computation has completed successfully,\n",
    "the `exit_status` will be **0**. \n",
    "\n",
    "This can be assessed on the command line or with the python API."
   ]
  },
  {
   "cell_type": "code",
   "execution_count": 10,
   "metadata": {},
   "outputs": [
    {
     "name": "stdout",
     "output_type": "stream",
     "text": [
      "\u001b[22mProperty       Value\n",
      "-------------  ------------------------------------\n",
      "type           CalcJobNode\n",
      "pk             3\n",
      "uuid           1bb02f0c-16ab-44cb-944a-615ef6de67bc\n",
      "label\n",
      "description\n",
      "ctime          2019-08-06 19:43:26.643647+00:00\n",
      "mtime          2019-08-06 19:43:40.222384+00:00\n",
      "process state  Finished\n",
      "exit status    0\n",
      "computer       [1] localhost\n",
      "\n",
      "Inputs        PK  Type\n",
      "----------  ----  --------------\n",
      "code           1  Code\n",
      "input_file     2  SinglefileData\n",
      "\n",
      "Outputs          PK  Type\n",
      "-------------  ----  -------------\n",
      "remote_folder     4  RemoteData\n",
      "results           6  Dict\n",
      "retrieved         5  FolderData\n",
      "structure         7  StructureData\n",
      "symmetry          8  SymmetryData\u001b[0m\n"
     ]
    }
   ],
   "source": [
    "!verdi process show {calcnode.pk}"
   ]
  },
  {
   "cell_type": "code",
   "execution_count": 11,
   "metadata": {
    "tags": [
     "nbreg_compare_output"
    ]
   },
   "outputs": [
    {
     "name": "stdout",
     "output_type": "stream",
     "text": [
      "True\n",
      "ProcessState.FINISHED\n",
      "0\n"
     ]
    }
   ],
   "source": [
    "print(calcnode.is_finished_ok)\n",
    "print(calcnode.process_state)\n",
    "print(calcnode.exit_status)"
   ]
  },
  {
   "cell_type": "markdown",
   "metadata": {},
   "source": [
    "If the calculation fails, there are three things that should be checked:\n",
    "\n",
    "1. The calculation's exit_message\n",
    "2. The calculation's log messages and scheduler output\n",
    "3. The `results` output node (if available)"
   ]
  },
  {
   "cell_type": "code",
   "execution_count": 12,
   "metadata": {},
   "outputs": [
    {
     "name": "stdout",
     "output_type": "stream",
     "text": [
      "Exit Message: None\n",
      "*** 3: None\n",
      "*** (empty scheduler output file)\n",
      "*** (empty scheduler errors file)\n",
      "*** 0 LOG MESSAGES\n"
     ]
    }
   ],
   "source": [
    "print(\"Exit Message:\", calcnode.exit_message)\n",
    "from aiida.cmdline.utils.common import get_calcjob_report\n",
    "print(get_calcjob_report(calcnode))"
   ]
  },
  {
   "cell_type": "code",
   "execution_count": 13,
   "metadata": {},
   "outputs": [
    {
     "name": "stdout",
     "output_type": "stream",
     "text": [
      "\u001b[22m*** 3: None\n",
      "*** (empty scheduler output file)\n",
      "*** (empty scheduler errors file)\n",
      "*** 0 LOG MESSAGES\u001b[0m\n"
     ]
    }
   ],
   "source": [
    "!verdi process report {calcnode.pk}"
   ]
  },
  {
   "cell_type": "markdown",
   "metadata": {},
   "source": [
    "##  Analysis of Outputs"
   ]
  },
  {
   "cell_type": "markdown",
   "metadata": {},
   "source": [
    "The :py:class:`aiida.tools.visualization.graph.Graph` can be used to visualise the calculations provenance graph:"
   ]
  },
  {
   "cell_type": "code",
   "execution_count": 14,
   "metadata": {
    "ipub": {
     "figure": {
      "caption": "`crystal17.basic` calculation provenance graph."
     }
    }
   },
   "outputs": [
    {
     "data": {
      "image/svg+xml": [
       "<?xml version=\"1.0\" encoding=\"UTF-8\" standalone=\"no\"?>\n",
       "<!DOCTYPE svg PUBLIC \"-//W3C//DTD SVG 1.1//EN\"\n",
       " \"http://www.w3.org/Graphics/SVG/1.1/DTD/svg11.dtd\">\n",
       "<!-- Generated by graphviz version 2.40.1 (20161225.0304)\n",
       " -->\n",
       "<!-- Title: %3 Pages: 1 -->\n",
       "<svg width=\"432pt\" height=\"163pt\"\n",
       " viewBox=\"0.00 0.00 432.00 162.76\" xmlns=\"http://www.w3.org/2000/svg\" xmlns:xlink=\"http://www.w3.org/1999/xlink\">\n",
       "<g id=\"graph0\" class=\"graph\" transform=\"scale(.5355 .5355) rotate(0) translate(4 299.9117)\">\n",
       "<title>%3</title>\n",
       "<polygon fill=\"#ffffff\" stroke=\"transparent\" points=\"-4,4 -4,-299.9117 802.6533,-299.9117 802.6533,4 -4,4\"/>\n",
       "<!-- N3 -->\n",
       "<g id=\"node1\" class=\"node\">\n",
       "<title>N3</title>\n",
       "<polygon fill=\"#de707f\" stroke=\"#000000\" stroke-width=\"0\" points=\"513.0599,-165.4558 360.1268,-165.4558 360.1268,-115.4558 513.0599,-115.4558 513.0599,-165.4558\"/>\n",
       "<text text-anchor=\"middle\" x=\"436.5933\" y=\"-150.2558\" font-family=\"Times,serif\" font-size=\"14.00\" fill=\"#000000\">CryBasicCalculation (3)</text>\n",
       "<text text-anchor=\"middle\" x=\"436.5933\" y=\"-136.2558\" font-family=\"Times,serif\" font-size=\"14.00\" fill=\"#000000\">State: finished</text>\n",
       "<text text-anchor=\"middle\" x=\"436.5933\" y=\"-122.2558\" font-family=\"Times,serif\" font-size=\"14.00\" fill=\"#000000\">Exit Code: 0</text>\n",
       "</g>\n",
       "<!-- N8 -->\n",
       "<g id=\"node4\" class=\"node\">\n",
       "<title>N8</title>\n",
       "<ellipse fill=\"#8cd499\" stroke=\"#000000\" stroke-width=\"0\" cx=\"713.3882\" cy=\"-270.4558\" rx=\"85.0308\" ry=\"25.4118\"/>\n",
       "<text text-anchor=\"middle\" x=\"713.3882\" y=\"-273.2558\" font-family=\"Times,serif\" font-size=\"14.00\" fill=\"#000000\">SymmetryData (8)</text>\n",
       "<text text-anchor=\"middle\" x=\"713.3882\" y=\"-259.2558\" font-family=\"Times,serif\" font-size=\"14.00\" fill=\"#000000\">symmops: 48</text>\n",
       "</g>\n",
       "<!-- N3&#45;&gt;N8 -->\n",
       "<g id=\"edge3\" class=\"edge\">\n",
       "<title>N3&#45;&gt;N8</title>\n",
       "<path fill=\"none\" stroke=\"#000000\" d=\"M460.8968,-165.4582C478.7996,-182.5793 504.5154,-204.6087 530.8263,-218.4558 561.7483,-234.7298 598.3738,-246.4434 630.6735,-254.5826\"/>\n",
       "<polygon fill=\"#000000\" stroke=\"#000000\" points=\"630.0026,-258.0216 640.5476,-256.9949 631.664,-251.2216 630.0026,-258.0216\"/>\n",
       "<text text-anchor=\"middle\" x=\"570.4747\" y=\"-265.2558\" font-family=\"Times,serif\" font-size=\"14.00\" fill=\"#000000\">CREATE</text>\n",
       "<text text-anchor=\"middle\" x=\"570.4747\" y=\"-251.2558\" font-family=\"Times,serif\" font-size=\"14.00\" fill=\"#000000\">symmetry</text>\n",
       "</g>\n",
       "<!-- N7 -->\n",
       "<g id=\"node5\" class=\"node\">\n",
       "<title>N7</title>\n",
       "<ellipse fill=\"#8cd499\" stroke=\"#000000\" stroke-width=\"0\" cx=\"713.3882\" cy=\"-201.4558\" rx=\"80.1118\" ry=\"25.4118\"/>\n",
       "<text text-anchor=\"middle\" x=\"713.3882\" y=\"-204.2558\" font-family=\"Times,serif\" font-size=\"14.00\" fill=\"#000000\">StructureData (7)</text>\n",
       "<text text-anchor=\"middle\" x=\"713.3882\" y=\"-190.2558\" font-family=\"Times,serif\" font-size=\"14.00\" fill=\"#000000\">MgO</text>\n",
       "</g>\n",
       "<!-- N3&#45;&gt;N7 -->\n",
       "<g id=\"edge4\" class=\"edge\">\n",
       "<title>N3&#45;&gt;N7</title>\n",
       "<path fill=\"none\" stroke=\"#000000\" d=\"M505.9283,-165.4802C514.2572,-168.046 522.6918,-170.4441 530.8263,-172.4558 562.1745,-180.2087 597.0849,-186.3474 627.9138,-190.9429\"/>\n",
       "<polygon fill=\"#000000\" stroke=\"#000000\" points=\"627.801,-194.4634 638.2013,-192.4424 628.8107,-187.5366 627.801,-194.4634\"/>\n",
       "<text text-anchor=\"middle\" x=\"570.4747\" y=\"-203.2558\" font-family=\"Times,serif\" font-size=\"14.00\" fill=\"#000000\">CREATE</text>\n",
       "<text text-anchor=\"middle\" x=\"570.4747\" y=\"-189.2558\" font-family=\"Times,serif\" font-size=\"14.00\" fill=\"#000000\">structure</text>\n",
       "</g>\n",
       "<!-- N6 -->\n",
       "<g id=\"node6\" class=\"node\">\n",
       "<title>N6</title>\n",
       "<ellipse fill=\"#8cd499\" stroke=\"#000000\" stroke-width=\"0\" cx=\"713.3882\" cy=\"-140.4558\" rx=\"37.7104\" ry=\"18\"/>\n",
       "<text text-anchor=\"middle\" x=\"713.3882\" y=\"-136.2558\" font-family=\"Times,serif\" font-size=\"14.00\" fill=\"#000000\">Dict (6)</text>\n",
       "</g>\n",
       "<!-- N3&#45;&gt;N6 -->\n",
       "<g id=\"edge5\" class=\"edge\">\n",
       "<title>N3&#45;&gt;N6</title>\n",
       "<path fill=\"none\" stroke=\"#000000\" d=\"M512.9615,-140.4558C561.6422,-140.4558 623.2329,-140.4558 665.2054,-140.4558\"/>\n",
       "<polygon fill=\"#000000\" stroke=\"#000000\" points=\"665.434,-143.9559 675.4339,-140.4558 665.4339,-136.9559 665.434,-143.9559\"/>\n",
       "<text text-anchor=\"middle\" x=\"570.4747\" y=\"-157.2558\" font-family=\"Times,serif\" font-size=\"14.00\" fill=\"#000000\">CREATE</text>\n",
       "<text text-anchor=\"middle\" x=\"570.4747\" y=\"-143.2558\" font-family=\"Times,serif\" font-size=\"14.00\" fill=\"#000000\">results</text>\n",
       "</g>\n",
       "<!-- N5 -->\n",
       "<g id=\"node7\" class=\"node\">\n",
       "<title>N5</title>\n",
       "<ellipse fill=\"#8cd499\" stroke=\"#000000\" stroke-width=\"0\" cx=\"713.3882\" cy=\"-86.4558\" rx=\"62.324\" ry=\"18\"/>\n",
       "<text text-anchor=\"middle\" x=\"713.3882\" y=\"-82.2558\" font-family=\"Times,serif\" font-size=\"14.00\" fill=\"#000000\">FolderData (5)</text>\n",
       "</g>\n",
       "<!-- N3&#45;&gt;N5 -->\n",
       "<g id=\"edge6\" class=\"edge\">\n",
       "<title>N3&#45;&gt;N5</title>\n",
       "<path fill=\"none\" stroke=\"#000000\" d=\"M504.8253,-115.4411C513.5003,-112.8079 522.3184,-110.391 530.8263,-108.4558 567.077,-100.2105 608.1246,-94.9143 642.1036,-91.5903\"/>\n",
       "<polygon fill=\"#000000\" stroke=\"#000000\" points=\"642.7805,-95.0421 652.4087,-90.6209 642.1249,-88.0729 642.7805,-95.0421\"/>\n",
       "<text text-anchor=\"middle\" x=\"570.4747\" y=\"-125.2558\" font-family=\"Times,serif\" font-size=\"14.00\" fill=\"#000000\">CREATE</text>\n",
       "<text text-anchor=\"middle\" x=\"570.4747\" y=\"-111.2558\" font-family=\"Times,serif\" font-size=\"14.00\" fill=\"#000000\">retrieved</text>\n",
       "</g>\n",
       "<!-- N4 -->\n",
       "<g id=\"node8\" class=\"node\">\n",
       "<title>N4</title>\n",
       "<ellipse fill=\"#8cd499\" stroke=\"#000000\" stroke-width=\"0\" cx=\"713.3882\" cy=\"-25.4558\" rx=\"74.6199\" ry=\"25.4118\"/>\n",
       "<text text-anchor=\"middle\" x=\"713.3882\" y=\"-28.2558\" font-family=\"Times,serif\" font-size=\"14.00\" fill=\"#000000\">RemoteData (4)</text>\n",
       "<text text-anchor=\"middle\" x=\"713.3882\" y=\"-14.2558\" font-family=\"Times,serif\" font-size=\"14.00\" fill=\"#000000\">@localhost</text>\n",
       "</g>\n",
       "<!-- N3&#45;&gt;N4 -->\n",
       "<g id=\"edge7\" class=\"edge\">\n",
       "<title>N3&#45;&gt;N4</title>\n",
       "<path fill=\"none\" stroke=\"#000000\" d=\"M461.124,-115.2156C478.937,-98.3466 504.4517,-77.0204 530.8263,-64.4558 562.1155,-49.55 599.1201,-40.292 631.6054,-34.5643\"/>\n",
       "<polygon fill=\"#000000\" stroke=\"#000000\" points=\"632.2483,-38.0054 641.5306,-32.8977 631.0891,-31.102 632.2483,-38.0054\"/>\n",
       "<text text-anchor=\"middle\" x=\"570.4747\" y=\"-81.2558\" font-family=\"Times,serif\" font-size=\"14.00\" fill=\"#000000\">CREATE</text>\n",
       "<text text-anchor=\"middle\" x=\"570.4747\" y=\"-67.2558\" font-family=\"Times,serif\" font-size=\"14.00\" fill=\"#000000\">remote_folder</text>\n",
       "</g>\n",
       "<!-- N2 -->\n",
       "<g id=\"node2\" class=\"node\">\n",
       "<title>N2</title>\n",
       "<ellipse fill=\"#8cd499\" stroke=\"#000000\" stroke-width=\"0\" cx=\"119.4009\" cy=\"-175.4558\" rx=\"81.9369\" ry=\"25.4118\"/>\n",
       "<text text-anchor=\"middle\" x=\"119.4009\" y=\"-178.2558\" font-family=\"Times,serif\" font-size=\"14.00\" fill=\"#000000\">SinglefileData (2)</text>\n",
       "<text text-anchor=\"middle\" x=\"119.4009\" y=\"-164.2558\" font-family=\"Times,serif\" font-size=\"14.00\" fill=\"#000000\">INPUT</text>\n",
       "</g>\n",
       "<!-- N2&#45;&gt;N3 -->\n",
       "<g id=\"edge1\" class=\"edge\">\n",
       "<title>N2&#45;&gt;N3</title>\n",
       "<path fill=\"none\" stroke=\"#000000\" d=\"M198.4189,-168.4102C241.0894,-164.4162 294.6561,-159.0978 342.3604,-153.4558 344.9076,-153.1546 347.4926,-152.842 350.1014,-152.5207\"/>\n",
       "<polygon fill=\"#000000\" stroke=\"#000000\" points=\"350.7679,-155.9645 360.2523,-151.2427 349.8934,-149.0193 350.7679,-155.9645\"/>\n",
       "<text text-anchor=\"middle\" x=\"299.5811\" y=\"-178.2558\" font-family=\"Times,serif\" font-size=\"14.00\" fill=\"#000000\">INPUT_CALC</text>\n",
       "<text text-anchor=\"middle\" x=\"299.5811\" y=\"-164.2558\" font-family=\"Times,serif\" font-size=\"14.00\" fill=\"#000000\">input_file</text>\n",
       "</g>\n",
       "<!-- N1 -->\n",
       "<g id=\"node3\" class=\"node\">\n",
       "<title>N1</title>\n",
       "<ellipse fill=\"#4ca4b9\" fill-opacity=\"0.666667\" stroke=\"#000000\" stroke-width=\"0\" cx=\"119.4009\" cy=\"-106.4558\" rx=\"119.3019\" ry=\"25.4118\"/>\n",
       "<text text-anchor=\"middle\" x=\"119.4009\" y=\"-109.2558\" font-family=\"Times,serif\" font-size=\"14.00\" fill=\"#000000\">Code (1)</text>\n",
       "<text text-anchor=\"middle\" x=\"119.4009\" y=\"-95.2558\" font-family=\"Times,serif\" font-size=\"14.00\" fill=\"#000000\">mock_crystal17@localhost</text>\n",
       "</g>\n",
       "<!-- N1&#45;&gt;N3 -->\n",
       "<g id=\"edge2\" class=\"edge\">\n",
       "<title>N1&#45;&gt;N3</title>\n",
       "<path fill=\"none\" stroke=\"#000000\" d=\"M232.705,-114.5037C267.8989,-117.4349 306.7866,-121.1146 342.3604,-125.4558 344.9144,-125.7675 347.5053,-126.0966 350.1192,-126.4398\"/>\n",
       "<polygon fill=\"#000000\" stroke=\"#000000\" points=\"349.9052,-129.9429 360.2866,-127.8267 350.8514,-123.0071 349.9052,-129.9429\"/>\n",
       "<text text-anchor=\"middle\" x=\"299.5811\" y=\"-142.2558\" font-family=\"Times,serif\" font-size=\"14.00\" fill=\"#000000\">INPUT_CALC</text>\n",
       "<text text-anchor=\"middle\" x=\"299.5811\" y=\"-128.2558\" font-family=\"Times,serif\" font-size=\"14.00\" fill=\"#000000\">code</text>\n",
       "</g>\n",
       "</g>\n",
       "</svg>\n"
      ],
      "text/plain": [
       "<graphviz.dot.Digraph at 0x11386fbe0>"
      ]
     },
     "execution_count": 14,
     "metadata": {},
     "output_type": "execute_result"
    }
   ],
   "source": [
    "from aiida.tools.visualization import Graph\n",
    "graph = Graph(graph_attr={'size': \"6,8!\", \"rankdir\": \"LR\"})\n",
    "graph.add_node(calcnode)\n",
    "graph.add_incoming(calcnode, annotate_links=\"both\")\n",
    "graph.add_outgoing(calcnode, annotate_links=\"both\")\n",
    "graph.graphviz"
   ]
  },
  {
   "cell_type": "markdown",
   "metadata": {},
   "source": [
    "The `retrieved` `FolderData` output node contains the CRYSTAL17 main output file."
   ]
  },
  {
   "cell_type": "code",
   "execution_count": 15,
   "metadata": {},
   "outputs": [
    {
     "data": {
      "text/plain": [
       "['_scheduler-stderr.txt', '_scheduler-stdout.txt', 'main.out']"
      ]
     },
     "execution_count": 15,
     "metadata": {},
     "output_type": "execute_result"
    }
   ],
   "source": [
    "calcnode.outputs.retrieved.list_object_names()"
   ]
  },
  {
   "cell_type": "markdown",
   "metadata": {},
   "source": [
    "The `results` `Dict` output node contains key values extracted from the CRYSTAL17 main output file."
   ]
  },
  {
   "cell_type": "code",
   "execution_count": 16,
   "metadata": {},
   "outputs": [
    {
     "data": {
      "text/markdown": [
       "```json\n",
       "{\n",
       "  \"units\": {\n",
       "    \"angle\": \"degrees\",\n",
       "    \"energy\": \"eV\",\n",
       "    \"length\": \"angstrom\",\n",
       "    \"conversion\": \"CODATA2014\"\n",
       "  },\n",
       "  \"energy\": -7380.2216051903,\n",
       "  \"errors\": [],\n",
       "  \"header\": {\n",
       "    \"crystal_version\": 17,\n",
       "    \"crystal_subversion\": \"1.0.1\"\n",
       "  },\n",
       "  \"volume\": 18.65461525,\n",
       "  \"warnings\": [],\n",
       "  \"calculation\": {\n",
       "    \"n_ao\": 14,\n",
       "    \"spin\": false,\n",
       "    \"type\": \"restricted closed shell\",\n",
       "    \"n_atoms\": 2,\n",
       "    \"n_shells\": 5,\n",
       "    \"n_symops\": 48,\n",
       "    \"n_core_el\": 12,\n",
       "    \"n_electrons\": 20,\n",
       "    \"n_kpoints_ibz\": 29,\n",
       "    \"n_kpoints_gilat\": 29\n",
       "  },\n",
       "  \"energy_units\": \"eV\",\n",
       "  \"parser_class\": \"CryMainParser\",\n",
       "  \"parser_errors\": [],\n",
       "  \"parser_version\": \"0.10.0b5\",\n",
       "  \"scf_iterations\": 7,\n",
       "  \"number_of_atoms\": 2,\n",
       "  \"parser_warnings\": [\n",
       "    \"no initial structure available, creating new kinds for atoms\"\n",
       "  ],\n",
       "  \"parser_exceptions\": [],\n",
       "  \"number_of_assymetric\": 2,\n",
       "  \"execution_time_seconds\": 3\n",
       "}\n",
       "```"
      ]
     },
     "metadata": {},
     "output_type": "display_data"
    }
   ],
   "source": [
    "display_json(calcnode.outputs.results.attributes)"
   ]
  },
  {
   "cell_type": "markdown",
   "metadata": {},
   "source": [
    "The `structure` `StructureData` output node contains the final structure,\n",
    "obtained from the CRYSTAL17 main output file."
   ]
  },
  {
   "cell_type": "code",
   "execution_count": 17,
   "metadata": {
    "ipub": {
     "figure": {
      "caption": "Structure visualisation, using ASE and Matplotlib."
     }
    }
   },
   "outputs": [
    {
     "data": {
      "image/png": "[encoded data removed]",
      "text/plain": [
       "<Figure size 432x288 with 1 Axes>"
      ]
     },
     "metadata": {
      "needs_background": "light"
     },
     "output_type": "display_data"
    }
   ],
   "source": [
    "%matplotlib inline\n",
    "import matplotlib.pyplot as plt\n",
    "from ase.visualize.plot import plot_atoms\n",
    "atoms = calcnode.outputs.structure.get_ase()\n",
    "fig, ax = plt.subplots()\n",
    "plot_atoms(atoms.repeat((4,4,4)), \n",
    "           ax, radii=0.8, show_unit_cell=True, \n",
    "           rotation=('45x,0y,0z'));"
   ]
  },
  {
   "cell_type": "markdown",
   "metadata": {},
   "source": [
    "The `symmetry` `SymmetryData` output node contains the symmetry of the final structure,\n",
    "obtained from the CRYSTAL17 main output file."
   ]
  },
  {
   "cell_type": "code",
   "execution_count": 18,
   "metadata": {},
   "outputs": [
    {
     "name": "stdout",
     "output_type": "stream",
     "text": [
      "{'basis': 'fractional', 'num_symops': 48, 'hall_number': None}\n"
     ]
    },
    {
     "data": {
      "text/plain": [
       "[[1.0, 0.0, 0.0, 0.0, 1.0, 0.0, 0.0, 0.0, 1.0, 0.0, 0.0, 0.0],\n",
       " [0.0, 1.0, 0.0, 1.0, 0.0, 0.0, -1.0, -1.0, -1.0, 0.0, 0.0, 0.0],\n",
       " [-1.0, -1.0, -1.0, 0.0, 0.0, 1.0, 0.0, 1.0, 0.0, 0.0, 0.0, 0.0],\n",
       " [0.0, 0.0, 1.0, -1.0, -1.0, -1.0, 1.0, 0.0, 0.0, 0.0, 0.0, 0.0],\n",
       " [0.0, 0.0, 1.0, 1.0, 0.0, 0.0, 0.0, 1.0, 0.0, 0.0, 0.0, 0.0],\n",
       " [0.0, 1.0, 0.0, 0.0, 0.0, 1.0, 1.0, 0.0, 0.0, 0.0, 0.0, 0.0],\n",
       " [1.0, 0.0, 0.0, 0.0, 0.0, 1.0, -1.0, -1.0, -1.0, 0.0, 0.0, 0.0],\n",
       " [1.0, 0.0, 0.0, -1.0, -1.0, -1.0, 0.0, 1.0, 0.0, 0.0, 0.0, 0.0],\n",
       " [-1.0, -1.0, -1.0, 0.0, 1.0, 0.0, 1.0, 0.0, 0.0, 0.0, 0.0, 0.0],\n",
       " [0.0, 0.0, 1.0, 0.0, 1.0, 0.0, -1.0, -1.0, -1.0, 0.0, 0.0, 0.0],\n",
       " [0.0, 1.0, 0.0, -1.0, -1.0, -1.0, 0.0, 0.0, 1.0, 0.0, 0.0, 0.0],\n",
       " [-1.0, -1.0, -1.0, 1.0, 0.0, 0.0, 0.0, 0.0, 1.0, 0.0, 0.0, 0.0],\n",
       " [0.0, -1.0, 0.0, -1.0, 0.0, 0.0, 0.0, 0.0, -1.0, 0.0, 0.0, 0.0],\n",
       " [-1.0, 0.0, 0.0, 0.0, -1.0, 0.0, 1.0, 1.0, 1.0, 0.0, 0.0, 0.0],\n",
       " [0.0, 0.0, -1.0, 1.0, 1.0, 1.0, 0.0, -1.0, 0.0, 0.0, 0.0, 0.0],\n",
       " [1.0, 1.0, 1.0, 0.0, 0.0, -1.0, -1.0, 0.0, 0.0, 0.0, 0.0, 0.0],\n",
       " [-1.0, 0.0, 0.0, 0.0, 0.0, -1.0, 0.0, -1.0, 0.0, 0.0, 0.0, 0.0],\n",
       " [0.0, 0.0, -1.0, 0.0, -1.0, 0.0, -1.0, 0.0, 0.0, 0.0, 0.0, 0.0],\n",
       " [0.0, 0.0, -1.0, -1.0, 0.0, 0.0, 1.0, 1.0, 1.0, 0.0, 0.0, 0.0],\n",
       " [1.0, 1.0, 1.0, -1.0, 0.0, 0.0, 0.0, -1.0, 0.0, 0.0, 0.0, 0.0],\n",
       " [0.0, -1.0, 0.0, 1.0, 1.0, 1.0, -1.0, 0.0, 0.0, 0.0, 0.0, 0.0],\n",
       " [0.0, -1.0, 0.0, 0.0, 0.0, -1.0, 1.0, 1.0, 1.0, 0.0, 0.0, 0.0],\n",
       " [1.0, 1.0, 1.0, 0.0, -1.0, 0.0, 0.0, 0.0, -1.0, 0.0, 0.0, 0.0],\n",
       " [-1.0, 0.0, 0.0, 1.0, 1.0, 1.0, 0.0, 0.0, -1.0, 0.0, 0.0, 0.0],\n",
       " [-1.0, 0.0, 0.0, 0.0, -1.0, 0.0, 0.0, 0.0, -1.0, 0.0, 0.0, 0.0],\n",
       " [0.0, -1.0, 0.0, -1.0, 0.0, 0.0, 1.0, 1.0, 1.0, 0.0, 0.0, 0.0],\n",
       " [1.0, 1.0, 1.0, 0.0, 0.0, -1.0, 0.0, -1.0, 0.0, 0.0, 0.0, 0.0],\n",
       " [0.0, 0.0, -1.0, 1.0, 1.0, 1.0, -1.0, 0.0, 0.0, 0.0, 0.0, 0.0],\n",
       " [0.0, 0.0, -1.0, -1.0, 0.0, 0.0, 0.0, -1.0, 0.0, 0.0, 0.0, 0.0],\n",
       " [0.0, -1.0, 0.0, 0.0, 0.0, -1.0, -1.0, 0.0, 0.0, 0.0, 0.0, 0.0],\n",
       " [-1.0, 0.0, 0.0, 0.0, 0.0, -1.0, 1.0, 1.0, 1.0, 0.0, 0.0, 0.0],\n",
       " [-1.0, 0.0, 0.0, 1.0, 1.0, 1.0, 0.0, -1.0, 0.0, 0.0, 0.0, 0.0],\n",
       " [1.0, 1.0, 1.0, 0.0, -1.0, 0.0, -1.0, 0.0, 0.0, 0.0, 0.0, 0.0],\n",
       " [0.0, 0.0, -1.0, 0.0, -1.0, 0.0, 1.0, 1.0, 1.0, 0.0, 0.0, 0.0],\n",
       " [0.0, -1.0, 0.0, 1.0, 1.0, 1.0, 0.0, 0.0, -1.0, 0.0, 0.0, 0.0],\n",
       " [1.0, 1.0, 1.0, -1.0, 0.0, 0.0, 0.0, 0.0, -1.0, 0.0, 0.0, 0.0],\n",
       " [0.0, 1.0, 0.0, 1.0, 0.0, 0.0, 0.0, 0.0, 1.0, 0.0, 0.0, 0.0],\n",
       " [1.0, 0.0, 0.0, 0.0, 1.0, 0.0, -1.0, -1.0, -1.0, 0.0, 0.0, 0.0],\n",
       " [0.0, 0.0, 1.0, -1.0, -1.0, -1.0, 0.0, 1.0, 0.0, 0.0, 0.0, 0.0],\n",
       " [-1.0, -1.0, -1.0, 0.0, 0.0, 1.0, 1.0, 0.0, 0.0, 0.0, 0.0, 0.0],\n",
       " [1.0, 0.0, 0.0, 0.0, 0.0, 1.0, 0.0, 1.0, 0.0, 0.0, 0.0, 0.0],\n",
       " [0.0, 0.0, 1.0, 0.0, 1.0, 0.0, 1.0, 0.0, 0.0, 0.0, 0.0, 0.0],\n",
       " [0.0, 0.0, 1.0, 1.0, 0.0, 0.0, -1.0, -1.0, -1.0, 0.0, 0.0, 0.0],\n",
       " [-1.0, -1.0, -1.0, 1.0, 0.0, 0.0, 0.0, 1.0, 0.0, 0.0, 0.0, 0.0],\n",
       " [0.0, 1.0, 0.0, -1.0, -1.0, -1.0, 1.0, 0.0, 0.0, 0.0, 0.0, 0.0],\n",
       " [0.0, 1.0, 0.0, 0.0, 0.0, 1.0, -1.0, -1.0, -1.0, 0.0, 0.0, 0.0],\n",
       " [-1.0, -1.0, -1.0, 0.0, 1.0, 0.0, 0.0, 0.0, 1.0, 0.0, 0.0, 0.0],\n",
       " [1.0, 0.0, 0.0, -1.0, -1.0, -1.0, 0.0, 0.0, 1.0, 0.0, 0.0, 0.0]]"
      ]
     },
     "execution_count": 18,
     "metadata": {},
     "output_type": "execute_result"
    }
   ],
   "source": [
    "print(calcnode.outputs.symmetry.attributes)\n",
    "calcnode.outputs.symmetry.data.operations"
   ]
  }
 ],
 "metadata": {
  "celltoolbar": "Tags",
  "hide_input": false,
  "kernelspec": {
   "display_name": "Python 3",
   "language": "python",
   "name": "python3"
  },
  "language_info": {
   "codemirror_mode": {
    "name": "ipython",
    "version": 3
   },
   "file_extension": ".py",
   "mimetype": "text/x-python",
   "name": "python",
   "nbconvert_exporter": "python",
   "pygments_lexer": "ipython3",
   "version": "3.6.7"
  },
  "toc": {
   "base_numbering": 1,
   "nav_menu": {},
   "number_sections": true,
   "sideBar": true,
   "skip_h1_title": false,
   "title_cell": "Table of Contents",
   "title_sidebar": "Contents",
   "toc_cell": false,
   "toc_position": {
    "height": "calc(100% - 180px)",
    "left": "10px",
    "top": "150px",
    "width": "256px"
   },
   "toc_section_display": true,
   "toc_window_display": false
  }
 },
 "nbformat": 4,
 "nbformat_minor": 2
}
