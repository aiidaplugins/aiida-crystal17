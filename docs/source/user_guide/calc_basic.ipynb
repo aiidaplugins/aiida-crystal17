{
 "cells": [
  {
   "cell_type": "markdown",
   "metadata": {},
   "source": [
    "# Basic Calculation"
   ]
  },
  {
   "cell_type": "markdown",
   "metadata": {},
   "source": [
    "The `crystal17.basic` plugin is the simplest calculation plugin.\n",
    "It accepts as input:\n",
    "\n",
    "- a pre-written `main.d12` file and,\n",
    "- (optionally) a `main.gui` file with geometry,\n",
    "  to accompany a `main.d12` file containing the `EXTERNAL` keyword."
   ]
  },
  {
   "cell_type": "markdown",
   "metadata": {},
   "source": [
    "## Initial Setup"
   ]
  },
  {
   "cell_type": "markdown",
   "metadata": {},
   "source": [
    "To run a computation, first ensure AiiDA is running:"
   ]
  },
  {
   "cell_type": "code",
   "execution_count": 2,
   "metadata": {},
   "outputs": [
    {
     "name": "stdout",
     "output_type": "stream",
     "text": [
      "\u001b[32m ✓ \u001b[0mprofile:     On profile test_crystal17\u001b[0m\n",
      "\u001b[32m ✓ \u001b[0mrepository:  /Users/cjs14/GitHub/aiida-cjs-working/databases/aiida/.aiida/repository/test_crystal17\u001b[0m\n",
      "\u001b[32m ✓ \u001b[0mpostgres:    Connected as cjs14@localhost:5432\u001b[0m\n",
      "\u001b[32m ✓ \u001b[0mrabbitmq:    Connected to amqp://127.0.0.1?heartbeat=600\u001b[0m\n",
      "\u001b[32m ✓ \u001b[0mdaemon:      Daemon is running as PID 28308 since 2019-07-07 04:06:37\u001b[0m\n"
     ]
    }
   ],
   "source": [
    "!verdi status"
   ]
  },
  {
   "cell_type": "markdown",
   "metadata": {},
   "source": [
    ".. seealso::\n",
    "\n",
    "    AiiDA documentation: :ref:`aiida:quick_installation`"
   ]
  },
  {
   "cell_type": "markdown",
   "metadata": {},
   "source": [
    "If `aiida-crystal17` is installed,\n",
    "the `crystal17.basic` computation should be available:"
   ]
  },
  {
   "cell_type": "code",
   "execution_count": 2,
   "metadata": {},
   "outputs": [
    {
     "name": "stdout",
     "output_type": "stream",
     "text": [
      "\u001b[31m\u001b[1mInputs\u001b[0m\n",
      "\u001b[1m            code:  required  Code            The Code to use for this job.\u001b[0m\n",
      "\u001b[1m      input_file:  required  SinglefileData  the input .d12 file content.\u001b[0m\n",
      "  input_external:  optional  SinglefileData  optional input fort.34 (gui) file content (for use with EXTERNAL keyword).\u001b[0m\n",
      "        metadata:  optional                  \u001b[0m\n",
      "\u001b[31m\u001b[1mOutputs\u001b[0m\n",
      "\u001b[1m   remote_folder:  required  RemoteData      Input files necessary to run the process will be stored in this folder node ...\u001b[0m\n",
      "\u001b[1m         results:  required  Dict            the data extracted from the main output file\u001b[0m\n",
      "\u001b[1m       retrieved:  required  FolderData      Files that are retrieved by the daemon will be stored in this node. By defa ...\u001b[0m\n",
      "       structure:  optional  StructureData   the structure output from the calculation\u001b[0m\n",
      "        symmetry:  optional  SymmetryData    the symmetry data from the calculation\u001b[0m\n",
      "\u001b[31m\u001b[1mExit codes\u001b[0m\n",
      "               1:  The process has failed with an unspecified error.\u001b[0m\n",
      "               2:  The process failed with legacy failure mode.\u001b[0m\n",
      "              10:  The process returned an invalid output.\u001b[0m\n",
      "              11:  The process did not register a required output.\u001b[0m\n",
      "             200:  The retrieved folder data node could not be accessed.\u001b[0m\n",
      "             210:  The main (stdout) output file was not found\u001b[0m\n",
      "             211:  The temporary retrieved folder was not found\u001b[0m\n",
      "             300:  An error was flagged trying to parse the crystal exec stdout file\u001b[0m\n",
      "             301:  An error occurred parsing the 'opta'/'optc' geomerty files\u001b[0m\n",
      "             350:  The input file could not be read by crystal\u001b[0m\n",
      "             351:  Crystal could not find the required wavefunction file\u001b[0m\n",
      "             400:  The calculation stopped prematurely because it ran out of walltime.\u001b[0m\n",
      "             401:  The calculation stopped prematurely because it ran out of memory.\u001b[0m\n",
      "             402:  The calculation stopped prematurely because it ran out of virtual memory.\u001b[0m\n",
      "             411:  Scf convergence did not finalise (usually due to reaching step limit)\u001b[0m\n",
      "             412:  Geometry convergence did not finalise (usually due to reaching step limit)\u001b[0m\n",
      "             413:  An error encountered usually during geometry optimisation\u001b[0m\n",
      "             414:  An error was encountered during an scf computation\u001b[0m\n",
      "             415:  An unknown error was encountered, causing the mpi to abort\u001b[0m\n",
      "             499:  The main crystal output file flagged an unhandled error\u001b[0m\n",
      "             510:  Inconsistency in the input and output symmetry\u001b[0m\n",
      "             520:  Primitive symmops were not found in the output file\u001b[0m\n"
     ]
    }
   ],
   "source": [
    "!verdi plugin list aiida.calculations crystal17.basic"
   ]
  },
  {
   "cell_type": "markdown",
   "metadata": {},
   "source": [
    "To use the python interface, first ensure a profile is loaded in the python kernel, and import the required modules:"
   ]
  },
  {
   "cell_type": "code",
   "execution_count": 1,
   "metadata": {
    "init_cell": true
   },
   "outputs": [
    {
     "data": {
      "text/plain": [
       "'test_crystal17'"
      ]
     },
     "execution_count": 1,
     "metadata": {},
     "output_type": "execute_result"
    }
   ],
   "source": [
    "from aiida import load_profile\n",
    "profile = load_profile()\n",
    "profile.name"
   ]
  },
  {
   "cell_type": "code",
   "execution_count": 4,
   "metadata": {},
   "outputs": [],
   "source": [
    "import os\n",
    "from aiida_crystal17.common import display_json\n",
    "from aiida_crystal17.tests import TEST_FILES\n",
    "from aiida.orm import Code\n",
    "from aiida.engine import run_get_node\n",
    "from aiida.plugins import DataFactory"
   ]
  },
  {
   "cell_type": "markdown",
   "metadata": {},
   "source": [
    "## Input Creation"
   ]
  },
  {
   "cell_type": "markdown",
   "metadata": {},
   "source": [
    ".. seealso::\n",
    "\n",
    "    AiiDA documentation: :ref:`aiida:setup_code`\n",
    "    \n",
    "    [CRYSTAL17 Manual](http://www.crystal.unito.it/Manuals/crystal17.pdf)"
   ]
  },
  {
   "cell_type": "markdown",
   "metadata": {},
   "source": [
    "An :py:class:`~aiida.orm.nodes.data.code.Code` node should be set up in advance,\n",
    "to use the `crystal17.basic` calculation plugin,\n",
    "and call the ``runcry17`` executable\n",
    "(or ``mock_runcry17`` used here for test purposes)."
   ]
  },
  {
   "cell_type": "code",
   "execution_count": 5,
   "metadata": {},
   "outputs": [
    {
     "data": {
      "text/plain": [
       "[['PK', 1],\n",
       " ['UUID', 'd9ae48df-22cf-4ee2-9d47-0e16f48c8b0a'],\n",
       " ['Label', 'crystal17.basic-mock_crystal17@localhost'],\n",
       " ['Description', ''],\n",
       " ['Default plugin', 'crystal17.basic'],\n",
       " ['Type', 'remote'],\n",
       " ['Remote machine', 'localhost'],\n",
       " ['Remote absolute path', '//anaconda/envs/aiida-workshop/bin/mock_crystal17'],\n",
       " ['Prepend text', 'No prepend text'],\n",
       " ['Append text', 'No append text']]"
      ]
     },
     "execution_count": 5,
     "metadata": {},
     "output_type": "execute_result"
    }
   ],
   "source": [
    "from aiida_crystal17.tests.utils import get_or_create_local_computer, get_or_create_code\n",
    "computer = get_or_create_local_computer('work_directory', 'localhost')\n",
    "code = get_or_create_code('crystal17.basic', computer, 'mock_crystal17')\n",
    "code.get_full_text_info()"
   ]
  },
  {
   "cell_type": "markdown",
   "metadata": {},
   "source": [
    "An :py:class:`~aiida.orm.nodes.data.singlefile.SinglefileData` node is then set containing the main input file."
   ]
  },
  {
   "cell_type": "code",
   "execution_count": 6,
   "metadata": {},
   "outputs": [
    {
     "name": "stdout",
     "output_type": "stream",
     "text": [
      "MgO bulk\n",
      "CRYSTAL\n",
      "0 0 0\n",
      " 225\n",
      "4.21\n",
      "2\n",
      " 12 0.    0.    0.\n",
      "  8 0.5   0.5   0.5\n",
      "END\n",
      "12 3\n",
      "1 0 3  2.  0.\n",
      "1 1 3  8.  0.\n",
      "1 1 3  2.  0.\n",
      "8 2\n",
      "1 0 3  2.  0.\n",
      "1 1 3  6.  0.\n",
      "99   0\n",
      "END\n",
      "SHRINK\n",
      "8 8\n",
      "END\n"
     ]
    }
   ],
   "source": [
    "SinglefileData = DataFactory('singlefile')\n",
    "infile = SinglefileData(\n",
    "        file=os.path.join(TEST_FILES, 'crystal', \n",
    "                          'mgo_sto3g_scf', 'INPUT'))\n",
    "with infile.open() as handle:\n",
    "    print(handle.read())"
   ]
  },
  {
   "cell_type": "markdown",
   "metadata": {},
   "source": [
    "## Setting Up and Running the Calculation"
   ]
  },
  {
   "cell_type": "markdown",
   "metadata": {},
   "source": [
    ".. seealso::\n",
    "\n",
    "    AiiDA documentation: :ref:`aiida:working_processes`"
   ]
  },
  {
   "cell_type": "markdown",
   "metadata": {},
   "source": [
    "A builder can be obtained from the `Code` node,\n",
    "which will define all the required input nodes and settings:"
   ]
  },
  {
   "cell_type": "code",
   "execution_count": 7,
   "metadata": {},
   "outputs": [
    {
     "data": {
      "text/markdown": [
       "```json\n",
       "{\n",
       "  \"metadata\": {\n",
       "    \"options\": {\n",
       "      \"withmpi\": false,\n",
       "      \"resources\": {\n",
       "        \"num_machines\": 1,\n",
       "        \"num_mpiprocs_per_machine\": 1\n",
       "      }\n",
       "    }\n",
       "  },\n",
       "  \"code\": [\n",
       "    \"Remote code 'crystal17.basic-mock_crystal17@localhost' on localhost,\",\n",
       "    \"pk: 1, uuid: d9ae48df-22cf-4ee2-9d47-0e16f48c8b0a\"\n",
       "  ],\n",
       "  \"input_file\": [\n",
       "    \"uuid: 05efe37e-4cd3-4d91-95a6-b4ba60c5de60 (unstored)\"\n",
       "  ]\n",
       "}\n",
       "```"
      ]
     },
     "metadata": {},
     "output_type": "display_data"
    }
   ],
   "source": [
    "builder = code.get_builder()\n",
    "builder.metadata.options.withmpi = False\n",
    "builder.metadata.options.resources = {\n",
    "    \"num_machines\": 1, \n",
    "    \"num_mpiprocs_per_machine\": 1}\n",
    "builder.input_file = infile\n",
    "display_json(builder)"
   ]
  },
  {
   "cell_type": "markdown",
   "metadata": {},
   "source": [
    "In order to run the computation,\n",
    "the builder can be parsed to one of the AiiDA ``run`` (blocking execution) or ``submit`` (non-blocking execution) functions:"
   ]
  },
  {
   "cell_type": "code",
   "execution_count": 8,
   "metadata": {},
   "outputs": [],
   "source": [
    "result, calcnode = run_get_node(builder)"
   ]
  },
  {
   "cell_type": "markdown",
   "metadata": {},
   "source": [
    "The process can be monitored on the command line:"
   ]
  },
  {
   "cell_type": "code",
   "execution_count": 9,
   "metadata": {},
   "outputs": [
    {
     "name": "stdout",
     "output_type": "stream",
     "text": [
      "\u001b[22m  PK  Created    Process label        Process State    Process status\n",
      "----  ---------  -------------------  ---------------  ----------------\n",
      "  85  19s ago    CryBasicCalculation  ⏹ Finished [0]\u001b[0m\n",
      "\u001b[22m\n",
      "Total results: 1\n",
      "\u001b[0m\n",
      "\u001b[34m\u001b[1mInfo: \u001b[0m\u001b[22mlast time an entry changed state: 5s ago (at 11:59:54 on 2019-07-18)\u001b[0m\n"
     ]
    }
   ],
   "source": [
    "!verdi process list -a -l 1 -D desc"
   ]
  },
  {
   "cell_type": "markdown",
   "metadata": {},
   "source": [
    "Once the calculation is complete, a ``CalcJobNode`` will be created,\n",
    "to store the settings and outcome of the computation.\n",
    "Crucially, if the computation has completed successfully,\n",
    "the `exit_status` will be **0**. \n",
    "\n",
    "This can be assessed on the command line or with the python API."
   ]
  },
  {
   "cell_type": "code",
   "execution_count": 10,
   "metadata": {},
   "outputs": [
    {
     "name": "stdout",
     "output_type": "stream",
     "text": [
      "\u001b[22mProperty       Value\n",
      "-------------  ------------------------------------\n",
      "type           CalcJobNode\n",
      "pk             85\n",
      "uuid           bcdf898e-8e10-4178-954e-7bae251ea818\n",
      "label\n",
      "description\n",
      "ctime          2019-07-18 11:59:40.311646+00:00\n",
      "mtime          2019-07-18 11:59:54.376399+00:00\n",
      "process state  Finished\n",
      "exit status    0\n",
      "computer       [1] localhost\n",
      "\n",
      "Inputs        PK  Type\n",
      "----------  ----  --------------\n",
      "code           1  Code\n",
      "input_file    84  SinglefileData\n",
      "\n",
      "Outputs          PK  Type\n",
      "-------------  ----  -------------\n",
      "remote_folder    86  RemoteData\n",
      "results          88  Dict\n",
      "retrieved        87  FolderData\n",
      "structure        89  StructureData\n",
      "symmetry         90  SymmetryData\u001b[0m\n"
     ]
    }
   ],
   "source": [
    "!verdi process show {calcnode.pk}"
   ]
  },
  {
   "cell_type": "code",
   "execution_count": 11,
   "metadata": {},
   "outputs": [
    {
     "name": "stdout",
     "output_type": "stream",
     "text": [
      "True\n",
      "ProcessState.FINISHED\n",
      "0\n"
     ]
    }
   ],
   "source": [
    "print(calcnode.is_finished_ok)\n",
    "print(calcnode.process_state)\n",
    "print(calcnode.exit_status)"
   ]
  },
  {
   "cell_type": "markdown",
   "metadata": {},
   "source": [
    "If the calculation fails, there are three things that should be checked:\n",
    "\n",
    "1. The calculation's exit_message\n",
    "2. The calculation's log messages and scheduler output\n",
    "3. The `results` output node (if available)"
   ]
  },
  {
   "cell_type": "code",
   "execution_count": 12,
   "metadata": {},
   "outputs": [
    {
     "name": "stdout",
     "output_type": "stream",
     "text": [
      "Exit Message: None\n",
      "*** 85: None\n",
      "*** (empty scheduler output file)\n",
      "*** (empty scheduler errors file)\n",
      "*** 0 LOG MESSAGES\n"
     ]
    }
   ],
   "source": [
    "print(\"Exit Message:\", calcnode.exit_message)\n",
    "from aiida.cmdline.utils.common import get_calcjob_report\n",
    "print(get_calcjob_report(calcnode))"
   ]
  },
  {
   "cell_type": "code",
   "execution_count": 13,
   "metadata": {},
   "outputs": [
    {
     "name": "stdout",
     "output_type": "stream",
     "text": [
      "\u001b[22m*** 85: None\n",
      "*** (empty scheduler output file)\n",
      "*** (empty scheduler errors file)\n",
      "*** 0 LOG MESSAGES\u001b[0m\n"
     ]
    }
   ],
   "source": [
    "!verdi process report {calcnode.pk}"
   ]
  },
  {
   "cell_type": "markdown",
   "metadata": {},
   "source": [
    "##  Analysis of Outputs"
   ]
  },
  {
   "cell_type": "markdown",
   "metadata": {},
   "source": [
    "The :py:class:`aiida.tools.visualization.graph.Graph` can be used to visualise the calculations provenance graph:"
   ]
  },
  {
   "cell_type": "code",
   "execution_count": 14,
   "metadata": {
    "ipub": {
     "figure": {
      "caption": "`crystal17.basic` calculation provenance graph."
     }
    }
   },
   "outputs": [
    {
     "data": {
      "image/svg+xml": [
       "<?xml version=\"1.0\" encoding=\"UTF-8\" standalone=\"no\"?>\n",
       "<!DOCTYPE svg PUBLIC \"-//W3C//DTD SVG 1.1//EN\"\n",
       " \"http://www.w3.org/Graphics/SVG/1.1/DTD/svg11.dtd\">\n",
       "<!-- Generated by graphviz version 2.40.1 (20161225.0304)\n",
       " -->\n",
       "<!-- Title: %3 Pages: 1 -->\n",
       "<svg width=\"432pt\" height=\"159pt\"\n",
       " viewBox=\"0.00 0.00 432.00 159.42\" xmlns=\"http://www.w3.org/2000/svg\" xmlns:xlink=\"http://www.w3.org/1999/xlink\">\n",
       "<g id=\"graph0\" class=\"graph\" transform=\"scale(.5246 .5246) rotate(0) translate(4 299.9117)\">\n",
       "<title>%3</title>\n",
       "<polygon fill=\"#ffffff\" stroke=\"transparent\" points=\"-4,4 -4,-299.9117 819.5527,-299.9117 819.5527,4 -4,4\"/>\n",
       "<!-- N85 -->\n",
       "<g id=\"node1\" class=\"node\">\n",
       "<title>N85</title>\n",
       "<polygon fill=\"#de707f\" stroke=\"#000000\" stroke-width=\"0\" points=\"520.0598,-180.4558 360.1268,-180.4558 360.1268,-130.4558 520.0598,-130.4558 520.0598,-180.4558\"/>\n",
       "<text text-anchor=\"middle\" x=\"440.0933\" y=\"-165.2558\" font-family=\"Times,serif\" font-size=\"14.00\" fill=\"#000000\">CryBasicCalculation (85)</text>\n",
       "<text text-anchor=\"middle\" x=\"440.0933\" y=\"-151.2558\" font-family=\"Times,serif\" font-size=\"14.00\" fill=\"#000000\">State: finished</text>\n",
       "<text text-anchor=\"middle\" x=\"440.0933\" y=\"-137.2558\" font-family=\"Times,serif\" font-size=\"14.00\" fill=\"#000000\">Exit Code: 0</text>\n",
       "</g>\n",
       "<!-- N86 -->\n",
       "<g id=\"node4\" class=\"node\">\n",
       "<title>N86</title>\n",
       "<ellipse fill=\"#8cd499\" stroke=\"#000000\" stroke-width=\"0\" cx=\"725.3379\" cy=\"-270.4558\" rx=\"79.5196\" ry=\"25.4118\"/>\n",
       "<text text-anchor=\"middle\" x=\"725.3379\" y=\"-273.2558\" font-family=\"Times,serif\" font-size=\"14.00\" fill=\"#000000\">RemoteData (86)</text>\n",
       "<text text-anchor=\"middle\" x=\"725.3379\" y=\"-259.2558\" font-family=\"Times,serif\" font-size=\"14.00\" fill=\"#000000\">@localhost</text>\n",
       "</g>\n",
       "<!-- N85&#45;&gt;N86 -->\n",
       "<g id=\"edge3\" class=\"edge\">\n",
       "<title>N85&#45;&gt;N86</title>\n",
       "<path fill=\"none\" stroke=\"#000000\" d=\"M465.6823,-180.7138C484.2244,-197.5909 510.707,-218.9196 537.8263,-231.4558 569.4183,-246.0598 606.5239,-255.2413 639.3528,-260.9931\"/>\n",
       "<polygon fill=\"#000000\" stroke=\"#000000\" points=\"638.9529,-264.4748 649.393,-262.6703 640.1063,-257.5704 638.9529,-264.4748\"/>\n",
       "<text text-anchor=\"middle\" x=\"577.4747\" y=\"-272.2558\" font-family=\"Times,serif\" font-size=\"14.00\" fill=\"#000000\">CREATE</text>\n",
       "<text text-anchor=\"middle\" x=\"577.4747\" y=\"-258.2558\" font-family=\"Times,serif\" font-size=\"14.00\" fill=\"#000000\">remote_folder</text>\n",
       "</g>\n",
       "<!-- N87 -->\n",
       "<g id=\"node5\" class=\"node\">\n",
       "<title>N87</title>\n",
       "<ellipse fill=\"#8cd499\" stroke=\"#000000\" stroke-width=\"0\" cx=\"725.3379\" cy=\"-209.4558\" rx=\"66.6678\" ry=\"18\"/>\n",
       "<text text-anchor=\"middle\" x=\"725.3379\" y=\"-205.2558\" font-family=\"Times,serif\" font-size=\"14.00\" fill=\"#000000\">FolderData (87)</text>\n",
       "</g>\n",
       "<!-- N85&#45;&gt;N87 -->\n",
       "<g id=\"edge4\" class=\"edge\">\n",
       "<title>N85&#45;&gt;N87</title>\n",
       "<path fill=\"none\" stroke=\"#000000\" d=\"M510.8949,-180.4655C519.8861,-183.0996 529.0207,-185.5181 537.8263,-187.4558 574.3912,-195.5023 615.6572,-200.7482 650.1495,-204.0907\"/>\n",
       "<polygon fill=\"#000000\" stroke=\"#000000\" points=\"649.8726,-207.5799 660.155,-205.0257 650.5241,-200.6103 649.8726,-207.5799\"/>\n",
       "<text text-anchor=\"middle\" x=\"577.4747\" y=\"-216.2558\" font-family=\"Times,serif\" font-size=\"14.00\" fill=\"#000000\">CREATE</text>\n",
       "<text text-anchor=\"middle\" x=\"577.4747\" y=\"-202.2558\" font-family=\"Times,serif\" font-size=\"14.00\" fill=\"#000000\">retrieved</text>\n",
       "</g>\n",
       "<!-- N88 -->\n",
       "<g id=\"node6\" class=\"node\">\n",
       "<title>N88</title>\n",
       "<ellipse fill=\"#8cd499\" stroke=\"#000000\" stroke-width=\"0\" cx=\"725.3379\" cy=\"-155.4558\" rx=\"42.0545\" ry=\"18\"/>\n",
       "<text text-anchor=\"middle\" x=\"725.3379\" y=\"-151.2558\" font-family=\"Times,serif\" font-size=\"14.00\" fill=\"#000000\">Dict (88)</text>\n",
       "</g>\n",
       "<!-- N85&#45;&gt;N88 -->\n",
       "<g id=\"edge5\" class=\"edge\">\n",
       "<title>N85&#45;&gt;N88</title>\n",
       "<path fill=\"none\" stroke=\"#000000\" d=\"M519.9292,-155.4558C568.8049,-155.4558 629.9716,-155.4558 672.7952,-155.4558\"/>\n",
       "<polygon fill=\"#000000\" stroke=\"#000000\" points=\"672.9966,-158.9559 682.9966,-155.4558 672.9966,-151.9559 672.9966,-158.9559\"/>\n",
       "<text text-anchor=\"middle\" x=\"577.4747\" y=\"-172.2558\" font-family=\"Times,serif\" font-size=\"14.00\" fill=\"#000000\">CREATE</text>\n",
       "<text text-anchor=\"middle\" x=\"577.4747\" y=\"-158.2558\" font-family=\"Times,serif\" font-size=\"14.00\" fill=\"#000000\">results</text>\n",
       "</g>\n",
       "<!-- N89 -->\n",
       "<g id=\"node7\" class=\"node\">\n",
       "<title>N89</title>\n",
       "<ellipse fill=\"#8cd499\" stroke=\"#000000\" stroke-width=\"0\" cx=\"725.3379\" cy=\"-94.4558\" rx=\"85.0115\" ry=\"25.4118\"/>\n",
       "<text text-anchor=\"middle\" x=\"725.3379\" y=\"-97.2558\" font-family=\"Times,serif\" font-size=\"14.00\" fill=\"#000000\">StructureData (89)</text>\n",
       "<text text-anchor=\"middle\" x=\"725.3379\" y=\"-83.2558\" font-family=\"Times,serif\" font-size=\"14.00\" fill=\"#000000\">MgO</text>\n",
       "</g>\n",
       "<!-- N85&#45;&gt;N89 -->\n",
       "<g id=\"edge6\" class=\"edge\">\n",
       "<title>N85&#45;&gt;N89</title>\n",
       "<path fill=\"none\" stroke=\"#000000\" d=\"M512.0338,-130.4391C520.6667,-127.8719 529.405,-125.4715 537.8263,-123.4558 569.4802,-115.8794 604.6328,-109.8314 635.868,-105.2606\"/>\n",
       "<polygon fill=\"#000000\" stroke=\"#000000\" points=\"636.4598,-108.7116 645.8622,-103.8284 635.4668,-101.7824 636.4598,-108.7116\"/>\n",
       "<text text-anchor=\"middle\" x=\"577.4747\" y=\"-140.2558\" font-family=\"Times,serif\" font-size=\"14.00\" fill=\"#000000\">CREATE</text>\n",
       "<text text-anchor=\"middle\" x=\"577.4747\" y=\"-126.2558\" font-family=\"Times,serif\" font-size=\"14.00\" fill=\"#000000\">structure</text>\n",
       "</g>\n",
       "<!-- N90 -->\n",
       "<g id=\"node8\" class=\"node\">\n",
       "<title>N90</title>\n",
       "<ellipse fill=\"#8cd499\" stroke=\"#000000\" stroke-width=\"0\" cx=\"725.3379\" cy=\"-25.4558\" rx=\"90.4301\" ry=\"25.4118\"/>\n",
       "<text text-anchor=\"middle\" x=\"725.3379\" y=\"-28.2558\" font-family=\"Times,serif\" font-size=\"14.00\" fill=\"#000000\">SymmetryData (90)</text>\n",
       "<text text-anchor=\"middle\" x=\"725.3379\" y=\"-14.2558\" font-family=\"Times,serif\" font-size=\"14.00\" fill=\"#000000\">symmops: 48</text>\n",
       "</g>\n",
       "<!-- N85&#45;&gt;N90 -->\n",
       "<g id=\"edge7\" class=\"edge\">\n",
       "<title>N85&#45;&gt;N90</title>\n",
       "<path fill=\"none\" stroke=\"#000000\" d=\"M465.4347,-130.4367C484.0661,-113.3076 510.7576,-91.2756 537.8263,-77.4558 569.3201,-61.3768 606.4078,-49.7531 639.2499,-41.6295\"/>\n",
       "<polygon fill=\"#000000\" stroke=\"#000000\" points=\"640.3875,-44.956 649.2951,-39.2197 638.7544,-38.1491 640.3875,-44.956\"/>\n",
       "<text text-anchor=\"middle\" x=\"577.4747\" y=\"-94.2558\" font-family=\"Times,serif\" font-size=\"14.00\" fill=\"#000000\">CREATE</text>\n",
       "<text text-anchor=\"middle\" x=\"577.4747\" y=\"-80.2558\" font-family=\"Times,serif\" font-size=\"14.00\" fill=\"#000000\">symmetry</text>\n",
       "</g>\n",
       "<!-- N1 -->\n",
       "<g id=\"node2\" class=\"node\">\n",
       "<title>N1</title>\n",
       "<ellipse fill=\"#4ca4b9\" fill-opacity=\"0.666667\" stroke=\"#000000\" stroke-width=\"0\" cx=\"119.4009\" cy=\"-190.4558\" rx=\"119.3019\" ry=\"25.4118\"/>\n",
       "<text text-anchor=\"middle\" x=\"119.4009\" y=\"-193.2558\" font-family=\"Times,serif\" font-size=\"14.00\" fill=\"#000000\">Code (1)</text>\n",
       "<text text-anchor=\"middle\" x=\"119.4009\" y=\"-179.2558\" font-family=\"Times,serif\" font-size=\"14.00\" fill=\"#000000\">mock_crystal17@localhost</text>\n",
       "</g>\n",
       "<!-- N1&#45;&gt;N85 -->\n",
       "<g id=\"edge1\" class=\"edge\">\n",
       "<title>N1&#45;&gt;N85</title>\n",
       "<path fill=\"none\" stroke=\"#000000\" d=\"M229.1984,-180.3679C265.2757,-176.8541 305.5578,-172.718 342.3604,-168.4558 344.8897,-168.1629 347.455,-167.8602 350.0436,-167.5497\"/>\n",
       "<polygon fill=\"#000000\" stroke=\"#000000\" points=\"350.6153,-171.0059 360.1168,-166.3184 349.7659,-164.0577 350.6153,-171.0059\"/>\n",
       "<text text-anchor=\"middle\" x=\"299.5811\" y=\"-193.2558\" font-family=\"Times,serif\" font-size=\"14.00\" fill=\"#000000\">INPUT_CALC</text>\n",
       "<text text-anchor=\"middle\" x=\"299.5811\" y=\"-179.2558\" font-family=\"Times,serif\" font-size=\"14.00\" fill=\"#000000\">code</text>\n",
       "</g>\n",
       "<!-- N84 -->\n",
       "<g id=\"node3\" class=\"node\">\n",
       "<title>N84</title>\n",
       "<ellipse fill=\"#8cd499\" stroke=\"#000000\" stroke-width=\"0\" cx=\"119.4009\" cy=\"-121.4558\" rx=\"86.8365\" ry=\"25.4118\"/>\n",
       "<text text-anchor=\"middle\" x=\"119.4009\" y=\"-124.2558\" font-family=\"Times,serif\" font-size=\"14.00\" fill=\"#000000\">SinglefileData (84)</text>\n",
       "<text text-anchor=\"middle\" x=\"119.4009\" y=\"-110.2558\" font-family=\"Times,serif\" font-size=\"14.00\" fill=\"#000000\">INPUT</text>\n",
       "</g>\n",
       "<!-- N84&#45;&gt;N85 -->\n",
       "<g id=\"edge2\" class=\"edge\">\n",
       "<title>N84&#45;&gt;N85</title>\n",
       "<path fill=\"none\" stroke=\"#000000\" d=\"M204.2363,-127.3363C245.9146,-130.5687 296.8415,-135.0295 342.3604,-140.4558 344.896,-140.7581 347.4668,-141.0759 350.0603,-141.4064\"/>\n",
       "<polygon fill=\"#000000\" stroke=\"#000000\" points=\"349.7771,-144.8993 360.1491,-142.738 350.6931,-137.9594 349.7771,-144.8993\"/>\n",
       "<text text-anchor=\"middle\" x=\"299.5811\" y=\"-157.2558\" font-family=\"Times,serif\" font-size=\"14.00\" fill=\"#000000\">INPUT_CALC</text>\n",
       "<text text-anchor=\"middle\" x=\"299.5811\" y=\"-143.2558\" font-family=\"Times,serif\" font-size=\"14.00\" fill=\"#000000\">input_file</text>\n",
       "</g>\n",
       "</g>\n",
       "</svg>\n"
      ],
      "text/plain": [
       "<graphviz.dot.Digraph at 0x1203b3240>"
      ]
     },
     "execution_count": 14,
     "metadata": {},
     "output_type": "execute_result"
    }
   ],
   "source": [
    "from aiida.tools.visualization import Graph\n",
    "graph = Graph(graph_attr={'size': \"6,8!\", \"rankdir\": \"LR\"})\n",
    "graph.add_node(calcnode)\n",
    "graph.add_incoming(calcnode, annotate_links=\"both\")\n",
    "graph.add_outgoing(calcnode, annotate_links=\"both\")\n",
    "graph.graphviz"
   ]
  },
  {
   "cell_type": "markdown",
   "metadata": {},
   "source": [
    "The `retrieved` `FolderData` output node contains the CRYSTAL17 main output file."
   ]
  },
  {
   "cell_type": "code",
   "execution_count": 15,
   "metadata": {},
   "outputs": [
    {
     "data": {
      "text/plain": [
       "['_scheduler-stderr.txt', '_scheduler-stdout.txt', 'main.out']"
      ]
     },
     "execution_count": 15,
     "metadata": {},
     "output_type": "execute_result"
    }
   ],
   "source": [
    "calcnode.outputs.retrieved.list_object_names()"
   ]
  },
  {
   "cell_type": "markdown",
   "metadata": {},
   "source": [
    "The `results` `Dict` output node contains key values extracted from the CRYSTAL17 main output file."
   ]
  },
  {
   "cell_type": "code",
   "execution_count": 16,
   "metadata": {},
   "outputs": [
    {
     "data": {
      "text/markdown": [
       "```json\n",
       "{\n",
       "  \"units\": {\n",
       "    \"angle\": \"degrees\",\n",
       "    \"energy\": \"eV\",\n",
       "    \"length\": \"angstrom\",\n",
       "    \"conversion\": \"CODATA2014\"\n",
       "  },\n",
       "  \"energy\": -7380.2216051903,\n",
       "  \"errors\": [],\n",
       "  \"header\": {\n",
       "    \"crystal_version\": 17,\n",
       "    \"crystal_subversion\": \"1.0.1\"\n",
       "  },\n",
       "  \"volume\": 18.65461525,\n",
       "  \"warnings\": [],\n",
       "  \"calculation\": {\n",
       "    \"n_ao\": 14,\n",
       "    \"spin\": false,\n",
       "    \"type\": \"restricted closed shell\",\n",
       "    \"n_atoms\": 2,\n",
       "    \"n_shells\": 5,\n",
       "    \"n_symops\": 48,\n",
       "    \"n_core_el\": 12,\n",
       "    \"n_electrons\": 20,\n",
       "    \"n_kpoints_ibz\": 29,\n",
       "    \"n_kpoints_gilat\": 29\n",
       "  },\n",
       "  \"energy_units\": \"eV\",\n",
       "  \"parser_class\": \"CryMainParser\",\n",
       "  \"parser_errors\": [],\n",
       "  \"parser_version\": \"0.9.0b5\",\n",
       "  \"scf_iterations\": 7,\n",
       "  \"number_of_atoms\": 2,\n",
       "  \"parser_warnings\": [\n",
       "    \"no initial structure available, creating new kinds for atoms\"\n",
       "  ],\n",
       "  \"parser_exceptions\": [],\n",
       "  \"number_of_assymetric\": 2,\n",
       "  \"execution_time_seconds\": 3\n",
       "}\n",
       "```"
      ]
     },
     "metadata": {},
     "output_type": "display_data"
    }
   ],
   "source": [
    "display_json(calcnode.outputs.results.attributes)"
   ]
  },
  {
   "cell_type": "markdown",
   "metadata": {},
   "source": [
    "The `structure` `StructureData` output node contains the final structure,\n",
    "obtained from the CRYSTAL17 main output file."
   ]
  },
  {
   "cell_type": "code",
   "execution_count": 17,
   "metadata": {
    "ipub": {
     "figure": {
      "caption": "Structure visualisation, using ASE and Matplotlib."
     }
    }
   },
   "outputs": [
    {
     "data": {
      "image/png": "[encoded data removed]",
      "text/plain": [
       "<Figure size 432x288 with 1 Axes>"
      ]
     },
     "metadata": {
      "needs_background": "light"
     },
     "output_type": "display_data"
    }
   ],
   "source": [
    "%matplotlib inline\n",
    "import matplotlib.pyplot as plt\n",
    "from ase.visualize.plot import plot_atoms\n",
    "atoms = calcnode.outputs.structure.get_ase()\n",
    "fig, ax = plt.subplots()\n",
    "plot_atoms(atoms.repeat((4,4,4)), \n",
    "           ax, radii=0.8, show_unit_cell=True, \n",
    "           rotation=('45x,0y,0z'));"
   ]
  },
  {
   "cell_type": "markdown",
   "metadata": {},
   "source": [
    "The `symmetry` `SymmetryData` output node contains the symmetry of the final structure,\n",
    "obtained from the CRYSTAL17 main output file."
   ]
  },
  {
   "cell_type": "code",
   "execution_count": 18,
   "metadata": {},
   "outputs": [
    {
     "name": "stdout",
     "output_type": "stream",
     "text": [
      "{'basis': 'fractional', 'num_symops': 48, 'hall_number': None}\n"
     ]
    },
    {
     "data": {
      "text/plain": [
       "[[1.0, 0.0, 0.0, 0.0, 1.0, 0.0, 0.0, 0.0, 1.0, 0.0, 0.0, 0.0],\n",
       " [0.0, 1.0, 0.0, 1.0, 0.0, 0.0, -1.0, -1.0, -1.0, 0.0, 0.0, 0.0],\n",
       " [-1.0, -1.0, -1.0, 0.0, 0.0, 1.0, 0.0, 1.0, 0.0, 0.0, 0.0, 0.0],\n",
       " [0.0, 0.0, 1.0, -1.0, -1.0, -1.0, 1.0, 0.0, 0.0, 0.0, 0.0, 0.0],\n",
       " [0.0, 0.0, 1.0, 1.0, 0.0, 0.0, 0.0, 1.0, 0.0, 0.0, 0.0, 0.0],\n",
       " [0.0, 1.0, 0.0, 0.0, 0.0, 1.0, 1.0, 0.0, 0.0, 0.0, 0.0, 0.0],\n",
       " [1.0, 0.0, 0.0, 0.0, 0.0, 1.0, -1.0, -1.0, -1.0, 0.0, 0.0, 0.0],\n",
       " [1.0, 0.0, 0.0, -1.0, -1.0, -1.0, 0.0, 1.0, 0.0, 0.0, 0.0, 0.0],\n",
       " [-1.0, -1.0, -1.0, 0.0, 1.0, 0.0, 1.0, 0.0, 0.0, 0.0, 0.0, 0.0],\n",
       " [0.0, 0.0, 1.0, 0.0, 1.0, 0.0, -1.0, -1.0, -1.0, 0.0, 0.0, 0.0],\n",
       " [0.0, 1.0, 0.0, -1.0, -1.0, -1.0, 0.0, 0.0, 1.0, 0.0, 0.0, 0.0],\n",
       " [-1.0, -1.0, -1.0, 1.0, 0.0, 0.0, 0.0, 0.0, 1.0, 0.0, 0.0, 0.0],\n",
       " [0.0, -1.0, 0.0, -1.0, 0.0, 0.0, 0.0, 0.0, -1.0, 0.0, 0.0, 0.0],\n",
       " [-1.0, 0.0, 0.0, 0.0, -1.0, 0.0, 1.0, 1.0, 1.0, 0.0, 0.0, 0.0],\n",
       " [0.0, 0.0, -1.0, 1.0, 1.0, 1.0, 0.0, -1.0, 0.0, 0.0, 0.0, 0.0],\n",
       " [1.0, 1.0, 1.0, 0.0, 0.0, -1.0, -1.0, 0.0, 0.0, 0.0, 0.0, 0.0],\n",
       " [-1.0, 0.0, 0.0, 0.0, 0.0, -1.0, 0.0, -1.0, 0.0, 0.0, 0.0, 0.0],\n",
       " [0.0, 0.0, -1.0, 0.0, -1.0, 0.0, -1.0, 0.0, 0.0, 0.0, 0.0, 0.0],\n",
       " [0.0, 0.0, -1.0, -1.0, 0.0, 0.0, 1.0, 1.0, 1.0, 0.0, 0.0, 0.0],\n",
       " [1.0, 1.0, 1.0, -1.0, 0.0, 0.0, 0.0, -1.0, 0.0, 0.0, 0.0, 0.0],\n",
       " [0.0, -1.0, 0.0, 1.0, 1.0, 1.0, -1.0, 0.0, 0.0, 0.0, 0.0, 0.0],\n",
       " [0.0, -1.0, 0.0, 0.0, 0.0, -1.0, 1.0, 1.0, 1.0, 0.0, 0.0, 0.0],\n",
       " [1.0, 1.0, 1.0, 0.0, -1.0, 0.0, 0.0, 0.0, -1.0, 0.0, 0.0, 0.0],\n",
       " [-1.0, 0.0, 0.0, 1.0, 1.0, 1.0, 0.0, 0.0, -1.0, 0.0, 0.0, 0.0],\n",
       " [-1.0, 0.0, 0.0, 0.0, -1.0, 0.0, 0.0, 0.0, -1.0, 0.0, 0.0, 0.0],\n",
       " [0.0, -1.0, 0.0, -1.0, 0.0, 0.0, 1.0, 1.0, 1.0, 0.0, 0.0, 0.0],\n",
       " [1.0, 1.0, 1.0, 0.0, 0.0, -1.0, 0.0, -1.0, 0.0, 0.0, 0.0, 0.0],\n",
       " [0.0, 0.0, -1.0, 1.0, 1.0, 1.0, -1.0, 0.0, 0.0, 0.0, 0.0, 0.0],\n",
       " [0.0, 0.0, -1.0, -1.0, 0.0, 0.0, 0.0, -1.0, 0.0, 0.0, 0.0, 0.0],\n",
       " [0.0, -1.0, 0.0, 0.0, 0.0, -1.0, -1.0, 0.0, 0.0, 0.0, 0.0, 0.0],\n",
       " [-1.0, 0.0, 0.0, 0.0, 0.0, -1.0, 1.0, 1.0, 1.0, 0.0, 0.0, 0.0],\n",
       " [-1.0, 0.0, 0.0, 1.0, 1.0, 1.0, 0.0, -1.0, 0.0, 0.0, 0.0, 0.0],\n",
       " [1.0, 1.0, 1.0, 0.0, -1.0, 0.0, -1.0, 0.0, 0.0, 0.0, 0.0, 0.0],\n",
       " [0.0, 0.0, -1.0, 0.0, -1.0, 0.0, 1.0, 1.0, 1.0, 0.0, 0.0, 0.0],\n",
       " [0.0, -1.0, 0.0, 1.0, 1.0, 1.0, 0.0, 0.0, -1.0, 0.0, 0.0, 0.0],\n",
       " [1.0, 1.0, 1.0, -1.0, 0.0, 0.0, 0.0, 0.0, -1.0, 0.0, 0.0, 0.0],\n",
       " [0.0, 1.0, 0.0, 1.0, 0.0, 0.0, 0.0, 0.0, 1.0, 0.0, 0.0, 0.0],\n",
       " [1.0, 0.0, 0.0, 0.0, 1.0, 0.0, -1.0, -1.0, -1.0, 0.0, 0.0, 0.0],\n",
       " [0.0, 0.0, 1.0, -1.0, -1.0, -1.0, 0.0, 1.0, 0.0, 0.0, 0.0, 0.0],\n",
       " [-1.0, -1.0, -1.0, 0.0, 0.0, 1.0, 1.0, 0.0, 0.0, 0.0, 0.0, 0.0],\n",
       " [1.0, 0.0, 0.0, 0.0, 0.0, 1.0, 0.0, 1.0, 0.0, 0.0, 0.0, 0.0],\n",
       " [0.0, 0.0, 1.0, 0.0, 1.0, 0.0, 1.0, 0.0, 0.0, 0.0, 0.0, 0.0],\n",
       " [0.0, 0.0, 1.0, 1.0, 0.0, 0.0, -1.0, -1.0, -1.0, 0.0, 0.0, 0.0],\n",
       " [-1.0, -1.0, -1.0, 1.0, 0.0, 0.0, 0.0, 1.0, 0.0, 0.0, 0.0, 0.0],\n",
       " [0.0, 1.0, 0.0, -1.0, -1.0, -1.0, 1.0, 0.0, 0.0, 0.0, 0.0, 0.0],\n",
       " [0.0, 1.0, 0.0, 0.0, 0.0, 1.0, -1.0, -1.0, -1.0, 0.0, 0.0, 0.0],\n",
       " [-1.0, -1.0, -1.0, 0.0, 1.0, 0.0, 0.0, 0.0, 1.0, 0.0, 0.0, 0.0],\n",
       " [1.0, 0.0, 0.0, -1.0, -1.0, -1.0, 0.0, 0.0, 1.0, 0.0, 0.0, 0.0]]"
      ]
     },
     "execution_count": 18,
     "metadata": {},
     "output_type": "execute_result"
    }
   ],
   "source": [
    "print(calcnode.outputs.symmetry.attributes)\n",
    "calcnode.outputs.symmetry.data.operations"
   ]
  }
 ],
 "metadata": {
  "celltoolbar": "Initialization Cell",
  "hide_input": false,
  "kernelspec": {
   "display_name": "Python 3",
   "language": "python",
   "name": "python3"
  },
  "language_info": {
   "codemirror_mode": {
    "name": "ipython",
    "version": 3
   },
   "file_extension": ".py",
   "mimetype": "text/x-python",
   "name": "python",
   "nbconvert_exporter": "python",
   "pygments_lexer": "ipython3",
   "version": "3.6.5"
  },
  "toc": {
   "base_numbering": 1,
   "nav_menu": {},
   "number_sections": true,
   "sideBar": true,
   "skip_h1_title": false,
   "title_cell": "Table of Contents",
   "title_sidebar": "Contents",
   "toc_cell": false,
   "toc_position": {
    "height": "calc(100% - 180px)",
    "left": "10px",
    "top": "150px",
    "width": "256px"
   },
   "toc_section_display": true,
   "toc_window_display": false
  }
 },
 "nbformat": 4,
 "nbformat_minor": 2
}
