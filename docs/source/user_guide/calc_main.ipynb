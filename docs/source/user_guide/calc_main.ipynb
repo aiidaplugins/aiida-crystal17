{
 "cells": [
  {
   "cell_type": "markdown",
   "metadata": {},
   "source": [
    "# Main Calculation"
   ]
  },
  {
   "cell_type": "markdown",
   "metadata": {},
   "source": [
    "The `crystal17.main` plugin is the core calculation plugin.\n",
    "It is designed with a more programmatic\n",
    "input interface , to create the input ``.d12`` and ``.gui`` files,\n",
    "from a set of AiiDA :py:class:`~aiida.orm.nodes.data.Data` nodes."
   ]
  },
  {
   "cell_type": "markdown",
   "metadata": {},
   "source": [
    ".. seealso::\n",
    "\n",
    "    See :ref:`main_calculation_immigrant` for a method\n",
    "    to immigrate existing output/input files as a\n",
    "    ``crystal17.main`` calculation."
   ]
  },
  {
   "cell_type": "markdown",
   "metadata": {},
   "source": [
    "## Initial Setup"
   ]
  },
  {
   "cell_type": "markdown",
   "metadata": {},
   "source": [
    "To run a computation, first ensure AiiDA is running:"
   ]
  },
  {
   "cell_type": "code",
   "execution_count": 3,
   "metadata": {},
   "outputs": [
    {
     "name": "stdout",
     "output_type": "stream",
     "text": [
      "\u001b[32m ✓ \u001b[0mprofile:     On profile test_crystal17\u001b[0m\n",
      "\u001b[32m ✓ \u001b[0mrepository:  /Users/cjs14/GitHub/aiida-cjs-working/databases/aiida/.aiida/repository/test_crystal17\u001b[0m\n",
      "\u001b[32m ✓ \u001b[0mpostgres:    Connected as cjs14@localhost:5432\u001b[0m\n",
      "\u001b[32m ✓ \u001b[0mrabbitmq:    Connected to amqp://127.0.0.1?heartbeat=600\u001b[0m\n",
      "\u001b[32m ✓ \u001b[0mdaemon:      Daemon is running as PID 35477 since 2019-07-18 12:57:21\u001b[0m\n"
     ]
    }
   ],
   "source": [
    "!verdi status"
   ]
  },
  {
   "cell_type": "markdown",
   "metadata": {},
   "source": [
    ".. seealso::\n",
    "\n",
    "    AiiDA documentation: :ref:`aiida:quick_installation`"
   ]
  },
  {
   "cell_type": "markdown",
   "metadata": {},
   "source": [
    "If `aiida-crystal17` is installed,\n",
    "the `crystal17.main` computation should be available:"
   ]
  },
  {
   "cell_type": "code",
   "execution_count": 4,
   "metadata": {},
   "outputs": [
    {
     "name": "stdout",
     "output_type": "stream",
     "text": [
      "\u001b[31m\u001b[1mInputs\u001b[0m\n",
      "\u001b[1m      basissets:  required  BasisSetData        Use a node for the basis set of one of the elements in the structure. You h ...\u001b[0m\n",
      "\u001b[1m           code:  required  Code                The Code to use for this job.\u001b[0m\n",
      "\u001b[1m     parameters:  required  CryInputParamsData  the input parameters to create the .d12 file content.\u001b[0m\n",
      "\u001b[1m      structure:  required  StructureData       structure used to construct the input fort.34 (gui) file\u001b[0m\n",
      "          kinds:  optional  KindData            additional structure kind specific data (e.g. initial spin)\u001b[0m\n",
      "       metadata:  optional                      \u001b[0m\n",
      "       symmetry:  optional  SymmetryData        the symmetry of the structure, used to construct the input .gui file (fort. ...\u001b[0m\n",
      "      wf_folder:  optional  RemoteData          An optional working directory, of a previously completed calculation, conta ...\u001b[0m\n",
      "\u001b[31m\u001b[1mOutputs\u001b[0m\n",
      "\u001b[1m  remote_folder:  required  RemoteData          Input files necessary to run the process will be stored in this folder node ...\u001b[0m\n",
      "\u001b[1m        results:  required  Dict                the data extracted from the main output file\u001b[0m\n",
      "\u001b[1m      retrieved:  required  FolderData          Files that are retrieved by the daemon will be stored in this node. By defa ...\u001b[0m\n",
      "   optimisation:  optional  TrajectoryData      atomic configurations, for each optimisation step\u001b[0m\n",
      "      structure:  optional  StructureData       the structure output from the calculation\u001b[0m\n",
      "       symmetry:  optional  SymmetryData        the symmetry data from the calculation\u001b[0m\n",
      "\u001b[31m\u001b[1mExit codes\u001b[0m\n",
      "              1:  The process has failed with an unspecified error.\u001b[0m\n",
      "              2:  The process failed with legacy failure mode.\u001b[0m\n",
      "             10:  The process returned an invalid output.\u001b[0m\n",
      "             11:  The process did not register a required output.\u001b[0m\n",
      "            200:  The retrieved folder data node could not be accessed.\u001b[0m\n",
      "            210:  The main (stdout) output file was not found\u001b[0m\n",
      "            211:  The temporary retrieved folder was not found\u001b[0m\n",
      "            300:  An error was flagged trying to parse the crystal exec stdout file\u001b[0m\n",
      "            301:  An error occurred parsing the 'opta'/'optc' geometry files\u001b[0m\n",
      "            350:  The input file could not be read by crystal\u001b[0m\n",
      "            351:  Crystal could not find the required wavefunction file\u001b[0m\n",
      "            400:  The calculation stopped prematurely because it ran out of walltime.\u001b[0m\n",
      "            401:  The calculation stopped prematurely because it ran out of memory.\u001b[0m\n",
      "            402:  The calculation stopped prematurely because it ran out of virtual memory.\u001b[0m\n",
      "            411:  Scf convergence did not finalise (usually due to reaching step limit)\u001b[0m\n",
      "            412:  Geometry convergence did not finalise (usually due to reaching step limit)\u001b[0m\n",
      "            413:  An error encountered usually during geometry optimisation\u001b[0m\n",
      "            414:  An error was encountered during an scf computation\u001b[0m\n",
      "            415:  An unknown error was encountered, causing the mpi to abort\u001b[0m\n",
      "            499:  The main crystal output file flagged an unhandled error\u001b[0m\n",
      "            510:  Inconsistency in the input and output symmetry\u001b[0m\n",
      "            520:  Primitive symmops were not found in the output file\u001b[0m\n"
     ]
    }
   ],
   "source": [
    "!verdi plugin list aiida.calculations crystal17.main"
   ]
  },
  {
   "cell_type": "markdown",
   "metadata": {},
   "source": [
    "To use the python interface,\n",
    "first ensure a profile is loaded in the python kernel,\n",
    "and import the required modules:"
   ]
  },
  {
   "cell_type": "code",
   "execution_count": 1,
   "metadata": {
    "init_cell": true
   },
   "outputs": [
    {
     "data": {
      "text/plain": [
       "'test_crystal17'"
      ]
     },
     "execution_count": 1,
     "metadata": {},
     "output_type": "execute_result"
    }
   ],
   "source": [
    "from aiida import load_profile\n",
    "profile = load_profile()\n",
    "profile.name"
   ]
  },
  {
   "cell_type": "code",
   "execution_count": 2,
   "metadata": {
    "init_cell": true
   },
   "outputs": [],
   "source": [
    "import os\n",
    "from six import StringIO\n",
    "from aiida.orm import Code\n",
    "from aiida.plugins import (\n",
    "    DataFactory, WorkflowFactory, CalculationFactory)\n",
    "from aiida.engine import run_get_node\n",
    "from aiida_crystal17.common import display_json\n",
    "from aiida_crystal17.tests import read_resource_text, resource_context\n",
    "from aiida.tools.visualization import Graph\n",
    "from jsonextended import edict"
   ]
  },
  {
   "cell_type": "markdown",
   "metadata": {},
   "source": [
    "## Input Node Creation"
   ]
  },
  {
   "cell_type": "markdown",
   "metadata": {},
   "source": [
    ".. seealso::\n",
    "    \n",
    "    [CRYSTAL17 Manual](http://www.crystal.unito.it/Manuals/crystal17.pdf)"
   ]
  },
  {
   "cell_type": "markdown",
   "metadata": {},
   "source": [
    "### Code"
   ]
  },
  {
   "cell_type": "markdown",
   "metadata": {},
   "source": [
    ".. seealso::\n",
    "\n",
    "    AiiDA documentation: :ref:`aiida:setup_code`"
   ]
  },
  {
   "cell_type": "markdown",
   "metadata": {},
   "source": [
    "An :py:class:`~aiida.orm.nodes.data.code.Code` node should be set up in advance,\n",
    "to use the `crystal17.basic` calculation plugin,\n",
    "and call the ``runcry17`` executable\n",
    "(or ``mock_runcry17`` used here for test purposes)."
   ]
  },
  {
   "cell_type": "code",
   "execution_count": 7,
   "metadata": {},
   "outputs": [
    {
     "data": {
      "text/plain": [
       "[['PK', 23],\n",
       " ['UUID', '8451bd5e-397a-4014-9982-340b571a48c8'],\n",
       " ['Label', 'crystal17.main-mock_crystal17@localhost'],\n",
       " ['Description', ''],\n",
       " ['Default plugin', 'crystal17.main'],\n",
       " ['Type', 'remote'],\n",
       " ['Remote machine', 'localhost'],\n",
       " ['Remote absolute path', '//anaconda/envs/aiida-workshop/bin/mock_crystal17'],\n",
       " ['Prepend text', 'No prepend text'],\n",
       " ['Append text', 'No append text']]"
      ]
     },
     "execution_count": 7,
     "metadata": {},
     "output_type": "execute_result"
    }
   ],
   "source": [
    "from aiida_crystal17.tests.utils import get_or_create_local_computer, get_or_create_code\n",
    "computer = get_or_create_local_computer('work_directory', 'localhost')\n",
    "code = get_or_create_code('crystal17.main', computer, 'mock_crystal17')\n",
    "code.get_full_text_info()"
   ]
  },
  {
   "cell_type": "markdown",
   "metadata": {},
   "source": [
    "### Input Parameters (Geometry Independent)"
   ]
  },
  {
   "cell_type": "markdown",
   "metadata": {},
   "source": [
    "The :py:class:`~aiida_crystal17.data.input_params.CryInputParamsData`\n",
    "supplies (geometry independent) data required to create the `input.d12` file."
   ]
  },
  {
   "cell_type": "code",
   "execution_count": 8,
   "metadata": {},
   "outputs": [
    {
     "data": {
      "text/plain": [
       "<CryInputParamsData: uuid: 552ca25b-109f-4c25-8513-b441ba1b5d7c (unstored)>"
      ]
     },
     "execution_count": 8,
     "metadata": {},
     "output_type": "execute_result"
    }
   ],
   "source": [
    "param_dict = {\"scf\":{\"k_points\": (8, 8)}}\n",
    "params = DataFactory('crystal17.parameters')(data=param_dict)\n",
    "params"
   ]
  },
  {
   "cell_type": "markdown",
   "metadata": {},
   "source": [
    "The input data is validated against the :ref:`cry_main_input_schema`,\n",
    "which can also be obtained from the `data_schema` attribute.\n",
    "\n",
    ".. note::\n",
    "\n",
    "    The only mandated key is ``scf.k_points`` (known as ``SHRINK`` in CRYSTAL17)"
   ]
  },
  {
   "cell_type": "code",
   "execution_count": 9,
   "metadata": {},
   "outputs": [
    {
     "name": "stdout",
     "output_type": "stream",
     "text": [
      "\u001b[34m$schema\u001b[0m:     http://json-schema.org/draft-04/schema#\n",
      "\u001b[34madditionalProperties\u001b[0m: False\n",
      "\u001b[34mdescription\u001b[0m: Allowed Inputs For CRYSTAL17 .d12 file\n",
      "\u001b[34mproperties\u001b[0m:\n",
      "  \u001b[34mbasis_set\u001b[0m:\n",
      "    \u001b[34madditionalProperties\u001b[0m: False\n",
      "    \u001b[34mdescription\u001b[0m: Basis sets input and control\n",
      "    \u001b[34mproperties\u001b[0m:  {...}\n",
      "    \u001b[34mtitle\u001b[0m:       Block 2\n",
      "    \u001b[34mtype\u001b[0m:        object\n",
      "  \u001b[34mgeometry\u001b[0m:\n",
      "    \u001b[34madditionalProperties\u001b[0m: False\n",
      "    \u001b[34mdescription\u001b[0m: Geometry input, manipulation and optimisation control\n",
      "    \u001b[34mproperties\u001b[0m:  {...}\n",
      "    \u001b[34mtitle\u001b[0m:       Block 1\n",
      "    \u001b[34mtype\u001b[0m:        object\n",
      "  \u001b[34mscf\u001b[0m:\n",
      "    \u001b[34madditionalProperties\u001b[0m: False\n",
      "    \u001b[34mdependencies\u001b[0m: {...}\n",
      "    \u001b[34mdescription\u001b[0m: Single particle Hamiltonian and SCF control\n",
      "    \u001b[34mproperties\u001b[0m:  {...}\n",
      "    \u001b[34mrequired\u001b[0m:    [k_points]\n",
      "    \u001b[34mtitle\u001b[0m:       Block 3\n",
      "    \u001b[34mtype\u001b[0m:        object\n",
      "  \u001b[34mtitle\u001b[0m:\n",
      "    \u001b[34mdescription\u001b[0m: the title of the run\n",
      "    \u001b[34mtype\u001b[0m: string\n",
      "\u001b[34mrequired\u001b[0m:    [scf]\n",
      "\u001b[34mtitle\u001b[0m:       CRYSTAL17 Input\n",
      "\u001b[34mtype\u001b[0m:        object\n"
     ]
    }
   ],
   "source": [
    "param_cls = DataFactory('crystal17.parameters')\n",
    "edict.pprint(params.data_schema, keycolor=\"blue\")"
   ]
  },
  {
   "cell_type": "code",
   "execution_count": 10,
   "metadata": {
    "tags": [
     "pytest_exception"
    ]
   },
   "outputs": [
    {
     "ename": "ValidationError",
     "evalue": "- 'k_points' is a required property [key path: 'scf']",
     "output_type": "error",
     "traceback": [
      "\u001b[0;31m---------------------------------------------------------------------------\u001b[0m",
      "\u001b[0;31mValidationError\u001b[0m                           Traceback (most recent call last)",
      "\u001b[0;32m<ipython-input-10-4a25c6adca90>\u001b[0m in \u001b[0;36m<module>\u001b[0;34m()\u001b[0m\n\u001b[0;32m----> 1\u001b[0;31m \u001b[0mparams\u001b[0m \u001b[0;34m=\u001b[0m \u001b[0mDataFactory\u001b[0m\u001b[0;34m(\u001b[0m\u001b[0;34m'crystal17.parameters'\u001b[0m\u001b[0;34m)\u001b[0m\u001b[0;34m(\u001b[0m\u001b[0mdata\u001b[0m\u001b[0;34m=\u001b[0m\u001b[0;34m{\u001b[0m\u001b[0;34m\"scf\"\u001b[0m\u001b[0;34m:\u001b[0m \u001b[0;34m{\u001b[0m\u001b[0;34m}\u001b[0m\u001b[0;34m}\u001b[0m\u001b[0;34m)\u001b[0m\u001b[0;34m\u001b[0m\u001b[0m\n\u001b[0m",
      "\u001b[0;32m/Users/cjs14/GitHub/aiida-crystal17/aiida_crystal17/data/input_params.py\u001b[0m in \u001b[0;36m__init__\u001b[0;34m(self, data, unflatten, **kwargs)\u001b[0m\n\u001b[1;32m     46\u001b[0m             \u001b[0;32mif\u001b[0m \u001b[0munflatten\u001b[0m\u001b[0;34m:\u001b[0m\u001b[0;34m\u001b[0m\u001b[0m\n\u001b[1;32m     47\u001b[0m                 \u001b[0mdata\u001b[0m \u001b[0;34m=\u001b[0m \u001b[0munflatten_dict\u001b[0m\u001b[0;34m(\u001b[0m\u001b[0mdata\u001b[0m\u001b[0;34m)\u001b[0m\u001b[0;34m\u001b[0m\u001b[0m\n\u001b[0;32m---> 48\u001b[0;31m             \u001b[0mself\u001b[0m\u001b[0;34m.\u001b[0m\u001b[0mset_data\u001b[0m\u001b[0;34m(\u001b[0m\u001b[0mdata\u001b[0m\u001b[0;34m)\u001b[0m\u001b[0;34m\u001b[0m\u001b[0m\n\u001b[0m\u001b[1;32m     49\u001b[0m \u001b[0;34m\u001b[0m\u001b[0m\n\u001b[1;32m     50\u001b[0m     \u001b[0;32mdef\u001b[0m \u001b[0m_validate\u001b[0m\u001b[0;34m(\u001b[0m\u001b[0mself\u001b[0m\u001b[0;34m)\u001b[0m\u001b[0;34m:\u001b[0m\u001b[0;34m\u001b[0m\u001b[0m\n",
      "\u001b[0;32m/Users/cjs14/GitHub/aiida-crystal17/aiida_crystal17/data/input_params.py\u001b[0m in \u001b[0;36mset_data\u001b[0;34m(self, data)\u001b[0m\n\u001b[1;32m     64\u001b[0m \u001b[0;34m\u001b[0m\u001b[0m\n\u001b[1;32m     65\u001b[0m         \u001b[0;31m# first validate the inputs\u001b[0m\u001b[0;34m\u001b[0m\u001b[0;34m\u001b[0m\u001b[0m\n\u001b[0;32m---> 66\u001b[0;31m         \u001b[0mself\u001b[0m\u001b[0;34m.\u001b[0m\u001b[0mvalidate_parameters\u001b[0m\u001b[0;34m(\u001b[0m\u001b[0mdata\u001b[0m\u001b[0;34m)\u001b[0m\u001b[0;34m\u001b[0m\u001b[0m\n\u001b[0m\u001b[1;32m     67\u001b[0m \u001b[0;34m\u001b[0m\u001b[0m\n\u001b[1;32m     68\u001b[0m         \u001b[0;31m# store all but the symmetry operations as attributes\u001b[0m\u001b[0;34m\u001b[0m\u001b[0;34m\u001b[0m\u001b[0m\n",
      "\u001b[0;32m/Users/cjs14/GitHub/aiida-crystal17/aiida_crystal17/data/input_params.py\u001b[0m in \u001b[0;36mvalidate_parameters\u001b[0;34m(cls, dct)\u001b[0m\n\u001b[1;32m     29\u001b[0m \u001b[0;34m\u001b[0m\u001b[0m\n\u001b[1;32m     30\u001b[0m         \"\"\"\n\u001b[0;32m---> 31\u001b[0;31m         \u001b[0mvalidate_against_schema\u001b[0m\u001b[0;34m(\u001b[0m\u001b[0mdct\u001b[0m\u001b[0;34m,\u001b[0m \u001b[0mcls\u001b[0m\u001b[0;34m.\u001b[0m\u001b[0mdata_schema\u001b[0m\u001b[0;34m)\u001b[0m\u001b[0;34m\u001b[0m\u001b[0m\n\u001b[0m\u001b[1;32m     32\u001b[0m \u001b[0;34m\u001b[0m\u001b[0m\n\u001b[1;32m     33\u001b[0m     \u001b[0;32mdef\u001b[0m \u001b[0m__init__\u001b[0m\u001b[0;34m(\u001b[0m\u001b[0mself\u001b[0m\u001b[0;34m,\u001b[0m \u001b[0mdata\u001b[0m\u001b[0;34m=\u001b[0m\u001b[0;32mNone\u001b[0m\u001b[0;34m,\u001b[0m \u001b[0munflatten\u001b[0m\u001b[0;34m=\u001b[0m\u001b[0;32mFalse\u001b[0m\u001b[0;34m,\u001b[0m \u001b[0;34m**\u001b[0m\u001b[0mkwargs\u001b[0m\u001b[0;34m)\u001b[0m\u001b[0;34m:\u001b[0m\u001b[0;34m\u001b[0m\u001b[0m\n",
      "\u001b[0;32m/Users/cjs14/GitHub/aiida-crystal17/aiida_crystal17/validation/__init__.py\u001b[0m in \u001b[0;36mvalidate_against_schema\u001b[0;34m(data, schema)\u001b[0m\n\u001b[1;32m     95\u001b[0m             \"\\n\".join([\"- {} [key path: '{}']\".format(\n\u001b[1;32m     96\u001b[0m                 error.message, \"/\".join([str(p) for p in error.path]))\n\u001b[0;32m---> 97\u001b[0;31m                 for error in errors])\n\u001b[0m\u001b[1;32m     98\u001b[0m         )\n\u001b[1;32m     99\u001b[0m \u001b[0;34m\u001b[0m\u001b[0m\n",
      "\u001b[0;31mValidationError\u001b[0m: - 'k_points' is a required property [key path: 'scf']"
     ]
    }
   ],
   "source": [
    "params = DataFactory('crystal17.parameters')(data={\"scf\": {}})"
   ]
  },
  {
   "cell_type": "markdown",
   "metadata": {},
   "source": [
    "It is also possible to reverse engineer the input data,\n",
    "from an existing input file, using\n",
    ":py:class:`~aiida_crystal17.parsers.raw.inputd12_read.extract_data`,\n",
    "which is also exposed on the command line as `verdi data crystal17.parse stdin`. "
   ]
  },
  {
   "cell_type": "code",
   "execution_count": 11,
   "metadata": {},
   "outputs": [
    {
     "data": {
      "text/plain": [
       "{'title': 'MgO bulk',\n",
       " 'geometry': {'optimise': {'type': 'FULLOPTG'}},\n",
       " 'scf': {'dft': {'xc': 'B3LYP', 'SPIN': True},\n",
       "  'k_points': (8, 8),\n",
       "  'fock_mixing': 'ANDERSON',\n",
       "  'numerical': {'SMEAR': 0.1},\n",
       "  'post_scf': ['PPAN']}}"
      ]
     },
     "execution_count": 11,
     "metadata": {},
     "output_type": "execute_result"
    }
   ],
   "source": [
    "from aiida_crystal17.parsers.raw.inputd12_read import extract_data\n",
    "param_dict, basis_sets, atom_props = extract_data(\"\"\"\\\n",
    "MgO bulk\n",
    "EXTERNAL\n",
    "OPTGEOM\n",
    "FULLOPTG\n",
    "END\n",
    "END\n",
    "12 3\n",
    "1 0 3  2.  0.\n",
    "1 1 3  8.  0.\n",
    "1 1 3  2.  0.\n",
    "8 2\n",
    "1 0 3  2.  0.\n",
    "1 1 3  6.  0.\n",
    "99   0\n",
    "END\n",
    "DFT\n",
    "B3LYP\n",
    "SPIN\n",
    "END\n",
    "SHRINK\n",
    "8 8\n",
    "ANDERSON\n",
    "SMEAR\n",
    "0.1\n",
    "ATOMSPIN\n",
    "2\n",
    "1 1 2 -1\n",
    "PPAN\n",
    "END\n",
    "\"\"\")\n",
    "param_dict"
   ]
  },
  {
   "cell_type": "code",
   "execution_count": 12,
   "metadata": {},
   "outputs": [
    {
     "name": "stdout",
     "output_type": "stream",
     "text": [
      "MgO bulk\n",
      "EXTERNAL\n",
      "OPTGEOM\n",
      "FULLOPTG\n",
      "ENDOPT\n",
      "END\n",
      "12 3\n",
      "1 0 3  2.  0.\n",
      "1 1 3  8.  0.\n",
      "1 1 3  2.  0.\n",
      "8 2\n",
      "1 0 3  2.  0.\n",
      "1 1 3  6.  0.\n",
      "99 0\n",
      "END\n",
      "DFT\n",
      "B3LYP\n",
      "SPIN\n",
      "END\n",
      "SHRINK\n",
      "8 8\n",
      "ATOMSPIN\n",
      "2\n",
      "1 1\n",
      "2 -1\n",
      "SMEAR\n",
      "0.1\n",
      "ANDERSON\n",
      "PPAN\n",
      "END\n",
      "\n"
     ]
    }
   ],
   "source": [
    "from aiida_crystal17.parsers.raw.inputd12_write import write_input\n",
    "print(write_input(param_dict, basis_sets, atom_props))"
   ]
  },
  {
   "cell_type": "markdown",
   "metadata": {},
   "source": [
    "### Atomic Structure"
   ]
  },
  {
   "cell_type": "markdown",
   "metadata": {},
   "source": [
    "The ``structure`` refers to a standard\n",
    ":py:class:`~aiida.StructureData` node, and is used to create the `main.gui`.\n",
    "\n",
    "Structures consist of:\n",
    "\n",
    "- A cell with a basis vectors and whether it is periodic, for each dimension\n",
    "- ``Site`` with a cartesian coordinate and reference to a kind\n",
    "- ``Kind`` which details the species and composition at one or more sites\n",
    "\n",
    "The simplest way to create a structure is *via* :py:mod:`ase`:"
   ]
  },
  {
   "cell_type": "code",
   "execution_count": 13,
   "metadata": {},
   "outputs": [
    {
     "data": {
      "text/plain": [
       "<StructureData: uuid: 45ad9994-71b4-4ec3-8308-5f2bdb94f666 (unstored)>"
      ]
     },
     "execution_count": 13,
     "metadata": {},
     "output_type": "execute_result"
    }
   ],
   "source": [
    "from ase.spacegroup import crystal\n",
    "atoms = crystal(\n",
    "    symbols=[12, 8],\n",
    "    basis=[[0, 0, 0], [0.5, 0.5, 0.5]],\n",
    "    spacegroup=225,\n",
    "    cellpar=[4.21, 4.21, 4.21, 90, 90, 90])\n",
    "struct_cls = DataFactory('structure')\n",
    "structure = struct_cls(ase=atoms)\n",
    "structure"
   ]
  },
  {
   "cell_type": "markdown",
   "metadata": {},
   "source": [
    "These structures can be visualised using standard ASE methods."
   ]
  },
  {
   "cell_type": "code",
   "execution_count": 14,
   "metadata": {
    "ipub": {
     "figure": {
      "caption": "Structure visualisation, using ASE and Matplotlib."
     }
    }
   },
   "outputs": [
    {
     "data": {
      "image/png": "[encoded data removed]",
      "text/plain": [
       "<Figure size 432x288 with 1 Axes>"
      ]
     },
     "metadata": {
      "needs_background": "light"
     },
     "output_type": "display_data"
    }
   ],
   "source": [
    "%matplotlib inline\n",
    "import matplotlib.pyplot as plt\n",
    "from ase.visualize.plot import plot_atoms\n",
    "atoms = structure.get_ase()\n",
    "fig, ax = plt.subplots()\n",
    "plot_atoms(atoms.repeat((2,2,2)), \n",
    "           ax, radii=0.8, show_unit_cell=True, \n",
    "           rotation=('45x,0y,0z'));"
   ]
  },
  {
   "cell_type": "markdown",
   "metadata": {},
   "source": [
    "As default, one kind is created per atomic species\n",
    "(named as the atomic symbol):"
   ]
  },
  {
   "cell_type": "code",
   "execution_count": 15,
   "metadata": {},
   "outputs": [
    {
     "data": {
      "text/plain": [
       "['Mg', 'Mg', 'Mg', 'Mg', 'O1', 'O1', 'O1', 'O1']"
      ]
     },
     "execution_count": 15,
     "metadata": {},
     "output_type": "execute_result"
    }
   ],
   "source": [
    "structure.get_site_kindnames()"
   ]
  },
  {
   "cell_type": "markdown",
   "metadata": {},
   "source": [
    "However, we may want to specify more than one kind per species\n",
    "(for example to setup anti-ferromagnetic spin).\n",
    "We can achieve this by tagging the atoms:"
   ]
  },
  {
   "cell_type": "code",
   "execution_count": 16,
   "metadata": {},
   "outputs": [
    {
     "data": {
      "text/plain": [
       "['Mg1', 'Mg1', 'Mg2', 'Mg2', 'O', 'O', 'O', 'O']"
      ]
     },
     "execution_count": 16,
     "metadata": {},
     "output_type": "execute_result"
    }
   ],
   "source": [
    "atoms_afm = atoms.copy()\n",
    "atoms_afm.set_tags([1, 1, 2, 2, 0, 0, 0, 0])\n",
    "structure_afm = struct_cls(ase=atoms_afm)\n",
    "structure_afm.get_site_kindnames()"
   ]
  },
  {
   "cell_type": "markdown",
   "metadata": {},
   "source": [
    ".. note::\n",
    "\n",
    "    Since we **always** use the ``EXTERNAL`` keyword for geometry,\n",
    "    any manipulation to the geometry is undertaken before calling CRYSTAL\n",
    "    (i.e. we delegate the responsibility for geometry away from CRYSTAL)."
   ]
  },
  {
   "cell_type": "markdown",
   "metadata": {},
   "source": [
    "### Kind Specific Parameters"
   ]
  },
  {
   "cell_type": "markdown",
   "metadata": {},
   "source": [
    "Also, we may want to add atom specific inputs to the ``.d12``,\n",
    "such as initial spin and frozen atoms (for optimisation)."
   ]
  },
  {
   "cell_type": "code",
   "execution_count": 18,
   "metadata": {},
   "outputs": [
    {
     "data": {
      "text/markdown": [
       "```json\n",
       "{\n",
       "  \"Mg1\": {\n",
       "    \"spin_alpha\": true,\n",
       "    \"spin_beta\": false,\n",
       "    \"fixed\": false,\n",
       "    \"ghosts\": false\n",
       "  },\n",
       "  \"Mg2\": {\n",
       "    \"spin_alpha\": false,\n",
       "    \"spin_beta\": true,\n",
       "    \"fixed\": false,\n",
       "    \"ghosts\": false\n",
       "  },\n",
       "  \"O\": {\n",
       "    \"spin_alpha\": false,\n",
       "    \"spin_beta\": false,\n",
       "    \"fixed\": true,\n",
       "    \"ghosts\": false\n",
       "  }\n",
       "}\n",
       "```"
      ]
     },
     "metadata": {},
     "output_type": "display_data"
    }
   ],
   "source": [
    "kind_cls = DataFactory(\"crystal17.kinds\")\n",
    "kind_data = kind_cls(data={\n",
    "    \"kind_names\": [\"Mg1\", \"Mg2\", \"O\"],\n",
    "    \"spin_alpha\": [True, False, False],\n",
    "    \"spin_beta\": [False, True, False],\n",
    "    \"fixed\": [False, False, True],\n",
    "    \"ghosts\": [False, False, False]\n",
    "})\n",
    "display_json(kind_data.kind_dict)"
   ]
  },
  {
   "cell_type": "code",
   "execution_count": 19,
   "metadata": {},
   "outputs": [
    {
     "data": {
      "text/plain": [
       "{'spin_alpha': [1, 2],\n",
       " 'spin_beta': [3, 4],\n",
       " 'unfixed': [1, 2, 3, 4],\n",
       " 'ghosts': []}"
      ]
     },
     "execution_count": 19,
     "metadata": {},
     "output_type": "execute_result"
    }
   ],
   "source": [
    "from aiida_crystal17.parsers.raw.inputd12_write import create_atom_properties\n",
    "atom_props2 = create_atom_properties(structure_afm, kind_data)\n",
    "atom_props2"
   ]
  },
  {
   "cell_type": "code",
   "execution_count": 20,
   "metadata": {},
   "outputs": [
    {
     "name": "stdout",
     "output_type": "stream",
     "text": [
      "MgO bulk\n",
      "EXTERNAL\n",
      "OPTGEOM\n",
      "FULLOPTG\n",
      "FRAGMENT\n",
      "4\n",
      "1 2 3 4\n",
      "ENDOPT\n",
      "END\n",
      "12 3\n",
      "1 0 3  2.  0.\n",
      "1 1 3  8.  0.\n",
      "1 1 3  2.  0.\n",
      "8 2\n",
      "1 0 3  2.  0.\n",
      "1 1 3  6.  0.\n",
      "99 0\n",
      "END\n",
      "DFT\n",
      "B3LYP\n",
      "SPIN\n",
      "END\n",
      "SHRINK\n",
      "8 8\n",
      "ATOMSPIN\n",
      "4\n",
      "1 1\n",
      "2 1\n",
      "3 -1\n",
      "4 -1\n",
      "SMEAR\n",
      "0.1\n",
      "ANDERSON\n",
      "PPAN\n",
      "END\n",
      "\n"
     ]
    }
   ],
   "source": [
    "print(write_input(param_dict, basis_sets, atom_props2))"
   ]
  },
  {
   "cell_type": "markdown",
   "metadata": {},
   "source": [
    "### Basis Sets"
   ]
  },
  {
   "cell_type": "markdown",
   "metadata": {},
   "source": [
    "Basis sets are stored as separate\n",
    ":py:class:`~aiida_crystal17.data.basis_set.BasisSetData` nodes,\n",
    "in a similar fashion to :py:class:`~aiida.orm.nodes.data.upf.UpfData`.\n",
    "They are created individually from a text file,\n",
    "which contains the content of the basis set\n",
    "and (optionally) a YAML style header section, fenced by ``---``:"
   ]
  },
  {
   "cell_type": "code",
   "execution_count": 21,
   "metadata": {},
   "outputs": [
    {
     "name": "stdout",
     "output_type": "stream",
     "text": [
      "---\n",
      "author: John Smith\n",
      "year: 1999\n",
      "class: sto3g\n",
      "---\n",
      "12 3\n",
      "1 0 3  2.  0.\n",
      "1 1 3  8.  0.\n",
      "1 1 3  2.  0.\n"
     ]
    }
   ],
   "source": [
    "mg_basis_content = read_resource_text('basis_sets', 'sto3g', 'sto3g_Mg.basis')\n",
    "print(mg_basis_content)"
   ]
  },
  {
   "cell_type": "markdown",
   "metadata": {},
   "source": [
    "The attributes of the basis set are stored in the database,\n",
    "and the md5 hash-sum is used to test equivalence of two basis sets."
   ]
  },
  {
   "cell_type": "code",
   "execution_count": 22,
   "metadata": {},
   "outputs": [
    {
     "data": {
      "text/markdown": [
       "```json\n",
       "{\n",
       "  \"md5\": \"0731ecc3339d2b8736e61add113d0c6f\",\n",
       "  \"year\": 1999,\n",
       "  \"class\": \"sto3g\",\n",
       "  \"author\": \"John Smith\",\n",
       "  \"element\": \"Mg\",\n",
       "  \"filename\": \"sto3g_Mg.basis\",\n",
       "  \"basis_type\": \"all-electron\",\n",
       "  \"num_shells\": 3,\n",
       "  \"atomic_number\": 12\n",
       "}\n",
       "```"
      ]
     },
     "metadata": {},
     "output_type": "display_data"
    },
    {
     "data": {
      "text/plain": [
       "'12 3\\n1 0 3  2.  0.\\n1 1 3  8.  0.\\n1 1 3  2.  0.'"
      ]
     },
     "execution_count": 22,
     "metadata": {},
     "output_type": "execute_result"
    }
   ],
   "source": [
    "basis_cls = DataFactory('crystal17.basisset')\n",
    "mg_basis, created = basis_cls.get_or_create(StringIO(mg_basis_content))\n",
    "display_json(mg_basis.attributes)\n",
    "mg_basis.content"
   ]
  },
  {
   "cell_type": "markdown",
   "metadata": {},
   "source": [
    "A simpler way to create and refer to basis sets, is *via* a **family group**.\n",
    "All basis sets in a folder can be read and saved to a named family by:"
   ]
  },
  {
   "cell_type": "code",
   "execution_count": 23,
   "metadata": {},
   "outputs": [
    {
     "data": {
      "text/plain": [
       "{'Mg': <BasisSetData: uuid: 832e1641-6c54-49c6-9039-42416fe8df66 (pk: 24)>,\n",
       " 'Ni': <BasisSetData: uuid: f9138f14-401b-4287-800e-8e6e4a95f0d6 (pk: 25)>,\n",
       " 'O': <BasisSetData: uuid: 3ab50757-05b6-48de-bd8e-6488472c3c69 (pk: 26)>}"
      ]
     },
     "execution_count": 23,
     "metadata": {},
     "output_type": "execute_result"
    }
   ],
   "source": [
    "with resource_context('basis_sets', 'sto3g') as path:\n",
    "   nfiles, nuploaded = basis_cls.upload_basisset_family(\n",
    "                           path,\n",
    "                           \"sto3g\", \"group of sto3g basis sets\",\n",
    "                           extension=\".basis\", stop_if_existing=False)\n",
    "basis_cls.get_basis_group_map(\"sto3g\")"
   ]
  },
  {
   "cell_type": "markdown",
   "metadata": {},
   "source": [
    "or at the command line:"
   ]
  },
  {
   "cell_type": "code",
   "execution_count": 24,
   "metadata": {},
   "outputs": [
    {
     "name": "stdout",
     "output_type": "stream",
     "text": [
      "Usage: verdi data crystal17.basis uploadfamily [OPTIONS]\r\n",
      "\r\n",
      "  Upload a family of CRYSTAL Basis Set files.\r\n",
      "\r\n",
      "Options:\r\n",
      "  --path PATH                    Path to a folder containing the Basis Set\r\n",
      "                                 files\r\n",
      "  --ext TEXT                     the file extension to filter by\r\n",
      "  --name TEXT                    Name of the BasisSet family  [required]\r\n",
      "  -D, --description DESCRIPTION  A description for the family\r\n",
      "  --stop-if-existing             Abort when encountering a previously uploaded\r\n",
      "                                 Basis Set file\r\n",
      "  --dry-run                      do not commit to database or modify\r\n",
      "                                 configuration files\r\n",
      "  -h, --help                     Show this message and exit.\r\n"
     ]
    }
   ],
   "source": [
    "!verdi data crystal17.basis uploadfamily --help"
   ]
  },
  {
   "cell_type": "code",
   "execution_count": 25,
   "metadata": {},
   "outputs": [
    {
     "name": "stdout",
     "output_type": "stream",
     "text": [
      "Family      Num Basis Sets\n",
      "--------  ----------------\n",
      "sto3g                    3\n",
      "\n"
     ]
    }
   ],
   "source": [
    "!verdi data crystal17.basis listfamilies"
   ]
  },
  {
   "cell_type": "markdown",
   "metadata": {},
   "source": [
    "Basis families can be searched by the elements they contain:"
   ]
  },
  {
   "cell_type": "code",
   "execution_count": 26,
   "metadata": {},
   "outputs": [
    {
     "data": {
      "text/plain": [
       "[<Group: \"sto3g\" [type crystal17.basisset], of user chrisj_sewell@hotmail.com>]"
      ]
     },
     "execution_count": 26,
     "metadata": {},
     "output_type": "execute_result"
    }
   ],
   "source": [
    "basis_cls.get_basis_groups([\"Ni\", \"O\"])"
   ]
  },
  {
   "cell_type": "markdown",
   "metadata": {},
   "source": [
    "Basis sets can also be extracted for a particular structure."
   ]
  },
  {
   "cell_type": "code",
   "execution_count": 27,
   "metadata": {},
   "outputs": [
    {
     "data": {
      "text/plain": [
       "{'Mg': <BasisSetData: uuid: 832e1641-6c54-49c6-9039-42416fe8df66 (pk: 24)>,\n",
       " 'O': <BasisSetData: uuid: 3ab50757-05b6-48de-bd8e-6488472c3c69 (pk: 26)>}"
      ]
     },
     "execution_count": 27,
     "metadata": {},
     "output_type": "execute_result"
    }
   ],
   "source": [
    "basis_cls.get_basissets_from_structure(structure, \"sto3g\")"
   ]
  },
  {
   "cell_type": "markdown",
   "metadata": {},
   "source": [
    ".. important::\n",
    "\n",
    "    Unlike `aiida-quantumespresso.pw`,\n",
    "    ``crystal17.main`` uses one basis sets per atomic number only **NOT** per kind.\n",
    "    This is because, using multiple basis sets per atomic number is rarely used in CRYSTAL17,\n",
    "    and is limited anyway to only two types per atomic number."
   ]
  },
  {
   "cell_type": "markdown",
   "metadata": {},
   "source": [
    "### Symmetry"
   ]
  },
  {
   "cell_type": "markdown",
   "metadata": {},
   "source": [
    "In the ``main.gui`` file,\n",
    "as well as using the dimensionality (i.e. periodic boundary conditions),\n",
    "basis vectors and atomic positions, provided by the ``structure``,\n",
    "we also need to specify the atomic symmetry of the structure.\n",
    "\n",
    ":py:class:`~aiida_crystal17.data.symmetry.SymmetryData` is used to store this data, as a validated dictionary.\n",
    "\n",
    ".. note::\n",
    "\n",
    "    The ``operations`` are given as a flattened version of the rotation matrix,\n",
    "    followed by the translation vector."
   ]
  },
  {
   "cell_type": "code",
   "execution_count": 28,
   "metadata": {},
   "outputs": [
    {
     "name": "stdout",
     "output_type": "stream",
     "text": [
      "\u001b[34m$schema\u001b[0m:     http://json-schema.org/draft-07/schema\n",
      "\u001b[34madditionalProperties\u001b[0m: True\n",
      "\u001b[34mproperties\u001b[0m:\n",
      "  \u001b[34mbasis\u001b[0m:\n",
      "    \u001b[34mdescription\u001b[0m: whether the symmetry operations are fractional or cartesian\n",
      "    \u001b[34menum\u001b[0m: [fractional, cartesian]\n",
      "    \u001b[34mtype\u001b[0m: string\n",
      "  \u001b[34mcomputation\u001b[0m:\n",
      "    \u001b[34mdescription\u001b[0m: details of the computation\n",
      "    \u001b[34mtype\u001b[0m: object\n",
      "  \u001b[34mequivalent_sites\u001b[0m:\n",
      "    \u001b[34mdescription\u001b[0m: mapping table to equivalent atomic sites\n",
      "    \u001b[34mitems\u001b[0m: {...}\n",
      "    \u001b[34mtype\u001b[0m: array\n",
      "  \u001b[34mhall_number\u001b[0m:\n",
      "    \u001b[34mdescription\u001b[0m: Hall number defining the symmetry group\n",
      "    \u001b[34mmaximum\u001b[0m: 530\n",
      "    \u001b[34mminimum\u001b[0m: 1\n",
      "    \u001b[34mtype\u001b[0m: [null, integer]\n",
      "  \u001b[34moperations\u001b[0m:\n",
      "    \u001b[34mdescription\u001b[0m: symmetry operations, should at least include the unity\n",
      "                 operation\n",
      "    \u001b[34mitems\u001b[0m: {...}\n",
      "    \u001b[34mminItems\u001b[0m: 1\n",
      "    \u001b[34mtype\u001b[0m: array\n",
      "    \u001b[34muniqueItems\u001b[0m: True\n",
      "\u001b[34mrequired\u001b[0m:    [hall_number, operations, basis]\n",
      "\u001b[34mtitle\u001b[0m:       structure symmetry settings\n",
      "\u001b[34mtype\u001b[0m:        object\n"
     ]
    }
   ],
   "source": [
    "symmetry_cls = DataFactory(\"crystal17.symmetry\")\n",
    "edict.pprint(symmetry_cls.data_schema, keycolor=\"blue\")"
   ]
  },
  {
   "cell_type": "markdown",
   "metadata": {},
   "source": [
    "The simplest symmetry would be the unitary operator."
   ]
  },
  {
   "cell_type": "code",
   "execution_count": 29,
   "metadata": {},
   "outputs": [
    {
     "data": {
      "text/plain": [
       "{'hall_number': 1, 'basis': 'fractional', 'num_symops': 1}"
      ]
     },
     "execution_count": 29,
     "metadata": {},
     "output_type": "execute_result"
    }
   ],
   "source": [
    "symmetry = symmetry_cls(data={\n",
    "    \"hall_number\": 1,\n",
    "    \"basis\": \"fractional\",\n",
    "    \"operations\": [\n",
    "        [1,0,0,0,1,0,0,0,1,0,0,0]\n",
    "    ]\n",
    "})\n",
    "symmetry.attributes"
   ]
  },
  {
   "cell_type": "markdown",
   "metadata": {},
   "source": [
    "The full symmetry operations of a periodic structure, \n",
    "can be computed using the `crystal17.sym3d` workflow.\n",
    "This uses the `spglib <https://atztogo.github.io/spglib/>`_ library\n",
    "to compute symmetries, but with the added constraint that sites\n",
    "with the same ``Kind`` must be symmetrically equivalent."
   ]
  },
  {
   "cell_type": "code",
   "execution_count": 30,
   "metadata": {},
   "outputs": [
    {
     "name": "stdout",
     "output_type": "stream",
     "text": [
      "\u001b[31m\u001b[1mInputs\u001b[0m\n",
      "\u001b[1m   settings:  required  Dict           \u001b[0m\n",
      "        cif:  optional  CifData        \u001b[0m\n",
      "   metadata:  optional                 \u001b[0m\n",
      "  structure:  optional  StructureData  \u001b[0m\n",
      "\u001b[31m\u001b[1mOutputs\u001b[0m\n",
      "\u001b[1m   symmetry:  required  SymmetryData   \u001b[0m\n",
      "  structure:  optional  StructureData  \u001b[0m\n",
      "\u001b[31m\u001b[1mExit codes\u001b[0m\n",
      "          1:  The process has failed with an unspecified error.\u001b[0m\n",
      "          2:  The process failed with legacy failure mode.\u001b[0m\n",
      "         10:  The process returned an invalid output.\u001b[0m\n",
      "         11:  The process did not register a required output.\u001b[0m\n",
      "        300:  One of either a structure or cif input must be supplied\u001b[0m\n",
      "        301:  The supplied structure must be 3d (i.e. have all dimensions pbc=true)\"\u001b[0m\n",
      "        302:  Idealize can only be used when standardize=true\u001b[0m\n",
      "        303:  The kind names supplied are not compatible with the structure\u001b[0m\n",
      "        304:  Error creating new structure\u001b[0m\n",
      "        305:  Error computing symmetry operations\u001b[0m\n"
     ]
    }
   ],
   "source": [
    "!verdi plugin list aiida.workflows crystal17.sym3d"
   ]
  },
  {
   "cell_type": "code",
   "execution_count": 31,
   "metadata": {},
   "outputs": [],
   "source": [
    "sym3d_cls = WorkflowFactory(\"crystal17.sym3d\")\n",
    "builder = sym3d_cls.get_builder()\n",
    "builder.settings = {\"symprec\": 0.01}\n",
    "builder.structure = structure\n",
    "sym_result = run_get_node(builder)"
   ]
  },
  {
   "cell_type": "code",
   "execution_count": 32,
   "metadata": {
    "ipub": {
     "figure": {
      "caption": "`crystal17.sym3d`workflow provenance graph."
     }
    }
   },
   "outputs": [
    {
     "data": {
      "image/svg+xml": [
       "<?xml version=\"1.0\" encoding=\"UTF-8\" standalone=\"no\"?>\n",
       "<!DOCTYPE svg PUBLIC \"-//W3C//DTD SVG 1.1//EN\"\n",
       " \"http://www.w3.org/Graphics/SVG/1.1/DTD/svg11.dtd\">\n",
       "<!-- Generated by graphviz version 2.40.1 (20161225.0304)\n",
       " -->\n",
       "<!-- Title: %3 Pages: 1 -->\n",
       "<svg width=\"576pt\" height=\"87pt\"\n",
       " viewBox=\"0.00 0.00 576.00 87.11\" xmlns=\"http://www.w3.org/2000/svg\" xmlns:xlink=\"http://www.w3.org/1999/xlink\">\n",
       "<g id=\"graph0\" class=\"graph\" transform=\"scale(.5446 .5446) rotate(0) translate(4 155.951)\">\n",
       "<title>%3</title>\n",
       "<polygon fill=\"#ffffff\" stroke=\"transparent\" points=\"-4,4 -4,-155.951 1053.671,-155.951 1053.671,4 -4,4\"/>\n",
       "<!-- N107 -->\n",
       "<g id=\"node1\" class=\"node\">\n",
       "<title>N107</title>\n",
       "<ellipse fill=\"#8cd499\" stroke=\"#000000\" stroke-width=\"0\" cx=\"954.5065\" cy=\"-58.951\" rx=\"95.3294\" ry=\"35.2113\"/>\n",
       "<text text-anchor=\"middle\" x=\"954.5065\" y=\"-68.751\" font-family=\"Times,serif\" font-size=\"14.00\" fill=\"#000000\">SymmetryData (107)</text>\n",
       "<text text-anchor=\"middle\" x=\"954.5065\" y=\"-54.751\" font-family=\"Times,serif\" font-size=\"14.00\" fill=\"#000000\">hall_number: 523</text>\n",
       "<text text-anchor=\"middle\" x=\"954.5065\" y=\"-40.751\" font-family=\"Times,serif\" font-size=\"14.00\" fill=\"#000000\">symmops: 192</text>\n",
       "</g>\n",
       "<!-- N106 -->\n",
       "<g id=\"node2\" class=\"node\">\n",
       "<title>N106</title>\n",
       "<polygon fill=\"#de707f\" fill-opacity=\"0.466667\" stroke=\"#000000\" stroke-width=\"0\" points=\"770.4645,-53.951 609.4157,-53.951 609.4157,-3.951 770.4645,-3.951 770.4645,-53.951\"/>\n",
       "<text text-anchor=\"middle\" x=\"689.9401\" y=\"-38.751\" font-family=\"Times,serif\" font-size=\"14.00\" fill=\"#000000\">compute_symmetry (106)</text>\n",
       "<text text-anchor=\"middle\" x=\"689.9401\" y=\"-24.751\" font-family=\"Times,serif\" font-size=\"14.00\" fill=\"#000000\">State: finished</text>\n",
       "<text text-anchor=\"middle\" x=\"689.9401\" y=\"-10.751\" font-family=\"Times,serif\" font-size=\"14.00\" fill=\"#000000\">Exit Code: 0</text>\n",
       "</g>\n",
       "<!-- N106&#45;&gt;N107 -->\n",
       "<g id=\"edge1\" class=\"edge\">\n",
       "<title>N106&#45;&gt;N107</title>\n",
       "<path fill=\"none\" stroke=\"#000000\" d=\"M770.7563,-38.115C796.7417,-41.0616 825.8661,-44.3641 853.1343,-47.4561\"/>\n",
       "<polygon fill=\"#000000\" stroke=\"#000000\" points=\"852.7566,-50.9356 863.0873,-48.5847 853.5453,-43.9802 852.7566,-50.9356\"/>\n",
       "<text text-anchor=\"middle\" x=\"814.8971\" y=\"-61.751\" font-family=\"Times,serif\" font-size=\"14.00\" fill=\"#000000\">CREATE</text>\n",
       "<text text-anchor=\"middle\" x=\"814.8971\" y=\"-47.751\" font-family=\"Times,serif\" font-size=\"14.00\" fill=\"#000000\">result</text>\n",
       "</g>\n",
       "<!-- N105 -->\n",
       "<g id=\"node3\" class=\"node\">\n",
       "<title>N105</title>\n",
       "<polygon fill=\"#e38851\" stroke=\"#000000\" stroke-width=\"0\" points=\"492.6056,-89.951 307.336,-89.951 307.336,-39.951 492.6056,-39.951 492.6056,-89.951\"/>\n",
       "<text text-anchor=\"middle\" x=\"399.9708\" y=\"-74.751\" font-family=\"Times,serif\" font-size=\"14.00\" fill=\"#000000\">Symmetrise3DStructure (105)</text>\n",
       "<text text-anchor=\"middle\" x=\"399.9708\" y=\"-60.751\" font-family=\"Times,serif\" font-size=\"14.00\" fill=\"#000000\">State: finished</text>\n",
       "<text text-anchor=\"middle\" x=\"399.9708\" y=\"-46.751\" font-family=\"Times,serif\" font-size=\"14.00\" fill=\"#000000\">Exit Code: 0</text>\n",
       "</g>\n",
       "<!-- N105&#45;&gt;N107 -->\n",
       "<g id=\"edge2\" class=\"edge\">\n",
       "<title>N105&#45;&gt;N107</title>\n",
       "<path fill=\"none\" stroke=\"#000000\" stroke-dasharray=\"5,2\" d=\"M492.8247,-74.8627C498.8144,-75.2936 504.7582,-75.6642 510.5382,-75.951 657.3814,-83.2375 694.7265,-86.9022 841.3419,-75.951 846.5333,-75.5633 851.8475,-75.0768 857.205,-74.5159\"/>\n",
       "<polygon fill=\"#000000\" stroke=\"#000000\" points=\"857.995,-77.9491 867.5404,-73.3517 857.2115,-70.9931 857.995,-77.9491\"/>\n",
       "<text text-anchor=\"middle\" x=\"689.9401\" y=\"-98.751\" font-family=\"Times,serif\" font-size=\"14.00\" fill=\"#000000\">RETURN</text>\n",
       "<text text-anchor=\"middle\" x=\"689.9401\" y=\"-84.751\" font-family=\"Times,serif\" font-size=\"14.00\" fill=\"#000000\">symmetry</text>\n",
       "</g>\n",
       "<!-- N105&#45;&gt;N106 -->\n",
       "<g id=\"edge3\" class=\"edge\">\n",
       "<title>N105&#45;&gt;N106</title>\n",
       "<path fill=\"none\" stroke=\"#000000\" stroke-dasharray=\"1,5\" d=\"M492.8296,-50.3496C498.8181,-49.5082 504.7603,-48.7008 510.5382,-47.951 539.1692,-44.236 570.4419,-40.7329 598.7417,-37.7708\"/>\n",
       "<polygon fill=\"#000000\" stroke=\"#000000\" points=\"599.4374,-41.2175 609.023,-36.7045 598.7153,-34.2548 599.4374,-41.2175\"/>\n",
       "<text text-anchor=\"middle\" x=\"550.983\" y=\"-64.751\" font-family=\"Times,serif\" font-size=\"14.00\" fill=\"#000000\">CALL_CALC</text>\n",
       "<text text-anchor=\"middle\" x=\"550.983\" y=\"-50.751\" font-family=\"Times,serif\" font-size=\"14.00\" fill=\"#000000\">CALL</text>\n",
       "</g>\n",
       "<!-- N104 -->\n",
       "<g id=\"node4\" class=\"node\">\n",
       "<title>N104</title>\n",
       "<ellipse fill=\"#8cd499\" stroke=\"#000000\" stroke-width=\"0\" cx=\"90.2051\" cy=\"-90.951\" rx=\"90.4108\" ry=\"25.4118\"/>\n",
       "<text text-anchor=\"middle\" x=\"90.2051\" y=\"-93.751\" font-family=\"Times,serif\" font-size=\"14.00\" fill=\"#000000\">StructureData (104)</text>\n",
       "<text text-anchor=\"middle\" x=\"90.2051\" y=\"-79.751\" font-family=\"Times,serif\" font-size=\"14.00\" fill=\"#000000\">Mg4O4</text>\n",
       "</g>\n",
       "<!-- N104&#45;&gt;N106 -->\n",
       "<g id=\"edge4\" class=\"edge\">\n",
       "<title>N104&#45;&gt;N106</title>\n",
       "<path fill=\"none\" stroke=\"#000000\" d=\"M161.2225,-106.7432C173.562,-108.9101 186.3146,-110.7881 198.4103,-111.951 372.8584,-128.7226 425.8465,-137.3641 591.4279,-79.951 607.4006,-74.4127 624.0022,-66.6761 638.9233,-58.8999\"/>\n",
       "<polygon fill=\"#000000\" stroke=\"#000000\" points=\"640.7992,-61.8662 647.976,-54.0723 637.5053,-55.6895 640.7992,-61.8662\"/>\n",
       "<text text-anchor=\"middle\" x=\"399.9708\" y=\"-140.751\" font-family=\"Times,serif\" font-size=\"14.00\" fill=\"#000000\">INPUT_CALC</text>\n",
       "<text text-anchor=\"middle\" x=\"399.9708\" y=\"-126.751\" font-family=\"Times,serif\" font-size=\"14.00\" fill=\"#000000\">structure</text>\n",
       "</g>\n",
       "<!-- N104&#45;&gt;N105 -->\n",
       "<g id=\"edge7\" class=\"edge\">\n",
       "<title>N104&#45;&gt;N105</title>\n",
       "<path fill=\"none\" stroke=\"#000000\" stroke-dasharray=\"5,2\" d=\"M176.9041,-83.674C214.2005,-80.5436 258.0873,-76.8599 297.0223,-73.592\"/>\n",
       "<polygon fill=\"#000000\" stroke=\"#000000\" points=\"297.6612,-77.0507 307.3334,-72.7265 297.0756,-70.0753 297.6612,-77.0507\"/>\n",
       "<text text-anchor=\"middle\" x=\"243.9069\" y=\"-97.751\" font-family=\"Times,serif\" font-size=\"14.00\" fill=\"#000000\">INPUT_WORK</text>\n",
       "<text text-anchor=\"middle\" x=\"243.9069\" y=\"-83.751\" font-family=\"Times,serif\" font-size=\"14.00\" fill=\"#000000\">structure</text>\n",
       "</g>\n",
       "<!-- N103 -->\n",
       "<g id=\"node5\" class=\"node\">\n",
       "<title>N103</title>\n",
       "<ellipse fill=\"#8cd499\" stroke=\"#000000\" stroke-width=\"0\" cx=\"90.2051\" cy=\"-18.951\" rx=\"46.8976\" ry=\"18\"/>\n",
       "<text text-anchor=\"middle\" x=\"90.2051\" y=\"-14.751\" font-family=\"Times,serif\" font-size=\"14.00\" fill=\"#000000\">Dict (103)</text>\n",
       "</g>\n",
       "<!-- N103&#45;&gt;N106 -->\n",
       "<g id=\"edge5\" class=\"edge\">\n",
       "<title>N103&#45;&gt;N106</title>\n",
       "<path fill=\"none\" stroke=\"#000000\" d=\"M135.1971,-14.0784C209.6084,-6.7117 362.9685,5.5452 492.5382,-2.951 527.3924,-5.2365 565.4868,-9.7685 598.8332,-14.4176\"/>\n",
       "<polygon fill=\"#000000\" stroke=\"#000000\" points=\"598.6285,-17.9235 609.0208,-15.8618 599.6111,-10.9928 598.6285,-17.9235\"/>\n",
       "<text text-anchor=\"middle\" x=\"399.9708\" y=\"-19.751\" font-family=\"Times,serif\" font-size=\"14.00\" fill=\"#000000\">INPUT_CALC</text>\n",
       "<text text-anchor=\"middle\" x=\"399.9708\" y=\"-5.751\" font-family=\"Times,serif\" font-size=\"14.00\" fill=\"#000000\">settings</text>\n",
       "</g>\n",
       "<!-- N103&#45;&gt;N105 -->\n",
       "<g id=\"edge6\" class=\"edge\">\n",
       "<title>N103&#45;&gt;N105</title>\n",
       "<path fill=\"none\" stroke=\"#000000\" stroke-dasharray=\"5,2\" d=\"M135.8569,-23.0414C176.3361,-26.949 236.9922,-33.4917 289.4034,-41.951 291.9439,-42.3611 294.5146,-42.7895 297.1056,-43.2334\"/>\n",
       "<polygon fill=\"#000000\" stroke=\"#000000\" points=\"296.7227,-46.72 307.1796,-45.0159 297.9424,-39.8271 296.7227,-46.72\"/>\n",
       "<text text-anchor=\"middle\" x=\"243.9069\" y=\"-58.751\" font-family=\"Times,serif\" font-size=\"14.00\" fill=\"#000000\">INPUT_WORK</text>\n",
       "<text text-anchor=\"middle\" x=\"243.9069\" y=\"-44.751\" font-family=\"Times,serif\" font-size=\"14.00\" fill=\"#000000\">settings</text>\n",
       "</g>\n",
       "</g>\n",
       "</svg>\n"
      ],
      "text/plain": [
       "<graphviz.dot.Digraph at 0x119e8d6a0>"
      ]
     },
     "execution_count": 32,
     "metadata": {},
     "output_type": "execute_result"
    }
   ],
   "source": [
    "graph = Graph(graph_attr={'size': \"8,8!\", \"rankdir\": \"LR\"})\n",
    "graph.recurse_ancestors(sym_result.result[\"symmetry\"],\n",
    "                        annotate_links=\"both\")\n",
    "graph.graphviz"
   ]
  },
  {
   "cell_type": "markdown",
   "metadata": {},
   "source": [
    "This workflow can also optionally compute the primitive\n",
    "and/or standardised form of the structure,\n",
    "before computing the symmetry of the new structure."
   ]
  },
  {
   "cell_type": "code",
   "execution_count": 35,
   "metadata": {
    "ipub": {
     "figure": {
      "caption": "`crystal17.sym3d`workflow provenance graph, including primitive cell calculation."
     }
    }
   },
   "outputs": [
    {
     "data": {
      "image/svg+xml": [
       "<?xml version=\"1.0\" encoding=\"UTF-8\" standalone=\"no\"?>\n",
       "<!DOCTYPE svg PUBLIC \"-//W3C//DTD SVG 1.1//EN\"\n",
       " \"http://www.w3.org/Graphics/SVG/1.1/DTD/svg11.dtd\">\n",
       "<!-- Generated by graphviz version 2.40.1 (20161225.0304)\n",
       " -->\n",
       "<!-- Title: %3 Pages: 1 -->\n",
       "<svg width=\"648pt\" height=\"125pt\"\n",
       " viewBox=\"0.00 0.00 648.00 124.93\" xmlns=\"http://www.w3.org/2000/svg\" xmlns:xlink=\"http://www.w3.org/1999/xlink\">\n",
       "<g id=\"graph0\" class=\"graph\" transform=\"scale(.3839 .3839) rotate(0) translate(4 321.4558)\">\n",
       "<title>%3</title>\n",
       "<polygon fill=\"#ffffff\" stroke=\"transparent\" points=\"-4,4 -4,-321.4558 1684.0852,-321.4558 1684.0852,4 -4,4\"/>\n",
       "<!-- N123 -->\n",
       "<g id=\"node1\" class=\"node\">\n",
       "<title>N123</title>\n",
       "<ellipse fill=\"#8cd499\" stroke=\"#000000\" stroke-width=\"0\" cx=\"1028.0783\" cy=\"-109\" rx=\"90.4108\" ry=\"25.4118\"/>\n",
       "<text text-anchor=\"middle\" x=\"1028.0783\" y=\"-111.8\" font-family=\"Times,serif\" font-size=\"14.00\" fill=\"#000000\">StructureData (123)</text>\n",
       "<text text-anchor=\"middle\" x=\"1028.0783\" y=\"-97.8\" font-family=\"Times,serif\" font-size=\"14.00\" fill=\"#000000\">MgO</text>\n",
       "</g>\n",
       "<!-- N124 -->\n",
       "<g id=\"node7\" class=\"node\">\n",
       "<title>N124</title>\n",
       "<polygon fill=\"#de707f\" fill-opacity=\"0.466667\" stroke=\"#000000\" stroke-width=\"0\" points=\"1400.8787,-103 1239.8298,-103 1239.8298,-53 1400.8787,-53 1400.8787,-103\"/>\n",
       "<text text-anchor=\"middle\" x=\"1320.3543\" y=\"-87.8\" font-family=\"Times,serif\" font-size=\"14.00\" fill=\"#000000\">compute_symmetry (124)</text>\n",
       "<text text-anchor=\"middle\" x=\"1320.3543\" y=\"-73.8\" font-family=\"Times,serif\" font-size=\"14.00\" fill=\"#000000\">State: finished</text>\n",
       "<text text-anchor=\"middle\" x=\"1320.3543\" y=\"-59.8\" font-family=\"Times,serif\" font-size=\"14.00\" fill=\"#000000\">Exit Code: 0</text>\n",
       "</g>\n",
       "<!-- N123&#45;&gt;N124 -->\n",
       "<g id=\"edge11\" class=\"edge\">\n",
       "<title>N123&#45;&gt;N124</title>\n",
       "<path fill=\"none\" stroke=\"#000000\" d=\"M1112.6166,-100.0335C1149.1397,-96.1597 1191.9459,-91.6195 1229.1799,-87.6703\"/>\n",
       "<polygon fill=\"#000000\" stroke=\"#000000\" points=\"1229.9491,-91.1085 1239.5242,-86.5732 1229.2108,-84.1475 1229.9491,-91.1085\"/>\n",
       "<text text-anchor=\"middle\" x=\"1179.0628\" y=\"-113.8\" font-family=\"Times,serif\" font-size=\"14.00\" fill=\"#000000\">INPUT_CALC</text>\n",
       "<text text-anchor=\"middle\" x=\"1179.0628\" y=\"-99.8\" font-family=\"Times,serif\" font-size=\"14.00\" fill=\"#000000\">structure</text>\n",
       "</g>\n",
       "<!-- N122 -->\n",
       "<g id=\"node2\" class=\"node\">\n",
       "<title>N122</title>\n",
       "<polygon fill=\"#de707f\" fill-opacity=\"0.466667\" stroke=\"#000000\" stroke-width=\"0\" points=\"820.7618,-252 609.6496,-252 609.6496,-202 820.7618,-202 820.7618,-252\"/>\n",
       "<text text-anchor=\"middle\" x=\"715.2057\" y=\"-236.8\" font-family=\"Times,serif\" font-size=\"14.00\" fill=\"#000000\">standard_primitive_structure (122)</text>\n",
       "<text text-anchor=\"middle\" x=\"715.2057\" y=\"-222.8\" font-family=\"Times,serif\" font-size=\"14.00\" fill=\"#000000\">State: finished</text>\n",
       "<text text-anchor=\"middle\" x=\"715.2057\" y=\"-208.8\" font-family=\"Times,serif\" font-size=\"14.00\" fill=\"#000000\">Exit Code: 0</text>\n",
       "</g>\n",
       "<!-- N122&#45;&gt;N123 -->\n",
       "<g id=\"edge1\" class=\"edge\">\n",
       "<title>N122&#45;&gt;N123</title>\n",
       "<path fill=\"none\" stroke=\"#000000\" d=\"M781.5579,-201.9752C835.4263,-181.6588 910.913,-153.1889 964.1257,-133.1197\"/>\n",
       "<polygon fill=\"#000000\" stroke=\"#000000\" points=\"965.6707,-136.2778 973.7922,-129.474 963.2005,-129.7281 965.6707,-136.2778\"/>\n",
       "<text text-anchor=\"middle\" x=\"879.4284\" y=\"-194.8\" font-family=\"Times,serif\" font-size=\"14.00\" fill=\"#000000\">CREATE</text>\n",
       "<text text-anchor=\"middle\" x=\"879.4284\" y=\"-180.8\" font-family=\"Times,serif\" font-size=\"14.00\" fill=\"#000000\">result</text>\n",
       "</g>\n",
       "<!-- N121 -->\n",
       "<g id=\"node3\" class=\"node\">\n",
       "<title>N121</title>\n",
       "<polygon fill=\"#e38851\" stroke=\"#000000\" stroke-width=\"0\" points=\"492.6056,-187 307.336,-187 307.336,-137 492.6056,-137 492.6056,-187\"/>\n",
       "<text text-anchor=\"middle\" x=\"399.9708\" y=\"-171.8\" font-family=\"Times,serif\" font-size=\"14.00\" fill=\"#000000\">Symmetrise3DStructure (121)</text>\n",
       "<text text-anchor=\"middle\" x=\"399.9708\" y=\"-157.8\" font-family=\"Times,serif\" font-size=\"14.00\" fill=\"#000000\">State: finished</text>\n",
       "<text text-anchor=\"middle\" x=\"399.9708\" y=\"-143.8\" font-family=\"Times,serif\" font-size=\"14.00\" fill=\"#000000\">Exit Code: 0</text>\n",
       "</g>\n",
       "<!-- N121&#45;&gt;N123 -->\n",
       "<g id=\"edge2\" class=\"edge\">\n",
       "<title>N121&#45;&gt;N123</title>\n",
       "<path fill=\"none\" stroke=\"#000000\" stroke-dasharray=\"5,2\" d=\"M492.6702,-143.4076C528.942,-136.832 570.9925,-130.066 609.4279,-126 717.6942,-114.5466 842.4613,-110.6747 927.4304,-109.4343\"/>\n",
       "<polygon fill=\"#000000\" stroke=\"#000000\" points=\"927.6401,-112.9319 937.5914,-109.2958 927.5446,-105.9325 927.6401,-112.9319\"/>\n",
       "<text text-anchor=\"middle\" x=\"715.2057\" y=\"-142.8\" font-family=\"Times,serif\" font-size=\"14.00\" fill=\"#000000\">RETURN</text>\n",
       "<text text-anchor=\"middle\" x=\"715.2057\" y=\"-128.8\" font-family=\"Times,serif\" font-size=\"14.00\" fill=\"#000000\">structure</text>\n",
       "</g>\n",
       "<!-- N121&#45;&gt;N122 -->\n",
       "<g id=\"edge3\" class=\"edge\">\n",
       "<title>N121&#45;&gt;N122</title>\n",
       "<path fill=\"none\" stroke=\"#000000\" stroke-dasharray=\"1,5\" d=\"M492.7365,-177.1338C524.1618,-182.6161 559.4049,-189.1552 591.4279,-196 596.8438,-197.1576 602.3823,-198.3848 607.9679,-199.6569\"/>\n",
       "<polygon fill=\"#000000\" stroke=\"#000000\" points=\"607.5249,-203.1467 618.0564,-201.9898 609.1021,-196.3267 607.5249,-203.1467\"/>\n",
       "<text text-anchor=\"middle\" x=\"550.983\" y=\"-212.8\" font-family=\"Times,serif\" font-size=\"14.00\" fill=\"#000000\">CALL_CALC</text>\n",
       "<text text-anchor=\"middle\" x=\"550.983\" y=\"-198.8\" font-family=\"Times,serif\" font-size=\"14.00\" fill=\"#000000\">CALL</text>\n",
       "</g>\n",
       "<!-- N125 -->\n",
       "<g id=\"node6\" class=\"node\">\n",
       "<title>N125</title>\n",
       "<ellipse fill=\"#8cd499\" stroke=\"#000000\" stroke-width=\"0\" cx=\"1584.9207\" cy=\"-139\" rx=\"95.3294\" ry=\"35.2113\"/>\n",
       "<text text-anchor=\"middle\" x=\"1584.9207\" y=\"-148.8\" font-family=\"Times,serif\" font-size=\"14.00\" fill=\"#000000\">SymmetryData (125)</text>\n",
       "<text text-anchor=\"middle\" x=\"1584.9207\" y=\"-134.8\" font-family=\"Times,serif\" font-size=\"14.00\" fill=\"#000000\">hall_number: 523</text>\n",
       "<text text-anchor=\"middle\" x=\"1584.9207\" y=\"-120.8\" font-family=\"Times,serif\" font-size=\"14.00\" fill=\"#000000\">symmops: 48</text>\n",
       "</g>\n",
       "<!-- N121&#45;&gt;N125 -->\n",
       "<g id=\"edge9\" class=\"edge\">\n",
       "<title>N121&#45;&gt;N125</title>\n",
       "<path fill=\"none\" stroke=\"#000000\" stroke-dasharray=\"5,2\" d=\"M492.8186,-161.2952C678.6891,-159.6953 1109.727,-155.0358 1471.7561,-144 1474.6125,-143.9129 1477.5092,-143.8196 1480.4325,-143.7211\"/>\n",
       "<polygon fill=\"#000000\" stroke=\"#000000\" points=\"1480.5836,-147.218 1490.4539,-143.3673 1480.3366,-140.2224 1480.5836,-147.218\"/>\n",
       "<text text-anchor=\"middle\" x=\"1028.0783\" y=\"-171.8\" font-family=\"Times,serif\" font-size=\"14.00\" fill=\"#000000\">RETURN</text>\n",
       "<text text-anchor=\"middle\" x=\"1028.0783\" y=\"-157.8\" font-family=\"Times,serif\" font-size=\"14.00\" fill=\"#000000\">symmetry</text>\n",
       "</g>\n",
       "<!-- N121&#45;&gt;N124 -->\n",
       "<g id=\"edge10\" class=\"edge\">\n",
       "<title>N121&#45;&gt;N124</title>\n",
       "<path fill=\"none\" stroke=\"#000000\" stroke-dasharray=\"1,5\" d=\"M466.9556,-136.9347C481.2074,-132.1796 496.2644,-127.5797 510.5382,-124 553.7234,-113.1697 565.3876,-114.5353 609.4279,-108 711.2636,-92.8882 736.3395,-84.9426 838.9835,-77 882.8124,-73.6085 893.9155,-75.4445 937.8732,-75 1018.0514,-74.1893 1038.1033,-74.4048 1118.2835,-75 1154.6865,-75.2702 1194.7754,-75.8142 1229.5824,-76.3657\"/>\n",
       "<polygon fill=\"#000000\" stroke=\"#000000\" points=\"1229.6719,-79.8675 1239.727,-76.5289 1229.7846,-72.8684 1229.6719,-79.8675\"/>\n",
       "<text text-anchor=\"middle\" x=\"879.4284\" y=\"-93.8\" font-family=\"Times,serif\" font-size=\"14.00\" fill=\"#000000\">CALL_CALC</text>\n",
       "<text text-anchor=\"middle\" x=\"879.4284\" y=\"-79.8\" font-family=\"Times,serif\" font-size=\"14.00\" fill=\"#000000\">CALL</text>\n",
       "</g>\n",
       "<!-- N104 -->\n",
       "<g id=\"node4\" class=\"node\">\n",
       "<title>N104</title>\n",
       "<ellipse fill=\"#8cd499\" stroke=\"#000000\" stroke-width=\"0\" cx=\"90.2051\" cy=\"-292\" rx=\"90.4108\" ry=\"25.4118\"/>\n",
       "<text text-anchor=\"middle\" x=\"90.2051\" y=\"-294.8\" font-family=\"Times,serif\" font-size=\"14.00\" fill=\"#000000\">StructureData (104)</text>\n",
       "<text text-anchor=\"middle\" x=\"90.2051\" y=\"-280.8\" font-family=\"Times,serif\" font-size=\"14.00\" fill=\"#000000\">Mg4O4</text>\n",
       "</g>\n",
       "<!-- N104&#45;&gt;N122 -->\n",
       "<g id=\"edge4\" class=\"edge\">\n",
       "<title>N104&#45;&gt;N122</title>\n",
       "<path fill=\"none\" stroke=\"#000000\" d=\"M180.3662,-290.3007C262.0889,-287.9937 385.7238,-282.5913 492.5382,-270 536.9041,-264.7702 547.5559,-260.4225 591.4279,-252 594.1107,-251.485 596.8256,-250.9608 599.5632,-250.4297\"/>\n",
       "<polygon fill=\"#000000\" stroke=\"#000000\" points=\"600.4124,-253.8301 609.5571,-248.4798 599.0719,-246.9596 600.4124,-253.8301\"/>\n",
       "<text text-anchor=\"middle\" x=\"399.9708\" y=\"-301.8\" font-family=\"Times,serif\" font-size=\"14.00\" fill=\"#000000\">INPUT_CALC</text>\n",
       "<text text-anchor=\"middle\" x=\"399.9708\" y=\"-287.8\" font-family=\"Times,serif\" font-size=\"14.00\" fill=\"#000000\">structure</text>\n",
       "</g>\n",
       "<!-- N104&#45;&gt;N121 -->\n",
       "<g id=\"edge7\" class=\"edge\">\n",
       "<title>N104&#45;&gt;N121</title>\n",
       "<path fill=\"none\" stroke=\"#000000\" stroke-dasharray=\"5,2\" d=\"M140.6638,-270.8239C192.387,-249.1171 273.1931,-215.2051 330.8468,-191.0094\"/>\n",
       "<polygon fill=\"#000000\" stroke=\"#000000\" points=\"332.3849,-194.1597 340.2513,-187.0626 329.676,-187.7051 332.3849,-194.1597\"/>\n",
       "<text text-anchor=\"middle\" x=\"243.9069\" y=\"-262.8\" font-family=\"Times,serif\" font-size=\"14.00\" fill=\"#000000\">INPUT_WORK</text>\n",
       "<text text-anchor=\"middle\" x=\"243.9069\" y=\"-248.8\" font-family=\"Times,serif\" font-size=\"14.00\" fill=\"#000000\">structure</text>\n",
       "</g>\n",
       "<!-- N120 -->\n",
       "<g id=\"node5\" class=\"node\">\n",
       "<title>N120</title>\n",
       "<ellipse fill=\"#8cd499\" stroke=\"#000000\" stroke-width=\"0\" cx=\"90.2051\" cy=\"-162\" rx=\"46.8976\" ry=\"18\"/>\n",
       "<text text-anchor=\"middle\" x=\"90.2051\" y=\"-157.8\" font-family=\"Times,serif\" font-size=\"14.00\" fill=\"#000000\">Dict (120)</text>\n",
       "</g>\n",
       "<!-- N120&#45;&gt;N122 -->\n",
       "<g id=\"edge5\" class=\"edge\">\n",
       "<title>N120&#45;&gt;N122</title>\n",
       "<path fill=\"none\" stroke=\"#000000\" d=\"M124.8708,-174.0991C145.8972,-180.9722 173.4098,-189.1484 198.4103,-194 334.3546,-220.3816 493.8002,-226.9632 599.2513,-228.0207\"/>\n",
       "<polygon fill=\"#000000\" stroke=\"#000000\" points=\"599.2555,-231.5208 609.2851,-228.1063 599.3153,-224.5211 599.2555,-231.5208\"/>\n",
       "<text text-anchor=\"middle\" x=\"399.9708\" y=\"-240.8\" font-family=\"Times,serif\" font-size=\"14.00\" fill=\"#000000\">INPUT_CALC</text>\n",
       "<text text-anchor=\"middle\" x=\"399.9708\" y=\"-226.8\" font-family=\"Times,serif\" font-size=\"14.00\" fill=\"#000000\">settings</text>\n",
       "</g>\n",
       "<!-- N120&#45;&gt;N121 -->\n",
       "<g id=\"edge6\" class=\"edge\">\n",
       "<title>N120&#45;&gt;N121</title>\n",
       "<path fill=\"none\" stroke=\"#000000\" stroke-dasharray=\"5,2\" d=\"M136.9156,-162C179.1516,-162 242.8233,-162 296.9448,-162\"/>\n",
       "<polygon fill=\"#000000\" stroke=\"#000000\" points=\"297.2818,-165.5001 307.2817,-162 297.2817,-158.5001 297.2818,-165.5001\"/>\n",
       "<text text-anchor=\"middle\" x=\"243.9069\" y=\"-178.8\" font-family=\"Times,serif\" font-size=\"14.00\" fill=\"#000000\">INPUT_WORK</text>\n",
       "<text text-anchor=\"middle\" x=\"243.9069\" y=\"-164.8\" font-family=\"Times,serif\" font-size=\"14.00\" fill=\"#000000\">settings</text>\n",
       "</g>\n",
       "<!-- N120&#45;&gt;N124 -->\n",
       "<g id=\"edge12\" class=\"edge\">\n",
       "<title>N120&#45;&gt;N124</title>\n",
       "<path fill=\"none\" stroke=\"#000000\" d=\"M107.7019,-144.9694C152.3666,-103.3765 275.8615,0 399.9708,0 399.9708,0 399.9708,0 1028.0783,0 1107.3031,0 1194.6472,-27.0843 1253.0322,-49.3331\"/>\n",
       "<polygon fill=\"#000000\" stroke=\"#000000\" points=\"1251.9181,-52.6549 1262.5074,-52.9985 1254.4436,-46.1263 1251.9181,-52.6549\"/>\n",
       "<text text-anchor=\"middle\" x=\"715.2057\" y=\"-16.8\" font-family=\"Times,serif\" font-size=\"14.00\" fill=\"#000000\">INPUT_CALC</text>\n",
       "<text text-anchor=\"middle\" x=\"715.2057\" y=\"-2.8\" font-family=\"Times,serif\" font-size=\"14.00\" fill=\"#000000\">settings</text>\n",
       "</g>\n",
       "<!-- N124&#45;&gt;N125 -->\n",
       "<g id=\"edge8\" class=\"edge\">\n",
       "<title>N124&#45;&gt;N125</title>\n",
       "<path fill=\"none\" stroke=\"#000000\" d=\"M1401.1705,-96.6335C1430.3874,-103.3699 1463.5727,-111.0213 1493.626,-117.9506\"/>\n",
       "<polygon fill=\"#000000\" stroke=\"#000000\" points=\"1493.157,-121.4342 1503.6877,-120.2704 1494.7297,-114.6131 1493.157,-121.4342\"/>\n",
       "<text text-anchor=\"middle\" x=\"1445.3113\" y=\"-128.8\" font-family=\"Times,serif\" font-size=\"14.00\" fill=\"#000000\">CREATE</text>\n",
       "<text text-anchor=\"middle\" x=\"1445.3113\" y=\"-114.8\" font-family=\"Times,serif\" font-size=\"14.00\" fill=\"#000000\">result</text>\n",
       "</g>\n",
       "</g>\n",
       "</svg>\n"
      ],
      "text/plain": [
       "<graphviz.dot.Digraph at 0x11a534f98>"
      ]
     },
     "execution_count": 35,
     "metadata": {},
     "output_type": "execute_result"
    }
   ],
   "source": [
    "builder.settings = {\n",
    "    \"symprec\": 0.01,\n",
    "    \"compute_primitive\": True,\n",
    "    \"standardize_cell\": True}\n",
    "sym_result2 = run_get_node(builder)\n",
    "graph = Graph(graph_attr={'size': \"9,9!\", \"rankdir\": \"LR\"})\n",
    "graph.recurse_ancestors(sym_result2.result[\"structure\"],\n",
    "                        annotate_links=\"both\")\n",
    "graph.recurse_ancestors(sym_result2.result[\"symmetry\"],\n",
    "                        annotate_links=\"both\")\n",
    "graph.graphviz"
   ]
  },
  {
   "cell_type": "markdown",
   "metadata": {},
   "source": [
    "The other option is to ``idealize`` the structure, which\n",
    "removes distortions of the unit cell's atomic positions,\n",
    "compared to the ideal symmetry."
   ]
  },
  {
   "cell_type": "markdown",
   "metadata": {},
   "source": [
    "## Setting Up and Running the Calculation"
   ]
  },
  {
   "cell_type": "markdown",
   "metadata": {},
   "source": [
    ".. seealso::\n",
    "\n",
    "    AiiDA documentation: :ref:`aiida:working_processes`"
   ]
  },
  {
   "cell_type": "markdown",
   "metadata": {},
   "source": [
    ":py:class:`~aiida_crystal17.calculations.cry_main.CryMainCalculation`\n",
    "provides a helper function to create, populate and validate the input builder."
   ]
  },
  {
   "cell_type": "code",
   "execution_count": 49,
   "metadata": {},
   "outputs": [
    {
     "data": {
      "text/markdown": [
       "```json\n",
       "{\n",
       "  \"metadata\": {\n",
       "    \"options\": {\n",
       "      \"resources\": {\n",
       "        \"num_machines\": 1,\n",
       "        \"num_mpiprocs_per_machine\": 1\n",
       "      }\n",
       "    }\n",
       "  },\n",
       "  \"basissets\": {\n",
       "    \"Ni\": [\n",
       "      \"uuid: f9138f14-401b-4287-800e-8e6e4a95f0d6 (pk: 25)\"\n",
       "    ],\n",
       "    \"O\": [\n",
       "      \"uuid: 3ab50757-05b6-48de-bd8e-6488472c3c69 (pk: 26)\"\n",
       "    ]\n",
       "  },\n",
       "  \"parameters\": [\n",
       "    \"uuid: 92bba44f-b3df-4e04-ad69-a6b411cf787b (unstored)\"\n",
       "  ],\n",
       "  \"structure\": [\n",
       "    \"uuid: 8d626706-24f9-43b8-bbf3-9b01b851e591 (pk: 169)\"\n",
       "  ],\n",
       "  \"symmetry\": [\n",
       "    \"uuid: 2b594d60-b846-4a6b-aeb1-b0894984d438 (pk: 171)\"\n",
       "  ],\n",
       "  \"kinds\": [\n",
       "    \"uuid: ed253aa1-bac0-4da6-8d00-679cf23e7dae (unstored)\"\n",
       "  ],\n",
       "  \"code\": [\n",
       "    \"Remote code 'crystal17.basic-mock_crystal17@localhost' on localhost,\",\n",
       "    \"pk: 1, uuid: d9ae48df-22cf-4ee2-9d47-0e16f48c8b0a\"\n",
       "  ]\n",
       "}\n",
       "```"
      ]
     },
     "metadata": {},
     "output_type": "display_data"
    }
   ],
   "source": [
    "from aiida_crystal17.tests import get_test_structure_and_symm\n",
    "from aiida_crystal17.data.kinds import KindData\n",
    "\n",
    "calc_cls = CalculationFactory('crystal17.main')\n",
    "structure, symmetry  = get_test_structure_and_symm(\"NiO_afm\")\n",
    "kind_data = KindData(data={\n",
    "    \"kind_names\": [\"Ni1\", \"Ni2\", \"O\"],\n",
    "    \"spin_alpha\": [True, False, False], \n",
    "    \"spin_beta\": [False, True, False]})\n",
    "\n",
    "calc_builder = calc_cls.create_builder(\n",
    "    parameters={\n",
    "        \"title\": \"NiO Bulk with AFM spin\",\n",
    "        \"scf.single\": \"UHF\",\n",
    "        \"scf.k_points\": (8, 8),\n",
    "        \"scf.spinlock.SPINLOCK\": (0, 15),\n",
    "        \"scf.numerical.FMIXING\": 30,\n",
    "        \"scf.post_scf\": [\"PPAN\"]\n",
    "    },\n",
    "    unflatten=True,\n",
    "    structure=structure,\n",
    "    symmetry=symmetry,\n",
    "    kinds=kind_data,\n",
    "    bases=\"sto3g\",\n",
    "    code=Code.objects.get(label=\"crystal17.basic-mock_crystal17@localhost\"),\n",
    "    metadata={\"options\": {\"resources\": {\n",
    "        \"num_machines\": 1, \"num_mpiprocs_per_machine\": 1}}}\n",
    ")\n",
    "display_json(calc_builder)"
   ]
  },
  {
   "cell_type": "markdown",
   "metadata": {},
   "source": [
    "In order to run the computation,\n",
    "the builder can be parsed to one of the AiiDA ``run`` (blocking execution) or ``submit`` (non-blocking execution) functions:"
   ]
  },
  {
   "cell_type": "code",
   "execution_count": 50,
   "metadata": {
    "tags": [
     "pytest_compare"
    ]
   },
   "outputs": [],
   "source": [
    "result, calcnode = run_get_node(calc_builder)"
   ]
  },
  {
   "cell_type": "markdown",
   "metadata": {},
   "source": [
    "The process can be monitored on the command line:"
   ]
  },
  {
   "cell_type": "code",
   "execution_count": 51,
   "metadata": {},
   "outputs": [
    {
     "name": "stdout",
     "output_type": "stream",
     "text": [
      "\u001b[22m  PK  Created    Process label          Process State    Process status\n",
      "----  ---------  ---------------------  ---------------  ----------------\n",
      " 174  19s ago    CryMainCalculation     ⏹ Finished [0]\n",
      " 170  22s ago    compute_symmetry       ⏹ Finished [0]\n",
      " 168  23s ago    primitive_structure    ⏹ Finished [0]\n",
      " 167  23s ago    Symmetrise3DStructure  ⏹ Finished [0]\u001b[0m\n",
      "\u001b[22m\n",
      "Total results: 4\n",
      "\u001b[0m\n",
      "\u001b[34m\u001b[1mInfo: \u001b[0m\u001b[22mlast time an entry changed state: 5s ago (at 12:33:22 on 2019-07-18)\u001b[0m\n"
     ]
    }
   ],
   "source": [
    "!verdi process list -a -D desc -l 4"
   ]
  },
  {
   "cell_type": "markdown",
   "metadata": {},
   "source": [
    "Once the calculation is complete, a ``CalcJobNode`` will be created,\n",
    "to store the settings and outcome of the computation.\n",
    "Crucially, if the computation has completed successfully,\n",
    "the `exit_status` will be **0**. \n",
    "\n",
    "This can be assessed on the command line or with the python API."
   ]
  },
  {
   "cell_type": "code",
   "execution_count": 52,
   "metadata": {},
   "outputs": [
    {
     "name": "stdout",
     "output_type": "stream",
     "text": [
      "\u001b[22mProperty       Value\n",
      "-------------  ------------------------------------\n",
      "type           CalcJobNode\n",
      "pk             174\n",
      "uuid           99770bbe-faed-45ac-bf27-ded8191ea560\n",
      "label\n",
      "description\n",
      "ctime          2019-07-18 12:33:08.329202+00:00\n",
      "mtime          2019-07-18 12:33:22.196416+00:00\n",
      "process state  Finished\n",
      "exit status    0\n",
      "computer       [1] localhost\n",
      "\n",
      "Inputs      PK    Type\n",
      "----------  ----  ------------------\n",
      "basissets\n",
      "    Ni      25    BasisSetData\n",
      "    O       26    BasisSetData\n",
      "code        1     Code\n",
      "kinds       173   KindData\n",
      "parameters  172   CryInputParamsData\n",
      "structure   169   StructureData\n",
      "symmetry    171   SymmetryData\n",
      "\n",
      "Outputs          PK  Type\n",
      "-------------  ----  ----------\n",
      "remote_folder   175  RemoteData\n",
      "results         177  Dict\n",
      "retrieved       176  FolderData\u001b[0m\n"
     ]
    }
   ],
   "source": [
    "!verdi process show {calcnode.pk}"
   ]
  },
  {
   "cell_type": "code",
   "execution_count": 53,
   "metadata": {
    "tags": [
     "pytest_compare"
    ]
   },
   "outputs": [
    {
     "name": "stdout",
     "output_type": "stream",
     "text": [
      "True\n",
      "ProcessState.FINISHED\n",
      "0\n"
     ]
    }
   ],
   "source": [
    "print(calcnode.is_finished_ok)\n",
    "print(calcnode.process_state)\n",
    "print(calcnode.exit_status)"
   ]
  },
  {
   "cell_type": "markdown",
   "metadata": {},
   "source": [
    "If the calculation fails, there are three things that should be checked:\n",
    "\n",
    "1. The calculation's exit_message\n",
    "2. The calculation's log messages and scheduler output\n",
    "3. The `results` output node (if available)"
   ]
  },
  {
   "cell_type": "code",
   "execution_count": 54,
   "metadata": {},
   "outputs": [
    {
     "name": "stdout",
     "output_type": "stream",
     "text": [
      "Exit Message: None\n",
      "*** 174: None\n",
      "*** (empty scheduler output file)\n",
      "*** (empty scheduler errors file)\n",
      "*** 0 LOG MESSAGES\n"
     ]
    }
   ],
   "source": [
    "print(\"Exit Message:\", calcnode.exit_message)\n",
    "from aiida.cmdline.utils.common import get_calcjob_report\n",
    "print(get_calcjob_report(calcnode))"
   ]
  },
  {
   "cell_type": "code",
   "execution_count": 55,
   "metadata": {},
   "outputs": [
    {
     "name": "stdout",
     "output_type": "stream",
     "text": [
      "\u001b[22m*** 174: None\n",
      "*** (empty scheduler output file)\n",
      "*** (empty scheduler errors file)\n",
      "*** 0 LOG MESSAGES\u001b[0m\n"
     ]
    }
   ],
   "source": [
    "!verdi process report {calcnode.pk}"
   ]
  },
  {
   "cell_type": "markdown",
   "metadata": {},
   "source": [
    "##  Analysis of Outputs"
   ]
  },
  {
   "cell_type": "markdown",
   "metadata": {},
   "source": [
    "The :py:class:`~aiida.tools.visualization.graph.Graph` can be used to visualise the calculations provenance graph:"
   ]
  },
  {
   "cell_type": "code",
   "execution_count": 56,
   "metadata": {
    "ipub": {
     "figure": {
      "caption": "`crystal17.main` calculation provenance graph (SCF only)."
     }
    }
   },
   "outputs": [
    {
     "data": {
      "image/svg+xml": [
       "<?xml version=\"1.0\" encoding=\"UTF-8\" standalone=\"no\"?>\n",
       "<!DOCTYPE svg PUBLIC \"-//W3C//DTD SVG 1.1//EN\"\n",
       " \"http://www.w3.org/Graphics/SVG/1.1/DTD/svg11.dtd\">\n",
       "<!-- Generated by graphviz version 2.40.1 (20161225.0304)\n",
       " -->\n",
       "<!-- Title: %3 Pages: 1 -->\n",
       "<svg width=\"432pt\" height=\"230pt\"\n",
       " viewBox=\"0.00 0.00 432.00 229.97\" xmlns=\"http://www.w3.org/2000/svg\" xmlns:xlink=\"http://www.w3.org/1999/xlink\">\n",
       "<g id=\"graph0\" class=\"graph\" transform=\"scale(.5281 .5281) rotate(0) translate(4 431.4558)\">\n",
       "<title>%3</title>\n",
       "<polygon fill=\"#ffffff\" stroke=\"transparent\" points=\"-4,4 -4,-431.4558 813.9897,-431.4558 813.9897,4 -4,4\"/>\n",
       "<!-- N174 -->\n",
       "<g id=\"node1\" class=\"node\">\n",
       "<title>N174</title>\n",
       "<polygon fill=\"#de707f\" stroke=\"#000000\" stroke-width=\"0\" points=\"525.2315,-261.4558 360.4034,-261.4558 360.4034,-211.4558 525.2315,-211.4558 525.2315,-261.4558\"/>\n",
       "<text text-anchor=\"middle\" x=\"442.8175\" y=\"-246.2558\" font-family=\"Times,serif\" font-size=\"14.00\" fill=\"#000000\">CryMainCalculation (174)</text>\n",
       "<text text-anchor=\"middle\" x=\"442.8175\" y=\"-232.2558\" font-family=\"Times,serif\" font-size=\"14.00\" fill=\"#000000\">State: finished</text>\n",
       "<text text-anchor=\"middle\" x=\"442.8175\" y=\"-218.2558\" font-family=\"Times,serif\" font-size=\"14.00\" fill=\"#000000\">Exit Code: 0</text>\n",
       "</g>\n",
       "<!-- N175 -->\n",
       "<g id=\"node9\" class=\"node\">\n",
       "<title>N175</title>\n",
       "<ellipse fill=\"#8cd499\" stroke=\"#000000\" stroke-width=\"0\" cx=\"725.2806\" cy=\"-297.4558\" rx=\"84.9189\" ry=\"25.4118\"/>\n",
       "<text text-anchor=\"middle\" x=\"725.2806\" y=\"-300.2558\" font-family=\"Times,serif\" font-size=\"14.00\" fill=\"#000000\">RemoteData (175)</text>\n",
       "<text text-anchor=\"middle\" x=\"725.2806\" y=\"-286.2558\" font-family=\"Times,serif\" font-size=\"14.00\" fill=\"#000000\">@localhost</text>\n",
       "</g>\n",
       "<!-- N174&#45;&gt;N175 -->\n",
       "<g id=\"edge8\" class=\"edge\">\n",
       "<title>N174&#45;&gt;N175</title>\n",
       "<path fill=\"none\" stroke=\"#000000\" d=\"M517.0746,-261.4818C525.8522,-264.0316 534.7264,-266.4255 543.2745,-268.4558 573.4811,-275.6304 606.9368,-281.5324 636.8391,-286.0959\"/>\n",
       "<polygon fill=\"#000000\" stroke=\"#000000\" points=\"636.4258,-289.5729 646.8338,-287.5921 637.4622,-282.6501 636.4258,-289.5729\"/>\n",
       "<text text-anchor=\"middle\" x=\"582.9229\" y=\"-299.2558\" font-family=\"Times,serif\" font-size=\"14.00\" fill=\"#000000\">CREATE</text>\n",
       "<text text-anchor=\"middle\" x=\"582.9229\" y=\"-285.2558\" font-family=\"Times,serif\" font-size=\"14.00\" fill=\"#000000\">remote_folder</text>\n",
       "</g>\n",
       "<!-- N176 -->\n",
       "<g id=\"node10\" class=\"node\">\n",
       "<title>N176</title>\n",
       "<ellipse fill=\"#8cd499\" stroke=\"#000000\" stroke-width=\"0\" cx=\"725.2806\" cy=\"-236.4558\" rx=\"71.0117\" ry=\"18\"/>\n",
       "<text text-anchor=\"middle\" x=\"725.2806\" y=\"-232.2558\" font-family=\"Times,serif\" font-size=\"14.00\" fill=\"#000000\">FolderData (176)</text>\n",
       "</g>\n",
       "<!-- N174&#45;&gt;N176 -->\n",
       "<g id=\"edge9\" class=\"edge\">\n",
       "<title>N174&#45;&gt;N176</title>\n",
       "<path fill=\"none\" stroke=\"#000000\" d=\"M525.2768,-236.4558C562.4877,-236.4558 606.3237,-236.4558 643.4585,-236.4558\"/>\n",
       "<polygon fill=\"#000000\" stroke=\"#000000\" points=\"643.7437,-239.9559 653.7436,-236.4558 643.7436,-232.9559 643.7437,-239.9559\"/>\n",
       "<text text-anchor=\"middle\" x=\"582.9229\" y=\"-253.2558\" font-family=\"Times,serif\" font-size=\"14.00\" fill=\"#000000\">CREATE</text>\n",
       "<text text-anchor=\"middle\" x=\"582.9229\" y=\"-239.2558\" font-family=\"Times,serif\" font-size=\"14.00\" fill=\"#000000\">retrieved</text>\n",
       "</g>\n",
       "<!-- N177 -->\n",
       "<g id=\"node11\" class=\"node\">\n",
       "<title>N177</title>\n",
       "<ellipse fill=\"#8cd499\" stroke=\"#000000\" stroke-width=\"0\" cx=\"725.2806\" cy=\"-182.4558\" rx=\"46.8976\" ry=\"18\"/>\n",
       "<text text-anchor=\"middle\" x=\"725.2806\" y=\"-178.2558\" font-family=\"Times,serif\" font-size=\"14.00\" fill=\"#000000\">Dict (177)</text>\n",
       "</g>\n",
       "<!-- N174&#45;&gt;N177 -->\n",
       "<g id=\"edge10\" class=\"edge\">\n",
       "<title>N174&#45;&gt;N177</title>\n",
       "<path fill=\"none\" stroke=\"#000000\" d=\"M515.9035,-211.4225C525.0505,-208.8094 534.3319,-206.4025 543.2745,-204.4558 584.8841,-195.3983 632.7142,-189.7991 668.8975,-186.5174\"/>\n",
       "<polygon fill=\"#000000\" stroke=\"#000000\" points=\"669.5979,-189.9696 679.2551,-185.6122 668.9884,-182.9962 669.5979,-189.9696\"/>\n",
       "<text text-anchor=\"middle\" x=\"582.9229\" y=\"-221.2558\" font-family=\"Times,serif\" font-size=\"14.00\" fill=\"#000000\">CREATE</text>\n",
       "<text text-anchor=\"middle\" x=\"582.9229\" y=\"-207.2558\" font-family=\"Times,serif\" font-size=\"14.00\" fill=\"#000000\">results</text>\n",
       "</g>\n",
       "<!-- N25 -->\n",
       "<g id=\"node2\" class=\"node\">\n",
       "<title>N25</title>\n",
       "<ellipse fill=\"#8cd499\" stroke=\"#000000\" stroke-width=\"0\" cx=\"119.4009\" cy=\"-405.4558\" rx=\"74.4186\" ry=\"18\"/>\n",
       "<text text-anchor=\"middle\" x=\"119.4009\" y=\"-401.2558\" font-family=\"Times,serif\" font-size=\"14.00\" fill=\"#000000\">BasisSetData (25)</text>\n",
       "</g>\n",
       "<!-- N25&#45;&gt;N174 -->\n",
       "<g id=\"edge1\" class=\"edge\">\n",
       "<title>N25&#45;&gt;N174</title>\n",
       "<path fill=\"none\" stroke=\"#000000\" d=\"M193.1683,-407.5962C239.0512,-405.7495 297.6223,-397.3709 342.3604,-370.4558 381.3083,-347.0243 410.1492,-302.2412 426.7032,-270.9211\"/>\n",
       "<polygon fill=\"#000000\" stroke=\"#000000\" points=\"429.9973,-272.1675 431.4438,-261.6719 423.7678,-268.9747 429.9973,-272.1675\"/>\n",
       "<text text-anchor=\"middle\" x=\"299.5811\" y=\"-416.2558\" font-family=\"Times,serif\" font-size=\"14.00\" fill=\"#000000\">INPUT_CALC</text>\n",
       "<text text-anchor=\"middle\" x=\"299.5811\" y=\"-402.2558\" font-family=\"Times,serif\" font-size=\"14.00\" fill=\"#000000\">basissets__Ni</text>\n",
       "</g>\n",
       "<!-- N26 -->\n",
       "<g id=\"node3\" class=\"node\">\n",
       "<title>N26</title>\n",
       "<ellipse fill=\"#8cd499\" stroke=\"#000000\" stroke-width=\"0\" cx=\"119.4009\" cy=\"-351.4558\" rx=\"74.4186\" ry=\"18\"/>\n",
       "<text text-anchor=\"middle\" x=\"119.4009\" y=\"-347.2558\" font-family=\"Times,serif\" font-size=\"14.00\" fill=\"#000000\">BasisSetData (26)</text>\n",
       "</g>\n",
       "<!-- N26&#45;&gt;N174 -->\n",
       "<g id=\"edge2\" class=\"edge\">\n",
       "<title>N26&#45;&gt;N174</title>\n",
       "<path fill=\"none\" stroke=\"#000000\" d=\"M192.7671,-348.3861C237.5502,-344.3308 295.0874,-335.1334 342.3604,-314.4558 367.496,-303.4613 391.8967,-284.7651 410.3547,-268.4331\"/>\n",
       "<polygon fill=\"#000000\" stroke=\"#000000\" points=\"412.8266,-270.9164 417.8863,-261.6078 408.126,-265.7294 412.8266,-270.9164\"/>\n",
       "<text text-anchor=\"middle\" x=\"299.5811\" y=\"-355.2558\" font-family=\"Times,serif\" font-size=\"14.00\" fill=\"#000000\">INPUT_CALC</text>\n",
       "<text text-anchor=\"middle\" x=\"299.5811\" y=\"-341.2558\" font-family=\"Times,serif\" font-size=\"14.00\" fill=\"#000000\">basissets__O</text>\n",
       "</g>\n",
       "<!-- N172 -->\n",
       "<g id=\"node4\" class=\"node\">\n",
       "<title>N172</title>\n",
       "<ellipse fill=\"#8cd499\" stroke=\"#000000\" stroke-width=\"0\" cx=\"119.4009\" cy=\"-297.4558\" rx=\"106.2656\" ry=\"18\"/>\n",
       "<text text-anchor=\"middle\" x=\"119.4009\" y=\"-293.2558\" font-family=\"Times,serif\" font-size=\"14.00\" fill=\"#000000\">CryInputParamsData (172)</text>\n",
       "</g>\n",
       "<!-- N172&#45;&gt;N174 -->\n",
       "<g id=\"edge3\" class=\"edge\">\n",
       "<title>N172&#45;&gt;N174</title>\n",
       "<path fill=\"none\" stroke=\"#000000\" d=\"M213.3431,-289.0141C253.3876,-284.4437 300.447,-277.7784 342.3604,-268.4558 348.0263,-267.1956 353.8299,-265.7566 359.6502,-264.2024\"/>\n",
       "<polygon fill=\"#000000\" stroke=\"#000000\" points=\"360.7378,-267.533 369.4397,-261.4893 358.8682,-260.7873 360.7378,-267.533\"/>\n",
       "<text text-anchor=\"middle\" x=\"299.5811\" y=\"-299.2558\" font-family=\"Times,serif\" font-size=\"14.00\" fill=\"#000000\">INPUT_CALC</text>\n",
       "<text text-anchor=\"middle\" x=\"299.5811\" y=\"-285.2558\" font-family=\"Times,serif\" font-size=\"14.00\" fill=\"#000000\">parameters</text>\n",
       "</g>\n",
       "<!-- N169 -->\n",
       "<g id=\"node5\" class=\"node\">\n",
       "<title>N169</title>\n",
       "<ellipse fill=\"#8cd499\" stroke=\"#000000\" stroke-width=\"0\" cx=\"119.4009\" cy=\"-236.4558\" rx=\"90.4108\" ry=\"25.4118\"/>\n",
       "<text text-anchor=\"middle\" x=\"119.4009\" y=\"-239.2558\" font-family=\"Times,serif\" font-size=\"14.00\" fill=\"#000000\">StructureData (169)</text>\n",
       "<text text-anchor=\"middle\" x=\"119.4009\" y=\"-225.2558\" font-family=\"Times,serif\" font-size=\"14.00\" fill=\"#000000\">Ni2O2</text>\n",
       "</g>\n",
       "<!-- N169&#45;&gt;N174 -->\n",
       "<g id=\"edge4\" class=\"edge\">\n",
       "<title>N169&#45;&gt;N174</title>\n",
       "<path fill=\"none\" stroke=\"#000000\" d=\"M209.9205,-236.4558C253.6956,-236.4558 306.1665,-236.4558 350.2126,-236.4558\"/>\n",
       "<polygon fill=\"#000000\" stroke=\"#000000\" points=\"350.3441,-239.9559 360.344,-236.4558 350.344,-232.9559 350.3441,-239.9559\"/>\n",
       "<text text-anchor=\"middle\" x=\"299.5811\" y=\"-253.2558\" font-family=\"Times,serif\" font-size=\"14.00\" fill=\"#000000\">INPUT_CALC</text>\n",
       "<text text-anchor=\"middle\" x=\"299.5811\" y=\"-239.2558\" font-family=\"Times,serif\" font-size=\"14.00\" fill=\"#000000\">structure</text>\n",
       "</g>\n",
       "<!-- N171 -->\n",
       "<g id=\"node6\" class=\"node\">\n",
       "<title>N171</title>\n",
       "<ellipse fill=\"#8cd499\" stroke=\"#000000\" stroke-width=\"0\" cx=\"119.4009\" cy=\"-157.4558\" rx=\"95.3294\" ry=\"35.2113\"/>\n",
       "<text text-anchor=\"middle\" x=\"119.4009\" y=\"-167.2558\" font-family=\"Times,serif\" font-size=\"14.00\" fill=\"#000000\">SymmetryData (171)</text>\n",
       "<text text-anchor=\"middle\" x=\"119.4009\" y=\"-153.2558\" font-family=\"Times,serif\" font-size=\"14.00\" fill=\"#000000\">hall_number: 400</text>\n",
       "<text text-anchor=\"middle\" x=\"119.4009\" y=\"-139.2558\" font-family=\"Times,serif\" font-size=\"14.00\" fill=\"#000000\">symmops: 16</text>\n",
       "</g>\n",
       "<!-- N171&#45;&gt;N174 -->\n",
       "<g id=\"edge5\" class=\"edge\">\n",
       "<title>N171&#45;&gt;N174</title>\n",
       "<path fill=\"none\" stroke=\"#000000\" d=\"M204.5721,-173.3185C246.3299,-181.626 297.2267,-192.5425 342.3604,-204.4558 347.2674,-205.7511 352.2899,-207.1411 357.3452,-208.5902\"/>\n",
       "<polygon fill=\"#000000\" stroke=\"#000000\" points=\"356.5054,-211.9912 367.0859,-211.4404 358.4713,-205.2729 356.5054,-211.9912\"/>\n",
       "<text text-anchor=\"middle\" x=\"299.5811\" y=\"-221.2558\" font-family=\"Times,serif\" font-size=\"14.00\" fill=\"#000000\">INPUT_CALC</text>\n",
       "<text text-anchor=\"middle\" x=\"299.5811\" y=\"-207.2558\" font-family=\"Times,serif\" font-size=\"14.00\" fill=\"#000000\">symmetry</text>\n",
       "</g>\n",
       "<!-- N173 -->\n",
       "<g id=\"node7\" class=\"node\">\n",
       "<title>N173</title>\n",
       "<ellipse fill=\"#8cd499\" stroke=\"#000000\" stroke-width=\"0\" cx=\"119.4009\" cy=\"-86.4558\" rx=\"65.7073\" ry=\"18\"/>\n",
       "<text text-anchor=\"middle\" x=\"119.4009\" y=\"-82.2558\" font-family=\"Times,serif\" font-size=\"14.00\" fill=\"#000000\">KindData (173)</text>\n",
       "</g>\n",
       "<!-- N173&#45;&gt;N174 -->\n",
       "<g id=\"edge6\" class=\"edge\">\n",
       "<title>N173&#45;&gt;N174</title>\n",
       "<path fill=\"none\" stroke=\"#000000\" d=\"M176.9515,-95.2858C223.8732,-104.2948 290.6086,-121.3441 342.3604,-151.4558 367.2411,-165.9326 391.9655,-186.75 410.66,-204.1594\"/>\n",
       "<polygon fill=\"#000000\" stroke=\"#000000\" points=\"408.619,-207.047 418.2857,-211.3835 413.4331,-201.9652 408.619,-207.047\"/>\n",
       "<text text-anchor=\"middle\" x=\"299.5811\" y=\"-168.2558\" font-family=\"Times,serif\" font-size=\"14.00\" fill=\"#000000\">INPUT_CALC</text>\n",
       "<text text-anchor=\"middle\" x=\"299.5811\" y=\"-154.2558\" font-family=\"Times,serif\" font-size=\"14.00\" fill=\"#000000\">kinds</text>\n",
       "</g>\n",
       "<!-- N1 -->\n",
       "<g id=\"node8\" class=\"node\">\n",
       "<title>N1</title>\n",
       "<ellipse fill=\"#4ca4b9\" fill-opacity=\"0.666667\" stroke=\"#000000\" stroke-width=\"0\" cx=\"119.4009\" cy=\"-25.4558\" rx=\"119.3019\" ry=\"25.4118\"/>\n",
       "<text text-anchor=\"middle\" x=\"119.4009\" y=\"-28.2558\" font-family=\"Times,serif\" font-size=\"14.00\" fill=\"#000000\">Code (1)</text>\n",
       "<text text-anchor=\"middle\" x=\"119.4009\" y=\"-14.2558\" font-family=\"Times,serif\" font-size=\"14.00\" fill=\"#000000\">mock_crystal17@localhost</text>\n",
       "</g>\n",
       "<!-- N1&#45;&gt;N174 -->\n",
       "<g id=\"edge7\" class=\"edge\">\n",
       "<title>N1&#45;&gt;N174</title>\n",
       "<path fill=\"none\" stroke=\"#000000\" d=\"M226.117,-36.878C265.4232,-45.0965 308.5581,-59.2141 342.3604,-83.4558 384.2561,-113.5019 413.3975,-166.9185 429.1231,-202.0138\"/>\n",
       "<polygon fill=\"#000000\" stroke=\"#000000\" points=\"426.004,-203.618 433.2022,-211.392 432.4231,-200.8259 426.004,-203.618\"/>\n",
       "<text text-anchor=\"middle\" x=\"299.5811\" y=\"-100.2558\" font-family=\"Times,serif\" font-size=\"14.00\" fill=\"#000000\">INPUT_CALC</text>\n",
       "<text text-anchor=\"middle\" x=\"299.5811\" y=\"-86.2558\" font-family=\"Times,serif\" font-size=\"14.00\" fill=\"#000000\">code</text>\n",
       "</g>\n",
       "</g>\n",
       "</svg>\n"
      ],
      "text/plain": [
       "<graphviz.dot.Digraph at 0x1107fe198>"
      ]
     },
     "execution_count": 56,
     "metadata": {},
     "output_type": "execute_result"
    }
   ],
   "source": [
    "graph = Graph(graph_attr={'size': \"6,8!\", \"rankdir\": \"LR\"})\n",
    "graph.add_node(calcnode)\n",
    "graph.add_incoming(calcnode, annotate_links=\"both\")\n",
    "graph.add_outgoing(calcnode, annotate_links=\"both\")\n",
    "graph.graphviz"
   ]
  },
  {
   "cell_type": "markdown",
   "metadata": {},
   "source": [
    "The `retrieved` `FolderData` output node contains the CRYSTAL17 main input and output file."
   ]
  },
  {
   "cell_type": "code",
   "execution_count": 57,
   "metadata": {
    "tags": [
     "pytest_compare"
    ]
   },
   "outputs": [
    {
     "data": {
      "text/plain": [
       "['_scheduler-stderr.txt', '_scheduler-stdout.txt', 'fort.34', 'main.out']"
      ]
     },
     "execution_count": 57,
     "metadata": {},
     "output_type": "execute_result"
    }
   ],
   "source": [
    "calcnode.outputs.retrieved.list_object_names()"
   ]
  },
  {
   "cell_type": "markdown",
   "metadata": {},
   "source": [
    "The `results` `Dict` output node contains key values extracted from the CRYSTAL17 standard output file."
   ]
  },
  {
   "cell_type": "code",
   "execution_count": 58,
   "metadata": {},
   "outputs": [
    {
     "data": {
      "text/markdown": [
       "```json\n",
       "{\n",
       "  \"units\": {\n",
       "    \"angle\": \"degrees\",\n",
       "    \"energy\": \"eV\",\n",
       "    \"length\": \"angstrom\",\n",
       "    \"conversion\": \"CODATA2014\"\n",
       "  },\n",
       "  \"energy\": -85124.893667339,\n",
       "  \"errors\": [],\n",
       "  \"header\": {\n",
       "    \"crystal_version\": 17,\n",
       "    \"crystal_subversion\": \"1.0.1\"\n",
       "  },\n",
       "  \"volume\": 36.099581472,\n",
       "  \"warnings\": [],\n",
       "  \"calculation\": {\n",
       "    \"n_ao\": 46,\n",
       "    \"spin\": true,\n",
       "    \"type\": \"unrestricted open shell\",\n",
       "    \"n_atoms\": 4,\n",
       "    \"n_shells\": 14,\n",
       "    \"n_symops\": 16,\n",
       "    \"n_core_el\": 40,\n",
       "    \"n_electrons\": 72,\n",
       "    \"n_kpoints_ibz\": 75,\n",
       "    \"n_kpoints_gilat\": 75\n",
       "  },\n",
       "  \"energy_units\": \"eV\",\n",
       "  \"parser_class\": \"CryMainParser\",\n",
       "  \"parser_errors\": [],\n",
       "  \"mulliken_spins\": [\n",
       "    3.057,\n",
       "    -3.057,\n",
       "    -0.072,\n",
       "    0.072\n",
       "  ],\n",
       "  \"parser_version\": \"0.9.0b5\",\n",
       "  \"scf_iterations\": 13,\n",
       "  \"number_of_atoms\": 4,\n",
       "  \"parser_warnings\": [],\n",
       "  \"mulliken_charges\": [\n",
       "    0.398,\n",
       "    0.397,\n",
       "    -0.398,\n",
       "    -0.397\n",
       "  ],\n",
       "  \"parser_exceptions\": [],\n",
       "  \"mulliken_electrons\": [\n",
       "    27.602,\n",
       "    27.603,\n",
       "    8.398,\n",
       "    8.397\n",
       "  ],\n",
       "  \"mulliken_spin_total\": 0.0,\n",
       "  \"number_of_assymetric\": 4,\n",
       "  \"execution_time_seconds\": 187\n",
       "}\n",
       "```"
      ]
     },
     "metadata": {},
     "output_type": "display_data"
    }
   ],
   "source": [
    "display_json(calcnode.outputs.results.get_dict())"
   ]
  },
  {
   "cell_type": "markdown",
   "metadata": {},
   "source": [
    "To understand the format of the parsed data,\n",
    "the raw parser is exposed on the command line as `verdi data crystal17.parse stdout`,\n",
    "which can be used to parse existing output files."
   ]
  }
 ],
 "metadata": {
  "celltoolbar": "Tags",
  "hide_input": false,
  "ipub": {
   "sphinx": {
    "toggle_input_all": true,
    "toggle_output_all": true
   }
  },
  "kernelspec": {
   "display_name": "Python 3",
   "language": "python",
   "name": "python3"
  },
  "language_info": {
   "codemirror_mode": {
    "name": "ipython",
    "version": 3
   },
   "file_extension": ".py",
   "mimetype": "text/x-python",
   "name": "python",
   "nbconvert_exporter": "python",
   "pygments_lexer": "ipython3",
   "version": "3.6.7"
  },
  "toc": {
   "base_numbering": 1,
   "nav_menu": {},
   "number_sections": true,
   "sideBar": true,
   "skip_h1_title": false,
   "title_cell": "Table of Contents",
   "title_sidebar": "Contents",
   "toc_cell": false,
   "toc_position": {
    "height": "calc(100% - 180px)",
    "left": "10px",
    "top": "150px",
    "width": "256px"
   },
   "toc_section_display": true,
   "toc_window_display": false
  }
 },
 "nbformat": 4,
 "nbformat_minor": 2
}
