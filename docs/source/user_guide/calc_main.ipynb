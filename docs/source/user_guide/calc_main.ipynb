{
 "cells": [
  {
   "cell_type": "markdown",
   "metadata": {},
   "source": [
    "# Main Calculation Plugin"
   ]
  },
  {
   "cell_type": "markdown",
   "metadata": {},
   "source": [
    "The `crystal17.main` plugin is the core calculation plugin.\n",
    "It is designed with a more programmatic\n",
    "input interface , to create the input ``.d12`` and ``.gui`` files,\n",
    "from a set of AiiDA :py:class:`~aiida.orm.nodes.data.Data` nodes."
   ]
  },
  {
   "cell_type": "markdown",
   "metadata": {},
   "source": [
    ".. seealso::\n",
    "\n",
    "    See :ref:`main_calculation_immigrant` for a method\n",
    "    to immigrate existing output/input files as a\n",
    "    ``crystal17.main`` calculation."
   ]
  },
  {
   "cell_type": "markdown",
   "metadata": {},
   "source": [
    "## Initial Setup"
   ]
  },
  {
   "cell_type": "markdown",
   "metadata": {},
   "source": [
    "To run a computation, first ensure AiiDA is running:"
   ]
  },
  {
   "cell_type": "code",
   "execution_count": 4,
   "metadata": {},
   "outputs": [
    {
     "name": "stdout",
     "output_type": "stream",
     "text": [
      "\u001b[32m ✓ \u001b[0mprofile:     On profile test_v1_1\u001b[0m\n",
      "\u001b[32m ✓ \u001b[0mrepository:  /Users/cjs14/GitHub/aiida-crystal17/databases/aiida/test_v1_1\u001b[0m\n",
      "\u001b[32m ✓ \u001b[0mpostgres:    Connected to cjs14@None:5432\u001b[0m\n",
      "\u001b[32m ✓ \u001b[0mrabbitmq:    Connected to amqp://127.0.0.1?heartbeat=600\u001b[0m\n",
      "\u001b[32m ✓ \u001b[0mdaemon:      Daemon is running as PID 27187 since 2019-04-20 13:47:33\u001b[0m\n"
     ]
    }
   ],
   "source": [
    "!verdi status"
   ]
  },
  {
   "cell_type": "markdown",
   "metadata": {},
   "source": [
    ".. seealso::\n",
    "\n",
    "    AiiDA documentation: :ref:`aiida:quick_installation`"
   ]
  },
  {
   "cell_type": "markdown",
   "metadata": {},
   "source": [
    "If `aiida-crystal17` is installed,\n",
    "the `crystal17.main` computation should be available:"
   ]
  },
  {
   "cell_type": "code",
   "execution_count": 3,
   "metadata": {},
   "outputs": [
    {
     "name": "stdout",
     "output_type": "stream",
     "text": [
      "\u001b[31m\u001b[1mInputs\u001b[0m\n",
      "\u001b[1m      basissets:  required  BasisSetData        Use a node for the basis set of one of the elements in the structure. You h ...\u001b[0m\n",
      "\u001b[1m           code:  required  Code                The Code to use for this job.\u001b[0m\n",
      "\u001b[1m     parameters:  required  CryInputParamsData  the input parameters to create the .d12 file content.\u001b[0m\n",
      "\u001b[1m      structure:  required  StructureData       the structure used to construct the input .gui file (fort.34)\u001b[0m\n",
      "          kinds:  optional  KindData            additional structure kind specific data (e.g. initial spin)\u001b[0m\n",
      "       metadata:  optional                      \u001b[0m\n",
      "       symmetry:  optional  SymmetryData        the symmetry of the structure, used to construct the input .gui file (fort. ...\u001b[0m\n",
      "\u001b[31m\u001b[1mOutputs\u001b[0m\n",
      "\u001b[1m  remote_folder:  required  RemoteData          Input files necessary to run the process will be stored in this folder node ...\u001b[0m\n",
      "\u001b[1m        results:  required  Dict                the data extracted from the main output file\u001b[0m\n",
      "\u001b[1m      retrieved:  required  FolderData          Files that are retrieved by the daemon will be stored in this node. By defa ...\u001b[0m\n",
      "      structure:  optional  StructureData       the structure output from the calculation\u001b[0m\n",
      "       symmetry:  optional  SymmetryData        the symmetry data from the calculation\u001b[0m\n",
      "\u001b[31m\u001b[1mExit codes\u001b[0m\n",
      "             10:  The process returned an invalid output\u001b[0m\n",
      "             11:  The process did not register a required output\u001b[0m\n",
      "            200:  The retrieved folder data node could not be accessed.\u001b[0m\n",
      "            210:  The main output file was not found\u001b[0m\n",
      "            300:  An error was flagged trying to parse the main crystal output file\u001b[0m\n",
      "            350:  The input file was could not be read by crystal\u001b[0m\n",
      "            351:  Crystal could not find the required wavefunction file\u001b[0m\n",
      "            401:  Scf convergence did not finalise (usually due to reaching step limit)\u001b[0m\n",
      "            402:  Geometry convergence did not finalise (usually due to reaching step limit)\u001b[0m\n",
      "            410:  An error was encountered during an scf computation\u001b[0m\n",
      "            411:  An error encountered usually during geometry optimisation\u001b[0m\n",
      "            412:  An unknown error was encountered, causing the mpi to abort\u001b[0m\n",
      "            499:  The main crystal output file flagged an unhandled error\u001b[0m\n",
      "            510:  Inconsistency in the input and output symmetry\u001b[0m\n",
      "            520:  Primitive symmops were not found in the output file\u001b[0m\n"
     ]
    }
   ],
   "source": [
    "!verdi plugin list aiida.calculations crystal17.main"
   ]
  },
  {
   "cell_type": "markdown",
   "metadata": {},
   "source": [
    "To use the python interface,\n",
    "first ensure a profile is loaded in the python kernel,\n",
    "and import the required modules:"
   ]
  },
  {
   "cell_type": "code",
   "execution_count": 5,
   "metadata": {
    "init_cell": true
   },
   "outputs": [
    {
     "data": {
      "text/plain": [
       "'fes_db_100b3'"
      ]
     },
     "execution_count": 5,
     "metadata": {},
     "output_type": "execute_result"
    }
   ],
   "source": [
    "from aiida import load_profile\n",
    "profile = load_profile()\n",
    "profile.name"
   ]
  },
  {
   "cell_type": "code",
   "execution_count": 6,
   "metadata": {
    "init_cell": true
   },
   "outputs": [],
   "source": [
    "import os\n",
    "from aiida.orm import Code\n",
    "from aiida.plugins import (\n",
    "    DataFactory, WorkflowFactory, CalculationFactory)\n",
    "from aiida.engine import run_get_node\n",
    "from aiida_crystal17.common import display_json\n",
    "from aiida_crystal17.tests import TEST_FILES\n",
    "from aiida_crystal17.graph import Graph\n",
    "from jsonextended import edict"
   ]
  },
  {
   "cell_type": "markdown",
   "metadata": {},
   "source": [
    "## Input Node Creation"
   ]
  },
  {
   "cell_type": "markdown",
   "metadata": {},
   "source": [
    ".. seealso::\n",
    "    \n",
    "    [CRYSTAL17 Manual](http://www.crystal.unito.it/Manuals/crystal17.pdf)"
   ]
  },
  {
   "cell_type": "markdown",
   "metadata": {},
   "source": [
    "### Code"
   ]
  },
  {
   "cell_type": "markdown",
   "metadata": {},
   "source": [
    ".. seealso::\n",
    "\n",
    "    AiiDA documentation: :ref:`aiida:setup_code`"
   ]
  },
  {
   "cell_type": "markdown",
   "metadata": {},
   "source": [
    "An :py:class:`~aiida.orm.nodes.data.code.Code` node should be set up in advance,\n",
    "to use the `crystal17.basic` calculation plugin,\n",
    "and call the ``runcry17`` executable\n",
    "(or ``mock_runcry17`` used here for test purposes)."
   ]
  },
  {
   "cell_type": "code",
   "execution_count": 15,
   "metadata": {},
   "outputs": [
    {
     "data": {
      "text/plain": [
       "[['PK', 913],\n",
       " ['UUID', '02c1e8ff-5d7b-4e10-8fc9-e9b0aa8077d7'],\n",
       " ['Label', 'crystal17.main-mock_runcry17@localhost'],\n",
       " ['Description', ''],\n",
       " ['Default plugin', 'crystal17.main'],\n",
       " ['Type', 'remote'],\n",
       " ['Remote machine', 'localhost'],\n",
       " ['Remote absolute path', '//anaconda/envs/aiida-workshop/bin/mock_runcry17'],\n",
       " ['Prepend text', 'No prepend text'],\n",
       " ['Append text', 'No append text']]"
      ]
     },
     "execution_count": 15,
     "metadata": {},
     "output_type": "execute_result"
    }
   ],
   "source": [
    "from aiida_crystal17.tests.utils import get_or_create_local_computer, get_or_create_code\n",
    "computer = get_or_create_local_computer('work_directory', 'localhost')\n",
    "code = get_or_create_code('crystal17.main', computer, 'mock_runcry17')\n",
    "code.get_full_text_info()"
   ]
  },
  {
   "cell_type": "markdown",
   "metadata": {},
   "source": [
    "### Input Parameters (Geometry Independent)"
   ]
  },
  {
   "cell_type": "markdown",
   "metadata": {},
   "source": [
    "The :py:class:`~aiida_crystal17.data.input_params.CryInputParamsData`\n",
    "supplies (geometry independent) data required to create the `input.d12` file."
   ]
  },
  {
   "cell_type": "code",
   "execution_count": 17,
   "metadata": {},
   "outputs": [
    {
     "data": {
      "text/plain": [
       "<CryInputParamsData: uuid: 1e1a6e00-ce68-4d2f-b73e-1deba250ef7b (unstored)>"
      ]
     },
     "execution_count": 17,
     "metadata": {},
     "output_type": "execute_result"
    }
   ],
   "source": [
    "param_dict = {\"scf\":{\"k_points\": (8, 8)}}\n",
    "params = DataFactory('crystal17.parameters')(data=param_dict)\n",
    "params"
   ]
  },
  {
   "cell_type": "markdown",
   "metadata": {},
   "source": [
    "The input data is validated against a JSON schema,\n",
    "which can be obtained from the `data_schema` attribute.\n",
    "\n",
    ".. note::\n",
    "\n",
    "    The only mandated key is ``scf.k_points`` (known as ``SHRINK`` in CRYSTAL17)"
   ]
  },
  {
   "cell_type": "code",
   "execution_count": 36,
   "metadata": {},
   "outputs": [
    {
     "name": "stdout",
     "output_type": "stream",
     "text": [
      "\u001b[34m$schema\u001b[0m:     http://json-schema.org/draft-04/schema#\n",
      "\u001b[34madditionalProperties\u001b[0m: False\n",
      "\u001b[34mdescription\u001b[0m: Allowed Inputs For CRYSTAL17 .d12 file\n",
      "\u001b[34mproperties\u001b[0m:\n",
      "  \u001b[34mbasis_set\u001b[0m:\n",
      "    \u001b[34madditionalProperties\u001b[0m: False\n",
      "    \u001b[34mdescription\u001b[0m: Basis sets input and control\n",
      "    \u001b[34mproperties\u001b[0m:  {...}\n",
      "    \u001b[34mtitle\u001b[0m:       Block 2\n",
      "    \u001b[34mtype\u001b[0m:        object\n",
      "  \u001b[34mgeometry\u001b[0m:\n",
      "    \u001b[34madditionalProperties\u001b[0m: False\n",
      "    \u001b[34mdescription\u001b[0m: Geometry input, manipulation and optimisation control\n",
      "    \u001b[34mproperties\u001b[0m:  {...}\n",
      "    \u001b[34mtitle\u001b[0m:       Block 1\n",
      "    \u001b[34mtype\u001b[0m:        object\n",
      "  \u001b[34mscf\u001b[0m:\n",
      "    \u001b[34madditionalProperties\u001b[0m: False\n",
      "    \u001b[34mdependencies\u001b[0m: {...}\n",
      "    \u001b[34mdescription\u001b[0m: Single particle Hamiltonian and SCF control\n",
      "    \u001b[34mproperties\u001b[0m:  {...}\n",
      "    \u001b[34mrequired\u001b[0m:    [k_points]\n",
      "    \u001b[34mtitle\u001b[0m:       Block 3\n",
      "    \u001b[34mtype\u001b[0m:        object\n",
      "  \u001b[34mtitle\u001b[0m:\n",
      "    \u001b[34mdescription\u001b[0m: the title of the run\n",
      "    \u001b[34mtype\u001b[0m: string\n",
      "\u001b[34mrequired\u001b[0m:    [scf]\n",
      "\u001b[34mtitle\u001b[0m:       CRYSTAL17 Input\n",
      "\u001b[34mtype\u001b[0m:        object\n"
     ]
    }
   ],
   "source": [
    "param_cls = DataFactory('crystal17.parameters')\n",
    "edict.pprint(params.data_schema, keycolor=\"blue\")"
   ]
  },
  {
   "cell_type": "code",
   "execution_count": 20,
   "metadata": {},
   "outputs": [
    {
     "ename": "ValidationError",
     "evalue": "- 'k_points' is a required property [key path: 'scf']",
     "output_type": "error",
     "traceback": [
      "\u001b[0;31m---------------------------------------------------------------------------\u001b[0m",
      "\u001b[0;31mValidationError\u001b[0m                           Traceback (most recent call last)",
      "\u001b[0;32m<ipython-input-20-4a25c6adca90>\u001b[0m in \u001b[0;36m<module>\u001b[0;34m()\u001b[0m\n\u001b[0;32m----> 1\u001b[0;31m \u001b[0mparams\u001b[0m \u001b[0;34m=\u001b[0m \u001b[0mDataFactory\u001b[0m\u001b[0;34m(\u001b[0m\u001b[0;34m'crystal17.parameters'\u001b[0m\u001b[0;34m)\u001b[0m\u001b[0;34m(\u001b[0m\u001b[0mdata\u001b[0m\u001b[0;34m=\u001b[0m\u001b[0;34m{\u001b[0m\u001b[0;34m\"scf\"\u001b[0m\u001b[0;34m:\u001b[0m \u001b[0;34m{\u001b[0m\u001b[0;34m}\u001b[0m\u001b[0;34m}\u001b[0m\u001b[0;34m)\u001b[0m\u001b[0;34m\u001b[0m\u001b[0m\n\u001b[0m",
      "\u001b[0;32m/Users/cjs14/GitHub/aiida-crystal17/aiida_crystal17/data/input_params.py\u001b[0m in \u001b[0;36m__init__\u001b[0;34m(self, **kwargs)\u001b[0m\n\u001b[1;32m     34\u001b[0m             \u001b[0;32mif\u001b[0m \u001b[0munflatten\u001b[0m\u001b[0;34m:\u001b[0m\u001b[0;34m\u001b[0m\u001b[0m\n\u001b[1;32m     35\u001b[0m                 \u001b[0mdata\u001b[0m \u001b[0;34m=\u001b[0m \u001b[0munflatten_dict\u001b[0m\u001b[0;34m(\u001b[0m\u001b[0mdata\u001b[0m\u001b[0;34m)\u001b[0m\u001b[0;34m\u001b[0m\u001b[0m\n\u001b[0;32m---> 36\u001b[0;31m             \u001b[0mself\u001b[0m\u001b[0;34m.\u001b[0m\u001b[0mset_data\u001b[0m\u001b[0;34m(\u001b[0m\u001b[0mdata\u001b[0m\u001b[0;34m)\u001b[0m\u001b[0;34m\u001b[0m\u001b[0m\n\u001b[0m\u001b[1;32m     37\u001b[0m \u001b[0;34m\u001b[0m\u001b[0m\n\u001b[1;32m     38\u001b[0m     \u001b[0;32mdef\u001b[0m \u001b[0m_validate\u001b[0m\u001b[0;34m(\u001b[0m\u001b[0mself\u001b[0m\u001b[0;34m)\u001b[0m\u001b[0;34m:\u001b[0m\u001b[0;34m\u001b[0m\u001b[0m\n",
      "\u001b[0;32m/Users/cjs14/GitHub/aiida-crystal17/aiida_crystal17/data/input_params.py\u001b[0m in \u001b[0;36mset_data\u001b[0;34m(self, data)\u001b[0m\n\u001b[1;32m     52\u001b[0m \u001b[0;34m\u001b[0m\u001b[0m\n\u001b[1;32m     53\u001b[0m         \u001b[0;31m# first validate the inputs\u001b[0m\u001b[0;34m\u001b[0m\u001b[0;34m\u001b[0m\u001b[0m\n\u001b[0;32m---> 54\u001b[0;31m         \u001b[0mvalidate_against_schema\u001b[0m\u001b[0;34m(\u001b[0m\u001b[0mdata\u001b[0m\u001b[0;34m,\u001b[0m \u001b[0mself\u001b[0m\u001b[0;34m.\u001b[0m\u001b[0mdata_schema\u001b[0m\u001b[0;34m)\u001b[0m\u001b[0;34m\u001b[0m\u001b[0m\n\u001b[0m\u001b[1;32m     55\u001b[0m \u001b[0;34m\u001b[0m\u001b[0m\n\u001b[1;32m     56\u001b[0m         \u001b[0;31m# store all but the symmetry operations as attributes\u001b[0m\u001b[0;34m\u001b[0m\u001b[0;34m\u001b[0m\u001b[0m\n",
      "\u001b[0;32m/Users/cjs14/GitHub/aiida-crystal17/aiida_crystal17/validation/__init__.py\u001b[0m in \u001b[0;36mvalidate_against_schema\u001b[0;34m(data, schema)\u001b[0m\n\u001b[1;32m     93\u001b[0m             \"\\n\".join([\"- {} [key path: '{}']\".format(\n\u001b[1;32m     94\u001b[0m                 error.message, \"/\".join([str(p) for p in error.path]))\n\u001b[0;32m---> 95\u001b[0;31m                 for error in errors])\n\u001b[0m\u001b[1;32m     96\u001b[0m         )\n\u001b[1;32m     97\u001b[0m \u001b[0;34m\u001b[0m\u001b[0m\n",
      "\u001b[0;31mValidationError\u001b[0m: - 'k_points' is a required property [key path: 'scf']"
     ]
    }
   ],
   "source": [
    "params = DataFactory('crystal17.parameters')(data={\"scf\": {}})"
   ]
  },
  {
   "cell_type": "markdown",
   "metadata": {},
   "source": [
    "It is also possible to reverse engineer the input data,\n",
    "from an existing input file, using\n",
    ":py:class:`~aiida_crystal17.parsers.raw.inputd12_read.extract_data`."
   ]
  },
  {
   "cell_type": "code",
   "execution_count": 15,
   "metadata": {},
   "outputs": [
    {
     "data": {
      "text/plain": [
       "{'title': 'MgO bulk',\n",
       " 'geometry': {'optimise': {'type': 'FULLOPTG'}},\n",
       " 'scf': {'dft': {'xc': 'B3LYP', 'SPIN': True},\n",
       "  'k_points': (8, 8),\n",
       "  'fock_mixing': 'ANDERSON',\n",
       "  'numerical': {'SMEAR': 0.1},\n",
       "  'post_scf': ['PPAN']}}"
      ]
     },
     "execution_count": 15,
     "metadata": {},
     "output_type": "execute_result"
    }
   ],
   "source": [
    "from aiida_crystal17.parsers.raw.inputd12_read import extract_data\n",
    "param_dict, basis_sets, atom_props = extract_data(\"\"\"\\\n",
    "MgO bulk\n",
    "EXTERNAL\n",
    "OPTGEOM\n",
    "FULLOPTG\n",
    "END\n",
    "END\n",
    "12 3\n",
    "1 0 3  2.  0.\n",
    "1 1 3  8.  0.\n",
    "1 1 3  2.  0.\n",
    "8 2\n",
    "1 0 3  2.  0.\n",
    "1 1 3  6.  0.\n",
    "99   0\n",
    "END\n",
    "DFT\n",
    "B3LYP\n",
    "SPIN\n",
    "END\n",
    "SHRINK\n",
    "8 8\n",
    "ANDERSON\n",
    "SMEAR\n",
    "0.1\n",
    "ATOMSPIN\n",
    "2\n",
    "1 1 2 -1\n",
    "PPAN\n",
    "END\n",
    "\"\"\")\n",
    "param_dict"
   ]
  },
  {
   "cell_type": "code",
   "execution_count": 17,
   "metadata": {},
   "outputs": [
    {
     "name": "stdout",
     "output_type": "stream",
     "text": [
      "MgO bulk\n",
      "EXTERNAL\n",
      "OPTGEOM\n",
      "FULLOPTG\n",
      "ENDOPT\n",
      "END\n",
      "12 3\n",
      "1 0 3  2.  0.\n",
      "1 1 3  8.  0.\n",
      "1 1 3  2.  0.\n",
      "8 2\n",
      "1 0 3  2.  0.\n",
      "1 1 3  6.  0.\n",
      "99 0\n",
      "END\n",
      "DFT\n",
      "B3LYP\n",
      "SPIN\n",
      "END\n",
      "SHRINK\n",
      "8 8\n",
      "ATOMSPIN\n",
      "2\n",
      "1 1\n",
      "2 -1\n",
      "SMEAR\n",
      "0.1\n",
      "ANDERSON\n",
      "PPAN\n",
      "END\n",
      "\n"
     ]
    }
   ],
   "source": [
    "from aiida_crystal17.parsers.raw.inputd12_write import write_input\n",
    "print(write_input(param_dict, basis_sets, atom_props))"
   ]
  },
  {
   "cell_type": "markdown",
   "metadata": {},
   "source": [
    "### Atomic Structure"
   ]
  },
  {
   "cell_type": "markdown",
   "metadata": {},
   "source": [
    "The ``structure`` refers to a standard\n",
    ":py:class:`~aiida.StructureData` node, and is used to create the `main.gui`.\n",
    "\n",
    "Structures consist of:\n",
    "\n",
    "- A cell with a basis vectors and whether it is periodic, for each dimension\n",
    "- ``Site`` with a cartesian coordinate and reference to a kind\n",
    "- ``Kind`` which details the species and composition at one or more sites\n",
    "\n",
    "The simplest way to create a structure is *via* :py:mod:`ase`:"
   ]
  },
  {
   "cell_type": "code",
   "execution_count": 7,
   "metadata": {},
   "outputs": [
    {
     "data": {
      "text/plain": [
       "<StructureData: uuid: 505aefe5-3daa-4900-88ae-e498533e1726 (unstored)>"
      ]
     },
     "execution_count": 7,
     "metadata": {},
     "output_type": "execute_result"
    }
   ],
   "source": [
    "from ase.spacegroup import crystal\n",
    "atoms = crystal(\n",
    "    symbols=[12, 8],\n",
    "    basis=[[0, 0, 0], [0.5, 0.5, 0.5]],\n",
    "    spacegroup=225,\n",
    "    cellpar=[4.21, 4.21, 4.21, 90, 90, 90])\n",
    "struct_cls = DataFactory('structure')\n",
    "structure = struct_cls(ase=atoms)\n",
    "structure"
   ]
  },
  {
   "cell_type": "markdown",
   "metadata": {},
   "source": [
    "These structures can be visualised using standard ASE methods."
   ]
  },
  {
   "cell_type": "code",
   "execution_count": 68,
   "metadata": {
    "ipub": {
     "figure": {
      "caption": "Structure visualisation, using ASE and Matplotlib."
     }
    }
   },
   "outputs": [
    {
     "data": {
      "image/png": "[encoded data removed]",
      "text/plain": [
       "<Figure size 432x288 with 1 Axes>"
      ]
     },
     "metadata": {
      "needs_background": "light"
     },
     "output_type": "display_data"
    }
   ],
   "source": [
    "%matplotlib inline\n",
    "import matplotlib.pyplot as plt\n",
    "from ase.visualize.plot import plot_atoms\n",
    "atoms = structure.get_ase()\n",
    "fig, ax = plt.subplots()\n",
    "plot_atoms(atoms.repeat((2,2,2)), \n",
    "           ax, radii=0.8, show_unit_cell=True, \n",
    "           rotation=('45x,0y,0z'));"
   ]
  },
  {
   "cell_type": "markdown",
   "metadata": {},
   "source": [
    "As default, one kind is created per atomic species\n",
    "(named as the atomic symbol):"
   ]
  },
  {
   "cell_type": "code",
   "execution_count": 28,
   "metadata": {},
   "outputs": [
    {
     "data": {
      "text/plain": [
       "['Mg', 'Mg', 'Mg', 'Mg', 'O1', 'O1', 'O1', 'O1']"
      ]
     },
     "execution_count": 28,
     "metadata": {},
     "output_type": "execute_result"
    }
   ],
   "source": [
    "structure.get_site_kindnames()"
   ]
  },
  {
   "cell_type": "markdown",
   "metadata": {},
   "source": [
    "However, we may want to specify more than one kind per species\n",
    "(for example to setup anti-ferromagnetic spin).\n",
    "We can achieve this by tagging the atoms:"
   ]
  },
  {
   "cell_type": "code",
   "execution_count": 8,
   "metadata": {},
   "outputs": [
    {
     "data": {
      "text/plain": [
       "['Mg1', 'Mg1', 'Mg2', 'Mg2', 'O', 'O', 'O', 'O']"
      ]
     },
     "execution_count": 8,
     "metadata": {},
     "output_type": "execute_result"
    }
   ],
   "source": [
    "atoms_afm = atoms.copy()\n",
    "atoms_afm.set_tags([1, 1, 2, 2, 0, 0, 0, 0])\n",
    "structure_afm = struct_cls(ase=atoms_afm)\n",
    "structure_afm.get_site_kindnames()"
   ]
  },
  {
   "cell_type": "markdown",
   "metadata": {},
   "source": [
    "..note::\n",
    "\n",
    "    Since we **always** use the ``EXTERNAL`` keyword for geometry,\n",
    "    any manipulation to the geometry is undertaken before calling CRYSTAL\n",
    "    (i.e. we delegate the responsibility for geometry away from CRYSTAL)."
   ]
  },
  {
   "cell_type": "markdown",
   "metadata": {},
   "source": [
    "### Kind Specific Parameters"
   ]
  },
  {
   "cell_type": "markdown",
   "metadata": {},
   "source": [
    "Also, we may want to add atom specific inputs to the ``.d12``,\n",
    "such as initial spin and frozen atoms (for optimisation)."
   ]
  },
  {
   "cell_type": "code",
   "execution_count": 18,
   "metadata": {},
   "outputs": [
    {
     "data": {
      "text/markdown": [
       "```json\n",
       "{\n",
       "  \"Mg1\": {\n",
       "    \"spin_alpha\": true,\n",
       "    \"spin_beta\": false,\n",
       "    \"fixed\": false,\n",
       "    \"ghosts\": false\n",
       "  },\n",
       "  \"Mg2\": {\n",
       "    \"spin_alpha\": false,\n",
       "    \"spin_beta\": true,\n",
       "    \"fixed\": false,\n",
       "    \"ghosts\": false\n",
       "  },\n",
       "  \"O\": {\n",
       "    \"spin_alpha\": false,\n",
       "    \"spin_beta\": false,\n",
       "    \"fixed\": true,\n",
       "    \"ghosts\": false\n",
       "  }\n",
       "}\n",
       "```"
      ]
     },
     "metadata": {},
     "output_type": "display_data"
    }
   ],
   "source": [
    "kind_cls = DataFactory(\"crystal17.kinds\")\n",
    "kind_data = kind_cls(data={\n",
    "    \"kind_names\": [\"Mg1\", \"Mg2\", \"O\"],\n",
    "    \"spin_alpha\": [True, False, False],\n",
    "    \"spin_beta\": [False, True, False],\n",
    "    \"fixed\": [False, False, True],\n",
    "    \"ghosts\": [False, False, False]\n",
    "})\n",
    "display_json(kind_data.kind_dict)"
   ]
  },
  {
   "cell_type": "code",
   "execution_count": 21,
   "metadata": {},
   "outputs": [
    {
     "data": {
      "text/plain": [
       "{'spin_alpha': [1, 2],\n",
       " 'spin_beta': [3, 4],\n",
       " 'unfixed': [1, 2, 3, 4],\n",
       " 'ghosts': []}"
      ]
     },
     "execution_count": 21,
     "metadata": {},
     "output_type": "execute_result"
    }
   ],
   "source": [
    "from aiida_crystal17.parsers.raw.inputd12_write import create_atom_properties\n",
    "atom_props2 = create_atom_properties(structure_afm, kind_data)\n",
    "atom_props2"
   ]
  },
  {
   "cell_type": "code",
   "execution_count": 22,
   "metadata": {},
   "outputs": [
    {
     "name": "stdout",
     "output_type": "stream",
     "text": [
      "MgO bulk\n",
      "EXTERNAL\n",
      "OPTGEOM\n",
      "FULLOPTG\n",
      "FRAGMENT\n",
      "4\n",
      "1 2 3 4\n",
      "ENDOPT\n",
      "END\n",
      "12 3\n",
      "1 0 3  2.  0.\n",
      "1 1 3  8.  0.\n",
      "1 1 3  2.  0.\n",
      "8 2\n",
      "1 0 3  2.  0.\n",
      "1 1 3  6.  0.\n",
      "99 0\n",
      "END\n",
      "DFT\n",
      "B3LYP\n",
      "SPIN\n",
      "END\n",
      "SHRINK\n",
      "8 8\n",
      "ATOMSPIN\n",
      "4\n",
      "1 1\n",
      "2 1\n",
      "3 -1\n",
      "4 -1\n",
      "SMEAR\n",
      "0.1\n",
      "ANDERSON\n",
      "PPAN\n",
      "END\n",
      "\n"
     ]
    }
   ],
   "source": [
    "print(write_input(param_dict, basis_sets, atom_props2))"
   ]
  },
  {
   "cell_type": "markdown",
   "metadata": {},
   "source": [
    "### Basis Sets"
   ]
  },
  {
   "cell_type": "markdown",
   "metadata": {},
   "source": [
    "Basis sets are stored as separate\n",
    ":py:class:`~aiida_crystal17.data.basis_set.BasisSetData` nodes,\n",
    "in a similar fashion to :py:class:`~aiida.orm.nodes.data.upf.UpfData`.\n",
    "They are created individually from a text file,\n",
    "which contains the content of the basis set\n",
    "and (optionally) a YAML style header section, fenced by ``---``:"
   ]
  },
  {
   "cell_type": "code",
   "execution_count": 4,
   "metadata": {},
   "outputs": [
    {
     "name": "stdout",
     "output_type": "stream",
     "text": [
      "---\n",
      "author: John Smith\n",
      "year: 1999\n",
      "class: sto3g\n",
      "---\n",
      "12 3\n",
      "1 0 3  2.  0.\n",
      "1 1 3  8.  0.\n",
      "1 1 3  2.  0.\n"
     ]
    }
   ],
   "source": [
    "mg_basis_path = os.path.join(TEST_FILES, 'crystal', 'in', 'sto3g', 'sto3g_Mg.basis')\n",
    "with open(mg_basis_path) as handle:\n",
    "    print(handle.read())"
   ]
  },
  {
   "cell_type": "markdown",
   "metadata": {},
   "source": [
    "The attributes of the basis set are stored in the database,\n",
    "and the md5 hash-sum is used to test equivalence of two basis sets."
   ]
  },
  {
   "cell_type": "code",
   "execution_count": 5,
   "metadata": {},
   "outputs": [
    {
     "data": {
      "text/markdown": [
       "```json\n",
       "{\n",
       "  \"filename\": \"sto3g_Mg.basis\",\n",
       "  \"md5\": \"0731ecc3339d2b8736e61add113d0c6f\",\n",
       "  \"num_shells\": 3,\n",
       "  \"basis_type\": \"all-electron\",\n",
       "  \"element\": \"Mg\",\n",
       "  \"atomic_number\": 12,\n",
       "  \"class\": \"sto3g\",\n",
       "  \"year\": 1999,\n",
       "  \"author\": \"John Smith\"\n",
       "}\n",
       "```"
      ]
     },
     "metadata": {},
     "output_type": "display_data"
    },
    {
     "data": {
      "text/plain": [
       "'12 3\\n1 0 3  2.  0.\\n1 1 3  8.  0.\\n1 1 3  2.  0.'"
      ]
     },
     "execution_count": 5,
     "metadata": {},
     "output_type": "execute_result"
    }
   ],
   "source": [
    "basis_cls = DataFactory('crystal17.basisset')\n",
    "mg_basis, created = basis_cls.get_or_create(mg_basis_path)\n",
    "display_json(mg_basis.attributes)\n",
    "mg_basis.content"
   ]
  },
  {
   "cell_type": "markdown",
   "metadata": {},
   "source": [
    "A simpler way to create and refer to basis sets, is *via* a **family group**.\n",
    "All basis sets in a folder can be read and saved to a named family by:"
   ]
  },
  {
   "cell_type": "code",
   "execution_count": 15,
   "metadata": {},
   "outputs": [
    {
     "data": {
      "text/plain": [
       "{'Mg': <BasisSetData: uuid: a0ed24da-bb26-4352-b9a5-5a1ba2f2fc02 (pk: 72)>,\n",
       " 'Ni': <BasisSetData: uuid: 47bcf4a1-80ee-416d-a7e4-10641762ad88 (pk: 73)>,\n",
       " 'O': <BasisSetData: uuid: b90ba90b-a3d9-4fe9-9786-7c8d4e8cf4a9 (pk: 74)>}"
      ]
     },
     "execution_count": 15,
     "metadata": {},
     "output_type": "execute_result"
    }
   ],
   "source": [
    "nfiles, nuploaded = basis_cls.upload_basisset_family(\n",
    "    os.path.join(TEST_FILES, 'crystal', 'in', 'sto3g'),\n",
    "    \"sto3g\", \"group of sto3g basis sets\",\n",
    "    extension=\".basis\", stop_if_existing=False)\n",
    "basis_cls.get_basis_group_map(\"sto3g\")"
   ]
  },
  {
   "cell_type": "markdown",
   "metadata": {},
   "source": [
    "or at the command line:"
   ]
  },
  {
   "cell_type": "code",
   "execution_count": 70,
   "metadata": {},
   "outputs": [
    {
     "name": "stdout",
     "output_type": "stream",
     "text": [
      "Usage: verdi data crystal17.basis uploadfamily [OPTIONS]\r\n",
      "\r\n",
      "  Upload a family of CRYSTAL Basis Set files.\r\n",
      "\r\n",
      "Options:\r\n",
      "  --path PATH                    Path to a folder containing the Basis Set\r\n",
      "                                 files\r\n",
      "  --ext TEXT                     the file extension to filter by\r\n",
      "  --name TEXT                    Name of the BasisSet family  [required]\r\n",
      "  -D, --description DESCRIPTION  A description for the family\r\n",
      "  --stop-if-existing             Abort when encountering a previously uploaded\r\n",
      "                                 Basis Set file\r\n",
      "  --dry-run                      do not commit to database or modify\r\n",
      "                                 configuration files\r\n",
      "  -h, --help                     Show this message and exit.\r\n"
     ]
    }
   ],
   "source": [
    "!verdi data crystal17.basis uploadfamily --help"
   ]
  },
  {
   "cell_type": "code",
   "execution_count": 71,
   "metadata": {},
   "outputs": [
    {
     "name": "stdout",
     "output_type": "stream",
     "text": [
      "Family      Num Basis Sets\r\n",
      "--------  ----------------\r\n",
      "sto3g                    3\r\n",
      "\r\n"
     ]
    }
   ],
   "source": [
    "!verdi data crystal17.basis listfamilies"
   ]
  },
  {
   "cell_type": "markdown",
   "metadata": {},
   "source": [
    "Basis families can be searched by the elements they contain:"
   ]
  },
  {
   "cell_type": "code",
   "execution_count": 11,
   "metadata": {},
   "outputs": [
    {
     "data": {
      "text/plain": [
       "[<Group: \"sto3g\" [type crystal17.basisset], of user chrisj_sewell@hotmail.com>]"
      ]
     },
     "execution_count": 11,
     "metadata": {},
     "output_type": "execute_result"
    }
   ],
   "source": [
    "basis_cls.get_basis_groups([\"Ni\", \"O\"])"
   ]
  },
  {
   "cell_type": "markdown",
   "metadata": {},
   "source": [
    "Basis sets can also be extracted for a particular structure."
   ]
  },
  {
   "cell_type": "code",
   "execution_count": 7,
   "metadata": {},
   "outputs": [
    {
     "data": {
      "text/plain": [
       "{'Mg': <BasisSetData: uuid: a0ed24da-bb26-4352-b9a5-5a1ba2f2fc02 (pk: 72)>,\n",
       " 'O': <BasisSetData: uuid: b90ba90b-a3d9-4fe9-9786-7c8d4e8cf4a9 (pk: 74)>}"
      ]
     },
     "execution_count": 7,
     "metadata": {},
     "output_type": "execute_result"
    }
   ],
   "source": [
    "basis_cls.get_basissets_from_structure(structure, \"sto3g\")"
   ]
  },
  {
   "cell_type": "markdown",
   "metadata": {},
   "source": [
    ".. important::\n",
    "\n",
    "    Unlike `aiida-quantumespresso.pw`,\n",
    "    ``crystal17.main`` uses one basis sets per atomic number only **NOT** per kind.\n",
    "    This is because, using multiple basis sets per atomic number is rarely used in CRYSTAL17,\n",
    "    and is limited anyway to only two types per atomic number."
   ]
  },
  {
   "cell_type": "markdown",
   "metadata": {},
   "source": [
    "### Symmetry"
   ]
  },
  {
   "cell_type": "markdown",
   "metadata": {},
   "source": [
    "In the ``main.gui`` file,\n",
    "as well as using the dimensionality (i.e. periodic boundary conditions),\n",
    "basis vectors and atomic positions, provided by the ``structure``,\n",
    "we also need to specify the atomic symmetry of the structure.\n",
    "\n",
    ":py:class:`~aiida_crystal17.data.symmetry.SymmetryData` is used to store this data, as a validated dictionary.\n",
    "\n",
    ".. note::\n",
    "\n",
    "    The ``operations`` are given as a flattened version of the rotation matrix,\n",
    "    followed by the translation vector."
   ]
  },
  {
   "cell_type": "code",
   "execution_count": 17,
   "metadata": {},
   "outputs": [
    {
     "name": "stdout",
     "output_type": "stream",
     "text": [
      "\u001b[34m$schema\u001b[0m:     http://json-schema.org/draft-07/schema\n",
      "\u001b[34madditionalProperties\u001b[0m: True\n",
      "\u001b[34mproperties\u001b[0m:\n",
      "  \u001b[34mbasis\u001b[0m:\n",
      "    \u001b[34mdescription\u001b[0m: whether the symmetry operations are fractional or cartesian\n",
      "    \u001b[34menum\u001b[0m: [fractional, cartesian]\n",
      "    \u001b[34mtype\u001b[0m: string\n",
      "  \u001b[34mcomputation\u001b[0m:\n",
      "    \u001b[34mdescription\u001b[0m: details of the computation\n",
      "    \u001b[34mtype\u001b[0m: object\n",
      "  \u001b[34mhall_number\u001b[0m:\n",
      "    \u001b[34mdescription\u001b[0m: Hall number defining the symmetry group\n",
      "    \u001b[34mmaximum\u001b[0m: 530\n",
      "    \u001b[34mminimum\u001b[0m: 1\n",
      "    \u001b[34mtype\u001b[0m: [null, integer]\n",
      "  \u001b[34moperations\u001b[0m:\n",
      "    \u001b[34mdescription\u001b[0m: symmetry operations, should at least include the unity\n",
      "                 operation\n",
      "    \u001b[34mitems\u001b[0m: {...}\n",
      "    \u001b[34mminItems\u001b[0m: 1\n",
      "    \u001b[34mtype\u001b[0m: array\n",
      "    \u001b[34muniqueItems\u001b[0m: True\n",
      "\u001b[34mrequired\u001b[0m:    [hall_number, operations, basis]\n",
      "\u001b[34mtitle\u001b[0m:       structure symmetry settings\n",
      "\u001b[34mtype\u001b[0m:        object\n"
     ]
    }
   ],
   "source": [
    "symmetry_cls = DataFactory(\"crystal17.symmetry\")\n",
    "edict.pprint(symmetry_cls.data_schema, keycolor=\"blue\")"
   ]
  },
  {
   "cell_type": "markdown",
   "metadata": {},
   "source": [
    "The simplest symmetry would be the unitary operator."
   ]
  },
  {
   "cell_type": "code",
   "execution_count": 23,
   "metadata": {},
   "outputs": [
    {
     "data": {
      "text/plain": [
       "{'hall_number': 1, 'basis': 'fractional', 'num_symops': 1}"
      ]
     },
     "execution_count": 23,
     "metadata": {},
     "output_type": "execute_result"
    }
   ],
   "source": [
    "symmetry = symmetry_cls(data={\n",
    "    \"hall_number\": 1,\n",
    "    \"basis\": \"fractional\",\n",
    "    \"operations\": [\n",
    "        [1,0,0,0,1,0,0,0,1,0,0,0]\n",
    "    ]\n",
    "})\n",
    "symmetry.attributes"
   ]
  },
  {
   "cell_type": "markdown",
   "metadata": {},
   "source": [
    "The full symmetry operations of a periodic structure, \n",
    "can be computed using the `crystal17.sym3d` workflow.\n",
    "This uses the `spglib <https://atztogo.github.io/spglib/>`_ library\n",
    "to compute symmetries, but with the added constraint that sites\n",
    "with the same ``Kind`` must be symmetrically equivalent."
   ]
  },
  {
   "cell_type": "code",
   "execution_count": 4,
   "metadata": {},
   "outputs": [
    {
     "name": "stdout",
     "output_type": "stream",
     "text": [
      "\u001b[31m\u001b[1mInputs\u001b[0m\n",
      "\u001b[1m   settings:  required  Dict           \u001b[0m\n",
      "        cif:  optional  CifData        \u001b[0m\n",
      "   metadata:  optional                 \u001b[0m\n",
      "  structure:  optional  StructureData  \u001b[0m\n",
      "\u001b[31m\u001b[1mOutputs\u001b[0m\n",
      "\u001b[1m   symmetry:  required  SymmetryData   \u001b[0m\n",
      "  structure:  optional  StructureData  \u001b[0m\n",
      "\u001b[31m\u001b[1mExit codes\u001b[0m\n",
      "         10:  The process returned an invalid output\u001b[0m\n",
      "         11:  The process did not register a required output\u001b[0m\n",
      "        300:  One of either a structure or cif input must be supplied\u001b[0m\n",
      "        301:  The supplied structure must be 3d (i.e. have all dimensions pbc=true)\"\u001b[0m\n",
      "        302:  Idealize can only be used when standardize=true\u001b[0m\n",
      "        303:  The kind names supplied are not compatible with the structure\u001b[0m\n",
      "        304:  Error creating new structure\u001b[0m\n",
      "        305:  Error computing symmetry operations\u001b[0m\n"
     ]
    }
   ],
   "source": [
    "!verdi plugin list aiida.workflows crystal17.sym3d"
   ]
  },
  {
   "cell_type": "code",
   "execution_count": 8,
   "metadata": {},
   "outputs": [],
   "source": [
    "sym3d_cls = WorkflowFactory(\"crystal17.sym3d\")\n",
    "builder = sym3d_cls.get_builder()\n",
    "builder.settings = {\"symprec\": 0.01}\n",
    "builder.structure = structure\n",
    "sym_result = run_get_node(builder)"
   ]
  },
  {
   "cell_type": "code",
   "execution_count": 9,
   "metadata": {
    "ipub": {
     "figure": {
      "caption": "`crystal17.sym3d`workflow provenance graph."
     }
    }
   },
   "outputs": [
    {
     "data": {
      "image/svg+xml": [
       "<?xml version=\"1.0\" encoding=\"UTF-8\" standalone=\"no\"?>\n",
       "<!DOCTYPE svg PUBLIC \"-//W3C//DTD SVG 1.1//EN\"\n",
       " \"http://www.w3.org/Graphics/SVG/1.1/DTD/svg11.dtd\">\n",
       "<!-- Generated by graphviz version 2.40.1 (20161225.0304)\n",
       " -->\n",
       "<!-- Title: %3 Pages: 1 -->\n",
       "<svg width=\"576pt\" height=\"103pt\"\n",
       " viewBox=\"0.00 0.00 576.00 102.96\" xmlns=\"http://www.w3.org/2000/svg\" xmlns:xlink=\"http://www.w3.org/1999/xlink\">\n",
       "<g id=\"graph0\" class=\"graph\" transform=\"scale(.493 .493) rotate(0) translate(4 204.8248)\">\n",
       "<title>%3</title>\n",
       "<polygon fill=\"#ffffff\" stroke=\"transparent\" points=\"-4,4 -4,-204.8248 1164.302,-204.8248 1164.302,4 -4,4\"/>\n",
       "<!-- N3775 -->\n",
       "<g id=\"node1\" class=\"node\">\n",
       "<title>N3775</title>\n",
       "<polygon fill=\"none\" stroke=\"#000000\" points=\"1160.0941,-79.8248 1018.9268,-79.8248 1018.9268,-29.8248 1160.0941,-29.8248 1160.0941,-79.8248\"/>\n",
       "<text text-anchor=\"middle\" x=\"1089.5105\" y=\"-64.6248\" font-family=\"Times,serif\" font-size=\"14.00\" fill=\"#000000\">SymmetryData (3775)</text>\n",
       "<text text-anchor=\"middle\" x=\"1089.5105\" y=\"-50.6248\" font-family=\"Times,serif\" font-size=\"14.00\" fill=\"#000000\">hall_number: 523</text>\n",
       "<text text-anchor=\"middle\" x=\"1089.5105\" y=\"-36.6248\" font-family=\"Times,serif\" font-size=\"14.00\" fill=\"#000000\">symmops: 192</text>\n",
       "</g>\n",
       "<!-- N3773 -->\n",
       "<g id=\"node2\" class=\"node\">\n",
       "<title>N3773</title>\n",
       "<polygon fill=\"#90ee90\" stroke=\"#000000\" points=\"575.1947,-40.8248 496.8173,-81.4752 340.0625,-81.4752 261.685,-40.8248 340.0625,-.1744 496.8173,-.1744 575.1947,-40.8248\"/>\n",
       "<text text-anchor=\"middle\" x=\"418.4399\" y=\"-50.6248\" font-family=\"Times,serif\" font-size=\"14.00\" fill=\"#000000\">Symmetrise3DStructure (3773)</text>\n",
       "<text text-anchor=\"middle\" x=\"418.4399\" y=\"-36.6248\" font-family=\"Times,serif\" font-size=\"14.00\" fill=\"#000000\">State: finished</text>\n",
       "<text text-anchor=\"middle\" x=\"418.4399\" y=\"-22.6248\" font-family=\"Times,serif\" font-size=\"14.00\" fill=\"#000000\">Exit Code: 0</text>\n",
       "</g>\n",
       "<!-- N3773&#45;&gt;N3775 -->\n",
       "<g id=\"edge1\" class=\"edge\">\n",
       "<title>N3773&#45;&gt;N3775</title>\n",
       "<path fill=\"none\" stroke=\"#006400\" stroke-dasharray=\"5,2\" d=\"M573.7231,-41.7362C675.1038,-42.6309 810.3435,-44.3889 929.8293,-47.8248 955.427,-48.5609 983.3202,-49.676 1008.5275,-50.8011\"/>\n",
       "<polygon fill=\"#006400\" stroke=\"#006400\" points=\"1008.6323,-54.3094 1018.7805,-51.2658 1008.9493,-47.3165 1008.6323,-54.3094\"/>\n",
       "<text text-anchor=\"middle\" x=\"811.0181\" y=\"-64.6248\" font-family=\"Times,serif\" font-size=\"14.00\" fill=\"#000000\">RETURN</text>\n",
       "<text text-anchor=\"middle\" x=\"811.0181\" y=\"-50.6248\" font-family=\"Times,serif\" font-size=\"14.00\" fill=\"#000000\">symmetry</text>\n",
       "</g>\n",
       "<!-- N3774 -->\n",
       "<g id=\"node3\" class=\"node\">\n",
       "<title>N3774</title>\n",
       "<ellipse fill=\"#90ee90\" stroke=\"#000000\" cx=\"811.0181\" cy=\"-119.8248\" rx=\"118.6227\" ry=\"35.2113\"/>\n",
       "<text text-anchor=\"middle\" x=\"811.0181\" y=\"-129.6248\" font-family=\"Times,serif\" font-size=\"14.00\" fill=\"#000000\">compute_symmetry (3774)</text>\n",
       "<text text-anchor=\"middle\" x=\"811.0181\" y=\"-115.6248\" font-family=\"Times,serif\" font-size=\"14.00\" fill=\"#000000\">State: finished</text>\n",
       "<text text-anchor=\"middle\" x=\"811.0181\" y=\"-101.6248\" font-family=\"Times,serif\" font-size=\"14.00\" fill=\"#000000\">Exit Code: 0</text>\n",
       "</g>\n",
       "<!-- N3773&#45;&gt;N3774 -->\n",
       "<g id=\"edge7\" class=\"edge\">\n",
       "<title>N3773&#45;&gt;N3774</title>\n",
       "<path fill=\"none\" stroke=\"#0000ff\" stroke-dasharray=\"1,5\" d=\"M549.3499,-54.2571C589.6604,-59.5912 634.0008,-66.6827 674.2069,-75.8248 690.782,-79.5937 708.2245,-84.4729 724.8988,-89.6044\"/>\n",
       "<polygon fill=\"#0000ff\" stroke=\"#0000ff\" points=\"724.0261,-92.9987 734.6152,-92.6485 726.1189,-86.3188 724.0261,-92.9987\"/>\n",
       "<text text-anchor=\"middle\" x=\"633.7621\" y=\"-92.6248\" font-family=\"Times,serif\" font-size=\"14.00\" fill=\"#000000\">CALL_CALC</text>\n",
       "<text text-anchor=\"middle\" x=\"633.7621\" y=\"-78.6248\" font-family=\"Times,serif\" font-size=\"14.00\" fill=\"#000000\">CALL</text>\n",
       "</g>\n",
       "<!-- N3774&#45;&gt;N3775 -->\n",
       "<g id=\"edge2\" class=\"edge\">\n",
       "<title>N3774&#45;&gt;N3775</title>\n",
       "<path fill=\"none\" stroke=\"#006400\" d=\"M904.5268,-97.9999C938.3228,-90.112 976.1624,-81.2802 1008.7703,-73.6695\"/>\n",
       "<polygon fill=\"#006400\" stroke=\"#006400\" points=\"1009.769,-77.0306 1018.7118,-71.3492 1008.1779,-70.2138 1009.769,-77.0306\"/>\n",
       "<text text-anchor=\"middle\" x=\"974.2741\" y=\"-104.6248\" font-family=\"Times,serif\" font-size=\"14.00\" fill=\"#000000\">CREATE</text>\n",
       "<text text-anchor=\"middle\" x=\"974.2741\" y=\"-90.6248\" font-family=\"Times,serif\" font-size=\"14.00\" fill=\"#000000\">result</text>\n",
       "</g>\n",
       "<!-- N3772 -->\n",
       "<g id=\"node4\" class=\"node\">\n",
       "<title>N3772</title>\n",
       "<polygon fill=\"none\" stroke=\"#000000\" points=\"134.3547,-119.8248 .2146,-119.8248 .2146,-83.8248 134.3547,-83.8248 134.3547,-119.8248\"/>\n",
       "<text text-anchor=\"middle\" x=\"67.2847\" y=\"-104.6248\" font-family=\"Times,serif\" font-size=\"14.00\" fill=\"#000000\">StructureData (3772)</text>\n",
       "<text text-anchor=\"middle\" x=\"67.2847\" y=\"-90.6248\" font-family=\"Times,serif\" font-size=\"14.00\" fill=\"#000000\">Mg4O4</text>\n",
       "</g>\n",
       "<!-- N3772&#45;&gt;N3773 -->\n",
       "<g id=\"edge3\" class=\"edge\">\n",
       "<title>N3772&#45;&gt;N3773</title>\n",
       "<path fill=\"none\" stroke=\"#000000\" d=\"M121.9867,-83.6937C132.08,-80.7646 142.5848,-77.9885 152.5693,-75.8248 192.4176,-67.1897 236.1174,-60.3666 276.3698,-55.1263\"/>\n",
       "<polygon fill=\"#000000\" stroke=\"#000000\" points=\"277.0494,-58.568 286.5248,-53.828 276.1616,-51.6245 277.0494,-58.568\"/>\n",
       "<text text-anchor=\"middle\" x=\"198.0659\" y=\"-92.6248\" font-family=\"Times,serif\" font-size=\"14.00\" fill=\"#000000\">INPUT_WORK</text>\n",
       "<text text-anchor=\"middle\" x=\"198.0659\" y=\"-78.6248\" font-family=\"Times,serif\" font-size=\"14.00\" fill=\"#000000\">structure</text>\n",
       "</g>\n",
       "<!-- N3772&#45;&gt;N3774 -->\n",
       "<g id=\"edge6\" class=\"edge\">\n",
       "<title>N3772&#45;&gt;N3774</title>\n",
       "<path fill=\"none\" stroke=\"#000000\" d=\"M134.5978,-103.454C258.1088,-106.4432 522.8347,-112.8501 682.022,-116.7028\"/>\n",
       "<polygon fill=\"#000000\" stroke=\"#000000\" points=\"682.2704,-120.2098 692.3522,-116.9528 682.4398,-113.2118 682.2704,-120.2098\"/>\n",
       "<text text-anchor=\"middle\" x=\"418.4399\" y=\"-130.6248\" font-family=\"Times,serif\" font-size=\"14.00\" fill=\"#000000\">INPUT_CALC</text>\n",
       "<text text-anchor=\"middle\" x=\"418.4399\" y=\"-116.6248\" font-family=\"Times,serif\" font-size=\"14.00\" fill=\"#000000\">structure</text>\n",
       "</g>\n",
       "<!-- N3771 -->\n",
       "<g id=\"node5\" class=\"node\">\n",
       "<title>N3771</title>\n",
       "<polygon fill=\"none\" stroke=\"#000000\" points=\"107.7124,-184.8248 26.8569,-184.8248 26.8569,-148.8248 107.7124,-148.8248 107.7124,-184.8248\"/>\n",
       "<text text-anchor=\"middle\" x=\"67.2847\" y=\"-162.6248\" font-family=\"Times,serif\" font-size=\"14.00\" fill=\"#000000\">Dict (3771)</text>\n",
       "</g>\n",
       "<!-- N3771&#45;&gt;N3773 -->\n",
       "<g id=\"edge4\" class=\"edge\">\n",
       "<title>N3771&#45;&gt;N3773</title>\n",
       "<path fill=\"none\" stroke=\"#000000\" d=\"M108.0379,-156.5042C144.5603,-146.4878 199.0749,-129.6169 243.5625,-107.8248 252.197,-103.5952 252.9583,-100.1157 261.5625,-95.8248 276.8915,-88.1803 293.545,-81.1242 310.0849,-74.7944\"/>\n",
       "<polygon fill=\"#000000\" stroke=\"#000000\" points=\"311.6643,-77.9403 319.7993,-71.1526 309.207,-71.3857 311.6643,-77.9403\"/>\n",
       "<text text-anchor=\"middle\" x=\"198.0659\" y=\"-159.6248\" font-family=\"Times,serif\" font-size=\"14.00\" fill=\"#000000\">INPUT_WORK</text>\n",
       "<text text-anchor=\"middle\" x=\"198.0659\" y=\"-145.6248\" font-family=\"Times,serif\" font-size=\"14.00\" fill=\"#000000\">settings</text>\n",
       "</g>\n",
       "<!-- N3771&#45;&gt;N3774 -->\n",
       "<g id=\"edge5\" class=\"edge\">\n",
       "<title>N3771&#45;&gt;N3774</title>\n",
       "<path fill=\"none\" stroke=\"#000000\" d=\"M108.0076,-171.4268C122.1012,-172.8115 138.0113,-174.1435 152.5693,-174.8248 192.9665,-176.7154 203.1595,-176.5874 243.5625,-174.8248 398.8218,-168.0518 577.0907,-148.8977 691.741,-135.0976\"/>\n",
       "<polygon fill=\"#000000\" stroke=\"#000000\" points=\"692.4383,-138.5388 701.9455,-133.8632 691.5976,-131.5895 692.4383,-138.5388\"/>\n",
       "<text text-anchor=\"middle\" x=\"418.4399\" y=\"-189.6248\" font-family=\"Times,serif\" font-size=\"14.00\" fill=\"#000000\">INPUT_CALC</text>\n",
       "<text text-anchor=\"middle\" x=\"418.4399\" y=\"-175.6248\" font-family=\"Times,serif\" font-size=\"14.00\" fill=\"#000000\">settings</text>\n",
       "</g>\n",
       "</g>\n",
       "</svg>\n"
      ],
      "text/plain": [
       "<graphviz.dot.Digraph at 0x121a6b320>"
      ]
     },
     "execution_count": 9,
     "metadata": {},
     "output_type": "execute_result"
    }
   ],
   "source": [
    "graph = Graph(graph_attr={'size': \"8,8!\", \"rankdir\": \"LR\"})\n",
    "graph.recurse_ancestors(sym_result.result[\"symmetry\"],\n",
    "                        annotate_links=\"both\")\n",
    "graph.graphviz"
   ]
  },
  {
   "cell_type": "markdown",
   "metadata": {},
   "source": [
    "This workflow can also optionally compute the primitive\n",
    "and/or standardised form of the structure,\n",
    "before computing the symmetry of the new structure."
   ]
  },
  {
   "cell_type": "code",
   "execution_count": 10,
   "metadata": {
    "ipub": {
     "figure": {
      "caption": "`crystal17.sym3d`workflow provenance graph, including primitive cell calculation."
     }
    }
   },
   "outputs": [
    {
     "data": {
      "image/svg+xml": [
       "<?xml version=\"1.0\" encoding=\"UTF-8\" standalone=\"no\"?>\n",
       "<!DOCTYPE svg PUBLIC \"-//W3C//DTD SVG 1.1//EN\"\n",
       " \"http://www.w3.org/Graphics/SVG/1.1/DTD/svg11.dtd\">\n",
       "<!-- Generated by graphviz version 2.40.1 (20161225.0304)\n",
       " -->\n",
       "<!-- Title: %3 Pages: 1 -->\n",
       "<svg width=\"576pt\" height=\"109pt\"\n",
       " viewBox=\"0.00 0.00 576.00 108.64\" xmlns=\"http://www.w3.org/2000/svg\" xmlns:xlink=\"http://www.w3.org/1999/xlink\">\n",
       "<g id=\"graph0\" class=\"graph\" transform=\"scale(.3113 .3113) rotate(0) translate(4 345)\">\n",
       "<title>%3</title>\n",
       "<polygon fill=\"#ffffff\" stroke=\"transparent\" points=\"-4,4 -4,-345 1846.4039,-345 1846.4039,4 -4,4\"/>\n",
       "<!-- N3779 -->\n",
       "<g id=\"node1\" class=\"node\">\n",
       "<title>N3779</title>\n",
       "<polygon fill=\"none\" stroke=\"#000000\" points=\"1252.5356,-129 1118.3956,-129 1118.3956,-93 1252.5356,-93 1252.5356,-129\"/>\n",
       "<text text-anchor=\"middle\" x=\"1185.4656\" y=\"-113.8\" font-family=\"Times,serif\" font-size=\"14.00\" fill=\"#000000\">StructureData (3779)</text>\n",
       "<text text-anchor=\"middle\" x=\"1185.4656\" y=\"-99.8\" font-family=\"Times,serif\" font-size=\"14.00\" fill=\"#000000\">MgO</text>\n",
       "</g>\n",
       "<!-- N3780 -->\n",
       "<g id=\"node7\" class=\"node\">\n",
       "<title>N3780</title>\n",
       "<ellipse fill=\"#90ee90\" stroke=\"#000000\" cx=\"1493.1201\" cy=\"-91\" rx=\"118.6227\" ry=\"35.2113\"/>\n",
       "<text text-anchor=\"middle\" x=\"1493.1201\" y=\"-100.8\" font-family=\"Times,serif\" font-size=\"14.00\" fill=\"#000000\">compute_symmetry (3780)</text>\n",
       "<text text-anchor=\"middle\" x=\"1493.1201\" y=\"-86.8\" font-family=\"Times,serif\" font-size=\"14.00\" fill=\"#000000\">State: finished</text>\n",
       "<text text-anchor=\"middle\" x=\"1493.1201\" y=\"-72.8\" font-family=\"Times,serif\" font-size=\"14.00\" fill=\"#000000\">Exit Code: 0</text>\n",
       "</g>\n",
       "<!-- N3779&#45;&gt;N3780 -->\n",
       "<g id=\"edge11\" class=\"edge\">\n",
       "<title>N3779&#45;&gt;N3780</title>\n",
       "<path fill=\"none\" stroke=\"#000000\" d=\"M1252.6015,-106.6356C1285.9544,-104.4674 1327.3804,-101.7744 1366.403,-99.2376\"/>\n",
       "<polygon fill=\"#000000\" stroke=\"#000000\" points=\"1367.0474,-102.7032 1376.7993,-98.5618 1366.5932,-95.718 1367.0474,-102.7032\"/>\n",
       "<text text-anchor=\"middle\" x=\"1313.5296\" y=\"-121.8\" font-family=\"Times,serif\" font-size=\"14.00\" fill=\"#000000\">INPUT_CALC</text>\n",
       "<text text-anchor=\"middle\" x=\"1313.5296\" y=\"-107.8\" font-family=\"Times,serif\" font-size=\"14.00\" fill=\"#000000\">structure</text>\n",
       "</g>\n",
       "<!-- N3777 -->\n",
       "<g id=\"node2\" class=\"node\">\n",
       "<title>N3777</title>\n",
       "<polygon fill=\"#90ee90\" stroke=\"#000000\" points=\"575.1947,-110 496.8173,-150.6504 340.0625,-150.6504 261.685,-110 340.0625,-69.3496 496.8173,-69.3496 575.1947,-110\"/>\n",
       "<text text-anchor=\"middle\" x=\"418.4399\" y=\"-119.8\" font-family=\"Times,serif\" font-size=\"14.00\" fill=\"#000000\">Symmetrise3DStructure (3777)</text>\n",
       "<text text-anchor=\"middle\" x=\"418.4399\" y=\"-105.8\" font-family=\"Times,serif\" font-size=\"14.00\" fill=\"#000000\">State: finished</text>\n",
       "<text text-anchor=\"middle\" x=\"418.4399\" y=\"-91.8\" font-family=\"Times,serif\" font-size=\"14.00\" fill=\"#000000\">Exit Code: 0</text>\n",
       "</g>\n",
       "<!-- N3777&#45;&gt;N3779 -->\n",
       "<g id=\"edge1\" class=\"edge\">\n",
       "<title>N3777&#45;&gt;N3779</title>\n",
       "<path fill=\"none\" stroke=\"#006400\" stroke-dasharray=\"5,2\" d=\"M575.0465,-110.2042C737.2059,-110.4156 983.8791,-110.7372 1108.1569,-110.8992\"/>\n",
       "<polygon fill=\"#006400\" stroke=\"#006400\" points=\"1108.3388,-114.3994 1118.3434,-110.9125 1108.348,-107.3994 1108.3388,-114.3994\"/>\n",
       "<text text-anchor=\"middle\" x=\"846.7491\" y=\"-126.8\" font-family=\"Times,serif\" font-size=\"14.00\" fill=\"#000000\">RETURN</text>\n",
       "<text text-anchor=\"middle\" x=\"846.7491\" y=\"-112.8\" font-family=\"Times,serif\" font-size=\"14.00\" fill=\"#000000\">structure</text>\n",
       "</g>\n",
       "<!-- N3778 -->\n",
       "<g id=\"node3\" class=\"node\">\n",
       "<title>N3778</title>\n",
       "<ellipse fill=\"#90ee90\" stroke=\"#000000\" cx=\"846.7491\" cy=\"-192\" rx=\"154.5844\" ry=\"35.2113\"/>\n",
       "<text text-anchor=\"middle\" x=\"846.7491\" y=\"-201.8\" font-family=\"Times,serif\" font-size=\"14.00\" fill=\"#000000\">standard_primitive_structure (3778)</text>\n",
       "<text text-anchor=\"middle\" x=\"846.7491\" y=\"-187.8\" font-family=\"Times,serif\" font-size=\"14.00\" fill=\"#000000\">State: finished</text>\n",
       "<text text-anchor=\"middle\" x=\"846.7491\" y=\"-173.8\" font-family=\"Times,serif\" font-size=\"14.00\" fill=\"#000000\">Exit Code: 0</text>\n",
       "</g>\n",
       "<!-- N3777&#45;&gt;N3778 -->\n",
       "<g id=\"edge7\" class=\"edge\">\n",
       "<title>N3777&#45;&gt;N3778</title>\n",
       "<path fill=\"none\" stroke=\"#0000ff\" stroke-dasharray=\"1,5\" d=\"M547.7954,-124.3794C588.4432,-129.7855 633.3652,-136.6797 674.2069,-145 696.4671,-149.5349 720.0984,-155.3172 742.4984,-161.2633\"/>\n",
       "<polygon fill=\"#0000ff\" stroke=\"#0000ff\" points=\"741.7879,-164.6964 752.3535,-163.9103 743.6037,-157.936 741.7879,-164.6964\"/>\n",
       "<text text-anchor=\"middle\" x=\"633.7621\" y=\"-161.8\" font-family=\"Times,serif\" font-size=\"14.00\" fill=\"#000000\">CALL_CALC</text>\n",
       "<text text-anchor=\"middle\" x=\"633.7621\" y=\"-147.8\" font-family=\"Times,serif\" font-size=\"14.00\" fill=\"#000000\">CALL</text>\n",
       "</g>\n",
       "<!-- N3781 -->\n",
       "<g id=\"node6\" class=\"node\">\n",
       "<title>N3781</title>\n",
       "<polygon fill=\"none\" stroke=\"#000000\" points=\"1842.196,-50 1701.0288,-50 1701.0288,0 1842.196,0 1842.196,-50\"/>\n",
       "<text text-anchor=\"middle\" x=\"1771.6124\" y=\"-34.8\" font-family=\"Times,serif\" font-size=\"14.00\" fill=\"#000000\">SymmetryData (3781)</text>\n",
       "<text text-anchor=\"middle\" x=\"1771.6124\" y=\"-20.8\" font-family=\"Times,serif\" font-size=\"14.00\" fill=\"#000000\">hall_number: 523</text>\n",
       "<text text-anchor=\"middle\" x=\"1771.6124\" y=\"-6.8\" font-family=\"Times,serif\" font-size=\"14.00\" fill=\"#000000\">symmops: 48</text>\n",
       "</g>\n",
       "<!-- N3777&#45;&gt;N3781 -->\n",
       "<g id=\"edge8\" class=\"edge\">\n",
       "<title>N3777&#45;&gt;N3781</title>\n",
       "<path fill=\"none\" stroke=\"#006400\" stroke-dasharray=\"5,2\" d=\"M509.3011,-75.6651C595.0169,-46.385 727.7581,-9 846.7491,-9 846.7491,-9 846.7491,-9 1493.1201,-9 1559.7976,-9 1635.3073,-13.6279 1690.8629,-17.9058\"/>\n",
       "<polygon fill=\"#006400\" stroke=\"#006400\" points=\"1690.7548,-21.408 1700.9975,-18.6993 1691.3012,-14.4293 1690.7548,-21.408\"/>\n",
       "<text text-anchor=\"middle\" x=\"1185.4656\" y=\"-25.8\" font-family=\"Times,serif\" font-size=\"14.00\" fill=\"#000000\">RETURN</text>\n",
       "<text text-anchor=\"middle\" x=\"1185.4656\" y=\"-11.8\" font-family=\"Times,serif\" font-size=\"14.00\" fill=\"#000000\">symmetry</text>\n",
       "</g>\n",
       "<!-- N3777&#45;&gt;N3780 -->\n",
       "<g id=\"edge12\" class=\"edge\">\n",
       "<title>N3777&#45;&gt;N3780</title>\n",
       "<path fill=\"none\" stroke=\"#0000ff\" stroke-dasharray=\"1,5\" d=\"M553.5344,-98.6013C691.0253,-88.1905 910.3297,-74.8603 1100.1809,-78 1188.6816,-79.4636 1288.3484,-82.7801 1365.1599,-85.6969\"/>\n",
       "<polygon fill=\"#0000ff\" stroke=\"#0000ff\" points=\"1365.2382,-89.2023 1375.3647,-86.0871 1365.5058,-82.2075 1365.2382,-89.2023\"/>\n",
       "<text text-anchor=\"middle\" x=\"1059.7361\" y=\"-94.8\" font-family=\"Times,serif\" font-size=\"14.00\" fill=\"#000000\">CALL_CALC</text>\n",
       "<text text-anchor=\"middle\" x=\"1059.7361\" y=\"-80.8\" font-family=\"Times,serif\" font-size=\"14.00\" fill=\"#000000\">CALL</text>\n",
       "</g>\n",
       "<!-- N3778&#45;&gt;N3779 -->\n",
       "<g id=\"edge2\" class=\"edge\">\n",
       "<title>N3778&#45;&gt;N3779</title>\n",
       "<path fill=\"none\" stroke=\"#006400\" d=\"M953.9211,-166.3711C1004.1185,-154.367 1062.78,-140.3388 1108.4976,-129.406\"/>\n",
       "<polygon fill=\"#006400\" stroke=\"#006400\" points=\"1109.432,-132.7813 1118.3437,-127.0514 1107.8039,-125.9732 1109.432,-132.7813\"/>\n",
       "<text text-anchor=\"middle\" x=\"1059.7361\" y=\"-165.8\" font-family=\"Times,serif\" font-size=\"14.00\" fill=\"#000000\">CREATE</text>\n",
       "<text text-anchor=\"middle\" x=\"1059.7361\" y=\"-151.8\" font-family=\"Times,serif\" font-size=\"14.00\" fill=\"#000000\">result</text>\n",
       "</g>\n",
       "<!-- N3772 -->\n",
       "<g id=\"node4\" class=\"node\">\n",
       "<title>N3772</title>\n",
       "<polygon fill=\"none\" stroke=\"#000000\" points=\"134.3547,-172 .2146,-172 .2146,-136 134.3547,-136 134.3547,-172\"/>\n",
       "<text text-anchor=\"middle\" x=\"67.2847\" y=\"-156.8\" font-family=\"Times,serif\" font-size=\"14.00\" fill=\"#000000\">StructureData (3772)</text>\n",
       "<text text-anchor=\"middle\" x=\"67.2847\" y=\"-142.8\" font-family=\"Times,serif\" font-size=\"14.00\" fill=\"#000000\">Mg4O4</text>\n",
       "</g>\n",
       "<!-- N3772&#45;&gt;N3777 -->\n",
       "<g id=\"edge3\" class=\"edge\">\n",
       "<title>N3772&#45;&gt;N3777</title>\n",
       "<path fill=\"none\" stroke=\"#000000\" d=\"M134.7222,-141.7191C140.7493,-140.7487 146.7647,-139.8261 152.5693,-139 192.51,-133.3155 235.9653,-128.1491 275.9486,-123.8039\"/>\n",
       "<polygon fill=\"#000000\" stroke=\"#000000\" points=\"276.4674,-127.2683 286.0348,-122.717 275.7173,-120.3086 276.4674,-127.2683\"/>\n",
       "<text text-anchor=\"middle\" x=\"198.0659\" y=\"-155.8\" font-family=\"Times,serif\" font-size=\"14.00\" fill=\"#000000\">INPUT_WORK</text>\n",
       "<text text-anchor=\"middle\" x=\"198.0659\" y=\"-141.8\" font-family=\"Times,serif\" font-size=\"14.00\" fill=\"#000000\">structure</text>\n",
       "</g>\n",
       "<!-- N3772&#45;&gt;N3778 -->\n",
       "<g id=\"edge6\" class=\"edge\">\n",
       "<title>N3772&#45;&gt;N3778</title>\n",
       "<path fill=\"none\" stroke=\"#000000\" d=\"M134.6985,-165.0096C140.7307,-165.7724 146.7537,-166.4539 152.5693,-167 333.1392,-183.9567 541.1233,-189.6184 681.9949,-191.4038\"/>\n",
       "<polygon fill=\"#000000\" stroke=\"#000000\" points=\"681.9785,-194.9038 692.0203,-191.5258 682.0637,-187.9043 681.9785,-194.9038\"/>\n",
       "<text text-anchor=\"middle\" x=\"418.4399\" y=\"-205.8\" font-family=\"Times,serif\" font-size=\"14.00\" fill=\"#000000\">INPUT_CALC</text>\n",
       "<text text-anchor=\"middle\" x=\"418.4399\" y=\"-191.8\" font-family=\"Times,serif\" font-size=\"14.00\" fill=\"#000000\">structure</text>\n",
       "</g>\n",
       "<!-- N3776 -->\n",
       "<g id=\"node5\" class=\"node\">\n",
       "<title>N3776</title>\n",
       "<polygon fill=\"none\" stroke=\"#000000\" points=\"107.7124,-275 26.8569,-275 26.8569,-239 107.7124,-239 107.7124,-275\"/>\n",
       "<text text-anchor=\"middle\" x=\"67.2847\" y=\"-252.8\" font-family=\"Times,serif\" font-size=\"14.00\" fill=\"#000000\">Dict (3776)</text>\n",
       "</g>\n",
       "<!-- N3776&#45;&gt;N3777 -->\n",
       "<g id=\"edge4\" class=\"edge\">\n",
       "<title>N3776&#45;&gt;N3777</title>\n",
       "<path fill=\"none\" stroke=\"#000000\" d=\"M103.6991,-238.7931C118.7776,-231.3255 136.4717,-222.6544 152.5693,-215 200.7006,-192.1138 212.1415,-184.949 261.5625,-165 278.1597,-158.3005 295.9218,-151.6192 313.3105,-145.3405\"/>\n",
       "<polygon fill=\"#000000\" stroke=\"#000000\" points=\"314.6895,-148.5644 322.9227,-141.8962 312.3282,-141.9747 314.6895,-148.5644\"/>\n",
       "<text text-anchor=\"middle\" x=\"198.0659\" y=\"-231.8\" font-family=\"Times,serif\" font-size=\"14.00\" fill=\"#000000\">INPUT_WORK</text>\n",
       "<text text-anchor=\"middle\" x=\"198.0659\" y=\"-217.8\" font-family=\"Times,serif\" font-size=\"14.00\" fill=\"#000000\">settings</text>\n",
       "</g>\n",
       "<!-- N3776&#45;&gt;N3778 -->\n",
       "<g id=\"edge5\" class=\"edge\">\n",
       "<title>N3776&#45;&gt;N3778</title>\n",
       "<path fill=\"none\" stroke=\"#000000\" d=\"M107.8242,-254.6203C193.9693,-249.4551 401.5903,-236.4309 575.3173,-221 615.1362,-217.4632 658.1837,-213.1086 698.0091,-208.8592\"/>\n",
       "<polygon fill=\"#000000\" stroke=\"#000000\" points=\"698.4909,-212.3277 708.0608,-207.7816 697.7447,-205.3675 698.4909,-212.3277\"/>\n",
       "<text text-anchor=\"middle\" x=\"418.4399\" y=\"-260.8\" font-family=\"Times,serif\" font-size=\"14.00\" fill=\"#000000\">INPUT_CALC</text>\n",
       "<text text-anchor=\"middle\" x=\"418.4399\" y=\"-246.8\" font-family=\"Times,serif\" font-size=\"14.00\" fill=\"#000000\">settings</text>\n",
       "</g>\n",
       "<!-- N3776&#45;&gt;N3780 -->\n",
       "<g id=\"edge10\" class=\"edge\">\n",
       "<title>N3776&#45;&gt;N3780</title>\n",
       "<path fill=\"none\" stroke=\"#000000\" d=\"M107.77,-267.7311C172.7791,-283.9916 304.6935,-313 418.4399,-313 418.4399,-313 418.4399,-313 1185.4656,-313 1306.7413,-313 1412.7156,-198.1586 1462.6628,-133.6724\"/>\n",
       "<polygon fill=\"#000000\" stroke=\"#000000\" points=\"1465.473,-135.7593 1468.7608,-125.6875 1459.9097,-131.5107 1465.473,-135.7593\"/>\n",
       "<text text-anchor=\"middle\" x=\"846.7491\" y=\"-329.8\" font-family=\"Times,serif\" font-size=\"14.00\" fill=\"#000000\">INPUT_CALC</text>\n",
       "<text text-anchor=\"middle\" x=\"846.7491\" y=\"-315.8\" font-family=\"Times,serif\" font-size=\"14.00\" fill=\"#000000\">settings</text>\n",
       "</g>\n",
       "<!-- N3780&#45;&gt;N3781 -->\n",
       "<g id=\"edge9\" class=\"edge\">\n",
       "<title>N3780&#45;&gt;N3781</title>\n",
       "<path fill=\"none\" stroke=\"#006400\" d=\"M1586.2412,-68.9312C1620.06,-60.9165 1657.9711,-51.9319 1690.6544,-44.1863\"/>\n",
       "<polygon fill=\"#006400\" stroke=\"#006400\" points=\"1691.6959,-47.5365 1700.6193,-41.8247 1690.0817,-40.7251 1691.6959,-47.5365\"/>\n",
       "<text text-anchor=\"middle\" x=\"1656.3761\" y=\"-74.8\" font-family=\"Times,serif\" font-size=\"14.00\" fill=\"#000000\">CREATE</text>\n",
       "<text text-anchor=\"middle\" x=\"1656.3761\" y=\"-60.8\" font-family=\"Times,serif\" font-size=\"14.00\" fill=\"#000000\">result</text>\n",
       "</g>\n",
       "</g>\n",
       "</svg>\n"
      ],
      "text/plain": [
       "<graphviz.dot.Digraph at 0x1212a04a8>"
      ]
     },
     "execution_count": 10,
     "metadata": {},
     "output_type": "execute_result"
    }
   ],
   "source": [
    "builder.settings = {\n",
    "    \"symprec\": 0.01,\n",
    "    \"compute_primitive\": True,\n",
    "    \"standardize_cell\": True}\n",
    "sym_result2 = run_get_node(builder)\n",
    "graph = Graph(graph_attr={'size': \"8,8!\", \"rankdir\": \"LR\"})\n",
    "graph.recurse_ancestors(sym_result2.result[\"structure\"],\n",
    "                        annotate_links=\"both\")\n",
    "graph.recurse_ancestors(sym_result2.result[\"symmetry\"],\n",
    "                        annotate_links=\"both\")\n",
    "graph.graphviz"
   ]
  },
  {
   "cell_type": "markdown",
   "metadata": {},
   "source": [
    "The other option is to ``idealize`` the structure, which\n",
    "removes distortions of the unit cell's atomic positions,\n",
    "compared to the ideal symmetry."
   ]
  },
  {
   "cell_type": "markdown",
   "metadata": {},
   "source": [
    "## Setting Up and Running the Calculation"
   ]
  },
  {
   "cell_type": "markdown",
   "metadata": {},
   "source": [
    ".. seealso::\n",
    "\n",
    "    AiiDA documentation: :ref:`aiida:working_processes`"
   ]
  },
  {
   "cell_type": "markdown",
   "metadata": {},
   "source": [
    ":py:class:`~aiida_crystal17.calculations.cry_main.CryMainCalculation`\n",
    "provides a helper function to create, populate and validate the input builder."
   ]
  },
  {
   "cell_type": "code",
   "execution_count": 40,
   "metadata": {},
   "outputs": [
    {
     "data": {
      "text/markdown": [
       "```json\n",
       "{\n",
       "  \"metadata\": {\n",
       "    \"options\": {\n",
       "      \"resources\": {\n",
       "        \"num_machines\": 1,\n",
       "        \"num_mpiprocs_per_machine\": 1\n",
       "      }\n",
       "    }\n",
       "  },\n",
       "  \"basissets\": {\n",
       "    \"Mg\": [\n",
       "      \"uuid: a0ed24da-bb26-4352-b9a5-5a1ba2f2fc02 (pk: 72)\"\n",
       "    ],\n",
       "    \"O\": [\n",
       "      \"uuid: b90ba90b-a3d9-4fe9-9786-7c8d4e8cf4a9 (pk: 74)\"\n",
       "    ]\n",
       "  },\n",
       "  \"parameters\": [\n",
       "    \"uuid: 392cf01a-0e01-4c99-8288-0beefae4a95f (unstored)\"\n",
       "  ],\n",
       "  \"structure\": [\n",
       "    \"uuid: a0ed9bc2-c981-4e24-9d3e-8f8696e72914 (pk: 419)\"\n",
       "  ],\n",
       "  \"symmetry\": [\n",
       "    \"uuid: 3ddc8b2c-f5ec-4359-9b0e-71757bcad052 (pk: 421)\"\n",
       "  ],\n",
       "  \"code\": [\n",
       "    \"Remote code 'crystal17.basic-mock_runcry17@localhost' on localhost,\",\n",
       "    \"pk: 7, uuid: 6a3db008-b5ab-4308-baf9-d18a39ca4ad5\"\n",
       "  ]\n",
       "}\n",
       "```"
      ]
     },
     "metadata": {},
     "output_type": "display_data"
    }
   ],
   "source": [
    "calc_cls = CalculationFactory('crystal17.main')\n",
    "calc_builder = calc_cls.create_builder(\n",
    "    parameters={\n",
    "        \"title\": \"MgO bulk\",\n",
    "        \"scf\": {\"k_points\": (8, 8),\n",
    "                \"post_scf\": [\"PPAN\"]}},\n",
    "    structure=sym_result2.result[\"structure\"],\n",
    "    symmetry=sym_result2.result[\"symmetry\"],\n",
    "    bases=\"sto3g\",\n",
    "    code=Code.objects.get(label=\"crystal17.basic-mock_runcry17@localhost\"),\n",
    "    metadata={\"options\": {\"resources\": {\n",
    "        \"num_machines\": 1, \"num_mpiprocs_per_machine\": 1}}}\n",
    ")\n",
    "display_json(calc_builder)"
   ]
  },
  {
   "cell_type": "markdown",
   "metadata": {},
   "source": [
    "In order to run the computation,\n",
    "the builder can be parsed to one of the AiiDA ``run`` (blocking execution) or ``submit`` (non-blocking execution) functions:"
   ]
  },
  {
   "cell_type": "code",
   "execution_count": 48,
   "metadata": {},
   "outputs": [],
   "source": [
    "result, calcnode = run_get_node(calc_builder)"
   ]
  },
  {
   "cell_type": "markdown",
   "metadata": {},
   "source": [
    "The process can be monitored on the command line:"
   ]
  },
  {
   "cell_type": "code",
   "execution_count": 54,
   "metadata": {},
   "outputs": [
    {
     "name": "stdout",
     "output_type": "stream",
     "text": [
      "\u001b[22m  PK  Created    State           Process label                 Process status\n",
      "----  ---------  --------------  ----------------------------  ----------------\n",
      " 409  3h ago     ⏹ Finished [0]  Symmetrise3DStructure\n",
      " 410  3h ago     ⏹ Finished [0]  compute_symmetry\n",
      " 412  3h ago     ⏹ Finished [0]  Symmetrise3DStructure\n",
      " 413  3h ago     ⏹ Finished [0]  standard_primitive_structure\n",
      " 415  3h ago     ⏹ Finished [0]  compute_symmetry\n",
      " 417  3h ago     ⏹ Finished [0]  Symmetrise3DStructure\n",
      " 418  3h ago     ⏹ Finished [0]  standard_primitive_structure\n",
      " 420  3h ago     ⏹ Finished [0]  compute_symmetry\n",
      " 430  3m ago     ⏹ Finished [0]  CryMainCalculation\u001b[0m\n",
      "\u001b[22m\n",
      "Total results: 9\n",
      "\u001b[0m\n",
      "\u001b[34m\u001b[1mInfo: \u001b[0m\u001b[22mlast time an entry changed state: 3m ago (at 03:38:24 on 2019-04-23)\u001b[0m\n"
     ]
    }
   ],
   "source": [
    "!verdi process list -a -D desc -l 9"
   ]
  },
  {
   "cell_type": "markdown",
   "metadata": {},
   "source": [
    "Once the calculation is complete, a ``CalcJobNode`` will be created,\n",
    "to store the settings and outcome of the computation.\n",
    "Crucially, if the computation has completed successfully,\n",
    "the `exit_status` will be **0**. \n",
    "\n",
    "This can be assessed on the command line or with the python API."
   ]
  },
  {
   "cell_type": "code",
   "execution_count": 55,
   "metadata": {},
   "outputs": [
    {
     "name": "stdout",
     "output_type": "stream",
     "text": [
      "\u001b[22mProperty       Value\n",
      "-------------  ------------------------------------\n",
      "type           CalcJobNode\n",
      "pk             430\n",
      "uuid           5c6462b3-00a0-4153-ae5f-f780193b5a3f\n",
      "label\n",
      "description\n",
      "ctime          2019-04-23 03:38:12.416391+00:00\n",
      "mtime          2019-04-23 03:38:24.558649+00:00\n",
      "process state  Finished\n",
      "exit status    0\n",
      "computer       [1] localhost\n",
      "\n",
      "Inputs      PK    Type\n",
      "----------  ----  ------------------\n",
      "basissets\n",
      "    Mg      72    BasisSetData\n",
      "    O       74    BasisSetData\n",
      "code        7     Code\n",
      "parameters  426   CryInputParamsData\n",
      "structure   419   StructureData\n",
      "symmetry    421   SymmetryData\n",
      "\n",
      "Outputs          PK  Type\n",
      "-------------  ----  ----------\n",
      "remote_folder   431  RemoteData\n",
      "results         433  Dict\n",
      "retrieved       432  FolderData\u001b[0m\n"
     ]
    }
   ],
   "source": [
    "!verdi process show {calcnode.pk}"
   ]
  },
  {
   "cell_type": "code",
   "execution_count": 56,
   "metadata": {},
   "outputs": [
    {
     "name": "stdout",
     "output_type": "stream",
     "text": [
      "True\n",
      "ProcessState.FINISHED\n",
      "0\n"
     ]
    }
   ],
   "source": [
    "print(calcnode.is_finished_ok)\n",
    "print(calcnode.process_state)\n",
    "print(calcnode.exit_status)"
   ]
  },
  {
   "cell_type": "markdown",
   "metadata": {},
   "source": [
    "If the calculation fails, there are three things that should be checked:\n",
    "\n",
    "1. The calculation's exit_message\n",
    "2. The calculation's log messages and scheduler output\n",
    "3. The `results` output node (if available)"
   ]
  },
  {
   "cell_type": "code",
   "execution_count": 57,
   "metadata": {},
   "outputs": [
    {
     "name": "stdout",
     "output_type": "stream",
     "text": [
      "Exit Message: None\n",
      "*** 430: None\n",
      "*** Scheduler output:\n",
      "running mock runcry17 for input arg: main\n",
      "*** (empty scheduler errors file)\n",
      "*** 0 LOG MESSAGES\n"
     ]
    }
   ],
   "source": [
    "print(\"Exit Message:\", calcnode.exit_message)\n",
    "from aiida.cmdline.utils.common import get_calcjob_report\n",
    "print(get_calcjob_report(calcnode))"
   ]
  },
  {
   "cell_type": "code",
   "execution_count": 58,
   "metadata": {},
   "outputs": [
    {
     "name": "stdout",
     "output_type": "stream",
     "text": [
      "\u001b[22m*** 430: None\n",
      "*** Scheduler output:\n",
      "running mock runcry17 for input arg: main\n",
      "*** (empty scheduler errors file)\n",
      "*** 0 LOG MESSAGES\u001b[0m\n"
     ]
    }
   ],
   "source": [
    "!verdi process report {calcnode.pk}"
   ]
  },
  {
   "cell_type": "markdown",
   "metadata": {},
   "source": [
    "##  Analysis of Outputs"
   ]
  },
  {
   "cell_type": "markdown",
   "metadata": {},
   "source": [
    "The :py:class:`~aiida_crystal17.graph.Graph` can be used to visualise the calculations provenance graph:"
   ]
  },
  {
   "cell_type": "code",
   "execution_count": 59,
   "metadata": {
    "ipub": {
     "figure": {
      "caption": "`crystal17.main` calculation provenance graph (SCF only)."
     }
    }
   },
   "outputs": [
    {
     "data": {
      "image/svg+xml": [
       "<?xml version=\"1.0\" encoding=\"UTF-8\" standalone=\"no\"?>\n",
       "<!DOCTYPE svg PUBLIC \"-//W3C//DTD SVG 1.1//EN\"\n",
       " \"http://www.w3.org/Graphics/SVG/1.1/DTD/svg11.dtd\">\n",
       "<!-- Generated by graphviz version 2.40.1 (20161225.0304)\n",
       " -->\n",
       "<!-- Title: %3 Pages: 1 -->\n",
       "<svg width=\"432pt\" height=\"168pt\"\n",
       " viewBox=\"0.00 0.00 432.00 168.35\" xmlns=\"http://www.w3.org/2000/svg\" xmlns:xlink=\"http://www.w3.org/1999/xlink\">\n",
       "<g id=\"graph0\" class=\"graph\" transform=\"scale(.4625 .4625) rotate(0) translate(4 360)\">\n",
       "<title>%3</title>\n",
       "<polygon fill=\"#ffffff\" stroke=\"transparent\" points=\"-4,4 -4,-360 930.0343,-360 930.0343,4 -4,4\"/>\n",
       "<!-- N430 -->\n",
       "<g id=\"node1\" class=\"node\">\n",
       "<title>N430</title>\n",
       "<ellipse fill=\"#90ee90\" stroke=\"#000000\" cx=\"574.3286\" cy=\"-203\" rx=\"116.7238\" ry=\"35.2113\"/>\n",
       "<text text-anchor=\"middle\" x=\"574.3286\" y=\"-212.8\" font-family=\"Times,serif\" font-size=\"14.00\" fill=\"#000000\">CryMainCalculation (430)</text>\n",
       "<text text-anchor=\"middle\" x=\"574.3286\" y=\"-198.8\" font-family=\"Times,serif\" font-size=\"14.00\" fill=\"#000000\">State: finished</text>\n",
       "<text text-anchor=\"middle\" x=\"574.3286\" y=\"-184.8\" font-family=\"Times,serif\" font-size=\"14.00\" fill=\"#000000\">Exit Code: 0</text>\n",
       "</g>\n",
       "<!-- N431 -->\n",
       "<g id=\"node8\" class=\"node\">\n",
       "<title>N431</title>\n",
       "<polygon fill=\"none\" stroke=\"#000000\" points=\"925.9329,-275 806.3388,-275 806.3388,-239 925.9329,-239 925.9329,-275\"/>\n",
       "<text text-anchor=\"middle\" x=\"866.1358\" y=\"-259.8\" font-family=\"Times,serif\" font-size=\"14.00\" fill=\"#000000\">RemoteData (431)</text>\n",
       "<text text-anchor=\"middle\" x=\"866.1358\" y=\"-245.8\" font-family=\"Times,serif\" font-size=\"14.00\" fill=\"#000000\">@localhost</text>\n",
       "</g>\n",
       "<!-- N430&#45;&gt;N431 -->\n",
       "<g id=\"edge7\" class=\"edge\">\n",
       "<title>N430&#45;&gt;N431</title>\n",
       "<path fill=\"none\" stroke=\"#006400\" d=\"M664.226,-225.6103C679.1116,-228.997 694.4228,-232.2648 708.9405,-235 737.2755,-240.3384 768.7083,-244.9881 795.9731,-248.6203\"/>\n",
       "<polygon fill=\"#006400\" stroke=\"#006400\" points=\"795.8332,-252.1319 806.2034,-249.9619 796.7434,-245.1913 795.8332,-252.1319\"/>\n",
       "<text text-anchor=\"middle\" x=\"748.5889\" y=\"-263.8\" font-family=\"Times,serif\" font-size=\"14.00\" fill=\"#000000\">CREATE</text>\n",
       "<text text-anchor=\"middle\" x=\"748.5889\" y=\"-249.8\" font-family=\"Times,serif\" font-size=\"14.00\" fill=\"#000000\">remote_folder</text>\n",
       "</g>\n",
       "<!-- N432 -->\n",
       "<g id=\"node9\" class=\"node\">\n",
       "<title>N432</title>\n",
       "<polygon fill=\"none\" stroke=\"#000000\" points=\"922.4397,-221 809.8319,-221 809.8319,-185 922.4397,-185 922.4397,-221\"/>\n",
       "<text text-anchor=\"middle\" x=\"866.1358\" y=\"-198.8\" font-family=\"Times,serif\" font-size=\"14.00\" fill=\"#000000\">FolderData (432)</text>\n",
       "</g>\n",
       "<!-- N430&#45;&gt;N432 -->\n",
       "<g id=\"edge8\" class=\"edge\">\n",
       "<title>N430&#45;&gt;N432</title>\n",
       "<path fill=\"none\" stroke=\"#006400\" d=\"M691.3364,-203C728.107,-203 767.4282,-203 799.4461,-203\"/>\n",
       "<polygon fill=\"#006400\" stroke=\"#006400\" points=\"799.5725,-206.5001 809.5725,-203 799.5724,-199.5001 799.5725,-206.5001\"/>\n",
       "<text text-anchor=\"middle\" x=\"748.5889\" y=\"-219.8\" font-family=\"Times,serif\" font-size=\"14.00\" fill=\"#000000\">CREATE</text>\n",
       "<text text-anchor=\"middle\" x=\"748.5889\" y=\"-205.8\" font-family=\"Times,serif\" font-size=\"14.00\" fill=\"#000000\">retrieved</text>\n",
       "</g>\n",
       "<!-- N433 -->\n",
       "<g id=\"node10\" class=\"node\">\n",
       "<title>N433</title>\n",
       "<polygon fill=\"none\" stroke=\"#000000\" points=\"903.0636,-167 829.208,-167 829.208,-131 903.0636,-131 903.0636,-167\"/>\n",
       "<text text-anchor=\"middle\" x=\"866.1358\" y=\"-144.8\" font-family=\"Times,serif\" font-size=\"14.00\" fill=\"#000000\">Dict (433)</text>\n",
       "</g>\n",
       "<!-- N430&#45;&gt;N433 -->\n",
       "<g id=\"edge9\" class=\"edge\">\n",
       "<title>N430&#45;&gt;N433</title>\n",
       "<path fill=\"none\" stroke=\"#006400\" d=\"M664.226,-180.3897C679.1116,-177.003 694.4228,-173.7352 708.9405,-171 745.6789,-164.0784 787.6249,-158.3145 818.9418,-154.4251\"/>\n",
       "<polygon fill=\"#006400\" stroke=\"#006400\" points=\"819.6308,-157.867 829.1319,-153.179 818.781,-150.9188 819.6308,-157.867\"/>\n",
       "<text text-anchor=\"middle\" x=\"748.5889\" y=\"-187.8\" font-family=\"Times,serif\" font-size=\"14.00\" fill=\"#000000\">CREATE</text>\n",
       "<text text-anchor=\"middle\" x=\"748.5889\" y=\"-173.8\" font-family=\"Times,serif\" font-size=\"14.00\" fill=\"#000000\">results</text>\n",
       "</g>\n",
       "<!-- N72 -->\n",
       "<g id=\"node2\" class=\"node\">\n",
       "<title>N72</title>\n",
       "<polygon fill=\"none\" stroke=\"#000000\" points=\"227.0596,-356 109.0986,-356 109.0986,-320 227.0596,-320 227.0596,-356\"/>\n",
       "<text text-anchor=\"middle\" x=\"168.0791\" y=\"-333.8\" font-family=\"Times,serif\" font-size=\"14.00\" fill=\"#000000\">BasisSetData (72)</text>\n",
       "</g>\n",
       "<!-- N72&#45;&gt;N430 -->\n",
       "<g id=\"edge1\" class=\"edge\">\n",
       "<title>N72&#45;&gt;N430</title>\n",
       "<path fill=\"none\" stroke=\"#000000\" d=\"M227.0333,-336.4662C283.4409,-333.266 370.0024,-323.7631 439.7168,-296 471.6058,-283.3005 503.3829,-261.8685 528.0484,-242.7776\"/>\n",
       "<polygon fill=\"#000000\" stroke=\"#000000\" points=\"530.4422,-245.3474 536.1305,-236.4091 526.1097,-239.8493 530.4422,-245.3474\"/>\n",
       "<text text-anchor=\"middle\" x=\"396.9375\" y=\"-335.8\" font-family=\"Times,serif\" font-size=\"14.00\" fill=\"#000000\">INPUT_CALC</text>\n",
       "<text text-anchor=\"middle\" x=\"396.9375\" y=\"-321.8\" font-family=\"Times,serif\" font-size=\"14.00\" fill=\"#000000\">basissets__Mg</text>\n",
       "</g>\n",
       "<!-- N74 -->\n",
       "<g id=\"node3\" class=\"node\">\n",
       "<title>N74</title>\n",
       "<polygon fill=\"none\" stroke=\"#000000\" points=\"227.0596,-302 109.0986,-302 109.0986,-266 227.0596,-266 227.0596,-302\"/>\n",
       "<text text-anchor=\"middle\" x=\"168.0791\" y=\"-279.8\" font-family=\"Times,serif\" font-size=\"14.00\" fill=\"#000000\">BasisSetData (74)</text>\n",
       "</g>\n",
       "<!-- N74&#45;&gt;N430 -->\n",
       "<g id=\"edge2\" class=\"edge\">\n",
       "<title>N74&#45;&gt;N430</title>\n",
       "<path fill=\"none\" stroke=\"#000000\" d=\"M226.9721,-279.8491C282.406,-275.1356 367.4717,-265.8176 439.7168,-249 456.8082,-245.0214 474.7821,-239.7076 491.832,-234.1063\"/>\n",
       "<polygon fill=\"#000000\" stroke=\"#000000\" points=\"493.3804,-237.2788 501.7503,-230.7831 491.1564,-230.6415 493.3804,-237.2788\"/>\n",
       "<text text-anchor=\"middle\" x=\"396.9375\" y=\"-280.8\" font-family=\"Times,serif\" font-size=\"14.00\" fill=\"#000000\">INPUT_CALC</text>\n",
       "<text text-anchor=\"middle\" x=\"396.9375\" y=\"-266.8\" font-family=\"Times,serif\" font-size=\"14.00\" fill=\"#000000\">basissets__O</text>\n",
       "</g>\n",
       "<!-- N426 -->\n",
       "<g id=\"node4\" class=\"node\">\n",
       "<title>N426</title>\n",
       "<polygon fill=\"none\" stroke=\"#000000\" points=\"252.0967,-248 84.0615,-248 84.0615,-212 252.0967,-212 252.0967,-248\"/>\n",
       "<text text-anchor=\"middle\" x=\"168.0791\" y=\"-225.8\" font-family=\"Times,serif\" font-size=\"14.00\" fill=\"#000000\">CryInputParamsData (426)</text>\n",
       "</g>\n",
       "<!-- N426&#45;&gt;N430 -->\n",
       "<g id=\"edge3\" class=\"edge\">\n",
       "<title>N426&#45;&gt;N430</title>\n",
       "<path fill=\"none\" stroke=\"#000000\" d=\"M252.2543,-224.4056C309.3913,-220.6082 385.9161,-215.5222 450.036,-211.2607\"/>\n",
       "<polygon fill=\"#000000\" stroke=\"#000000\" points=\"450.4696,-214.7397 460.2155,-210.5841 450.0053,-207.7551 450.4696,-214.7397\"/>\n",
       "<text text-anchor=\"middle\" x=\"396.9375\" y=\"-233.8\" font-family=\"Times,serif\" font-size=\"14.00\" fill=\"#000000\">INPUT_CALC</text>\n",
       "<text text-anchor=\"middle\" x=\"396.9375\" y=\"-219.8\" font-family=\"Times,serif\" font-size=\"14.00\" fill=\"#000000\">parameters</text>\n",
       "</g>\n",
       "<!-- N419 -->\n",
       "<g id=\"node5\" class=\"node\">\n",
       "<title>N419</title>\n",
       "<polygon fill=\"none\" stroke=\"#000000\" points=\"231.6492,-194 104.509,-194 104.509,-158 231.6492,-158 231.6492,-194\"/>\n",
       "<text text-anchor=\"middle\" x=\"168.0791\" y=\"-178.8\" font-family=\"Times,serif\" font-size=\"14.00\" fill=\"#000000\">StructureData (419)</text>\n",
       "<text text-anchor=\"middle\" x=\"168.0791\" y=\"-164.8\" font-family=\"Times,serif\" font-size=\"14.00\" fill=\"#000000\">MgO</text>\n",
       "</g>\n",
       "<!-- N419&#45;&gt;N430 -->\n",
       "<g id=\"edge4\" class=\"edge\">\n",
       "<title>N419&#45;&gt;N430</title>\n",
       "<path fill=\"none\" stroke=\"#000000\" d=\"M231.8937,-174.1655C287.0355,-173.2426 368.7995,-173.4589 439.7168,-180 448.0314,-180.7669 456.6061,-181.7581 465.2118,-182.8974\"/>\n",
       "<polygon fill=\"#000000\" stroke=\"#000000\" points=\"464.9287,-186.3915 475.3146,-184.2982 465.8901,-179.4579 464.9287,-186.3915\"/>\n",
       "<text text-anchor=\"middle\" x=\"396.9375\" y=\"-196.8\" font-family=\"Times,serif\" font-size=\"14.00\" fill=\"#000000\">INPUT_CALC</text>\n",
       "<text text-anchor=\"middle\" x=\"396.9375\" y=\"-182.8\" font-family=\"Times,serif\" font-size=\"14.00\" fill=\"#000000\">structure</text>\n",
       "</g>\n",
       "<!-- N421 -->\n",
       "<g id=\"node6\" class=\"node\">\n",
       "<title>N421</title>\n",
       "<polygon fill=\"none\" stroke=\"#000000\" points=\"235.1628,-140 100.9954,-140 100.9954,-90 235.1628,-90 235.1628,-140\"/>\n",
       "<text text-anchor=\"middle\" x=\"168.0791\" y=\"-124.8\" font-family=\"Times,serif\" font-size=\"14.00\" fill=\"#000000\">SymmetryData (421)</text>\n",
       "<text text-anchor=\"middle\" x=\"168.0791\" y=\"-110.8\" font-family=\"Times,serif\" font-size=\"14.00\" fill=\"#000000\">hall_number: 523</text>\n",
       "<text text-anchor=\"middle\" x=\"168.0791\" y=\"-96.8\" font-family=\"Times,serif\" font-size=\"14.00\" fill=\"#000000\">symmops: 48</text>\n",
       "</g>\n",
       "<!-- N421&#45;&gt;N430 -->\n",
       "<g id=\"edge5\" class=\"edge\">\n",
       "<title>N421&#45;&gt;N430</title>\n",
       "<path fill=\"none\" stroke=\"#000000\" d=\"M235.286,-116.0434C290.9175,-118.2985 371.5841,-124.8019 439.7168,-143 462.3268,-149.0391 485.9639,-158.422 507.008,-167.9884\"/>\n",
       "<polygon fill=\"#000000\" stroke=\"#000000\" points=\"505.6239,-171.2045 516.1683,-172.2371 508.5693,-164.8543 505.6239,-171.2045\"/>\n",
       "<text text-anchor=\"middle\" x=\"396.9375\" y=\"-159.8\" font-family=\"Times,serif\" font-size=\"14.00\" fill=\"#000000\">INPUT_CALC</text>\n",
       "<text text-anchor=\"middle\" x=\"396.9375\" y=\"-145.8\" font-family=\"Times,serif\" font-size=\"14.00\" fill=\"#000000\">symmetry</text>\n",
       "</g>\n",
       "<!-- N7 -->\n",
       "<g id=\"node7\" class=\"node\">\n",
       "<title>N7</title>\n",
       "<polygon fill=\"none\" stroke=\"#ffa500\" points=\"168.0791,-72 -.0791,-36 168.0791,0 336.2373,-36 168.0791,-72\"/>\n",
       "<text text-anchor=\"middle\" x=\"168.0791\" y=\"-38.8\" font-family=\"Times,serif\" font-size=\"14.00\" fill=\"#000000\">Code (7)</text>\n",
       "<text text-anchor=\"middle\" x=\"168.0791\" y=\"-24.8\" font-family=\"Times,serif\" font-size=\"14.00\" fill=\"#000000\">mock_runcry17@localhost</text>\n",
       "</g>\n",
       "<!-- N7&#45;&gt;N430 -->\n",
       "<g id=\"edge6\" class=\"edge\">\n",
       "<title>N7&#45;&gt;N430</title>\n",
       "<path fill=\"none\" stroke=\"#000000\" d=\"M280.6347,-47.9282C331.0766,-56.2805 390.2179,-70.3631 439.7168,-94 474.8832,-110.7928 508.9415,-138.5165 534.0018,-161.8007\"/>\n",
       "<polygon fill=\"#000000\" stroke=\"#000000\" points=\"531.8089,-164.5439 541.4815,-168.8673 536.6162,-159.4557 531.8089,-164.5439\"/>\n",
       "<text text-anchor=\"middle\" x=\"396.9375\" y=\"-110.8\" font-family=\"Times,serif\" font-size=\"14.00\" fill=\"#000000\">INPUT_CALC</text>\n",
       "<text text-anchor=\"middle\" x=\"396.9375\" y=\"-96.8\" font-family=\"Times,serif\" font-size=\"14.00\" fill=\"#000000\">code</text>\n",
       "</g>\n",
       "</g>\n",
       "</svg>\n"
      ],
      "text/plain": [
       "<graphviz.dot.Digraph at 0x11766ba90>"
      ]
     },
     "execution_count": 59,
     "metadata": {},
     "output_type": "execute_result"
    }
   ],
   "source": [
    "from aiida_crystal17.graph import Graph\n",
    "graph = Graph(graph_attr={'size': \"6,8!\", \"rankdir\": \"LR\"})\n",
    "graph.add_node(calcnode)\n",
    "graph.add_incoming(calcnode, annotate_links=\"both\")\n",
    "graph.add_outgoing(calcnode, annotate_links=\"both\")\n",
    "graph.graphviz"
   ]
  },
  {
   "cell_type": "markdown",
   "metadata": {},
   "source": [
    "The `retrieved` `FolderData` output node contains the CRYSTAL17 main input and output file."
   ]
  },
  {
   "cell_type": "code",
   "execution_count": 60,
   "metadata": {},
   "outputs": [
    {
     "data": {
      "text/plain": [
       "['_scheduler-stderr.txt', '_scheduler-stdout.txt', 'main.gui', 'main.out']"
      ]
     },
     "execution_count": 60,
     "metadata": {},
     "output_type": "execute_result"
    }
   ],
   "source": [
    "calcnode.outputs.retrieved.list_object_names()"
   ]
  },
  {
   "cell_type": "markdown",
   "metadata": {},
   "source": [
    "The `results` `Dict` output node contains key values extracted from the CRYSTAL17 main output file."
   ]
  },
  {
   "cell_type": "code",
   "execution_count": 61,
   "metadata": {},
   "outputs": [
    {
     "data": {
      "text/markdown": [
       "```json\n",
       "{\n",
       "  \"volume\": 18.65461525,\n",
       "  \"number_of_assymetric\": 2,\n",
       "  \"number_of_atoms\": 2,\n",
       "  \"energy_units\": \"eV\",\n",
       "  \"energy\": -7380.22160519032,\n",
       "  \"scf_iterations\": 7,\n",
       "  \"calculation_type\": \"restricted closed shell\",\n",
       "  \"calculation_spin\": false,\n",
       "  \"wall_time_seconds\": 3,\n",
       "  \"warnings\": [],\n",
       "  \"errors\": [],\n",
       "  \"parser_warnings\": [],\n",
       "  \"parser_errors\": [],\n",
       "  \"ejplugins_version\": \"0.11.1\",\n",
       "  \"parser_class\": \"CryMainParser\",\n",
       "  \"parser_version\": \"0.4.0\"\n",
       "}\n",
       "```"
      ]
     },
     "metadata": {},
     "output_type": "display_data"
    }
   ],
   "source": [
    "display_json(calcnode.outputs.results.attributes)"
   ]
  }
 ],
 "metadata": {
  "celltoolbar": "Edit Metadata",
  "hide_input": false,
  "kernelspec": {
   "display_name": "Python 3",
   "language": "python",
   "name": "python3"
  },
  "language_info": {
   "codemirror_mode": {
    "name": "ipython",
    "version": 3
   },
   "file_extension": ".py",
   "mimetype": "text/x-python",
   "name": "python",
   "nbconvert_exporter": "python",
   "pygments_lexer": "ipython3",
   "version": "3.6.5"
  },
  "toc": {
   "base_numbering": 1,
   "nav_menu": {},
   "number_sections": true,
   "sideBar": true,
   "skip_h1_title": false,
   "title_cell": "Table of Contents",
   "title_sidebar": "Contents",
   "toc_cell": false,
   "toc_position": {
    "height": "calc(100% - 180px)",
    "left": "10px",
    "top": "150px",
    "width": "256px"
   },
   "toc_section_display": true,
   "toc_window_display": false
  }
 },
 "nbformat": 4,
 "nbformat_minor": 2
}
