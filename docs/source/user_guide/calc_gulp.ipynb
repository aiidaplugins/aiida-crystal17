{
 "cells": [
  {
   "cell_type": "markdown",
   "metadata": {},
   "source": [
    "# GULP Calculations"
   ]
  },
  {
   "cell_type": "markdown",
   "metadata": {},
   "source": [
    "The `gulp.single` (for single point energy calculations) and `gulp.optimize` (for geometry optimisation calculations) plugins will run the [General Utility Lattice Program (GULP)](http://gulp.curtin.edu.au/gulp/).\n",
    "They are designed to create the input `.gin` file,\n",
    "from a set of AiiDA :py:class:`~aiida.orm.nodes.data.Data` nodes."
   ]
  },
  {
   "cell_type": "markdown",
   "metadata": {},
   "source": [
    ".. note::\n",
    "\n",
    "    It is likely that these calculations will eventually be moved to a separate repository."
   ]
  },
  {
   "cell_type": "markdown",
   "metadata": {},
   "source": [
    "## Initial Setup"
   ]
  },
  {
   "cell_type": "markdown",
   "metadata": {},
   "source": [
    "To run a computation, first ensure AiiDA is running:"
   ]
  },
  {
   "cell_type": "code",
   "execution_count": 3,
   "metadata": {},
   "outputs": [
    {
     "name": "stdout",
     "output_type": "stream",
     "text": [
      "\u001b[32m ✓ \u001b[0mprofile:     On profile test_crystal17\u001b[0m\n",
      "\u001b[32m ✓ \u001b[0mrepository:  /Users/cjs14/GitHub/aiida-cjs-working/databases/aiida/.aiida/repository/test_crystal17\u001b[0m\n",
      "\u001b[32m ✓ \u001b[0mpostgres:    Connected as cjs14@localhost:5432\u001b[0m\n",
      "\u001b[32m ✓ \u001b[0mrabbitmq:    Connected to amqp://127.0.0.1?heartbeat=600\u001b[0m\n",
      "\u001b[32m ✓ \u001b[0mdaemon:      Daemon is running as PID 28308 since 2019-07-07 04:06:37\u001b[0m\n"
     ]
    }
   ],
   "source": [
    "!verdi status"
   ]
  },
  {
   "cell_type": "markdown",
   "metadata": {},
   "source": [
    ".. seealso::\n",
    "\n",
    "    AiiDA documentation: :ref:`aiida:quick_installation`"
   ]
  },
  {
   "cell_type": "markdown",
   "metadata": {},
   "source": [
    "If `aiida-crystal17` is installed,\n",
    "the `gulp.single` and `gulp.optimize` computations should be available:"
   ]
  },
  {
   "cell_type": "code",
   "execution_count": 3,
   "metadata": {},
   "outputs": [
    {
     "name": "stdout",
     "output_type": "stream",
     "text": [
      "\u001b[31m\u001b[1mInputs\u001b[0m\n",
      "\u001b[1m           code:  required  Code                The Code to use for this job.\u001b[0m\n",
      "\u001b[1m      potential:  required  EmpiricalPotential  parameters to create the potential section of the .gin file content.\u001b[0m\n",
      "\u001b[1m      structure:  required  StructureData       atomic structure used to create the geometry section of .gin file content.\u001b[0m\n",
      "       metadata:  optional                      \u001b[0m\n",
      "     parameters:  optional  Dict                additional input parameters to create the .gin file content.\u001b[0m\n",
      "\u001b[31m\u001b[1mOutputs\u001b[0m\n",
      "\u001b[1m  remote_folder:  required  RemoteData          Input files necessary to run the process will be stored in this folder node ...\u001b[0m\n",
      "\u001b[1m        results:  required  Dict                the data extracted from the main output file\u001b[0m\n",
      "\u001b[1m      retrieved:  required  FolderData          Files that are retrieved by the daemon will be stored in this node. By defa ...\u001b[0m\n",
      "\u001b[31m\u001b[1mExit codes\u001b[0m\n",
      "              1:  The process has failed with an unspecified error.\u001b[0m\n",
      "              2:  The process failed with legacy failure mode.\u001b[0m\n",
      "             10:  The process returned an invalid output.\u001b[0m\n",
      "             11:  The process did not register a required output.\u001b[0m\n",
      "            200:  The retrieved folder data node could not be accessed.\u001b[0m\n",
      "            210:  The main output file was not found\u001b[0m\n",
      "            300:  An error was flagged trying to parse the main gulp output file\u001b[0m\n",
      "            301:  The stdout file is empty\u001b[0m\n",
      "            400:  The main gulp output file flagged an error not handled elsewhere\u001b[0m\n",
      "            410:  The main gulp output file did not signal that an expected optimisation completed\u001b[0m\n",
      "            411:  The main gulp output file did not signal that an expected optimisation completed\u001b[0m\n",
      "            412:  The main gulp output file did not signal that an expected optimisation completed\u001b[0m\n"
     ]
    }
   ],
   "source": [
    "!verdi plugin list aiida.calculations gulp.single"
   ]
  },
  {
   "cell_type": "code",
   "execution_count": 4,
   "metadata": {},
   "outputs": [
    {
     "name": "stdout",
     "output_type": "stream",
     "text": [
      "\u001b[31m\u001b[1mInputs\u001b[0m\n",
      "\u001b[1m           code:  required  Code                The Code to use for this job.\u001b[0m\n",
      "\u001b[1m      potential:  required  EmpiricalPotential  parameters to create the potential section of the .gin file content.\u001b[0m\n",
      "\u001b[1m      structure:  required  StructureData       atomic structure used to create the geometry section of .gin file content.\u001b[0m\n",
      "       metadata:  optional                      \u001b[0m\n",
      "     parameters:  optional  Dict                additional input parameters to create the .gin file content.\u001b[0m\n",
      "       symmetry:  optional  SymmetryData        parameters to create the symmetry section of the .gin file content (for con ...\u001b[0m\n",
      "\u001b[31m\u001b[1mOutputs\u001b[0m\n",
      "\u001b[1m  remote_folder:  required  RemoteData          Input files necessary to run the process will be stored in this folder node ...\u001b[0m\n",
      "\u001b[1m        results:  required  Dict                the data extracted from the main output file\u001b[0m\n",
      "\u001b[1m      retrieved:  required  FolderData          Files that are retrieved by the daemon will be stored in this node. By defa ...\u001b[0m\n",
      "\u001b[1m      structure:  required  StructureData       the optimized structure output from the calculation\u001b[0m\n",
      "\u001b[31m\u001b[1mExit codes\u001b[0m\n",
      "              1:  The process has failed with an unspecified error.\u001b[0m\n",
      "              2:  The process failed with legacy failure mode.\u001b[0m\n",
      "             10:  The process returned an invalid output.\u001b[0m\n",
      "             11:  The process did not register a required output.\u001b[0m\n",
      "            200:  The retrieved folder data node could not be accessed.\u001b[0m\n",
      "            210:  The main output file was not found\u001b[0m\n",
      "            250:  The output cif file was not found\u001b[0m\n",
      "            251:  An input structure is required to create the output structure of an optimisation\u001b[0m\n",
      "            252:  The output cif file was not consistent with the input structure\u001b[0m\n",
      "            253:  The final structure coordinates were not parsed from the output file\u001b[0m\n",
      "            300:  An error was flagged trying to parse the main gulp output file\u001b[0m\n",
      "            301:  The stdout file is empty\u001b[0m\n",
      "            400:  The main gulp output file flagged an error not handled elsewhere\u001b[0m\n",
      "            410:  The main gulp output file did not signal that an expected optimisation completed\u001b[0m\n",
      "            411:  The main gulp output file did not signal that an expected optimisation completed\u001b[0m\n",
      "            412:  The main gulp output file did not signal that an expected optimisation completed\u001b[0m\n"
     ]
    }
   ],
   "source": [
    "!verdi plugin list aiida.calculations gulp.optimize"
   ]
  },
  {
   "cell_type": "markdown",
   "metadata": {},
   "source": [
    "To use the python interface,\n",
    "first ensure a profile is loaded in the python kernel,\n",
    "and import the required modules:"
   ]
  },
  {
   "cell_type": "code",
   "execution_count": 5,
   "metadata": {
    "init_cell": true
   },
   "outputs": [
    {
     "data": {
      "text/plain": [
       "'test_crystal17'"
      ]
     },
     "execution_count": 5,
     "metadata": {},
     "output_type": "execute_result"
    }
   ],
   "source": [
    "from aiida import load_profile\n",
    "profile = load_profile()\n",
    "profile.name"
   ]
  },
  {
   "cell_type": "code",
   "execution_count": 7,
   "metadata": {
    "init_cell": true
   },
   "outputs": [],
   "source": [
    "import os\n",
    "from aiida.orm import Code\n",
    "from aiida.plugins import (\n",
    "    DataFactory, WorkflowFactory, CalculationFactory)\n",
    "from aiida.engine import run_get_node\n",
    "from aiida_crystal17.common import display_json\n",
    "from aiida_crystal17.tests import TEST_FILES\n",
    "from aiida.tools.visualization import Graph\n",
    "from jsonextended import edict"
   ]
  },
  {
   "cell_type": "markdown",
   "metadata": {},
   "source": [
    "## Input Node Creation"
   ]
  },
  {
   "cell_type": "markdown",
   "metadata": {},
   "source": [
    ".. seealso::\n",
    "\n",
    "    [GULP Help File](http://gulp.curtin.edu.au/gulp/help/help_45_txt.html)"
   ]
  },
  {
   "cell_type": "markdown",
   "metadata": {},
   "source": [
    "### Code"
   ]
  },
  {
   "cell_type": "markdown",
   "metadata": {},
   "source": [
    ".. seealso::\n",
    "\n",
    "    AiiDA documentation: :ref:`aiida:setup_code`"
   ]
  },
  {
   "cell_type": "markdown",
   "metadata": {},
   "source": [
    "An :py:class:aiida.orm.nodes.data.code.Code node should be set up in advance, to use the gulp calculation plugin, and call the gulp executable (or mock_gulp used here for test purposes)."
   ]
  },
  {
   "cell_type": "code",
   "execution_count": 8,
   "metadata": {},
   "outputs": [
    {
     "data": {
      "text/plain": [
       "[['PK', 10],\n",
       " ['UUID', '5c9c53b5-bd8d-4bec-8b56-6c99bfd08a9b'],\n",
       " ['Label', 'gulp.optimize-mock_gulp@localhost'],\n",
       " ['Description', ''],\n",
       " ['Default plugin', 'gulp.optimize'],\n",
       " ['Type', 'remote'],\n",
       " ['Remote machine', 'localhost'],\n",
       " ['Remote absolute path', '//anaconda/envs/aiida-workshop/bin/mock_gulp'],\n",
       " ['Prepend text', 'No prepend text'],\n",
       " ['Append text', 'No append text']]"
      ]
     },
     "execution_count": 8,
     "metadata": {},
     "output_type": "execute_result"
    }
   ],
   "source": [
    "from aiida_crystal17.tests.utils import get_or_create_local_computer, get_or_create_code\n",
    "computer = get_or_create_local_computer('work_directory', 'localhost')\n",
    "code_single = get_or_create_code('gulp.single', computer, 'mock_gulp')\n",
    "code_opt = get_or_create_code('gulp.optimize', computer, 'mock_gulp')\n",
    "code_opt.get_full_text_info()"
   ]
  },
  {
   "cell_type": "markdown",
   "metadata": {},
   "source": [
    ".. note::\n",
    "\n",
    "    The calculations are tested against GULP v4.5.3"
   ]
  },
  {
   "cell_type": "markdown",
   "metadata": {},
   "source": [
    "### Atomic Structure"
   ]
  },
  {
   "cell_type": "markdown",
   "metadata": {},
   "source": [
    "The ``structure`` refers to a standard\n",
    ":py:class:`~aiida.StructureData` node, and is used to create the `main.gui`.\n",
    "\n",
    "Structures consist of:\n",
    "\n",
    "- A cell with a basis vectors and whether it is periodic, for each dimension\n",
    "- ``Site`` with a cartesian coordinate and reference to a kind\n",
    "- ``Kind`` which details the species and composition at one or more sites\n",
    "\n",
    "The simplest way to create a structure is *via* :py:mod:`ase`:"
   ]
  },
  {
   "cell_type": "code",
   "execution_count": 9,
   "metadata": {},
   "outputs": [
    {
     "data": {
      "text/plain": [
       "<StructureData: uuid: bd478628-22e1-4c7f-a9ed-b1f93d8b0d5a (unstored)>"
      ]
     },
     "execution_count": 9,
     "metadata": {},
     "output_type": "execute_result"
    }
   ],
   "source": [
    "from ase.spacegroup import crystal\n",
    "atoms = crystal(\n",
    "    symbols=[12, 8],\n",
    "    basis=[[0, 0, 0], [0.5, 0.5, 0.5]],\n",
    "    spacegroup=225,\n",
    "    cellpar=[4.21, 4.21, 4.21, 90, 90, 90])\n",
    "struct_cls = DataFactory('structure')\n",
    "structure = struct_cls(ase=atoms)\n",
    "structure"
   ]
  },
  {
   "cell_type": "markdown",
   "metadata": {},
   "source": [
    "These structures can be visualised using standard ASE methods."
   ]
  },
  {
   "cell_type": "code",
   "execution_count": 10,
   "metadata": {},
   "outputs": [
    {
     "data": {
      "image/png": "[encoded data removed]",
      "text/plain": [
       "<Figure size 432x288 with 1 Axes>"
      ]
     },
     "metadata": {
      "needs_background": "light"
     },
     "output_type": "display_data"
    }
   ],
   "source": [
    "%matplotlib inline\n",
    "import matplotlib.pyplot as plt\n",
    "from ase.visualize.plot import plot_atoms\n",
    "atoms = structure.get_ase()\n",
    "fig, ax = plt.subplots()\n",
    "plot_atoms(atoms.repeat((2,2,2)), \n",
    "           ax, radii=0.8, show_unit_cell=True, \n",
    "           rotation=('45x,0y,0z'));"
   ]
  },
  {
   "cell_type": "markdown",
   "metadata": {},
   "source": [
    "As default, one kind is created per atomic species\n",
    "(named as the atomic symbol):"
   ]
  },
  {
   "cell_type": "code",
   "execution_count": 11,
   "metadata": {},
   "outputs": [
    {
     "data": {
      "text/plain": [
       "['Mg', 'Mg', 'Mg', 'Mg', 'O1', 'O1', 'O1', 'O1']"
      ]
     },
     "execution_count": 11,
     "metadata": {},
     "output_type": "execute_result"
    }
   ],
   "source": [
    "structure.get_site_kindnames()"
   ]
  },
  {
   "cell_type": "markdown",
   "metadata": {},
   "source": [
    "However, we may want to specify more than one kind per species (for example to setup anti-ferromagnetic spin). We can achieve this by tagging the atoms:"
   ]
  },
  {
   "cell_type": "code",
   "execution_count": 12,
   "metadata": {},
   "outputs": [
    {
     "data": {
      "text/plain": [
       "['Mg1', 'Mg1', 'Mg2', 'Mg2', 'O', 'O', 'O', 'O']"
      ]
     },
     "execution_count": 12,
     "metadata": {},
     "output_type": "execute_result"
    }
   ],
   "source": [
    "atoms_afm = atoms.copy()\n",
    "atoms_afm.set_tags([1, 1, 2, 2, 0, 0, 0, 0])\n",
    "structure_afm = struct_cls(ase=atoms_afm)\n",
    "structure_afm.get_site_kindnames()"
   ]
  },
  {
   "cell_type": "markdown",
   "metadata": {},
   "source": [
    "### Inter-Atomic Potential"
   ]
  },
  {
   "cell_type": "markdown",
   "metadata": {},
   "source": [
    "Inter-atomic potentials are supplied in the form of a py:class:`~aiida.orm.nodes.data.dict.Dict` node with keys `pair_style` and `data`, with the form of the `data` dictated by the pair_style.\n",
    "Pair styles are created by sub-classing :py:class:`~aiida_crystal17.gulp.potentials.base.PotentialWriterAbstract` and adding an entry point to `gulp.potentials`. Available pair styles and data schema can be found by:"
   ]
  },
  {
   "cell_type": "code",
   "execution_count": 13,
   "metadata": {},
   "outputs": [
    {
     "name": "stdout",
     "output_type": "stream",
     "text": [
      "\u001b[22mRegistered entry points for gulp.potentials:\u001b[0m\r\n",
      "\u001b[22m* lj\u001b[0m\r\n",
      "\u001b[22m* reaxff\u001b[0m\r\n",
      "\u001b[22m\u001b[0m\r\n",
      "\u001b[34m\u001b[1mInfo: \u001b[0m\u001b[22mPass the entry point as an argument to display detailed information\u001b[0m\r\n"
     ]
    }
   ],
   "source": [
    "!verdi data gulp.potentials list"
   ]
  },
  {
   "cell_type": "code",
   "execution_count": 14,
   "metadata": {},
   "outputs": [
    {
     "name": "stdout",
     "output_type": "stream",
     "text": [
      "\u001b[1mLennard-Jones potential, of the form; E = A/r**m - B/r**n\u001b[0m\n",
      "\u001b[22mData Schema:\u001b[0m\n",
      "\u001b[22m\u001b[34m$id\u001b[0m: potential.base.schema\u001b[0m\n",
      "\u001b[22m\u001b[34m$schema\u001b[0m: http://json-schema.org/draft-07/schema\u001b[0m\n",
      "\u001b[22m\u001b[34mdescription\u001b[0m: a schema for storing an empirical potential\u001b[0m\n",
      "\u001b[22m\u001b[34mproperties\u001b[0m: \u001b[0m\n",
      "\u001b[22m  \u001b[34m2body\u001b[0m: \u001b[0m\n",
      "\u001b[22m    \u001b[34madditionalProperties\u001b[0m: False\u001b[0m\n",
      "\u001b[22m    \u001b[34mdescription\u001b[0m: parameters that depend on two species\u001b[0m\n",
      "\u001b[22m    \u001b[34mpatternProperties\u001b[0m: \u001b[0m\n",
      "\u001b[22m      \u001b[34m[0-9]+\\-[0-9]+\u001b[0m: \u001b[0m\n",
      "\u001b[22m        \u001b[34mdescription\u001b[0m: mapping of '<idx1>-<idx2>' to properties\u001b[0m\n",
      "\u001b[22m        \u001b[34mproperties\u001b[0m: \u001b[0m\n",
      "\u001b[22m          \u001b[34mlj_A\u001b[0m: \u001b[0m\n",
      "\u001b[22m            \u001b[34mdescription\u001b[0m: fist coefficient (in ev*Angs**m)\u001b[0m\n",
      "\u001b[22m            \u001b[34mtype\u001b[0m: number\u001b[0m\n",
      "\u001b[22m          \u001b[34mlj_B\u001b[0m: \u001b[0m\n",
      "\u001b[22m            \u001b[34mdescription\u001b[0m: second coefficient (in ev*Angs**m)\u001b[0m\n",
      "\u001b[22m            \u001b[34mtype\u001b[0m: number\u001b[0m\n",
      "\u001b[22m          \u001b[34mlj_m\u001b[0m: \u001b[0m\n",
      "\u001b[22m            \u001b[34mdefault\u001b[0m: 12\u001b[0m\n",
      "\u001b[22m            \u001b[34mdescription\u001b[0m: first exponent\u001b[0m\n",
      "\u001b[22m            \u001b[34mexclusiveMinimum\u001b[0m: 0\u001b[0m\n",
      "\u001b[22m            \u001b[34mtype\u001b[0m:    integer\u001b[0m\n",
      "\u001b[22m          \u001b[34mlj_n\u001b[0m: \u001b[0m\n",
      "\u001b[22m            \u001b[34mdefault\u001b[0m: 6\u001b[0m\n",
      "\u001b[22m            \u001b[34mdescription\u001b[0m: second exponent\u001b[0m\n",
      "\u001b[22m            \u001b[34mexclusiveMinimum\u001b[0m: 0\u001b[0m\n",
      "\u001b[22m            \u001b[34mtype\u001b[0m:    integer\u001b[0m\n",
      "\u001b[22m          \u001b[34mlj_rmax\u001b[0m: \u001b[0m\n",
      "\u001b[22m            \u001b[34mdescription\u001b[0m: maximum radius cut-off (Angs)\u001b[0m\n",
      "\u001b[22m            \u001b[34mexclusiveMinimum\u001b[0m: 0\u001b[0m\n",
      "\u001b[22m            \u001b[34mtype\u001b[0m:    number\u001b[0m\n",
      "\u001b[22m          \u001b[34mlj_rmin\u001b[0m: \u001b[0m\n",
      "\u001b[22m            \u001b[34mdefault\u001b[0m: 0\u001b[0m\n",
      "\u001b[22m            \u001b[34mdescription\u001b[0m: minimum radius cut-off (Angs)\u001b[0m\n",
      "\u001b[22m            \u001b[34mminimum\u001b[0m: 0\u001b[0m\n",
      "\u001b[22m            \u001b[34mtype\u001b[0m: number\u001b[0m\n",
      "\u001b[22m        \u001b[34mrequired\u001b[0m: [lj_A, lj_B, lj_rmax]\u001b[0m\n",
      "\u001b[22m        \u001b[34mtype\u001b[0m: object\u001b[0m\n",
      "\u001b[22m    \u001b[34mtype\u001b[0m:        object\u001b[0m\n",
      "\u001b[22m  \u001b[34mdescription\u001b[0m: \u001b[0m\n",
      "\u001b[22m    \u001b[34mtype\u001b[0m: string\u001b[0m\n",
      "\u001b[22m  \u001b[34mspecies\u001b[0m: \u001b[0m\n",
      "\u001b[22m    \u001b[34mdescription\u001b[0m: the list of species\u001b[0m\n",
      "\u001b[22m    \u001b[34mitems\u001b[0m: \u001b[0m\n",
      "\u001b[22m      \u001b[34mpattern\u001b[0m: ^[a-zA-Z]+ (core|shell)$\u001b[0m\n",
      "\u001b[22m      \u001b[34mtype\u001b[0m: string\u001b[0m\n",
      "\u001b[22m    \u001b[34mtype\u001b[0m: array\u001b[0m\n",
      "\u001b[22m    \u001b[34muniqueItems\u001b[0m: True\u001b[0m\n",
      "\u001b[22m\u001b[34mrequired\u001b[0m: [species, 2body]\u001b[0m\n",
      "\u001b[22m\u001b[34mtype\u001b[0m: object\u001b[0m\n"
     ]
    }
   ],
   "source": [
    "!verdi data gulp.potentials list lj -d 8"
   ]
  },
  {
   "cell_type": "code",
   "execution_count": 18,
   "metadata": {},
   "outputs": [
    {
     "name": "stdout",
     "output_type": "stream",
     "text": [
      "Number of fitted parameters: 2\n",
      "lennard 12 6\n",
      "H core  He core 1.00000000E+00 2.00000000E+00 12.00000\n"
     ]
    }
   ],
   "source": [
    "from aiida.plugins import load_entry_point\n",
    "writer = load_entry_point('gulp.potentials', 'lj')()\n",
    "data = {\n",
    "    \"species\": [\"H core\", \"He core\"],\n",
    "    \"2body\": {\n",
    "        \"0-1\": {\n",
    "            \"lj_A\": 1.0,\n",
    "            \"lj_B\": 2.0,\n",
    "            \"lj_rmax\": 12.0\n",
    "        }\n",
    "    }\n",
    "}\n",
    "content = writer.create_content(data)\n",
    "print(\"Number of fitted parameters:\", content.number_of_flags)\n",
    "print(content.content)"
   ]
  },
  {
   "cell_type": "markdown",
   "metadata": {},
   "source": [
    "ReaxFF data can be created from the standard LAMMPS style potential file, using"
   ]
  },
  {
   "cell_type": "code",
   "execution_count": 26,
   "metadata": {},
   "outputs": [
    {
     "name": "stdout",
     "output_type": "stream",
     "text": [
      "\u001b[34m1body\u001b[0m:\n",
      "  \u001b[34m0\u001b[0m: {...}\n",
      "  \u001b[34m1\u001b[0m: {...}\n",
      "\u001b[34m2body\u001b[0m:\n",
      "  \u001b[34m0-0\u001b[0m: {...}\n",
      "  \u001b[34m0-1\u001b[0m: {...}\n",
      "  \u001b[34m1-1\u001b[0m: {...}\n",
      "\u001b[34m3body\u001b[0m:\n",
      "  \u001b[34m0-0-1\u001b[0m: {...}\n",
      "  \u001b[34m0-1-0\u001b[0m: {...}\n",
      "  \u001b[34m0-1-1\u001b[0m: {...}\n",
      "  \u001b[34m1-0-1\u001b[0m: {...}\n",
      "  \u001b[34m1-1-1\u001b[0m: {...}\n",
      "\u001b[34m4body\u001b[0m:\n",
      "  \u001b[34m1-1-1-1\u001b[0m: {...}\n",
      "\u001b[34mdescription\u001b[0m: Reactive MD-force field: Cr/O/Fe/S/C/H force field 2014\n",
      "\u001b[34mglobal\u001b[0m:\n",
      "  \u001b[34mC2-correction\u001b[0m:           60.485\n",
      "  \u001b[34mLower Taper-radius\u001b[0m:      0.0\n",
      "  \u001b[34mNot used 2\u001b[0m:              6.1431\n",
      "  \u001b[34mNot used 3\u001b[0m:              -2.4837\n",
      "  \u001b[34mNot used 4\u001b[0m:              -1.2327\n",
      "  \u001b[34mNot used 5\u001b[0m:              0.5\n",
      "  \u001b[34mNot used 6\u001b[0m:              20.0\n",
      "  \u001b[34mNot used 7\u001b[0m:              5.0\n",
      "  \u001b[34mNot used 8\u001b[0m:              0.0\n",
      "  \u001b[34mTriple bond stabilisation\u001b[0m: 4.6\n",
      "  \u001b[34mTriple bond stabilisation 1\u001b[0m: 1.7224\n",
      "  \u001b[34mTriple bond stabilisation 2\u001b[0m: 6.8702\n",
      "  \u001b[34mTriple bond stabilization energy\u001b[0m: -70.5044\n",
      "  \u001b[34mUpper Taper-radius\u001b[0m:      10.0\n",
      "  \u001b[34mbond order cutoff\u001b[0m:       0.1\n",
      "  \u001b[34mreaxff0_boc1\u001b[0m:            50.0\n",
      "  \u001b[34mreaxff0_boc2\u001b[0m:            9.5469\n",
      "  \u001b[34mreaxff0_cot2\u001b[0m:            2.1645\n",
      "  \u001b[34mreaxff0_lp1\u001b[0m:             6.0891\n",
      "  \u001b[34mreaxff0_ovun3\u001b[0m:           50.0\n",
      "  \u001b[34mreaxff0_ovun4\u001b[0m:           0.6991\n",
      "  \u001b[34mreaxff0_ovun6\u001b[0m:           1.0588\n",
      "  \u001b[34mreaxff0_ovun7\u001b[0m:           12.1176\n",
      "  \u001b[34mreaxff0_ovun8\u001b[0m:           13.3056\n",
      "  \u001b[34mreaxff0_pen2\u001b[0m:            6.929\n",
      "  \u001b[34mreaxff0_pen3\u001b[0m:            0.3989\n",
      "  \u001b[34mreaxff0_pen4\u001b[0m:            3.9954\n",
      "  \u001b[34mreaxff0_tor2\u001b[0m:            5.7796\n",
      "  \u001b[34mreaxff0_tor3\u001b[0m:            10.0\n",
      "  \u001b[34mreaxff0_tor4\u001b[0m:            1.9487\n",
      "  \u001b[34mreaxff0_val7\u001b[0m:            33.8667\n",
      "  \u001b[34mreaxff0_val8\u001b[0m:            1.8512\n",
      "  \u001b[34mreaxff0_val9\u001b[0m:            1.0563\n",
      "  \u001b[34mreaxff0_val10\u001b[0m:           2.0384\n",
      "  \u001b[34mreaxff0_vdw1\u001b[0m:            1.5591\n",
      "  \u001b[34mreaxff2_pen2\u001b[0m:            2.8793\n",
      "  \u001b[34mreaxff2_pen3\u001b[0m:            1.0\n",
      "  \u001b[34mreaxff3_coa2\u001b[0m:            26.5405\n",
      "  \u001b[34mreaxff3_coa3\u001b[0m:            2.6962\n",
      "  \u001b[34mreaxff3_coa4\u001b[0m:            2.1365\n",
      "\u001b[34mspecies\u001b[0m: [Fe core, S core]\n"
     ]
    }
   ],
   "source": [
    "from aiida_crystal17.tests import TEST_FILES\n",
    "from aiida_crystal17.gulp.potentials.raw_reaxff import read_lammps_format\n",
    "from aiida_crystal17.gulp.potentials.common import filter_by_species\n",
    "\n",
    "with open(os.path.join(TEST_FILES, 'gulp', 'potentials', 'FeCrOSCH.reaxff')) as handle:  \n",
    "    data = read_lammps_format(handle.read().splitlines())\n",
    "data = filter_by_species(data, [\"Fe core\", \"S core\"])\n",
    "    \n",
    "edict.pprint(data, depth=2, keycolor='blue')"
   ]
  },
  {
   "cell_type": "markdown",
   "metadata": {},
   "source": [
    "## Setting Up and Running the Calculations"
   ]
  },
  {
   "cell_type": "markdown",
   "metadata": {},
   "source": [
    ".. seealso::\n",
    "\n",
    "    AiiDA documentation: :ref:`aiida:working_processes`"
   ]
  },
  {
   "cell_type": "code",
   "execution_count": 27,
   "metadata": {},
   "outputs": [
    {
     "data": {
      "text/plain": [
       "<StructureData: uuid: ef0e9ca4-c345-486b-b6bc-9931a90b15bb (unstored)>"
      ]
     },
     "execution_count": 27,
     "metadata": {},
     "output_type": "execute_result"
    }
   ],
   "source": [
    "from aiida_crystal17.symmetry import convert_structure\n",
    "structure_data = {\n",
    "    \"lattice\": [[5.38, 0.000000, 0.000000],\n",
    "                [0.000000, 5.38, 0.000000],\n",
    "                [0.000000, 0.000000, 5.38]],\n",
    "    \"fcoords\": [[0.0, 0.0, 0.0], [0.5, 0.0, 0.5], [0.0, 0.5, 0.5],\n",
    "                [0.5, 0.5, 0.0], [0.338, 0.338, 0.338],\n",
    "                [0.662, 0.662, 0.662], [0.162, 0.662, 0.838],\n",
    "                [0.838, 0.338, 0.162], [0.662, 0.838, 0.162],\n",
    "                [0.338, 0.162, 0.838], [0.838, 0.162, 0.662],\n",
    "                [0.162, 0.838, 0.338]],\n",
    "    \"symbols\": ['Fe'] * 4 + ['S'] * 8,\n",
    "    \"pbc\": [True, True, True]\n",
    "}\n",
    "structure = convert_structure(structure_data, \"aiida\")\n",
    "structure"
   ]
  },
  {
   "cell_type": "code",
   "execution_count": 29,
   "metadata": {},
   "outputs": [
    {
     "data": {
      "text/plain": [
       "{'pair_style': 'lj',\n",
       " 'description': 'Lennard-Jones potential, of the form; E = A/r**m - B/r**n',\n",
       " 'species': ['Fe core', 'S core'],\n",
       " 'input_lines_md5': '35449283e18a3393ba70f925a16ba6a5',\n",
       " 'fitting_flags': False,\n",
       " 'total_flags': 6,\n",
       " 'number_flagged': 0,\n",
       " 'potential_filename': 'potential.pot',\n",
       " 'potential_json': 'potential.json',\n",
       " 'fitting_json': 'fitting.json'}"
      ]
     },
     "execution_count": 29,
     "metadata": {},
     "output_type": "execute_result"
    }
   ],
   "source": [
    "potential_data = {\n",
    "    \"species\": [\"Fe core\", \"S core\"],\n",
    "    \"2body\": {\n",
    "        \"0-0\": {\n",
    "            \"lj_A\": 1.0,\n",
    "            \"lj_B\": 1.0,\n",
    "            \"lj_rmax\": 12.0\n",
    "        },\n",
    "        \"0-1\": {\n",
    "            \"lj_A\": 1.0,\n",
    "            \"lj_B\": 1.0,\n",
    "            \"lj_rmax\": 12.0\n",
    "        },\n",
    "        \"1-1\": {\n",
    "            \"lj_A\": 1.0,\n",
    "            \"lj_B\": 1.0,\n",
    "            \"lj_rmax\": 12.0\n",
    "        }\n",
    "    }\n",
    "}\n",
    "potential_lj = DataFactory('gulp.potential')(\n",
    "    pair_style=\"lj\", potential_data=potential_data)\n",
    "potential_lj.attributes"
   ]
  },
  {
   "cell_type": "markdown",
   "metadata": {},
   "source": [
    "### gulp.single"
   ]
  },
  {
   "cell_type": "code",
   "execution_count": 30,
   "metadata": {},
   "outputs": [],
   "source": [
    "code_single = Code.objects.get(\n",
    "    label=\"gulp.single-mock_gulp@localhost\")\n",
    "builder = code_single.get_builder()\n",
    "builder.metadata.options = {\n",
    "    \"resources\": {\n",
    "        \"num_machines\": 1, \n",
    "        \"num_mpiprocs_per_machine\": 1}}\n",
    "builder.structure = structure\n",
    "builder.potential = potential_lj"
   ]
  },
  {
   "cell_type": "code",
   "execution_count": 31,
   "metadata": {},
   "outputs": [
    {
     "data": {
      "text/plain": [
       "<CalcJobNode: uuid: 047795f9-da9f-44e2-b88b-a69cf2edf6fa (pk: 93) (aiida.calculations:gulp.single)>"
      ]
     },
     "execution_count": 31,
     "metadata": {},
     "output_type": "execute_result"
    }
   ],
   "source": [
    "result, calcnode = run_get_node(builder)\n",
    "calcnode"
   ]
  },
  {
   "cell_type": "code",
   "execution_count": 27,
   "metadata": {},
   "outputs": [
    {
     "name": "stdout",
     "output_type": "stream",
     "text": [
      "True\n",
      "ProcessState.FINISHED\n",
      "0\n"
     ]
    }
   ],
   "source": [
    "print(calcnode.is_finished_ok)\n",
    "print(calcnode.process_state)\n",
    "print(calcnode.exit_status)"
   ]
  },
  {
   "cell_type": "code",
   "execution_count": 32,
   "metadata": {
    "ipub": {
     "figure": {
      "caption": "`gulp.single` calculation provenance graph."
     }
    }
   },
   "outputs": [
    {
     "data": {
      "image/svg+xml": [
       "<?xml version=\"1.0\" encoding=\"UTF-8\" standalone=\"no\"?>\n",
       "<!DOCTYPE svg PUBLIC \"-//W3C//DTD SVG 1.1//EN\"\n",
       " \"http://www.w3.org/Graphics/SVG/1.1/DTD/svg11.dtd\">\n",
       "<!-- Generated by graphviz version 2.40.1 (20161225.0304)\n",
       " -->\n",
       "<!-- Title: %3 Pages: 1 -->\n",
       "<svg width=\"432pt\" height=\"108pt\"\n",
       " viewBox=\"0.00 0.00 432.00 108.43\" xmlns=\"http://www.w3.org/2000/svg\" xmlns:xlink=\"http://www.w3.org/1999/xlink\">\n",
       "<g id=\"graph0\" class=\"graph\" transform=\"scale(.5506 .5506) rotate(0) translate(4 192.9117)\">\n",
       "<title>%3</title>\n",
       "<polygon fill=\"#ffffff\" stroke=\"transparent\" points=\"-4,4 -4,-192.9117 780.5323,-192.9117 780.5323,4 -4,4\"/>\n",
       "<!-- N93 -->\n",
       "<g id=\"node1\" class=\"node\">\n",
       "<title>N93</title>\n",
       "<polygon fill=\"#de707f\" stroke=\"#000000\" stroke-width=\"0\" points=\"501.7874,-119.4558 330.5041,-119.4558 330.5041,-69.4558 501.7874,-69.4558 501.7874,-119.4558\"/>\n",
       "<text text-anchor=\"middle\" x=\"416.1457\" y=\"-104.2558\" font-family=\"Times,serif\" font-size=\"14.00\" fill=\"#000000\">GulpSingleCalculation (93)</text>\n",
       "<text text-anchor=\"middle\" x=\"416.1457\" y=\"-90.2558\" font-family=\"Times,serif\" font-size=\"14.00\" fill=\"#000000\">State: finished</text>\n",
       "<text text-anchor=\"middle\" x=\"416.1457\" y=\"-76.2558\" font-family=\"Times,serif\" font-size=\"14.00\" fill=\"#000000\">Exit Code: 0</text>\n",
       "</g>\n",
       "<!-- N94 -->\n",
       "<g id=\"node5\" class=\"node\">\n",
       "<title>N94</title>\n",
       "<ellipse fill=\"#8cd499\" stroke=\"#000000\" stroke-width=\"0\" cx=\"696.7729\" cy=\"-155.4558\" rx=\"79.5196\" ry=\"25.4118\"/>\n",
       "<text text-anchor=\"middle\" x=\"696.7729\" y=\"-158.2558\" font-family=\"Times,serif\" font-size=\"14.00\" fill=\"#000000\">RemoteData (94)</text>\n",
       "<text text-anchor=\"middle\" x=\"696.7729\" y=\"-144.2558\" font-family=\"Times,serif\" font-size=\"14.00\" fill=\"#000000\">@localhost</text>\n",
       "</g>\n",
       "<!-- N93&#45;&gt;N94 -->\n",
       "<g id=\"edge4\" class=\"edge\">\n",
       "<title>N93&#45;&gt;N94</title>\n",
       "<path fill=\"none\" stroke=\"#000000\" d=\"M493.0258,-119.4866C501.9762,-122.0202 511.0146,-124.4091 519.7165,-126.4558 549.6877,-133.5052 582.9107,-139.4343 612.4061,-144.0573\"/>\n",
       "<polygon fill=\"#000000\" stroke=\"#000000\" points=\"612.2559,-147.5753 622.6721,-145.6377 613.3211,-140.6568 612.2559,-147.5753\"/>\n",
       "<text text-anchor=\"middle\" x=\"559.365\" y=\"-158.2558\" font-family=\"Times,serif\" font-size=\"14.00\" fill=\"#000000\">CREATE</text>\n",
       "<text text-anchor=\"middle\" x=\"559.365\" y=\"-144.2558\" font-family=\"Times,serif\" font-size=\"14.00\" fill=\"#000000\">remote_folder</text>\n",
       "</g>\n",
       "<!-- N95 -->\n",
       "<g id=\"node6\" class=\"node\">\n",
       "<title>N95</title>\n",
       "<ellipse fill=\"#8cd499\" stroke=\"#000000\" stroke-width=\"0\" cx=\"696.7729\" cy=\"-94.4558\" rx=\"66.6678\" ry=\"18\"/>\n",
       "<text text-anchor=\"middle\" x=\"696.7729\" y=\"-90.2558\" font-family=\"Times,serif\" font-size=\"14.00\" fill=\"#000000\">FolderData (95)</text>\n",
       "</g>\n",
       "<!-- N93&#45;&gt;N95 -->\n",
       "<g id=\"edge5\" class=\"edge\">\n",
       "<title>N93&#45;&gt;N95</title>\n",
       "<path fill=\"none\" stroke=\"#000000\" d=\"M501.868,-94.4558C539.4382,-94.4558 583.1948,-94.4558 619.7189,-94.4558\"/>\n",
       "<polygon fill=\"#000000\" stroke=\"#000000\" points=\"619.8176,-97.9559 629.8176,-94.4558 619.8175,-90.9559 619.8176,-97.9559\"/>\n",
       "<text text-anchor=\"middle\" x=\"559.365\" y=\"-111.2558\" font-family=\"Times,serif\" font-size=\"14.00\" fill=\"#000000\">CREATE</text>\n",
       "<text text-anchor=\"middle\" x=\"559.365\" y=\"-97.2558\" font-family=\"Times,serif\" font-size=\"14.00\" fill=\"#000000\">retrieved</text>\n",
       "</g>\n",
       "<!-- N96 -->\n",
       "<g id=\"node7\" class=\"node\">\n",
       "<title>N96</title>\n",
       "<ellipse fill=\"#8cd499\" stroke=\"#000000\" stroke-width=\"0\" cx=\"696.7729\" cy=\"-40.4558\" rx=\"42.0545\" ry=\"18\"/>\n",
       "<text text-anchor=\"middle\" x=\"696.7729\" y=\"-36.2558\" font-family=\"Times,serif\" font-size=\"14.00\" fill=\"#000000\">Dict (96)</text>\n",
       "</g>\n",
       "<!-- N93&#45;&gt;N96 -->\n",
       "<g id=\"edge6\" class=\"edge\">\n",
       "<title>N93&#45;&gt;N96</title>\n",
       "<path fill=\"none\" stroke=\"#000000\" d=\"M491.8185,-69.4023C501.1506,-66.8093 510.6086,-64.4128 519.7165,-62.4558 561.3372,-53.5132 609.2988,-47.8317 644.7976,-44.4872\"/>\n",
       "<polygon fill=\"#000000\" stroke=\"#000000\" points=\"645.2866,-47.9573 654.9278,-43.5642 644.6514,-40.9861 645.2866,-47.9573\"/>\n",
       "<text text-anchor=\"middle\" x=\"559.365\" y=\"-79.2558\" font-family=\"Times,serif\" font-size=\"14.00\" fill=\"#000000\">CREATE</text>\n",
       "<text text-anchor=\"middle\" x=\"559.365\" y=\"-65.2558\" font-family=\"Times,serif\" font-size=\"14.00\" fill=\"#000000\">results</text>\n",
       "</g>\n",
       "<!-- N9 -->\n",
       "<g id=\"node2\" class=\"node\">\n",
       "<title>N9</title>\n",
       "<ellipse fill=\"#4ca4b9\" fill-opacity=\"0.666667\" stroke=\"#000000\" stroke-width=\"0\" cx=\"104.5082\" cy=\"-163.4558\" rx=\"100.9278\" ry=\"25.4118\"/>\n",
       "<text text-anchor=\"middle\" x=\"104.5082\" y=\"-166.2558\" font-family=\"Times,serif\" font-size=\"14.00\" fill=\"#000000\">Code (9)</text>\n",
       "<text text-anchor=\"middle\" x=\"104.5082\" y=\"-152.2558\" font-family=\"Times,serif\" font-size=\"14.00\" fill=\"#000000\">mock_gulp@localhost</text>\n",
       "</g>\n",
       "<!-- N9&#45;&gt;N93 -->\n",
       "<g id=\"edge1\" class=\"edge\">\n",
       "<title>N9&#45;&gt;N93</title>\n",
       "<path fill=\"none\" stroke=\"#000000\" d=\"M191.3064,-150.4839C228.822,-144.2436 273.0852,-136.0287 312.5749,-126.4558 317.8905,-125.1673 323.3339,-123.7589 328.8078,-122.2745\"/>\n",
       "<polygon fill=\"#000000\" stroke=\"#000000\" points=\"329.9765,-125.5823 338.6724,-119.5298 328.1001,-118.8384 329.9765,-125.5823\"/>\n",
       "<text text-anchor=\"middle\" x=\"269.7956\" y=\"-160.2558\" font-family=\"Times,serif\" font-size=\"14.00\" fill=\"#000000\">INPUT_CALC</text>\n",
       "<text text-anchor=\"middle\" x=\"269.7956\" y=\"-146.2558\" font-family=\"Times,serif\" font-size=\"14.00\" fill=\"#000000\">code</text>\n",
       "</g>\n",
       "<!-- N91 -->\n",
       "<g id=\"node3\" class=\"node\">\n",
       "<title>N91</title>\n",
       "<ellipse fill=\"#8cd499\" stroke=\"#000000\" stroke-width=\"0\" cx=\"104.5082\" cy=\"-94.4558\" rx=\"85.0115\" ry=\"25.4118\"/>\n",
       "<text text-anchor=\"middle\" x=\"104.5082\" y=\"-97.2558\" font-family=\"Times,serif\" font-size=\"14.00\" fill=\"#000000\">StructureData (91)</text>\n",
       "<text text-anchor=\"middle\" x=\"104.5082\" y=\"-83.2558\" font-family=\"Times,serif\" font-size=\"14.00\" fill=\"#000000\">Fe4S8</text>\n",
       "</g>\n",
       "<!-- N91&#45;&gt;N93 -->\n",
       "<g id=\"edge2\" class=\"edge\">\n",
       "<title>N91&#45;&gt;N93</title>\n",
       "<path fill=\"none\" stroke=\"#000000\" d=\"M190.0767,-94.4558C230.4443,-94.4558 278.7677,-94.4558 320.3562,-94.4558\"/>\n",
       "<polygon fill=\"#000000\" stroke=\"#000000\" points=\"320.4979,-97.9559 330.4978,-94.4558 320.4978,-90.9559 320.4979,-97.9559\"/>\n",
       "<text text-anchor=\"middle\" x=\"269.7956\" y=\"-111.2558\" font-family=\"Times,serif\" font-size=\"14.00\" fill=\"#000000\">INPUT_CALC</text>\n",
       "<text text-anchor=\"middle\" x=\"269.7956\" y=\"-97.2558\" font-family=\"Times,serif\" font-size=\"14.00\" fill=\"#000000\">structure</text>\n",
       "</g>\n",
       "<!-- N92 -->\n",
       "<g id=\"node4\" class=\"node\">\n",
       "<title>N92</title>\n",
       "<ellipse fill=\"#8cd499\" stroke=\"#000000\" stroke-width=\"0\" cx=\"104.5082\" cy=\"-25.4558\" rx=\"104.5163\" ry=\"25.4118\"/>\n",
       "<text text-anchor=\"middle\" x=\"104.5082\" y=\"-28.2558\" font-family=\"Times,serif\" font-size=\"14.00\" fill=\"#000000\">EmpiricalPotential (92)</text>\n",
       "<text text-anchor=\"middle\" x=\"104.5082\" y=\"-14.2558\" font-family=\"Times,serif\" font-size=\"14.00\" fill=\"#000000\">lj</text>\n",
       "</g>\n",
       "<!-- N92&#45;&gt;N93 -->\n",
       "<g id=\"edge3\" class=\"edge\">\n",
       "<title>N92&#45;&gt;N93</title>\n",
       "<path fill=\"none\" stroke=\"#000000\" d=\"M193.6011,-38.8106C230.6185,-45.0024 273.8874,-53.0775 312.5749,-62.4558 317.8905,-63.7444 323.3339,-65.1528 328.8078,-66.6372\"/>\n",
       "<polygon fill=\"#000000\" stroke=\"#000000\" points=\"328.1001,-70.0732 338.6724,-69.3819 329.9765,-63.3294 328.1001,-70.0732\"/>\n",
       "<text text-anchor=\"middle\" x=\"269.7956\" y=\"-79.2558\" font-family=\"Times,serif\" font-size=\"14.00\" fill=\"#000000\">INPUT_CALC</text>\n",
       "<text text-anchor=\"middle\" x=\"269.7956\" y=\"-65.2558\" font-family=\"Times,serif\" font-size=\"14.00\" fill=\"#000000\">potential</text>\n",
       "</g>\n",
       "</g>\n",
       "</svg>\n"
      ],
      "text/plain": [
       "<graphviz.dot.Digraph at 0x122e13518>"
      ]
     },
     "execution_count": 32,
     "metadata": {},
     "output_type": "execute_result"
    }
   ],
   "source": [
    "graph = Graph(graph_attr={'size': \"6,8!\", \"rankdir\": \"LR\"})\n",
    "graph.add_node(calcnode)\n",
    "graph.add_incoming(calcnode, annotate_links=\"both\")\n",
    "graph.add_outgoing(calcnode, annotate_links=\"both\")\n",
    "graph.graphviz"
   ]
  },
  {
   "cell_type": "markdown",
   "metadata": {},
   "source": [
    "### gulp.optimize"
   ]
  },
  {
   "cell_type": "code",
   "execution_count": 33,
   "metadata": {},
   "outputs": [
    {
     "data": {
      "text/plain": [
       "<Dict: uuid: 3692d411-5339-4625-b00e-4f997b7f06b1 (unstored)>"
      ]
     },
     "execution_count": 33,
     "metadata": {},
     "output_type": "execute_result"
    }
   ],
   "source": [
    "opt_dict={\n",
    "    \"minimize\": {\"style\": \"cg\", \"max_iterations\": 100},\n",
    "    \"relax\": {\"type\": \"conp\"}}\n",
    "opt_params = DataFactory('dict')(dict=opt_dict)\n",
    "opt_params"
   ]
  },
  {
   "cell_type": "code",
   "execution_count": 34,
   "metadata": {},
   "outputs": [],
   "source": [
    "code_opt = Code.objects.get(\n",
    "    label=\"gulp.optimize-mock_gulp@localhost\")\n",
    "builder_opt = code_opt.get_builder()\n",
    "builder_opt.metadata.options = {\n",
    "    \"resources\": {\n",
    "        \"num_machines\": 1, \n",
    "        \"num_mpiprocs_per_machine\": 1}}\n",
    "builder_opt.structure = structure\n",
    "builder_opt.potential = potential_lj\n",
    "builder_opt.parameters = opt_params"
   ]
  },
  {
   "cell_type": "code",
   "execution_count": 35,
   "metadata": {},
   "outputs": [
    {
     "data": {
      "text/plain": [
       "<CalcJobNode: uuid: 131c8123-d81c-4b14-b6d1-aec40eabfa50 (pk: 98) (aiida.calculations:gulp.optimize)>"
      ]
     },
     "execution_count": 35,
     "metadata": {},
     "output_type": "execute_result"
    }
   ],
   "source": [
    "result, calcnode_opt = run_get_node(builder_opt)\n",
    "calcnode_opt"
   ]
  },
  {
   "cell_type": "code",
   "execution_count": 36,
   "metadata": {},
   "outputs": [
    {
     "name": "stdout",
     "output_type": "stream",
     "text": [
      "True\n",
      "ProcessState.FINISHED\n",
      "0\n"
     ]
    }
   ],
   "source": [
    "print(calcnode_opt.is_finished_ok)\n",
    "print(calcnode_opt.process_state)\n",
    "print(calcnode_opt.exit_status)"
   ]
  },
  {
   "cell_type": "code",
   "execution_count": 37,
   "metadata": {
    "ipub": {
     "figure": {
      "caption": "`gulp.optimize` calculation provenance graph."
     }
    }
   },
   "outputs": [
    {
     "data": {
      "image/svg+xml": [
       "<?xml version=\"1.0\" encoding=\"UTF-8\" standalone=\"no\"?>\n",
       "<!DOCTYPE svg PUBLIC \"-//W3C//DTD SVG 1.1//EN\"\n",
       " \"http://www.w3.org/Graphics/SVG/1.1/DTD/svg11.dtd\">\n",
       "<!-- Generated by graphviz version 2.40.1 (20161225.0304)\n",
       " -->\n",
       "<!-- Title: %3 Pages: 1 -->\n",
       "<svg width=\"432pt\" height=\"137pt\"\n",
       " viewBox=\"0.00 0.00 432.00 137.10\" xmlns=\"http://www.w3.org/2000/svg\" xmlns:xlink=\"http://www.w3.org/1999/xlink\">\n",
       "<g id=\"graph0\" class=\"graph\" transform=\"scale(.5464 .5464) rotate(0) translate(4 246.9117)\">\n",
       "<title>%3</title>\n",
       "<polygon fill=\"#ffffff\" stroke=\"transparent\" points=\"-4,4 -4,-246.9117 786.6444,-246.9117 786.6444,4 -4,4\"/>\n",
       "<!-- N98 -->\n",
       "<g id=\"node1\" class=\"node\">\n",
       "<title>N98</title>\n",
       "<polygon fill=\"#de707f\" stroke=\"#000000\" stroke-width=\"0\" points=\"487.1188,-138.4558 330.3934,-138.4558 330.3934,-88.4558 487.1188,-88.4558 487.1188,-138.4558\"/>\n",
       "<text text-anchor=\"middle\" x=\"408.7561\" y=\"-123.2558\" font-family=\"Times,serif\" font-size=\"14.00\" fill=\"#000000\">GulpOptCalculation (98)</text>\n",
       "<text text-anchor=\"middle\" x=\"408.7561\" y=\"-109.2558\" font-family=\"Times,serif\" font-size=\"14.00\" fill=\"#000000\">State: finished</text>\n",
       "<text text-anchor=\"middle\" x=\"408.7561\" y=\"-95.2558\" font-family=\"Times,serif\" font-size=\"14.00\" fill=\"#000000\">Exit Code: 0</text>\n",
       "</g>\n",
       "<!-- N99 -->\n",
       "<g id=\"node6\" class=\"node\">\n",
       "<title>N99</title>\n",
       "<ellipse fill=\"#8cd499\" stroke=\"#000000\" stroke-width=\"0\" cx=\"692.4393\" cy=\"-201.4558\" rx=\"79.5196\" ry=\"25.4118\"/>\n",
       "<text text-anchor=\"middle\" x=\"692.4393\" y=\"-204.2558\" font-family=\"Times,serif\" font-size=\"14.00\" fill=\"#000000\">RemoteData (99)</text>\n",
       "<text text-anchor=\"middle\" x=\"692.4393\" y=\"-190.2558\" font-family=\"Times,serif\" font-size=\"14.00\" fill=\"#000000\">@localhost</text>\n",
       "</g>\n",
       "<!-- N98&#45;&gt;N99 -->\n",
       "<g id=\"edge5\" class=\"edge\">\n",
       "<title>N98&#45;&gt;N99</title>\n",
       "<path fill=\"none\" stroke=\"#000000\" d=\"M454.2718,-138.4688C469.979,-146.3477 487.9112,-154.5305 504.9372,-160.4558 538.876,-172.267 577.4952,-181.403 610.8285,-188.0216\"/>\n",
       "<polygon fill=\"#000000\" stroke=\"#000000\" points=\"610.5088,-191.5248 620.9926,-189.995 611.843,-184.6531 610.5088,-191.5248\"/>\n",
       "<text text-anchor=\"middle\" x=\"544.5857\" y=\"-198.2558\" font-family=\"Times,serif\" font-size=\"14.00\" fill=\"#000000\">CREATE</text>\n",
       "<text text-anchor=\"middle\" x=\"544.5857\" y=\"-184.2558\" font-family=\"Times,serif\" font-size=\"14.00\" fill=\"#000000\">remote_folder</text>\n",
       "</g>\n",
       "<!-- N100 -->\n",
       "<g id=\"node7\" class=\"node\">\n",
       "<title>N100</title>\n",
       "<ellipse fill=\"#8cd499\" stroke=\"#000000\" stroke-width=\"0\" cx=\"692.4393\" cy=\"-140.4558\" rx=\"71.0117\" ry=\"18\"/>\n",
       "<text text-anchor=\"middle\" x=\"692.4393\" y=\"-136.2558\" font-family=\"Times,serif\" font-size=\"14.00\" fill=\"#000000\">FolderData (100)</text>\n",
       "</g>\n",
       "<!-- N98&#45;&gt;N100 -->\n",
       "<g id=\"edge6\" class=\"edge\">\n",
       "<title>N98&#45;&gt;N100</title>\n",
       "<path fill=\"none\" stroke=\"#000000\" d=\"M487.0247,-120.9052C527.0048,-124.7104 575.481,-129.3242 615.2993,-133.1139\"/>\n",
       "<polygon fill=\"#000000\" stroke=\"#000000\" points=\"615.2029,-136.6205 625.4896,-134.0838 615.8662,-129.652 615.2029,-136.6205\"/>\n",
       "<text text-anchor=\"middle\" x=\"544.5857\" y=\"-145.2558\" font-family=\"Times,serif\" font-size=\"14.00\" fill=\"#000000\">CREATE</text>\n",
       "<text text-anchor=\"middle\" x=\"544.5857\" y=\"-131.2558\" font-family=\"Times,serif\" font-size=\"14.00\" fill=\"#000000\">retrieved</text>\n",
       "</g>\n",
       "<!-- N101 -->\n",
       "<g id=\"node8\" class=\"node\">\n",
       "<title>N101</title>\n",
       "<ellipse fill=\"#8cd499\" stroke=\"#000000\" stroke-width=\"0\" cx=\"692.4393\" cy=\"-86.4558\" rx=\"46.8976\" ry=\"18\"/>\n",
       "<text text-anchor=\"middle\" x=\"692.4393\" y=\"-82.2558\" font-family=\"Times,serif\" font-size=\"14.00\" fill=\"#000000\">Dict (101)</text>\n",
       "</g>\n",
       "<!-- N98&#45;&gt;N101 -->\n",
       "<g id=\"edge7\" class=\"edge\">\n",
       "<title>N98&#45;&gt;N101</title>\n",
       "<path fill=\"none\" stroke=\"#000000\" d=\"M486.9734,-93.2949C493.0243,-92.1823 499.0624,-91.2121 504.9372,-90.4558 548.4765,-84.851 598.1623,-84.0403 635.4439,-84.5287\"/>\n",
       "<polygon fill=\"#000000\" stroke=\"#000000\" points=\"635.558,-88.031 645.6149,-84.698 635.6746,-81.0319 635.558,-88.031\"/>\n",
       "<text text-anchor=\"middle\" x=\"544.5857\" y=\"-107.2558\" font-family=\"Times,serif\" font-size=\"14.00\" fill=\"#000000\">CREATE</text>\n",
       "<text text-anchor=\"middle\" x=\"544.5857\" y=\"-93.2558\" font-family=\"Times,serif\" font-size=\"14.00\" fill=\"#000000\">results</text>\n",
       "</g>\n",
       "<!-- N102 -->\n",
       "<g id=\"node9\" class=\"node\">\n",
       "<title>N102</title>\n",
       "<ellipse fill=\"#8cd499\" stroke=\"#000000\" stroke-width=\"0\" cx=\"692.4393\" cy=\"-25.4558\" rx=\"90.4108\" ry=\"25.4118\"/>\n",
       "<text text-anchor=\"middle\" x=\"692.4393\" y=\"-28.2558\" font-family=\"Times,serif\" font-size=\"14.00\" fill=\"#000000\">StructureData (102)</text>\n",
       "<text text-anchor=\"middle\" x=\"692.4393\" y=\"-14.2558\" font-family=\"Times,serif\" font-size=\"14.00\" fill=\"#000000\">Fe4S8</text>\n",
       "</g>\n",
       "<!-- N98&#45;&gt;N102 -->\n",
       "<g id=\"edge8\" class=\"edge\">\n",
       "<title>N98&#45;&gt;N102</title>\n",
       "<path fill=\"none\" stroke=\"#000000\" d=\"M440.7571,-88.3079C458.6551,-75.5353 481.9397,-60.9579 504.9372,-52.4558 532.8074,-42.1525 564.3596,-35.7587 593.5235,-31.7983\"/>\n",
       "<polygon fill=\"#000000\" stroke=\"#000000\" points=\"594.2529,-35.2338 603.7296,-30.4966 593.3671,-28.29 594.2529,-35.2338\"/>\n",
       "<text text-anchor=\"middle\" x=\"544.5857\" y=\"-69.2558\" font-family=\"Times,serif\" font-size=\"14.00\" fill=\"#000000\">CREATE</text>\n",
       "<text text-anchor=\"middle\" x=\"544.5857\" y=\"-55.2558\" font-family=\"Times,serif\" font-size=\"14.00\" fill=\"#000000\">structure</text>\n",
       "</g>\n",
       "<!-- N10 -->\n",
       "<g id=\"node2\" class=\"node\">\n",
       "<title>N10</title>\n",
       "<ellipse fill=\"#4ca4b9\" fill-opacity=\"0.666667\" stroke=\"#000000\" stroke-width=\"0\" cx=\"104.5082\" cy=\"-217.4558\" rx=\"100.9278\" ry=\"25.4118\"/>\n",
       "<text text-anchor=\"middle\" x=\"104.5082\" y=\"-220.2558\" font-family=\"Times,serif\" font-size=\"14.00\" fill=\"#000000\">Code (10)</text>\n",
       "<text text-anchor=\"middle\" x=\"104.5082\" y=\"-206.2558\" font-family=\"Times,serif\" font-size=\"14.00\" fill=\"#000000\">mock_gulp@localhost</text>\n",
       "</g>\n",
       "<!-- N10&#45;&gt;N98 -->\n",
       "<g id=\"edge1\" class=\"edge\">\n",
       "<title>N10&#45;&gt;N98</title>\n",
       "<path fill=\"none\" stroke=\"#000000\" d=\"M187.634,-202.9609C226.3727,-194.8285 272.6271,-183.1209 312.5749,-167.4558 328.8153,-161.0874 345.6761,-152.4138 360.6596,-143.8819\"/>\n",
       "<polygon fill=\"#000000\" stroke=\"#000000\" points=\"362.8396,-146.663 369.724,-138.6098 359.3201,-140.6121 362.8396,-146.663\"/>\n",
       "<text text-anchor=\"middle\" x=\"269.7956\" y=\"-210.2558\" font-family=\"Times,serif\" font-size=\"14.00\" fill=\"#000000\">INPUT_CALC</text>\n",
       "<text text-anchor=\"middle\" x=\"269.7956\" y=\"-196.2558\" font-family=\"Times,serif\" font-size=\"14.00\" fill=\"#000000\">code</text>\n",
       "</g>\n",
       "<!-- N91 -->\n",
       "<g id=\"node3\" class=\"node\">\n",
       "<title>N91</title>\n",
       "<ellipse fill=\"#8cd499\" stroke=\"#000000\" stroke-width=\"0\" cx=\"104.5082\" cy=\"-148.4558\" rx=\"85.0115\" ry=\"25.4118\"/>\n",
       "<text text-anchor=\"middle\" x=\"104.5082\" y=\"-151.2558\" font-family=\"Times,serif\" font-size=\"14.00\" fill=\"#000000\">StructureData (91)</text>\n",
       "<text text-anchor=\"middle\" x=\"104.5082\" y=\"-137.2558\" font-family=\"Times,serif\" font-size=\"14.00\" fill=\"#000000\">Fe4S8</text>\n",
       "</g>\n",
       "<!-- N91&#45;&gt;N98 -->\n",
       "<g id=\"edge2\" class=\"edge\">\n",
       "<title>N91&#45;&gt;N98</title>\n",
       "<path fill=\"none\" stroke=\"#000000\" d=\"M185.5945,-140.4334C224.0986,-136.4829 270.7413,-131.4936 312.5749,-126.4558 315.2281,-126.1363 317.9216,-125.8065 320.6404,-125.4689\"/>\n",
       "<polygon fill=\"#000000\" stroke=\"#000000\" points=\"321.0842,-128.9408 330.5676,-124.2169 320.2082,-121.9958 321.0842,-128.9408\"/>\n",
       "<text text-anchor=\"middle\" x=\"269.7956\" y=\"-152.2558\" font-family=\"Times,serif\" font-size=\"14.00\" fill=\"#000000\">INPUT_CALC</text>\n",
       "<text text-anchor=\"middle\" x=\"269.7956\" y=\"-138.2558\" font-family=\"Times,serif\" font-size=\"14.00\" fill=\"#000000\">structure</text>\n",
       "</g>\n",
       "<!-- N92 -->\n",
       "<g id=\"node4\" class=\"node\">\n",
       "<title>N92</title>\n",
       "<ellipse fill=\"#8cd499\" stroke=\"#000000\" stroke-width=\"0\" cx=\"104.5082\" cy=\"-79.4558\" rx=\"104.5163\" ry=\"25.4118\"/>\n",
       "<text text-anchor=\"middle\" x=\"104.5082\" y=\"-82.2558\" font-family=\"Times,serif\" font-size=\"14.00\" fill=\"#000000\">EmpiricalPotential (92)</text>\n",
       "<text text-anchor=\"middle\" x=\"104.5082\" y=\"-68.2558\" font-family=\"Times,serif\" font-size=\"14.00\" fill=\"#000000\">lj</text>\n",
       "</g>\n",
       "<!-- N92&#45;&gt;N98 -->\n",
       "<g id=\"edge3\" class=\"edge\">\n",
       "<title>N92&#45;&gt;N98</title>\n",
       "<path fill=\"none\" stroke=\"#000000\" d=\"M204.1301,-87.2551C238.5356,-90.2929 277.2955,-94.0985 312.5749,-98.4558 315.1065,-98.7685 317.674,-99.0965 320.2642,-99.4368\"/>\n",
       "<polygon fill=\"#000000\" stroke=\"#000000\" points=\"319.9605,-102.9276 330.3405,-100.8048 320.9023,-95.9912 319.9605,-102.9276\"/>\n",
       "<text text-anchor=\"middle\" x=\"269.7956\" y=\"-115.2558\" font-family=\"Times,serif\" font-size=\"14.00\" fill=\"#000000\">INPUT_CALC</text>\n",
       "<text text-anchor=\"middle\" x=\"269.7956\" y=\"-101.2558\" font-family=\"Times,serif\" font-size=\"14.00\" fill=\"#000000\">potential</text>\n",
       "</g>\n",
       "<!-- N97 -->\n",
       "<g id=\"node5\" class=\"node\">\n",
       "<title>N97</title>\n",
       "<ellipse fill=\"#8cd499\" stroke=\"#000000\" stroke-width=\"0\" cx=\"104.5082\" cy=\"-18.4558\" rx=\"42.0545\" ry=\"18\"/>\n",
       "<text text-anchor=\"middle\" x=\"104.5082\" y=\"-14.2558\" font-family=\"Times,serif\" font-size=\"14.00\" fill=\"#000000\">Dict (97)</text>\n",
       "</g>\n",
       "<!-- N97&#45;&gt;N98 -->\n",
       "<g id=\"edge4\" class=\"edge\">\n",
       "<title>N97&#45;&gt;N98</title>\n",
       "<path fill=\"none\" stroke=\"#000000\" d=\"M146.2912,-22.0559C189.122,-26.7135 257.1203,-36.8182 312.5749,-57.4558 329.9835,-63.9345 347.8805,-73.4442 363.4443,-82.795\"/>\n",
       "<polygon fill=\"#000000\" stroke=\"#000000\" points=\"361.9666,-85.9954 372.317,-88.2581 365.6368,-80.0347 361.9666,-85.9954\"/>\n",
       "<text text-anchor=\"middle\" x=\"269.7956\" y=\"-74.2558\" font-family=\"Times,serif\" font-size=\"14.00\" fill=\"#000000\">INPUT_CALC</text>\n",
       "<text text-anchor=\"middle\" x=\"269.7956\" y=\"-60.2558\" font-family=\"Times,serif\" font-size=\"14.00\" fill=\"#000000\">parameters</text>\n",
       "</g>\n",
       "</g>\n",
       "</svg>\n"
      ],
      "text/plain": [
       "<graphviz.dot.Digraph at 0x122e43160>"
      ]
     },
     "execution_count": 37,
     "metadata": {},
     "output_type": "execute_result"
    }
   ],
   "source": [
    "graph = Graph(graph_attr={'size': \"6,8!\", \"rankdir\": \"LR\"})\n",
    "graph.add_node(calcnode_opt)\n",
    "graph.add_incoming(calcnode_opt, annotate_links=\"both\")\n",
    "graph.add_outgoing(calcnode_opt, annotate_links=\"both\")\n",
    "graph.graphviz"
   ]
  },
  {
   "cell_type": "code",
   "execution_count": 38,
   "metadata": {},
   "outputs": [
    {
     "data": {
      "text/markdown": [
       "```json\n",
       "{\n",
       "  \"errors\": [],\n",
       "  \"opt_type\": \"bulk\",\n",
       "  \"warnings\": [],\n",
       "  \"energy_units\": \"eV\",\n",
       "  \"final_energy\": -17.47113113,\n",
       "  \"gulp_version\": \"4.5.3\",\n",
       "  \"parser_class\": \"GulpOptParser\",\n",
       "  \"opt_succeeded\": true,\n",
       "  \"parser_errors\": [],\n",
       "  \"initial_energy\": -0.32809466,\n",
       "  \"parser_version\": \"0.9.0b5\",\n",
       "  \"opt_time_second\": 0.3676,\n",
       "  \"parser_warnings\": [],\n",
       "  \"total_time_second\": 0.3677,\n",
       "  \"final_primitive_energy\": -17.47113113,\n",
       "  \"peak_dynamic_memory_mb\": 0.54,\n",
       "  \"initial_primitive_energy\": -0.32809466\n",
       "}\n",
       "```"
      ]
     },
     "metadata": {},
     "output_type": "display_data"
    }
   ],
   "source": [
    "display_json(calcnode_opt.outputs.results.attributes)"
   ]
  }
 ],
 "metadata": {
  "celltoolbar": "Edit Metadata",
  "hide_input": false,
  "kernelspec": {
   "display_name": "Python 3",
   "language": "python",
   "name": "python3"
  },
  "language_info": {
   "codemirror_mode": {
    "name": "ipython",
    "version": 3
   },
   "file_extension": ".py",
   "mimetype": "text/x-python",
   "name": "python",
   "nbconvert_exporter": "python",
   "pygments_lexer": "ipython3",
   "version": "3.6.5"
  },
  "toc": {
   "base_numbering": 1,
   "nav_menu": {},
   "number_sections": true,
   "sideBar": true,
   "skip_h1_title": false,
   "title_cell": "Table of Contents",
   "title_sidebar": "Contents",
   "toc_cell": false,
   "toc_position": {},
   "toc_section_display": true,
   "toc_window_display": false
  }
 },
 "nbformat": 4,
 "nbformat_minor": 2
}
