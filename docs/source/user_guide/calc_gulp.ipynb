{
 "cells": [
  {
   "cell_type": "markdown",
   "metadata": {},
   "source": [
    "# GULP Calculations"
   ]
  },
  {
   "cell_type": "markdown",
   "metadata": {},
   "source": [
    "The `gulp.single` (for single point energy calculations) and `gulp.optimize` (for geometry optimisation calculations) plugins will run the [General Utility Lattice Program (GULP)](http://gulp.curtin.edu.au/gulp/).\n",
    "They are designed to create the input `.gin` file,\n",
    "from a set of AiiDA :py:class:`~aiida.orm.nodes.data.Data` nodes."
   ]
  },
  {
   "cell_type": "markdown",
   "metadata": {},
   "source": [
    ".. note::\n",
    "\n",
    "    It is likely that these calculations will eventually be moved to a separate repository."
   ]
  },
  {
   "cell_type": "markdown",
   "metadata": {},
   "source": [
    "## Initial Setup"
   ]
  },
  {
   "cell_type": "markdown",
   "metadata": {},
   "source": [
    "To run a computation, first ensure AiiDA is running:"
   ]
  },
  {
   "cell_type": "code",
   "execution_count": 1,
   "metadata": {},
   "outputs": [
    {
     "name": "stdout",
     "output_type": "stream",
     "text": [
      "\u001b[32m ✓ \u001b[0mprofile:     On profile test_v1_1\u001b[0m\n",
      "\u001b[32m ✓ \u001b[0mrepository:  /Users/cjs14/GitHub/aiida-crystal17/databases/aiida/test_v1_1\u001b[0m\n",
      "\u001b[32m ✓ \u001b[0mpostgres:    Connected to cjs14@None:5432\u001b[0m\n",
      "\u001b[32m ✓ \u001b[0mrabbitmq:    Connected to amqp://127.0.0.1?heartbeat=600\u001b[0m\n",
      "\u001b[32m ✓ \u001b[0mdaemon:      Daemon is running as PID 27187 since 2019-04-20 13:47:33\u001b[0m\n"
     ]
    }
   ],
   "source": [
    "!verdi status"
   ]
  },
  {
   "cell_type": "markdown",
   "metadata": {},
   "source": [
    ".. seealso::\n",
    "\n",
    "    AiiDA documentation: :ref:`aiida:quick_installation`"
   ]
  },
  {
   "cell_type": "markdown",
   "metadata": {},
   "source": [
    "If `aiida-crystal17` is installed,\n",
    "the `gulp.single` and `gulp.optimize` computations should be available:"
   ]
  },
  {
   "cell_type": "code",
   "execution_count": 3,
   "metadata": {},
   "outputs": [
    {
     "name": "stdout",
     "output_type": "stream",
     "text": [
      "\u001b[31m\u001b[1mInputs\u001b[0m\n",
      "\u001b[1m           code:  required  Code           The Code to use for this job.\u001b[0m\n",
      "\u001b[1m      potential:  required  Dict           parameters to create the potential section of the .gin file content.\u001b[0m\n",
      "\u001b[1m      structure:  required  StructureData  atomic structure used to create the geometry section of .gin file content.\u001b[0m\n",
      "       metadata:  optional                 \u001b[0m\n",
      "     parameters:  optional  Dict           additional input parameters to create the .gin file content.\u001b[0m\n",
      "\u001b[31m\u001b[1mOutputs\u001b[0m\n",
      "\u001b[1m  remote_folder:  required  RemoteData     Input files necessary to run the process will be stored in this folder node ...\u001b[0m\n",
      "\u001b[1m        results:  required  Dict           the data extracted from the main output file\u001b[0m\n",
      "\u001b[1m      retrieved:  required  FolderData     Files that are retrieved by the daemon will be stored in this node. By defa ...\u001b[0m\n",
      "\u001b[31m\u001b[1mExit codes\u001b[0m\n",
      "             10:  The process returned an invalid output\u001b[0m\n",
      "             11:  The process did not register a required output\u001b[0m\n",
      "            130:  The retrieved folder data node could not be accessed.\u001b[0m\n",
      "            140:  The main output file was not found\u001b[0m\n",
      "            200:  The main gulp output file flagged an error\u001b[0m\n",
      "            210:  An error was flagged trying to parse the main gulp output file\u001b[0m\n"
     ]
    }
   ],
   "source": [
    "!verdi plugin list aiida.calculations gulp.single"
   ]
  },
  {
   "cell_type": "code",
   "execution_count": 4,
   "metadata": {},
   "outputs": [
    {
     "name": "stdout",
     "output_type": "stream",
     "text": [
      "\u001b[31m\u001b[1mInputs\u001b[0m\n",
      "\u001b[1m           code:  required  Code           The Code to use for this job.\u001b[0m\n",
      "\u001b[1m      potential:  required  Dict           parameters to create the potential section of the .gin file content.\u001b[0m\n",
      "\u001b[1m      structure:  required  StructureData  atomic structure used to create the geometry section of .gin file content.\u001b[0m\n",
      "       metadata:  optional                 \u001b[0m\n",
      "     parameters:  optional  Dict           additional input parameters to create the .gin file content.\u001b[0m\n",
      "       symmetry:  optional  Dict           parameters to create the symmetry section of the .gin file content (for con ...\u001b[0m\n",
      "\u001b[31m\u001b[1mOutputs\u001b[0m\n",
      "\u001b[1m  remote_folder:  required  RemoteData     Input files necessary to run the process will be stored in this folder node ...\u001b[0m\n",
      "\u001b[1m        results:  required  Dict           the data extracted from the main output file\u001b[0m\n",
      "\u001b[1m      retrieved:  required  FolderData     Files that are retrieved by the daemon will be stored in this node. By defa ...\u001b[0m\n",
      "\u001b[1m      structure:  required  StructureData  the optimized structure output from the calculation\u001b[0m\n",
      "\u001b[31m\u001b[1mExit codes\u001b[0m\n",
      "             10:  The process returned an invalid output\u001b[0m\n",
      "             11:  The process did not register a required output\u001b[0m\n",
      "            130:  The retrieved folder data node could not be accessed.\u001b[0m\n",
      "            140:  The main output file was not found\u001b[0m\n",
      "            150:  The output cif file was not found\u001b[0m\n",
      "            200:  The main gulp output file flagged an error\u001b[0m\n",
      "            210:  An error was flagged trying to parse the main gulp output file\u001b[0m\n"
     ]
    }
   ],
   "source": [
    "!verdi plugin list aiida.calculations gulp.optimize"
   ]
  },
  {
   "cell_type": "markdown",
   "metadata": {},
   "source": [
    "To use the python interface,\n",
    "first ensure a profile is loaded in the python kernel,\n",
    "and import the required modules:"
   ]
  },
  {
   "cell_type": "code",
   "execution_count": 1,
   "metadata": {
    "init_cell": true
   },
   "outputs": [
    {
     "data": {
      "text/plain": [
       "'fes_db_1b3'"
      ]
     },
     "execution_count": 1,
     "metadata": {},
     "output_type": "execute_result"
    }
   ],
   "source": [
    "from aiida import load_profile\n",
    "profile = load_profile()\n",
    "profile.name"
   ]
  },
  {
   "cell_type": "code",
   "execution_count": 2,
   "metadata": {
    "init_cell": true
   },
   "outputs": [],
   "source": [
    "import os\n",
    "from aiida.orm import Code\n",
    "from aiida.plugins import (\n",
    "    DataFactory, WorkflowFactory, CalculationFactory)\n",
    "from aiida.engine import run_get_node\n",
    "from aiida_crystal17.common import display_json\n",
    "from aiida_crystal17.tests import TEST_FILES\n",
    "from aiida_crystal17.graph import Graph\n",
    "from jsonextended import edict"
   ]
  },
  {
   "cell_type": "markdown",
   "metadata": {},
   "source": [
    "## Input Node Creation"
   ]
  },
  {
   "cell_type": "markdown",
   "metadata": {},
   "source": [
    ".. seealso::\n",
    "\n",
    "    [GULP Help File](http://gulp.curtin.edu.au/gulp/help/help_45_txt.html)"
   ]
  },
  {
   "cell_type": "markdown",
   "metadata": {},
   "source": [
    "### Code"
   ]
  },
  {
   "cell_type": "markdown",
   "metadata": {},
   "source": [
    ".. seealso::\n",
    "\n",
    "    AiiDA documentation: :ref:`aiida:setup_code`"
   ]
  },
  {
   "cell_type": "markdown",
   "metadata": {},
   "source": [
    "An :py:class:aiida.orm.nodes.data.code.Code node should be set up in advance, to use the gulp calculation plugin, and call the gulp executable (or mock_gulp used here for test purposes)."
   ]
  },
  {
   "cell_type": "code",
   "execution_count": 3,
   "metadata": {},
   "outputs": [
    {
     "data": {
      "text/plain": [
       "[['PK', 957],\n",
       " ['UUID', '35ebb01d-b4d8-4fe7-a4d9-738e95be8566'],\n",
       " ['Label', 'gulp.optimize-mock_gulp@localhost'],\n",
       " ['Description', ''],\n",
       " ['Default plugin', 'gulp.optimize'],\n",
       " ['Type', 'remote'],\n",
       " ['Remote machine', 'localhost'],\n",
       " ['Remote absolute path', '//anaconda/envs/aiida-workshop/bin/mock_gulp'],\n",
       " ['Prepend text', 'No prepend text'],\n",
       " ['Append text', 'No append text']]"
      ]
     },
     "execution_count": 3,
     "metadata": {},
     "output_type": "execute_result"
    }
   ],
   "source": [
    "from aiida_crystal17.tests.utils import get_or_create_local_computer, get_or_create_code\n",
    "computer = get_or_create_local_computer('work_directory', 'localhost')\n",
    "code_single = get_or_create_code('gulp.single', computer, 'mock_gulp')\n",
    "code_opt = get_or_create_code('gulp.optimize', computer, 'mock_gulp')\n",
    "code_opt.get_full_text_info()"
   ]
  },
  {
   "cell_type": "markdown",
   "metadata": {},
   "source": [
    ".. note::\n",
    "\n",
    "    The calculations are tested against GULP v4.5.3"
   ]
  },
  {
   "cell_type": "markdown",
   "metadata": {},
   "source": [
    "### Atomic Structure"
   ]
  },
  {
   "cell_type": "markdown",
   "metadata": {},
   "source": [
    "The ``structure`` refers to a standard\n",
    ":py:class:`~aiida.StructureData` node, and is used to create the `main.gui`.\n",
    "\n",
    "Structures consist of:\n",
    "\n",
    "- A cell with a basis vectors and whether it is periodic, for each dimension\n",
    "- ``Site`` with a cartesian coordinate and reference to a kind\n",
    "- ``Kind`` which details the species and composition at one or more sites\n",
    "\n",
    "The simplest way to create a structure is *via* :py:mod:`ase`:"
   ]
  },
  {
   "cell_type": "code",
   "execution_count": 20,
   "metadata": {},
   "outputs": [
    {
     "data": {
      "text/plain": [
       "<StructureData: uuid: 379d420a-4b77-480e-a431-4e0f00b59cfb (unstored)>"
      ]
     },
     "execution_count": 20,
     "metadata": {},
     "output_type": "execute_result"
    }
   ],
   "source": [
    "from ase.spacegroup import crystal\n",
    "atoms = crystal(\n",
    "    symbols=[12, 8],\n",
    "    basis=[[0, 0, 0], [0.5, 0.5, 0.5]],\n",
    "    spacegroup=225,\n",
    "    cellpar=[4.21, 4.21, 4.21, 90, 90, 90])\n",
    "struct_cls = DataFactory('structure')\n",
    "structure = struct_cls(ase=atoms)\n",
    "structure"
   ]
  },
  {
   "cell_type": "markdown",
   "metadata": {},
   "source": [
    "These structures can be visualised using standard ASE methods."
   ]
  },
  {
   "cell_type": "code",
   "execution_count": 21,
   "metadata": {},
   "outputs": [
    {
     "data": {
      "image/png": "[encoded data removed]",
      "text/plain": [
       "<Figure size 432x288 with 1 Axes>"
      ]
     },
     "metadata": {
      "needs_background": "light"
     },
     "output_type": "display_data"
    }
   ],
   "source": [
    "%matplotlib inline\n",
    "import matplotlib.pyplot as plt\n",
    "from ase.visualize.plot import plot_atoms\n",
    "atoms = structure.get_ase()\n",
    "fig, ax = plt.subplots()\n",
    "plot_atoms(atoms.repeat((2,2,2)), \n",
    "           ax, radii=0.8, show_unit_cell=True, \n",
    "           rotation=('45x,0y,0z'));"
   ]
  },
  {
   "cell_type": "markdown",
   "metadata": {},
   "source": [
    "As default, one kind is created per atomic species\n",
    "(named as the atomic symbol):"
   ]
  },
  {
   "cell_type": "code",
   "execution_count": 22,
   "metadata": {},
   "outputs": [
    {
     "data": {
      "text/plain": [
       "['Mg', 'Mg', 'Mg', 'Mg', 'O1', 'O1', 'O1', 'O1']"
      ]
     },
     "execution_count": 22,
     "metadata": {},
     "output_type": "execute_result"
    }
   ],
   "source": [
    "structure.get_site_kindnames()"
   ]
  },
  {
   "cell_type": "markdown",
   "metadata": {},
   "source": [
    "However, we may want to specify more than one kind per species (for example to setup anti-ferromagnetic spin). We can achieve this by tagging the atoms:"
   ]
  },
  {
   "cell_type": "code",
   "execution_count": 23,
   "metadata": {},
   "outputs": [
    {
     "data": {
      "text/plain": [
       "['Mg1', 'Mg1', 'Mg2', 'Mg2', 'O', 'O', 'O', 'O']"
      ]
     },
     "execution_count": 23,
     "metadata": {},
     "output_type": "execute_result"
    }
   ],
   "source": [
    "atoms_afm = atoms.copy()\n",
    "atoms_afm.set_tags([1, 1, 2, 2, 0, 0, 0, 0])\n",
    "structure_afm = struct_cls(ase=atoms_afm)\n",
    "structure_afm.get_site_kindnames()"
   ]
  },
  {
   "cell_type": "markdown",
   "metadata": {},
   "source": [
    "### Inter-Atomic Potential"
   ]
  },
  {
   "cell_type": "markdown",
   "metadata": {},
   "source": [
    "Inter-atomic potentials are supplied in the form of a py:class:`~aiida.orm.nodes.data.dict.Dict` node with keys `pair_style` and `data`, with the form of the `data` dictated by the pair_style.\n",
    "Pair styles are created by sub-classing :py:class:`~aiida_crystal17.gulp.potentials.base.PotentialWriterAbstract` and adding an entry point to `gulp.potentials`. Available pair styles and data schema can be found by:"
   ]
  },
  {
   "cell_type": "code",
   "execution_count": 32,
   "metadata": {},
   "outputs": [
    {
     "name": "stdout",
     "output_type": "stream",
     "text": [
      "\u001b[22mRegistered entry points for gulp.potentials:\u001b[0m\r\n",
      "\u001b[22m* lj\u001b[0m\r\n",
      "\u001b[22m* reaxff\u001b[0m\r\n",
      "\u001b[22m\u001b[0m\r\n",
      "\u001b[34m\u001b[1mInfo: \u001b[0m\u001b[22mPass the entry point as an argument to display detailed information\u001b[0m\r\n"
     ]
    }
   ],
   "source": [
    "!verdi data gulp.potentials list"
   ]
  },
  {
   "cell_type": "code",
   "execution_count": 44,
   "metadata": {},
   "outputs": [
    {
     "name": "stdout",
     "output_type": "stream",
     "text": [
      "\u001b[1mLennard-Jones potential\u001b[0m\r\n",
      "\u001b[22mData Schema:\u001b[0m\r\n",
      "\u001b[22m\u001b[34m$schema\u001b[0m:     http://json-schema.org/draft-07/schema\u001b[0m\r\n",
      "\u001b[22m\u001b[34madditionalProperties\u001b[0m: False\u001b[0m\r\n",
      "\u001b[22m\u001b[34mdescription\u001b[0m: schema for creating GULP lennard-jones potential: E = A/r**m -\r\n",
      "             B/r**n\u001b[0m\r\n",
      "\u001b[22m\u001b[34mproperties\u001b[0m:  \u001b[0m\r\n",
      "\u001b[22m  \u001b[34matoms\u001b[0m: \u001b[0m\r\n",
      "\u001b[22m    \u001b[34madditionalProperties\u001b[0m: False\u001b[0m\r\n",
      "\u001b[22m    \u001b[34mdescription\u001b[0m: mapping or atomic symbols to parameters, e.g. 'H': {'H': {...}}\u001b[0m\r\n",
      "\u001b[22m    \u001b[34mpatternProperties\u001b[0m: \u001b[0m\r\n",
      "\u001b[22m      \u001b[34m[A-Z][a-z]?\u001b[0m: \u001b[0m\r\n",
      "\u001b[22m        \u001b[34madditionalProperties\u001b[0m: False\u001b[0m\r\n",
      "\u001b[22m        \u001b[34mpatternProperties\u001b[0m: \u001b[0m\r\n",
      "\u001b[22m          \u001b[34m[A-Z][a-z]?\u001b[0m: \u001b[0m\r\n",
      "\u001b[22m            \u001b[34mproperties\u001b[0m: \u001b[0m\r\n",
      "\u001b[22m              \u001b[34mA\u001b[0m: {...}\u001b[0m\r\n",
      "\u001b[22m              \u001b[34mB\u001b[0m: {...}\u001b[0m\r\n",
      "\u001b[22m              \u001b[34mrmax\u001b[0m: {...}\u001b[0m\r\n",
      "\u001b[22m              \u001b[34mrmin\u001b[0m: {...}\u001b[0m\r\n",
      "\u001b[22m            \u001b[34mrequired\u001b[0m: [A, B, rmax]\u001b[0m\r\n",
      "\u001b[22m            \u001b[34mtype\u001b[0m: object\u001b[0m\r\n",
      "\u001b[22m        \u001b[34mtype\u001b[0m:        object\u001b[0m\r\n",
      "\u001b[22m    \u001b[34mtype\u001b[0m:        object\u001b[0m\r\n",
      "\u001b[22m  \u001b[34mm\u001b[0m: \u001b[0m\r\n",
      "\u001b[22m    \u001b[34mdefault\u001b[0m: 12\u001b[0m\r\n",
      "\u001b[22m    \u001b[34mdescription\u001b[0m: first exponent\u001b[0m\r\n",
      "\u001b[22m    \u001b[34mexclusiveMinimum\u001b[0m: 0\u001b[0m\r\n",
      "\u001b[22m    \u001b[34mtype\u001b[0m:    integer\u001b[0m\r\n",
      "\u001b[22m  \u001b[34mn\u001b[0m: \u001b[0m\r\n",
      "\u001b[22m    \u001b[34mdefault\u001b[0m: 6\u001b[0m\r\n",
      "\u001b[22m    \u001b[34mdescription\u001b[0m: second exponent\u001b[0m\r\n",
      "\u001b[22m    \u001b[34mexclusiveMinimum\u001b[0m: 0\u001b[0m\r\n",
      "\u001b[22m    \u001b[34mtype\u001b[0m:    integer\u001b[0m\r\n",
      "\u001b[22m\u001b[34mrequired\u001b[0m:    [atoms]\u001b[0m\r\n",
      "\u001b[22m\u001b[34mtype\u001b[0m:        object\u001b[0m\r\n"
     ]
    }
   ],
   "source": [
    "!verdi data gulp.potentials list lj -d 8"
   ]
  },
  {
   "cell_type": "code",
   "execution_count": 7,
   "metadata": {},
   "outputs": [
    {
     "name": "stdout",
     "output_type": "stream",
     "text": [
      "lennard 12 6\n",
      "H He 1.0 2.0 12.0\n"
     ]
    }
   ],
   "source": [
    "from aiida.plugins import load_entry_point\n",
    "writer = load_entry_point('gulp.potentials', 'lj')()\n",
    "data = {\n",
    "        \"atoms\": {\n",
    "            \"H\": {\n",
    "                \"He\": {\n",
    "                    \"A\": 1.0,\n",
    "                    \"B\": 2.0,\n",
    "                    \"rmax\": 12.0\n",
    "                }\n",
    "            }\n",
    "        }\n",
    "    }\n",
    "print(writer.create_string(data))"
   ]
  },
  {
   "cell_type": "markdown",
   "metadata": {},
   "source": [
    "ReaxFF data can be created from the standard LAMMPS style potential file, using"
   ]
  },
  {
   "cell_type": "code",
   "execution_count": 28,
   "metadata": {},
   "outputs": [
    {
     "name": "stdout",
     "output_type": "stream",
     "text": [
      "\u001b[34mangles\u001b[0m: {...}\n",
      "\u001b[34mbonds\u001b[0m: {...}\n",
      "\u001b[34mdescript\u001b[0m: Reactive MD-force field: Cr/O/Fe/S/C/H force field 2014\n",
      "\u001b[34mhbonds\u001b[0m: {...}\n",
      "\u001b[34moff-diagonals\u001b[0m: {...}\n",
      "\u001b[34mparams\u001b[0m: {...}\n",
      "\u001b[34mspecies\u001b[0m: {...}\n",
      "\u001b[34mtolerances\u001b[0m: {...}\n",
      "\u001b[34mtorsions\u001b[0m: {...}\n"
     ]
    }
   ],
   "source": [
    "from aiida_crystal17.tests import TEST_FILES\n",
    "from aiida_crystal17.gulp.potentials.reaxff import (\n",
    "    read_reaxff_file)\n",
    "\n",
    "data = read_reaxff_file(os.path.join(TEST_FILES, 'gulp', 'in', 'FeCrOSCH.reaxff'))\n",
    "edict.pprint(data, depth=1, keycolor='blue')"
   ]
  },
  {
   "cell_type": "markdown",
   "metadata": {},
   "source": [
    "## Setting Up and Running the Calculations"
   ]
  },
  {
   "cell_type": "markdown",
   "metadata": {},
   "source": [
    ".. seealso::\n",
    "\n",
    "    AiiDA documentation: :ref:`aiida:working_processes`"
   ]
  },
  {
   "cell_type": "code",
   "execution_count": 11,
   "metadata": {},
   "outputs": [
    {
     "data": {
      "text/plain": [
       "<StructureData: uuid: d5834436-c69d-42ce-8b24-932a86f5d7b2 (unstored)>"
      ]
     },
     "execution_count": 11,
     "metadata": {},
     "output_type": "execute_result"
    }
   ],
   "source": [
    "from aiida_crystal17.symmetry import convert_structure\n",
    "structure_data = {\n",
    "    \"lattice\": [[5.38, 0.000000, 0.000000],\n",
    "                [0.000000, 5.38, 0.000000],\n",
    "                [0.000000, 0.000000, 5.38]],\n",
    "    \"fcoords\": [[0.0, 0.0, 0.0], [0.5, 0.0, 0.5], [0.0, 0.5, 0.5],\n",
    "                [0.5, 0.5, 0.0], [0.338, 0.338, 0.338],\n",
    "                [0.662, 0.662, 0.662], [0.162, 0.662, 0.838],\n",
    "                [0.838, 0.338, 0.162], [0.662, 0.838, 0.162],\n",
    "                [0.338, 0.162, 0.838], [0.838, 0.162, 0.662],\n",
    "                [0.162, 0.838, 0.338]],\n",
    "    \"symbols\": ['Fe'] * 4 + ['S'] * 8,\n",
    "    \"pbc\": [True, True, True]\n",
    "}\n",
    "structure = convert_structure(structure_data, \"aiida\")\n",
    "structure"
   ]
  },
  {
   "cell_type": "code",
   "execution_count": 12,
   "metadata": {},
   "outputs": [
    {
     "data": {
      "text/plain": [
       "<Dict: uuid: f84d7fb2-19d0-407a-a0e5-7b921e305a61 (unstored)>"
      ]
     },
     "execution_count": 12,
     "metadata": {},
     "output_type": "execute_result"
    }
   ],
   "source": [
    "potential_data = {\n",
    "    \"pair_style\": \"lj\",\n",
    "    \"data\": {\n",
    "        \"atoms\": {\n",
    "            \"Fe\": {\n",
    "                \"Fe\": {\n",
    "                    \"A\": 1.0,\n",
    "                    \"B\": 1.0,\n",
    "                    \"rmax\": 12.0\n",
    "                },\n",
    "                \"S\": {\n",
    "                    \"A\": 1.0,\n",
    "                    \"B\": 1.0,\n",
    "                    \"rmax\": 12.0\n",
    "                }\n",
    "            },\n",
    "            \"S\": {\n",
    "                \"S\": {\n",
    "                    \"A\": 1.0,\n",
    "                    \"B\": 1.0,\n",
    "                    \"rmax\": 12.0\n",
    "                }\n",
    "            }\n",
    "        }\n",
    "    }\n",
    "}\n",
    "potential_lj = DataFactory('dict')(dict=potential_data)\n",
    "potential_lj"
   ]
  },
  {
   "cell_type": "markdown",
   "metadata": {},
   "source": [
    "### gulp.single"
   ]
  },
  {
   "cell_type": "code",
   "execution_count": 20,
   "metadata": {},
   "outputs": [
    {
     "data": {
      "text/plain": [
       "<CalcJobNode: uuid: 0a9f0f7f-3c34-40fd-93d8-09f2db6d35cb (pk: 468) (aiida.calculations:gulp.single)>"
      ]
     },
     "execution_count": 20,
     "metadata": {},
     "output_type": "execute_result"
    }
   ],
   "source": [
    "code_single = Code.objects.get(\n",
    "    label=\"gulp.single-mock_gulp@localhost\")\n",
    "builder = code_single.get_builder()\n",
    "builder.metadata.options = {\n",
    "    \"resources\": {\n",
    "        \"num_machines\": 1, \n",
    "        \"num_mpiprocs_per_machine\": 1}}\n",
    "builder.structure = structure\n",
    "builder.potential = potential_lj"
   ]
  },
  {
   "cell_type": "code",
   "execution_count": null,
   "metadata": {},
   "outputs": [],
   "source": [
    "result, calcnode = run_get_node(builder)\n",
    "calcnode"
   ]
  },
  {
   "cell_type": "code",
   "execution_count": 21,
   "metadata": {},
   "outputs": [
    {
     "name": "stdout",
     "output_type": "stream",
     "text": [
      "True\n",
      "ProcessState.FINISHED\n",
      "0\n"
     ]
    }
   ],
   "source": [
    "print(calcnode.is_finished_ok)\n",
    "print(calcnode.process_state)\n",
    "print(calcnode.exit_status)"
   ]
  },
  {
   "cell_type": "code",
   "execution_count": 22,
   "metadata": {
    "ipub": {
     "figure": {
      "caption": "`gulp.single` calculation provenance graph."
     }
    }
   },
   "outputs": [
    {
     "data": {
      "image/svg+xml": [
       "<?xml version=\"1.0\" encoding=\"UTF-8\" standalone=\"no\"?>\n",
       "<!DOCTYPE svg PUBLIC \"-//W3C//DTD SVG 1.1//EN\"\n",
       " \"http://www.w3.org/Graphics/SVG/1.1/DTD/svg11.dtd\">\n",
       "<!-- Generated by graphviz version 2.40.1 (20161225.0304)\n",
       " -->\n",
       "<!-- Title: %3 Pages: 1 -->\n",
       "<svg width=\"432pt\" height=\"90pt\"\n",
       " viewBox=\"0.00 0.00 432.00 90.10\" xmlns=\"http://www.w3.org/2000/svg\" xmlns:xlink=\"http://www.w3.org/1999/xlink\">\n",
       "<g id=\"graph0\" class=\"graph\" transform=\"scale(.4792 .4792) rotate(0) translate(4 184)\">\n",
       "<title>%3</title>\n",
       "<polygon fill=\"#ffffff\" stroke=\"transparent\" points=\"-4,4 -4,-184 897.4439,-184 897.4439,4 -4,4\"/>\n",
       "<!-- N468 -->\n",
       "<g id=\"node1\" class=\"node\">\n",
       "<title>N468</title>\n",
       "<ellipse fill=\"#90ee90\" stroke=\"#000000\" cx=\"532.3851\" cy=\"-108\" rx=\"125.9303\" ry=\"35.2113\"/>\n",
       "<text text-anchor=\"middle\" x=\"532.3851\" y=\"-117.8\" font-family=\"Times,serif\" font-size=\"14.00\" fill=\"#000000\">GulpSingleCalculation (468)</text>\n",
       "<text text-anchor=\"middle\" x=\"532.3851\" y=\"-103.8\" font-family=\"Times,serif\" font-size=\"14.00\" fill=\"#000000\">State: finished</text>\n",
       "<text text-anchor=\"middle\" x=\"532.3851\" y=\"-89.8\" font-family=\"Times,serif\" font-size=\"14.00\" fill=\"#000000\">Exit Code: 0</text>\n",
       "</g>\n",
       "<!-- N471 -->\n",
       "<g id=\"node5\" class=\"node\">\n",
       "<title>N471</title>\n",
       "<polygon fill=\"none\" stroke=\"#000000\" points=\"870.4733,-180 796.6177,-180 796.6177,-144 870.4733,-144 870.4733,-180\"/>\n",
       "<text text-anchor=\"middle\" x=\"833.5455\" y=\"-157.8\" font-family=\"Times,serif\" font-size=\"14.00\" fill=\"#000000\">Dict (471)</text>\n",
       "</g>\n",
       "<!-- N468&#45;&gt;N471 -->\n",
       "<g id=\"edge4\" class=\"edge\">\n",
       "<title>N468&#45;&gt;N471</title>\n",
       "<path fill=\"none\" stroke=\"#006400\" d=\"M629.3596,-130.6608C645.028,-134.003 661.107,-137.2438 676.3502,-140 713.1383,-146.652 755.0814,-152.432 786.3845,-156.3962\"/>\n",
       "<polygon fill=\"#006400\" stroke=\"#006400\" points=\"786.2126,-159.9019 796.5696,-157.6696 787.0811,-152.9559 786.2126,-159.9019\"/>\n",
       "<text text-anchor=\"middle\" x=\"715.9986\" y=\"-168.8\" font-family=\"Times,serif\" font-size=\"14.00\" fill=\"#000000\">CREATE</text>\n",
       "<text text-anchor=\"middle\" x=\"715.9986\" y=\"-154.8\" font-family=\"Times,serif\" font-size=\"14.00\" fill=\"#000000\">results</text>\n",
       "</g>\n",
       "<!-- N470 -->\n",
       "<g id=\"node6\" class=\"node\">\n",
       "<title>N470</title>\n",
       "<polygon fill=\"none\" stroke=\"#000000\" points=\"889.8494,-126 777.2416,-126 777.2416,-90 889.8494,-90 889.8494,-126\"/>\n",
       "<text text-anchor=\"middle\" x=\"833.5455\" y=\"-103.8\" font-family=\"Times,serif\" font-size=\"14.00\" fill=\"#000000\">FolderData (470)</text>\n",
       "</g>\n",
       "<!-- N468&#45;&gt;N470 -->\n",
       "<g id=\"edge5\" class=\"edge\">\n",
       "<title>N468&#45;&gt;N470</title>\n",
       "<path fill=\"none\" stroke=\"#006400\" d=\"M658.3592,-108C695.5925,-108 734.8888,-108 766.8075,-108\"/>\n",
       "<polygon fill=\"#006400\" stroke=\"#006400\" points=\"766.8996,-111.5001 776.8995,-108 766.8995,-104.5001 766.8996,-111.5001\"/>\n",
       "<text text-anchor=\"middle\" x=\"715.9986\" y=\"-124.8\" font-family=\"Times,serif\" font-size=\"14.00\" fill=\"#000000\">CREATE</text>\n",
       "<text text-anchor=\"middle\" x=\"715.9986\" y=\"-110.8\" font-family=\"Times,serif\" font-size=\"14.00\" fill=\"#000000\">retrieved</text>\n",
       "</g>\n",
       "<!-- N469 -->\n",
       "<g id=\"node7\" class=\"node\">\n",
       "<title>N469</title>\n",
       "<polygon fill=\"none\" stroke=\"#000000\" points=\"893.3426,-72 773.7485,-72 773.7485,-36 893.3426,-36 893.3426,-72\"/>\n",
       "<text text-anchor=\"middle\" x=\"833.5455\" y=\"-56.8\" font-family=\"Times,serif\" font-size=\"14.00\" fill=\"#000000\">RemoteData (469)</text>\n",
       "<text text-anchor=\"middle\" x=\"833.5455\" y=\"-42.8\" font-family=\"Times,serif\" font-size=\"14.00\" fill=\"#000000\">@localhost</text>\n",
       "</g>\n",
       "<!-- N468&#45;&gt;N469 -->\n",
       "<g id=\"edge6\" class=\"edge\">\n",
       "<title>N468&#45;&gt;N469</title>\n",
       "<path fill=\"none\" stroke=\"#006400\" d=\"M629.3596,-85.3392C645.028,-81.997 661.107,-78.7562 676.3502,-76 704.7236,-70.8696 736.1633,-66.2578 763.423,-62.5978\"/>\n",
       "<polygon fill=\"#006400\" stroke=\"#006400\" points=\"764.1972,-66.0259 773.6508,-61.2425 763.2777,-59.0865 764.1972,-66.0259\"/>\n",
       "<text text-anchor=\"middle\" x=\"715.9986\" y=\"-92.8\" font-family=\"Times,serif\" font-size=\"14.00\" fill=\"#000000\">CREATE</text>\n",
       "<text text-anchor=\"middle\" x=\"715.9986\" y=\"-78.8\" font-family=\"Times,serif\" font-size=\"14.00\" fill=\"#000000\">remote_folder</text>\n",
       "</g>\n",
       "<!-- N467 -->\n",
       "<g id=\"node2\" class=\"node\">\n",
       "<title>N467</title>\n",
       "<polygon fill=\"none\" stroke=\"#000000\" points=\"179.3584,-180 105.5029,-180 105.5029,-144 179.3584,-144 179.3584,-180\"/>\n",
       "<text text-anchor=\"middle\" x=\"142.4307\" y=\"-157.8\" font-family=\"Times,serif\" font-size=\"14.00\" fill=\"#000000\">Dict (467)</text>\n",
       "</g>\n",
       "<!-- N467&#45;&gt;N468 -->\n",
       "<g id=\"edge1\" class=\"edge\">\n",
       "<title>N467&#45;&gt;N468</title>\n",
       "<path fill=\"none\" stroke=\"#000000\" d=\"M179.7028,-160.1725C228.0507,-157.458 314.9084,-151.408 388.4199,-140 400.9202,-138.0601 413.9578,-135.6771 426.8596,-133.0943\"/>\n",
       "<polygon fill=\"#000000\" stroke=\"#000000\" points=\"427.5922,-136.517 436.6881,-131.0843 426.1896,-129.6589 427.5922,-136.517\"/>\n",
       "<text text-anchor=\"middle\" x=\"345.6406\" y=\"-166.8\" font-family=\"Times,serif\" font-size=\"14.00\" fill=\"#000000\">INPUT_CALC</text>\n",
       "<text text-anchor=\"middle\" x=\"345.6406\" y=\"-152.8\" font-family=\"Times,serif\" font-size=\"14.00\" fill=\"#000000\">potential</text>\n",
       "</g>\n",
       "<!-- N466 -->\n",
       "<g id=\"node3\" class=\"node\">\n",
       "<title>N466</title>\n",
       "<polygon fill=\"none\" stroke=\"#000000\" points=\"206.0007,-126 78.8606,-126 78.8606,-90 206.0007,-90 206.0007,-126\"/>\n",
       "<text text-anchor=\"middle\" x=\"142.4307\" y=\"-110.8\" font-family=\"Times,serif\" font-size=\"14.00\" fill=\"#000000\">StructureData (466)</text>\n",
       "<text text-anchor=\"middle\" x=\"142.4307\" y=\"-96.8\" font-family=\"Times,serif\" font-size=\"14.00\" fill=\"#000000\">Fe4S8</text>\n",
       "</g>\n",
       "<!-- N466&#45;&gt;N468 -->\n",
       "<g id=\"edge2\" class=\"edge\">\n",
       "<title>N466&#45;&gt;N468</title>\n",
       "<path fill=\"none\" stroke=\"#000000\" d=\"M206.387,-108C257.662,-108 331.4371,-108 395.8405,-108\"/>\n",
       "<polygon fill=\"#000000\" stroke=\"#000000\" points=\"396.0916,-111.5001 406.0915,-108 396.0915,-104.5001 396.0916,-111.5001\"/>\n",
       "<text text-anchor=\"middle\" x=\"345.6406\" y=\"-124.8\" font-family=\"Times,serif\" font-size=\"14.00\" fill=\"#000000\">INPUT_CALC</text>\n",
       "<text text-anchor=\"middle\" x=\"345.6406\" y=\"-110.8\" font-family=\"Times,serif\" font-size=\"14.00\" fill=\"#000000\">structure</text>\n",
       "</g>\n",
       "<!-- N464 -->\n",
       "<g id=\"node4\" class=\"node\">\n",
       "<title>N464</title>\n",
       "<polygon fill=\"none\" stroke=\"#ffa500\" points=\"142.4307,-72 .0693,-36 142.4307,0 284.792,-36 142.4307,-72\"/>\n",
       "<text text-anchor=\"middle\" x=\"142.4307\" y=\"-38.8\" font-family=\"Times,serif\" font-size=\"14.00\" fill=\"#000000\">Code (464)</text>\n",
       "<text text-anchor=\"middle\" x=\"142.4307\" y=\"-24.8\" font-family=\"Times,serif\" font-size=\"14.00\" fill=\"#000000\">mock_gulp@localhost</text>\n",
       "</g>\n",
       "<!-- N464&#45;&gt;N468 -->\n",
       "<g id=\"edge3\" class=\"edge\">\n",
       "<title>N464&#45;&gt;N468</title>\n",
       "<path fill=\"none\" stroke=\"#000000\" d=\"M232.3242,-49.347C279.0028,-56.5988 336.9019,-66.0942 388.4199,-76 400.3237,-78.2888 412.7485,-80.8255 425.0943,-83.4402\"/>\n",
       "<polygon fill=\"#000000\" stroke=\"#000000\" points=\"424.4564,-86.8828 434.9671,-85.5505 425.9196,-80.0374 424.4564,-86.8828\"/>\n",
       "<text text-anchor=\"middle\" x=\"345.6406\" y=\"-92.8\" font-family=\"Times,serif\" font-size=\"14.00\" fill=\"#000000\">INPUT_CALC</text>\n",
       "<text text-anchor=\"middle\" x=\"345.6406\" y=\"-78.8\" font-family=\"Times,serif\" font-size=\"14.00\" fill=\"#000000\">code</text>\n",
       "</g>\n",
       "</g>\n",
       "</svg>\n"
      ],
      "text/plain": [
       "<graphviz.dot.Digraph at 0x1152439b0>"
      ]
     },
     "execution_count": 22,
     "metadata": {},
     "output_type": "execute_result"
    }
   ],
   "source": [
    "from aiida_crystal17.graph import Graph\n",
    "graph = Graph(graph_attr={'size': \"6,8!\", \"rankdir\": \"LR\"})\n",
    "graph.add_node(calcnode)\n",
    "graph.add_incoming(calcnode, annotate_links=\"both\")\n",
    "graph.add_outgoing(calcnode, annotate_links=\"both\")\n",
    "graph.graphviz"
   ]
  },
  {
   "cell_type": "markdown",
   "metadata": {},
   "source": [
    "### gulp.optimize"
   ]
  },
  {
   "cell_type": "code",
   "execution_count": 30,
   "metadata": {},
   "outputs": [
    {
     "data": {
      "text/plain": [
       "<Dict: uuid: 902f4058-8ac4-4816-8a77-648518d4bb0e (unstored)>"
      ]
     },
     "execution_count": 30,
     "metadata": {},
     "output_type": "execute_result"
    }
   ],
   "source": [
    "opt_dict={\n",
    "    \"minimize\": {\"style\": \"cg\", \"max_iterations\": 100},\n",
    "    \"relax\": {\"type\": \"conp\"}}\n",
    "opt_params = DataFactory('dict')(dict=opt_dict)\n",
    "opt_params"
   ]
  },
  {
   "cell_type": "code",
   "execution_count": 35,
   "metadata": {},
   "outputs": [],
   "source": [
    "code_opt = Code.objects.get(\n",
    "    label=\"gulp.optimize-mock_gulp@localhost\")\n",
    "builder_opt = code_opt.get_builder()\n",
    "builder_opt.metadata.options = {\n",
    "    \"resources\": {\n",
    "        \"num_machines\": 1, \n",
    "        \"num_mpiprocs_per_machine\": 1}}\n",
    "builder_opt.structure = structure\n",
    "builder_opt.potential = potential_lj\n",
    "builder_opt.parameters = opt_params"
   ]
  },
  {
   "cell_type": "code",
   "execution_count": 36,
   "metadata": {},
   "outputs": [
    {
     "name": "stderr",
     "output_type": "stream",
     "text": [
      "//anaconda/envs/aiida-workshop/lib/python3.6/site-packages/ase/io/cif.py:321: UserWarning: crystal system 'triclinic' is not interpreated for space group 1. This may result in wrong setting!\n",
      "  setting_name, spacegroup))\n"
     ]
    },
    {
     "data": {
      "text/plain": [
       "<CalcJobNode: uuid: 5b245ba7-36b4-4c44-a0e8-4a3da4625e45 (pk: 478) (aiida.calculations:gulp.optimize)>"
      ]
     },
     "execution_count": 36,
     "metadata": {},
     "output_type": "execute_result"
    }
   ],
   "source": [
    "result, calcnode_opt = run_get_node(builder_opt)\n",
    "calcnode_opt"
   ]
  },
  {
   "cell_type": "code",
   "execution_count": 37,
   "metadata": {},
   "outputs": [
    {
     "name": "stdout",
     "output_type": "stream",
     "text": [
      "True\n",
      "ProcessState.FINISHED\n",
      "0\n"
     ]
    }
   ],
   "source": [
    "print(calcnode_opt.is_finished_ok)\n",
    "print(calcnode_opt.process_state)\n",
    "print(calcnode_opt.exit_status)"
   ]
  },
  {
   "cell_type": "code",
   "execution_count": 38,
   "metadata": {
    "ipub": {
     "figure": {
      "caption": "`gulp.optimize` calculation provenance graph."
     }
    }
   },
   "outputs": [
    {
     "data": {
      "image/svg+xml": [
       "<?xml version=\"1.0\" encoding=\"UTF-8\" standalone=\"no\"?>\n",
       "<!DOCTYPE svg PUBLIC \"-//W3C//DTD SVG 1.1//EN\"\n",
       " \"http://www.w3.org/Graphics/SVG/1.1/DTD/svg11.dtd\">\n",
       "<!-- Generated by graphviz version 2.40.1 (20161225.0304)\n",
       " -->\n",
       "<!-- Title: %3 Pages: 1 -->\n",
       "<svg width=\"432pt\" height=\"118pt\"\n",
       " viewBox=\"0.00 0.00 432.00 117.69\" xmlns=\"http://www.w3.org/2000/svg\" xmlns:xlink=\"http://www.w3.org/1999/xlink\">\n",
       "<g id=\"graph0\" class=\"graph\" transform=\"scale(.4863 .4863) rotate(0) translate(4 238)\">\n",
       "<title>%3</title>\n",
       "<polygon fill=\"#ffffff\" stroke=\"transparent\" points=\"-4,4 -4,-238 884.3153,-238 884.3153,4 -4,4\"/>\n",
       "<!-- N478 -->\n",
       "<g id=\"node1\" class=\"node\">\n",
       "<title>N478</title>\n",
       "<ellipse fill=\"#90ee90\" stroke=\"#000000\" cx=\"521.9345\" cy=\"-135\" rx=\"115.5292\" ry=\"35.2113\"/>\n",
       "<text text-anchor=\"middle\" x=\"521.9345\" y=\"-144.8\" font-family=\"Times,serif\" font-size=\"14.00\" fill=\"#000000\">GulpOptCalculation (478)</text>\n",
       "<text text-anchor=\"middle\" x=\"521.9345\" y=\"-130.8\" font-family=\"Times,serif\" font-size=\"14.00\" fill=\"#000000\">State: finished</text>\n",
       "<text text-anchor=\"middle\" x=\"521.9345\" y=\"-116.8\" font-family=\"Times,serif\" font-size=\"14.00\" fill=\"#000000\">Exit Code: 0</text>\n",
       "</g>\n",
       "<!-- N482 -->\n",
       "<g id=\"node6\" class=\"node\">\n",
       "<title>N482</title>\n",
       "<polygon fill=\"none\" stroke=\"#000000\" points=\"880.1007,-234 752.9606,-234 752.9606,-198 880.1007,-198 880.1007,-234\"/>\n",
       "<text text-anchor=\"middle\" x=\"816.5307\" y=\"-218.8\" font-family=\"Times,serif\" font-size=\"14.00\" fill=\"#000000\">StructureData (482)</text>\n",
       "<text text-anchor=\"middle\" x=\"816.5307\" y=\"-204.8\" font-family=\"Times,serif\" font-size=\"14.00\" fill=\"#000000\">Fe4S8</text>\n",
       "</g>\n",
       "<!-- N478&#45;&gt;N482 -->\n",
       "<g id=\"edge5\" class=\"edge\">\n",
       "<title>N478&#45;&gt;N482</title>\n",
       "<path fill=\"none\" stroke=\"#006400\" d=\"M590.0876,-163.7533C610.8157,-171.7559 633.834,-179.9129 655.4491,-186 683.6156,-193.932 715.1548,-200.3334 742.8084,-205.1535\"/>\n",
       "<polygon fill=\"#006400\" stroke=\"#006400\" points=\"742.3615,-208.6277 752.8074,-206.8577 743.5376,-201.7272 742.3615,-208.6277\"/>\n",
       "<text text-anchor=\"middle\" x=\"695.0975\" y=\"-219.8\" font-family=\"Times,serif\" font-size=\"14.00\" fill=\"#000000\">CREATE</text>\n",
       "<text text-anchor=\"middle\" x=\"695.0975\" y=\"-205.8\" font-family=\"Times,serif\" font-size=\"14.00\" fill=\"#000000\">structure</text>\n",
       "</g>\n",
       "<!-- N481 -->\n",
       "<g id=\"node7\" class=\"node\">\n",
       "<title>N481</title>\n",
       "<polygon fill=\"none\" stroke=\"#000000\" points=\"853.4584,-180 779.6029,-180 779.6029,-144 853.4584,-144 853.4584,-180\"/>\n",
       "<text text-anchor=\"middle\" x=\"816.5307\" y=\"-157.8\" font-family=\"Times,serif\" font-size=\"14.00\" fill=\"#000000\">Dict (481)</text>\n",
       "</g>\n",
       "<!-- N478&#45;&gt;N481 -->\n",
       "<g id=\"edge6\" class=\"edge\">\n",
       "<title>N478&#45;&gt;N481</title>\n",
       "<path fill=\"none\" stroke=\"#006400\" d=\"M632.8889,-145.1691C679.9475,-149.482 732.2849,-154.2788 769.0083,-157.6445\"/>\n",
       "<polygon fill=\"#006400\" stroke=\"#006400\" points=\"769.1292,-161.1702 779.407,-158.5976 769.7682,-154.1994 769.1292,-161.1702\"/>\n",
       "<text text-anchor=\"middle\" x=\"695.0975\" y=\"-170.8\" font-family=\"Times,serif\" font-size=\"14.00\" fill=\"#000000\">CREATE</text>\n",
       "<text text-anchor=\"middle\" x=\"695.0975\" y=\"-156.8\" font-family=\"Times,serif\" font-size=\"14.00\" fill=\"#000000\">results</text>\n",
       "</g>\n",
       "<!-- N480 -->\n",
       "<g id=\"node8\" class=\"node\">\n",
       "<title>N480</title>\n",
       "<polygon fill=\"none\" stroke=\"#000000\" points=\"872.8345,-126 760.2268,-126 760.2268,-90 872.8345,-90 872.8345,-126\"/>\n",
       "<text text-anchor=\"middle\" x=\"816.5307\" y=\"-103.8\" font-family=\"Times,serif\" font-size=\"14.00\" fill=\"#000000\">FolderData (480)</text>\n",
       "</g>\n",
       "<!-- N478&#45;&gt;N480 -->\n",
       "<g id=\"edge7\" class=\"edge\">\n",
       "<title>N478&#45;&gt;N480</title>\n",
       "<path fill=\"none\" stroke=\"#006400\" d=\"M624.216,-118.5575C634.7458,-117.2009 645.3005,-115.9779 655.4491,-115 686.4798,-112.01 720.9972,-110.2967 750.0949,-109.3152\"/>\n",
       "<polygon fill=\"#006400\" stroke=\"#006400\" points=\"750.262,-112.8118 760.1465,-108.9976 750.0409,-105.8153 750.262,-112.8118\"/>\n",
       "<text text-anchor=\"middle\" x=\"695.0975\" y=\"-131.8\" font-family=\"Times,serif\" font-size=\"14.00\" fill=\"#000000\">CREATE</text>\n",
       "<text text-anchor=\"middle\" x=\"695.0975\" y=\"-117.8\" font-family=\"Times,serif\" font-size=\"14.00\" fill=\"#000000\">retrieved</text>\n",
       "</g>\n",
       "<!-- N479 -->\n",
       "<g id=\"node9\" class=\"node\">\n",
       "<title>N479</title>\n",
       "<polygon fill=\"none\" stroke=\"#000000\" points=\"876.3277,-72 756.7336,-72 756.7336,-36 876.3277,-36 876.3277,-72\"/>\n",
       "<text text-anchor=\"middle\" x=\"816.5307\" y=\"-56.8\" font-family=\"Times,serif\" font-size=\"14.00\" fill=\"#000000\">RemoteData (479)</text>\n",
       "<text text-anchor=\"middle\" x=\"816.5307\" y=\"-42.8\" font-family=\"Times,serif\" font-size=\"14.00\" fill=\"#000000\">@localhost</text>\n",
       "</g>\n",
       "<!-- N478&#45;&gt;N479 -->\n",
       "<g id=\"edge8\" class=\"edge\">\n",
       "<title>N478&#45;&gt;N479</title>\n",
       "<path fill=\"none\" stroke=\"#006400\" d=\"M582.1572,-104.7561C604.6689,-94.5497 630.7673,-83.9858 655.4491,-77 684.6203,-68.7436 717.6425,-63.3675 746.1602,-59.9078\"/>\n",
       "<polygon fill=\"#006400\" stroke=\"#006400\" points=\"746.9158,-63.3439 756.4475,-58.7181 746.1116,-56.3902 746.9158,-63.3439\"/>\n",
       "<text text-anchor=\"middle\" x=\"695.0975\" y=\"-93.8\" font-family=\"Times,serif\" font-size=\"14.00\" fill=\"#000000\">CREATE</text>\n",
       "<text text-anchor=\"middle\" x=\"695.0975\" y=\"-79.8\" font-family=\"Times,serif\" font-size=\"14.00\" fill=\"#000000\">remote_folder</text>\n",
       "</g>\n",
       "<!-- N472 -->\n",
       "<g id=\"node2\" class=\"node\">\n",
       "<title>N472</title>\n",
       "<polygon fill=\"none\" stroke=\"#000000\" points=\"179.3584,-234 105.5029,-234 105.5029,-198 179.3584,-198 179.3584,-234\"/>\n",
       "<text text-anchor=\"middle\" x=\"142.4307\" y=\"-211.8\" font-family=\"Times,serif\" font-size=\"14.00\" fill=\"#000000\">Dict (472)</text>\n",
       "</g>\n",
       "<!-- N472&#45;&gt;N478 -->\n",
       "<g id=\"edge1\" class=\"edge\">\n",
       "<title>N472&#45;&gt;N478</title>\n",
       "<path fill=\"none\" stroke=\"#000000\" d=\"M179.5383,-213.2112C228.0757,-209.0329 315.5172,-199.6792 388.4199,-182 405.8498,-177.7732 424.1933,-172.1363 441.5128,-166.237\"/>\n",
       "<polygon fill=\"#000000\" stroke=\"#000000\" points=\"442.7166,-169.5241 451.0171,-162.9399 440.4223,-162.9107 442.7166,-169.5241\"/>\n",
       "<text text-anchor=\"middle\" x=\"345.6406\" y=\"-213.8\" font-family=\"Times,serif\" font-size=\"14.00\" fill=\"#000000\">INPUT_CALC</text>\n",
       "<text text-anchor=\"middle\" x=\"345.6406\" y=\"-199.8\" font-family=\"Times,serif\" font-size=\"14.00\" fill=\"#000000\">parameters</text>\n",
       "</g>\n",
       "<!-- N467 -->\n",
       "<g id=\"node3\" class=\"node\">\n",
       "<title>N467</title>\n",
       "<polygon fill=\"none\" stroke=\"#000000\" points=\"179.3584,-180 105.5029,-180 105.5029,-144 179.3584,-144 179.3584,-180\"/>\n",
       "<text text-anchor=\"middle\" x=\"142.4307\" y=\"-157.8\" font-family=\"Times,serif\" font-size=\"14.00\" fill=\"#000000\">Dict (467)</text>\n",
       "</g>\n",
       "<!-- N467&#45;&gt;N478 -->\n",
       "<g id=\"edge2\" class=\"edge\">\n",
       "<title>N467&#45;&gt;N478</title>\n",
       "<path fill=\"none\" stroke=\"#000000\" d=\"M179.5101,-159.362C230.0244,-155.7681 322.9148,-149.1594 399.2136,-143.731\"/>\n",
       "<polygon fill=\"#000000\" stroke=\"#000000\" points=\"399.6585,-147.2083 409.3849,-143.0074 399.1617,-140.226 399.6585,-147.2083\"/>\n",
       "<text text-anchor=\"middle\" x=\"345.6406\" y=\"-166.8\" font-family=\"Times,serif\" font-size=\"14.00\" fill=\"#000000\">INPUT_CALC</text>\n",
       "<text text-anchor=\"middle\" x=\"345.6406\" y=\"-152.8\" font-family=\"Times,serif\" font-size=\"14.00\" fill=\"#000000\">potential</text>\n",
       "</g>\n",
       "<!-- N466 -->\n",
       "<g id=\"node4\" class=\"node\">\n",
       "<title>N466</title>\n",
       "<polygon fill=\"none\" stroke=\"#000000\" points=\"206.0007,-126 78.8606,-126 78.8606,-90 206.0007,-90 206.0007,-126\"/>\n",
       "<text text-anchor=\"middle\" x=\"142.4307\" y=\"-110.8\" font-family=\"Times,serif\" font-size=\"14.00\" fill=\"#000000\">StructureData (466)</text>\n",
       "<text text-anchor=\"middle\" x=\"142.4307\" y=\"-96.8\" font-family=\"Times,serif\" font-size=\"14.00\" fill=\"#000000\">Fe4S8</text>\n",
       "</g>\n",
       "<!-- N466&#45;&gt;N478 -->\n",
       "<g id=\"edge3\" class=\"edge\">\n",
       "<title>N466&#45;&gt;N478</title>\n",
       "<path fill=\"none\" stroke=\"#000000\" d=\"M206.0311,-106.3486C255.7858,-105.7047 326.6511,-106.2124 388.4199,-112 396.6676,-112.7728 405.1729,-113.7683 413.7089,-114.9105\"/>\n",
       "<polygon fill=\"#000000\" stroke=\"#000000\" points=\"413.341,-118.3931 423.7298,-116.3143 414.3121,-111.4608 413.341,-118.3931\"/>\n",
       "<text text-anchor=\"middle\" x=\"345.6406\" y=\"-128.8\" font-family=\"Times,serif\" font-size=\"14.00\" fill=\"#000000\">INPUT_CALC</text>\n",
       "<text text-anchor=\"middle\" x=\"345.6406\" y=\"-114.8\" font-family=\"Times,serif\" font-size=\"14.00\" fill=\"#000000\">structure</text>\n",
       "</g>\n",
       "<!-- N465 -->\n",
       "<g id=\"node5\" class=\"node\">\n",
       "<title>N465</title>\n",
       "<polygon fill=\"none\" stroke=\"#ffa500\" points=\"142.4307,-72 .0693,-36 142.4307,0 284.792,-36 142.4307,-72\"/>\n",
       "<text text-anchor=\"middle\" x=\"142.4307\" y=\"-38.8\" font-family=\"Times,serif\" font-size=\"14.00\" fill=\"#000000\">Code (465)</text>\n",
       "<text text-anchor=\"middle\" x=\"142.4307\" y=\"-24.8\" font-family=\"Times,serif\" font-size=\"14.00\" fill=\"#000000\">mock_gulp@localhost</text>\n",
       "</g>\n",
       "<!-- N465&#45;&gt;N478 -->\n",
       "<g id=\"edge4\" class=\"edge\">\n",
       "<title>N465&#45;&gt;N478</title>\n",
       "<path fill=\"none\" stroke=\"#000000\" d=\"M245.2153,-46.1217C289.8335,-52.0901 342.3213,-61.2541 388.4199,-75 410.2777,-81.5177 433.2205,-90.8404 453.8008,-100.2001\"/>\n",
       "<polygon fill=\"#000000\" stroke=\"#000000\" points=\"452.5326,-103.4698 463.0779,-104.4932 455.4725,-97.117 452.5326,-103.4698\"/>\n",
       "<text text-anchor=\"middle\" x=\"345.6406\" y=\"-91.8\" font-family=\"Times,serif\" font-size=\"14.00\" fill=\"#000000\">INPUT_CALC</text>\n",
       "<text text-anchor=\"middle\" x=\"345.6406\" y=\"-77.8\" font-family=\"Times,serif\" font-size=\"14.00\" fill=\"#000000\">code</text>\n",
       "</g>\n",
       "</g>\n",
       "</svg>\n"
      ],
      "text/plain": [
       "<graphviz.dot.Digraph at 0x115144390>"
      ]
     },
     "execution_count": 38,
     "metadata": {},
     "output_type": "execute_result"
    }
   ],
   "source": [
    "from aiida_crystal17.graph import Graph\n",
    "graph = Graph(graph_attr={'size': \"6,8!\", \"rankdir\": \"LR\"})\n",
    "graph.add_node(calcnode_opt)\n",
    "graph.add_incoming(calcnode_opt, annotate_links=\"both\")\n",
    "graph.add_outgoing(calcnode_opt, annotate_links=\"both\")\n",
    "graph.graphviz"
   ]
  },
  {
   "cell_type": "code",
   "execution_count": 40,
   "metadata": {},
   "outputs": [
    {
     "data": {
      "text/markdown": [
       "```json\n",
       "{\n",
       "  \"energy\": -17.47113113,\n",
       "  \"energy_initial\": -0.32809466,\n",
       "  \"optimised\": true,\n",
       "  \"energy_units\": \"eV\",\n",
       "  \"errors\": [],\n",
       "  \"warnings\": [],\n",
       "  \"parser_warnings\": [],\n",
       "  \"parser_errors\": [],\n",
       "  \"parser_class\": \"GulpOptParser\",\n",
       "  \"parser_version\": \"0.5.0b2\"\n",
       "}\n",
       "```"
      ]
     },
     "metadata": {},
     "output_type": "display_data"
    }
   ],
   "source": [
    "display_json(calcnode_opt.outputs.results.attributes)"
   ]
  }
 ],
 "metadata": {
  "celltoolbar": "Edit Metadata",
  "hide_input": false,
  "kernelspec": {
   "display_name": "Python 3",
   "language": "python",
   "name": "python3"
  },
  "language_info": {
   "codemirror_mode": {
    "name": "ipython",
    "version": 3
   },
   "file_extension": ".py",
   "mimetype": "text/x-python",
   "name": "python",
   "nbconvert_exporter": "python",
   "pygments_lexer": "ipython3",
   "version": "3.6.5"
  },
  "toc": {
   "base_numbering": 1,
   "nav_menu": {},
   "number_sections": true,
   "sideBar": true,
   "skip_h1_title": false,
   "title_cell": "Table of Contents",
   "title_sidebar": "Contents",
   "toc_cell": false,
   "toc_position": {},
   "toc_section_display": true,
   "toc_window_display": false
  }
 },
 "nbformat": 4,
 "nbformat_minor": 2
}
