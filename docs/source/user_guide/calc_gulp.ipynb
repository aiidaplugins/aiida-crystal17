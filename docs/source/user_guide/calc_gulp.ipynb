{
 "cells": [
  {
   "cell_type": "markdown",
   "metadata": {},
   "source": [
    "# GULP Calculations"
   ]
  },
  {
   "cell_type": "markdown",
   "metadata": {},
   "source": [
    "The `gulp.single` (for single point energy calculations) and `gulp.optimize` (for geometry optimisation calculations) plugins will run the [General Utility Lattice Program (GULP)](http://gulp.curtin.edu.au/gulp/).\n",
    "They are designed to create the input `.gin` file,\n",
    "from a set of AiiDA :py:class:`~aiida.orm.nodes.data.Data` nodes."
   ]
  },
  {
   "cell_type": "markdown",
   "metadata": {},
   "source": [
    ".. note::\n",
    "\n",
    "    It is likely that these calculations will eventually be moved to a separate repository."
   ]
  },
  {
   "cell_type": "markdown",
   "metadata": {},
   "source": [
    "## Initial Setup"
   ]
  },
  {
   "cell_type": "markdown",
   "metadata": {},
   "source": [
    "To run a computation, first ensure AiiDA is running:"
   ]
  },
  {
   "cell_type": "code",
   "execution_count": 1,
   "metadata": {},
   "outputs": [
    {
     "name": "stdout",
     "output_type": "stream",
     "text": [
      "\u001b[32m ✓ \u001b[0mprofile:     On profile test_profile\u001b[0m\r\n",
      "\u001b[32m ✓ \u001b[0mrepository:  /var/folders/dm/b2qnkb_n3r72slmpxlfmcjvm00lbnd/T/tmpg8oec6ni/test_repo\u001b[0m\r\n",
      "\u001b[32m ✓ \u001b[0mpostgres:    Connected as aiida@localhost:63708\u001b[0m\r\n",
      "\u001b[32m ✓ \u001b[0mrabbitmq:    Connected to amqp://127.0.0.1?heartbeat=600\u001b[0m\r\n",
      "\u001b[32m ✓ \u001b[0mdaemon:      Daemon is running as PID 50009 since 2019-08-12 12:06:45\u001b[0m\r\n"
     ]
    }
   ],
   "source": [
    "!verdi status"
   ]
  },
  {
   "cell_type": "markdown",
   "metadata": {},
   "source": [
    ".. seealso::\n",
    "\n",
    "    AiiDA documentation: :ref:`aiida:quick_installation`"
   ]
  },
  {
   "cell_type": "markdown",
   "metadata": {},
   "source": [
    "If `aiida-crystal17` is installed,\n",
    "the `gulp.single` and `gulp.optimize` computations should be available:"
   ]
  },
  {
   "cell_type": "code",
   "execution_count": 2,
   "metadata": {},
   "outputs": [
    {
     "name": "stdout",
     "output_type": "stream",
     "text": [
      "-\b/\b|\b\\\b-\b/\b\u001b[31m\u001b[1mInputs\u001b[0m\r\n",
      "\u001b[1m           code:  required  Code                The Code to use for this job.\u001b[0m\r\n",
      "\u001b[1m      potential:  required  EmpiricalPotential  parameters to create the potential section of the .gin file content.\u001b[0m\r\n",
      "\u001b[1m      structure:  required  StructureData       atomic structure used to create the geometry section of .gin file content.\u001b[0m\r\n",
      "       metadata:  optional                      \u001b[0m\r\n",
      "     parameters:  optional  Dict                additional input parameters to create the .gin file content.\u001b[0m\r\n",
      "\u001b[31m\u001b[1mOutputs\u001b[0m\r\n",
      "\u001b[1m  remote_folder:  required  RemoteData          Input files necessary to run the process will be stored in this folder node ...\u001b[0m\r\n",
      "\u001b[1m        results:  required  Dict                the data extracted from the main output file\u001b[0m\r\n",
      "\u001b[1m      retrieved:  required  FolderData          Files that are retrieved by the daemon will be stored in this node. By defa ...\u001b[0m\r\n",
      "\u001b[31m\u001b[1mExit codes\u001b[0m\r\n",
      "              1:  The process has failed with an unspecified error.\u001b[0m\r\n",
      "              2:  The process failed with legacy failure mode.\u001b[0m\r\n",
      "             10:  The process returned an invalid output.\u001b[0m\r\n",
      "             11:  The process did not register a required output.\u001b[0m\r\n",
      "            200:  The retrieved folder data node could not be accessed.\u001b[0m\r\n",
      "            210:  The main output file was not found\u001b[0m\r\n",
      "            300:  An error was flagged trying to parse the main gulp output file\u001b[0m\r\n",
      "            301:  The stdout file is empty\u001b[0m\r\n",
      "            400:  The main gulp output file flagged an error not handled elsewhere\u001b[0m\r\n",
      "            410:  The main gulp output file did not signal that an expected optimisation completed\u001b[0m\r\n",
      "            411:  The main gulp output file did not signal that an expected optimisation completed\u001b[0m\r\n",
      "            412:  The main gulp output file did not signal that an expected optimisation completed\u001b[0m\r\n"
     ]
    }
   ],
   "source": [
    "!verdi plugin list aiida.calculations gulp.single"
   ]
  },
  {
   "cell_type": "code",
   "execution_count": 3,
   "metadata": {},
   "outputs": [
    {
     "name": "stdout",
     "output_type": "stream",
     "text": [
      "-\b/\b|\b\\\b-\b/\b\u001b[31m\u001b[1mInputs\u001b[0m\r\n",
      "\u001b[1m           code:  required  Code                The Code to use for this job.\u001b[0m\r\n",
      "\u001b[1m      potential:  required  EmpiricalPotential  parameters to create the potential section of the .gin file content.\u001b[0m\r\n",
      "\u001b[1m      structure:  required  StructureData       atomic structure used to create the geometry section of .gin file content.\u001b[0m\r\n",
      "       metadata:  optional                      \u001b[0m\r\n",
      "     parameters:  optional  Dict                additional input parameters to create the .gin file content.\u001b[0m\r\n",
      "       symmetry:  optional  SymmetryData        parameters to create the symmetry section of the .gin file content (for con ...\u001b[0m\r\n",
      "\u001b[31m\u001b[1mOutputs\u001b[0m\r\n",
      "\u001b[1m  remote_folder:  required  RemoteData          Input files necessary to run the process will be stored in this folder node ...\u001b[0m\r\n",
      "\u001b[1m        results:  required  Dict                the data extracted from the main output file\u001b[0m\r\n",
      "\u001b[1m      retrieved:  required  FolderData          Files that are retrieved by the daemon will be stored in this node. By defa ...\u001b[0m\r\n",
      "\u001b[1m      structure:  required  StructureData       the optimized structure output from the calculation\u001b[0m\r\n",
      "\u001b[31m\u001b[1mExit codes\u001b[0m\r\n",
      "              1:  The process has failed with an unspecified error.\u001b[0m\r\n",
      "              2:  The process failed with legacy failure mode.\u001b[0m\r\n",
      "             10:  The process returned an invalid output.\u001b[0m\r\n",
      "             11:  The process did not register a required output.\u001b[0m\r\n",
      "            200:  The retrieved folder data node could not be accessed.\u001b[0m\r\n",
      "            210:  The main output file was not found\u001b[0m\r\n",
      "            250:  The output cif file was not found\u001b[0m\r\n",
      "            251:  An input structure is required to create the output structure of an optimisation\u001b[0m\r\n",
      "            252:  The output cif file was not consistent with the input structure\u001b[0m\r\n",
      "            253:  The final structure coordinates were not parsed from the output file\u001b[0m\r\n",
      "            300:  An error was flagged trying to parse the main gulp output file\u001b[0m\r\n",
      "            301:  The stdout file is empty\u001b[0m\r\n",
      "            400:  The main gulp output file flagged an error not handled elsewhere\u001b[0m\r\n",
      "            410:  The main gulp output file did not signal that an expected optimisation completed\u001b[0m\r\n",
      "            411:  The main gulp output file did not signal that an expected optimisation completed\u001b[0m\r\n",
      "            412:  The main gulp output file did not signal that an expected optimisation completed\u001b[0m\r\n"
     ]
    }
   ],
   "source": [
    "!verdi plugin list aiida.calculations gulp.optimize"
   ]
  },
  {
   "cell_type": "markdown",
   "metadata": {},
   "source": [
    "To use the python interface,\n",
    "first ensure a profile is loaded in the python kernel,\n",
    "and import the required modules:"
   ]
  },
  {
   "cell_type": "code",
   "execution_count": 1,
   "metadata": {
    "init_cell": true
   },
   "outputs": [
    {
     "data": {
      "text/plain": [
       "'test_crystal17'"
      ]
     },
     "execution_count": 1,
     "metadata": {},
     "output_type": "execute_result"
    }
   ],
   "source": [
    "from aiida import load_profile\n",
    "profile = load_profile()\n",
    "profile.name"
   ]
  },
  {
   "cell_type": "code",
   "execution_count": 2,
   "metadata": {
    "init_cell": true
   },
   "outputs": [],
   "source": [
    "import os\n",
    "from aiida.orm import Code\n",
    "from aiida.plugins import (\n",
    "    DataFactory, WorkflowFactory, CalculationFactory)\n",
    "from aiida.engine import run_get_node\n",
    "from aiida_crystal17.common import display_json\n",
    "from aiida.tools.visualization import Graph\n",
    "from jsonextended import edict"
   ]
  },
  {
   "cell_type": "markdown",
   "metadata": {},
   "source": [
    "## Input Node Creation"
   ]
  },
  {
   "cell_type": "markdown",
   "metadata": {},
   "source": [
    ".. seealso::\n",
    "\n",
    "    [GULP Help File](http://gulp.curtin.edu.au/gulp/help/help_45_txt.html)"
   ]
  },
  {
   "cell_type": "markdown",
   "metadata": {},
   "source": [
    "### Code"
   ]
  },
  {
   "cell_type": "markdown",
   "metadata": {},
   "source": [
    ".. seealso::\n",
    "\n",
    "    AiiDA documentation: :ref:`aiida:setup_code`"
   ]
  },
  {
   "cell_type": "markdown",
   "metadata": {},
   "source": [
    "An :py:class:aiida.orm.nodes.data.code.Code node should be set up in advance, to use the gulp calculation plugin, and call the gulp executable (or mock_gulp used here for test purposes)."
   ]
  },
  {
   "cell_type": "code",
   "execution_count": 6,
   "metadata": {},
   "outputs": [
    {
     "data": {
      "text/plain": [
       "[['PK', 2],\n",
       " ['UUID', 'ef6cbd4d-c088-4948-b0a4-5e9235ca990a'],\n",
       " ['Label', 'gulp.optimize-mock_gulp@localhost'],\n",
       " ['Description', ''],\n",
       " ['Default plugin', 'gulp.optimize'],\n",
       " ['Type', 'remote'],\n",
       " ['Remote machine', 'localhost'],\n",
       " ['Remote absolute path', '//anaconda/envs/aiida_crystal17/bin/mock_gulp'],\n",
       " ['Prepend text', 'No prepend text'],\n",
       " ['Append text', 'No append text']]"
      ]
     },
     "execution_count": 6,
     "metadata": {},
     "output_type": "execute_result"
    }
   ],
   "source": [
    "from aiida_crystal17.tests.utils import get_or_create_local_computer, get_or_create_code\n",
    "computer = get_or_create_local_computer('work_directory', 'localhost')\n",
    "code_single = get_or_create_code('gulp.single', computer, 'mock_gulp')\n",
    "code_opt = get_or_create_code('gulp.optimize', computer, 'mock_gulp')\n",
    "code_opt.get_full_text_info()"
   ]
  },
  {
   "cell_type": "markdown",
   "metadata": {},
   "source": [
    ".. note::\n",
    "\n",
    "    The calculations are tested against GULP v4.5.3"
   ]
  },
  {
   "cell_type": "markdown",
   "metadata": {},
   "source": [
    "### Atomic Structure"
   ]
  },
  {
   "cell_type": "markdown",
   "metadata": {},
   "source": [
    "The ``structure`` refers to a standard\n",
    ":py:class:`~aiida.StructureData` node, and is used to create the `main.gui`.\n",
    "\n",
    "Structures consist of:\n",
    "\n",
    "- A cell with a basis vectors and whether it is periodic, for each dimension\n",
    "- ``Site`` with a cartesian coordinate and reference to a kind\n",
    "- ``Kind`` which details the species and composition at one or more sites\n",
    "\n",
    "The simplest way to create a structure is *via* :py:mod:`ase`:"
   ]
  },
  {
   "cell_type": "code",
   "execution_count": 7,
   "metadata": {},
   "outputs": [
    {
     "data": {
      "text/plain": [
       "<StructureData: uuid: 760eaf3d-0336-49d1-b1db-5b665615c85f (unstored)>"
      ]
     },
     "execution_count": 7,
     "metadata": {},
     "output_type": "execute_result"
    }
   ],
   "source": [
    "from ase.spacegroup import crystal\n",
    "atoms = crystal(\n",
    "    symbols=[12, 8],\n",
    "    basis=[[0, 0, 0], [0.5, 0.5, 0.5]],\n",
    "    spacegroup=225,\n",
    "    cellpar=[4.21, 4.21, 4.21, 90, 90, 90])\n",
    "struct_cls = DataFactory('structure')\n",
    "structure = struct_cls(ase=atoms)\n",
    "structure"
   ]
  },
  {
   "cell_type": "markdown",
   "metadata": {},
   "source": [
    "These structures can be visualised using standard ASE methods."
   ]
  },
  {
   "cell_type": "code",
   "execution_count": 8,
   "metadata": {},
   "outputs": [
    {
     "data": {
      "image/png": "[encoded data removed]",
      "text/plain": [
       "<Figure size 432x288 with 1 Axes>"
      ]
     },
     "metadata": {
      "needs_background": "light"
     },
     "output_type": "display_data"
    }
   ],
   "source": [
    "%matplotlib inline\n",
    "import matplotlib.pyplot as plt\n",
    "from ase.visualize.plot import plot_atoms\n",
    "atoms = structure.get_ase()\n",
    "fig, ax = plt.subplots()\n",
    "plot_atoms(atoms.repeat((2,2,2)), \n",
    "           ax, radii=0.8, show_unit_cell=True, \n",
    "           rotation=('45x,0y,0z'));"
   ]
  },
  {
   "cell_type": "markdown",
   "metadata": {},
   "source": [
    "As default, one kind is created per atomic species\n",
    "(named as the atomic symbol):"
   ]
  },
  {
   "cell_type": "code",
   "execution_count": 9,
   "metadata": {},
   "outputs": [
    {
     "data": {
      "text/plain": [
       "['Mg', 'Mg', 'Mg', 'Mg', 'O1', 'O1', 'O1', 'O1']"
      ]
     },
     "execution_count": 9,
     "metadata": {},
     "output_type": "execute_result"
    }
   ],
   "source": [
    "structure.get_site_kindnames()"
   ]
  },
  {
   "cell_type": "markdown",
   "metadata": {},
   "source": [
    "However, we may want to specify more than one kind per species (for example to setup anti-ferromagnetic spin). We can achieve this by tagging the atoms:"
   ]
  },
  {
   "cell_type": "code",
   "execution_count": 10,
   "metadata": {},
   "outputs": [
    {
     "data": {
      "text/plain": [
       "['Mg1', 'Mg1', 'Mg2', 'Mg2', 'O', 'O', 'O', 'O']"
      ]
     },
     "execution_count": 10,
     "metadata": {},
     "output_type": "execute_result"
    }
   ],
   "source": [
    "atoms_afm = atoms.copy()\n",
    "atoms_afm.set_tags([1, 1, 2, 2, 0, 0, 0, 0])\n",
    "structure_afm = struct_cls(ase=atoms_afm)\n",
    "structure_afm.get_site_kindnames()"
   ]
  },
  {
   "cell_type": "markdown",
   "metadata": {},
   "source": [
    "### Inter-Atomic Potential"
   ]
  },
  {
   "cell_type": "markdown",
   "metadata": {},
   "source": [
    "Inter-atomic potentials are supplied in the form of a py:class:`~aiida.orm.nodes.data.dict.Dict` node with keys `pair_style` and `data`, with the form of the `data` dictated by the pair_style.\n",
    "Pair styles are created by sub-classing :py:class:`~aiida_crystal17.gulp.potentials.base.PotentialWriterAbstract` and adding an entry point to `gulp.potentials`. Available pair styles and data schema can be found by:"
   ]
  },
  {
   "cell_type": "code",
   "execution_count": 11,
   "metadata": {},
   "outputs": [
    {
     "name": "stdout",
     "output_type": "stream",
     "text": [
      "\u001b[22mRegistered entry points for gulp.potentials:\u001b[0m\r\n",
      "\u001b[22m* lj\u001b[0m\r\n",
      "\u001b[22m* reaxff\u001b[0m\r\n",
      "\u001b[22m\u001b[0m\r\n",
      "\u001b[34m\u001b[1mInfo: \u001b[0m\u001b[22mPass the entry point as an argument to display detailed information\u001b[0m\r\n"
     ]
    }
   ],
   "source": [
    "!verdi data gulp.potentials list"
   ]
  },
  {
   "cell_type": "code",
   "execution_count": 12,
   "metadata": {},
   "outputs": [
    {
     "name": "stdout",
     "output_type": "stream",
     "text": [
      "\u001b[1mLennard-Jones potential, of the form; E = A/r**m - B/r**n\u001b[0m\r\n",
      "\u001b[22mData Schema:\u001b[0m\r\n",
      "\u001b[22m\u001b[34m$id\u001b[0m: potential.base.schema\u001b[0m\r\n",
      "\u001b[22m\u001b[34m$schema\u001b[0m: http://json-schema.org/draft-07/schema\u001b[0m\r\n",
      "\u001b[22m\u001b[34mdescription\u001b[0m: a schema for storing an empirical potential\u001b[0m\r\n",
      "\u001b[22m\u001b[34mproperties\u001b[0m: \u001b[0m\r\n",
      "\u001b[22m  \u001b[34m2body\u001b[0m: \u001b[0m\r\n",
      "\u001b[22m    \u001b[34madditionalProperties\u001b[0m: False\u001b[0m\r\n",
      "\u001b[22m    \u001b[34mdescription\u001b[0m: parameters that depend on two species\u001b[0m\r\n",
      "\u001b[22m    \u001b[34mpatternProperties\u001b[0m: \u001b[0m\r\n",
      "\u001b[22m      \u001b[34m[0-9]+\\-[0-9]+\u001b[0m: \u001b[0m\r\n",
      "\u001b[22m        \u001b[34mdescription\u001b[0m: mapping of '<idx1>-<idx2>' to properties\u001b[0m\r\n",
      "\u001b[22m        \u001b[34mproperties\u001b[0m: \u001b[0m\r\n",
      "\u001b[22m          \u001b[34mlj_A\u001b[0m: \u001b[0m\r\n",
      "\u001b[22m            \u001b[34mdescription\u001b[0m: fist coefficient (in ev*Angs**m)\u001b[0m\r\n",
      "\u001b[22m            \u001b[34mtype\u001b[0m: number\u001b[0m\r\n",
      "\u001b[22m          \u001b[34mlj_B\u001b[0m: \u001b[0m\r\n",
      "\u001b[22m            \u001b[34mdescription\u001b[0m: second coefficient (in ev*Angs**m)\u001b[0m\r\n",
      "\u001b[22m            \u001b[34mtype\u001b[0m: number\u001b[0m\r\n",
      "\u001b[22m          \u001b[34mlj_m\u001b[0m: \u001b[0m\r\n",
      "\u001b[22m            \u001b[34mdefault\u001b[0m: 12\u001b[0m\r\n",
      "\u001b[22m            \u001b[34mdescription\u001b[0m: first exponent\u001b[0m\r\n",
      "\u001b[22m            \u001b[34mexclusiveMinimum\u001b[0m: 0\u001b[0m\r\n",
      "\u001b[22m            \u001b[34mtype\u001b[0m:    integer\u001b[0m\r\n",
      "\u001b[22m          \u001b[34mlj_n\u001b[0m: \u001b[0m\r\n",
      "\u001b[22m            \u001b[34mdefault\u001b[0m: 6\u001b[0m\r\n",
      "\u001b[22m            \u001b[34mdescription\u001b[0m: second exponent\u001b[0m\r\n",
      "\u001b[22m            \u001b[34mexclusiveMinimum\u001b[0m: 0\u001b[0m\r\n",
      "\u001b[22m            \u001b[34mtype\u001b[0m:    integer\u001b[0m\r\n",
      "\u001b[22m          \u001b[34mlj_rmax\u001b[0m: \u001b[0m\r\n",
      "\u001b[22m            \u001b[34mdescription\u001b[0m: maximum radius cut-off (Angs)\u001b[0m\r\n",
      "\u001b[22m            \u001b[34mexclusiveMinimum\u001b[0m: 0\u001b[0m\r\n",
      "\u001b[22m            \u001b[34mtype\u001b[0m:    number\u001b[0m\r\n",
      "\u001b[22m          \u001b[34mlj_rmin\u001b[0m: \u001b[0m\r\n",
      "\u001b[22m            \u001b[34mdefault\u001b[0m: 0\u001b[0m\r\n",
      "\u001b[22m            \u001b[34mdescription\u001b[0m: minimum radius cut-off (Angs)\u001b[0m\r\n",
      "\u001b[22m            \u001b[34mminimum\u001b[0m: 0\u001b[0m\r\n",
      "\u001b[22m            \u001b[34mtype\u001b[0m: number\u001b[0m\r\n",
      "\u001b[22m        \u001b[34mrequired\u001b[0m: [lj_A, lj_B, lj_rmax]\u001b[0m\r\n",
      "\u001b[22m        \u001b[34mtype\u001b[0m: object\u001b[0m\r\n",
      "\u001b[22m    \u001b[34mtype\u001b[0m:        object\u001b[0m\r\n",
      "\u001b[22m  \u001b[34mdescription\u001b[0m: \u001b[0m\r\n",
      "\u001b[22m    \u001b[34mtype\u001b[0m: string\u001b[0m\r\n",
      "\u001b[22m  \u001b[34mspecies\u001b[0m: \u001b[0m\r\n",
      "\u001b[22m    \u001b[34mdescription\u001b[0m: the list of species\u001b[0m\r\n",
      "\u001b[22m    \u001b[34mitems\u001b[0m: \u001b[0m\r\n",
      "\u001b[22m      \u001b[34mpattern\u001b[0m: ^[a-zA-Z]+ (core|shell)$\u001b[0m\r\n",
      "\u001b[22m      \u001b[34mtype\u001b[0m: string\u001b[0m\r\n",
      "\u001b[22m    \u001b[34mtype\u001b[0m: array\u001b[0m\r\n",
      "\u001b[22m    \u001b[34muniqueItems\u001b[0m: True\u001b[0m\r\n",
      "\u001b[22m\u001b[34mrequired\u001b[0m: [species, 2body]\u001b[0m\r\n",
      "\u001b[22m\u001b[34mtype\u001b[0m: object\u001b[0m\r\n"
     ]
    }
   ],
   "source": [
    "!verdi data gulp.potentials list lj -d 8"
   ]
  },
  {
   "cell_type": "code",
   "execution_count": 13,
   "metadata": {},
   "outputs": [
    {
     "name": "stdout",
     "output_type": "stream",
     "text": [
      "Number of fitted parameters: 2\n",
      "lennard 12 6\n",
      "H core  He core 1.00000000E+00 2.00000000E+00 12.00000\n"
     ]
    }
   ],
   "source": [
    "from aiida.plugins import load_entry_point\n",
    "writer = load_entry_point('gulp.potentials', 'lj')()\n",
    "data = {\n",
    "    \"species\": [\"H core\", \"He core\"],\n",
    "    \"2body\": {\n",
    "        \"0-1\": {\n",
    "            \"lj_A\": 1.0,\n",
    "            \"lj_B\": 2.0,\n",
    "            \"lj_rmax\": 12.0\n",
    "        }\n",
    "    }\n",
    "}\n",
    "content = writer.create_content(data)\n",
    "print(\"Number of fitted parameters:\", content.number_of_flags)\n",
    "print(content.content)"
   ]
  },
  {
   "cell_type": "markdown",
   "metadata": {},
   "source": [
    "ReaxFF data can be created from the standard LAMMPS style potential file, using"
   ]
  },
  {
   "cell_type": "code",
   "execution_count": 14,
   "metadata": {},
   "outputs": [
    {
     "name": "stdout",
     "output_type": "stream",
     "text": [
      "\u001b[34m1body\u001b[0m:\n",
      "  \u001b[34m0\u001b[0m: {...}\n",
      "  \u001b[34m1\u001b[0m: {...}\n",
      "\u001b[34m2body\u001b[0m:\n",
      "  \u001b[34m0-0\u001b[0m: {...}\n",
      "  \u001b[34m0-1\u001b[0m: {...}\n",
      "  \u001b[34m1-1\u001b[0m: {...}\n",
      "\u001b[34m3body\u001b[0m:\n",
      "  \u001b[34m0-0-1\u001b[0m: {...}\n",
      "  \u001b[34m0-1-0\u001b[0m: {...}\n",
      "  \u001b[34m0-1-1\u001b[0m: {...}\n",
      "  \u001b[34m1-0-1\u001b[0m: {...}\n",
      "  \u001b[34m1-1-1\u001b[0m: {...}\n",
      "\u001b[34m4body\u001b[0m:\n",
      "  \u001b[34m1-1-1-1\u001b[0m: {...}\n",
      "\u001b[34mdescription\u001b[0m: Reactive MD-force field: Cr/O/Fe/S/C/H force field 2014\n",
      "\u001b[34mglobal\u001b[0m:\n",
      "  \u001b[34mC2-correction\u001b[0m:           60.485\n",
      "  \u001b[34mLower Taper-radius\u001b[0m:      0.0\n",
      "  \u001b[34mNot used 2\u001b[0m:              6.1431\n",
      "  \u001b[34mNot used 3\u001b[0m:              -2.4837\n",
      "  \u001b[34mNot used 4\u001b[0m:              -1.2327\n",
      "  \u001b[34mNot used 5\u001b[0m:              0.5\n",
      "  \u001b[34mNot used 6\u001b[0m:              20.0\n",
      "  \u001b[34mNot used 7\u001b[0m:              5.0\n",
      "  \u001b[34mNot used 8\u001b[0m:              0.0\n",
      "  \u001b[34mTriple bond stabilisation\u001b[0m: 4.6\n",
      "  \u001b[34mTriple bond stabilisation 1\u001b[0m: 1.7224\n",
      "  \u001b[34mTriple bond stabilisation 2\u001b[0m: 6.8702\n",
      "  \u001b[34mTriple bond stabilization energy\u001b[0m: -70.5044\n",
      "  \u001b[34mUpper Taper-radius\u001b[0m:      10.0\n",
      "  \u001b[34mbond order cutoff\u001b[0m:       0.1\n",
      "  \u001b[34mreaxff0_boc1\u001b[0m:            50.0\n",
      "  \u001b[34mreaxff0_boc2\u001b[0m:            9.5469\n",
      "  \u001b[34mreaxff0_cot2\u001b[0m:            2.1645\n",
      "  \u001b[34mreaxff0_lp1\u001b[0m:             6.0891\n",
      "  \u001b[34mreaxff0_ovun3\u001b[0m:           50.0\n",
      "  \u001b[34mreaxff0_ovun4\u001b[0m:           0.6991\n",
      "  \u001b[34mreaxff0_ovun6\u001b[0m:           1.0588\n",
      "  \u001b[34mreaxff0_ovun7\u001b[0m:           12.1176\n",
      "  \u001b[34mreaxff0_ovun8\u001b[0m:           13.3056\n",
      "  \u001b[34mreaxff0_pen2\u001b[0m:            6.929\n",
      "  \u001b[34mreaxff0_pen3\u001b[0m:            0.3989\n",
      "  \u001b[34mreaxff0_pen4\u001b[0m:            3.9954\n",
      "  \u001b[34mreaxff0_tor2\u001b[0m:            5.7796\n",
      "  \u001b[34mreaxff0_tor3\u001b[0m:            10.0\n",
      "  \u001b[34mreaxff0_tor4\u001b[0m:            1.9487\n",
      "  \u001b[34mreaxff0_val7\u001b[0m:            33.8667\n",
      "  \u001b[34mreaxff0_val8\u001b[0m:            1.8512\n",
      "  \u001b[34mreaxff0_val9\u001b[0m:            1.0563\n",
      "  \u001b[34mreaxff0_val10\u001b[0m:           2.0384\n",
      "  \u001b[34mreaxff0_vdw1\u001b[0m:            1.5591\n",
      "  \u001b[34mreaxff2_pen2\u001b[0m:            2.8793\n",
      "  \u001b[34mreaxff2_pen3\u001b[0m:            1.0\n",
      "  \u001b[34mreaxff3_coa2\u001b[0m:            26.5405\n",
      "  \u001b[34mreaxff3_coa3\u001b[0m:            2.6962\n",
      "  \u001b[34mreaxff3_coa4\u001b[0m:            2.1365\n",
      "\u001b[34mspecies\u001b[0m: [Fe core, S core]\n"
     ]
    }
   ],
   "source": [
    "from aiida_crystal17.tests import read_resource_text\n",
    "from aiida_crystal17.gulp.potentials.raw_reaxff import read_lammps_format\n",
    "from aiida_crystal17.gulp.potentials.common import filter_by_species\n",
    "\n",
    "data = read_lammps_format(read_resource_text('gulp', 'potentials', 'FeCrOSCH.reaxff').splitlines())\n",
    "data = filter_by_species(data, [\"Fe core\", \"S core\"])\n",
    "\n",
    "edict.pprint(data, depth=2, keycolor='blue')"
   ]
  },
  {
   "cell_type": "markdown",
   "metadata": {},
   "source": [
    "## Setting Up and Running the Calculations"
   ]
  },
  {
   "cell_type": "markdown",
   "metadata": {},
   "source": [
    ".. seealso::\n",
    "\n",
    "    AiiDA documentation: :ref:`aiida:working_processes`"
   ]
  },
  {
   "cell_type": "code",
   "execution_count": 15,
   "metadata": {},
   "outputs": [
    {
     "data": {
      "text/plain": [
       "<StructureData: uuid: c1bfe430-3fed-4a13-90e9-50595cfb0230 (unstored)>"
      ]
     },
     "execution_count": 15,
     "metadata": {},
     "output_type": "execute_result"
    }
   ],
   "source": [
    "from aiida_crystal17.symmetry import convert_structure\n",
    "structure_data = {\n",
    "    \"lattice\": [[5.38, 0.000000, 0.000000],\n",
    "                [0.000000, 5.38, 0.000000],\n",
    "                [0.000000, 0.000000, 5.38]],\n",
    "    \"fcoords\": [[0.0, 0.0, 0.0], [0.5, 0.0, 0.5], [0.0, 0.5, 0.5],\n",
    "                [0.5, 0.5, 0.0], [0.338, 0.338, 0.338],\n",
    "                [0.662, 0.662, 0.662], [0.162, 0.662, 0.838],\n",
    "                [0.838, 0.338, 0.162], [0.662, 0.838, 0.162],\n",
    "                [0.338, 0.162, 0.838], [0.838, 0.162, 0.662],\n",
    "                [0.162, 0.838, 0.338]],\n",
    "    \"symbols\": ['Fe'] * 4 + ['S'] * 8,\n",
    "    \"pbc\": [True, True, True]\n",
    "}\n",
    "structure = convert_structure(structure_data, \"aiida\")\n",
    "structure"
   ]
  },
  {
   "cell_type": "code",
   "execution_count": 16,
   "metadata": {},
   "outputs": [
    {
     "data": {
      "text/plain": [
       "{'pair_style': 'lj',\n",
       " 'description': 'Lennard-Jones potential, of the form; E = A/r**m - B/r**n',\n",
       " 'species': ['Fe core', 'S core'],\n",
       " 'input_lines_md5': '35449283e18a3393ba70f925a16ba6a5',\n",
       " 'fitting_flags': False,\n",
       " 'total_flags': 6,\n",
       " 'number_flagged': 0,\n",
       " 'potential_filename': 'potential.pot',\n",
       " 'potential_json': 'potential.json',\n",
       " 'fitting_json': 'fitting.json'}"
      ]
     },
     "execution_count": 16,
     "metadata": {},
     "output_type": "execute_result"
    }
   ],
   "source": [
    "potential_data = {\n",
    "    \"species\": [\"Fe core\", \"S core\"],\n",
    "    \"2body\": {\n",
    "        \"0-0\": {\n",
    "            \"lj_A\": 1.0,\n",
    "            \"lj_B\": 1.0,\n",
    "            \"lj_rmax\": 12.0\n",
    "        },\n",
    "        \"0-1\": {\n",
    "            \"lj_A\": 1.0,\n",
    "            \"lj_B\": 1.0,\n",
    "            \"lj_rmax\": 12.0\n",
    "        },\n",
    "        \"1-1\": {\n",
    "            \"lj_A\": 1.0,\n",
    "            \"lj_B\": 1.0,\n",
    "            \"lj_rmax\": 12.0\n",
    "        }\n",
    "    }\n",
    "}\n",
    "potential_lj = DataFactory('gulp.potential')(\n",
    "    pair_style=\"lj\", potential_data=potential_data)\n",
    "potential_lj.attributes"
   ]
  },
  {
   "cell_type": "markdown",
   "metadata": {},
   "source": [
    "### gulp.single"
   ]
  },
  {
   "cell_type": "code",
   "execution_count": 17,
   "metadata": {},
   "outputs": [],
   "source": [
    "code_single = Code.objects.get(\n",
    "    label=\"gulp.single-mock_gulp@localhost\")\n",
    "builder = code_single.get_builder()\n",
    "builder.metadata.options = {\n",
    "    \"resources\": {\n",
    "        \"num_machines\": 1, \n",
    "        \"num_mpiprocs_per_machine\": 1}}\n",
    "builder.structure = structure\n",
    "builder.potential = potential_lj"
   ]
  },
  {
   "cell_type": "code",
   "execution_count": 18,
   "metadata": {},
   "outputs": [
    {
     "data": {
      "text/plain": [
       "<CalcJobNode: uuid: dd55a58a-f4cc-4596-8db8-f5e2404046d0 (pk: 5) (aiida.calculations:gulp.single)>"
      ]
     },
     "execution_count": 18,
     "metadata": {},
     "output_type": "execute_result"
    }
   ],
   "source": [
    "result, calcnode = run_get_node(builder)\n",
    "calcnode"
   ]
  },
  {
   "cell_type": "code",
   "execution_count": 19,
   "metadata": {},
   "outputs": [
    {
     "name": "stdout",
     "output_type": "stream",
     "text": [
      "True\n",
      "ProcessState.FINISHED\n",
      "0\n"
     ]
    }
   ],
   "source": [
    "print(calcnode.is_finished_ok)\n",
    "print(calcnode.process_state)\n",
    "print(calcnode.exit_status)"
   ]
  },
  {
   "cell_type": "code",
   "execution_count": 20,
   "metadata": {
    "ipub": {
     "figure": {
      "caption": "`gulp.single` calculation provenance graph."
     }
    }
   },
   "outputs": [
    {
     "data": {
      "image/svg+xml": [
       "<?xml version=\"1.0\" encoding=\"UTF-8\" standalone=\"no\"?>\n",
       "<!DOCTYPE svg PUBLIC \"-//W3C//DTD SVG 1.1//EN\"\n",
       " \"http://www.w3.org/Graphics/SVG/1.1/DTD/svg11.dtd\">\n",
       "<!-- Generated by graphviz version 2.40.1 (20161225.0304)\n",
       " -->\n",
       "<!-- Title: %3 Pages: 1 -->\n",
       "<svg width=\"432pt\" height=\"112pt\"\n",
       " viewBox=\"0.00 0.00 432.00 111.92\" xmlns=\"http://www.w3.org/2000/svg\" xmlns:xlink=\"http://www.w3.org/1999/xlink\">\n",
       "<g id=\"graph0\" class=\"graph\" transform=\"scale(.5684 .5684) rotate(0) translate(4 192.9117)\">\n",
       "<title>%3</title>\n",
       "<polygon fill=\"#ffffff\" stroke=\"transparent\" points=\"-4,4 -4,-192.9117 756.0438,-192.9117 756.0438,4 -4,4\"/>\n",
       "<!-- N5 -->\n",
       "<g id=\"node1\" class=\"node\">\n",
       "<title>N5</title>\n",
       "<polygon fill=\"#de707f\" stroke=\"#000000\" stroke-width=\"0\" points=\"487.1984,-119.4558 322.9151,-119.4558 322.9151,-69.4558 487.1984,-69.4558 487.1984,-119.4558\"/>\n",
       "<text text-anchor=\"middle\" x=\"405.0568\" y=\"-104.2558\" font-family=\"Times,serif\" font-size=\"14.00\" fill=\"#000000\">GulpSingleCalculation (5)</text>\n",
       "<text text-anchor=\"middle\" x=\"405.0568\" y=\"-90.2558\" font-family=\"Times,serif\" font-size=\"14.00\" fill=\"#000000\">State: finished</text>\n",
       "<text text-anchor=\"middle\" x=\"405.0568\" y=\"-76.2558\" font-family=\"Times,serif\" font-size=\"14.00\" fill=\"#000000\">Exit Code: 0</text>\n",
       "</g>\n",
       "<!-- N8 -->\n",
       "<g id=\"node5\" class=\"node\">\n",
       "<title>N8</title>\n",
       "<ellipse fill=\"#8cd499\" stroke=\"#000000\" stroke-width=\"0\" cx=\"677.2341\" cy=\"-148.4558\" rx=\"37.7104\" ry=\"18\"/>\n",
       "<text text-anchor=\"middle\" x=\"677.2341\" y=\"-144.2558\" font-family=\"Times,serif\" font-size=\"14.00\" fill=\"#000000\">Dict (8)</text>\n",
       "</g>\n",
       "<!-- N5&#45;&gt;N8 -->\n",
       "<g id=\"edge4\" class=\"edge\">\n",
       "<title>N5&#45;&gt;N8</title>\n",
       "<path fill=\"none\" stroke=\"#000000\" d=\"M478.1442,-119.5121C487.1659,-122.1046 496.3131,-124.5003 505.1276,-126.4558 546.5695,-135.6499 594.5382,-141.3883 629.2902,-144.6895\"/>\n",
       "<polygon fill=\"#000000\" stroke=\"#000000\" points=\"629.3514,-148.2097 639.6291,-145.6369 629.9902,-141.2389 629.3514,-148.2097\"/>\n",
       "<text text-anchor=\"middle\" x=\"544.776\" y=\"-155.2558\" font-family=\"Times,serif\" font-size=\"14.00\" fill=\"#000000\">CREATE</text>\n",
       "<text text-anchor=\"middle\" x=\"544.776\" y=\"-141.2558\" font-family=\"Times,serif\" font-size=\"14.00\" fill=\"#000000\">results</text>\n",
       "</g>\n",
       "<!-- N7 -->\n",
       "<g id=\"node6\" class=\"node\">\n",
       "<title>N7</title>\n",
       "<ellipse fill=\"#8cd499\" stroke=\"#000000\" stroke-width=\"0\" cx=\"677.2341\" cy=\"-94.4558\" rx=\"62.324\" ry=\"18\"/>\n",
       "<text text-anchor=\"middle\" x=\"677.2341\" y=\"-90.2558\" font-family=\"Times,serif\" font-size=\"14.00\" fill=\"#000000\">FolderData (7)</text>\n",
       "</g>\n",
       "<!-- N5&#45;&gt;N7 -->\n",
       "<g id=\"edge5\" class=\"edge\">\n",
       "<title>N5&#45;&gt;N7</title>\n",
       "<path fill=\"none\" stroke=\"#000000\" d=\"M487.4576,-94.4558C524.6254,-94.4558 568.1562,-94.4558 604.1446,-94.4558\"/>\n",
       "<polygon fill=\"#000000\" stroke=\"#000000\" points=\"604.5683,-97.9559 614.5683,-94.4558 604.5682,-90.9559 604.5683,-97.9559\"/>\n",
       "<text text-anchor=\"middle\" x=\"544.776\" y=\"-111.2558\" font-family=\"Times,serif\" font-size=\"14.00\" fill=\"#000000\">CREATE</text>\n",
       "<text text-anchor=\"middle\" x=\"544.776\" y=\"-97.2558\" font-family=\"Times,serif\" font-size=\"14.00\" fill=\"#000000\">retrieved</text>\n",
       "</g>\n",
       "<!-- N6 -->\n",
       "<g id=\"node7\" class=\"node\">\n",
       "<title>N6</title>\n",
       "<ellipse fill=\"#8cd499\" stroke=\"#000000\" stroke-width=\"0\" cx=\"677.2341\" cy=\"-33.4558\" rx=\"74.6199\" ry=\"25.4118\"/>\n",
       "<text text-anchor=\"middle\" x=\"677.2341\" y=\"-36.2558\" font-family=\"Times,serif\" font-size=\"14.00\" fill=\"#000000\">RemoteData (6)</text>\n",
       "<text text-anchor=\"middle\" x=\"677.2341\" y=\"-22.2558\" font-family=\"Times,serif\" font-size=\"14.00\" fill=\"#000000\">@localhost</text>\n",
       "</g>\n",
       "<!-- N5&#45;&gt;N6 -->\n",
       "<g id=\"edge6\" class=\"edge\">\n",
       "<title>N5&#45;&gt;N6</title>\n",
       "<path fill=\"none\" stroke=\"#000000\" d=\"M479.3159,-69.4205C487.968,-66.8877 496.7082,-64.5003 505.1276,-62.4558 535.023,-55.1965 568.2762,-49.1338 597.5215,-44.4604\"/>\n",
       "<polygon fill=\"#000000\" stroke=\"#000000\" points=\"598.3501,-47.8733 607.6867,-42.8656 597.2651,-40.9579 598.3501,-47.8733\"/>\n",
       "<text text-anchor=\"middle\" x=\"544.776\" y=\"-79.2558\" font-family=\"Times,serif\" font-size=\"14.00\" fill=\"#000000\">CREATE</text>\n",
       "<text text-anchor=\"middle\" x=\"544.776\" y=\"-65.2558\" font-family=\"Times,serif\" font-size=\"14.00\" fill=\"#000000\">remote_folder</text>\n",
       "</g>\n",
       "<!-- N4 -->\n",
       "<g id=\"node2\" class=\"node\">\n",
       "<title>N4</title>\n",
       "<ellipse fill=\"#8cd499\" stroke=\"#000000\" stroke-width=\"0\" cx=\"100.7137\" cy=\"-163.4558\" rx=\"99.6169\" ry=\"25.4118\"/>\n",
       "<text text-anchor=\"middle\" x=\"100.7137\" y=\"-166.2558\" font-family=\"Times,serif\" font-size=\"14.00\" fill=\"#000000\">EmpiricalPotential (4)</text>\n",
       "<text text-anchor=\"middle\" x=\"100.7137\" y=\"-152.2558\" font-family=\"Times,serif\" font-size=\"14.00\" fill=\"#000000\">lj</text>\n",
       "</g>\n",
       "<!-- N4&#45;&gt;N5 -->\n",
       "<g id=\"edge1\" class=\"edge\">\n",
       "<title>N4&#45;&gt;N5</title>\n",
       "<path fill=\"none\" stroke=\"#000000\" d=\"M186.7168,-150.4377C223.3939,-144.2268 266.5185,-136.0467 304.986,-126.4558 310.1848,-125.1596 315.5082,-123.7396 320.859,-122.2411\"/>\n",
       "<polygon fill=\"#000000\" stroke=\"#000000\" points=\"321.8559,-125.5964 330.4993,-119.4691 319.9214,-118.869 321.8559,-125.5964\"/>\n",
       "<text text-anchor=\"middle\" x=\"262.2067\" y=\"-160.2558\" font-family=\"Times,serif\" font-size=\"14.00\" fill=\"#000000\">INPUT_CALC</text>\n",
       "<text text-anchor=\"middle\" x=\"262.2067\" y=\"-146.2558\" font-family=\"Times,serif\" font-size=\"14.00\" fill=\"#000000\">potential</text>\n",
       "</g>\n",
       "<!-- N3 -->\n",
       "<g id=\"node3\" class=\"node\">\n",
       "<title>N3</title>\n",
       "<ellipse fill=\"#8cd499\" stroke=\"#000000\" stroke-width=\"0\" cx=\"100.7137\" cy=\"-94.4558\" rx=\"80.1118\" ry=\"25.4118\"/>\n",
       "<text text-anchor=\"middle\" x=\"100.7137\" y=\"-97.2558\" font-family=\"Times,serif\" font-size=\"14.00\" fill=\"#000000\">StructureData (3)</text>\n",
       "<text text-anchor=\"middle\" x=\"100.7137\" y=\"-83.2558\" font-family=\"Times,serif\" font-size=\"14.00\" fill=\"#000000\">Fe4S8</text>\n",
       "</g>\n",
       "<!-- N3&#45;&gt;N5 -->\n",
       "<g id=\"edge2\" class=\"edge\">\n",
       "<title>N3&#45;&gt;N5</title>\n",
       "<path fill=\"none\" stroke=\"#000000\" d=\"M181.0744,-94.4558C221.504,-94.4558 270.7086,-94.4558 312.6909,-94.4558\"/>\n",
       "<polygon fill=\"#000000\" stroke=\"#000000\" points=\"312.9192,-97.9559 322.9192,-94.4558 312.9192,-90.9559 312.9192,-97.9559\"/>\n",
       "<text text-anchor=\"middle\" x=\"262.2067\" y=\"-111.2558\" font-family=\"Times,serif\" font-size=\"14.00\" fill=\"#000000\">INPUT_CALC</text>\n",
       "<text text-anchor=\"middle\" x=\"262.2067\" y=\"-97.2558\" font-family=\"Times,serif\" font-size=\"14.00\" fill=\"#000000\">structure</text>\n",
       "</g>\n",
       "<!-- N1 -->\n",
       "<g id=\"node4\" class=\"node\">\n",
       "<title>N1</title>\n",
       "<ellipse fill=\"#4ca4b9\" fill-opacity=\"0.666667\" stroke=\"#000000\" stroke-width=\"0\" cx=\"100.7137\" cy=\"-25.4558\" rx=\"100.9278\" ry=\"25.4118\"/>\n",
       "<text text-anchor=\"middle\" x=\"100.7137\" y=\"-28.2558\" font-family=\"Times,serif\" font-size=\"14.00\" fill=\"#000000\">Code (1)</text>\n",
       "<text text-anchor=\"middle\" x=\"100.7137\" y=\"-14.2558\" font-family=\"Times,serif\" font-size=\"14.00\" fill=\"#000000\">mock_gulp@localhost</text>\n",
       "</g>\n",
       "<!-- N1&#45;&gt;N5 -->\n",
       "<g id=\"edge3\" class=\"edge\">\n",
       "<title>N1&#45;&gt;N5</title>\n",
       "<path fill=\"none\" stroke=\"#000000\" d=\"M187.2173,-38.5588C223.7859,-44.7593 266.6933,-52.9085 304.986,-62.4558 310.1848,-63.752 315.5082,-65.1721 320.859,-66.6706\"/>\n",
       "<polygon fill=\"#000000\" stroke=\"#000000\" points=\"319.9214,-70.0427 330.4993,-69.4426 321.8559,-63.3153 319.9214,-70.0427\"/>\n",
       "<text text-anchor=\"middle\" x=\"262.2067\" y=\"-79.2558\" font-family=\"Times,serif\" font-size=\"14.00\" fill=\"#000000\">INPUT_CALC</text>\n",
       "<text text-anchor=\"middle\" x=\"262.2067\" y=\"-65.2558\" font-family=\"Times,serif\" font-size=\"14.00\" fill=\"#000000\">code</text>\n",
       "</g>\n",
       "</g>\n",
       "</svg>\n"
      ],
      "text/plain": [
       "<graphviz.dot.Digraph at 0x118cde9e8>"
      ]
     },
     "execution_count": 20,
     "metadata": {},
     "output_type": "execute_result"
    }
   ],
   "source": [
    "graph = Graph(graph_attr={'size': \"6,8!\", \"rankdir\": \"LR\"})\n",
    "graph.add_node(calcnode)\n",
    "graph.add_incoming(calcnode, annotate_links=\"both\")\n",
    "graph.add_outgoing(calcnode, annotate_links=\"both\")\n",
    "graph.graphviz"
   ]
  },
  {
   "cell_type": "markdown",
   "metadata": {},
   "source": [
    "### gulp.optimize"
   ]
  },
  {
   "cell_type": "code",
   "execution_count": 21,
   "metadata": {},
   "outputs": [
    {
     "data": {
      "text/plain": [
       "<Dict: uuid: 72dad977-2bbb-462c-89f2-dfe3ef075aa8 (unstored)>"
      ]
     },
     "execution_count": 21,
     "metadata": {},
     "output_type": "execute_result"
    }
   ],
   "source": [
    "opt_dict={\n",
    "    \"minimize\": {\"style\": \"cg\", \"max_iterations\": 100},\n",
    "    \"relax\": {\"type\": \"conp\"}}\n",
    "opt_params = DataFactory('dict')(dict=opt_dict)\n",
    "opt_params"
   ]
  },
  {
   "cell_type": "code",
   "execution_count": 22,
   "metadata": {},
   "outputs": [],
   "source": [
    "code_opt = Code.objects.get(\n",
    "    label=\"gulp.optimize-mock_gulp@localhost\")\n",
    "builder_opt = code_opt.get_builder()\n",
    "builder_opt.metadata.options = {\n",
    "    \"resources\": {\n",
    "        \"num_machines\": 1, \n",
    "        \"num_mpiprocs_per_machine\": 1}}\n",
    "builder_opt.structure = structure\n",
    "builder_opt.potential = potential_lj\n",
    "builder_opt.parameters = opt_params"
   ]
  },
  {
   "cell_type": "code",
   "execution_count": 23,
   "metadata": {},
   "outputs": [
    {
     "data": {
      "text/plain": [
       "<CalcJobNode: uuid: 1d2c3a42-f732-494d-8e01-1f4ed9b59bfb (pk: 10) (aiida.calculations:gulp.optimize)>"
      ]
     },
     "execution_count": 23,
     "metadata": {},
     "output_type": "execute_result"
    }
   ],
   "source": [
    "result, calcnode_opt = run_get_node(builder_opt)\n",
    "calcnode_opt"
   ]
  },
  {
   "cell_type": "code",
   "execution_count": 24,
   "metadata": {},
   "outputs": [
    {
     "name": "stdout",
     "output_type": "stream",
     "text": [
      "True\n",
      "ProcessState.FINISHED\n",
      "0\n"
     ]
    }
   ],
   "source": [
    "print(calcnode_opt.is_finished_ok)\n",
    "print(calcnode_opt.process_state)\n",
    "print(calcnode_opt.exit_status)"
   ]
  },
  {
   "cell_type": "code",
   "execution_count": 25,
   "metadata": {
    "ipub": {
     "figure": {
      "caption": "`gulp.optimize` calculation provenance graph."
     }
    }
   },
   "outputs": [
    {
     "data": {
      "image/svg+xml": [
       "<?xml version=\"1.0\" encoding=\"UTF-8\" standalone=\"no\"?>\n",
       "<!DOCTYPE svg PUBLIC \"-//W3C//DTD SVG 1.1//EN\"\n",
       " \"http://www.w3.org/Graphics/SVG/1.1/DTD/svg11.dtd\">\n",
       "<!-- Generated by graphviz version 2.40.1 (20161225.0304)\n",
       " -->\n",
       "<!-- Title: %3 Pages: 1 -->\n",
       "<svg width=\"432pt\" height=\"140pt\"\n",
       " viewBox=\"0.00 0.00 432.00 139.94\" xmlns=\"http://www.w3.org/2000/svg\" xmlns:xlink=\"http://www.w3.org/1999/xlink\">\n",
       "<g id=\"graph0\" class=\"graph\" transform=\"scale(.5587 .5587) rotate(0) translate(4 246.4558)\">\n",
       "<title>%3</title>\n",
       "<polygon fill=\"#ffffff\" stroke=\"transparent\" points=\"-4,4 -4,-246.4558 769.1559,-246.4558 769.1559,4 -4,4\"/>\n",
       "<!-- N10 -->\n",
       "<g id=\"node1\" class=\"node\">\n",
       "<title>N10</title>\n",
       "<polygon fill=\"#de707f\" stroke=\"#000000\" stroke-width=\"0\" points=\"479.5298,-153.4558 322.8044,-153.4558 322.8044,-103.4558 479.5298,-103.4558 479.5298,-153.4558\"/>\n",
       "<text text-anchor=\"middle\" x=\"401.1671\" y=\"-138.2558\" font-family=\"Times,serif\" font-size=\"14.00\" fill=\"#000000\">GulpOptCalculation (10)</text>\n",
       "<text text-anchor=\"middle\" x=\"401.1671\" y=\"-124.2558\" font-family=\"Times,serif\" font-size=\"14.00\" fill=\"#000000\">State: finished</text>\n",
       "<text text-anchor=\"middle\" x=\"401.1671\" y=\"-110.2558\" font-family=\"Times,serif\" font-size=\"14.00\" fill=\"#000000\">Exit Code: 0</text>\n",
       "</g>\n",
       "<!-- N14 -->\n",
       "<g id=\"node6\" class=\"node\">\n",
       "<title>N14</title>\n",
       "<ellipse fill=\"#8cd499\" stroke=\"#000000\" stroke-width=\"0\" cx=\"679.9005\" cy=\"-216.4558\" rx=\"85.0115\" ry=\"25.4118\"/>\n",
       "<text text-anchor=\"middle\" x=\"679.9005\" y=\"-219.2558\" font-family=\"Times,serif\" font-size=\"14.00\" fill=\"#000000\">StructureData (14)</text>\n",
       "<text text-anchor=\"middle\" x=\"679.9005\" y=\"-205.2558\" font-family=\"Times,serif\" font-size=\"14.00\" fill=\"#000000\">Fe4S8</text>\n",
       "</g>\n",
       "<!-- N10&#45;&gt;N14 -->\n",
       "<g id=\"edge5\" class=\"edge\">\n",
       "<title>N10&#45;&gt;N14</title>\n",
       "<path fill=\"none\" stroke=\"#000000\" d=\"M445.6633,-153.5342C461.595,-161.7351 479.9262,-170.3067 497.3483,-176.4558 528.4066,-187.4179 563.5383,-195.9759 594.6291,-202.3127\"/>\n",
       "<polygon fill=\"#000000\" stroke=\"#000000\" points=\"594.0803,-205.7721 604.5713,-204.2923 595.4473,-198.9069 594.0803,-205.7721\"/>\n",
       "<text text-anchor=\"middle\" x=\"536.9967\" y=\"-214.2558\" font-family=\"Times,serif\" font-size=\"14.00\" fill=\"#000000\">CREATE</text>\n",
       "<text text-anchor=\"middle\" x=\"536.9967\" y=\"-200.2558\" font-family=\"Times,serif\" font-size=\"14.00\" fill=\"#000000\">structure</text>\n",
       "</g>\n",
       "<!-- N13 -->\n",
       "<g id=\"node7\" class=\"node\">\n",
       "<title>N13</title>\n",
       "<ellipse fill=\"#8cd499\" stroke=\"#000000\" stroke-width=\"0\" cx=\"679.9005\" cy=\"-155.4558\" rx=\"42.0545\" ry=\"18\"/>\n",
       "<text text-anchor=\"middle\" x=\"679.9005\" y=\"-151.2558\" font-family=\"Times,serif\" font-size=\"14.00\" fill=\"#000000\">Dict (13)</text>\n",
       "</g>\n",
       "<!-- N10&#45;&gt;N13 -->\n",
       "<g id=\"edge6\" class=\"edge\">\n",
       "<title>N10&#45;&gt;N13</title>\n",
       "<path fill=\"none\" stroke=\"#000000\" d=\"M479.5517,-136.0487C527.2011,-140.6643 586.6974,-146.4276 628.4288,-150.4699\"/>\n",
       "<polygon fill=\"#000000\" stroke=\"#000000\" points=\"628.3468,-153.9783 638.6377,-151.4588 629.0218,-147.0109 628.3468,-153.9783\"/>\n",
       "<text text-anchor=\"middle\" x=\"536.9967\" y=\"-161.2558\" font-family=\"Times,serif\" font-size=\"14.00\" fill=\"#000000\">CREATE</text>\n",
       "<text text-anchor=\"middle\" x=\"536.9967\" y=\"-147.2558\" font-family=\"Times,serif\" font-size=\"14.00\" fill=\"#000000\">results</text>\n",
       "</g>\n",
       "<!-- N12 -->\n",
       "<g id=\"node8\" class=\"node\">\n",
       "<title>N12</title>\n",
       "<ellipse fill=\"#8cd499\" stroke=\"#000000\" stroke-width=\"0\" cx=\"679.9005\" cy=\"-101.4558\" rx=\"66.6678\" ry=\"18\"/>\n",
       "<text text-anchor=\"middle\" x=\"679.9005\" y=\"-97.2558\" font-family=\"Times,serif\" font-size=\"14.00\" fill=\"#000000\">FolderData (12)</text>\n",
       "</g>\n",
       "<!-- N10&#45;&gt;N12 -->\n",
       "<g id=\"edge7\" class=\"edge\">\n",
       "<title>N10&#45;&gt;N12</title>\n",
       "<path fill=\"none\" stroke=\"#000000\" d=\"M479.385,-108.2987C485.4357,-107.1852 491.4737,-106.2138 497.3483,-105.4558 531.8175,-101.0084 570.2446,-99.6367 602.9175,-99.522\"/>\n",
       "<polygon fill=\"#000000\" stroke=\"#000000\" points=\"603.3095,-103.022 613.3111,-99.5266 603.3127,-96.022 603.3095,-103.022\"/>\n",
       "<text text-anchor=\"middle\" x=\"536.9967\" y=\"-122.2558\" font-family=\"Times,serif\" font-size=\"14.00\" fill=\"#000000\">CREATE</text>\n",
       "<text text-anchor=\"middle\" x=\"536.9967\" y=\"-108.2558\" font-family=\"Times,serif\" font-size=\"14.00\" fill=\"#000000\">retrieved</text>\n",
       "</g>\n",
       "<!-- N11 -->\n",
       "<g id=\"node9\" class=\"node\">\n",
       "<title>N11</title>\n",
       "<ellipse fill=\"#8cd499\" stroke=\"#000000\" stroke-width=\"0\" cx=\"679.9005\" cy=\"-40.4558\" rx=\"79.2939\" ry=\"25.4118\"/>\n",
       "<text text-anchor=\"middle\" x=\"679.9005\" y=\"-43.2558\" font-family=\"Times,serif\" font-size=\"14.00\" fill=\"#000000\">RemoteData (11)</text>\n",
       "<text text-anchor=\"middle\" x=\"679.9005\" y=\"-29.2558\" font-family=\"Times,serif\" font-size=\"14.00\" fill=\"#000000\">@localhost</text>\n",
       "</g>\n",
       "<!-- N10&#45;&gt;N11 -->\n",
       "<g id=\"edge8\" class=\"edge\">\n",
       "<title>N10&#45;&gt;N11</title>\n",
       "<path fill=\"none\" stroke=\"#000000\" d=\"M433.1812,-103.3429C451.0829,-90.5806 474.367,-76.0018 497.3483,-67.4558 526.8903,-56.4702 560.6862,-49.9405 591.1038,-46.0645\"/>\n",
       "<polygon fill=\"#000000\" stroke=\"#000000\" points=\"591.7645,-49.5105 601.2788,-44.8491 590.9342,-42.5599 591.7645,-49.5105\"/>\n",
       "<text text-anchor=\"middle\" x=\"536.9967\" y=\"-84.2558\" font-family=\"Times,serif\" font-size=\"14.00\" fill=\"#000000\">CREATE</text>\n",
       "<text text-anchor=\"middle\" x=\"536.9967\" y=\"-70.2558\" font-family=\"Times,serif\" font-size=\"14.00\" fill=\"#000000\">remote_folder</text>\n",
       "</g>\n",
       "<!-- N9 -->\n",
       "<g id=\"node2\" class=\"node\">\n",
       "<title>N9</title>\n",
       "<ellipse fill=\"#8cd499\" stroke=\"#000000\" stroke-width=\"0\" cx=\"100.7137\" cy=\"-224.4558\" rx=\"37.7104\" ry=\"18\"/>\n",
       "<text text-anchor=\"middle\" x=\"100.7137\" y=\"-220.2558\" font-family=\"Times,serif\" font-size=\"14.00\" fill=\"#000000\">Dict (9)</text>\n",
       "</g>\n",
       "<!-- N9&#45;&gt;N10 -->\n",
       "<g id=\"edge1\" class=\"edge\">\n",
       "<title>N9&#45;&gt;N10</title>\n",
       "<path fill=\"none\" stroke=\"#000000\" d=\"M137.825,-220.3243C179.5036,-214.8909 248.6776,-203.4696 304.986,-182.4558 321.6335,-176.2432 338.8488,-167.4399 354.0332,-158.7401\"/>\n",
       "<polygon fill=\"#000000\" stroke=\"#000000\" points=\"355.861,-161.7258 362.7193,-153.6502 352.3219,-155.6863 355.861,-161.7258\"/>\n",
       "<text text-anchor=\"middle\" x=\"262.2067\" y=\"-222.2558\" font-family=\"Times,serif\" font-size=\"14.00\" fill=\"#000000\">INPUT_CALC</text>\n",
       "<text text-anchor=\"middle\" x=\"262.2067\" y=\"-208.2558\" font-family=\"Times,serif\" font-size=\"14.00\" fill=\"#000000\">parameters</text>\n",
       "</g>\n",
       "<!-- N4 -->\n",
       "<g id=\"node3\" class=\"node\">\n",
       "<title>N4</title>\n",
       "<ellipse fill=\"#8cd499\" stroke=\"#000000\" stroke-width=\"0\" cx=\"100.7137\" cy=\"-163.4558\" rx=\"99.6169\" ry=\"25.4118\"/>\n",
       "<text text-anchor=\"middle\" x=\"100.7137\" y=\"-166.2558\" font-family=\"Times,serif\" font-size=\"14.00\" fill=\"#000000\">EmpiricalPotential (4)</text>\n",
       "<text text-anchor=\"middle\" x=\"100.7137\" y=\"-152.2558\" font-family=\"Times,serif\" font-size=\"14.00\" fill=\"#000000\">lj</text>\n",
       "</g>\n",
       "<!-- N4&#45;&gt;N10 -->\n",
       "<g id=\"edge2\" class=\"edge\">\n",
       "<title>N4&#45;&gt;N10</title>\n",
       "<path fill=\"none\" stroke=\"#000000\" d=\"M193.3102,-154.019C228.3237,-150.3099 268.5147,-145.8837 304.986,-141.4558 307.6388,-141.1338 310.3321,-140.8017 313.0506,-140.4621\"/>\n",
       "<polygon fill=\"#000000\" stroke=\"#000000\" points=\"313.4965,-143.9337 322.9771,-139.2042 312.6164,-136.9892 313.4965,-143.9337\"/>\n",
       "<text text-anchor=\"middle\" x=\"262.2067\" y=\"-167.2558\" font-family=\"Times,serif\" font-size=\"14.00\" fill=\"#000000\">INPUT_CALC</text>\n",
       "<text text-anchor=\"middle\" x=\"262.2067\" y=\"-153.2558\" font-family=\"Times,serif\" font-size=\"14.00\" fill=\"#000000\">potential</text>\n",
       "</g>\n",
       "<!-- N3 -->\n",
       "<g id=\"node4\" class=\"node\">\n",
       "<title>N3</title>\n",
       "<ellipse fill=\"#8cd499\" stroke=\"#000000\" stroke-width=\"0\" cx=\"100.7137\" cy=\"-94.4558\" rx=\"80.1118\" ry=\"25.4118\"/>\n",
       "<text text-anchor=\"middle\" x=\"100.7137\" y=\"-97.2558\" font-family=\"Times,serif\" font-size=\"14.00\" fill=\"#000000\">StructureData (3)</text>\n",
       "<text text-anchor=\"middle\" x=\"100.7137\" y=\"-83.2558\" font-family=\"Times,serif\" font-size=\"14.00\" fill=\"#000000\">Fe4S8</text>\n",
       "</g>\n",
       "<!-- N3&#45;&gt;N10 -->\n",
       "<g id=\"edge3\" class=\"edge\">\n",
       "<title>N3&#45;&gt;N10</title>\n",
       "<path fill=\"none\" stroke=\"#000000\" d=\"M178.9219,-100.587C217.0158,-103.8647 263.4559,-108.291 304.986,-113.4558 307.5173,-113.7706 310.0845,-114.1005 312.6745,-114.4425\"/>\n",
       "<polygon fill=\"#000000\" stroke=\"#000000\" points=\"312.3691,-117.9331 322.7501,-115.8157 313.3145,-110.9972 312.3691,-117.9331\"/>\n",
       "<text text-anchor=\"middle\" x=\"262.2067\" y=\"-130.2558\" font-family=\"Times,serif\" font-size=\"14.00\" fill=\"#000000\">INPUT_CALC</text>\n",
       "<text text-anchor=\"middle\" x=\"262.2067\" y=\"-116.2558\" font-family=\"Times,serif\" font-size=\"14.00\" fill=\"#000000\">structure</text>\n",
       "</g>\n",
       "<!-- N2 -->\n",
       "<g id=\"node5\" class=\"node\">\n",
       "<title>N2</title>\n",
       "<ellipse fill=\"#4ca4b9\" fill-opacity=\"0.666667\" stroke=\"#000000\" stroke-width=\"0\" cx=\"100.7137\" cy=\"-25.4558\" rx=\"100.9278\" ry=\"25.4118\"/>\n",
       "<text text-anchor=\"middle\" x=\"100.7137\" y=\"-28.2558\" font-family=\"Times,serif\" font-size=\"14.00\" fill=\"#000000\">Code (2)</text>\n",
       "<text text-anchor=\"middle\" x=\"100.7137\" y=\"-14.2558\" font-family=\"Times,serif\" font-size=\"14.00\" fill=\"#000000\">mock_gulp@localhost</text>\n",
       "</g>\n",
       "<!-- N2&#45;&gt;N10 -->\n",
       "<g id=\"edge4\" class=\"edge\">\n",
       "<title>N2&#45;&gt;N10</title>\n",
       "<path fill=\"none\" stroke=\"#000000\" d=\"M186.9872,-38.6696C224.1032,-45.9277 267.4874,-56.5549 304.986,-71.4558 322.6408,-78.4714 340.8549,-88.4543 356.62,-98.1101\"/>\n",
       "<polygon fill=\"#000000\" stroke=\"#000000\" points=\"354.7733,-101.0833 365.1072,-103.4199 358.4859,-95.1489 354.7733,-101.0833\"/>\n",
       "<text text-anchor=\"middle\" x=\"262.2067\" y=\"-88.2558\" font-family=\"Times,serif\" font-size=\"14.00\" fill=\"#000000\">INPUT_CALC</text>\n",
       "<text text-anchor=\"middle\" x=\"262.2067\" y=\"-74.2558\" font-family=\"Times,serif\" font-size=\"14.00\" fill=\"#000000\">code</text>\n",
       "</g>\n",
       "</g>\n",
       "</svg>\n"
      ],
      "text/plain": [
       "<graphviz.dot.Digraph at 0x118bfb390>"
      ]
     },
     "execution_count": 25,
     "metadata": {},
     "output_type": "execute_result"
    }
   ],
   "source": [
    "graph = Graph(graph_attr={'size': \"6,8!\", \"rankdir\": \"LR\"})\n",
    "graph.add_node(calcnode_opt)\n",
    "graph.add_incoming(calcnode_opt, annotate_links=\"both\")\n",
    "graph.add_outgoing(calcnode_opt, annotate_links=\"both\")\n",
    "graph.graphviz"
   ]
  },
  {
   "cell_type": "code",
   "execution_count": 26,
   "metadata": {},
   "outputs": [
    {
     "data": {
      "text/markdown": [
       "```json\n",
       "{\n",
       "  \"errors\": [],\n",
       "  \"opt_type\": \"bulk\",\n",
       "  \"warnings\": [],\n",
       "  \"energy_units\": \"eV\",\n",
       "  \"final_energy\": -17.47113113,\n",
       "  \"gulp_version\": \"4.5.3\",\n",
       "  \"parser_class\": \"GulpOptParser\",\n",
       "  \"opt_succeeded\": true,\n",
       "  \"parser_errors\": [],\n",
       "  \"initial_energy\": -0.32809466,\n",
       "  \"parser_version\": \"0.10.0b5\",\n",
       "  \"opt_time_second\": 0.3676,\n",
       "  \"parser_warnings\": [],\n",
       "  \"total_time_second\": 0.3677,\n",
       "  \"final_primitive_energy\": -17.47113113,\n",
       "  \"peak_dynamic_memory_mb\": 0.54,\n",
       "  \"initial_primitive_energy\": -0.32809466\n",
       "}\n",
       "```"
      ]
     },
     "metadata": {},
     "output_type": "display_data"
    }
   ],
   "source": [
    "display_json(calcnode_opt.outputs.results.attributes)"
   ]
  }
 ],
 "metadata": {
  "celltoolbar": "Tags",
  "hide_input": false,
  "kernelspec": {
   "display_name": "Python 3",
   "language": "python",
   "name": "python3"
  },
  "language_info": {
   "codemirror_mode": {
    "name": "ipython",
    "version": 3
   },
   "file_extension": ".py",
   "mimetype": "text/x-python",
   "name": "python",
   "nbconvert_exporter": "python",
   "pygments_lexer": "ipython3",
   "version": "3.6.7"
  },
  "toc": {
   "base_numbering": 1,
   "nav_menu": {},
   "number_sections": true,
   "sideBar": true,
   "skip_h1_title": false,
   "title_cell": "Table of Contents",
   "title_sidebar": "Contents",
   "toc_cell": false,
   "toc_position": {},
   "toc_section_display": true,
   "toc_window_display": false
  }
 },
 "nbformat": 4,
 "nbformat_minor": 2
}
